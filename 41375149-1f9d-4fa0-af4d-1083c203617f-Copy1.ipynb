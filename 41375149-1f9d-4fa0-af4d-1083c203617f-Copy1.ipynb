{
 "cells": [
  {
   "cell_type": "markdown",
   "metadata": {},
   "source": [
    "# Проект. Выбор локации для скважины"
   ]
  },
  {
   "cell_type": "markdown",
   "metadata": {},
   "source": [
    "# Описание проекта"
   ]
  },
  {
   "cell_type": "markdown",
   "metadata": {},
   "source": [
    "Допустим, вы работаете в добывающей компании «ГлавРосГосНефть». Нужно решить, где бурить новую скважину."
   ]
  },
  {
   "cell_type": "markdown",
   "metadata": {},
   "source": [
    "**Цель:**\n",
    "\n",
    "Вам предоставлены пробы нефти в трёх регионах. Характеристики для каждой скважины в регионе уже известны. \n",
    "\n",
    "- Постройте модель для определения региона, где добыча принесёт наибольшую прибыль. \n",
    "- Проанализируйте возможную прибыль и риски техникой Bootstrap."
   ]
  },
  {
   "cell_type": "markdown",
   "metadata": {},
   "source": [
    "**Шаги для выбора локации:**\n",
    "- В избранном регионе собирают характеристики для скважин: качество нефти и объём её запасов;\n",
    "- Строят модель для предсказания объёма запасов в новых скважинах;\n",
    "- Выбирают скважины с самыми высокими оценками значений;\n",
    "- Определяют регион с максимальной суммарной прибылью отобранных скважин."
   ]
  },
  {
   "cell_type": "markdown",
   "metadata": {},
   "source": [
    "**Описание данных:**\n",
    "\n",
    "Данные геологоразведки трёх регионов находятся в файлах: geo_data_0.csv, geo_data_1.csv, geo_data_2.csv\n",
    "\n",
    "- id — уникальный идентификатор скважины;\n",
    "- f0, f1, f2 — три признака точек (неважно, что они означают, но сами признаки значимы);\n",
    "- product — объём запасов в скважине (тыс. баррелей)."
   ]
  },
  {
   "cell_type": "markdown",
   "metadata": {},
   "source": [
    "**Условия задачи:**\n",
    "\n",
    "- Для обучения модели подходит только линейная регрессия (остальные — недостаточно предсказуемые).\n",
    "- При разведке региона исследуют 500 точек, из которых с помощью машинного обучения выбирают 200 лучших для разработки.\n",
    "- Бюджет на разработку скважин в регионе — 10 млрд рублей.\n",
    "- При нынешних ценах один баррель сырья приносит 450 рублей дохода. Доход с каждой единицы продукта составляет 450 тыс. рублей, поскольку объём указан в тысячах баррелей.\n",
    "- После оценки рисков нужно оставить лишь те регионы, в которых вероятность убытков меньше 2.5%. Среди них выбирают регион с наибольшей средней прибылью.\n",
    "- Данные синтетические: детали контрактов и характеристики месторождений не разглашаются."
   ]
  },
  {
   "cell_type": "markdown",
   "metadata": {},
   "source": [
    "## Загрузка и подготовка данных"
   ]
  },
  {
   "cell_type": "code",
   "execution_count": 1,
   "metadata": {},
   "outputs": [],
   "source": [
    "import pandas as pd\n",
    "import numpy as np\n",
    "import matplotlib.pyplot as plt\n",
    "import seaborn as sns\n",
    "from numpy.random import RandomState\n",
    "from scipy import stats\n",
    "from sklearn.model_selection import train_test_split\n",
    "from sklearn.linear_model import LinearRegression\n",
    "from sklearn.metrics import mean_squared_error"
   ]
  },
  {
   "cell_type": "markdown",
   "metadata": {},
   "source": [
    "Прочитаем данные из файла geo_data_0.csv методом read_csv и посмотрим, что они из себя представляют методами head() и info(). То же самое сделаем с файлами geo_data_1.csv и geo_data_2.csv"
   ]
  },
  {
   "cell_type": "code",
   "execution_count": 4,
   "metadata": {},
   "outputs": [],
   "source": [
    "geo_data_0 = pd.read_csv('/datasets/geo_data_0.csv')"
   ]
  },
  {
   "cell_type": "code",
   "execution_count": 5,
   "metadata": {},
   "outputs": [
    {
     "data": {
      "text/html": [
       "<div>\n",
       "<style scoped>\n",
       "    .dataframe tbody tr th:only-of-type {\n",
       "        vertical-align: middle;\n",
       "    }\n",
       "\n",
       "    .dataframe tbody tr th {\n",
       "        vertical-align: top;\n",
       "    }\n",
       "\n",
       "    .dataframe thead th {\n",
       "        text-align: right;\n",
       "    }\n",
       "</style>\n",
       "<table border=\"1\" class=\"dataframe\">\n",
       "  <thead>\n",
       "    <tr style=\"text-align: right;\">\n",
       "      <th></th>\n",
       "      <th>id</th>\n",
       "      <th>f0</th>\n",
       "      <th>f1</th>\n",
       "      <th>f2</th>\n",
       "      <th>product</th>\n",
       "    </tr>\n",
       "  </thead>\n",
       "  <tbody>\n",
       "    <tr>\n",
       "      <th>0</th>\n",
       "      <td>txEyH</td>\n",
       "      <td>0.705745</td>\n",
       "      <td>-0.497823</td>\n",
       "      <td>1.221170</td>\n",
       "      <td>105.280062</td>\n",
       "    </tr>\n",
       "    <tr>\n",
       "      <th>1</th>\n",
       "      <td>2acmU</td>\n",
       "      <td>1.334711</td>\n",
       "      <td>-0.340164</td>\n",
       "      <td>4.365080</td>\n",
       "      <td>73.037750</td>\n",
       "    </tr>\n",
       "    <tr>\n",
       "      <th>2</th>\n",
       "      <td>409Wp</td>\n",
       "      <td>1.022732</td>\n",
       "      <td>0.151990</td>\n",
       "      <td>1.419926</td>\n",
       "      <td>85.265647</td>\n",
       "    </tr>\n",
       "    <tr>\n",
       "      <th>3</th>\n",
       "      <td>iJLyR</td>\n",
       "      <td>-0.032172</td>\n",
       "      <td>0.139033</td>\n",
       "      <td>2.978566</td>\n",
       "      <td>168.620776</td>\n",
       "    </tr>\n",
       "    <tr>\n",
       "      <th>4</th>\n",
       "      <td>Xdl7t</td>\n",
       "      <td>1.988431</td>\n",
       "      <td>0.155413</td>\n",
       "      <td>4.751769</td>\n",
       "      <td>154.036647</td>\n",
       "    </tr>\n",
       "  </tbody>\n",
       "</table>\n",
       "</div>"
      ],
      "text/plain": [
       "      id        f0        f1        f2     product\n",
       "0  txEyH  0.705745 -0.497823  1.221170  105.280062\n",
       "1  2acmU  1.334711 -0.340164  4.365080   73.037750\n",
       "2  409Wp  1.022732  0.151990  1.419926   85.265647\n",
       "3  iJLyR -0.032172  0.139033  2.978566  168.620776\n",
       "4  Xdl7t  1.988431  0.155413  4.751769  154.036647"
      ]
     },
     "metadata": {},
     "output_type": "display_data"
    },
    {
     "name": "stdout",
     "output_type": "stream",
     "text": [
      "<class 'pandas.core.frame.DataFrame'>\n",
      "RangeIndex: 100000 entries, 0 to 99999\n",
      "Data columns (total 5 columns):\n",
      " #   Column   Non-Null Count   Dtype  \n",
      "---  ------   --------------   -----  \n",
      " 0   id       100000 non-null  object \n",
      " 1   f0       100000 non-null  float64\n",
      " 2   f1       100000 non-null  float64\n",
      " 3   f2       100000 non-null  float64\n",
      " 4   product  100000 non-null  float64\n",
      "dtypes: float64(4), object(1)\n",
      "memory usage: 3.8+ MB\n"
     ]
    },
    {
     "data": {
      "text/plain": [
       "None"
      ]
     },
     "metadata": {},
     "output_type": "display_data"
    }
   ],
   "source": [
    "display(geo_data_0.head())\n",
    "display(geo_data_0.info())"
   ]
  },
  {
   "cell_type": "code",
   "execution_count": 1107,
   "metadata": {},
   "outputs": [],
   "source": [
    "geo_data_1 = pd.read_csv('/datasets/geo_data_1.csv')"
   ]
  },
  {
   "cell_type": "code",
   "execution_count": 1108,
   "metadata": {},
   "outputs": [
    {
     "data": {
      "text/html": [
       "<div>\n",
       "<style scoped>\n",
       "    .dataframe tbody tr th:only-of-type {\n",
       "        vertical-align: middle;\n",
       "    }\n",
       "\n",
       "    .dataframe tbody tr th {\n",
       "        vertical-align: top;\n",
       "    }\n",
       "\n",
       "    .dataframe thead th {\n",
       "        text-align: right;\n",
       "    }\n",
       "</style>\n",
       "<table border=\"1\" class=\"dataframe\">\n",
       "  <thead>\n",
       "    <tr style=\"text-align: right;\">\n",
       "      <th></th>\n",
       "      <th>id</th>\n",
       "      <th>f0</th>\n",
       "      <th>f1</th>\n",
       "      <th>f2</th>\n",
       "      <th>product</th>\n",
       "    </tr>\n",
       "  </thead>\n",
       "  <tbody>\n",
       "    <tr>\n",
       "      <th>0</th>\n",
       "      <td>kBEdx</td>\n",
       "      <td>-15.001348</td>\n",
       "      <td>-8.276000</td>\n",
       "      <td>-0.005876</td>\n",
       "      <td>3.179103</td>\n",
       "    </tr>\n",
       "    <tr>\n",
       "      <th>1</th>\n",
       "      <td>62mP7</td>\n",
       "      <td>14.272088</td>\n",
       "      <td>-3.475083</td>\n",
       "      <td>0.999183</td>\n",
       "      <td>26.953261</td>\n",
       "    </tr>\n",
       "    <tr>\n",
       "      <th>2</th>\n",
       "      <td>vyE1P</td>\n",
       "      <td>6.263187</td>\n",
       "      <td>-5.948386</td>\n",
       "      <td>5.001160</td>\n",
       "      <td>134.766305</td>\n",
       "    </tr>\n",
       "    <tr>\n",
       "      <th>3</th>\n",
       "      <td>KcrkZ</td>\n",
       "      <td>-13.081196</td>\n",
       "      <td>-11.506057</td>\n",
       "      <td>4.999415</td>\n",
       "      <td>137.945408</td>\n",
       "    </tr>\n",
       "    <tr>\n",
       "      <th>4</th>\n",
       "      <td>AHL4O</td>\n",
       "      <td>12.702195</td>\n",
       "      <td>-8.147433</td>\n",
       "      <td>5.004363</td>\n",
       "      <td>134.766305</td>\n",
       "    </tr>\n",
       "  </tbody>\n",
       "</table>\n",
       "</div>"
      ],
      "text/plain": [
       "      id         f0         f1        f2     product\n",
       "0  kBEdx -15.001348  -8.276000 -0.005876    3.179103\n",
       "1  62mP7  14.272088  -3.475083  0.999183   26.953261\n",
       "2  vyE1P   6.263187  -5.948386  5.001160  134.766305\n",
       "3  KcrkZ -13.081196 -11.506057  4.999415  137.945408\n",
       "4  AHL4O  12.702195  -8.147433  5.004363  134.766305"
      ]
     },
     "metadata": {},
     "output_type": "display_data"
    },
    {
     "name": "stdout",
     "output_type": "stream",
     "text": [
      "<class 'pandas.core.frame.DataFrame'>\n",
      "RangeIndex: 100000 entries, 0 to 99999\n",
      "Data columns (total 5 columns):\n",
      " #   Column   Non-Null Count   Dtype  \n",
      "---  ------   --------------   -----  \n",
      " 0   id       100000 non-null  object \n",
      " 1   f0       100000 non-null  float64\n",
      " 2   f1       100000 non-null  float64\n",
      " 3   f2       100000 non-null  float64\n",
      " 4   product  100000 non-null  float64\n",
      "dtypes: float64(4), object(1)\n",
      "memory usage: 3.8+ MB\n"
     ]
    },
    {
     "data": {
      "text/plain": [
       "None"
      ]
     },
     "metadata": {},
     "output_type": "display_data"
    }
   ],
   "source": [
    "display(geo_data_1.head(5))\n",
    "display(geo_data_1.info())"
   ]
  },
  {
   "cell_type": "code",
   "execution_count": 1109,
   "metadata": {},
   "outputs": [],
   "source": [
    "geo_data_2 = pd.read_csv('/datasets/geo_data_2.csv')"
   ]
  },
  {
   "cell_type": "code",
   "execution_count": 1110,
   "metadata": {},
   "outputs": [
    {
     "data": {
      "text/html": [
       "<div>\n",
       "<style scoped>\n",
       "    .dataframe tbody tr th:only-of-type {\n",
       "        vertical-align: middle;\n",
       "    }\n",
       "\n",
       "    .dataframe tbody tr th {\n",
       "        vertical-align: top;\n",
       "    }\n",
       "\n",
       "    .dataframe thead th {\n",
       "        text-align: right;\n",
       "    }\n",
       "</style>\n",
       "<table border=\"1\" class=\"dataframe\">\n",
       "  <thead>\n",
       "    <tr style=\"text-align: right;\">\n",
       "      <th></th>\n",
       "      <th>id</th>\n",
       "      <th>f0</th>\n",
       "      <th>f1</th>\n",
       "      <th>f2</th>\n",
       "      <th>product</th>\n",
       "    </tr>\n",
       "  </thead>\n",
       "  <tbody>\n",
       "    <tr>\n",
       "      <th>0</th>\n",
       "      <td>fwXo0</td>\n",
       "      <td>-1.146987</td>\n",
       "      <td>0.963328</td>\n",
       "      <td>-0.828965</td>\n",
       "      <td>27.758673</td>\n",
       "    </tr>\n",
       "    <tr>\n",
       "      <th>1</th>\n",
       "      <td>WJtFt</td>\n",
       "      <td>0.262778</td>\n",
       "      <td>0.269839</td>\n",
       "      <td>-2.530187</td>\n",
       "      <td>56.069697</td>\n",
       "    </tr>\n",
       "    <tr>\n",
       "      <th>2</th>\n",
       "      <td>ovLUW</td>\n",
       "      <td>0.194587</td>\n",
       "      <td>0.289035</td>\n",
       "      <td>-5.586433</td>\n",
       "      <td>62.871910</td>\n",
       "    </tr>\n",
       "    <tr>\n",
       "      <th>3</th>\n",
       "      <td>q6cA6</td>\n",
       "      <td>2.236060</td>\n",
       "      <td>-0.553760</td>\n",
       "      <td>0.930038</td>\n",
       "      <td>114.572842</td>\n",
       "    </tr>\n",
       "    <tr>\n",
       "      <th>4</th>\n",
       "      <td>WPMUX</td>\n",
       "      <td>-0.515993</td>\n",
       "      <td>1.716266</td>\n",
       "      <td>5.899011</td>\n",
       "      <td>149.600746</td>\n",
       "    </tr>\n",
       "  </tbody>\n",
       "</table>\n",
       "</div>"
      ],
      "text/plain": [
       "      id        f0        f1        f2     product\n",
       "0  fwXo0 -1.146987  0.963328 -0.828965   27.758673\n",
       "1  WJtFt  0.262778  0.269839 -2.530187   56.069697\n",
       "2  ovLUW  0.194587  0.289035 -5.586433   62.871910\n",
       "3  q6cA6  2.236060 -0.553760  0.930038  114.572842\n",
       "4  WPMUX -0.515993  1.716266  5.899011  149.600746"
      ]
     },
     "metadata": {},
     "output_type": "display_data"
    },
    {
     "name": "stdout",
     "output_type": "stream",
     "text": [
      "<class 'pandas.core.frame.DataFrame'>\n",
      "RangeIndex: 100000 entries, 0 to 99999\n",
      "Data columns (total 5 columns):\n",
      " #   Column   Non-Null Count   Dtype  \n",
      "---  ------   --------------   -----  \n",
      " 0   id       100000 non-null  object \n",
      " 1   f0       100000 non-null  float64\n",
      " 2   f1       100000 non-null  float64\n",
      " 3   f2       100000 non-null  float64\n",
      " 4   product  100000 non-null  float64\n",
      "dtypes: float64(4), object(1)\n",
      "memory usage: 3.8+ MB\n"
     ]
    },
    {
     "data": {
      "text/plain": [
       "None"
      ]
     },
     "metadata": {},
     "output_type": "display_data"
    }
   ],
   "source": [
    "display(geo_data_2.head(5))\n",
    "display(geo_data_2.info())"
   ]
  },
  {
   "cell_type": "markdown",
   "metadata": {},
   "source": [
    "Проверим датасеты на наличие дубликатов методом duplicated()"
   ]
  },
  {
   "cell_type": "code",
   "execution_count": 1111,
   "metadata": {},
   "outputs": [
    {
     "name": "stdout",
     "output_type": "stream",
     "text": [
      "0 0 0\n"
     ]
    }
   ],
   "source": [
    "print(geo_data_0.duplicated().sum(), geo_data_1.duplicated().sum(), geo_data_2.duplicated().sum())"
   ]
  },
  {
   "cell_type": "markdown",
   "metadata": {},
   "source": [
    "**Вывод**\n",
    "\n",
    "Видим, что пропусков нет, типы данных соответствуют, дубликатов нет."
   ]
  },
  {
   "cell_type": "markdown",
   "metadata": {},
   "source": [
    "В дальнейшем нам будет необходимо понимать, как распределены данные, поэтому отобразим числовые признаки на гистограмме и ящике с усами. Для этого напишем функцию, которая принимает на вход датасет, описание данных и количество  корзин."
   ]
  },
  {
   "cell_type": "code",
   "execution_count": 1112,
   "metadata": {},
   "outputs": [],
   "source": [
    "def graphics(data, data_label, num_bins, log_scale=False):\n",
    "    sns.set_theme()\n",
    "    f, ax = plt.subplots(1, 2, figsize=(16, 4))\n",
    "    ax[0].set_title(data_label + \"Плотность\", fontsize=18)\n",
    "    sns.distplot(data, bins=num_bins, ax=ax[0])\n",
    "    ax[1].set_title(data_label + \"Boxplot\", fontsize=18)\n",
    "    sns.boxplot(data=data, ax=ax[1])\n",
    "    plt.show()"
   ]
  },
  {
   "cell_type": "markdown",
   "metadata": {},
   "source": [
    "Выделим числовые признаки, для которых будем отображать гистограммы и ящики с усами, в отдельный список"
   ]
  },
  {
   "cell_type": "code",
   "execution_count": 1113,
   "metadata": {},
   "outputs": [],
   "source": [
    "numerics = ['f0', 'f1', 'f2', 'product']"
   ]
  },
  {
   "cell_type": "markdown",
   "metadata": {},
   "source": [
    "Функцией graphics выведем данные из первого датасета (для первого региона). То же сделаем и с двумя другими"
   ]
  },
  {
   "cell_type": "code",
   "execution_count": 1114,
   "metadata": {},
   "outputs": [
    {
     "name": "stderr",
     "output_type": "stream",
     "text": [
      "/opt/conda/lib/python3.9/site-packages/seaborn/distributions.py:2557: FutureWarning: `distplot` is a deprecated function and will be removed in a future version. Please adapt your code to use either `displot` (a figure-level function with similar flexibility) or `histplot` (an axes-level function for histograms).\n",
      "  warnings.warn(msg, FutureWarning)\n"
     ]
    },
    {
     "data": {
      "image/png": "[encoded data removed]",
      "text/plain": [
       "<Figure size 1152x288 with 2 Axes>"
      ]
     },
     "metadata": {},
     "output_type": "display_data"
    },
    {
     "name": "stderr",
     "output_type": "stream",
     "text": [
      "/opt/conda/lib/python3.9/site-packages/seaborn/distributions.py:2557: FutureWarning: `distplot` is a deprecated function and will be removed in a future version. Please adapt your code to use either `displot` (a figure-level function with similar flexibility) or `histplot` (an axes-level function for histograms).\n",
      "  warnings.warn(msg, FutureWarning)\n"
     ]
    },
    {
     "data": {
      "image/png": "[encoded data removed]",
      "text/plain": [
       "<Figure size 1152x288 with 2 Axes>"
      ]
     },
     "metadata": {},
     "output_type": "display_data"
    },
    {
     "name": "stderr",
     "output_type": "stream",
     "text": [
      "/opt/conda/lib/python3.9/site-packages/seaborn/distributions.py:2557: FutureWarning: `distplot` is a deprecated function and will be removed in a future version. Please adapt your code to use either `displot` (a figure-level function with similar flexibility) or `histplot` (an axes-level function for histograms).\n",
      "  warnings.warn(msg, FutureWarning)\n"
     ]
    },
    {
     "data": {
      "image/png": "[encoded data removed]",
      "text/plain": [
       "<Figure size 1152x288 with 2 Axes>"
      ]
     },
     "metadata": {},
     "output_type": "display_data"
    },
    {
     "name": "stderr",
     "output_type": "stream",
     "text": [
      "/opt/conda/lib/python3.9/site-packages/seaborn/distributions.py:2557: FutureWarning: `distplot` is a deprecated function and will be removed in a future version. Please adapt your code to use either `displot` (a figure-level function with similar flexibility) or `histplot` (an axes-level function for histograms).\n",
      "  warnings.warn(msg, FutureWarning)\n"
     ]
    },
    {
     "data": {
      "image/png": "[encoded data removed]",
      "text/plain": [
       "<Figure size 1152x288 with 2 Axes>"
      ]
     },
     "metadata": {},
     "output_type": "display_data"
    }
   ],
   "source": [
    "for i in numerics:\n",
    "    graphics(geo_data_0[i], i + ', ', 30)"
   ]
  },
  {
   "cell_type": "markdown",
   "metadata": {},
   "source": [
    "Отобразим также данные и по второму региону."
   ]
  },
  {
   "cell_type": "code",
   "execution_count": 1115,
   "metadata": {},
   "outputs": [
    {
     "name": "stderr",
     "output_type": "stream",
     "text": [
      "/opt/conda/lib/python3.9/site-packages/seaborn/distributions.py:2557: FutureWarning: `distplot` is a deprecated function and will be removed in a future version. Please adapt your code to use either `displot` (a figure-level function with similar flexibility) or `histplot` (an axes-level function for histograms).\n",
      "  warnings.warn(msg, FutureWarning)\n"
     ]
    },
    {
     "data": {
      "image/png": "[encoded data removed]",
      "text/plain": [
       "<Figure size 1152x288 with 2 Axes>"
      ]
     },
     "metadata": {},
     "output_type": "display_data"
    },
    {
     "name": "stderr",
     "output_type": "stream",
     "text": [
      "/opt/conda/lib/python3.9/site-packages/seaborn/distributions.py:2557: FutureWarning: `distplot` is a deprecated function and will be removed in a future version. Please adapt your code to use either `displot` (a figure-level function with similar flexibility) or `histplot` (an axes-level function for histograms).\n",
      "  warnings.warn(msg, FutureWarning)\n"
     ]
    },
    {
     "data": {
      "image/png": "[encoded data removed]",
      "text/plain": [
       "<Figure size 1152x288 with 2 Axes>"
      ]
     },
     "metadata": {},
     "output_type": "display_data"
    },
    {
     "name": "stderr",
     "output_type": "stream",
     "text": [
      "/opt/conda/lib/python3.9/site-packages/seaborn/distributions.py:2557: FutureWarning: `distplot` is a deprecated function and will be removed in a future version. Please adapt your code to use either `displot` (a figure-level function with similar flexibility) or `histplot` (an axes-level function for histograms).\n",
      "  warnings.warn(msg, FutureWarning)\n"
     ]
    },
    {
     "data": {
      "image/png": "[encoded data removed]",
      "text/plain": [
       "<Figure size 1152x288 with 2 Axes>"
      ]
     },
     "metadata": {},
     "output_type": "display_data"
    },
    {
     "name": "stderr",
     "output_type": "stream",
     "text": [
      "/opt/conda/lib/python3.9/site-packages/seaborn/distributions.py:2557: FutureWarning: `distplot` is a deprecated function and will be removed in a future version. Please adapt your code to use either `displot` (a figure-level function with similar flexibility) or `histplot` (an axes-level function for histograms).\n",
      "  warnings.warn(msg, FutureWarning)\n"
     ]
    },
    {
     "data": {
      "image/png": "[encoded data removed]",
      "text/plain": [
       "<Figure size 1152x288 with 2 Axes>"
      ]
     },
     "metadata": {},
     "output_type": "display_data"
    }
   ],
   "source": [
    "for i in numerics:\n",
    "    graphics(geo_data_1[i], i + ', ', 30)"
   ]
  },
  {
   "cell_type": "markdown",
   "metadata": {},
   "source": [
    "И по третьему"
   ]
  },
  {
   "cell_type": "code",
   "execution_count": 1116,
   "metadata": {},
   "outputs": [
    {
     "name": "stderr",
     "output_type": "stream",
     "text": [
      "/opt/conda/lib/python3.9/site-packages/seaborn/distributions.py:2557: FutureWarning: `distplot` is a deprecated function and will be removed in a future version. Please adapt your code to use either `displot` (a figure-level function with similar flexibility) or `histplot` (an axes-level function for histograms).\n",
      "  warnings.warn(msg, FutureWarning)\n"
     ]
    },
    {
     "data": {
      "image/png": "[encoded data removed]",
      "text/plain": [
       "<Figure size 1152x288 with 2 Axes>"
      ]
     },
     "metadata": {},
     "output_type": "display_data"
    },
    {
     "name": "stderr",
     "output_type": "stream",
     "text": [
      "/opt/conda/lib/python3.9/site-packages/seaborn/distributions.py:2557: FutureWarning: `distplot` is a deprecated function and will be removed in a future version. Please adapt your code to use either `displot` (a figure-level function with similar flexibility) or `histplot` (an axes-level function for histograms).\n",
      "  warnings.warn(msg, FutureWarning)\n"
     ]
    },
    {
     "data": {
      "image/png": "[encoded data removed]",
      "text/plain": [
       "<Figure size 1152x288 with 2 Axes>"
      ]
     },
     "metadata": {},
     "output_type": "display_data"
    },
    {
     "name": "stderr",
     "output_type": "stream",
     "text": [
      "/opt/conda/lib/python3.9/site-packages/seaborn/distributions.py:2557: FutureWarning: `distplot` is a deprecated function and will be removed in a future version. Please adapt your code to use either `displot` (a figure-level function with similar flexibility) or `histplot` (an axes-level function for histograms).\n",
      "  warnings.warn(msg, FutureWarning)\n"
     ]
    },
    {
     "data": {
      "image/png": "[encoded data removed]",
      "text/plain": [
       "<Figure size 1152x288 with 2 Axes>"
      ]
     },
     "metadata": {},
     "output_type": "display_data"
    },
    {
     "name": "stderr",
     "output_type": "stream",
     "text": [
      "/opt/conda/lib/python3.9/site-packages/seaborn/distributions.py:2557: FutureWarning: `distplot` is a deprecated function and will be removed in a future version. Please adapt your code to use either `displot` (a figure-level function with similar flexibility) or `histplot` (an axes-level function for histograms).\n",
      "  warnings.warn(msg, FutureWarning)\n"
     ]
    },
    {
     "data": {
      "image/png": "[encoded data removed]",
      "text/plain": [
       "<Figure size 1152x288 with 2 Axes>"
      ]
     },
     "metadata": {},
     "output_type": "display_data"
    }
   ],
   "source": [
    "for i in numerics:\n",
    "    graphics(geo_data_2[i], i + ', ', 30)"
   ]
  },
  {
   "cell_type": "markdown",
   "metadata": {},
   "source": [
    "**Вывод**"
   ]
  },
  {
   "cell_type": "markdown",
   "metadata": {},
   "source": [
    "- Не все признаки распределены нормально. Также присутствуют небольшие выбросы. Так как неизвестно, что означают сами признаки, сложно оценить адекватность распределений и выбросов. Однако мы знаем, что все признаки значимые.\n",
    "- Масштабы распределений признаков f0, f1, f2 не сильно отличаются друг от друга. Нет необходимости применять масштабирование.\n",
    "- На данном этапе оставим данные как есть."
   ]
  },
  {
   "cell_type": "markdown",
   "metadata": {},
   "source": [
    "Разделим данные на признаки и целевой признак.\n",
    "\n",
    "Для этого выделим наименования признаков и целевого признака в отдельные списки, т.к. у нас несколько датасетов, и будет удобнее работать сразу со всеми."
   ]
  },
  {
   "cell_type": "code",
   "execution_count": 1117,
   "metadata": {},
   "outputs": [],
   "source": [
    "feature_names = ['f0', 'f1', 'f2']\n",
    "target_name = ['product']\n",
    "X_0 = geo_data_0[feature_names]\n",
    "y_0 = geo_data_0[target_name]\n",
    "X_1 = geo_data_1[feature_names]\n",
    "y_1 = geo_data_1[target_name]\n",
    "X_2 = geo_data_2[feature_names]\n",
    "y_2 = geo_data_2[target_name]"
   ]
  },
  {
   "cell_type": "markdown",
   "metadata": {},
   "source": [
    "**Выводы по главе:**\n",
    "\n",
    "- Данные успешно загружены и проанализированы. Данные соответствуют описанию. Пропусков и дубликатов нет. Типы данных соответствуют.\n",
    "- Не у всех признаков распределение нормальное. Также присутствуют небольшие выбросы. Данные оставлены без изменений."
   ]
  },
  {
   "cell_type": "markdown",
   "metadata": {},
   "source": [
    "## Обучение и проверка модели"
   ]
  },
  {
   "cell_type": "markdown",
   "metadata": {},
   "source": [
    "Для каждого региона:\n",
    "\n",
    "- Разделим данные на обучающую и валидационную выборки\n",
    "- Используем модель линейной регрессии по техническому заданию.\n",
    "- Выведем средний запас предсказанного сырья и RMSE модели."
   ]
  },
  {
   "cell_type": "markdown",
   "metadata": {},
   "source": [
    "Как уже было отмечено выше, в данном проекте проще работать через функции, т.к. у нас 3 датасета, поэтому напишем функцию, чтобы разделить исходные данные на обучающую и валидационную выборки (75/25), обучить модель линейной регрессии, сделать предсказания на валидационной выборке, посчитать и вывести на экран среднее значение предсказаний и RMSE модели."
   ]
  },
  {
   "cell_type": "code",
   "execution_count": 1118,
   "metadata": {},
   "outputs": [],
   "source": [
    "def model_fit(X, y):\n",
    "\n",
    "    X_train, X_valid, y_train, y_valid = train_test_split(X, y, test_size=0.25, random_state=12345)\n",
    "    model = LinearRegression()\n",
    "    model.fit(X_train, y_train)\n",
    "    predict = model.predict(X_valid)\n",
    "    predict_mean = predict.mean()\n",
    "    rmse = mean_squared_error(y_valid, predict) ** 0.5\n",
    "\n",
    "    print('Cредний запас предсказанного сырья:', predict_mean)\n",
    "    print('RMSE:', rmse)\n",
    "    \n",
    "    return y_valid, predict"
   ]
  },
  {
   "cell_type": "markdown",
   "metadata": {},
   "source": [
    "Сделаем разделение выборок и расчеты для первого региона"
   ]
  },
  {
   "cell_type": "code",
   "execution_count": 1119,
   "metadata": {},
   "outputs": [
    {
     "name": "stdout",
     "output_type": "stream",
     "text": [
      "Cредний запас предсказанного сырья: 92.59256778438035\n",
      "RMSE: 37.5794217150813\n"
     ]
    }
   ],
   "source": [
    "y_0_valid, predict_0 = model_fit(X_0, y_0)"
   ]
  },
  {
   "cell_type": "markdown",
   "metadata": {},
   "source": [
    "Сделаем разделение выборок и расчеты для второго региона"
   ]
  },
  {
   "cell_type": "code",
   "execution_count": 1120,
   "metadata": {},
   "outputs": [
    {
     "name": "stdout",
     "output_type": "stream",
     "text": [
      "Cредний запас предсказанного сырья: 68.728546895446\n",
      "RMSE: 0.893099286775617\n"
     ]
    }
   ],
   "source": [
    "y_1_valid, predict_1 = model_fit(X_1, y_1)"
   ]
  },
  {
   "cell_type": "markdown",
   "metadata": {},
   "source": [
    "Сделаем разделение выборок и расчеты для третьего региона"
   ]
  },
  {
   "cell_type": "code",
   "execution_count": 1121,
   "metadata": {},
   "outputs": [
    {
     "name": "stdout",
     "output_type": "stream",
     "text": [
      "Cредний запас предсказанного сырья: 94.96504596800489\n",
      "RMSE: 40.02970873393434\n"
     ]
    }
   ],
   "source": [
    "y_2_valid, predict_2 = model_fit(X_2, y_2)"
   ]
  },
  {
   "cell_type": "markdown",
   "metadata": {},
   "source": [
    "**Выводы:**\n",
    "\n",
    "- В регионах 1 и 3 достаточно высокий средний показатель запаса предсказанного сырья (92.6 и 95 соответственно). Однако RMSE для данных регионов также высок (37.6 и 40 соответственно). Это свидетельствует о неоднозначности показателя, неточности модели регрессии.\n",
    "- В регионе 2 средний показатель запаса предсказанного сырья составляет 68.7 (ниже остальных регионов). Однако RMSE в данном регионе также мал (0.9). Это говорит о точности предсказаний и качестве построенной модели."
   ]
  },
  {
   "cell_type": "markdown",
   "metadata": {},
   "source": [
    "## Подготовка к расчёту прибыли"
   ]
  },
  {
   "cell_type": "markdown",
   "metadata": {},
   "source": [
    "Рассчитаем достаточный объём сырья для безубыточной разработки новой скважины и сравним полученный объём сырья со средним запасом в каждом регионе."
   ]
  },
  {
   "cell_type": "markdown",
   "metadata": {},
   "source": [
    "- При разведке региона исследуют 500 точек, из которых с помощью машинного обучения выбирают 200 лучших для разработки.\n",
    "- Бюджет на разработку скважин в регионе — 10 млрд рублей.\n",
    "- При нынешних ценах один баррель сырья приносит 450 рублей дохода. Доход с каждой единицы продукта составляет 450 тыс. рублей, поскольку объём указан в тысячах баррелей."
   ]
  },
  {
   "cell_type": "code",
   "execution_count": 1122,
   "metadata": {},
   "outputs": [],
   "source": [
    "budget = 10_000_000_000\n",
    "best_wells = 200\n",
    "sample_wells = 500\n",
    "well_income = 450_000"
   ]
  },
  {
   "cell_type": "code",
   "execution_count": 1123,
   "metadata": {},
   "outputs": [
    {
     "name": "stdout",
     "output_type": "stream",
     "text": [
      "Минимальный объём нефти с одной скважины для достижения безубыточности: 111.1\n"
     ]
    }
   ],
   "source": [
    "min_volume = budget / (best_wells * well_income)\n",
    "print('Минимальный объём нефти с одной скважины для достижения безубыточности:', round(min_volume, 1))"
   ]
  },
  {
   "cell_type": "markdown",
   "metadata": {},
   "source": [
    "**Выводы:**\n",
    "\n",
    "Минимальный объём нефти с одной скважины для достижения безубыточности 111.1. Данный показатель рассчитан при условии выбора 200 лучших скважин из 500 в выборке.\n",
    "Данное значение превышает средние значения запасов скважин по всем регионам, однако на данном этапе нас это не пугает, т.к. мы смотрели средние значения по всем скважинам, а в итоге нам нужно будет выбрать 200 лучших. После того, как определим 200 лучших скважин, можно будет посмотреть на их среднее и уже сравнивать с порогом безубыточности. За идею спасибо Алексею Гриб и Алану Кабисову."
   ]
  },
  {
   "cell_type": "markdown",
   "metadata": {},
   "source": [
    "## Расчёт прибыли и рисков "
   ]
  },
  {
   "cell_type": "markdown",
   "metadata": {},
   "source": [
    "### Расчёт прибыли"
   ]
  },
  {
   "cell_type": "markdown",
   "metadata": {},
   "source": [
    "Напишем функцию для расчёта прибыли по выбранным скважинам и предсказаниям модели:\n",
    "\n",
    "- Выберем скважины с максимальными значениями предсказаний. Количество скважин зависит от бюджета компании и стоимости разработки одной скважины. В нашем случае выберем случайно 500 точек и отберём 200 с максимальным показателем объёма сырья\n",
    "- Просуммируем целевое значение объёма сырья, соответствующее этим предсказаниям.\n",
    "- Рассчитаем прибыль для полученного объёма сырья."
   ]
  },
  {
   "cell_type": "markdown",
   "metadata": {},
   "source": [
    "Для того, чтобы метод .sample сработал, нам необходимо привести данные к типу Series. Спасибо Алану Кабисову за подсказку сбросить индексы"
   ]
  },
  {
   "cell_type": "code",
   "execution_count": 1124,
   "metadata": {},
   "outputs": [],
   "source": [
    "y_0_valid = pd.Series(y_0_valid['product']).reset_index(drop=True)\n",
    "y_1_valid = pd.Series(y_1_valid['product']).reset_index(drop=True)\n",
    "y_2_valid = pd.Series(y_2_valid['product']).reset_index(drop=True)"
   ]
  },
  {
   "cell_type": "code",
   "execution_count": 1125,
   "metadata": {},
   "outputs": [],
   "source": [
    "predict_0 = pd.Series(*predict_0.reshape(1,-1))\n",
    "predict_1 = pd.Series(*predict_1.reshape(1,-1))\n",
    "predict_2 = pd.Series(*predict_2.reshape(1,-1))"
   ]
  },
  {
   "cell_type": "code",
   "execution_count": 1126,
   "metadata": {},
   "outputs": [],
   "source": [
    "state = 12345\n",
    "def income_pred(target, predicts, state):\n",
    "    \n",
    "    sample_predictions = predicts.sample(n=sample_wells,\n",
    "                                         replace=True,\n",
    "                                         random_state=state)\n",
    "    best_predictions = sample_predictions.sort_values(ascending=False)[:best_wells]\n",
    "    best_targets = target[best_predictions.index]\n",
    "    best_wells_volume_mean = best_targets.mean()\n",
    "    volume = sum(best_targets)\n",
    "    income = volume * well_income - budget\n",
    "    return round(income, 2)"
   ]
  },
  {
   "cell_type": "code",
   "execution_count": 1127,
   "metadata": {},
   "outputs": [
    {
     "name": "stdout",
     "output_type": "stream",
     "text": [
      "Прибыль для полученного объёма сырья в Регионе 1: 605464074.57\n"
     ]
    }
   ],
   "source": [
    "print('Прибыль для полученного объёма сырья в Регионе 1:', income_pred(y_0_valid, predict_0, state))"
   ]
  },
  {
   "cell_type": "code",
   "execution_count": 1128,
   "metadata": {},
   "outputs": [
    {
     "name": "stdout",
     "output_type": "stream",
     "text": [
      "Прибыль для полученного объёма сырья в Регионе 2: 228016163.47\n"
     ]
    }
   ],
   "source": [
    "print('Прибыль для полученного объёма сырья в Регионе 2:', income_pred(y_1_valid, predict_1, state))"
   ]
  },
  {
   "cell_type": "code",
   "execution_count": 1129,
   "metadata": {},
   "outputs": [
    {
     "name": "stdout",
     "output_type": "stream",
     "text": [
      "Прибыль для полученного объёма сырья в Регионе 3: -71899228.24\n"
     ]
    }
   ],
   "source": [
    "print('Прибыль для полученного объёма сырья в Регионе 3:', income_pred(y_2_valid, predict_2, state))"
   ]
  },
  {
   "cell_type": "markdown",
   "metadata": {},
   "source": [
    "### Расчёт рисков"
   ]
  },
  {
   "cell_type": "markdown",
   "metadata": {},
   "source": [
    "Применим технику Bootstrap с 1000 выборок, чтобы найти распределение прибыли.\n",
    "Найдём среднюю прибыль, 95%-й доверительный интервал и риск убытков. Убыток — это отрицательная прибыль."
   ]
  },
  {
   "cell_type": "code",
   "execution_count": 1130,
   "metadata": {},
   "outputs": [],
   "source": [
    "def risks(target, predicts, region):\n",
    "\n",
    "    bootstrap_samples = 1000\n",
    "    alpha = 0.05\n",
    "    incomes = []\n",
    "    state = np.random.RandomState(12345)\n",
    "    for i in range(bootstrap_samples):\n",
    "        income = income_pred(target, predicts, state)\n",
    "        incomes.append(income)\n",
    "\n",
    "    incomes = pd.Series(incomes)\n",
    "    income_mean = incomes.mean()\n",
    "    left_truth_border = incomes.quantile(alpha/2)\n",
    "    right_truth_border = incomes.quantile(1-alpha/2)\n",
    "    \n",
    "    loss_count = 0\n",
    "    for i in incomes :\n",
    "        if i < 0 :\n",
    "            loss_count += 1\n",
    "    loss_rate = loss_count / bootstrap_samples\n",
    "    \n",
    "    return (print(region),\n",
    "            print('Средняя прибыль:', round(income_mean, 2)),\n",
    "            print('Левая граница доверительного интервала', round(left_truth_border, 2)),\n",
    "            print('Правая граница доверительного интервала', round(right_truth_border, 2)),\n",
    "            print('Риск потерь:', round(loss_rate*100, 2), '%'))"
   ]
  },
  {
   "cell_type": "code",
   "execution_count": 1131,
   "metadata": {},
   "outputs": [
    {
     "name": "stdout",
     "output_type": "stream",
     "text": [
      "Регион 1\n",
      "Средняя прибыль: 396164984.8\n",
      "Левая граница доверительного интервала -111215545.89\n",
      "Правая граница доверительного интервала 909766941.55\n",
      "Риск потерь: 6.9 %\n"
     ]
    },
    {
     "data": {
      "text/plain": [
       "(None, None, None, None, None)"
      ]
     },
     "execution_count": 1131,
     "metadata": {},
     "output_type": "execute_result"
    }
   ],
   "source": [
    "risks(y_0_valid, predict_0, 'Регион 1')"
   ]
  },
  {
   "cell_type": "code",
   "execution_count": 1132,
   "metadata": {},
   "outputs": [
    {
     "name": "stdout",
     "output_type": "stream",
     "text": [
      "Регион 2\n",
      "Средняя прибыль: 456045105.79\n",
      "Левая граница доверительного интервала 33820509.4\n",
      "Правая граница доверительного интервала 852289453.86\n",
      "Риск потерь: 1.5 %\n"
     ]
    },
    {
     "data": {
      "text/plain": [
       "(None, None, None, None, None)"
      ]
     },
     "execution_count": 1132,
     "metadata": {},
     "output_type": "execute_result"
    }
   ],
   "source": [
    "risks(y_1_valid, predict_1, 'Регион 2')"
   ]
  },
  {
   "cell_type": "code",
   "execution_count": 1133,
   "metadata": {},
   "outputs": [
    {
     "name": "stdout",
     "output_type": "stream",
     "text": [
      "Регион 3\n",
      "Средняя прибыль: 404403866.57\n",
      "Левая граница доверительного интервала -163350413.39\n",
      "Правая граница доверительного интервала 950359574.93\n",
      "Риск потерь: 7.6 %\n"
     ]
    },
    {
     "data": {
      "text/plain": [
       "(None, None, None, None, None)"
      ]
     },
     "execution_count": 1133,
     "metadata": {},
     "output_type": "execute_result"
    }
   ],
   "source": [
    "risks(y_2_valid, predict_2, 'Регион 3')"
   ]
  },
  {
   "cell_type": "markdown",
   "metadata": {},
   "source": [
    "**Выводы:**\n",
    "\n",
    "Судя по тому, что в границу 2.5% вероятности убытков по техническому условию проекта проходит только Регион 2, то можно сделать вывод, что только его мы можем рекомендовать для разработки."
   ]
  },
  {
   "cell_type": "markdown",
   "metadata": {},
   "source": [
    "## Инструкция по выполнению проекта"
   ]
  },
  {
   "cell_type": "markdown",
   "metadata": {},
   "source": [
    "- Загрузите и подготовьте данные. Поясните порядок действий.\n",
    "\n",
    "- Обучите и проверьте модель для каждого региона:\n",
    "\n",
    "    * Разбейте данные на обучающую и валидационную выборки в соотношении 75:25.\n",
    "    * Обучите модель и сделайте предсказания на валидационной выборке.\n",
    "    * Сохраните предсказания и правильные ответы на валидационной выборке.\n",
    "    * Напечатайте на экране средний запас предсказанного сырья и RMSE модели.\n",
    "    * Проанализируйте результаты.\n",
    "\n",
    "- Подготовьтесь к расчёту прибыли:\n",
    "\n",
    "    * Все ключевые значения для расчётов сохраните в отдельных переменных.\n",
    "    * Рассчитайте достаточный объём сырья для безубыточной разработки новой скважины. Сравните полученный объём сырья со средним запасом в каждом регионе.\n",
    "    * Напишите выводы по этапу подготовки расчёта прибыли.\n",
    "\n",
    "- Напишите функцию для расчёта прибыли по выбранным скважинам и предсказаниям модели:\n",
    "\n",
    "    * Выберите скважины с максимальными значениями предсказаний.\n",
    "    * Просуммируйте целевое значение объёма сырья, соответствующее этим предсказаниям.\n",
    "    * Рассчитайте прибыль для полученного объёма сырья.\n",
    "\n",
    "- Посчитайте риски и прибыль для каждого региона:\n",
    "\n",
    "    * Примените технику Bootstrap с 1000 выборок, чтобы найти распределение прибыли.\n",
    "    * Найдите среднюю прибыль, 95%-й доверительный интервал и риск убытков. Убыток — это отрицательная прибыль.\n",
    "    * Напишите выводы: предложите регион для разработки скважин и обоснуйте выбор."
   ]
  },
  {
   "cell_type": "markdown",
   "metadata": {},
   "source": [
    "## Чек-лист готовности проекта"
   ]
  },
  {
   "cell_type": "markdown",
   "metadata": {},
   "source": [
    "Поставьте 'x' в выполненных пунктах. Далее нажмите Shift+Enter."
   ]
  },
  {
   "cell_type": "markdown",
   "metadata": {},
   "source": [
    "- [x]  Jupyter Notebook открыт\n",
    "- [x]  Весь код выполняется без ошибок\n",
    "- [x]  Ячейки с кодом расположены в порядке исполнения\n",
    "- [x]  Выполнен шаг 1: данные подготовлены\n",
    "- [x]  Выполнен шаг 2: модели обучены и проверены\n",
    "    - [x]  Данные корректно разбиты на обучающую и валидационную выборки\n",
    "    - [x]  Модели обучены, предсказания сделаны\n",
    "    - [x]  Предсказания и правильные ответы на валидационной выборке сохранены\n",
    "    - [x]  На экране напечатаны результаты\n",
    "    - [x]  Сделаны выводы\n",
    "- [x]  Выполнен шаг 3: проведена подготовка к расчёту прибыли\n",
    "    - [x]  Для всех ключевых значений созданы константы Python\n",
    "    - [x]  Посчитано минимальное среднее количество продукта в месторождениях региона, достаточное для разработки\n",
    "    - [x]  По предыдущему пункту сделаны выводы\n",
    "    - [x]  Написана функция расчёта прибыли\n",
    "- [x]  Выполнен шаг 4: посчитаны риски и прибыль\n",
    "    - [x]  Проведена процедура *Bootstrap*\n",
    "    - [x]  Все параметры бутстрепа соответствуют условию\n",
    "    - [x]  Найдены все нужные величины\n",
    "    - [x]  Предложен регион для разработки месторождения\n",
    "    - [x]  Выбор региона обоснован"
   ]
  },
  {
   "cell_type": "code",
   "execution_count": null,
   "metadata": {},
   "outputs": [],
   "source": []
  }
 ],
 "metadata": {
  "ExecuteTimeLog": [
   {
    "duration": 10,
    "start_time": "2022-09-01T20:00:58.264Z"
   },
   {
    "duration": 1571,
    "start_time": "2022-09-01T20:07:26.682Z"
   },
   {
    "duration": 3,
    "start_time": "2022-09-01T20:07:37.428Z"
   },
   {
    "duration": 491,
    "start_time": "2022-09-01T20:08:44.014Z"
   },
   {
    "duration": 110,
    "start_time": "2022-09-01T20:08:59.734Z"
   },
   {
    "duration": 185,
    "start_time": "2022-09-01T20:09:02.494Z"
   },
   {
    "duration": 395,
    "start_time": "2022-09-01T20:09:13.042Z"
   },
   {
    "duration": 33,
    "start_time": "2022-09-01T20:09:16.254Z"
   },
   {
    "duration": 12,
    "start_time": "2022-09-01T20:09:55.161Z"
   },
   {
    "duration": 124,
    "start_time": "2022-09-01T20:09:57.562Z"
   },
   {
    "duration": 22,
    "start_time": "2022-09-01T20:09:58.254Z"
   },
   {
    "duration": 195,
    "start_time": "2022-09-01T20:10:23.566Z"
   },
   {
    "duration": 259,
    "start_time": "2022-09-01T20:10:25.107Z"
   },
   {
    "duration": 21,
    "start_time": "2022-09-01T20:10:37.730Z"
   },
   {
    "duration": 126,
    "start_time": "2022-09-01T20:10:38.366Z"
   },
   {
    "duration": 24,
    "start_time": "2022-09-01T20:10:39.094Z"
   },
   {
    "duration": 129,
    "start_time": "2022-09-01T20:10:39.962Z"
   },
   {
    "duration": 24,
    "start_time": "2022-09-01T20:10:40.477Z"
   },
   {
    "duration": 110,
    "start_time": "2022-09-01T20:11:56.630Z"
   },
   {
    "duration": 100,
    "start_time": "2022-09-01T20:12:08.177Z"
   },
   {
    "duration": 128,
    "start_time": "2022-09-01T20:12:25.630Z"
   },
   {
    "duration": 21,
    "start_time": "2022-09-01T20:13:34.449Z"
   },
   {
    "duration": 121,
    "start_time": "2022-09-01T20:14:47.089Z"
   },
   {
    "duration": 21,
    "start_time": "2022-09-01T20:14:47.534Z"
   },
   {
    "duration": 122,
    "start_time": "2022-09-01T20:14:50.144Z"
   },
   {
    "duration": 5,
    "start_time": "2022-09-01T20:24:32.310Z"
   },
   {
    "duration": 333,
    "start_time": "2022-09-01T20:25:20.258Z"
   },
   {
    "duration": 2,
    "start_time": "2022-09-01T20:26:38.982Z"
   },
   {
    "duration": 1770,
    "start_time": "2022-09-01T20:26:57.046Z"
   },
   {
    "duration": 7866,
    "start_time": "2022-09-01T20:27:58.829Z"
   },
   {
    "duration": 5,
    "start_time": "2022-09-01T20:29:11.541Z"
   },
   {
    "duration": 4,
    "start_time": "2022-09-01T20:29:13.062Z"
   },
   {
    "duration": 11,
    "start_time": "2022-09-01T20:30:04.029Z"
   },
   {
    "duration": 657,
    "start_time": "2022-09-01T20:30:12.029Z"
   },
   {
    "duration": 9,
    "start_time": "2022-09-01T20:31:04.342Z"
   },
   {
    "duration": 2906,
    "start_time": "2022-09-01T20:31:10.601Z"
   },
   {
    "duration": 9,
    "start_time": "2022-09-01T20:31:38.645Z"
   },
   {
    "duration": 3,
    "start_time": "2022-09-01T20:31:39.526Z"
   },
   {
    "duration": 2979,
    "start_time": "2022-09-01T20:31:40.037Z"
   },
   {
    "duration": 2985,
    "start_time": "2022-09-01T20:33:58.209Z"
   },
   {
    "duration": 3009,
    "start_time": "2022-09-01T20:34:08.301Z"
   },
   {
    "duration": 4,
    "start_time": "2022-09-01T20:34:11.440Z"
   },
   {
    "duration": 2,
    "start_time": "2022-09-01T20:34:12.069Z"
   },
   {
    "duration": 2920,
    "start_time": "2022-09-01T20:34:12.541Z"
   },
   {
    "duration": 2864,
    "start_time": "2022-09-01T20:34:21.074Z"
   },
   {
    "duration": 9,
    "start_time": "2022-09-01T20:35:15.768Z"
   },
   {
    "duration": 3,
    "start_time": "2022-09-01T20:35:17.892Z"
   },
   {
    "duration": 11,
    "start_time": "2022-09-01T20:35:18.432Z"
   },
   {
    "duration": 9,
    "start_time": "2022-09-01T20:35:21.656Z"
   },
   {
    "duration": 2878,
    "start_time": "2022-09-01T20:35:26.034Z"
   },
   {
    "duration": 12,
    "start_time": "2022-09-01T20:36:03.945Z"
   },
   {
    "duration": 9,
    "start_time": "2022-09-01T20:36:05.788Z"
   },
   {
    "duration": 9,
    "start_time": "2022-09-01T20:36:45.144Z"
   },
   {
    "duration": 8,
    "start_time": "2022-09-01T20:36:52.445Z"
   },
   {
    "duration": 9,
    "start_time": "2022-09-01T20:37:12.952Z"
   },
   {
    "duration": 11757,
    "start_time": "2022-09-01T20:37:16.545Z"
   },
   {
    "duration": 52,
    "start_time": "2022-09-01T20:39:17.876Z"
   },
   {
    "duration": 3051,
    "start_time": "2022-09-01T20:39:25.772Z"
   },
   {
    "duration": 8,
    "start_time": "2022-09-01T20:40:20.964Z"
   },
   {
    "duration": 241,
    "start_time": "2022-09-01T20:41:00.780Z"
   },
   {
    "duration": 9,
    "start_time": "2022-09-01T20:41:33.760Z"
   },
   {
    "duration": 67,
    "start_time": "2022-09-01T20:41:47.895Z"
   },
   {
    "duration": 8,
    "start_time": "2022-09-01T20:41:51.792Z"
   },
   {
    "duration": 9,
    "start_time": "2022-09-01T20:43:19.504Z"
   },
   {
    "duration": 11,
    "start_time": "2022-09-01T20:45:25.751Z"
   },
   {
    "duration": 10,
    "start_time": "2022-09-01T20:45:30.441Z"
   },
   {
    "duration": 3,
    "start_time": "2022-09-01T20:45:31.691Z"
   },
   {
    "duration": 8,
    "start_time": "2022-09-01T20:45:32.039Z"
   },
   {
    "duration": 233,
    "start_time": "2022-09-01T20:46:11.015Z"
   },
   {
    "duration": 239,
    "start_time": "2022-09-01T20:46:22.142Z"
   },
   {
    "duration": 2904,
    "start_time": "2022-09-01T20:46:32.940Z"
   },
   {
    "duration": 2781,
    "start_time": "2022-09-01T20:46:45.111Z"
   },
   {
    "duration": 2895,
    "start_time": "2022-09-01T20:46:48.703Z"
   },
   {
    "duration": 3,
    "start_time": "2022-09-01T20:46:53.007Z"
   },
   {
    "duration": 3093,
    "start_time": "2022-09-01T20:46:58.160Z"
   },
   {
    "duration": 4,
    "start_time": "2022-09-01T20:47:09.436Z"
   },
   {
    "duration": 2,
    "start_time": "2022-09-01T20:47:12.211Z"
   },
   {
    "duration": 2888,
    "start_time": "2022-09-01T20:47:12.671Z"
   },
   {
    "duration": 1752,
    "start_time": "2022-09-02T06:41:07.677Z"
   },
   {
    "duration": 399,
    "start_time": "2022-09-02T06:41:09.432Z"
   },
   {
    "duration": 28,
    "start_time": "2022-09-02T06:41:09.833Z"
   },
   {
    "duration": 250,
    "start_time": "2022-09-02T06:41:09.864Z"
   },
   {
    "duration": 24,
    "start_time": "2022-09-02T06:41:10.118Z"
   },
   {
    "duration": 235,
    "start_time": "2022-09-02T06:41:10.143Z"
   },
   {
    "duration": 31,
    "start_time": "2022-09-02T06:41:10.380Z"
   },
   {
    "duration": 162,
    "start_time": "2022-09-02T06:41:10.419Z"
   },
   {
    "duration": 4,
    "start_time": "2022-09-02T06:41:10.583Z"
   },
   {
    "duration": 9,
    "start_time": "2022-09-02T06:41:10.606Z"
   },
   {
    "duration": 3425,
    "start_time": "2022-09-02T06:41:10.618Z"
   },
   {
    "duration": 3,
    "start_time": "2022-09-02T06:48:06.796Z"
   },
   {
    "duration": 4,
    "start_time": "2022-09-02T06:48:37.336Z"
   },
   {
    "duration": 4,
    "start_time": "2022-09-02T06:48:38.031Z"
   },
   {
    "duration": 3727,
    "start_time": "2022-09-02T06:48:38.733Z"
   },
   {
    "duration": 3267,
    "start_time": "2022-09-02T06:51:58.568Z"
   },
   {
    "duration": 3509,
    "start_time": "2022-09-02T06:52:49.324Z"
   },
   {
    "duration": 3453,
    "start_time": "2022-09-02T06:53:04.984Z"
   },
   {
    "duration": 13,
    "start_time": "2022-09-02T07:01:08.676Z"
   },
   {
    "duration": 13,
    "start_time": "2022-09-02T07:05:55.398Z"
   },
   {
    "duration": 115,
    "start_time": "2022-09-02T07:16:57.280Z"
   },
   {
    "duration": 4,
    "start_time": "2022-09-02T07:16:58.425Z"
   },
   {
    "duration": 32,
    "start_time": "2022-09-02T07:16:59.353Z"
   },
   {
    "duration": 27,
    "start_time": "2022-09-02T07:22:19.559Z"
   },
   {
    "duration": 32,
    "start_time": "2022-09-02T07:22:25.212Z"
   },
   {
    "duration": 4,
    "start_time": "2022-09-02T07:23:03.148Z"
   },
   {
    "duration": 31,
    "start_time": "2022-09-02T07:23:03.844Z"
   },
   {
    "duration": 4,
    "start_time": "2022-09-02T07:23:24.207Z"
   },
   {
    "duration": 69,
    "start_time": "2022-09-02T07:23:24.840Z"
   },
   {
    "duration": 5,
    "start_time": "2022-09-02T07:23:40.319Z"
   },
   {
    "duration": 86,
    "start_time": "2022-09-02T07:23:41.620Z"
   },
   {
    "duration": 5,
    "start_time": "2022-09-02T07:23:51.511Z"
   },
   {
    "duration": 33,
    "start_time": "2022-09-02T07:23:52.468Z"
   },
   {
    "duration": 6,
    "start_time": "2022-09-02T07:23:54.984Z"
   },
   {
    "duration": 82,
    "start_time": "2022-09-02T07:23:55.820Z"
   },
   {
    "duration": 4,
    "start_time": "2022-09-02T07:24:06.984Z"
   },
   {
    "duration": 39,
    "start_time": "2022-09-02T07:24:07.527Z"
   },
   {
    "duration": 32,
    "start_time": "2022-09-02T07:24:13.331Z"
   },
   {
    "duration": 29,
    "start_time": "2022-09-02T07:24:13.840Z"
   },
   {
    "duration": 4,
    "start_time": "2022-09-02T07:25:47.112Z"
   },
   {
    "duration": 50,
    "start_time": "2022-09-02T07:25:49.576Z"
   },
   {
    "duration": 30,
    "start_time": "2022-09-02T07:25:50.964Z"
   },
   {
    "duration": 83,
    "start_time": "2022-09-02T07:25:51.720Z"
   },
   {
    "duration": 4,
    "start_time": "2022-09-02T07:28:01.675Z"
   },
   {
    "duration": 62,
    "start_time": "2022-09-02T07:30:06.943Z"
   },
   {
    "duration": 39,
    "start_time": "2022-09-02T07:30:07.312Z"
   },
   {
    "duration": 30,
    "start_time": "2022-09-02T07:30:07.648Z"
   },
   {
    "duration": 86,
    "start_time": "2022-09-02T07:44:16.576Z"
   },
   {
    "duration": 3,
    "start_time": "2022-09-02T07:45:11.986Z"
   },
   {
    "duration": 4,
    "start_time": "2022-09-02T07:45:45.477Z"
   },
   {
    "duration": 3,
    "start_time": "2022-09-02T07:46:38.277Z"
   },
   {
    "duration": 3,
    "start_time": "2022-09-02T07:46:39.209Z"
   },
   {
    "duration": 4,
    "start_time": "2022-09-02T07:46:39.733Z"
   },
   {
    "duration": 3,
    "start_time": "2022-09-02T07:46:54.782Z"
   },
   {
    "duration": 4,
    "start_time": "2022-09-02T07:47:07.313Z"
   },
   {
    "duration": 4,
    "start_time": "2022-09-02T07:47:11.378Z"
   },
   {
    "duration": 7,
    "start_time": "2022-09-02T07:52:27.081Z"
   },
   {
    "duration": 15,
    "start_time": "2022-09-02T07:52:36.336Z"
   },
   {
    "duration": 4,
    "start_time": "2022-09-02T07:53:21.185Z"
   },
   {
    "duration": 6,
    "start_time": "2022-09-02T07:53:24.157Z"
   },
   {
    "duration": 5,
    "start_time": "2022-09-02T07:53:30.593Z"
   },
   {
    "duration": 5,
    "start_time": "2022-09-02T07:53:34.096Z"
   },
   {
    "duration": 139,
    "start_time": "2022-09-02T07:53:34.103Z"
   },
   {
    "duration": 24,
    "start_time": "2022-09-02T07:53:34.244Z"
   },
   {
    "duration": 123,
    "start_time": "2022-09-02T07:53:34.270Z"
   },
   {
    "duration": 31,
    "start_time": "2022-09-02T07:53:34.395Z"
   },
   {
    "duration": 134,
    "start_time": "2022-09-02T07:53:34.428Z"
   },
   {
    "duration": 23,
    "start_time": "2022-09-02T07:53:34.564Z"
   },
   {
    "duration": 144,
    "start_time": "2022-09-02T07:53:34.588Z"
   },
   {
    "duration": 5,
    "start_time": "2022-09-02T07:53:34.733Z"
   },
   {
    "duration": 5,
    "start_time": "2022-09-02T07:53:34.739Z"
   },
   {
    "duration": 3180,
    "start_time": "2022-09-02T07:53:34.746Z"
   },
   {
    "duration": 3409,
    "start_time": "2022-09-02T07:53:37.928Z"
   },
   {
    "duration": 3494,
    "start_time": "2022-09-02T07:53:41.338Z"
   },
   {
    "duration": 10,
    "start_time": "2022-09-02T07:53:44.833Z"
   },
   {
    "duration": 6,
    "start_time": "2022-09-02T07:53:44.845Z"
   },
   {
    "duration": 52,
    "start_time": "2022-09-02T07:53:44.852Z"
   },
   {
    "duration": 111,
    "start_time": "2022-09-02T07:53:44.907Z"
   },
   {
    "duration": 197,
    "start_time": "2022-09-02T07:53:45.020Z"
   },
   {
    "duration": 3,
    "start_time": "2022-09-02T07:53:45.218Z"
   },
   {
    "duration": 101,
    "start_time": "2022-09-02T07:53:45.303Z"
   },
   {
    "duration": 11,
    "start_time": "2022-09-02T07:53:45.406Z"
   },
   {
    "duration": 6,
    "start_time": "2022-09-02T07:53:45.419Z"
   },
   {
    "duration": 8,
    "start_time": "2022-09-02T07:53:45.427Z"
   },
   {
    "duration": 8,
    "start_time": "2022-09-02T07:53:45.437Z"
   },
   {
    "duration": 18,
    "start_time": "2022-09-02T07:53:45.447Z"
   },
   {
    "duration": 4,
    "start_time": "2022-09-02T07:54:23.372Z"
   },
   {
    "duration": 6,
    "start_time": "2022-09-02T07:54:28.804Z"
   },
   {
    "duration": 12,
    "start_time": "2022-09-02T07:54:29.597Z"
   },
   {
    "duration": 4,
    "start_time": "2022-09-02T07:54:52.581Z"
   },
   {
    "duration": 13,
    "start_time": "2022-09-02T07:54:53.684Z"
   },
   {
    "duration": 4,
    "start_time": "2022-09-02T07:55:06.356Z"
   },
   {
    "duration": 17,
    "start_time": "2022-09-02T07:55:07.192Z"
   },
   {
    "duration": 5,
    "start_time": "2022-09-02T07:55:24.072Z"
   },
   {
    "duration": 21,
    "start_time": "2022-09-02T07:55:24.469Z"
   },
   {
    "duration": 83,
    "start_time": "2022-09-02T07:55:56.832Z"
   },
   {
    "duration": 17,
    "start_time": "2022-09-02T07:55:57.504Z"
   },
   {
    "duration": 5,
    "start_time": "2022-09-02T07:56:00.504Z"
   },
   {
    "duration": 6,
    "start_time": "2022-09-02T07:56:00.993Z"
   },
   {
    "duration": 4,
    "start_time": "2022-09-02T07:56:46.373Z"
   },
   {
    "duration": 13,
    "start_time": "2022-09-02T07:56:46.812Z"
   },
   {
    "duration": 4,
    "start_time": "2022-09-02T07:57:13.400Z"
   },
   {
    "duration": 14,
    "start_time": "2022-09-02T07:57:14.344Z"
   },
   {
    "duration": 3,
    "start_time": "2022-09-02T07:57:20.413Z"
   },
   {
    "duration": 5,
    "start_time": "2022-09-02T07:57:20.896Z"
   },
   {
    "duration": 7,
    "start_time": "2022-09-02T07:57:21.312Z"
   },
   {
    "duration": 4,
    "start_time": "2022-09-02T07:57:46.940Z"
   },
   {
    "duration": 4,
    "start_time": "2022-09-02T07:57:47.740Z"
   },
   {
    "duration": 7,
    "start_time": "2022-09-02T07:57:48.052Z"
   },
   {
    "duration": 6,
    "start_time": "2022-09-02T07:58:26.608Z"
   },
   {
    "duration": 12,
    "start_time": "2022-09-02T07:58:27.872Z"
   },
   {
    "duration": 5,
    "start_time": "2022-09-02T07:58:28.174Z"
   },
   {
    "duration": 3,
    "start_time": "2022-09-02T07:58:38.236Z"
   },
   {
    "duration": 142,
    "start_time": "2022-09-02T07:58:38.241Z"
   },
   {
    "duration": 26,
    "start_time": "2022-09-02T07:58:38.385Z"
   },
   {
    "duration": 133,
    "start_time": "2022-09-02T07:58:38.413Z"
   },
   {
    "duration": 25,
    "start_time": "2022-09-02T07:58:38.548Z"
   },
   {
    "duration": 132,
    "start_time": "2022-09-02T07:58:38.575Z"
   },
   {
    "duration": 23,
    "start_time": "2022-09-02T07:58:38.709Z"
   },
   {
    "duration": 143,
    "start_time": "2022-09-02T07:58:38.733Z"
   },
   {
    "duration": 4,
    "start_time": "2022-09-02T07:58:38.878Z"
   },
   {
    "duration": 21,
    "start_time": "2022-09-02T07:58:38.884Z"
   },
   {
    "duration": 3219,
    "start_time": "2022-09-02T07:58:38.909Z"
   },
   {
    "duration": 3311,
    "start_time": "2022-09-02T07:58:42.129Z"
   },
   {
    "duration": 3702,
    "start_time": "2022-09-02T07:58:45.442Z"
   },
   {
    "duration": 10,
    "start_time": "2022-09-02T07:58:49.146Z"
   },
   {
    "duration": 6,
    "start_time": "2022-09-02T07:58:49.158Z"
   },
   {
    "duration": 43,
    "start_time": "2022-09-02T07:58:49.165Z"
   },
   {
    "duration": 202,
    "start_time": "2022-09-02T07:58:49.210Z"
   },
   {
    "duration": 202,
    "start_time": "2022-09-02T07:58:49.414Z"
   },
   {
    "duration": 2,
    "start_time": "2022-09-02T07:58:49.704Z"
   },
   {
    "duration": 118,
    "start_time": "2022-09-02T07:58:49.708Z"
   },
   {
    "duration": 11,
    "start_time": "2022-09-02T07:58:49.828Z"
   },
   {
    "duration": 6,
    "start_time": "2022-09-02T07:58:49.841Z"
   },
   {
    "duration": 9,
    "start_time": "2022-09-02T07:58:49.849Z"
   },
   {
    "duration": 8,
    "start_time": "2022-09-02T07:58:49.860Z"
   },
   {
    "duration": 5,
    "start_time": "2022-09-02T07:58:49.869Z"
   },
   {
    "duration": 5,
    "start_time": "2022-09-02T07:58:49.876Z"
   },
   {
    "duration": 12,
    "start_time": "2022-09-02T07:58:49.882Z"
   },
   {
    "duration": 6,
    "start_time": "2022-09-02T07:59:05.856Z"
   },
   {
    "duration": 11,
    "start_time": "2022-09-02T07:59:06.756Z"
   },
   {
    "duration": 4,
    "start_time": "2022-09-02T07:59:12.268Z"
   },
   {
    "duration": 152,
    "start_time": "2022-09-02T07:59:12.274Z"
   },
   {
    "duration": 23,
    "start_time": "2022-09-02T07:59:12.428Z"
   },
   {
    "duration": 126,
    "start_time": "2022-09-02T07:59:12.453Z"
   },
   {
    "duration": 26,
    "start_time": "2022-09-02T07:59:12.581Z"
   },
   {
    "duration": 121,
    "start_time": "2022-09-02T07:59:12.608Z"
   },
   {
    "duration": 24,
    "start_time": "2022-09-02T07:59:12.730Z"
   },
   {
    "duration": 135,
    "start_time": "2022-09-02T07:59:12.756Z"
   },
   {
    "duration": 11,
    "start_time": "2022-09-02T07:59:12.893Z"
   },
   {
    "duration": 5,
    "start_time": "2022-09-02T07:59:12.906Z"
   },
   {
    "duration": 3112,
    "start_time": "2022-09-02T07:59:12.914Z"
   },
   {
    "duration": 3243,
    "start_time": "2022-09-02T07:59:16.027Z"
   },
   {
    "duration": 3260,
    "start_time": "2022-09-02T07:59:19.272Z"
   },
   {
    "duration": 12,
    "start_time": "2022-09-02T07:59:22.534Z"
   },
   {
    "duration": 9,
    "start_time": "2022-09-02T07:59:22.547Z"
   },
   {
    "duration": 46,
    "start_time": "2022-09-02T07:59:22.558Z"
   },
   {
    "duration": 197,
    "start_time": "2022-09-02T07:59:22.606Z"
   },
   {
    "duration": 113,
    "start_time": "2022-09-02T07:59:22.805Z"
   },
   {
    "duration": 3,
    "start_time": "2022-09-02T07:59:22.920Z"
   },
   {
    "duration": 97,
    "start_time": "2022-09-02T07:59:23.006Z"
   },
   {
    "duration": 7,
    "start_time": "2022-09-02T07:59:23.106Z"
   },
   {
    "duration": 7,
    "start_time": "2022-09-02T07:59:23.114Z"
   },
   {
    "duration": 18,
    "start_time": "2022-09-02T07:59:23.123Z"
   },
   {
    "duration": 0,
    "start_time": "2022-09-02T07:59:23.143Z"
   },
   {
    "duration": 0,
    "start_time": "2022-09-02T07:59:23.144Z"
   },
   {
    "duration": 0,
    "start_time": "2022-09-02T07:59:23.146Z"
   },
   {
    "duration": 0,
    "start_time": "2022-09-02T07:59:23.148Z"
   },
   {
    "duration": 3,
    "start_time": "2022-09-02T07:59:31.808Z"
   },
   {
    "duration": 6,
    "start_time": "2022-09-02T07:59:32.316Z"
   },
   {
    "duration": 5,
    "start_time": "2022-09-02T08:04:57.026Z"
   },
   {
    "duration": 6,
    "start_time": "2022-09-02T08:04:57.579Z"
   },
   {
    "duration": 6,
    "start_time": "2022-09-02T08:07:00.623Z"
   },
   {
    "duration": 6,
    "start_time": "2022-09-02T08:07:01.335Z"
   },
   {
    "duration": 8,
    "start_time": "2022-09-02T08:07:09.099Z"
   },
   {
    "duration": 5,
    "start_time": "2022-09-02T08:07:09.891Z"
   },
   {
    "duration": 7,
    "start_time": "2022-09-02T08:07:10.399Z"
   },
   {
    "duration": 5,
    "start_time": "2022-09-02T08:07:43.594Z"
   },
   {
    "duration": 13,
    "start_time": "2022-09-02T08:07:43.883Z"
   },
   {
    "duration": 5,
    "start_time": "2022-09-02T08:07:57.923Z"
   },
   {
    "duration": 6,
    "start_time": "2022-09-02T08:08:10.799Z"
   },
   {
    "duration": 6,
    "start_time": "2022-09-02T08:08:11.707Z"
   },
   {
    "duration": 6,
    "start_time": "2022-09-02T08:08:12.994Z"
   },
   {
    "duration": 6,
    "start_time": "2022-09-02T08:08:13.702Z"
   },
   {
    "duration": 4,
    "start_time": "2022-09-02T08:08:27.926Z"
   },
   {
    "duration": 7,
    "start_time": "2022-09-02T08:08:28.873Z"
   },
   {
    "duration": 7,
    "start_time": "2022-09-02T08:08:30.563Z"
   },
   {
    "duration": 6,
    "start_time": "2022-09-02T08:08:31.118Z"
   },
   {
    "duration": 7,
    "start_time": "2022-09-02T08:08:31.590Z"
   },
   {
    "duration": 15,
    "start_time": "2022-09-02T08:08:48.842Z"
   },
   {
    "duration": 4,
    "start_time": "2022-09-02T08:08:54.246Z"
   },
   {
    "duration": 136,
    "start_time": "2022-09-02T08:08:54.252Z"
   },
   {
    "duration": 28,
    "start_time": "2022-09-02T08:08:54.391Z"
   },
   {
    "duration": 126,
    "start_time": "2022-09-02T08:08:54.421Z"
   },
   {
    "duration": 26,
    "start_time": "2022-09-02T08:08:54.549Z"
   },
   {
    "duration": 135,
    "start_time": "2022-09-02T08:08:54.577Z"
   },
   {
    "duration": 26,
    "start_time": "2022-09-02T08:08:54.714Z"
   },
   {
    "duration": 140,
    "start_time": "2022-09-02T08:08:54.741Z"
   },
   {
    "duration": 5,
    "start_time": "2022-09-02T08:08:54.883Z"
   },
   {
    "duration": 25,
    "start_time": "2022-09-02T08:08:54.889Z"
   },
   {
    "duration": 3111,
    "start_time": "2022-09-02T08:08:54.917Z"
   },
   {
    "duration": 3200,
    "start_time": "2022-09-02T08:08:58.030Z"
   },
   {
    "duration": 3396,
    "start_time": "2022-09-02T08:09:01.231Z"
   },
   {
    "duration": 9,
    "start_time": "2022-09-02T08:09:04.629Z"
   },
   {
    "duration": 17,
    "start_time": "2022-09-02T08:09:04.640Z"
   },
   {
    "duration": 62,
    "start_time": "2022-09-02T08:09:04.659Z"
   },
   {
    "duration": 198,
    "start_time": "2022-09-02T08:09:04.723Z"
   },
   {
    "duration": 118,
    "start_time": "2022-09-02T08:09:05.004Z"
   },
   {
    "duration": 79,
    "start_time": "2022-09-02T08:09:05.124Z"
   },
   {
    "duration": 111,
    "start_time": "2022-09-02T08:09:05.206Z"
   },
   {
    "duration": 24,
    "start_time": "2022-09-02T08:09:05.319Z"
   },
   {
    "duration": 40,
    "start_time": "2022-09-02T08:09:05.345Z"
   },
   {
    "duration": 27,
    "start_time": "2022-09-02T08:09:05.387Z"
   },
   {
    "duration": 36,
    "start_time": "2022-09-02T08:09:05.416Z"
   },
   {
    "duration": 54,
    "start_time": "2022-09-02T08:09:05.453Z"
   },
   {
    "duration": 34,
    "start_time": "2022-09-02T08:09:05.509Z"
   },
   {
    "duration": 39,
    "start_time": "2022-09-02T08:09:05.545Z"
   },
   {
    "duration": 3,
    "start_time": "2022-09-02T08:10:06.503Z"
   },
   {
    "duration": 3,
    "start_time": "2022-09-02T08:10:18.135Z"
   },
   {
    "duration": 3,
    "start_time": "2022-09-02T08:14:49.218Z"
   },
   {
    "duration": 3,
    "start_time": "2022-09-02T08:15:00.206Z"
   },
   {
    "duration": 5,
    "start_time": "2022-09-02T08:15:01.718Z"
   },
   {
    "duration": 7,
    "start_time": "2022-09-02T09:22:12.311Z"
   },
   {
    "duration": 6,
    "start_time": "2022-09-02T09:22:12.939Z"
   },
   {
    "duration": 8,
    "start_time": "2022-09-02T09:22:13.615Z"
   },
   {
    "duration": 8,
    "start_time": "2022-09-02T09:22:14.186Z"
   },
   {
    "duration": 8,
    "start_time": "2022-09-02T09:22:14.595Z"
   },
   {
    "duration": 4,
    "start_time": "2022-09-02T09:25:45.994Z"
   },
   {
    "duration": 7,
    "start_time": "2022-09-02T09:25:46.366Z"
   },
   {
    "duration": 1214,
    "start_time": "2022-09-02T09:25:46.774Z"
   },
   {
    "duration": 1301,
    "start_time": "2022-09-02T09:25:47.991Z"
   },
   {
    "duration": 1235,
    "start_time": "2022-09-02T09:25:49.294Z"
   },
   {
    "duration": 5,
    "start_time": "2022-09-02T09:31:30.521Z"
   },
   {
    "duration": 15,
    "start_time": "2022-09-02T09:31:30.849Z"
   },
   {
    "duration": 3,
    "start_time": "2022-09-02T09:31:34.672Z"
   },
   {
    "duration": 14,
    "start_time": "2022-09-02T09:31:37.253Z"
   },
   {
    "duration": 12,
    "start_time": "2022-09-02T09:31:37.513Z"
   },
   {
    "duration": 3,
    "start_time": "2022-09-02T09:31:46.285Z"
   },
   {
    "duration": 4,
    "start_time": "2022-09-02T09:31:49.913Z"
   },
   {
    "duration": 136,
    "start_time": "2022-09-02T09:31:49.918Z"
   },
   {
    "duration": 22,
    "start_time": "2022-09-02T09:31:50.056Z"
   },
   {
    "duration": 116,
    "start_time": "2022-09-02T09:31:50.080Z"
   },
   {
    "duration": 24,
    "start_time": "2022-09-02T09:31:50.199Z"
   },
   {
    "duration": 219,
    "start_time": "2022-09-02T09:31:50.225Z"
   },
   {
    "duration": 23,
    "start_time": "2022-09-02T09:31:50.446Z"
   },
   {
    "duration": 140,
    "start_time": "2022-09-02T09:31:50.471Z"
   },
   {
    "duration": 5,
    "start_time": "2022-09-02T09:31:50.613Z"
   },
   {
    "duration": 10,
    "start_time": "2022-09-02T09:31:50.619Z"
   },
   {
    "duration": 3071,
    "start_time": "2022-09-02T09:31:50.632Z"
   },
   {
    "duration": 3211,
    "start_time": "2022-09-02T09:31:53.704Z"
   },
   {
    "duration": 3390,
    "start_time": "2022-09-02T09:31:56.918Z"
   },
   {
    "duration": 10,
    "start_time": "2022-09-02T09:32:00.310Z"
   },
   {
    "duration": 23,
    "start_time": "2022-09-02T09:32:00.322Z"
   },
   {
    "duration": 59,
    "start_time": "2022-09-02T09:32:00.347Z"
   },
   {
    "duration": 195,
    "start_time": "2022-09-02T09:32:00.408Z"
   },
   {
    "duration": 130,
    "start_time": "2022-09-02T09:32:00.605Z"
   },
   {
    "duration": 5,
    "start_time": "2022-09-02T09:32:00.802Z"
   },
   {
    "duration": 113,
    "start_time": "2022-09-02T09:32:00.813Z"
   },
   {
    "duration": 20,
    "start_time": "2022-09-02T09:32:00.927Z"
   },
   {
    "duration": 33,
    "start_time": "2022-09-02T09:32:00.948Z"
   },
   {
    "duration": 24,
    "start_time": "2022-09-02T09:32:00.983Z"
   },
   {
    "duration": 21,
    "start_time": "2022-09-02T09:32:01.010Z"
   },
   {
    "duration": 39,
    "start_time": "2022-09-02T09:32:01.032Z"
   },
   {
    "duration": 7,
    "start_time": "2022-09-02T09:32:01.073Z"
   },
   {
    "duration": 19,
    "start_time": "2022-09-02T09:32:01.082Z"
   },
   {
    "duration": 18,
    "start_time": "2022-09-02T09:32:01.103Z"
   },
   {
    "duration": 26,
    "start_time": "2022-09-02T09:32:01.125Z"
   },
   {
    "duration": 30,
    "start_time": "2022-09-02T09:32:01.152Z"
   },
   {
    "duration": 0,
    "start_time": "2022-09-02T09:32:01.184Z"
   },
   {
    "duration": 0,
    "start_time": "2022-09-02T09:32:01.185Z"
   },
   {
    "duration": 6,
    "start_time": "2022-09-02T09:32:44.140Z"
   },
   {
    "duration": 1188,
    "start_time": "2022-09-02T09:32:44.453Z"
   },
   {
    "duration": 1277,
    "start_time": "2022-09-02T09:32:47.848Z"
   },
   {
    "duration": 1186,
    "start_time": "2022-09-02T09:32:49.127Z"
   },
   {
    "duration": 5,
    "start_time": "2022-09-02T09:33:21.332Z"
   },
   {
    "duration": 7,
    "start_time": "2022-09-02T09:33:21.897Z"
   },
   {
    "duration": 8,
    "start_time": "2022-09-02T09:33:22.400Z"
   },
   {
    "duration": 6,
    "start_time": "2022-09-02T09:33:22.888Z"
   },
   {
    "duration": 7,
    "start_time": "2022-09-02T09:33:27.464Z"
   },
   {
    "duration": 7,
    "start_time": "2022-09-02T09:33:27.756Z"
   },
   {
    "duration": 7,
    "start_time": "2022-09-02T09:33:28.016Z"
   },
   {
    "duration": 4,
    "start_time": "2022-09-02T09:33:30.464Z"
   },
   {
    "duration": 5,
    "start_time": "2022-09-02T09:33:30.716Z"
   },
   {
    "duration": 7,
    "start_time": "2022-09-02T09:33:30.944Z"
   },
   {
    "duration": 3,
    "start_time": "2022-09-02T09:36:30.120Z"
   },
   {
    "duration": 7,
    "start_time": "2022-09-02T09:36:30.340Z"
   },
   {
    "duration": 1249,
    "start_time": "2022-09-02T09:36:30.795Z"
   },
   {
    "duration": 1182,
    "start_time": "2022-09-02T09:36:32.046Z"
   },
   {
    "duration": 1183,
    "start_time": "2022-09-02T09:36:33.230Z"
   },
   {
    "duration": 4,
    "start_time": "2022-09-02T09:37:13.371Z"
   },
   {
    "duration": 7,
    "start_time": "2022-09-02T09:37:13.571Z"
   },
   {
    "duration": 4,
    "start_time": "2022-09-02T09:37:19.450Z"
   },
   {
    "duration": 8,
    "start_time": "2022-09-02T09:37:19.699Z"
   },
   {
    "duration": 3,
    "start_time": "2022-09-02T09:37:49.216Z"
   },
   {
    "duration": 7,
    "start_time": "2022-09-02T09:37:50.004Z"
   },
   {
    "duration": 6,
    "start_time": "2022-09-02T09:37:51.459Z"
   },
   {
    "duration": 3,
    "start_time": "2022-09-02T09:38:06.660Z"
   },
   {
    "duration": 6,
    "start_time": "2022-09-02T09:38:07.960Z"
   },
   {
    "duration": 4,
    "start_time": "2022-09-02T09:39:26.472Z"
   },
   {
    "duration": 8,
    "start_time": "2022-09-02T09:39:26.828Z"
   },
   {
    "duration": 4,
    "start_time": "2022-09-02T09:39:47.988Z"
   },
   {
    "duration": 7,
    "start_time": "2022-09-02T09:39:48.584Z"
   },
   {
    "duration": 5,
    "start_time": "2022-09-02T09:39:55.880Z"
   },
   {
    "duration": 9,
    "start_time": "2022-09-02T09:39:56.167Z"
   },
   {
    "duration": 8,
    "start_time": "2022-09-02T09:39:56.388Z"
   },
   {
    "duration": 10,
    "start_time": "2022-09-02T09:39:56.716Z"
   },
   {
    "duration": 5,
    "start_time": "2022-09-02T09:41:42.475Z"
   },
   {
    "duration": 10,
    "start_time": "2022-09-02T09:41:43.185Z"
   },
   {
    "duration": 10,
    "start_time": "2022-09-02T09:41:43.580Z"
   },
   {
    "duration": 8,
    "start_time": "2022-09-02T09:41:43.848Z"
   },
   {
    "duration": 3,
    "start_time": "2022-09-02T09:43:55.808Z"
   },
   {
    "duration": 4,
    "start_time": "2022-09-02T09:43:56.220Z"
   },
   {
    "duration": 9,
    "start_time": "2022-09-02T09:43:56.719Z"
   },
   {
    "duration": 8,
    "start_time": "2022-09-02T09:43:57.568Z"
   },
   {
    "duration": 7,
    "start_time": "2022-09-02T09:43:57.940Z"
   },
   {
    "duration": 2,
    "start_time": "2022-09-02T09:44:04.996Z"
   },
   {
    "duration": 2,
    "start_time": "2022-09-02T09:44:05.364Z"
   },
   {
    "duration": 5,
    "start_time": "2022-09-02T09:44:05.632Z"
   },
   {
    "duration": 8,
    "start_time": "2022-09-02T09:44:05.968Z"
   },
   {
    "duration": 9,
    "start_time": "2022-09-02T09:44:06.388Z"
   },
   {
    "duration": 7,
    "start_time": "2022-09-02T09:44:06.700Z"
   },
   {
    "duration": 4,
    "start_time": "2022-09-02T09:44:08.764Z"
   },
   {
    "duration": 156,
    "start_time": "2022-09-02T09:44:08.770Z"
   },
   {
    "duration": 30,
    "start_time": "2022-09-02T09:44:08.929Z"
   },
   {
    "duration": 156,
    "start_time": "2022-09-02T09:44:08.961Z"
   },
   {
    "duration": 28,
    "start_time": "2022-09-02T09:44:09.120Z"
   },
   {
    "duration": 127,
    "start_time": "2022-09-02T09:44:09.150Z"
   },
   {
    "duration": 31,
    "start_time": "2022-09-02T09:44:09.279Z"
   },
   {
    "duration": 140,
    "start_time": "2022-09-02T09:44:09.312Z"
   },
   {
    "duration": 5,
    "start_time": "2022-09-02T09:44:09.454Z"
   },
   {
    "duration": 10,
    "start_time": "2022-09-02T09:44:09.461Z"
   },
   {
    "duration": 3146,
    "start_time": "2022-09-02T09:44:09.475Z"
   },
   {
    "duration": 3286,
    "start_time": "2022-09-02T09:44:12.623Z"
   },
   {
    "duration": 3461,
    "start_time": "2022-09-02T09:44:15.911Z"
   },
   {
    "duration": 9,
    "start_time": "2022-09-02T09:44:19.374Z"
   },
   {
    "duration": 12,
    "start_time": "2022-09-02T09:44:19.385Z"
   },
   {
    "duration": 29,
    "start_time": "2022-09-02T09:44:19.402Z"
   },
   {
    "duration": 190,
    "start_time": "2022-09-02T09:44:19.433Z"
   },
   {
    "duration": 183,
    "start_time": "2022-09-02T09:44:19.624Z"
   },
   {
    "duration": 4,
    "start_time": "2022-09-02T09:44:19.810Z"
   },
   {
    "duration": 188,
    "start_time": "2022-09-02T09:44:19.815Z"
   },
   {
    "duration": 8,
    "start_time": "2022-09-02T09:44:20.005Z"
   },
   {
    "duration": 15,
    "start_time": "2022-09-02T09:44:20.016Z"
   },
   {
    "duration": 11,
    "start_time": "2022-09-02T09:44:20.033Z"
   },
   {
    "duration": 35,
    "start_time": "2022-09-02T09:44:20.046Z"
   },
   {
    "duration": 0,
    "start_time": "2022-09-02T09:44:20.083Z"
   },
   {
    "duration": 0,
    "start_time": "2022-09-02T09:44:20.085Z"
   },
   {
    "duration": 0,
    "start_time": "2022-09-02T09:44:20.088Z"
   },
   {
    "duration": 0,
    "start_time": "2022-09-02T09:44:20.089Z"
   },
   {
    "duration": 1,
    "start_time": "2022-09-02T09:44:20.090Z"
   },
   {
    "duration": 0,
    "start_time": "2022-09-02T09:44:20.092Z"
   },
   {
    "duration": 0,
    "start_time": "2022-09-02T09:44:20.093Z"
   },
   {
    "duration": 5,
    "start_time": "2022-09-02T09:45:22.755Z"
   },
   {
    "duration": 5,
    "start_time": "2022-09-02T09:45:23.075Z"
   },
   {
    "duration": 20,
    "start_time": "2022-09-02T09:45:23.448Z"
   },
   {
    "duration": 5,
    "start_time": "2022-09-02T09:45:32.344Z"
   },
   {
    "duration": 14,
    "start_time": "2022-09-02T09:45:32.648Z"
   },
   {
    "duration": 6,
    "start_time": "2022-09-02T09:45:32.935Z"
   },
   {
    "duration": 4,
    "start_time": "2022-09-02T09:45:38.852Z"
   },
   {
    "duration": 182,
    "start_time": "2022-09-02T09:45:38.858Z"
   },
   {
    "duration": 28,
    "start_time": "2022-09-02T09:45:39.042Z"
   },
   {
    "duration": 173,
    "start_time": "2022-09-02T09:45:39.072Z"
   },
   {
    "duration": 25,
    "start_time": "2022-09-02T09:45:39.247Z"
   },
   {
    "duration": 123,
    "start_time": "2022-09-02T09:45:39.274Z"
   },
   {
    "duration": 24,
    "start_time": "2022-09-02T09:45:39.402Z"
   },
   {
    "duration": 148,
    "start_time": "2022-09-02T09:45:39.429Z"
   },
   {
    "duration": 5,
    "start_time": "2022-09-02T09:45:39.579Z"
   },
   {
    "duration": 9,
    "start_time": "2022-09-02T09:45:39.586Z"
   },
   {
    "duration": 3449,
    "start_time": "2022-09-02T09:45:39.598Z"
   },
   {
    "duration": 3171,
    "start_time": "2022-09-02T09:45:43.049Z"
   },
   {
    "duration": 3453,
    "start_time": "2022-09-02T09:45:46.222Z"
   },
   {
    "duration": 11,
    "start_time": "2022-09-02T09:45:49.677Z"
   },
   {
    "duration": 16,
    "start_time": "2022-09-02T09:45:49.689Z"
   },
   {
    "duration": 32,
    "start_time": "2022-09-02T09:45:49.707Z"
   },
   {
    "duration": 172,
    "start_time": "2022-09-02T09:45:49.741Z"
   },
   {
    "duration": 200,
    "start_time": "2022-09-02T09:45:49.915Z"
   },
   {
    "duration": 3,
    "start_time": "2022-09-02T09:45:50.117Z"
   },
   {
    "duration": 84,
    "start_time": "2022-09-02T09:45:50.122Z"
   },
   {
    "duration": 124,
    "start_time": "2022-09-02T09:45:50.207Z"
   },
   {
    "duration": 0,
    "start_time": "2022-09-02T09:45:50.333Z"
   },
   {
    "duration": 0,
    "start_time": "2022-09-02T09:45:50.334Z"
   },
   {
    "duration": 0,
    "start_time": "2022-09-02T09:45:50.335Z"
   },
   {
    "duration": 0,
    "start_time": "2022-09-02T09:45:50.336Z"
   },
   {
    "duration": 0,
    "start_time": "2022-09-02T09:45:50.337Z"
   },
   {
    "duration": 0,
    "start_time": "2022-09-02T09:45:50.339Z"
   },
   {
    "duration": 0,
    "start_time": "2022-09-02T09:45:50.340Z"
   },
   {
    "duration": 0,
    "start_time": "2022-09-02T09:45:50.341Z"
   },
   {
    "duration": 0,
    "start_time": "2022-09-02T09:45:50.342Z"
   },
   {
    "duration": 0,
    "start_time": "2022-09-02T09:45:50.343Z"
   },
   {
    "duration": 0,
    "start_time": "2022-09-02T09:45:50.344Z"
   },
   {
    "duration": 5,
    "start_time": "2022-09-02T09:45:57.716Z"
   },
   {
    "duration": 11,
    "start_time": "2022-09-02T09:45:57.724Z"
   },
   {
    "duration": 6,
    "start_time": "2022-09-02T09:45:57.738Z"
   },
   {
    "duration": 13,
    "start_time": "2022-09-02T09:45:57.746Z"
   },
   {
    "duration": 8,
    "start_time": "2022-09-02T09:45:57.761Z"
   },
   {
    "duration": 9,
    "start_time": "2022-09-02T09:45:57.771Z"
   },
   {
    "duration": 23,
    "start_time": "2022-09-02T09:45:57.781Z"
   },
   {
    "duration": 8,
    "start_time": "2022-09-02T09:45:57.806Z"
   },
   {
    "duration": 24,
    "start_time": "2022-09-02T09:45:57.815Z"
   },
   {
    "duration": 0,
    "start_time": "2022-09-02T09:45:57.841Z"
   },
   {
    "duration": 0,
    "start_time": "2022-09-02T09:45:57.842Z"
   },
   {
    "duration": 7,
    "start_time": "2022-09-02T09:46:33.004Z"
   },
   {
    "duration": 17,
    "start_time": "2022-09-02T09:46:33.856Z"
   },
   {
    "duration": 6,
    "start_time": "2022-09-02T09:46:53.376Z"
   },
   {
    "duration": 2683,
    "start_time": "2022-09-02T09:46:54.020Z"
   },
   {
    "duration": 7,
    "start_time": "2022-09-02T09:47:39.000Z"
   },
   {
    "duration": 3009,
    "start_time": "2022-09-02T09:47:39.635Z"
   },
   {
    "duration": 2807,
    "start_time": "2022-09-02T09:47:44.584Z"
   },
   {
    "duration": 6,
    "start_time": "2022-09-02T09:58:30.331Z"
   },
   {
    "duration": 2447,
    "start_time": "2022-09-02T09:58:43.094Z"
   },
   {
    "duration": 5,
    "start_time": "2022-09-02T09:58:58.830Z"
   },
   {
    "duration": 2605,
    "start_time": "2022-09-02T09:58:59.358Z"
   },
   {
    "duration": 2459,
    "start_time": "2022-09-02T10:00:18.887Z"
   },
   {
    "duration": 73,
    "start_time": "2022-09-02T10:01:18.498Z"
   },
   {
    "duration": 6,
    "start_time": "2022-09-02T10:01:26.474Z"
   },
   {
    "duration": 2463,
    "start_time": "2022-09-02T10:01:26.950Z"
   },
   {
    "duration": 3,
    "start_time": "2022-09-02T10:01:56.858Z"
   },
   {
    "duration": 141,
    "start_time": "2022-09-02T10:01:56.864Z"
   },
   {
    "duration": 21,
    "start_time": "2022-09-02T10:01:57.007Z"
   },
   {
    "duration": 122,
    "start_time": "2022-09-02T10:01:57.030Z"
   },
   {
    "duration": 22,
    "start_time": "2022-09-02T10:01:57.154Z"
   },
   {
    "duration": 127,
    "start_time": "2022-09-02T10:01:57.178Z"
   },
   {
    "duration": 24,
    "start_time": "2022-09-02T10:01:57.306Z"
   },
   {
    "duration": 152,
    "start_time": "2022-09-02T10:01:57.331Z"
   },
   {
    "duration": 5,
    "start_time": "2022-09-02T10:01:57.486Z"
   },
   {
    "duration": 21,
    "start_time": "2022-09-02T10:01:57.493Z"
   },
   {
    "duration": 3222,
    "start_time": "2022-09-02T10:01:57.516Z"
   },
   {
    "duration": 3153,
    "start_time": "2022-09-02T10:02:00.741Z"
   },
   {
    "duration": 3520,
    "start_time": "2022-09-02T10:02:03.895Z"
   },
   {
    "duration": 10,
    "start_time": "2022-09-02T10:02:07.416Z"
   },
   {
    "duration": 10,
    "start_time": "2022-09-02T10:02:07.428Z"
   },
   {
    "duration": 70,
    "start_time": "2022-09-02T10:02:07.440Z"
   },
   {
    "duration": 114,
    "start_time": "2022-09-02T10:02:07.513Z"
   },
   {
    "duration": 121,
    "start_time": "2022-09-02T10:02:07.704Z"
   },
   {
    "duration": 81,
    "start_time": "2022-09-02T10:02:07.826Z"
   },
   {
    "duration": 95,
    "start_time": "2022-09-02T10:02:07.909Z"
   },
   {
    "duration": 10,
    "start_time": "2022-09-02T10:02:08.006Z"
   },
   {
    "duration": 8,
    "start_time": "2022-09-02T10:02:08.018Z"
   },
   {
    "duration": 8,
    "start_time": "2022-09-02T10:02:08.028Z"
   },
   {
    "duration": 9,
    "start_time": "2022-09-02T10:02:08.039Z"
   },
   {
    "duration": 15,
    "start_time": "2022-09-02T10:02:08.050Z"
   },
   {
    "duration": 10,
    "start_time": "2022-09-02T10:02:08.067Z"
   },
   {
    "duration": 16,
    "start_time": "2022-09-02T10:02:08.079Z"
   },
   {
    "duration": 18,
    "start_time": "2022-09-02T10:02:08.103Z"
   },
   {
    "duration": 2638,
    "start_time": "2022-09-02T10:02:08.123Z"
   },
   {
    "duration": 0,
    "start_time": "2022-09-02T10:02:10.763Z"
   },
   {
    "duration": 5,
    "start_time": "2022-09-02T10:02:56.866Z"
   },
   {
    "duration": 384,
    "start_time": "2022-09-02T10:02:57.954Z"
   },
   {
    "duration": 5,
    "start_time": "2022-09-02T10:03:13.393Z"
   },
   {
    "duration": 2387,
    "start_time": "2022-09-02T10:03:14.234Z"
   },
   {
    "duration": 4,
    "start_time": "2022-09-02T10:04:11.097Z"
   },
   {
    "duration": 7,
    "start_time": "2022-09-02T10:04:11.653Z"
   },
   {
    "duration": 4,
    "start_time": "2022-09-02T10:04:14.633Z"
   },
   {
    "duration": 4,
    "start_time": "2022-09-02T10:04:15.302Z"
   },
   {
    "duration": 7,
    "start_time": "2022-09-02T10:04:17.881Z"
   },
   {
    "duration": 1266,
    "start_time": "2022-09-02T10:04:18.136Z"
   },
   {
    "duration": 6,
    "start_time": "2022-09-02T10:04:29.757Z"
   },
   {
    "duration": 1278,
    "start_time": "2022-09-02T10:04:30.562Z"
   },
   {
    "duration": 4,
    "start_time": "2022-09-02T10:05:06.641Z"
   },
   {
    "duration": 10,
    "start_time": "2022-09-02T10:05:09.589Z"
   },
   {
    "duration": 8,
    "start_time": "2022-09-02T10:05:54.941Z"
   },
   {
    "duration": 7,
    "start_time": "2022-09-02T10:05:55.321Z"
   },
   {
    "duration": 6,
    "start_time": "2022-09-02T10:06:06.969Z"
   },
   {
    "duration": 4,
    "start_time": "2022-09-02T10:06:11.393Z"
   },
   {
    "duration": 6,
    "start_time": "2022-09-02T10:06:11.689Z"
   },
   {
    "duration": 4,
    "start_time": "2022-09-02T10:06:21.327Z"
   },
   {
    "duration": 10,
    "start_time": "2022-09-02T10:06:21.701Z"
   },
   {
    "duration": 6,
    "start_time": "2022-09-02T10:06:27.401Z"
   },
   {
    "duration": 4,
    "start_time": "2022-09-02T10:06:28.394Z"
   },
   {
    "duration": 8,
    "start_time": "2022-09-02T10:06:28.706Z"
   },
   {
    "duration": 4,
    "start_time": "2022-09-02T10:06:58.013Z"
   },
   {
    "duration": 7,
    "start_time": "2022-09-02T10:06:58.589Z"
   },
   {
    "duration": 12,
    "start_time": "2022-09-02T10:07:02.113Z"
   },
   {
    "duration": 9,
    "start_time": "2022-09-02T10:07:02.417Z"
   },
   {
    "duration": 8,
    "start_time": "2022-09-02T10:07:06.433Z"
   },
   {
    "duration": 8,
    "start_time": "2022-09-02T10:07:09.096Z"
   },
   {
    "duration": 3,
    "start_time": "2022-09-02T10:07:37.321Z"
   },
   {
    "duration": 6,
    "start_time": "2022-09-02T10:07:37.612Z"
   },
   {
    "duration": 12,
    "start_time": "2022-09-02T10:07:38.269Z"
   },
   {
    "duration": 8,
    "start_time": "2022-09-02T10:07:45.397Z"
   },
   {
    "duration": 5,
    "start_time": "2022-09-02T10:07:55.577Z"
   },
   {
    "duration": 13,
    "start_time": "2022-09-02T10:07:56.081Z"
   },
   {
    "duration": 15,
    "start_time": "2022-09-02T10:08:00.285Z"
   },
   {
    "duration": 5,
    "start_time": "2022-09-02T10:08:10.085Z"
   },
   {
    "duration": 14,
    "start_time": "2022-09-02T10:08:10.545Z"
   },
   {
    "duration": 6,
    "start_time": "2022-09-02T10:08:12.261Z"
   },
   {
    "duration": 13,
    "start_time": "2022-09-02T10:08:12.820Z"
   },
   {
    "duration": 5,
    "start_time": "2022-09-02T10:08:19.501Z"
   },
   {
    "duration": 1236,
    "start_time": "2022-09-02T10:08:19.861Z"
   },
   {
    "duration": 66,
    "start_time": "2022-09-02T10:08:42.953Z"
   },
   {
    "duration": 7,
    "start_time": "2022-09-02T10:08:44.416Z"
   },
   {
    "duration": 1225,
    "start_time": "2022-09-02T10:08:44.789Z"
   },
   {
    "duration": 9,
    "start_time": "2022-09-02T10:09:37.287Z"
   },
   {
    "duration": 5,
    "start_time": "2022-09-02T10:09:39.617Z"
   },
   {
    "duration": 1223,
    "start_time": "2022-09-02T10:09:39.888Z"
   },
   {
    "duration": 6,
    "start_time": "2022-09-02T10:10:10.236Z"
   },
   {
    "duration": 1212,
    "start_time": "2022-09-02T10:10:10.532Z"
   },
   {
    "duration": 151,
    "start_time": "2022-09-02T10:11:21.408Z"
   },
   {
    "duration": 6,
    "start_time": "2022-09-02T10:11:21.668Z"
   },
   {
    "duration": 4,
    "start_time": "2022-09-02T10:11:25.269Z"
   },
   {
    "duration": 6,
    "start_time": "2022-09-02T10:11:25.612Z"
   },
   {
    "duration": 6,
    "start_time": "2022-09-02T10:11:25.952Z"
   },
   {
    "duration": 7,
    "start_time": "2022-09-02T10:11:26.232Z"
   },
   {
    "duration": 4,
    "start_time": "2022-09-02T10:11:34.108Z"
   },
   {
    "duration": 6,
    "start_time": "2022-09-02T10:11:34.380Z"
   },
   {
    "duration": 6,
    "start_time": "2022-09-02T10:11:34.621Z"
   },
   {
    "duration": 6,
    "start_time": "2022-09-02T10:11:34.828Z"
   },
   {
    "duration": 1736,
    "start_time": "2022-09-02T10:12:11.769Z"
   },
   {
    "duration": 0,
    "start_time": "2022-09-02T10:12:13.507Z"
   },
   {
    "duration": 1783,
    "start_time": "2022-09-02T10:12:15.564Z"
   },
   {
    "duration": 1764,
    "start_time": "2022-09-02T10:12:35.703Z"
   },
   {
    "duration": 4,
    "start_time": "2022-09-02T10:12:47.436Z"
   },
   {
    "duration": 6,
    "start_time": "2022-09-02T10:12:47.895Z"
   },
   {
    "duration": 5,
    "start_time": "2022-09-02T10:12:48.152Z"
   },
   {
    "duration": 5,
    "start_time": "2022-09-02T10:12:48.340Z"
   },
   {
    "duration": 3,
    "start_time": "2022-09-02T10:12:49.360Z"
   },
   {
    "duration": 6,
    "start_time": "2022-09-02T10:12:49.875Z"
   },
   {
    "duration": 1580,
    "start_time": "2022-09-02T10:12:50.440Z"
   },
   {
    "duration": 0,
    "start_time": "2022-09-02T10:12:52.022Z"
   },
   {
    "duration": 0,
    "start_time": "2022-09-02T10:12:52.023Z"
   },
   {
    "duration": 5,
    "start_time": "2022-09-02T10:13:05.328Z"
   },
   {
    "duration": 7,
    "start_time": "2022-09-02T10:13:05.575Z"
   },
   {
    "duration": 6,
    "start_time": "2022-09-02T10:13:05.752Z"
   },
   {
    "duration": 7,
    "start_time": "2022-09-02T10:13:05.931Z"
   },
   {
    "duration": 4,
    "start_time": "2022-09-02T10:13:06.876Z"
   },
   {
    "duration": 5,
    "start_time": "2022-09-02T10:13:07.068Z"
   },
   {
    "duration": 1356,
    "start_time": "2022-09-02T10:13:07.255Z"
   },
   {
    "duration": 1269,
    "start_time": "2022-09-02T10:13:08.613Z"
   },
   {
    "duration": 6,
    "start_time": "2022-09-02T10:13:44.115Z"
   },
   {
    "duration": 6,
    "start_time": "2022-09-02T10:14:13.919Z"
   },
   {
    "duration": 7,
    "start_time": "2022-09-02T10:14:14.159Z"
   },
   {
    "duration": 6,
    "start_time": "2022-09-02T10:14:14.367Z"
   },
   {
    "duration": 5,
    "start_time": "2022-09-02T10:14:26.312Z"
   },
   {
    "duration": 1246,
    "start_time": "2022-09-02T10:14:27.032Z"
   },
   {
    "duration": 4,
    "start_time": "2022-09-02T10:14:50.064Z"
   },
   {
    "duration": 1216,
    "start_time": "2022-09-02T10:14:50.347Z"
   },
   {
    "duration": 1248,
    "start_time": "2022-09-02T10:14:51.564Z"
   },
   {
    "duration": 1222,
    "start_time": "2022-09-02T10:14:52.813Z"
   },
   {
    "duration": 1275,
    "start_time": "2022-09-02T10:15:00.563Z"
   },
   {
    "duration": 1272,
    "start_time": "2022-09-02T10:15:01.839Z"
   },
   {
    "duration": 1269,
    "start_time": "2022-09-02T10:15:03.113Z"
   },
   {
    "duration": 1231,
    "start_time": "2022-09-02T10:15:06.647Z"
   },
   {
    "duration": 1274,
    "start_time": "2022-09-02T10:15:07.880Z"
   },
   {
    "duration": 1218,
    "start_time": "2022-09-02T10:15:09.157Z"
   },
   {
    "duration": 5,
    "start_time": "2022-09-02T10:18:28.614Z"
   },
   {
    "duration": 1245,
    "start_time": "2022-09-02T10:18:29.786Z"
   },
   {
    "duration": 5,
    "start_time": "2022-09-02T10:20:12.814Z"
   },
   {
    "duration": 13,
    "start_time": "2022-09-02T10:20:13.405Z"
   },
   {
    "duration": 5,
    "start_time": "2022-09-02T10:20:21.426Z"
   },
   {
    "duration": 12,
    "start_time": "2022-09-02T10:20:21.871Z"
   },
   {
    "duration": 5,
    "start_time": "2022-09-02T10:20:28.121Z"
   },
   {
    "duration": 1354,
    "start_time": "2022-09-02T10:20:28.718Z"
   },
   {
    "duration": 6,
    "start_time": "2022-09-02T10:22:03.157Z"
   },
   {
    "duration": 1212,
    "start_time": "2022-09-02T10:22:03.425Z"
   },
   {
    "duration": 6,
    "start_time": "2022-09-02T10:22:51.050Z"
   },
   {
    "duration": 1202,
    "start_time": "2022-09-02T10:22:51.341Z"
   },
   {
    "duration": 1204,
    "start_time": "2022-09-02T10:23:02.293Z"
   },
   {
    "duration": 1210,
    "start_time": "2022-09-02T10:23:03.499Z"
   },
   {
    "duration": 5,
    "start_time": "2022-09-02T10:23:45.989Z"
   },
   {
    "duration": 1251,
    "start_time": "2022-09-02T10:23:46.301Z"
   },
   {
    "duration": 5,
    "start_time": "2022-09-02T10:23:57.013Z"
   },
   {
    "duration": 1283,
    "start_time": "2022-09-02T10:23:58.520Z"
   },
   {
    "duration": 6,
    "start_time": "2022-09-02T10:29:44.663Z"
   },
   {
    "duration": 1216,
    "start_time": "2022-09-02T10:29:45.139Z"
   },
   {
    "duration": 5,
    "start_time": "2022-09-02T10:30:01.884Z"
   },
   {
    "duration": 1203,
    "start_time": "2022-09-02T10:30:03.359Z"
   },
   {
    "duration": 1246,
    "start_time": "2022-09-02T10:30:06.059Z"
   },
   {
    "duration": 1274,
    "start_time": "2022-09-02T10:30:07.852Z"
   },
   {
    "duration": 5,
    "start_time": "2022-09-02T10:30:38.708Z"
   },
   {
    "duration": 1287,
    "start_time": "2022-09-02T10:30:38.971Z"
   },
   {
    "duration": 4,
    "start_time": "2022-09-02T10:30:44.315Z"
   },
   {
    "duration": 138,
    "start_time": "2022-09-02T10:30:44.321Z"
   },
   {
    "duration": 24,
    "start_time": "2022-09-02T10:30:44.461Z"
   },
   {
    "duration": 125,
    "start_time": "2022-09-02T10:30:44.486Z"
   },
   {
    "duration": 26,
    "start_time": "2022-09-02T10:30:44.613Z"
   },
   {
    "duration": 128,
    "start_time": "2022-09-02T10:30:44.641Z"
   },
   {
    "duration": 37,
    "start_time": "2022-09-02T10:30:44.771Z"
   },
   {
    "duration": 135,
    "start_time": "2022-09-02T10:30:44.810Z"
   },
   {
    "duration": 5,
    "start_time": "2022-09-02T10:30:44.947Z"
   },
   {
    "duration": 9,
    "start_time": "2022-09-02T10:30:44.954Z"
   },
   {
    "duration": 3275,
    "start_time": "2022-09-02T10:30:44.966Z"
   },
   {
    "duration": 3377,
    "start_time": "2022-09-02T10:30:48.243Z"
   },
   {
    "duration": 3304,
    "start_time": "2022-09-02T10:30:51.622Z"
   },
   {
    "duration": 11,
    "start_time": "2022-09-02T10:30:54.928Z"
   },
   {
    "duration": 26,
    "start_time": "2022-09-02T10:30:54.940Z"
   },
   {
    "duration": 36,
    "start_time": "2022-09-02T10:30:54.968Z"
   },
   {
    "duration": 209,
    "start_time": "2022-09-02T10:30:55.006Z"
   },
   {
    "duration": 219,
    "start_time": "2022-09-02T10:30:55.217Z"
   },
   {
    "duration": 3,
    "start_time": "2022-09-02T10:30:55.504Z"
   },
   {
    "duration": 108,
    "start_time": "2022-09-02T10:30:55.509Z"
   },
   {
    "duration": 35,
    "start_time": "2022-09-02T10:30:55.619Z"
   },
   {
    "duration": 36,
    "start_time": "2022-09-02T10:30:55.655Z"
   },
   {
    "duration": 32,
    "start_time": "2022-09-02T10:30:55.693Z"
   },
   {
    "duration": 29,
    "start_time": "2022-09-02T10:30:55.727Z"
   },
   {
    "duration": 133,
    "start_time": "2022-09-02T10:30:55.758Z"
   },
   {
    "duration": 10,
    "start_time": "2022-09-02T10:30:55.894Z"
   },
   {
    "duration": 5,
    "start_time": "2022-09-02T10:30:55.906Z"
   },
   {
    "duration": 1233,
    "start_time": "2022-09-02T10:30:55.912Z"
   },
   {
    "duration": 1218,
    "start_time": "2022-09-02T10:30:57.148Z"
   },
   {
    "duration": 1265,
    "start_time": "2022-09-02T10:30:58.368Z"
   },
   {
    "duration": 5,
    "start_time": "2022-09-02T10:31:34.056Z"
   },
   {
    "duration": 14,
    "start_time": "2022-09-02T10:31:34.459Z"
   },
   {
    "duration": 5,
    "start_time": "2022-09-02T10:31:46.928Z"
   },
   {
    "duration": 16,
    "start_time": "2022-09-02T10:31:47.280Z"
   },
   {
    "duration": 6,
    "start_time": "2022-09-02T10:31:53.699Z"
   },
   {
    "duration": 16,
    "start_time": "2022-09-02T10:31:54.184Z"
   },
   {
    "duration": 5,
    "start_time": "2022-09-02T10:32:06.892Z"
   },
   {
    "duration": 1204,
    "start_time": "2022-09-02T10:32:07.184Z"
   },
   {
    "duration": 4,
    "start_time": "2022-09-02T10:36:38.250Z"
   },
   {
    "duration": 3,
    "start_time": "2022-09-02T10:36:40.691Z"
   },
   {
    "duration": 143,
    "start_time": "2022-09-02T10:36:40.696Z"
   },
   {
    "duration": 24,
    "start_time": "2022-09-02T10:36:40.841Z"
   },
   {
    "duration": 163,
    "start_time": "2022-09-02T10:36:40.867Z"
   },
   {
    "duration": 26,
    "start_time": "2022-09-02T10:36:41.033Z"
   },
   {
    "duration": 130,
    "start_time": "2022-09-02T10:36:41.061Z"
   },
   {
    "duration": 27,
    "start_time": "2022-09-02T10:36:41.193Z"
   },
   {
    "duration": 162,
    "start_time": "2022-09-02T10:36:41.222Z"
   },
   {
    "duration": 5,
    "start_time": "2022-09-02T10:36:41.385Z"
   },
   {
    "duration": 15,
    "start_time": "2022-09-02T10:36:41.392Z"
   },
   {
    "duration": 3333,
    "start_time": "2022-09-02T10:36:41.409Z"
   },
   {
    "duration": 3361,
    "start_time": "2022-09-02T10:36:44.745Z"
   },
   {
    "duration": 3426,
    "start_time": "2022-09-02T10:36:48.108Z"
   },
   {
    "duration": 9,
    "start_time": "2022-09-02T10:36:51.536Z"
   },
   {
    "duration": 13,
    "start_time": "2022-09-02T10:36:51.547Z"
   },
   {
    "duration": 43,
    "start_time": "2022-09-02T10:36:51.562Z"
   },
   {
    "duration": 201,
    "start_time": "2022-09-02T10:36:51.607Z"
   },
   {
    "duration": 194,
    "start_time": "2022-09-02T10:36:51.810Z"
   },
   {
    "duration": 94,
    "start_time": "2022-09-02T10:36:52.009Z"
   },
   {
    "duration": 9,
    "start_time": "2022-09-02T10:36:52.105Z"
   },
   {
    "duration": 7,
    "start_time": "2022-09-02T10:36:52.116Z"
   },
   {
    "duration": 10,
    "start_time": "2022-09-02T10:36:52.125Z"
   },
   {
    "duration": 11,
    "start_time": "2022-09-02T10:36:52.137Z"
   },
   {
    "duration": 10,
    "start_time": "2022-09-02T10:36:52.150Z"
   },
   {
    "duration": 9,
    "start_time": "2022-09-02T10:36:52.161Z"
   },
   {
    "duration": 12,
    "start_time": "2022-09-02T10:36:52.171Z"
   },
   {
    "duration": 19,
    "start_time": "2022-09-02T10:36:52.184Z"
   },
   {
    "duration": 1216,
    "start_time": "2022-09-02T10:36:52.205Z"
   },
   {
    "duration": 1228,
    "start_time": "2022-09-02T10:36:53.424Z"
   },
   {
    "duration": 1228,
    "start_time": "2022-09-02T10:36:54.654Z"
   },
   {
    "duration": 140,
    "start_time": "2022-09-02T10:37:46.346Z"
   },
   {
    "duration": 9,
    "start_time": "2022-09-02T10:37:46.679Z"
   },
   {
    "duration": 23,
    "start_time": "2022-09-02T10:37:49.142Z"
   },
   {
    "duration": 134,
    "start_time": "2022-09-02T10:37:50.250Z"
   },
   {
    "duration": 23,
    "start_time": "2022-09-02T10:37:53.603Z"
   },
   {
    "duration": 134,
    "start_time": "2022-09-02T10:37:54.478Z"
   },
   {
    "duration": 10,
    "start_time": "2022-09-02T10:38:13.357Z"
   },
   {
    "duration": 152,
    "start_time": "2022-09-02T10:38:14.230Z"
   },
   {
    "duration": 24,
    "start_time": "2022-09-02T10:38:14.500Z"
   },
   {
    "duration": 126,
    "start_time": "2022-09-02T10:38:29.661Z"
   },
   {
    "duration": 4,
    "start_time": "2022-09-02T10:38:57.786Z"
   },
   {
    "duration": 288,
    "start_time": "2022-09-02T10:39:01.826Z"
   },
   {
    "duration": 6,
    "start_time": "2022-09-02T10:39:08.878Z"
   },
   {
    "duration": 2,
    "start_time": "2022-09-02T10:39:09.550Z"
   },
   {
    "duration": 294,
    "start_time": "2022-09-02T10:39:10.557Z"
   },
   {
    "duration": 6,
    "start_time": "2022-09-02T10:39:16.486Z"
   },
   {
    "duration": 2,
    "start_time": "2022-09-02T10:39:17.074Z"
   },
   {
    "duration": 3487,
    "start_time": "2022-09-02T10:39:17.866Z"
   },
   {
    "duration": 3274,
    "start_time": "2022-09-02T10:39:43.558Z"
   },
   {
    "duration": 3395,
    "start_time": "2022-09-02T10:39:56.510Z"
   },
   {
    "duration": 3348,
    "start_time": "2022-09-02T10:40:04.981Z"
   },
   {
    "duration": 11,
    "start_time": "2022-09-02T10:40:30.057Z"
   },
   {
    "duration": 7,
    "start_time": "2022-09-02T10:41:35.723Z"
   },
   {
    "duration": 31,
    "start_time": "2022-09-02T10:41:36.685Z"
   },
   {
    "duration": 4,
    "start_time": "2022-09-02T10:43:26.253Z"
   },
   {
    "duration": 24,
    "start_time": "2022-09-02T10:43:27.577Z"
   },
   {
    "duration": 26,
    "start_time": "2022-09-02T10:43:29.485Z"
   },
   {
    "duration": 26,
    "start_time": "2022-09-02T10:43:30.313Z"
   },
   {
    "duration": 4,
    "start_time": "2022-09-02T10:45:21.797Z"
   },
   {
    "duration": 5,
    "start_time": "2022-09-02T10:45:22.160Z"
   },
   {
    "duration": 11,
    "start_time": "2022-09-02T10:45:38.902Z"
   },
   {
    "duration": 4,
    "start_time": "2022-09-02T10:45:46.864Z"
   },
   {
    "duration": 5,
    "start_time": "2022-09-02T10:47:59.421Z"
   },
   {
    "duration": 5,
    "start_time": "2022-09-02T10:47:59.773Z"
   },
   {
    "duration": 3,
    "start_time": "2022-09-02T10:48:00.317Z"
   },
   {
    "duration": 22,
    "start_time": "2022-09-02T10:48:00.748Z"
   },
   {
    "duration": 1314,
    "start_time": "2022-09-02T10:48:11.684Z"
   },
   {
    "duration": 0,
    "start_time": "2022-09-02T10:48:13.000Z"
   },
   {
    "duration": 0,
    "start_time": "2022-09-02T10:48:13.001Z"
   },
   {
    "duration": 0,
    "start_time": "2022-09-02T10:48:13.003Z"
   },
   {
    "duration": 660,
    "start_time": "2022-09-02T10:49:57.436Z"
   },
   {
    "duration": 16,
    "start_time": "2022-09-02T10:49:58.145Z"
   },
   {
    "duration": 7,
    "start_time": "2022-09-02T10:49:58.389Z"
   },
   {
    "duration": 5,
    "start_time": "2022-09-02T10:50:32.676Z"
   },
   {
    "duration": 4,
    "start_time": "2022-09-02T11:00:20.335Z"
   },
   {
    "duration": 141,
    "start_time": "2022-09-02T11:00:20.340Z"
   },
   {
    "duration": 31,
    "start_time": "2022-09-02T11:00:20.483Z"
   },
   {
    "duration": 133,
    "start_time": "2022-09-02T11:00:20.517Z"
   },
   {
    "duration": 25,
    "start_time": "2022-09-02T11:00:20.653Z"
   },
   {
    "duration": 134,
    "start_time": "2022-09-02T11:00:20.680Z"
   },
   {
    "duration": 25,
    "start_time": "2022-09-02T11:00:20.816Z"
   },
   {
    "duration": 147,
    "start_time": "2022-09-02T11:00:20.842Z"
   },
   {
    "duration": 5,
    "start_time": "2022-09-02T11:00:20.990Z"
   },
   {
    "duration": 3,
    "start_time": "2022-09-02T11:00:21.003Z"
   },
   {
    "duration": 3201,
    "start_time": "2022-09-02T11:00:21.010Z"
   },
   {
    "duration": 3398,
    "start_time": "2022-09-02T11:00:24.214Z"
   },
   {
    "duration": 3606,
    "start_time": "2022-09-02T11:00:27.614Z"
   },
   {
    "duration": 11,
    "start_time": "2022-09-02T11:00:31.223Z"
   },
   {
    "duration": 41,
    "start_time": "2022-09-02T11:00:31.236Z"
   },
   {
    "duration": 52,
    "start_time": "2022-09-02T11:00:31.279Z"
   },
   {
    "duration": 182,
    "start_time": "2022-09-02T11:00:31.334Z"
   },
   {
    "duration": 198,
    "start_time": "2022-09-02T11:00:31.518Z"
   },
   {
    "duration": 85,
    "start_time": "2022-09-02T11:00:31.718Z"
   },
   {
    "duration": 4,
    "start_time": "2022-09-02T11:00:31.808Z"
   },
   {
    "duration": 5,
    "start_time": "2022-09-02T11:00:31.903Z"
   },
   {
    "duration": 8,
    "start_time": "2022-09-02T11:00:31.910Z"
   },
   {
    "duration": 6,
    "start_time": "2022-09-02T11:00:31.920Z"
   },
   {
    "duration": 8,
    "start_time": "2022-09-02T11:00:31.928Z"
   },
   {
    "duration": 19,
    "start_time": "2022-09-02T11:00:31.938Z"
   },
   {
    "duration": 9,
    "start_time": "2022-09-02T11:00:31.959Z"
   },
   {
    "duration": 7,
    "start_time": "2022-09-02T11:00:31.970Z"
   },
   {
    "duration": 1261,
    "start_time": "2022-09-02T11:00:32.002Z"
   },
   {
    "duration": 1270,
    "start_time": "2022-09-02T11:00:33.266Z"
   },
   {
    "duration": 1261,
    "start_time": "2022-09-02T11:00:34.538Z"
   },
   {
    "duration": 1574,
    "start_time": "2022-09-02T11:03:02.220Z"
   },
   {
    "duration": 11,
    "start_time": "2022-09-02T11:03:17.655Z"
   },
   {
    "duration": 13,
    "start_time": "2022-09-02T11:03:18.307Z"
   },
   {
    "duration": 4,
    "start_time": "2022-09-02T11:03:20.695Z"
   },
   {
    "duration": 137,
    "start_time": "2022-09-02T11:03:20.701Z"
   },
   {
    "duration": 26,
    "start_time": "2022-09-02T11:03:20.840Z"
   },
   {
    "duration": 138,
    "start_time": "2022-09-02T11:03:20.868Z"
   },
   {
    "duration": 23,
    "start_time": "2022-09-02T11:03:21.009Z"
   },
   {
    "duration": 134,
    "start_time": "2022-09-02T11:03:21.034Z"
   },
   {
    "duration": 33,
    "start_time": "2022-09-02T11:03:21.170Z"
   },
   {
    "duration": 158,
    "start_time": "2022-09-02T11:03:21.205Z"
   },
   {
    "duration": 5,
    "start_time": "2022-09-02T11:03:21.365Z"
   },
   {
    "duration": 6,
    "start_time": "2022-09-02T11:03:21.371Z"
   },
   {
    "duration": 3255,
    "start_time": "2022-09-02T11:03:21.380Z"
   },
   {
    "duration": 3311,
    "start_time": "2022-09-02T11:03:24.636Z"
   },
   {
    "duration": 3485,
    "start_time": "2022-09-02T11:03:27.948Z"
   },
   {
    "duration": 10,
    "start_time": "2022-09-02T11:03:31.435Z"
   },
   {
    "duration": 19,
    "start_time": "2022-09-02T11:03:31.446Z"
   },
   {
    "duration": 49,
    "start_time": "2022-09-02T11:03:31.467Z"
   },
   {
    "duration": 198,
    "start_time": "2022-09-02T11:03:31.518Z"
   },
   {
    "duration": 194,
    "start_time": "2022-09-02T11:03:31.721Z"
   },
   {
    "duration": 90,
    "start_time": "2022-09-02T11:03:31.917Z"
   },
   {
    "duration": 125,
    "start_time": "2022-09-02T11:03:32.010Z"
   },
   {
    "duration": 26,
    "start_time": "2022-09-02T11:03:32.137Z"
   },
   {
    "duration": 17,
    "start_time": "2022-09-02T11:03:32.165Z"
   },
   {
    "duration": 31,
    "start_time": "2022-09-02T11:03:32.184Z"
   },
   {
    "duration": 28,
    "start_time": "2022-09-02T11:03:32.217Z"
   },
   {
    "duration": 21,
    "start_time": "2022-09-02T11:03:32.247Z"
   },
   {
    "duration": 16,
    "start_time": "2022-09-02T11:03:32.270Z"
   },
   {
    "duration": 36,
    "start_time": "2022-09-02T11:03:32.287Z"
   },
   {
    "duration": 1248,
    "start_time": "2022-09-02T11:03:32.325Z"
   },
   {
    "duration": 1268,
    "start_time": "2022-09-02T11:03:33.577Z"
   },
   {
    "duration": 1367,
    "start_time": "2022-09-02T11:03:34.847Z"
   },
   {
    "duration": 4,
    "start_time": "2022-09-02T11:04:26.047Z"
   },
   {
    "duration": 134,
    "start_time": "2022-09-02T11:04:26.053Z"
   },
   {
    "duration": 23,
    "start_time": "2022-09-02T11:04:26.189Z"
   },
   {
    "duration": 117,
    "start_time": "2022-09-02T11:04:26.215Z"
   },
   {
    "duration": 22,
    "start_time": "2022-09-02T11:04:26.334Z"
   },
   {
    "duration": 128,
    "start_time": "2022-09-02T11:04:26.358Z"
   },
   {
    "duration": 24,
    "start_time": "2022-09-02T11:04:26.487Z"
   },
   {
    "duration": 142,
    "start_time": "2022-09-02T11:04:26.514Z"
   },
   {
    "duration": 5,
    "start_time": "2022-09-02T11:04:26.659Z"
   },
   {
    "duration": 9,
    "start_time": "2022-09-02T11:04:26.665Z"
   },
   {
    "duration": 3250,
    "start_time": "2022-09-02T11:04:26.676Z"
   },
   {
    "duration": 3294,
    "start_time": "2022-09-02T11:04:29.928Z"
   },
   {
    "duration": 3398,
    "start_time": "2022-09-02T11:04:33.224Z"
   },
   {
    "duration": 10,
    "start_time": "2022-09-02T11:04:36.624Z"
   },
   {
    "duration": 29,
    "start_time": "2022-09-02T11:04:36.636Z"
   },
   {
    "duration": 37,
    "start_time": "2022-09-02T11:04:36.667Z"
   },
   {
    "duration": 199,
    "start_time": "2022-09-02T11:04:36.705Z"
   },
   {
    "duration": 112,
    "start_time": "2022-09-02T11:04:36.910Z"
   },
   {
    "duration": 78,
    "start_time": "2022-09-02T11:04:37.025Z"
   },
   {
    "duration": 105,
    "start_time": "2022-09-02T11:04:37.105Z"
   },
   {
    "duration": 7,
    "start_time": "2022-09-02T11:04:37.212Z"
   },
   {
    "duration": 18,
    "start_time": "2022-09-02T11:04:37.221Z"
   },
   {
    "duration": 0,
    "start_time": "2022-09-02T11:04:37.241Z"
   },
   {
    "duration": 0,
    "start_time": "2022-09-02T11:04:37.242Z"
   },
   {
    "duration": 0,
    "start_time": "2022-09-02T11:04:37.243Z"
   },
   {
    "duration": 0,
    "start_time": "2022-09-02T11:04:37.244Z"
   },
   {
    "duration": 0,
    "start_time": "2022-09-02T11:04:37.245Z"
   },
   {
    "duration": 0,
    "start_time": "2022-09-02T11:04:37.246Z"
   },
   {
    "duration": 0,
    "start_time": "2022-09-02T11:04:37.247Z"
   },
   {
    "duration": 0,
    "start_time": "2022-09-02T11:04:37.248Z"
   },
   {
    "duration": 9,
    "start_time": "2022-09-02T11:04:52.647Z"
   },
   {
    "duration": 12,
    "start_time": "2022-09-02T11:04:59.811Z"
   },
   {
    "duration": 3,
    "start_time": "2022-09-02T11:05:10.951Z"
   },
   {
    "duration": 133,
    "start_time": "2022-09-02T11:05:10.956Z"
   },
   {
    "duration": 24,
    "start_time": "2022-09-02T11:05:11.091Z"
   },
   {
    "duration": 119,
    "start_time": "2022-09-02T11:05:11.117Z"
   },
   {
    "duration": 24,
    "start_time": "2022-09-02T11:05:11.239Z"
   },
   {
    "duration": 140,
    "start_time": "2022-09-02T11:05:11.265Z"
   },
   {
    "duration": 28,
    "start_time": "2022-09-02T11:05:11.407Z"
   },
   {
    "duration": 141,
    "start_time": "2022-09-02T11:05:11.438Z"
   },
   {
    "duration": 5,
    "start_time": "2022-09-02T11:05:11.581Z"
   },
   {
    "duration": 6,
    "start_time": "2022-09-02T11:05:11.588Z"
   },
   {
    "duration": 3223,
    "start_time": "2022-09-02T11:05:11.605Z"
   },
   {
    "duration": 3295,
    "start_time": "2022-09-02T11:05:14.829Z"
   },
   {
    "duration": 3402,
    "start_time": "2022-09-02T11:05:18.127Z"
   },
   {
    "duration": 10,
    "start_time": "2022-09-02T11:05:21.531Z"
   },
   {
    "duration": 12,
    "start_time": "2022-09-02T11:05:21.543Z"
   },
   {
    "duration": 47,
    "start_time": "2022-09-02T11:05:21.557Z"
   },
   {
    "duration": 116,
    "start_time": "2022-09-02T11:05:21.605Z"
   },
   {
    "duration": 116,
    "start_time": "2022-09-02T11:05:21.805Z"
   },
   {
    "duration": 2,
    "start_time": "2022-09-02T11:05:21.923Z"
   },
   {
    "duration": 108,
    "start_time": "2022-09-02T11:05:22.002Z"
   },
   {
    "duration": 13,
    "start_time": "2022-09-02T11:05:22.112Z"
   },
   {
    "duration": 15,
    "start_time": "2022-09-02T11:05:22.127Z"
   },
   {
    "duration": 0,
    "start_time": "2022-09-02T11:05:22.144Z"
   },
   {
    "duration": 0,
    "start_time": "2022-09-02T11:05:22.145Z"
   },
   {
    "duration": 0,
    "start_time": "2022-09-02T11:05:22.146Z"
   },
   {
    "duration": 0,
    "start_time": "2022-09-02T11:05:22.148Z"
   },
   {
    "duration": 0,
    "start_time": "2022-09-02T11:05:22.149Z"
   },
   {
    "duration": 0,
    "start_time": "2022-09-02T11:05:22.150Z"
   },
   {
    "duration": 0,
    "start_time": "2022-09-02T11:05:22.152Z"
   },
   {
    "duration": 0,
    "start_time": "2022-09-02T11:05:22.265Z"
   },
   {
    "duration": 15,
    "start_time": "2022-09-02T11:05:30.663Z"
   },
   {
    "duration": 3,
    "start_time": "2022-09-02T11:05:37.527Z"
   },
   {
    "duration": 163,
    "start_time": "2022-09-02T11:05:37.533Z"
   },
   {
    "duration": 25,
    "start_time": "2022-09-02T11:05:37.698Z"
   },
   {
    "duration": 133,
    "start_time": "2022-09-02T11:05:37.724Z"
   },
   {
    "duration": 22,
    "start_time": "2022-09-02T11:05:37.859Z"
   },
   {
    "duration": 120,
    "start_time": "2022-09-02T11:05:37.882Z"
   },
   {
    "duration": 23,
    "start_time": "2022-09-02T11:05:38.004Z"
   },
   {
    "duration": 140,
    "start_time": "2022-09-02T11:05:38.028Z"
   },
   {
    "duration": 6,
    "start_time": "2022-09-02T11:05:38.169Z"
   },
   {
    "duration": 24,
    "start_time": "2022-09-02T11:05:38.176Z"
   },
   {
    "duration": 3347,
    "start_time": "2022-09-02T11:05:38.202Z"
   },
   {
    "duration": 3269,
    "start_time": "2022-09-02T11:05:41.550Z"
   },
   {
    "duration": 3514,
    "start_time": "2022-09-02T11:05:44.821Z"
   },
   {
    "duration": 11,
    "start_time": "2022-09-02T11:05:48.337Z"
   },
   {
    "duration": 8,
    "start_time": "2022-09-02T11:05:48.350Z"
   },
   {
    "duration": 44,
    "start_time": "2022-09-02T11:05:48.360Z"
   },
   {
    "duration": 198,
    "start_time": "2022-09-02T11:05:48.406Z"
   },
   {
    "duration": 113,
    "start_time": "2022-09-02T11:05:48.606Z"
   },
   {
    "duration": 3,
    "start_time": "2022-09-02T11:05:48.721Z"
   },
   {
    "duration": 179,
    "start_time": "2022-09-02T11:05:48.725Z"
   },
   {
    "duration": 34,
    "start_time": "2022-09-02T11:05:48.907Z"
   },
   {
    "duration": 27,
    "start_time": "2022-09-02T11:05:48.943Z"
   },
   {
    "duration": 0,
    "start_time": "2022-09-02T11:05:48.973Z"
   },
   {
    "duration": 1,
    "start_time": "2022-09-02T11:05:48.974Z"
   },
   {
    "duration": 0,
    "start_time": "2022-09-02T11:05:48.976Z"
   },
   {
    "duration": 0,
    "start_time": "2022-09-02T11:05:48.977Z"
   },
   {
    "duration": 0,
    "start_time": "2022-09-02T11:05:48.978Z"
   },
   {
    "duration": 0,
    "start_time": "2022-09-02T11:05:48.980Z"
   },
   {
    "duration": 0,
    "start_time": "2022-09-02T11:05:48.982Z"
   },
   {
    "duration": 0,
    "start_time": "2022-09-02T11:05:48.983Z"
   },
   {
    "duration": 3,
    "start_time": "2022-09-02T11:06:05.178Z"
   },
   {
    "duration": 138,
    "start_time": "2022-09-02T11:06:05.184Z"
   },
   {
    "duration": 23,
    "start_time": "2022-09-02T11:06:05.324Z"
   },
   {
    "duration": 124,
    "start_time": "2022-09-02T11:06:05.349Z"
   },
   {
    "duration": 31,
    "start_time": "2022-09-02T11:06:05.475Z"
   },
   {
    "duration": 123,
    "start_time": "2022-09-02T11:06:05.508Z"
   },
   {
    "duration": 27,
    "start_time": "2022-09-02T11:06:05.633Z"
   },
   {
    "duration": 153,
    "start_time": "2022-09-02T11:06:05.662Z"
   },
   {
    "duration": 5,
    "start_time": "2022-09-02T11:06:05.817Z"
   },
   {
    "duration": 10,
    "start_time": "2022-09-02T11:06:05.823Z"
   },
   {
    "duration": 3339,
    "start_time": "2022-09-02T11:06:05.835Z"
   },
   {
    "duration": 3232,
    "start_time": "2022-09-02T11:06:09.175Z"
   },
   {
    "duration": 3406,
    "start_time": "2022-09-02T11:06:12.410Z"
   },
   {
    "duration": 10,
    "start_time": "2022-09-02T11:06:15.818Z"
   },
   {
    "duration": 27,
    "start_time": "2022-09-02T11:06:15.830Z"
   },
   {
    "duration": 45,
    "start_time": "2022-09-02T11:06:15.859Z"
   },
   {
    "duration": 201,
    "start_time": "2022-09-02T11:06:15.906Z"
   },
   {
    "duration": 202,
    "start_time": "2022-09-02T11:06:16.109Z"
   },
   {
    "duration": 89,
    "start_time": "2022-09-02T11:06:16.314Z"
   },
   {
    "duration": 5,
    "start_time": "2022-09-02T11:06:16.405Z"
   },
   {
    "duration": 113,
    "start_time": "2022-09-02T11:06:16.412Z"
   },
   {
    "duration": 32,
    "start_time": "2022-09-02T11:06:16.527Z"
   },
   {
    "duration": 16,
    "start_time": "2022-09-02T11:06:16.561Z"
   },
   {
    "duration": 20,
    "start_time": "2022-09-02T11:06:16.578Z"
   },
   {
    "duration": 38,
    "start_time": "2022-09-02T11:06:16.600Z"
   },
   {
    "duration": 16,
    "start_time": "2022-09-02T11:06:16.640Z"
   },
   {
    "duration": 14,
    "start_time": "2022-09-02T11:06:16.658Z"
   },
   {
    "duration": 1302,
    "start_time": "2022-09-02T11:06:16.673Z"
   },
   {
    "duration": 1329,
    "start_time": "2022-09-02T11:06:17.977Z"
   },
   {
    "duration": 1254,
    "start_time": "2022-09-02T11:06:19.307Z"
   },
   {
    "duration": 148,
    "start_time": "2022-09-02T11:09:29.466Z"
   },
   {
    "duration": 12,
    "start_time": "2022-09-02T11:10:20.222Z"
   },
   {
    "duration": 13,
    "start_time": "2022-09-02T11:10:22.238Z"
   },
   {
    "duration": 4,
    "start_time": "2022-09-02T11:10:23.210Z"
   },
   {
    "duration": 6,
    "start_time": "2022-09-02T11:10:23.806Z"
   },
   {
    "duration": 6,
    "start_time": "2022-09-02T11:10:24.494Z"
   },
   {
    "duration": 6,
    "start_time": "2022-09-02T11:10:24.794Z"
   },
   {
    "duration": 5,
    "start_time": "2022-09-02T11:10:26.154Z"
   },
   {
    "duration": 1225,
    "start_time": "2022-09-02T11:10:26.970Z"
   },
   {
    "duration": 3,
    "start_time": "2022-09-02T11:11:32.034Z"
   },
   {
    "duration": 131,
    "start_time": "2022-09-02T11:11:32.039Z"
   },
   {
    "duration": 22,
    "start_time": "2022-09-02T11:11:32.172Z"
   },
   {
    "duration": 118,
    "start_time": "2022-09-02T11:11:32.202Z"
   },
   {
    "duration": 22,
    "start_time": "2022-09-02T11:11:32.322Z"
   },
   {
    "duration": 133,
    "start_time": "2022-09-02T11:11:32.346Z"
   },
   {
    "duration": 27,
    "start_time": "2022-09-02T11:11:32.480Z"
   },
   {
    "duration": 140,
    "start_time": "2022-09-02T11:11:32.509Z"
   },
   {
    "duration": 5,
    "start_time": "2022-09-02T11:11:32.650Z"
   },
   {
    "duration": 9,
    "start_time": "2022-09-02T11:11:32.656Z"
   },
   {
    "duration": 3161,
    "start_time": "2022-09-02T11:11:32.668Z"
   },
   {
    "duration": 3404,
    "start_time": "2022-09-02T11:11:35.831Z"
   },
   {
    "duration": 3705,
    "start_time": "2022-09-02T11:11:39.237Z"
   },
   {
    "duration": 10,
    "start_time": "2022-09-02T11:11:42.944Z"
   },
   {
    "duration": 9,
    "start_time": "2022-09-02T11:11:42.956Z"
   },
   {
    "duration": 45,
    "start_time": "2022-09-02T11:11:42.967Z"
   },
   {
    "duration": 119,
    "start_time": "2022-09-02T11:11:43.102Z"
   },
   {
    "duration": 194,
    "start_time": "2022-09-02T11:11:43.223Z"
   },
   {
    "duration": 84,
    "start_time": "2022-09-02T11:11:43.419Z"
   },
   {
    "duration": 6,
    "start_time": "2022-09-02T11:11:43.505Z"
   },
   {
    "duration": 102,
    "start_time": "2022-09-02T11:11:43.513Z"
   },
   {
    "duration": 7,
    "start_time": "2022-09-02T11:11:43.617Z"
   },
   {
    "duration": 7,
    "start_time": "2022-09-02T11:11:43.626Z"
   },
   {
    "duration": 9,
    "start_time": "2022-09-02T11:11:43.634Z"
   },
   {
    "duration": 6,
    "start_time": "2022-09-02T11:11:43.645Z"
   },
   {
    "duration": 5,
    "start_time": "2022-09-02T11:11:43.653Z"
   },
   {
    "duration": 6,
    "start_time": "2022-09-02T11:11:43.660Z"
   },
   {
    "duration": 1256,
    "start_time": "2022-09-02T11:11:43.668Z"
   },
   {
    "duration": 1270,
    "start_time": "2022-09-02T11:11:44.928Z"
   },
   {
    "duration": 1237,
    "start_time": "2022-09-02T11:11:46.202Z"
   },
   {
    "duration": 11,
    "start_time": "2022-09-02T11:12:58.453Z"
   },
   {
    "duration": 2,
    "start_time": "2022-09-02T11:15:21.118Z"
   },
   {
    "duration": 4,
    "start_time": "2022-09-02T11:17:08.685Z"
   },
   {
    "duration": 15,
    "start_time": "2022-09-02T11:17:09.549Z"
   },
   {
    "duration": 4,
    "start_time": "2022-09-02T11:17:32.257Z"
   },
   {
    "duration": 6,
    "start_time": "2022-09-02T11:17:32.509Z"
   },
   {
    "duration": 7,
    "start_time": "2022-09-02T11:17:34.341Z"
   },
   {
    "duration": 7,
    "start_time": "2022-09-02T11:17:34.725Z"
   },
   {
    "duration": 6,
    "start_time": "2022-09-02T11:18:04.505Z"
   },
   {
    "duration": 1242,
    "start_time": "2022-09-02T11:18:04.801Z"
   },
   {
    "duration": 1228,
    "start_time": "2022-09-02T11:18:06.052Z"
   },
   {
    "duration": 1254,
    "start_time": "2022-09-02T11:18:07.282Z"
   },
   {
    "duration": 4,
    "start_time": "2022-09-02T11:19:28.089Z"
   },
   {
    "duration": 139,
    "start_time": "2022-09-02T11:19:28.095Z"
   },
   {
    "duration": 24,
    "start_time": "2022-09-02T11:19:28.236Z"
   },
   {
    "duration": 130,
    "start_time": "2022-09-02T11:19:28.262Z"
   },
   {
    "duration": 29,
    "start_time": "2022-09-02T11:19:28.394Z"
   },
   {
    "duration": 132,
    "start_time": "2022-09-02T11:19:28.425Z"
   },
   {
    "duration": 25,
    "start_time": "2022-09-02T11:19:28.559Z"
   },
   {
    "duration": 149,
    "start_time": "2022-09-02T11:19:28.585Z"
   },
   {
    "duration": 4,
    "start_time": "2022-09-02T11:19:28.736Z"
   },
   {
    "duration": 8,
    "start_time": "2022-09-02T11:19:28.742Z"
   },
   {
    "duration": 3281,
    "start_time": "2022-09-02T11:19:28.753Z"
   },
   {
    "duration": 3194,
    "start_time": "2022-09-02T11:19:32.036Z"
   },
   {
    "duration": 3399,
    "start_time": "2022-09-02T11:19:35.231Z"
   },
   {
    "duration": 9,
    "start_time": "2022-09-02T11:19:38.632Z"
   },
   {
    "duration": 8,
    "start_time": "2022-09-02T11:19:38.643Z"
   },
   {
    "duration": 51,
    "start_time": "2022-09-02T11:19:38.653Z"
   },
   {
    "duration": 109,
    "start_time": "2022-09-02T11:19:38.706Z"
   },
   {
    "duration": 196,
    "start_time": "2022-09-02T11:19:38.817Z"
   },
   {
    "duration": 187,
    "start_time": "2022-09-02T11:19:39.017Z"
   },
   {
    "duration": 5,
    "start_time": "2022-09-02T11:19:39.206Z"
   },
   {
    "duration": 7,
    "start_time": "2022-09-02T11:19:39.213Z"
   },
   {
    "duration": 11,
    "start_time": "2022-09-02T11:19:39.221Z"
   },
   {
    "duration": 9,
    "start_time": "2022-09-02T11:19:39.234Z"
   },
   {
    "duration": 9,
    "start_time": "2022-09-02T11:19:39.245Z"
   },
   {
    "duration": 6,
    "start_time": "2022-09-02T11:19:39.256Z"
   },
   {
    "duration": 9,
    "start_time": "2022-09-02T11:19:39.264Z"
   },
   {
    "duration": 9,
    "start_time": "2022-09-02T11:19:39.274Z"
   },
   {
    "duration": 1240,
    "start_time": "2022-09-02T11:19:39.303Z"
   },
   {
    "duration": 1258,
    "start_time": "2022-09-02T11:19:40.546Z"
   },
   {
    "duration": 1311,
    "start_time": "2022-09-02T11:19:41.806Z"
   },
   {
    "duration": 8,
    "start_time": "2022-09-02T11:21:28.997Z"
   },
   {
    "duration": 1243,
    "start_time": "2022-09-02T11:21:29.297Z"
   },
   {
    "duration": 1237,
    "start_time": "2022-09-02T11:21:33.440Z"
   },
   {
    "duration": 1223,
    "start_time": "2022-09-02T11:21:35.756Z"
   },
   {
    "duration": 3,
    "start_time": "2022-09-02T11:24:11.977Z"
   },
   {
    "duration": 12,
    "start_time": "2022-09-02T11:24:14.785Z"
   },
   {
    "duration": 4,
    "start_time": "2022-09-02T11:25:06.548Z"
   },
   {
    "duration": 12,
    "start_time": "2022-09-02T11:25:07.155Z"
   },
   {
    "duration": 6,
    "start_time": "2022-09-02T11:25:11.621Z"
   },
   {
    "duration": 1253,
    "start_time": "2022-09-02T11:25:21.969Z"
   },
   {
    "duration": 7,
    "start_time": "2022-09-02T11:25:24.481Z"
   },
   {
    "duration": 1236,
    "start_time": "2022-09-02T11:25:24.757Z"
   },
   {
    "duration": 4,
    "start_time": "2022-09-02T11:25:34.568Z"
   },
   {
    "duration": 160,
    "start_time": "2022-09-02T11:25:34.575Z"
   },
   {
    "duration": 22,
    "start_time": "2022-09-02T11:25:34.737Z"
   },
   {
    "duration": 130,
    "start_time": "2022-09-02T11:25:34.761Z"
   },
   {
    "duration": 23,
    "start_time": "2022-09-02T11:25:34.894Z"
   },
   {
    "duration": 126,
    "start_time": "2022-09-02T11:25:34.918Z"
   },
   {
    "duration": 23,
    "start_time": "2022-09-02T11:25:35.046Z"
   },
   {
    "duration": 146,
    "start_time": "2022-09-02T11:25:35.071Z"
   },
   {
    "duration": 6,
    "start_time": "2022-09-02T11:25:35.218Z"
   },
   {
    "duration": 7,
    "start_time": "2022-09-02T11:25:35.225Z"
   },
   {
    "duration": 3297,
    "start_time": "2022-09-02T11:25:35.235Z"
   },
   {
    "duration": 3485,
    "start_time": "2022-09-02T11:25:38.534Z"
   },
   {
    "duration": 3509,
    "start_time": "2022-09-02T11:25:42.021Z"
   },
   {
    "duration": 9,
    "start_time": "2022-09-02T11:25:45.532Z"
   },
   {
    "duration": 18,
    "start_time": "2022-09-02T11:25:45.543Z"
   },
   {
    "duration": 66,
    "start_time": "2022-09-02T11:25:45.563Z"
   },
   {
    "duration": 192,
    "start_time": "2022-09-02T11:25:45.631Z"
   },
   {
    "duration": 200,
    "start_time": "2022-09-02T11:25:45.825Z"
   },
   {
    "duration": 79,
    "start_time": "2022-09-02T11:25:46.027Z"
   },
   {
    "duration": 96,
    "start_time": "2022-09-02T11:25:46.109Z"
   },
   {
    "duration": 29,
    "start_time": "2022-09-02T11:25:46.206Z"
   },
   {
    "duration": 25,
    "start_time": "2022-09-02T11:25:46.237Z"
   },
   {
    "duration": 32,
    "start_time": "2022-09-02T11:25:46.264Z"
   },
   {
    "duration": 26,
    "start_time": "2022-09-02T11:25:46.297Z"
   },
   {
    "duration": 28,
    "start_time": "2022-09-02T11:25:46.325Z"
   },
   {
    "duration": 25,
    "start_time": "2022-09-02T11:25:46.354Z"
   },
   {
    "duration": 16,
    "start_time": "2022-09-02T11:25:46.381Z"
   },
   {
    "duration": 1322,
    "start_time": "2022-09-02T11:25:46.398Z"
   },
   {
    "duration": 0,
    "start_time": "2022-09-02T11:25:47.722Z"
   },
   {
    "duration": 0,
    "start_time": "2022-09-02T11:25:47.723Z"
   },
   {
    "duration": 6,
    "start_time": "2022-09-02T11:26:04.453Z"
   },
   {
    "duration": 5,
    "start_time": "2022-09-02T11:26:05.080Z"
   },
   {
    "duration": 7,
    "start_time": "2022-09-02T11:26:05.380Z"
   },
   {
    "duration": 6,
    "start_time": "2022-09-02T11:26:05.952Z"
   },
   {
    "duration": 8,
    "start_time": "2022-09-02T11:26:06.252Z"
   },
   {
    "duration": 4,
    "start_time": "2022-09-02T11:26:56.396Z"
   },
   {
    "duration": 5,
    "start_time": "2022-09-02T11:26:56.733Z"
   },
   {
    "duration": 6,
    "start_time": "2022-09-02T11:26:57.032Z"
   },
   {
    "duration": 7,
    "start_time": "2022-09-02T11:26:57.268Z"
   },
   {
    "duration": 5,
    "start_time": "2022-09-02T11:26:58.521Z"
   },
   {
    "duration": 1123,
    "start_time": "2022-09-02T11:26:59.676Z"
   },
   {
    "duration": 1125,
    "start_time": "2022-09-02T11:27:02.461Z"
   },
   {
    "duration": 1126,
    "start_time": "2022-09-02T11:27:03.588Z"
   },
   {
    "duration": 12,
    "start_time": "2022-09-02T11:27:56.864Z"
   },
   {
    "duration": 4,
    "start_time": "2022-09-02T11:28:00.944Z"
   },
   {
    "duration": 6,
    "start_time": "2022-09-02T11:28:01.589Z"
   },
   {
    "duration": 5,
    "start_time": "2022-09-02T11:28:54.460Z"
   },
   {
    "duration": 7,
    "start_time": "2022-09-02T11:28:54.824Z"
   },
   {
    "duration": 4,
    "start_time": "2022-09-02T11:30:16.716Z"
   },
   {
    "duration": 6,
    "start_time": "2022-09-02T11:30:17.053Z"
   },
   {
    "duration": 10,
    "start_time": "2022-09-02T11:32:14.736Z"
   },
   {
    "duration": 5,
    "start_time": "2022-09-02T11:33:12.499Z"
   },
   {
    "duration": 7,
    "start_time": "2022-09-02T11:33:12.839Z"
   },
   {
    "duration": 6,
    "start_time": "2022-09-02T11:33:13.971Z"
   },
   {
    "duration": 8,
    "start_time": "2022-09-02T11:33:14.297Z"
   },
   {
    "duration": 6,
    "start_time": "2022-09-02T11:33:56.112Z"
   },
   {
    "duration": 1275,
    "start_time": "2022-09-02T11:33:56.268Z"
   },
   {
    "duration": 5,
    "start_time": "2022-09-02T11:34:10.407Z"
   },
   {
    "duration": 6,
    "start_time": "2022-09-02T11:34:10.912Z"
   },
   {
    "duration": 6,
    "start_time": "2022-09-02T11:34:11.176Z"
   },
   {
    "duration": 7,
    "start_time": "2022-09-02T11:34:11.395Z"
   },
   {
    "duration": 5,
    "start_time": "2022-09-02T11:34:12.840Z"
   },
   {
    "duration": 1220,
    "start_time": "2022-09-02T11:34:13.761Z"
   },
   {
    "duration": 11,
    "start_time": "2022-09-02T11:35:12.808Z"
   },
   {
    "duration": 5,
    "start_time": "2022-09-02T11:35:18.416Z"
   },
   {
    "duration": 137,
    "start_time": "2022-09-02T11:35:18.423Z"
   },
   {
    "duration": 24,
    "start_time": "2022-09-02T11:35:18.562Z"
   },
   {
    "duration": 126,
    "start_time": "2022-09-02T11:35:18.588Z"
   },
   {
    "duration": 27,
    "start_time": "2022-09-02T11:35:18.717Z"
   },
   {
    "duration": 140,
    "start_time": "2022-09-02T11:35:18.746Z"
   },
   {
    "duration": 32,
    "start_time": "2022-09-02T11:35:18.889Z"
   },
   {
    "duration": 181,
    "start_time": "2022-09-02T11:35:18.923Z"
   },
   {
    "duration": 6,
    "start_time": "2022-09-02T11:35:19.106Z"
   },
   {
    "duration": 6,
    "start_time": "2022-09-02T11:35:19.115Z"
   },
   {
    "duration": 3281,
    "start_time": "2022-09-02T11:35:19.123Z"
   },
   {
    "duration": 3206,
    "start_time": "2022-09-02T11:35:22.405Z"
   },
   {
    "duration": 3337,
    "start_time": "2022-09-02T11:35:25.614Z"
   },
   {
    "duration": 12,
    "start_time": "2022-09-02T11:35:28.955Z"
   },
   {
    "duration": 17,
    "start_time": "2022-09-02T11:35:28.970Z"
   },
   {
    "duration": 69,
    "start_time": "2022-09-02T11:35:28.989Z"
   },
   {
    "duration": 120,
    "start_time": "2022-09-02T11:35:29.104Z"
   },
   {
    "duration": 211,
    "start_time": "2022-09-02T11:35:29.226Z"
   },
   {
    "duration": 65,
    "start_time": "2022-09-02T11:35:29.439Z"
   },
   {
    "duration": 99,
    "start_time": "2022-09-02T11:35:29.506Z"
   },
   {
    "duration": 24,
    "start_time": "2022-09-02T11:35:29.606Z"
   },
   {
    "duration": 21,
    "start_time": "2022-09-02T11:35:29.632Z"
   },
   {
    "duration": 7,
    "start_time": "2022-09-02T11:35:29.654Z"
   },
   {
    "duration": 8,
    "start_time": "2022-09-02T11:35:29.663Z"
   },
   {
    "duration": 100,
    "start_time": "2022-09-02T11:35:29.673Z"
   },
   {
    "duration": 6,
    "start_time": "2022-09-02T11:35:29.774Z"
   },
   {
    "duration": 21,
    "start_time": "2022-09-02T11:35:29.782Z"
   },
   {
    "duration": 1209,
    "start_time": "2022-09-02T11:35:29.805Z"
   },
   {
    "duration": 1257,
    "start_time": "2022-09-02T11:35:31.017Z"
   },
   {
    "duration": 1222,
    "start_time": "2022-09-02T11:35:32.276Z"
   },
   {
    "duration": 3,
    "start_time": "2022-09-02T11:39:17.563Z"
   },
   {
    "duration": 127,
    "start_time": "2022-09-02T11:39:17.568Z"
   },
   {
    "duration": 24,
    "start_time": "2022-09-02T11:39:17.703Z"
   },
   {
    "duration": 121,
    "start_time": "2022-09-02T11:39:17.729Z"
   },
   {
    "duration": 23,
    "start_time": "2022-09-02T11:39:17.853Z"
   },
   {
    "duration": 117,
    "start_time": "2022-09-02T11:39:17.878Z"
   },
   {
    "duration": 26,
    "start_time": "2022-09-02T11:39:17.996Z"
   },
   {
    "duration": 141,
    "start_time": "2022-09-02T11:39:18.024Z"
   },
   {
    "duration": 4,
    "start_time": "2022-09-02T11:39:18.167Z"
   },
   {
    "duration": 7,
    "start_time": "2022-09-02T11:39:18.172Z"
   },
   {
    "duration": 3153,
    "start_time": "2022-09-02T11:39:18.182Z"
   },
   {
    "duration": 3205,
    "start_time": "2022-09-02T11:39:21.337Z"
   },
   {
    "duration": 3297,
    "start_time": "2022-09-02T11:39:24.544Z"
   },
   {
    "duration": 10,
    "start_time": "2022-09-02T11:39:27.843Z"
   },
   {
    "duration": 6,
    "start_time": "2022-09-02T11:39:27.855Z"
   },
   {
    "duration": 41,
    "start_time": "2022-09-02T11:39:27.863Z"
   },
   {
    "duration": 201,
    "start_time": "2022-09-02T11:39:27.906Z"
   },
   {
    "duration": 198,
    "start_time": "2022-09-02T11:39:28.109Z"
   },
   {
    "duration": 2,
    "start_time": "2022-09-02T11:39:28.310Z"
   },
   {
    "duration": 121,
    "start_time": "2022-09-02T11:39:28.314Z"
   },
   {
    "duration": 10,
    "start_time": "2022-09-02T11:39:28.437Z"
   },
   {
    "duration": 21,
    "start_time": "2022-09-02T11:39:28.448Z"
   },
   {
    "duration": 32,
    "start_time": "2022-09-02T11:39:28.471Z"
   },
   {
    "duration": 8,
    "start_time": "2022-09-02T11:39:28.505Z"
   },
   {
    "duration": 6,
    "start_time": "2022-09-02T11:39:28.515Z"
   },
   {
    "duration": 8,
    "start_time": "2022-09-02T11:39:28.522Z"
   },
   {
    "duration": 6,
    "start_time": "2022-09-02T11:39:28.532Z"
   },
   {
    "duration": 1308,
    "start_time": "2022-09-02T11:39:28.539Z"
   },
   {
    "duration": 1222,
    "start_time": "2022-09-02T11:39:29.850Z"
   },
   {
    "duration": 1255,
    "start_time": "2022-09-02T11:39:31.074Z"
   },
   {
    "duration": 4,
    "start_time": "2022-09-02T11:40:05.887Z"
   },
   {
    "duration": 3,
    "start_time": "2022-09-02T11:40:07.583Z"
   },
   {
    "duration": 3140,
    "start_time": "2022-09-02T11:40:08.499Z"
   },
   {
    "duration": 4,
    "start_time": "2022-09-02T11:40:17.511Z"
   },
   {
    "duration": 3,
    "start_time": "2022-09-02T11:40:18.104Z"
   },
   {
    "duration": 3221,
    "start_time": "2022-09-02T11:40:21.699Z"
   },
   {
    "duration": 4,
    "start_time": "2022-09-02T11:43:57.350Z"
   },
   {
    "duration": 32,
    "start_time": "2022-09-02T11:44:51.246Z"
   },
   {
    "duration": 2585,
    "start_time": "2022-09-02T12:15:38.953Z"
   },
   {
    "duration": 491,
    "start_time": "2022-09-02T12:15:41.540Z"
   },
   {
    "duration": 24,
    "start_time": "2022-09-02T12:15:42.033Z"
   },
   {
    "duration": 538,
    "start_time": "2022-09-02T12:15:42.058Z"
   },
   {
    "duration": 20,
    "start_time": "2022-09-02T12:15:42.598Z"
   },
   {
    "duration": 519,
    "start_time": "2022-09-02T12:15:42.620Z"
   },
   {
    "duration": 22,
    "start_time": "2022-09-02T12:15:43.141Z"
   },
   {
    "duration": 128,
    "start_time": "2022-09-02T12:15:43.165Z"
   },
   {
    "duration": 11,
    "start_time": "2022-09-02T12:15:43.295Z"
   },
   {
    "duration": 4,
    "start_time": "2022-09-02T12:15:43.307Z"
   },
   {
    "duration": 3144,
    "start_time": "2022-09-02T12:15:43.312Z"
   },
   {
    "duration": 2676,
    "start_time": "2022-09-02T12:15:46.459Z"
   },
   {
    "duration": 2902,
    "start_time": "2022-09-02T12:15:49.136Z"
   },
   {
    "duration": 11,
    "start_time": "2022-09-02T12:15:52.041Z"
   },
   {
    "duration": 22,
    "start_time": "2022-09-02T12:15:52.054Z"
   },
   {
    "duration": 33,
    "start_time": "2022-09-02T12:15:52.077Z"
   },
   {
    "duration": 199,
    "start_time": "2022-09-02T12:15:52.112Z"
   },
   {
    "duration": 202,
    "start_time": "2022-09-02T12:15:52.312Z"
   },
   {
    "duration": 2,
    "start_time": "2022-09-02T12:15:52.516Z"
   },
   {
    "duration": 196,
    "start_time": "2022-09-02T12:15:52.520Z"
   },
   {
    "duration": 13,
    "start_time": "2022-09-02T12:15:52.718Z"
   },
   {
    "duration": 12,
    "start_time": "2022-09-02T12:15:52.732Z"
   },
   {
    "duration": 28,
    "start_time": "2022-09-02T12:15:52.746Z"
   },
   {
    "duration": 25,
    "start_time": "2022-09-02T12:15:52.775Z"
   },
   {
    "duration": 20,
    "start_time": "2022-09-02T12:15:52.802Z"
   },
   {
    "duration": 23,
    "start_time": "2022-09-02T12:15:52.824Z"
   },
   {
    "duration": 19,
    "start_time": "2022-09-02T12:15:52.848Z"
   },
   {
    "duration": 1041,
    "start_time": "2022-09-02T12:15:52.868Z"
   },
   {
    "duration": 1005,
    "start_time": "2022-09-02T12:15:53.910Z"
   },
   {
    "duration": 993,
    "start_time": "2022-09-02T12:15:54.917Z"
   },
   {
    "duration": 6,
    "start_time": "2022-09-02T12:25:17.151Z"
   },
   {
    "duration": 5,
    "start_time": "2022-09-02T12:25:21.976Z"
   },
   {
    "duration": 5,
    "start_time": "2022-09-02T12:25:36.917Z"
   },
   {
    "duration": 119,
    "start_time": "2022-09-02T12:25:37.456Z"
   },
   {
    "duration": 4,
    "start_time": "2022-09-02T12:25:44.830Z"
   },
   {
    "duration": 9,
    "start_time": "2022-09-02T12:25:45.405Z"
   },
   {
    "duration": 9,
    "start_time": "2022-09-02T12:25:46.321Z"
   },
   {
    "duration": 8,
    "start_time": "2022-09-02T12:25:46.598Z"
   },
   {
    "duration": 4,
    "start_time": "2022-09-02T12:25:47.892Z"
   },
   {
    "duration": 6,
    "start_time": "2022-09-02T12:25:48.240Z"
   },
   {
    "duration": 8,
    "start_time": "2022-09-02T12:25:48.408Z"
   },
   {
    "duration": 8,
    "start_time": "2022-09-02T12:25:48.618Z"
   },
   {
    "duration": 4,
    "start_time": "2022-09-02T13:01:27.531Z"
   },
   {
    "duration": 6,
    "start_time": "2022-09-02T13:01:29.272Z"
   },
   {
    "duration": 7,
    "start_time": "2022-09-02T13:01:31.243Z"
   },
   {
    "duration": 18,
    "start_time": "2022-09-02T13:01:32.427Z"
   },
   {
    "duration": 4,
    "start_time": "2022-09-02T13:01:44.815Z"
   },
   {
    "duration": 151,
    "start_time": "2022-09-02T13:01:44.822Z"
   },
   {
    "duration": 34,
    "start_time": "2022-09-02T13:01:44.975Z"
   },
   {
    "duration": 122,
    "start_time": "2022-09-02T13:01:45.011Z"
   },
   {
    "duration": 23,
    "start_time": "2022-09-02T13:01:45.135Z"
   },
   {
    "duration": 125,
    "start_time": "2022-09-02T13:01:45.160Z"
   },
   {
    "duration": 25,
    "start_time": "2022-09-02T13:01:45.287Z"
   },
   {
    "duration": 149,
    "start_time": "2022-09-02T13:01:45.313Z"
   },
   {
    "duration": 5,
    "start_time": "2022-09-02T13:01:45.463Z"
   },
   {
    "duration": 11,
    "start_time": "2022-09-02T13:01:45.469Z"
   },
   {
    "duration": 3258,
    "start_time": "2022-09-02T13:01:45.482Z"
   },
   {
    "duration": 3458,
    "start_time": "2022-09-02T13:01:48.742Z"
   },
   {
    "duration": 3424,
    "start_time": "2022-09-02T13:01:52.201Z"
   },
   {
    "duration": 10,
    "start_time": "2022-09-02T13:01:55.627Z"
   },
   {
    "duration": 8,
    "start_time": "2022-09-02T13:01:55.638Z"
   },
   {
    "duration": 56,
    "start_time": "2022-09-02T13:01:55.648Z"
   },
   {
    "duration": 110,
    "start_time": "2022-09-02T13:01:55.706Z"
   },
   {
    "duration": 192,
    "start_time": "2022-09-02T13:01:55.818Z"
   },
   {
    "duration": 100,
    "start_time": "2022-09-02T13:01:56.012Z"
   },
   {
    "duration": 97,
    "start_time": "2022-09-02T13:01:56.114Z"
   },
   {
    "duration": 14,
    "start_time": "2022-09-02T13:01:56.213Z"
   },
   {
    "duration": 5,
    "start_time": "2022-09-02T13:01:56.229Z"
   },
   {
    "duration": 6,
    "start_time": "2022-09-02T13:01:56.236Z"
   },
   {
    "duration": 7,
    "start_time": "2022-09-02T13:01:56.243Z"
   },
   {
    "duration": 7,
    "start_time": "2022-09-02T13:01:56.252Z"
   },
   {
    "duration": 6,
    "start_time": "2022-09-02T13:01:56.260Z"
   },
   {
    "duration": 36,
    "start_time": "2022-09-02T13:01:56.268Z"
   },
   {
    "duration": 800,
    "start_time": "2022-09-02T13:01:56.306Z"
   },
   {
    "duration": 810,
    "start_time": "2022-09-02T13:01:57.109Z"
   },
   {
    "duration": 854,
    "start_time": "2022-09-02T13:01:57.921Z"
   },
   {
    "duration": 4,
    "start_time": "2022-09-02T13:04:07.735Z"
   },
   {
    "duration": 135,
    "start_time": "2022-09-02T13:04:07.741Z"
   },
   {
    "duration": 28,
    "start_time": "2022-09-02T13:04:07.878Z"
   },
   {
    "duration": 121,
    "start_time": "2022-09-02T13:04:07.907Z"
   },
   {
    "duration": 22,
    "start_time": "2022-09-02T13:04:08.030Z"
   },
   {
    "duration": 122,
    "start_time": "2022-09-02T13:04:08.054Z"
   },
   {
    "duration": 30,
    "start_time": "2022-09-02T13:04:08.178Z"
   },
   {
    "duration": 144,
    "start_time": "2022-09-02T13:04:08.209Z"
   },
   {
    "duration": 6,
    "start_time": "2022-09-02T13:04:08.354Z"
   },
   {
    "duration": 12,
    "start_time": "2022-09-02T13:04:08.361Z"
   },
   {
    "duration": 3356,
    "start_time": "2022-09-02T13:04:08.376Z"
   },
   {
    "duration": 3184,
    "start_time": "2022-09-02T13:04:11.734Z"
   },
   {
    "duration": 3402,
    "start_time": "2022-09-02T13:04:14.920Z"
   },
   {
    "duration": 10,
    "start_time": "2022-09-02T13:04:18.324Z"
   },
   {
    "duration": 17,
    "start_time": "2022-09-02T13:04:18.336Z"
   },
   {
    "duration": 51,
    "start_time": "2022-09-02T13:04:18.354Z"
   },
   {
    "duration": 105,
    "start_time": "2022-09-02T13:04:18.407Z"
   },
   {
    "duration": 202,
    "start_time": "2022-09-02T13:04:18.514Z"
   },
   {
    "duration": 3,
    "start_time": "2022-09-02T13:04:18.717Z"
   },
   {
    "duration": 101,
    "start_time": "2022-09-02T13:04:18.804Z"
   },
   {
    "duration": 15,
    "start_time": "2022-09-02T13:04:18.907Z"
   },
   {
    "duration": 8,
    "start_time": "2022-09-02T13:04:18.925Z"
   },
   {
    "duration": 14,
    "start_time": "2022-09-02T13:04:18.935Z"
   },
   {
    "duration": 15,
    "start_time": "2022-09-02T13:04:18.951Z"
   },
   {
    "duration": 35,
    "start_time": "2022-09-02T13:04:18.968Z"
   },
   {
    "duration": 9,
    "start_time": "2022-09-02T13:04:19.005Z"
   },
   {
    "duration": 138,
    "start_time": "2022-09-02T13:04:19.017Z"
   },
   {
    "duration": 781,
    "start_time": "2022-09-02T13:04:19.157Z"
   },
   {
    "duration": 776,
    "start_time": "2022-09-02T13:04:19.941Z"
   },
   {
    "duration": 779,
    "start_time": "2022-09-02T13:04:20.718Z"
   },
   {
    "duration": 5,
    "start_time": "2022-09-02T13:04:53.780Z"
   },
   {
    "duration": 791,
    "start_time": "2022-09-02T13:04:55.884Z"
   },
   {
    "duration": 799,
    "start_time": "2022-09-02T13:04:57.508Z"
   },
   {
    "duration": 817,
    "start_time": "2022-09-02T13:04:58.864Z"
   },
   {
    "duration": 4,
    "start_time": "2022-09-02T13:05:02.927Z"
   },
   {
    "duration": 143,
    "start_time": "2022-09-02T13:05:02.933Z"
   },
   {
    "duration": 32,
    "start_time": "2022-09-02T13:05:03.078Z"
   },
   {
    "duration": 116,
    "start_time": "2022-09-02T13:05:03.111Z"
   },
   {
    "duration": 22,
    "start_time": "2022-09-02T13:05:03.229Z"
   },
   {
    "duration": 130,
    "start_time": "2022-09-02T13:05:03.253Z"
   },
   {
    "duration": 32,
    "start_time": "2022-09-02T13:05:03.385Z"
   },
   {
    "duration": 142,
    "start_time": "2022-09-02T13:05:03.418Z"
   },
   {
    "duration": 4,
    "start_time": "2022-09-02T13:05:03.562Z"
   },
   {
    "duration": 10,
    "start_time": "2022-09-02T13:05:03.568Z"
   },
   {
    "duration": 3161,
    "start_time": "2022-09-02T13:05:03.580Z"
   },
   {
    "duration": 3283,
    "start_time": "2022-09-02T13:05:06.743Z"
   },
   {
    "duration": 3499,
    "start_time": "2022-09-02T13:05:10.029Z"
   },
   {
    "duration": 10,
    "start_time": "2022-09-02T13:05:13.530Z"
   },
   {
    "duration": 6,
    "start_time": "2022-09-02T13:05:13.542Z"
   },
   {
    "duration": 53,
    "start_time": "2022-09-02T13:05:13.550Z"
   },
   {
    "duration": 113,
    "start_time": "2022-09-02T13:05:13.605Z"
   },
   {
    "duration": 186,
    "start_time": "2022-09-02T13:05:13.721Z"
   },
   {
    "duration": 95,
    "start_time": "2022-09-02T13:05:13.909Z"
   },
   {
    "duration": 100,
    "start_time": "2022-09-02T13:05:14.006Z"
   },
   {
    "duration": 17,
    "start_time": "2022-09-02T13:05:14.107Z"
   },
   {
    "duration": 7,
    "start_time": "2022-09-02T13:05:14.125Z"
   },
   {
    "duration": 8,
    "start_time": "2022-09-02T13:05:14.134Z"
   },
   {
    "duration": 18,
    "start_time": "2022-09-02T13:05:14.144Z"
   },
   {
    "duration": 8,
    "start_time": "2022-09-02T13:05:14.164Z"
   },
   {
    "duration": 6,
    "start_time": "2022-09-02T13:05:14.173Z"
   },
   {
    "duration": 7,
    "start_time": "2022-09-02T13:05:14.181Z"
   },
   {
    "duration": 784,
    "start_time": "2022-09-02T13:05:14.189Z"
   },
   {
    "duration": 796,
    "start_time": "2022-09-02T13:05:14.975Z"
   },
   {
    "duration": 784,
    "start_time": "2022-09-02T13:05:15.773Z"
   },
   {
    "duration": 5408,
    "start_time": "2022-09-04T07:31:57.419Z"
   },
   {
    "duration": 151,
    "start_time": "2022-09-04T07:32:29.875Z"
   },
   {
    "duration": 2485,
    "start_time": "2022-09-04T07:32:38.731Z"
   },
   {
    "duration": 386,
    "start_time": "2022-09-04T07:32:41.218Z"
   },
   {
    "duration": 29,
    "start_time": "2022-09-04T07:32:41.606Z"
   },
   {
    "duration": 9520,
    "start_time": "2022-09-04T07:32:46.115Z"
   },
   {
    "duration": 1563,
    "start_time": "2022-09-08T06:34:12.623Z"
   }
  ],
  "kernelspec": {
   "display_name": "Python 3 (ipykernel)",
   "language": "python",
   "name": "python3"
  },
  "language_info": {
   "codemirror_mode": {
    "name": "ipython",
    "version": 3
   },
   "file_extension": ".py",
   "mimetype": "text/x-python",
   "name": "python",
   "nbconvert_exporter": "python",
   "pygments_lexer": "ipython3",
   "version": "3.9.5"
  },
  "toc": {
   "base_numbering": 1,
   "nav_menu": {},
   "number_sections": true,
   "sideBar": true,
   "skip_h1_title": true,
   "title_cell": "Table of Contents",
   "title_sidebar": "Contents",
   "toc_cell": false,
   "toc_position": {},
   "toc_section_display": true,
   "toc_window_display": false
  }
 },
 "nbformat": 4,
 "nbformat_minor": 2
}
