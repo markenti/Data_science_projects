{
  "metadata": {
    "ExecuteTimeLog": [
      {
        "duration": 1142,
        "start_time": "2021-12-02T15:40:56.399Z"
      },
      {
        "duration": 20,
        "start_time": "2021-12-02T15:41:17.963Z"
      },
      {
        "duration": 29,
        "start_time": "2021-12-02T15:41:22.555Z"
      },
      {
        "duration": 14,
        "start_time": "2021-12-02T15:41:26.776Z"
      },
      {
        "duration": 7,
        "start_time": "2021-12-02T15:43:11.158Z"
      },
      {
        "duration": 12,
        "start_time": "2021-12-02T15:43:21.851Z"
      },
      {
        "duration": 9,
        "start_time": "2021-12-02T15:44:29.570Z"
      },
      {
        "duration": 10,
        "start_time": "2021-12-02T15:44:32.930Z"
      },
      {
        "duration": 9,
        "start_time": "2021-12-02T15:44:42.078Z"
      },
      {
        "duration": 10,
        "start_time": "2021-12-02T15:44:49.354Z"
      },
      {
        "duration": 10,
        "start_time": "2021-12-02T15:44:53.634Z"
      },
      {
        "duration": 12,
        "start_time": "2021-12-02T15:44:57.967Z"
      },
      {
        "duration": 13,
        "start_time": "2021-12-02T15:45:00.927Z"
      },
      {
        "duration": 11,
        "start_time": "2021-12-02T15:45:03.958Z"
      },
      {
        "duration": 11,
        "start_time": "2021-12-02T15:45:06.554Z"
      },
      {
        "duration": 10,
        "start_time": "2021-12-02T15:45:08.790Z"
      },
      {
        "duration": 9,
        "start_time": "2021-12-02T15:45:54.102Z"
      },
      {
        "duration": 394,
        "start_time": "2021-12-02T15:46:10.882Z"
      },
      {
        "duration": 94,
        "start_time": "2021-12-02T15:46:16.722Z"
      },
      {
        "duration": 10,
        "start_time": "2021-12-02T15:46:20.050Z"
      },
      {
        "duration": 11,
        "start_time": "2021-12-02T15:46:23.906Z"
      },
      {
        "duration": 9,
        "start_time": "2021-12-02T15:46:27.486Z"
      },
      {
        "duration": 11,
        "start_time": "2021-12-02T15:49:04.838Z"
      },
      {
        "duration": 11,
        "start_time": "2021-12-02T15:49:07.934Z"
      },
      {
        "duration": 9,
        "start_time": "2021-12-02T15:49:10.482Z"
      },
      {
        "duration": 10,
        "start_time": "2021-12-02T15:49:13.205Z"
      },
      {
        "duration": 8,
        "start_time": "2021-12-02T15:49:17.770Z"
      },
      {
        "duration": 11,
        "start_time": "2021-12-02T15:49:20.454Z"
      },
      {
        "duration": 16,
        "start_time": "2021-12-02T15:49:31.814Z"
      },
      {
        "duration": 11,
        "start_time": "2021-12-02T15:49:47.442Z"
      },
      {
        "duration": 11,
        "start_time": "2021-12-02T15:49:57.857Z"
      },
      {
        "duration": 10,
        "start_time": "2021-12-02T15:50:02.253Z"
      },
      {
        "duration": 10,
        "start_time": "2021-12-02T15:50:09.105Z"
      },
      {
        "duration": 9,
        "start_time": "2021-12-02T15:50:20.877Z"
      },
      {
        "duration": 10,
        "start_time": "2021-12-02T15:50:27.182Z"
      },
      {
        "duration": 11,
        "start_time": "2021-12-02T15:50:34.366Z"
      },
      {
        "duration": 13,
        "start_time": "2021-12-02T15:50:40.350Z"
      },
      {
        "duration": 97,
        "start_time": "2021-12-02T15:51:02.137Z"
      },
      {
        "duration": 11,
        "start_time": "2021-12-02T15:51:07.246Z"
      },
      {
        "duration": 11,
        "start_time": "2021-12-02T15:51:13.297Z"
      },
      {
        "duration": 14,
        "start_time": "2021-12-02T15:51:17.194Z"
      },
      {
        "duration": 11,
        "start_time": "2021-12-02T15:51:21.402Z"
      },
      {
        "duration": 13,
        "start_time": "2021-12-02T15:51:25.770Z"
      },
      {
        "duration": 9,
        "start_time": "2021-12-02T15:51:35.342Z"
      },
      {
        "duration": 10,
        "start_time": "2021-12-02T15:51:42.198Z"
      },
      {
        "duration": 11,
        "start_time": "2021-12-02T15:51:47.169Z"
      },
      {
        "duration": 10,
        "start_time": "2021-12-02T15:51:51.553Z"
      },
      {
        "duration": 10,
        "start_time": "2021-12-02T15:51:55.761Z"
      },
      {
        "duration": 11,
        "start_time": "2021-12-02T15:52:45.018Z"
      },
      {
        "duration": 10,
        "start_time": "2021-12-02T15:53:32.973Z"
      },
      {
        "duration": 48,
        "start_time": "2021-12-02T15:56:23.677Z"
      },
      {
        "duration": 5,
        "start_time": "2021-12-02T15:58:00.965Z"
      },
      {
        "duration": 16,
        "start_time": "2021-12-02T15:58:14.725Z"
      },
      {
        "duration": 306,
        "start_time": "2021-12-02T15:59:33.960Z"
      },
      {
        "duration": 14,
        "start_time": "2021-12-02T16:00:35.549Z"
      },
      {
        "duration": 289,
        "start_time": "2021-12-02T16:02:15.812Z"
      },
      {
        "duration": 13,
        "start_time": "2021-12-02T16:02:22.844Z"
      },
      {
        "duration": 16,
        "start_time": "2021-12-02T16:02:28.196Z"
      },
      {
        "duration": 5983,
        "start_time": "2021-12-02T16:02:59.340Z"
      },
      {
        "duration": 303,
        "start_time": "2021-12-02T16:04:07.304Z"
      },
      {
        "duration": 298,
        "start_time": "2021-12-02T16:04:08.736Z"
      },
      {
        "duration": 7,
        "start_time": "2021-12-02T16:07:06.856Z"
      },
      {
        "duration": 6,
        "start_time": "2021-12-02T16:07:19.808Z"
      },
      {
        "duration": 10,
        "start_time": "2021-12-02T16:07:40.535Z"
      },
      {
        "duration": 11,
        "start_time": "2021-12-02T16:07:46.008Z"
      },
      {
        "duration": 11,
        "start_time": "2021-12-02T16:07:47.431Z"
      },
      {
        "duration": 12,
        "start_time": "2021-12-02T16:07:48.019Z"
      },
      {
        "duration": 8,
        "start_time": "2021-12-02T16:10:24.539Z"
      },
      {
        "duration": 9,
        "start_time": "2021-12-02T16:10:29.807Z"
      },
      {
        "duration": 12,
        "start_time": "2021-12-02T16:16:53.339Z"
      },
      {
        "duration": 9,
        "start_time": "2021-12-02T16:17:19.202Z"
      },
      {
        "duration": 13,
        "start_time": "2021-12-02T16:17:23.691Z"
      },
      {
        "duration": 9,
        "start_time": "2021-12-02T16:17:35.430Z"
      },
      {
        "duration": 14,
        "start_time": "2021-12-02T16:17:39.378Z"
      },
      {
        "duration": 8,
        "start_time": "2021-12-02T16:17:48.438Z"
      },
      {
        "duration": 9,
        "start_time": "2021-12-02T16:17:54.230Z"
      },
      {
        "duration": 8,
        "start_time": "2021-12-02T16:17:59.142Z"
      },
      {
        "duration": 85,
        "start_time": "2021-12-02T16:18:07.970Z"
      },
      {
        "duration": 52,
        "start_time": "2021-12-02T16:18:08.058Z"
      },
      {
        "duration": 762,
        "start_time": "2021-12-02T16:18:08.113Z"
      },
      {
        "duration": 193,
        "start_time": "2021-12-02T16:18:08.685Z"
      },
      {
        "duration": 192,
        "start_time": "2021-12-02T16:18:08.688Z"
      },
      {
        "duration": 185,
        "start_time": "2021-12-02T16:18:08.700Z"
      },
      {
        "duration": 184,
        "start_time": "2021-12-02T16:18:08.704Z"
      },
      {
        "duration": 71,
        "start_time": "2021-12-02T16:18:22.206Z"
      },
      {
        "duration": 43,
        "start_time": "2021-12-02T16:18:22.280Z"
      },
      {
        "duration": 11,
        "start_time": "2021-12-02T16:18:22.326Z"
      },
      {
        "duration": 12,
        "start_time": "2021-12-02T16:18:22.339Z"
      },
      {
        "duration": 37,
        "start_time": "2021-12-02T16:18:22.353Z"
      },
      {
        "duration": 9,
        "start_time": "2021-12-02T16:18:22.394Z"
      },
      {
        "duration": 109,
        "start_time": "2021-12-02T16:19:11.934Z"
      },
      {
        "duration": 4,
        "start_time": "2021-12-02T16:19:21.238Z"
      },
      {
        "duration": 9,
        "start_time": "2021-12-02T16:19:23.842Z"
      },
      {
        "duration": 8,
        "start_time": "2021-12-02T16:19:35.358Z"
      },
      {
        "duration": 9,
        "start_time": "2021-12-02T16:20:07.138Z"
      },
      {
        "duration": 7,
        "start_time": "2021-12-02T16:20:12.726Z"
      },
      {
        "duration": 9,
        "start_time": "2021-12-02T16:20:27.942Z"
      },
      {
        "duration": 9,
        "start_time": "2021-12-02T16:20:34.922Z"
      },
      {
        "duration": 8,
        "start_time": "2021-12-02T16:21:24.422Z"
      },
      {
        "duration": 18,
        "start_time": "2021-12-02T16:21:36.246Z"
      },
      {
        "duration": 56,
        "start_time": "2021-12-02T16:21:47.834Z"
      },
      {
        "duration": 5,
        "start_time": "2021-12-02T16:24:33.654Z"
      },
      {
        "duration": 129,
        "start_time": "2021-12-02T16:25:39.649Z"
      },
      {
        "duration": 48,
        "start_time": "2021-12-02T16:25:43.461Z"
      },
      {
        "duration": 34,
        "start_time": "2021-12-02T16:27:58.945Z"
      },
      {
        "duration": 42,
        "start_time": "2021-12-02T16:28:24.161Z"
      },
      {
        "duration": 33,
        "start_time": "2021-12-02T16:30:42.489Z"
      },
      {
        "duration": 4,
        "start_time": "2021-12-02T16:50:09.423Z"
      },
      {
        "duration": 9,
        "start_time": "2021-12-02T16:50:17.978Z"
      },
      {
        "duration": 31,
        "start_time": "2021-12-02T16:51:51.987Z"
      },
      {
        "duration": 28,
        "start_time": "2021-12-02T16:52:07.391Z"
      },
      {
        "duration": 35,
        "start_time": "2021-12-02T16:52:12.402Z"
      },
      {
        "duration": 12,
        "start_time": "2021-12-02T16:52:21.158Z"
      },
      {
        "duration": 19,
        "start_time": "2021-12-02T16:52:31.414Z"
      },
      {
        "duration": 13,
        "start_time": "2021-12-02T16:52:42.438Z"
      },
      {
        "duration": 15,
        "start_time": "2021-12-02T16:52:46.354Z"
      },
      {
        "duration": 5,
        "start_time": "2021-12-02T16:55:08.510Z"
      },
      {
        "duration": 28,
        "start_time": "2021-12-02T16:55:31.646Z"
      },
      {
        "duration": 53,
        "start_time": "2021-12-02T16:55:41.773Z"
      },
      {
        "duration": 11,
        "start_time": "2021-12-02T17:05:56.524Z"
      },
      {
        "duration": 4488,
        "start_time": "2021-12-02T17:06:13.729Z"
      },
      {
        "duration": 4254,
        "start_time": "2021-12-02T17:06:23.916Z"
      },
      {
        "duration": 407,
        "start_time": "2021-12-02T17:06:44.056Z"
      },
      {
        "duration": 13,
        "start_time": "2021-12-02T17:06:48.592Z"
      },
      {
        "duration": 9,
        "start_time": "2021-12-02T17:06:58.848Z"
      },
      {
        "duration": 8,
        "start_time": "2021-12-02T17:07:01.168Z"
      },
      {
        "duration": 6,
        "start_time": "2021-12-02T17:09:06.412Z"
      },
      {
        "duration": 11,
        "start_time": "2021-12-02T17:09:10.676Z"
      },
      {
        "duration": 19,
        "start_time": "2021-12-02T17:09:25.132Z"
      },
      {
        "duration": 275,
        "start_time": "2021-12-03T14:16:26.896Z"
      },
      {
        "duration": 615,
        "start_time": "2021-12-03T14:16:31.480Z"
      },
      {
        "duration": 17,
        "start_time": "2021-12-03T14:16:32.096Z"
      },
      {
        "duration": 4,
        "start_time": "2021-12-03T14:16:32.115Z"
      },
      {
        "duration": 7,
        "start_time": "2021-12-03T14:16:32.121Z"
      },
      {
        "duration": 8,
        "start_time": "2021-12-03T14:16:32.129Z"
      },
      {
        "duration": 28,
        "start_time": "2021-12-03T14:16:32.138Z"
      },
      {
        "duration": 24,
        "start_time": "2021-12-03T14:16:32.167Z"
      },
      {
        "duration": 20,
        "start_time": "2021-12-03T14:16:32.193Z"
      },
      {
        "duration": 11,
        "start_time": "2021-12-03T16:29:10.262Z"
      },
      {
        "duration": 22,
        "start_time": "2021-12-03T16:31:10.430Z"
      },
      {
        "duration": 14,
        "start_time": "2021-12-03T16:31:39.190Z"
      },
      {
        "duration": 15,
        "start_time": "2021-12-03T16:37:56.845Z"
      },
      {
        "duration": 5838,
        "start_time": "2021-12-03T16:38:09.590Z"
      },
      {
        "duration": 13,
        "start_time": "2021-12-03T16:38:24.585Z"
      },
      {
        "duration": 19,
        "start_time": "2021-12-03T16:38:32.485Z"
      },
      {
        "duration": 10,
        "start_time": "2021-12-03T16:40:56.466Z"
      },
      {
        "duration": 8,
        "start_time": "2021-12-03T16:42:42.921Z"
      },
      {
        "duration": 6,
        "start_time": "2021-12-03T16:43:00.725Z"
      },
      {
        "duration": 22,
        "start_time": "2021-12-03T16:43:44.999Z"
      },
      {
        "duration": 232,
        "start_time": "2021-12-03T16:44:18.805Z"
      },
      {
        "duration": 19,
        "start_time": "2021-12-03T16:44:28.064Z"
      },
      {
        "duration": 1556,
        "start_time": "2021-12-03T16:45:05.088Z"
      },
      {
        "duration": 1578,
        "start_time": "2021-12-03T16:45:32.573Z"
      },
      {
        "duration": 13,
        "start_time": "2021-12-03T16:46:06.300Z"
      },
      {
        "duration": 245,
        "start_time": "2021-12-03T16:47:32.592Z"
      },
      {
        "duration": 221,
        "start_time": "2021-12-03T16:47:50.628Z"
      },
      {
        "duration": 225,
        "start_time": "2021-12-03T16:48:19.000Z"
      },
      {
        "duration": 1532,
        "start_time": "2021-12-03T16:51:37.768Z"
      },
      {
        "duration": 1668,
        "start_time": "2021-12-03T16:51:49.240Z"
      },
      {
        "duration": 96,
        "start_time": "2021-12-03T16:52:06.708Z"
      },
      {
        "duration": 1619,
        "start_time": "2021-12-03T16:52:09.572Z"
      },
      {
        "duration": 33,
        "start_time": "2021-12-03T16:52:23.509Z"
      },
      {
        "duration": 225,
        "start_time": "2021-12-03T16:53:00.228Z"
      },
      {
        "duration": 20,
        "start_time": "2021-12-03T16:53:13.532Z"
      },
      {
        "duration": 598,
        "start_time": "2021-12-03T16:53:42.476Z"
      },
      {
        "duration": 74,
        "start_time": "2021-12-03T16:53:53.324Z"
      },
      {
        "duration": 20,
        "start_time": "2021-12-03T16:53:58.296Z"
      },
      {
        "duration": 19,
        "start_time": "2021-12-03T16:55:09.772Z"
      },
      {
        "duration": 21,
        "start_time": "2021-12-03T16:55:21.972Z"
      },
      {
        "duration": 19,
        "start_time": "2021-12-03T16:56:32.372Z"
      },
      {
        "duration": 21,
        "start_time": "2021-12-03T16:56:52.251Z"
      },
      {
        "duration": 77,
        "start_time": "2021-12-03T16:58:55.851Z"
      },
      {
        "duration": 20,
        "start_time": "2021-12-03T17:04:35.450Z"
      },
      {
        "duration": 21,
        "start_time": "2021-12-03T17:04:37.042Z"
      },
      {
        "duration": 76,
        "start_time": "2021-12-03T17:08:49.406Z"
      },
      {
        "duration": 7,
        "start_time": "2021-12-03T17:08:53.578Z"
      },
      {
        "duration": 478,
        "start_time": "2021-12-09T08:05:57.565Z"
      },
      {
        "duration": 886,
        "start_time": "2021-12-09T08:06:03.261Z"
      },
      {
        "duration": 31,
        "start_time": "2021-12-09T08:06:04.149Z"
      },
      {
        "duration": 8,
        "start_time": "2021-12-09T08:06:04.184Z"
      },
      {
        "duration": 10,
        "start_time": "2021-12-09T08:06:04.195Z"
      },
      {
        "duration": 13,
        "start_time": "2021-12-09T08:06:04.208Z"
      },
      {
        "duration": 75,
        "start_time": "2021-12-09T08:06:04.223Z"
      },
      {
        "duration": 63,
        "start_time": "2021-12-09T08:06:04.300Z"
      },
      {
        "duration": 35,
        "start_time": "2021-12-09T08:06:04.366Z"
      },
      {
        "duration": 13,
        "start_time": "2021-12-09T08:06:04.404Z"
      },
      {
        "duration": 41,
        "start_time": "2021-12-09T08:06:04.420Z"
      },
      {
        "duration": 19,
        "start_time": "2021-12-09T08:06:04.463Z"
      },
      {
        "duration": 36,
        "start_time": "2021-12-09T08:06:42.725Z"
      },
      {
        "duration": 16,
        "start_time": "2021-12-09T08:13:44.064Z"
      },
      {
        "duration": 41,
        "start_time": "2021-12-09T08:14:03.604Z"
      },
      {
        "duration": 10,
        "start_time": "2021-12-09T08:14:27.411Z"
      },
      {
        "duration": 430,
        "start_time": "2021-12-09T08:14:43.248Z"
      },
      {
        "duration": 10,
        "start_time": "2021-12-09T08:15:03.836Z"
      },
      {
        "duration": 20,
        "start_time": "2021-12-09T08:16:29.431Z"
      },
      {
        "duration": 22,
        "start_time": "2021-12-09T08:16:50.131Z"
      },
      {
        "duration": 35,
        "start_time": "2021-12-09T08:17:05.867Z"
      },
      {
        "duration": 35,
        "start_time": "2021-12-09T08:18:31.443Z"
      },
      {
        "duration": 1138,
        "start_time": "2021-12-09T08:28:03.594Z"
      },
      {
        "duration": 534,
        "start_time": "2021-12-09T08:34:02.094Z"
      },
      {
        "duration": 680,
        "start_time": "2021-12-09T08:34:39.522Z"
      },
      {
        "duration": 7,
        "start_time": "2021-12-09T08:35:01.566Z"
      },
      {
        "duration": 431,
        "start_time": "2021-12-09T08:35:15.059Z"
      },
      {
        "duration": 142,
        "start_time": "2021-12-09T08:35:48.094Z"
      },
      {
        "duration": 10240,
        "start_time": "2021-12-09T08:36:05.026Z"
      },
      {
        "duration": 466,
        "start_time": "2021-12-09T08:36:27.029Z"
      },
      {
        "duration": 431,
        "start_time": "2021-12-09T08:36:45.749Z"
      },
      {
        "duration": 3550,
        "start_time": "2021-12-09T08:38:19.793Z"
      },
      {
        "duration": 24,
        "start_time": "2021-12-09T08:46:07.540Z"
      },
      {
        "duration": 47,
        "start_time": "2021-12-09T08:46:14.192Z"
      },
      {
        "duration": 12,
        "start_time": "2021-12-09T08:47:12.923Z"
      },
      {
        "duration": 11,
        "start_time": "2021-12-09T08:47:28.272Z"
      },
      {
        "duration": 11,
        "start_time": "2021-12-09T08:48:48.292Z"
      },
      {
        "duration": 77,
        "start_time": "2021-12-09T08:49:05.951Z"
      },
      {
        "duration": 41,
        "start_time": "2021-12-09T08:49:06.031Z"
      },
      {
        "duration": 5,
        "start_time": "2021-12-09T08:49:06.075Z"
      },
      {
        "duration": 18,
        "start_time": "2021-12-09T08:49:06.083Z"
      },
      {
        "duration": 13,
        "start_time": "2021-12-09T08:49:06.104Z"
      },
      {
        "duration": 73,
        "start_time": "2021-12-09T08:49:06.119Z"
      },
      {
        "duration": 36,
        "start_time": "2021-12-09T08:49:06.195Z"
      },
      {
        "duration": 57,
        "start_time": "2021-12-09T08:49:06.234Z"
      },
      {
        "duration": 11,
        "start_time": "2021-12-09T08:49:06.293Z"
      },
      {
        "duration": 8,
        "start_time": "2021-12-09T08:49:06.306Z"
      },
      {
        "duration": 54,
        "start_time": "2021-12-09T08:49:06.316Z"
      },
      {
        "duration": 12,
        "start_time": "2021-12-09T08:49:52.211Z"
      },
      {
        "duration": 73,
        "start_time": "2021-12-09T08:49:55.084Z"
      },
      {
        "duration": 18,
        "start_time": "2021-12-09T08:49:55.159Z"
      },
      {
        "duration": 5,
        "start_time": "2021-12-09T08:49:55.182Z"
      },
      {
        "duration": 9,
        "start_time": "2021-12-09T08:49:55.190Z"
      },
      {
        "duration": 15,
        "start_time": "2021-12-09T08:49:55.202Z"
      },
      {
        "duration": 70,
        "start_time": "2021-12-09T08:49:55.219Z"
      },
      {
        "duration": 34,
        "start_time": "2021-12-09T08:49:55.291Z"
      },
      {
        "duration": 62,
        "start_time": "2021-12-09T08:49:55.328Z"
      },
      {
        "duration": 11,
        "start_time": "2021-12-09T08:49:55.392Z"
      },
      {
        "duration": 9,
        "start_time": "2021-12-09T08:49:55.405Z"
      },
      {
        "duration": 51,
        "start_time": "2021-12-09T08:49:55.416Z"
      },
      {
        "duration": 40,
        "start_time": "2021-12-09T08:50:41.772Z"
      },
      {
        "duration": 70,
        "start_time": "2021-12-09T08:51:02.243Z"
      },
      {
        "duration": 19,
        "start_time": "2021-12-09T08:51:02.315Z"
      },
      {
        "duration": 25,
        "start_time": "2021-12-09T08:51:02.336Z"
      },
      {
        "duration": 9,
        "start_time": "2021-12-09T08:51:02.363Z"
      },
      {
        "duration": 11,
        "start_time": "2021-12-09T08:51:02.374Z"
      },
      {
        "duration": 91,
        "start_time": "2021-12-09T08:51:02.387Z"
      },
      {
        "duration": 34,
        "start_time": "2021-12-09T08:51:02.480Z"
      },
      {
        "duration": 66,
        "start_time": "2021-12-09T08:51:02.517Z"
      },
      {
        "duration": 10,
        "start_time": "2021-12-09T08:51:02.585Z"
      },
      {
        "duration": 9,
        "start_time": "2021-12-09T08:51:02.598Z"
      },
      {
        "duration": 50,
        "start_time": "2021-12-09T08:51:02.609Z"
      },
      {
        "duration": 463,
        "start_time": "2021-12-09T08:52:30.088Z"
      },
      {
        "duration": 70,
        "start_time": "2021-12-09T08:52:54.215Z"
      },
      {
        "duration": 18,
        "start_time": "2021-12-09T08:52:54.287Z"
      },
      {
        "duration": 5,
        "start_time": "2021-12-09T08:52:54.308Z"
      },
      {
        "duration": 8,
        "start_time": "2021-12-09T08:52:54.315Z"
      },
      {
        "duration": 41,
        "start_time": "2021-12-09T08:52:54.325Z"
      },
      {
        "duration": 57,
        "start_time": "2021-12-09T08:52:54.369Z"
      },
      {
        "duration": 55,
        "start_time": "2021-12-09T08:52:54.429Z"
      },
      {
        "duration": 34,
        "start_time": "2021-12-09T08:52:54.488Z"
      },
      {
        "duration": 35,
        "start_time": "2021-12-09T08:52:54.525Z"
      },
      {
        "duration": 9,
        "start_time": "2021-12-09T08:52:54.563Z"
      },
      {
        "duration": 17,
        "start_time": "2021-12-09T08:52:54.574Z"
      },
      {
        "duration": 27,
        "start_time": "2021-12-09T08:53:17.051Z"
      },
      {
        "duration": 73,
        "start_time": "2021-12-09T08:53:30.811Z"
      },
      {
        "duration": 19,
        "start_time": "2021-12-09T08:53:30.886Z"
      },
      {
        "duration": 10,
        "start_time": "2021-12-09T08:53:30.908Z"
      },
      {
        "duration": 10,
        "start_time": "2021-12-09T08:53:30.921Z"
      },
      {
        "duration": 32,
        "start_time": "2021-12-09T08:53:30.934Z"
      },
      {
        "duration": 36,
        "start_time": "2021-12-09T08:53:30.969Z"
      },
      {
        "duration": 69,
        "start_time": "2021-12-09T08:53:31.008Z"
      },
      {
        "duration": 39,
        "start_time": "2021-12-09T08:53:31.081Z"
      },
      {
        "duration": 37,
        "start_time": "2021-12-09T08:53:31.123Z"
      },
      {
        "duration": 12,
        "start_time": "2021-12-09T08:53:31.162Z"
      },
      {
        "duration": 19,
        "start_time": "2021-12-09T08:53:31.176Z"
      },
      {
        "duration": 23,
        "start_time": "2021-12-09T08:54:05.427Z"
      },
      {
        "duration": 22,
        "start_time": "2021-12-09T08:54:13.423Z"
      },
      {
        "duration": 23,
        "start_time": "2021-12-09T08:54:19.055Z"
      },
      {
        "duration": 76,
        "start_time": "2021-12-09T08:54:27.895Z"
      },
      {
        "duration": 20,
        "start_time": "2021-12-09T08:54:27.974Z"
      },
      {
        "duration": 5,
        "start_time": "2021-12-09T08:54:27.998Z"
      },
      {
        "duration": 9,
        "start_time": "2021-12-09T08:54:28.006Z"
      },
      {
        "duration": 53,
        "start_time": "2021-12-09T08:54:28.017Z"
      },
      {
        "duration": 52,
        "start_time": "2021-12-09T08:54:28.073Z"
      },
      {
        "duration": 62,
        "start_time": "2021-12-09T08:54:28.128Z"
      },
      {
        "duration": 36,
        "start_time": "2021-12-09T08:54:28.195Z"
      },
      {
        "duration": 14,
        "start_time": "2021-12-09T08:54:28.259Z"
      },
      {
        "duration": 11,
        "start_time": "2021-12-09T08:54:28.275Z"
      },
      {
        "duration": 20,
        "start_time": "2021-12-09T08:54:28.289Z"
      },
      {
        "duration": 26,
        "start_time": "2021-12-09T08:54:59.416Z"
      },
      {
        "duration": 79,
        "start_time": "2021-12-09T08:55:05.471Z"
      },
      {
        "duration": 20,
        "start_time": "2021-12-09T08:55:05.553Z"
      },
      {
        "duration": 6,
        "start_time": "2021-12-09T08:55:05.577Z"
      },
      {
        "duration": 10,
        "start_time": "2021-12-09T08:55:05.586Z"
      },
      {
        "duration": 16,
        "start_time": "2021-12-09T08:55:05.599Z"
      },
      {
        "duration": 75,
        "start_time": "2021-12-09T08:55:05.618Z"
      },
      {
        "duration": 37,
        "start_time": "2021-12-09T08:55:05.696Z"
      },
      {
        "duration": 61,
        "start_time": "2021-12-09T08:55:05.736Z"
      },
      {
        "duration": 13,
        "start_time": "2021-12-09T08:55:05.800Z"
      },
      {
        "duration": 45,
        "start_time": "2021-12-09T08:55:05.816Z"
      },
      {
        "duration": 18,
        "start_time": "2021-12-09T08:55:05.864Z"
      },
      {
        "duration": 27,
        "start_time": "2021-12-09T08:56:05.351Z"
      },
      {
        "duration": 74,
        "start_time": "2021-12-09T08:56:08.186Z"
      },
      {
        "duration": 18,
        "start_time": "2021-12-09T08:56:08.262Z"
      },
      {
        "duration": 5,
        "start_time": "2021-12-09T08:56:08.282Z"
      },
      {
        "duration": 8,
        "start_time": "2021-12-09T08:56:08.289Z"
      },
      {
        "duration": 10,
        "start_time": "2021-12-09T08:56:08.300Z"
      },
      {
        "duration": 78,
        "start_time": "2021-12-09T08:56:08.312Z"
      },
      {
        "duration": 34,
        "start_time": "2021-12-09T08:56:08.392Z"
      },
      {
        "duration": 67,
        "start_time": "2021-12-09T08:56:08.429Z"
      },
      {
        "duration": 10,
        "start_time": "2021-12-09T08:56:08.498Z"
      },
      {
        "duration": 7,
        "start_time": "2021-12-09T08:56:08.511Z"
      },
      {
        "duration": 50,
        "start_time": "2021-12-09T08:56:08.520Z"
      },
      {
        "duration": 39,
        "start_time": "2021-12-09T08:56:20.498Z"
      },
      {
        "duration": 73,
        "start_time": "2021-12-09T08:56:25.619Z"
      },
      {
        "duration": 19,
        "start_time": "2021-12-09T08:56:25.695Z"
      },
      {
        "duration": 5,
        "start_time": "2021-12-09T08:56:25.719Z"
      },
      {
        "duration": 38,
        "start_time": "2021-12-09T08:56:25.727Z"
      },
      {
        "duration": 12,
        "start_time": "2021-12-09T08:56:25.767Z"
      },
      {
        "duration": 94,
        "start_time": "2021-12-09T08:56:25.781Z"
      },
      {
        "duration": 36,
        "start_time": "2021-12-09T08:56:25.877Z"
      },
      {
        "duration": 59,
        "start_time": "2021-12-09T08:56:25.916Z"
      },
      {
        "duration": 12,
        "start_time": "2021-12-09T08:56:25.978Z"
      },
      {
        "duration": 12,
        "start_time": "2021-12-09T08:56:25.993Z"
      },
      {
        "duration": 55,
        "start_time": "2021-12-09T08:56:26.008Z"
      },
      {
        "duration": 12,
        "start_time": "2021-12-09T08:58:07.474Z"
      },
      {
        "duration": 8,
        "start_time": "2021-12-09T08:59:47.870Z"
      },
      {
        "duration": 440,
        "start_time": "2021-12-09T09:00:56.862Z"
      },
      {
        "duration": 521,
        "start_time": "2021-12-09T09:01:51.878Z"
      },
      {
        "duration": 8,
        "start_time": "2021-12-09T09:02:29.187Z"
      },
      {
        "duration": 12,
        "start_time": "2021-12-09T09:03:18.382Z"
      },
      {
        "duration": 12,
        "start_time": "2021-12-09T09:03:25.305Z"
      },
      {
        "duration": 94,
        "start_time": "2021-12-09T09:03:27.778Z"
      },
      {
        "duration": 19,
        "start_time": "2021-12-09T09:03:27.875Z"
      },
      {
        "duration": 5,
        "start_time": "2021-12-09T09:03:27.898Z"
      },
      {
        "duration": 11,
        "start_time": "2021-12-09T09:03:27.906Z"
      },
      {
        "duration": 44,
        "start_time": "2021-12-09T09:03:27.919Z"
      },
      {
        "duration": 7,
        "start_time": "2021-12-09T09:03:27.966Z"
      },
      {
        "duration": 11,
        "start_time": "2021-12-09T09:03:27.976Z"
      },
      {
        "duration": 82,
        "start_time": "2021-12-09T09:03:27.991Z"
      },
      {
        "duration": 52,
        "start_time": "2021-12-09T09:03:28.077Z"
      },
      {
        "duration": 61,
        "start_time": "2021-12-09T09:03:28.132Z"
      },
      {
        "duration": 13,
        "start_time": "2021-12-09T09:03:28.196Z"
      },
      {
        "duration": 13,
        "start_time": "2021-12-09T09:03:28.212Z"
      },
      {
        "duration": 55,
        "start_time": "2021-12-09T09:03:28.227Z"
      },
      {
        "duration": 5,
        "start_time": "2021-12-09T09:05:55.361Z"
      },
      {
        "duration": 12,
        "start_time": "2021-12-09T09:05:58.613Z"
      },
      {
        "duration": 77,
        "start_time": "2021-12-09T09:06:01.390Z"
      },
      {
        "duration": 20,
        "start_time": "2021-12-09T09:06:01.469Z"
      },
      {
        "duration": 9,
        "start_time": "2021-12-09T09:06:01.492Z"
      },
      {
        "duration": 13,
        "start_time": "2021-12-09T09:06:01.504Z"
      },
      {
        "duration": 18,
        "start_time": "2021-12-09T09:06:01.519Z"
      },
      {
        "duration": 7,
        "start_time": "2021-12-09T09:06:01.560Z"
      },
      {
        "duration": 21,
        "start_time": "2021-12-09T09:06:01.570Z"
      },
      {
        "duration": 21,
        "start_time": "2021-12-09T09:06:01.595Z"
      },
      {
        "duration": 1507,
        "start_time": "2021-12-09T09:06:01.618Z"
      },
      {
        "duration": 148,
        "start_time": "2021-12-09T09:06:02.979Z"
      },
      {
        "duration": 147,
        "start_time": "2021-12-09T09:06:02.981Z"
      },
      {
        "duration": 143,
        "start_time": "2021-12-09T09:06:02.986Z"
      },
      {
        "duration": 143,
        "start_time": "2021-12-09T09:06:02.988Z"
      },
      {
        "duration": 13,
        "start_time": "2021-12-09T09:06:32.646Z"
      },
      {
        "duration": 4093,
        "start_time": "2021-12-09T09:07:44.482Z"
      },
      {
        "duration": 73,
        "start_time": "2021-12-09T09:08:22.741Z"
      },
      {
        "duration": 17,
        "start_time": "2021-12-09T09:08:54.253Z"
      },
      {
        "duration": 11,
        "start_time": "2021-12-09T09:17:54.592Z"
      },
      {
        "duration": 11,
        "start_time": "2021-12-09T09:33:20.301Z"
      },
      {
        "duration": 407,
        "start_time": "2021-12-09T09:33:38.454Z"
      },
      {
        "duration": 456,
        "start_time": "2021-12-09T09:33:48.990Z"
      },
      {
        "duration": 3862,
        "start_time": "2021-12-09T09:34:04.462Z"
      },
      {
        "duration": 3651,
        "start_time": "2021-12-09T09:36:58.521Z"
      },
      {
        "duration": 11,
        "start_time": "2021-12-09T09:37:16.429Z"
      },
      {
        "duration": 136,
        "start_time": "2021-12-09T09:37:25.065Z"
      },
      {
        "duration": 12,
        "start_time": "2021-12-09T09:37:29.365Z"
      },
      {
        "duration": 138,
        "start_time": "2021-12-09T09:37:36.761Z"
      },
      {
        "duration": 162,
        "start_time": "2021-12-09T09:37:39.597Z"
      },
      {
        "duration": 399,
        "start_time": "2021-12-09T09:37:48.285Z"
      },
      {
        "duration": 11,
        "start_time": "2021-12-09T09:37:53.785Z"
      },
      {
        "duration": 10,
        "start_time": "2021-12-09T09:38:05.869Z"
      },
      {
        "duration": 7,
        "start_time": "2021-12-09T09:38:45.208Z"
      },
      {
        "duration": 22,
        "start_time": "2021-12-09T09:38:55.165Z"
      },
      {
        "duration": 36,
        "start_time": "2021-12-09T09:39:44.921Z"
      },
      {
        "duration": 23,
        "start_time": "2021-12-09T09:39:58.309Z"
      },
      {
        "duration": 11,
        "start_time": "2021-12-09T09:41:43.140Z"
      },
      {
        "duration": 75,
        "start_time": "2021-12-09T09:41:47.680Z"
      },
      {
        "duration": 18,
        "start_time": "2021-12-09T09:41:47.758Z"
      },
      {
        "duration": 5,
        "start_time": "2021-12-09T09:41:47.779Z"
      },
      {
        "duration": 14,
        "start_time": "2021-12-09T09:41:47.786Z"
      },
      {
        "duration": 8,
        "start_time": "2021-12-09T09:41:47.802Z"
      },
      {
        "duration": 64,
        "start_time": "2021-12-09T09:41:47.812Z"
      },
      {
        "duration": 11,
        "start_time": "2021-12-09T09:41:47.878Z"
      },
      {
        "duration": 405,
        "start_time": "2021-12-09T09:41:47.892Z"
      },
      {
        "duration": 12,
        "start_time": "2021-12-09T09:42:21.898Z"
      },
      {
        "duration": 11,
        "start_time": "2021-12-09T09:42:35.476Z"
      },
      {
        "duration": 9,
        "start_time": "2021-12-09T09:45:04.744Z"
      },
      {
        "duration": 386,
        "start_time": "2021-12-09T09:45:15.872Z"
      },
      {
        "duration": 6,
        "start_time": "2021-12-09T09:45:28.204Z"
      },
      {
        "duration": 180,
        "start_time": "2021-12-09T09:50:29.079Z"
      },
      {
        "duration": 178,
        "start_time": "2021-12-09T09:50:34.531Z"
      },
      {
        "duration": 397,
        "start_time": "2021-12-09T09:50:43.776Z"
      },
      {
        "duration": 386,
        "start_time": "2021-12-09T09:57:02.027Z"
      },
      {
        "duration": 128,
        "start_time": "2021-12-09T09:57:11.331Z"
      },
      {
        "duration": 530,
        "start_time": "2021-12-09T09:57:20.279Z"
      },
      {
        "duration": 468,
        "start_time": "2021-12-09T09:57:56.395Z"
      },
      {
        "duration": 22,
        "start_time": "2021-12-09T09:58:16.199Z"
      },
      {
        "duration": 28,
        "start_time": "2021-12-09T10:00:59.722Z"
      },
      {
        "duration": 34,
        "start_time": "2021-12-09T10:01:04.639Z"
      },
      {
        "duration": 32,
        "start_time": "2021-12-09T10:01:13.518Z"
      },
      {
        "duration": 75,
        "start_time": "2021-12-09T10:01:15.998Z"
      },
      {
        "duration": 17,
        "start_time": "2021-12-09T10:01:16.077Z"
      },
      {
        "duration": 17,
        "start_time": "2021-12-09T10:01:16.098Z"
      },
      {
        "duration": 27,
        "start_time": "2021-12-09T10:01:16.118Z"
      },
      {
        "duration": 15,
        "start_time": "2021-12-09T10:01:16.148Z"
      },
      {
        "duration": 56,
        "start_time": "2021-12-09T10:01:16.166Z"
      },
      {
        "duration": 34,
        "start_time": "2021-12-09T10:01:16.225Z"
      },
      {
        "duration": 6,
        "start_time": "2021-12-09T10:01:16.262Z"
      },
      {
        "duration": 30,
        "start_time": "2021-12-09T10:01:45.266Z"
      },
      {
        "duration": 42,
        "start_time": "2021-12-09T10:01:58.643Z"
      },
      {
        "duration": 13,
        "start_time": "2021-12-09T10:02:10.338Z"
      },
      {
        "duration": 10,
        "start_time": "2021-12-09T10:02:11.382Z"
      },
      {
        "duration": 35,
        "start_time": "2021-12-09T10:02:12.918Z"
      },
      {
        "duration": 75,
        "start_time": "2021-12-09T10:02:23.022Z"
      },
      {
        "duration": 18,
        "start_time": "2021-12-09T10:02:23.100Z"
      },
      {
        "duration": 6,
        "start_time": "2021-12-09T10:02:23.122Z"
      },
      {
        "duration": 39,
        "start_time": "2021-12-09T10:02:23.131Z"
      },
      {
        "duration": 11,
        "start_time": "2021-12-09T10:02:23.173Z"
      },
      {
        "duration": 35,
        "start_time": "2021-12-09T10:02:23.186Z"
      },
      {
        "duration": 137,
        "start_time": "2021-12-09T10:09:29.753Z"
      },
      {
        "duration": 7,
        "start_time": "2021-12-09T10:09:32.626Z"
      },
      {
        "duration": 18,
        "start_time": "2021-12-09T10:09:43.165Z"
      },
      {
        "duration": 34,
        "start_time": "2021-12-09T10:09:53.817Z"
      },
      {
        "duration": 50,
        "start_time": "2021-12-09T10:10:11.257Z"
      },
      {
        "duration": 51,
        "start_time": "2021-12-09T10:10:36.753Z"
      },
      {
        "duration": 7,
        "start_time": "2021-12-09T10:10:50.765Z"
      },
      {
        "duration": 416,
        "start_time": "2021-12-09T10:12:18.729Z"
      },
      {
        "duration": 4,
        "start_time": "2021-12-09T10:12:22.265Z"
      },
      {
        "duration": 4,
        "start_time": "2021-12-09T10:12:23.645Z"
      },
      {
        "duration": 34,
        "start_time": "2021-12-09T10:12:42.437Z"
      },
      {
        "duration": 404,
        "start_time": "2021-12-09T10:13:14.901Z"
      },
      {
        "duration": 14,
        "start_time": "2021-12-09T10:13:21.792Z"
      },
      {
        "duration": 12,
        "start_time": "2021-12-09T10:13:53.085Z"
      },
      {
        "duration": 7,
        "start_time": "2021-12-09T13:10:40.997Z"
      },
      {
        "duration": 6,
        "start_time": "2021-12-09T13:10:51.848Z"
      },
      {
        "duration": 5,
        "start_time": "2021-12-09T13:10:52.668Z"
      },
      {
        "duration": 5,
        "start_time": "2021-12-09T13:14:05.376Z"
      },
      {
        "duration": 33,
        "start_time": "2021-12-09T13:14:10.412Z"
      },
      {
        "duration": 11,
        "start_time": "2021-12-09T13:14:59.148Z"
      },
      {
        "duration": 26,
        "start_time": "2021-12-09T13:20:42.820Z"
      },
      {
        "duration": 6,
        "start_time": "2021-12-09T13:27:25.299Z"
      },
      {
        "duration": 15,
        "start_time": "2021-12-09T13:31:54.474Z"
      },
      {
        "duration": 34,
        "start_time": "2021-12-09T13:35:59.618Z"
      },
      {
        "duration": 15,
        "start_time": "2021-12-09T13:48:08.836Z"
      },
      {
        "duration": 13,
        "start_time": "2021-12-09T14:17:23.128Z"
      },
      {
        "duration": 4,
        "start_time": "2021-12-09T14:20:11.332Z"
      },
      {
        "duration": 17,
        "start_time": "2021-12-09T14:20:31.116Z"
      },
      {
        "duration": 17,
        "start_time": "2021-12-09T14:20:51.016Z"
      },
      {
        "duration": 28,
        "start_time": "2021-12-09T14:24:12.252Z"
      },
      {
        "duration": 427,
        "start_time": "2021-12-09T14:24:18.891Z"
      },
      {
        "duration": 22,
        "start_time": "2021-12-09T14:24:22.651Z"
      },
      {
        "duration": 21,
        "start_time": "2021-12-09T14:24:37.671Z"
      },
      {
        "duration": 11,
        "start_time": "2021-12-09T14:34:10.774Z"
      },
      {
        "duration": 18,
        "start_time": "2021-12-09T14:34:15.718Z"
      },
      {
        "duration": 557,
        "start_time": "2021-12-09T14:34:56.758Z"
      },
      {
        "duration": 404,
        "start_time": "2021-12-09T14:36:53.518Z"
      },
      {
        "duration": 18,
        "start_time": "2021-12-09T14:37:07.050Z"
      },
      {
        "duration": 21,
        "start_time": "2021-12-09T14:37:49.789Z"
      },
      {
        "duration": 22,
        "start_time": "2021-12-09T14:37:56.842Z"
      },
      {
        "duration": 15,
        "start_time": "2021-12-09T14:43:13.065Z"
      },
      {
        "duration": 24,
        "start_time": "2021-12-09T14:43:17.029Z"
      },
      {
        "duration": 99,
        "start_time": "2021-12-09T14:47:09.303Z"
      },
      {
        "duration": 9,
        "start_time": "2021-12-09T14:52:11.312Z"
      },
      {
        "duration": 21,
        "start_time": "2021-12-09T14:52:17.268Z"
      },
      {
        "duration": 397,
        "start_time": "2021-12-09T14:53:20.936Z"
      },
      {
        "duration": 590,
        "start_time": "2021-12-09T14:53:53.836Z"
      },
      {
        "duration": 8,
        "start_time": "2021-12-09T14:54:06.532Z"
      },
      {
        "duration": 695,
        "start_time": "2021-12-09T14:54:37.900Z"
      },
      {
        "duration": 691,
        "start_time": "2021-12-09T14:54:58.899Z"
      },
      {
        "duration": 12,
        "start_time": "2021-12-09T14:55:00.720Z"
      },
      {
        "duration": 13,
        "start_time": "2021-12-09T15:39:44.710Z"
      },
      {
        "duration": 10,
        "start_time": "2021-12-09T15:48:05.473Z"
      },
      {
        "duration": 11,
        "start_time": "2021-12-09T15:59:51.031Z"
      },
      {
        "duration": 416,
        "start_time": "2021-12-09T16:00:16.207Z"
      },
      {
        "duration": 10,
        "start_time": "2021-12-09T16:00:29.843Z"
      },
      {
        "duration": 9,
        "start_time": "2021-12-09T16:44:43.534Z"
      },
      {
        "duration": 8,
        "start_time": "2021-12-09T16:45:03.281Z"
      },
      {
        "duration": 20,
        "start_time": "2021-12-09T16:45:15.346Z"
      },
      {
        "duration": 19,
        "start_time": "2021-12-09T16:45:20.509Z"
      },
      {
        "duration": 318,
        "start_time": "2021-12-13T10:32:34.913Z"
      },
      {
        "duration": 630,
        "start_time": "2021-12-13T10:32:41.073Z"
      },
      {
        "duration": 19,
        "start_time": "2021-12-13T10:32:41.705Z"
      },
      {
        "duration": 23,
        "start_time": "2021-12-13T10:32:41.726Z"
      },
      {
        "duration": 16,
        "start_time": "2021-12-13T10:32:41.752Z"
      },
      {
        "duration": 20,
        "start_time": "2021-12-13T10:32:41.770Z"
      },
      {
        "duration": 39,
        "start_time": "2021-12-13T10:32:41.792Z"
      },
      {
        "duration": 15,
        "start_time": "2021-12-13T10:32:41.834Z"
      },
      {
        "duration": 15,
        "start_time": "2021-12-13T10:32:41.853Z"
      },
      {
        "duration": 34,
        "start_time": "2021-12-13T10:32:41.871Z"
      },
      {
        "duration": 14,
        "start_time": "2021-12-13T10:32:41.908Z"
      },
      {
        "duration": 36,
        "start_time": "2021-12-13T10:32:41.924Z"
      },
      {
        "duration": 34,
        "start_time": "2021-12-13T10:32:41.963Z"
      },
      {
        "duration": 281,
        "start_time": "2021-12-13T10:32:41.999Z"
      },
      {
        "duration": 450,
        "start_time": "2021-12-13T10:34:29.502Z"
      },
      {
        "duration": 5,
        "start_time": "2021-12-13T10:35:16.370Z"
      },
      {
        "duration": 5,
        "start_time": "2021-12-13T10:35:26.261Z"
      },
      {
        "duration": 276,
        "start_time": "2021-12-13T10:36:25.053Z"
      },
      {
        "duration": 289,
        "start_time": "2021-12-13T10:36:29.023Z"
      },
      {
        "duration": 320,
        "start_time": "2021-12-13T10:37:06.045Z"
      },
      {
        "duration": 291,
        "start_time": "2021-12-13T10:37:18.402Z"
      },
      {
        "duration": 6,
        "start_time": "2021-12-13T10:40:46.429Z"
      },
      {
        "duration": 7,
        "start_time": "2021-12-13T10:40:58.133Z"
      },
      {
        "duration": 56,
        "start_time": "2021-12-13T10:41:05.389Z"
      },
      {
        "duration": 11,
        "start_time": "2021-12-13T10:41:05.447Z"
      },
      {
        "duration": 10,
        "start_time": "2021-12-13T10:41:05.460Z"
      },
      {
        "duration": 28,
        "start_time": "2021-12-13T10:41:05.472Z"
      },
      {
        "duration": 16,
        "start_time": "2021-12-13T10:41:05.501Z"
      },
      {
        "duration": 29,
        "start_time": "2021-12-13T10:41:05.518Z"
      },
      {
        "duration": 22,
        "start_time": "2021-12-13T10:41:05.550Z"
      },
      {
        "duration": 19,
        "start_time": "2021-12-13T10:41:05.575Z"
      },
      {
        "duration": 40,
        "start_time": "2021-12-13T10:41:05.596Z"
      },
      {
        "duration": 9,
        "start_time": "2021-12-13T10:41:05.638Z"
      },
      {
        "duration": 27,
        "start_time": "2021-12-13T10:41:05.649Z"
      },
      {
        "duration": 40,
        "start_time": "2021-12-13T10:41:05.678Z"
      },
      {
        "duration": 32,
        "start_time": "2021-12-13T10:41:05.720Z"
      },
      {
        "duration": 510,
        "start_time": "2021-12-13T10:41:05.753Z"
      },
      {
        "duration": 277,
        "start_time": "2021-12-13T10:46:57.124Z"
      },
      {
        "duration": 2291,
        "start_time": "2021-12-13T10:48:09.268Z"
      },
      {
        "duration": 13,
        "start_time": "2021-12-13T10:49:08.663Z"
      },
      {
        "duration": 5,
        "start_time": "2021-12-13T10:49:52.276Z"
      },
      {
        "duration": 8,
        "start_time": "2021-12-13T10:50:24.152Z"
      },
      {
        "duration": 5,
        "start_time": "2021-12-13T10:50:33.663Z"
      },
      {
        "duration": 8,
        "start_time": "2021-12-13T10:50:36.499Z"
      },
      {
        "duration": 4,
        "start_time": "2021-12-13T10:50:38.892Z"
      },
      {
        "duration": 57,
        "start_time": "2021-12-13T10:50:42.015Z"
      },
      {
        "duration": 11,
        "start_time": "2021-12-13T10:50:42.074Z"
      },
      {
        "duration": 5,
        "start_time": "2021-12-13T10:50:42.087Z"
      },
      {
        "duration": 11,
        "start_time": "2021-12-13T10:50:42.093Z"
      },
      {
        "duration": 6,
        "start_time": "2021-12-13T10:50:42.105Z"
      },
      {
        "duration": 39,
        "start_time": "2021-12-13T10:50:42.113Z"
      },
      {
        "duration": 11,
        "start_time": "2021-12-13T10:50:42.153Z"
      },
      {
        "duration": 10,
        "start_time": "2021-12-13T10:50:42.166Z"
      },
      {
        "duration": 14,
        "start_time": "2021-12-13T10:50:42.178Z"
      },
      {
        "duration": 6,
        "start_time": "2021-12-13T10:50:42.193Z"
      },
      {
        "duration": 52,
        "start_time": "2021-12-13T10:50:42.201Z"
      },
      {
        "duration": 18,
        "start_time": "2021-12-13T10:50:42.255Z"
      },
      {
        "duration": 30,
        "start_time": "2021-12-13T10:50:42.275Z"
      },
      {
        "duration": 8,
        "start_time": "2021-12-13T10:50:42.306Z"
      },
      {
        "duration": 30,
        "start_time": "2021-12-13T10:50:42.316Z"
      },
      {
        "duration": 303,
        "start_time": "2021-12-13T10:51:29.420Z"
      },
      {
        "duration": 337,
        "start_time": "2021-12-13T10:51:52.267Z"
      },
      {
        "duration": 5,
        "start_time": "2021-12-13T10:52:53.299Z"
      },
      {
        "duration": 264,
        "start_time": "2021-12-13T10:53:17.107Z"
      },
      {
        "duration": 7,
        "start_time": "2021-12-13T10:53:33.843Z"
      },
      {
        "duration": 5,
        "start_time": "2021-12-13T10:53:35.870Z"
      },
      {
        "duration": 5,
        "start_time": "2021-12-13T10:53:36.831Z"
      },
      {
        "duration": 9,
        "start_time": "2021-12-13T10:53:39.331Z"
      },
      {
        "duration": 5,
        "start_time": "2021-12-13T10:53:41.002Z"
      },
      {
        "duration": 9,
        "start_time": "2021-12-13T10:54:25.454Z"
      },
      {
        "duration": 5,
        "start_time": "2021-12-13T10:54:27.243Z"
      },
      {
        "duration": 3,
        "start_time": "2021-12-13T10:54:38.847Z"
      },
      {
        "duration": 7,
        "start_time": "2021-12-13T10:54:39.778Z"
      },
      {
        "duration": 4,
        "start_time": "2021-12-13T10:54:40.923Z"
      },
      {
        "duration": 59,
        "start_time": "2021-12-13T10:54:43.810Z"
      },
      {
        "duration": 15,
        "start_time": "2021-12-13T10:54:43.871Z"
      },
      {
        "duration": 4,
        "start_time": "2021-12-13T10:54:43.889Z"
      },
      {
        "duration": 11,
        "start_time": "2021-12-13T10:54:43.894Z"
      },
      {
        "duration": 6,
        "start_time": "2021-12-13T10:54:43.907Z"
      },
      {
        "duration": 40,
        "start_time": "2021-12-13T10:54:43.915Z"
      },
      {
        "duration": 11,
        "start_time": "2021-12-13T10:54:43.957Z"
      },
      {
        "duration": 17,
        "start_time": "2021-12-13T10:54:43.971Z"
      },
      {
        "duration": 22,
        "start_time": "2021-12-13T10:54:43.990Z"
      },
      {
        "duration": 38,
        "start_time": "2021-12-13T10:54:44.013Z"
      },
      {
        "duration": 20,
        "start_time": "2021-12-13T10:54:44.054Z"
      },
      {
        "duration": 23,
        "start_time": "2021-12-13T10:54:44.076Z"
      },
      {
        "duration": 77,
        "start_time": "2021-12-13T10:54:44.101Z"
      },
      {
        "duration": 3,
        "start_time": "2021-12-13T10:54:44.180Z"
      },
      {
        "duration": 7,
        "start_time": "2021-12-13T10:54:44.185Z"
      },
      {
        "duration": 76,
        "start_time": "2021-12-13T10:54:57.599Z"
      },
      {
        "duration": 16,
        "start_time": "2021-12-13T10:54:57.678Z"
      },
      {
        "duration": 5,
        "start_time": "2021-12-13T10:54:57.696Z"
      },
      {
        "duration": 12,
        "start_time": "2021-12-13T10:54:57.703Z"
      },
      {
        "duration": 27,
        "start_time": "2021-12-13T10:54:57.717Z"
      },
      {
        "duration": 13,
        "start_time": "2021-12-13T10:54:57.746Z"
      },
      {
        "duration": 12,
        "start_time": "2021-12-13T10:54:57.761Z"
      },
      {
        "duration": 10,
        "start_time": "2021-12-13T10:54:57.775Z"
      },
      {
        "duration": 13,
        "start_time": "2021-12-13T10:54:57.787Z"
      },
      {
        "duration": 45,
        "start_time": "2021-12-13T10:54:57.802Z"
      },
      {
        "duration": 15,
        "start_time": "2021-12-13T10:54:57.849Z"
      },
      {
        "duration": 19,
        "start_time": "2021-12-13T10:54:57.866Z"
      },
      {
        "duration": 71,
        "start_time": "2021-12-13T10:54:57.886Z"
      },
      {
        "duration": 8,
        "start_time": "2021-12-13T10:54:57.959Z"
      },
      {
        "duration": 7,
        "start_time": "2021-12-13T10:54:57.969Z"
      },
      {
        "duration": 9,
        "start_time": "2021-12-13T10:55:52.843Z"
      },
      {
        "duration": 6,
        "start_time": "2021-12-13T10:55:55.023Z"
      },
      {
        "duration": 7,
        "start_time": "2021-12-13T10:55:56.118Z"
      },
      {
        "duration": 78,
        "start_time": "2021-12-13T10:55:57.867Z"
      },
      {
        "duration": 10,
        "start_time": "2021-12-13T10:55:57.947Z"
      },
      {
        "duration": 27,
        "start_time": "2021-12-13T10:55:57.959Z"
      },
      {
        "duration": 11,
        "start_time": "2021-12-13T10:55:57.988Z"
      },
      {
        "duration": 22,
        "start_time": "2021-12-13T10:55:58.001Z"
      },
      {
        "duration": 31,
        "start_time": "2021-12-13T10:55:58.025Z"
      },
      {
        "duration": 33,
        "start_time": "2021-12-13T10:55:58.058Z"
      },
      {
        "duration": 35,
        "start_time": "2021-12-13T10:55:58.093Z"
      },
      {
        "duration": 24,
        "start_time": "2021-12-13T10:55:58.130Z"
      },
      {
        "duration": 24,
        "start_time": "2021-12-13T10:55:58.156Z"
      },
      {
        "duration": 35,
        "start_time": "2021-12-13T10:55:58.182Z"
      },
      {
        "duration": 29,
        "start_time": "2021-12-13T10:55:58.219Z"
      },
      {
        "duration": 46,
        "start_time": "2021-12-13T10:55:58.250Z"
      },
      {
        "duration": 11,
        "start_time": "2021-12-13T10:55:58.298Z"
      },
      {
        "duration": 37,
        "start_time": "2021-12-13T10:55:58.311Z"
      },
      {
        "duration": 6,
        "start_time": "2021-12-13T10:56:09.802Z"
      },
      {
        "duration": 6,
        "start_time": "2021-12-13T10:59:36.718Z"
      },
      {
        "duration": 6,
        "start_time": "2021-12-13T11:01:04.358Z"
      },
      {
        "duration": 2250,
        "start_time": "2021-12-13T11:01:09.199Z"
      },
      {
        "duration": 7,
        "start_time": "2021-12-13T11:01:24.562Z"
      },
      {
        "duration": 345,
        "start_time": "2021-12-13T11:01:50.579Z"
      },
      {
        "duration": 393,
        "start_time": "2021-12-13T11:01:55.018Z"
      },
      {
        "duration": 5,
        "start_time": "2021-12-13T11:02:16.278Z"
      },
      {
        "duration": 6,
        "start_time": "2021-12-13T11:02:29.389Z"
      },
      {
        "duration": 5,
        "start_time": "2021-12-13T11:02:47.150Z"
      },
      {
        "duration": 6,
        "start_time": "2021-12-13T11:02:53.446Z"
      },
      {
        "duration": 17,
        "start_time": "2021-12-13T11:04:33.233Z"
      },
      {
        "duration": 33,
        "start_time": "2021-12-13T11:04:35.189Z"
      },
      {
        "duration": 15,
        "start_time": "2021-12-13T11:04:36.333Z"
      },
      {
        "duration": 58,
        "start_time": "2021-12-13T11:04:38.426Z"
      },
      {
        "duration": 12,
        "start_time": "2021-12-13T11:04:38.487Z"
      },
      {
        "duration": 8,
        "start_time": "2021-12-13T11:04:38.502Z"
      },
      {
        "duration": 28,
        "start_time": "2021-12-13T11:04:38.512Z"
      },
      {
        "duration": 46,
        "start_time": "2021-12-13T11:04:38.544Z"
      },
      {
        "duration": 63,
        "start_time": "2021-12-13T11:04:38.592Z"
      },
      {
        "duration": 42,
        "start_time": "2021-12-13T11:04:38.657Z"
      },
      {
        "duration": 29,
        "start_time": "2021-12-13T11:04:38.701Z"
      },
      {
        "duration": 35,
        "start_time": "2021-12-13T11:04:38.732Z"
      },
      {
        "duration": 28,
        "start_time": "2021-12-13T11:04:38.769Z"
      },
      {
        "duration": 36,
        "start_time": "2021-12-13T11:04:38.799Z"
      },
      {
        "duration": 33,
        "start_time": "2021-12-13T11:04:38.837Z"
      },
      {
        "duration": 85,
        "start_time": "2021-12-13T11:04:38.872Z"
      },
      {
        "duration": 72,
        "start_time": "2021-12-13T11:04:38.958Z"
      },
      {
        "duration": 61,
        "start_time": "2021-12-13T11:04:39.032Z"
      },
      {
        "duration": 17,
        "start_time": "2021-12-13T11:04:39.095Z"
      },
      {
        "duration": 16,
        "start_time": "2021-12-13T11:04:53.829Z"
      },
      {
        "duration": 16,
        "start_time": "2021-12-13T11:05:02.750Z"
      },
      {
        "duration": 15,
        "start_time": "2021-12-13T11:05:09.226Z"
      },
      {
        "duration": 18,
        "start_time": "2021-12-13T11:13:02.536Z"
      },
      {
        "duration": 19,
        "start_time": "2021-12-13T11:13:04.341Z"
      },
      {
        "duration": 17,
        "start_time": "2021-12-13T11:13:13.696Z"
      },
      {
        "duration": 29,
        "start_time": "2021-12-13T11:13:30.397Z"
      },
      {
        "duration": 28,
        "start_time": "2021-12-13T11:13:32.181Z"
      },
      {
        "duration": 16,
        "start_time": "2021-12-13T11:13:41.144Z"
      },
      {
        "duration": 30,
        "start_time": "2021-12-13T11:13:56.980Z"
      },
      {
        "duration": 29,
        "start_time": "2021-12-13T11:13:58.656Z"
      },
      {
        "duration": 31,
        "start_time": "2021-12-13T11:13:59.672Z"
      },
      {
        "duration": 67,
        "start_time": "2021-12-13T11:14:04.520Z"
      },
      {
        "duration": 12,
        "start_time": "2021-12-13T11:14:04.589Z"
      },
      {
        "duration": 4,
        "start_time": "2021-12-13T11:14:04.603Z"
      },
      {
        "duration": 12,
        "start_time": "2021-12-13T11:14:04.609Z"
      },
      {
        "duration": 14,
        "start_time": "2021-12-13T11:14:04.644Z"
      },
      {
        "duration": 11,
        "start_time": "2021-12-13T11:14:04.659Z"
      },
      {
        "duration": 10,
        "start_time": "2021-12-13T11:14:04.671Z"
      },
      {
        "duration": 24,
        "start_time": "2021-12-13T11:14:04.684Z"
      },
      {
        "duration": 6,
        "start_time": "2021-12-13T11:14:04.709Z"
      },
      {
        "duration": 38,
        "start_time": "2021-12-13T11:14:04.717Z"
      },
      {
        "duration": 11,
        "start_time": "2021-12-13T11:14:04.756Z"
      },
      {
        "duration": 5,
        "start_time": "2021-12-13T11:14:04.768Z"
      },
      {
        "duration": 36,
        "start_time": "2021-12-13T11:14:04.774Z"
      },
      {
        "duration": 41,
        "start_time": "2021-12-13T11:14:04.812Z"
      },
      {
        "duration": 59,
        "start_time": "2021-12-13T11:14:31.688Z"
      },
      {
        "duration": 12,
        "start_time": "2021-12-13T11:14:31.749Z"
      },
      {
        "duration": 15,
        "start_time": "2021-12-13T11:14:31.763Z"
      },
      {
        "duration": 13,
        "start_time": "2021-12-13T11:14:31.780Z"
      },
      {
        "duration": 14,
        "start_time": "2021-12-13T11:14:31.795Z"
      },
      {
        "duration": 12,
        "start_time": "2021-12-13T11:14:31.811Z"
      },
      {
        "duration": 12,
        "start_time": "2021-12-13T11:14:31.845Z"
      },
      {
        "duration": 12,
        "start_time": "2021-12-13T11:14:31.860Z"
      },
      {
        "duration": 6,
        "start_time": "2021-12-13T11:14:31.874Z"
      },
      {
        "duration": 14,
        "start_time": "2021-12-13T11:14:31.882Z"
      },
      {
        "duration": 14,
        "start_time": "2021-12-13T11:14:31.898Z"
      },
      {
        "duration": 31,
        "start_time": "2021-12-13T11:14:31.914Z"
      },
      {
        "duration": 33,
        "start_time": "2021-12-13T11:14:31.947Z"
      },
      {
        "duration": 18,
        "start_time": "2021-12-13T11:15:07.556Z"
      },
      {
        "duration": 53,
        "start_time": "2021-12-13T13:17:17.224Z"
      },
      {
        "duration": 40,
        "start_time": "2021-12-13T13:17:18.892Z"
      },
      {
        "duration": 85,
        "start_time": "2021-12-13T13:17:21.388Z"
      },
      {
        "duration": 17,
        "start_time": "2021-12-13T13:17:21.476Z"
      },
      {
        "duration": 6,
        "start_time": "2021-12-13T13:17:21.495Z"
      },
      {
        "duration": 11,
        "start_time": "2021-12-13T13:17:21.503Z"
      },
      {
        "duration": 35,
        "start_time": "2021-12-13T13:17:21.516Z"
      },
      {
        "duration": 16,
        "start_time": "2021-12-13T13:17:21.553Z"
      },
      {
        "duration": 15,
        "start_time": "2021-12-13T13:17:21.571Z"
      },
      {
        "duration": 15,
        "start_time": "2021-12-13T13:17:21.590Z"
      },
      {
        "duration": 40,
        "start_time": "2021-12-13T13:17:21.607Z"
      },
      {
        "duration": 20,
        "start_time": "2021-12-13T13:17:21.649Z"
      },
      {
        "duration": 18,
        "start_time": "2021-12-13T13:17:21.671Z"
      },
      {
        "duration": 76,
        "start_time": "2021-12-13T13:17:21.691Z"
      },
      {
        "duration": 14,
        "start_time": "2021-12-13T16:03:41.660Z"
      },
      {
        "duration": 20,
        "start_time": "2021-12-13T16:03:53.548Z"
      },
      {
        "duration": 54,
        "start_time": "2021-12-13T16:04:17.244Z"
      },
      {
        "duration": 11,
        "start_time": "2021-12-13T16:04:17.300Z"
      },
      {
        "duration": 27,
        "start_time": "2021-12-13T16:04:17.313Z"
      },
      {
        "duration": 16,
        "start_time": "2021-12-13T16:04:17.342Z"
      },
      {
        "duration": 29,
        "start_time": "2021-12-13T16:04:17.359Z"
      },
      {
        "duration": 22,
        "start_time": "2021-12-13T16:04:17.389Z"
      },
      {
        "duration": 28,
        "start_time": "2021-12-13T16:04:17.413Z"
      },
      {
        "duration": 26,
        "start_time": "2021-12-13T16:04:17.443Z"
      },
      {
        "duration": 29,
        "start_time": "2021-12-13T16:04:17.471Z"
      },
      {
        "duration": 21,
        "start_time": "2021-12-13T16:04:17.502Z"
      },
      {
        "duration": 21,
        "start_time": "2021-12-13T16:04:17.525Z"
      },
      {
        "duration": 47,
        "start_time": "2021-12-13T16:04:17.548Z"
      },
      {
        "duration": 38,
        "start_time": "2021-12-13T16:04:17.596Z"
      },
      {
        "duration": 18,
        "start_time": "2021-12-13T16:04:50.282Z"
      },
      {
        "duration": 58,
        "start_time": "2021-12-13T16:04:54.464Z"
      },
      {
        "duration": 11,
        "start_time": "2021-12-13T16:04:54.524Z"
      },
      {
        "duration": 12,
        "start_time": "2021-12-13T16:04:54.537Z"
      },
      {
        "duration": 18,
        "start_time": "2021-12-13T16:04:54.551Z"
      },
      {
        "duration": 13,
        "start_time": "2021-12-13T16:04:54.571Z"
      },
      {
        "duration": 10,
        "start_time": "2021-12-13T16:04:54.586Z"
      },
      {
        "duration": 11,
        "start_time": "2021-12-13T16:04:54.598Z"
      },
      {
        "duration": 33,
        "start_time": "2021-12-13T16:04:54.611Z"
      },
      {
        "duration": 7,
        "start_time": "2021-12-13T16:04:54.646Z"
      },
      {
        "duration": 21,
        "start_time": "2021-12-13T16:04:54.654Z"
      },
      {
        "duration": 8,
        "start_time": "2021-12-13T16:04:54.677Z"
      },
      {
        "duration": 57,
        "start_time": "2021-12-13T16:04:54.687Z"
      },
      {
        "duration": 44,
        "start_time": "2021-12-13T16:04:54.746Z"
      },
      {
        "duration": 21,
        "start_time": "2021-12-13T16:06:08.143Z"
      },
      {
        "duration": 59,
        "start_time": "2021-12-13T16:06:20.567Z"
      },
      {
        "duration": 12,
        "start_time": "2021-12-13T16:06:20.628Z"
      },
      {
        "duration": 5,
        "start_time": "2021-12-13T16:06:20.643Z"
      },
      {
        "duration": 16,
        "start_time": "2021-12-13T16:06:20.650Z"
      },
      {
        "duration": 17,
        "start_time": "2021-12-13T16:06:20.668Z"
      },
      {
        "duration": 12,
        "start_time": "2021-12-13T16:06:20.687Z"
      },
      {
        "duration": 37,
        "start_time": "2021-12-13T16:06:20.701Z"
      },
      {
        "duration": 14,
        "start_time": "2021-12-13T16:06:20.740Z"
      },
      {
        "duration": 6,
        "start_time": "2021-12-13T16:06:20.756Z"
      },
      {
        "duration": 25,
        "start_time": "2021-12-13T16:06:20.764Z"
      },
      {
        "duration": 19,
        "start_time": "2021-12-13T16:06:20.791Z"
      },
      {
        "duration": 37,
        "start_time": "2021-12-13T16:06:20.811Z"
      },
      {
        "duration": 44,
        "start_time": "2021-12-13T16:06:20.850Z"
      },
      {
        "duration": 17,
        "start_time": "2021-12-13T16:12:36.126Z"
      },
      {
        "duration": 18,
        "start_time": "2021-12-13T16:12:37.138Z"
      },
      {
        "duration": 17,
        "start_time": "2021-12-13T16:12:37.842Z"
      },
      {
        "duration": 24,
        "start_time": "2021-12-13T16:12:38.455Z"
      },
      {
        "duration": 21,
        "start_time": "2021-12-13T16:12:39.379Z"
      },
      {
        "duration": 21,
        "start_time": "2021-12-13T16:12:48.150Z"
      },
      {
        "duration": 20,
        "start_time": "2021-12-13T16:12:50.898Z"
      },
      {
        "duration": 58,
        "start_time": "2021-12-13T16:12:52.918Z"
      },
      {
        "duration": 11,
        "start_time": "2021-12-13T16:12:52.977Z"
      },
      {
        "duration": 32,
        "start_time": "2021-12-13T16:12:52.990Z"
      },
      {
        "duration": 36,
        "start_time": "2021-12-13T16:12:53.023Z"
      },
      {
        "duration": 47,
        "start_time": "2021-12-13T16:12:53.061Z"
      },
      {
        "duration": 31,
        "start_time": "2021-12-13T16:12:53.110Z"
      },
      {
        "duration": 35,
        "start_time": "2021-12-13T16:12:53.143Z"
      },
      {
        "duration": 24,
        "start_time": "2021-12-13T16:12:53.180Z"
      },
      {
        "duration": 32,
        "start_time": "2021-12-13T16:12:53.206Z"
      },
      {
        "duration": 46,
        "start_time": "2021-12-13T16:12:53.240Z"
      },
      {
        "duration": 44,
        "start_time": "2021-12-13T16:12:53.287Z"
      },
      {
        "duration": 66,
        "start_time": "2021-12-13T16:12:53.333Z"
      },
      {
        "duration": 44,
        "start_time": "2021-12-13T16:12:53.401Z"
      },
      {
        "duration": 20,
        "start_time": "2021-12-13T16:14:55.646Z"
      },
      {
        "duration": 72,
        "start_time": "2021-12-13T16:14:59.363Z"
      },
      {
        "duration": 15,
        "start_time": "2021-12-13T16:14:59.438Z"
      },
      {
        "duration": 5,
        "start_time": "2021-12-13T16:14:59.455Z"
      },
      {
        "duration": 11,
        "start_time": "2021-12-13T16:14:59.462Z"
      },
      {
        "duration": 16,
        "start_time": "2021-12-13T16:14:59.475Z"
      },
      {
        "duration": 13,
        "start_time": "2021-12-13T16:14:59.493Z"
      },
      {
        "duration": 48,
        "start_time": "2021-12-13T16:14:59.508Z"
      },
      {
        "duration": 16,
        "start_time": "2021-12-13T16:14:59.559Z"
      },
      {
        "duration": 8,
        "start_time": "2021-12-13T16:14:59.577Z"
      },
      {
        "duration": 19,
        "start_time": "2021-12-13T16:14:59.587Z"
      },
      {
        "duration": 38,
        "start_time": "2021-12-13T16:14:59.607Z"
      },
      {
        "duration": 27,
        "start_time": "2021-12-13T16:14:59.646Z"
      },
      {
        "duration": 42,
        "start_time": "2021-12-13T16:14:59.675Z"
      },
      {
        "duration": 256,
        "start_time": "2021-12-13T16:15:21.927Z"
      },
      {
        "duration": 21,
        "start_time": "2021-12-13T16:15:25.650Z"
      },
      {
        "duration": 101,
        "start_time": "2021-12-13T16:48:00.131Z"
      },
      {
        "duration": 19,
        "start_time": "2021-12-13T16:48:00.235Z"
      },
      {
        "duration": 8,
        "start_time": "2021-12-13T16:48:00.257Z"
      },
      {
        "duration": 18,
        "start_time": "2021-12-13T16:48:00.268Z"
      },
      {
        "duration": 27,
        "start_time": "2021-12-13T16:48:00.288Z"
      },
      {
        "duration": 32,
        "start_time": "2021-12-13T16:48:00.318Z"
      },
      {
        "duration": 16,
        "start_time": "2021-12-13T16:48:00.352Z"
      },
      {
        "duration": 16,
        "start_time": "2021-12-13T16:48:00.372Z"
      },
      {
        "duration": 7,
        "start_time": "2021-12-13T16:48:00.390Z"
      },
      {
        "duration": 29,
        "start_time": "2021-12-13T16:48:00.399Z"
      },
      {
        "duration": 11,
        "start_time": "2021-12-13T16:48:00.444Z"
      },
      {
        "duration": 51,
        "start_time": "2021-12-13T16:48:00.457Z"
      },
      {
        "duration": 365,
        "start_time": "2021-12-13T16:51:57.357Z"
      },
      {
        "duration": 263,
        "start_time": "2021-12-13T16:58:36.033Z"
      },
      {
        "duration": 3969,
        "start_time": "2021-12-13T16:59:15.637Z"
      },
      {
        "duration": 3380,
        "start_time": "2021-12-13T16:59:27.081Z"
      },
      {
        "duration": 3,
        "start_time": "2021-12-13T17:03:18.184Z"
      },
      {
        "duration": 3321,
        "start_time": "2021-12-13T17:03:39.140Z"
      },
      {
        "duration": 98,
        "start_time": "2021-12-13T17:03:51.388Z"
      },
      {
        "duration": 11,
        "start_time": "2021-12-13T17:03:51.489Z"
      },
      {
        "duration": 18,
        "start_time": "2021-12-13T17:03:51.503Z"
      },
      {
        "duration": 22,
        "start_time": "2021-12-13T17:03:51.523Z"
      },
      {
        "duration": 14,
        "start_time": "2021-12-13T17:03:51.548Z"
      },
      {
        "duration": 10,
        "start_time": "2021-12-13T17:03:51.564Z"
      },
      {
        "duration": 10,
        "start_time": "2021-12-13T17:03:51.576Z"
      },
      {
        "duration": 15,
        "start_time": "2021-12-13T17:03:51.589Z"
      },
      {
        "duration": 43,
        "start_time": "2021-12-13T17:03:51.606Z"
      },
      {
        "duration": 29,
        "start_time": "2021-12-13T17:03:51.650Z"
      },
      {
        "duration": 11,
        "start_time": "2021-12-13T17:03:51.681Z"
      },
      {
        "duration": 59,
        "start_time": "2021-12-13T17:03:51.694Z"
      },
      {
        "duration": 6,
        "start_time": "2021-12-13T17:03:51.755Z"
      },
      {
        "duration": 3783,
        "start_time": "2021-12-13T17:03:51.763Z"
      },
      {
        "duration": 89,
        "start_time": "2021-12-13T17:04:24.436Z"
      },
      {
        "duration": 16,
        "start_time": "2021-12-13T17:04:24.528Z"
      },
      {
        "duration": 6,
        "start_time": "2021-12-13T17:04:24.546Z"
      },
      {
        "duration": 14,
        "start_time": "2021-12-13T17:04:24.554Z"
      },
      {
        "duration": 17,
        "start_time": "2021-12-13T17:04:24.570Z"
      },
      {
        "duration": 14,
        "start_time": "2021-12-13T17:04:24.589Z"
      },
      {
        "duration": 47,
        "start_time": "2021-12-13T17:04:24.605Z"
      },
      {
        "duration": 15,
        "start_time": "2021-12-13T17:04:24.655Z"
      },
      {
        "duration": 6,
        "start_time": "2021-12-13T17:04:24.672Z"
      },
      {
        "duration": 28,
        "start_time": "2021-12-13T17:04:24.681Z"
      },
      {
        "duration": 41,
        "start_time": "2021-12-13T17:04:24.711Z"
      },
      {
        "duration": 67,
        "start_time": "2021-12-13T17:04:24.755Z"
      },
      {
        "duration": 7,
        "start_time": "2021-12-13T17:04:24.844Z"
      },
      {
        "duration": 3980,
        "start_time": "2021-12-13T17:04:24.853Z"
      },
      {
        "duration": 4581,
        "start_time": "2021-12-13T17:04:46.163Z"
      },
      {
        "duration": 62,
        "start_time": "2021-12-13T17:04:56.980Z"
      },
      {
        "duration": 12,
        "start_time": "2021-12-13T17:04:57.044Z"
      },
      {
        "duration": 30,
        "start_time": "2021-12-13T17:04:57.058Z"
      },
      {
        "duration": 28,
        "start_time": "2021-12-13T17:04:57.090Z"
      },
      {
        "duration": 37,
        "start_time": "2021-12-13T17:04:57.120Z"
      },
      {
        "duration": 19,
        "start_time": "2021-12-13T17:04:57.159Z"
      },
      {
        "duration": 48,
        "start_time": "2021-12-13T17:04:57.180Z"
      },
      {
        "duration": 39,
        "start_time": "2021-12-13T17:04:57.230Z"
      },
      {
        "duration": 14,
        "start_time": "2021-12-13T17:04:57.271Z"
      },
      {
        "duration": 47,
        "start_time": "2021-12-13T17:04:57.287Z"
      },
      {
        "duration": 16,
        "start_time": "2021-12-13T17:04:57.336Z"
      },
      {
        "duration": 65,
        "start_time": "2021-12-13T17:04:57.354Z"
      },
      {
        "duration": 6,
        "start_time": "2021-12-13T17:04:57.421Z"
      },
      {
        "duration": 3882,
        "start_time": "2021-12-13T17:04:57.429Z"
      },
      {
        "duration": 79,
        "start_time": "2021-12-13T17:05:31.692Z"
      },
      {
        "duration": 11,
        "start_time": "2021-12-13T17:05:31.773Z"
      },
      {
        "duration": 7,
        "start_time": "2021-12-13T17:05:31.787Z"
      },
      {
        "duration": 12,
        "start_time": "2021-12-13T17:05:31.796Z"
      },
      {
        "duration": 14,
        "start_time": "2021-12-13T17:05:31.810Z"
      },
      {
        "duration": 27,
        "start_time": "2021-12-13T17:05:31.826Z"
      },
      {
        "duration": 11,
        "start_time": "2021-12-13T17:05:31.855Z"
      },
      {
        "duration": 22,
        "start_time": "2021-12-13T17:05:31.869Z"
      },
      {
        "duration": 7,
        "start_time": "2021-12-13T17:05:31.892Z"
      },
      {
        "duration": 20,
        "start_time": "2021-12-13T17:05:31.901Z"
      },
      {
        "duration": 44,
        "start_time": "2021-12-13T17:05:31.923Z"
      },
      {
        "duration": 50,
        "start_time": "2021-12-13T17:05:31.969Z"
      },
      {
        "duration": 6,
        "start_time": "2021-12-13T17:05:32.021Z"
      },
      {
        "duration": 4021,
        "start_time": "2021-12-13T17:05:32.029Z"
      },
      {
        "duration": 1284,
        "start_time": "2021-12-13T17:06:18.972Z"
      },
      {
        "duration": 63,
        "start_time": "2021-12-13T17:06:25.424Z"
      },
      {
        "duration": 12,
        "start_time": "2021-12-13T17:06:25.489Z"
      },
      {
        "duration": 11,
        "start_time": "2021-12-13T17:06:25.503Z"
      },
      {
        "duration": 12,
        "start_time": "2021-12-13T17:06:25.516Z"
      },
      {
        "duration": 21,
        "start_time": "2021-12-13T17:06:25.545Z"
      },
      {
        "duration": 16,
        "start_time": "2021-12-13T17:06:25.568Z"
      },
      {
        "duration": 12,
        "start_time": "2021-12-13T17:06:25.586Z"
      },
      {
        "duration": 23,
        "start_time": "2021-12-13T17:06:25.600Z"
      },
      {
        "duration": 6,
        "start_time": "2021-12-13T17:06:25.645Z"
      },
      {
        "duration": 25,
        "start_time": "2021-12-13T17:06:25.653Z"
      },
      {
        "duration": 10,
        "start_time": "2021-12-13T17:06:25.680Z"
      },
      {
        "duration": 62,
        "start_time": "2021-12-13T17:06:25.693Z"
      },
      {
        "duration": 3,
        "start_time": "2021-12-13T17:06:25.756Z"
      },
      {
        "duration": 4000,
        "start_time": "2021-12-13T17:06:25.761Z"
      },
      {
        "duration": 7,
        "start_time": "2021-12-13T17:06:31.818Z"
      },
      {
        "duration": 6,
        "start_time": "2021-12-13T17:06:37.604Z"
      },
      {
        "duration": 302,
        "start_time": "2021-12-13T17:09:21.687Z"
      },
      {
        "duration": 9,
        "start_time": "2021-12-13T17:09:29.775Z"
      },
      {
        "duration": 49,
        "start_time": "2021-12-13T17:09:39.729Z"
      },
      {
        "duration": 13,
        "start_time": "2021-12-13T17:09:53.051Z"
      },
      {
        "duration": 276,
        "start_time": "2021-12-13T17:10:24.535Z"
      },
      {
        "duration": 12,
        "start_time": "2021-12-13T17:10:42.571Z"
      },
      {
        "duration": 3124,
        "start_time": "2021-12-13T17:36:10.644Z"
      },
      {
        "duration": 7,
        "start_time": "2021-12-13T17:36:19.364Z"
      },
      {
        "duration": 26,
        "start_time": "2021-12-13T17:36:24.680Z"
      },
      {
        "duration": 3118,
        "start_time": "2021-12-13T17:41:54.595Z"
      },
      {
        "duration": 23,
        "start_time": "2021-12-13T17:41:58.579Z"
      },
      {
        "duration": 11,
        "start_time": "2021-12-13T17:42:42.643Z"
      },
      {
        "duration": 13,
        "start_time": "2021-12-13T17:42:44.647Z"
      },
      {
        "duration": 4,
        "start_time": "2021-12-13T17:50:55.746Z"
      },
      {
        "duration": 6902,
        "start_time": "2021-12-13T17:52:40.154Z"
      },
      {
        "duration": 7311,
        "start_time": "2021-12-13T17:53:00.254Z"
      },
      {
        "duration": 1978,
        "start_time": "2021-12-13T17:53:12.038Z"
      },
      {
        "duration": 1217,
        "start_time": "2021-12-13T17:53:23.278Z"
      },
      {
        "duration": 21,
        "start_time": "2021-12-13T17:53:45.878Z"
      },
      {
        "duration": 24,
        "start_time": "2021-12-13T17:54:11.761Z"
      },
      {
        "duration": 23,
        "start_time": "2021-12-13T17:54:39.089Z"
      },
      {
        "duration": 27,
        "start_time": "2021-12-13T17:54:40.742Z"
      },
      {
        "duration": 6,
        "start_time": "2021-12-13T17:56:30.031Z"
      },
      {
        "duration": 113,
        "start_time": "2021-12-13T17:57:06.062Z"
      },
      {
        "duration": 25,
        "start_time": "2021-12-13T17:57:06.183Z"
      },
      {
        "duration": 19,
        "start_time": "2021-12-13T17:57:06.215Z"
      },
      {
        "duration": 42,
        "start_time": "2021-12-13T17:57:06.241Z"
      },
      {
        "duration": 37,
        "start_time": "2021-12-13T17:57:06.290Z"
      },
      {
        "duration": 33,
        "start_time": "2021-12-13T17:57:06.334Z"
      },
      {
        "duration": 36,
        "start_time": "2021-12-13T17:57:06.370Z"
      },
      {
        "duration": 42,
        "start_time": "2021-12-13T17:57:06.409Z"
      },
      {
        "duration": 27,
        "start_time": "2021-12-13T17:57:06.453Z"
      },
      {
        "duration": 48,
        "start_time": "2021-12-13T17:57:06.482Z"
      },
      {
        "duration": 41,
        "start_time": "2021-12-13T17:57:06.533Z"
      },
      {
        "duration": 60,
        "start_time": "2021-12-13T17:57:06.576Z"
      },
      {
        "duration": 3486,
        "start_time": "2021-12-13T17:57:06.638Z"
      },
      {
        "duration": 35,
        "start_time": "2021-12-13T17:57:10.126Z"
      },
      {
        "duration": 14,
        "start_time": "2021-12-13T17:57:10.163Z"
      },
      {
        "duration": 15,
        "start_time": "2021-12-13T17:57:10.179Z"
      },
      {
        "duration": 29,
        "start_time": "2021-12-13T17:57:10.196Z"
      },
      {
        "duration": 38,
        "start_time": "2021-12-13T17:57:10.227Z"
      },
      {
        "duration": 19,
        "start_time": "2021-12-13T17:57:10.266Z"
      },
      {
        "duration": 21,
        "start_time": "2021-12-13T19:04:39.721Z"
      },
      {
        "duration": 30,
        "start_time": "2021-12-13T19:04:47.900Z"
      },
      {
        "duration": 20,
        "start_time": "2021-12-13T19:05:21.717Z"
      },
      {
        "duration": 286,
        "start_time": "2021-12-13T19:08:52.448Z"
      },
      {
        "duration": 284,
        "start_time": "2021-12-13T19:09:36.524Z"
      },
      {
        "duration": 4,
        "start_time": "2021-12-13T19:09:43.928Z"
      },
      {
        "duration": 374,
        "start_time": "2021-12-13T19:10:08.000Z"
      },
      {
        "duration": 4,
        "start_time": "2021-12-13T19:12:57.623Z"
      },
      {
        "duration": 101,
        "start_time": "2021-12-13T19:13:01.861Z"
      },
      {
        "duration": 18,
        "start_time": "2021-12-13T19:13:01.965Z"
      },
      {
        "duration": 28,
        "start_time": "2021-12-13T19:13:01.986Z"
      },
      {
        "duration": 46,
        "start_time": "2021-12-13T19:13:02.016Z"
      },
      {
        "duration": 36,
        "start_time": "2021-12-13T19:13:02.064Z"
      },
      {
        "duration": 51,
        "start_time": "2021-12-13T19:13:02.102Z"
      },
      {
        "duration": 38,
        "start_time": "2021-12-13T19:13:02.155Z"
      },
      {
        "duration": 32,
        "start_time": "2021-12-13T19:13:02.196Z"
      },
      {
        "duration": 36,
        "start_time": "2021-12-13T19:13:02.230Z"
      },
      {
        "duration": 51,
        "start_time": "2021-12-13T19:13:02.267Z"
      },
      {
        "duration": 46,
        "start_time": "2021-12-13T19:13:02.320Z"
      },
      {
        "duration": 52,
        "start_time": "2021-12-13T19:13:02.368Z"
      },
      {
        "duration": 4271,
        "start_time": "2021-12-13T19:13:02.422Z"
      },
      {
        "duration": 27,
        "start_time": "2021-12-13T19:13:06.695Z"
      },
      {
        "duration": 38,
        "start_time": "2021-12-13T19:13:06.724Z"
      },
      {
        "duration": 16,
        "start_time": "2021-12-13T19:13:06.765Z"
      },
      {
        "duration": 45,
        "start_time": "2021-12-13T19:13:06.783Z"
      },
      {
        "duration": 55,
        "start_time": "2021-12-13T19:13:06.829Z"
      },
      {
        "duration": 14,
        "start_time": "2021-12-13T19:13:06.886Z"
      },
      {
        "duration": 57,
        "start_time": "2021-12-13T19:13:06.902Z"
      },
      {
        "duration": 11,
        "start_time": "2021-12-13T19:13:06.961Z"
      },
      {
        "duration": 16,
        "start_time": "2021-12-13T19:13:21.124Z"
      },
      {
        "duration": 28,
        "start_time": "2021-12-13T19:13:26.861Z"
      },
      {
        "duration": 97,
        "start_time": "2021-12-13T19:14:10.215Z"
      },
      {
        "duration": 282,
        "start_time": "2021-12-13T19:14:19.064Z"
      },
      {
        "duration": 482,
        "start_time": "2021-12-13T19:16:22.727Z"
      },
      {
        "duration": 993,
        "start_time": "2021-12-13T19:17:54.515Z"
      },
      {
        "duration": 276,
        "start_time": "2021-12-13T19:18:05.779Z"
      },
      {
        "duration": 277,
        "start_time": "2021-12-13T19:18:26.539Z"
      },
      {
        "duration": 90,
        "start_time": "2021-12-13T19:18:33.319Z"
      },
      {
        "duration": 33,
        "start_time": "2021-12-13T19:18:39.939Z"
      },
      {
        "duration": 22,
        "start_time": "2021-12-13T19:18:42.519Z"
      },
      {
        "duration": 46,
        "start_time": "2021-12-13T19:18:54.079Z"
      },
      {
        "duration": 21,
        "start_time": "2021-12-13T19:23:10.570Z"
      },
      {
        "duration": 23,
        "start_time": "2021-12-13T19:23:41.670Z"
      },
      {
        "duration": 18,
        "start_time": "2021-12-13T19:24:10.567Z"
      },
      {
        "duration": 23,
        "start_time": "2021-12-13T19:26:17.141Z"
      },
      {
        "duration": 8,
        "start_time": "2021-12-13T19:26:45.786Z"
      },
      {
        "duration": 9,
        "start_time": "2021-12-13T19:27:23.386Z"
      },
      {
        "duration": 10,
        "start_time": "2021-12-13T19:28:02.290Z"
      },
      {
        "duration": 275,
        "start_time": "2021-12-13T19:28:45.006Z"
      },
      {
        "duration": 8,
        "start_time": "2021-12-13T19:28:52.821Z"
      },
      {
        "duration": 8,
        "start_time": "2021-12-13T19:29:19.570Z"
      },
      {
        "duration": 10,
        "start_time": "2021-12-13T19:29:33.951Z"
      },
      {
        "duration": 9,
        "start_time": "2021-12-13T19:34:01.382Z"
      },
      {
        "duration": 30,
        "start_time": "2021-12-13T19:34:15.046Z"
      },
      {
        "duration": 9,
        "start_time": "2021-12-13T19:34:25.433Z"
      },
      {
        "duration": 24,
        "start_time": "2021-12-13T19:34:38.562Z"
      },
      {
        "duration": 10,
        "start_time": "2021-12-13T19:34:44.805Z"
      },
      {
        "duration": 9,
        "start_time": "2021-12-13T19:35:25.125Z"
      },
      {
        "duration": 20,
        "start_time": "2021-12-13T19:35:59.085Z"
      },
      {
        "duration": 8,
        "start_time": "2021-12-13T19:36:07.878Z"
      },
      {
        "duration": 276,
        "start_time": "2021-12-13T19:38:17.409Z"
      },
      {
        "duration": 23,
        "start_time": "2021-12-13T19:38:34.421Z"
      },
      {
        "duration": 34,
        "start_time": "2021-12-13T19:38:42.528Z"
      },
      {
        "duration": 358,
        "start_time": "2021-12-13T19:39:02.301Z"
      },
      {
        "duration": 267,
        "start_time": "2021-12-13T19:39:25.713Z"
      },
      {
        "duration": 323,
        "start_time": "2021-12-13T19:39:30.451Z"
      },
      {
        "duration": 264,
        "start_time": "2021-12-13T19:39:44.773Z"
      },
      {
        "duration": 90,
        "start_time": "2021-12-13T19:39:49.688Z"
      },
      {
        "duration": 11,
        "start_time": "2021-12-13T19:39:49.781Z"
      },
      {
        "duration": 4,
        "start_time": "2021-12-13T19:39:49.795Z"
      },
      {
        "duration": 8,
        "start_time": "2021-12-13T19:39:49.801Z"
      },
      {
        "duration": 38,
        "start_time": "2021-12-13T19:39:49.811Z"
      },
      {
        "duration": 14,
        "start_time": "2021-12-13T19:39:49.852Z"
      },
      {
        "duration": 12,
        "start_time": "2021-12-13T19:39:49.868Z"
      },
      {
        "duration": 14,
        "start_time": "2021-12-13T19:39:49.883Z"
      },
      {
        "duration": 6,
        "start_time": "2021-12-13T19:39:49.900Z"
      },
      {
        "duration": 24,
        "start_time": "2021-12-13T19:39:49.945Z"
      },
      {
        "duration": 10,
        "start_time": "2021-12-13T19:39:49.971Z"
      },
      {
        "duration": 83,
        "start_time": "2021-12-13T19:39:49.983Z"
      },
      {
        "duration": 3857,
        "start_time": "2021-12-13T19:39:50.068Z"
      },
      {
        "duration": 43,
        "start_time": "2021-12-13T19:39:53.928Z"
      },
      {
        "duration": 13,
        "start_time": "2021-12-13T19:39:53.973Z"
      },
      {
        "duration": 15,
        "start_time": "2021-12-13T19:39:53.988Z"
      },
      {
        "duration": 49,
        "start_time": "2021-12-13T19:39:54.005Z"
      },
      {
        "duration": 26,
        "start_time": "2021-12-13T19:39:54.059Z"
      },
      {
        "duration": 6,
        "start_time": "2021-12-13T19:39:54.087Z"
      },
      {
        "duration": 21,
        "start_time": "2021-12-13T19:39:54.094Z"
      },
      {
        "duration": 40,
        "start_time": "2021-12-13T19:39:54.117Z"
      },
      {
        "duration": 1755,
        "start_time": "2021-12-13T19:39:52.727Z"
      },
      {
        "duration": 299,
        "start_time": "2021-12-13T19:39:56.504Z"
      },
      {
        "duration": 18,
        "start_time": "2021-12-13T19:40:11.621Z"
      },
      {
        "duration": 18,
        "start_time": "2021-12-13T19:40:50.217Z"
      },
      {
        "duration": 18,
        "start_time": "2021-12-13T19:41:15.716Z"
      },
      {
        "duration": 265,
        "start_time": "2021-12-13T19:41:57.512Z"
      },
      {
        "duration": 21,
        "start_time": "2021-12-13T19:42:12.052Z"
      },
      {
        "duration": 278,
        "start_time": "2021-12-13T19:43:29.236Z"
      },
      {
        "duration": 358,
        "start_time": "2021-12-13T19:43:35.949Z"
      },
      {
        "duration": 87,
        "start_time": "2021-12-13T19:43:52.600Z"
      },
      {
        "duration": 16,
        "start_time": "2021-12-13T19:44:33.112Z"
      },
      {
        "duration": 16,
        "start_time": "2021-12-13T19:44:58.823Z"
      },
      {
        "duration": 279,
        "start_time": "2021-12-13T19:45:18.492Z"
      },
      {
        "duration": 273,
        "start_time": "2021-12-13T19:45:38.252Z"
      },
      {
        "duration": 16,
        "start_time": "2021-12-13T19:45:44.712Z"
      },
      {
        "duration": 321,
        "start_time": "2021-12-13T19:46:41.239Z"
      },
      {
        "duration": 15,
        "start_time": "2021-12-13T19:46:45.780Z"
      },
      {
        "duration": 8251,
        "start_time": "2021-12-13T19:49:27.523Z"
      },
      {
        "duration": 7,
        "start_time": "2021-12-13T19:49:40.503Z"
      },
      {
        "duration": 3545,
        "start_time": "2021-12-13T19:49:49.723Z"
      },
      {
        "duration": 8585,
        "start_time": "2021-12-13T19:50:28.683Z"
      },
      {
        "duration": 9,
        "start_time": "2021-12-13T19:50:41.419Z"
      },
      {
        "duration": 12,
        "start_time": "2021-12-13T19:50:51.439Z"
      },
      {
        "duration": 16,
        "start_time": "2021-12-13T19:52:19.679Z"
      },
      {
        "duration": 15,
        "start_time": "2021-12-13T19:52:32.490Z"
      },
      {
        "duration": 93,
        "start_time": "2021-12-13T19:52:37.931Z"
      },
      {
        "duration": 12,
        "start_time": "2021-12-13T19:52:38.027Z"
      },
      {
        "duration": 28,
        "start_time": "2021-12-13T19:52:38.041Z"
      },
      {
        "duration": 29,
        "start_time": "2021-12-13T19:52:38.071Z"
      },
      {
        "duration": 14,
        "start_time": "2021-12-13T19:52:38.104Z"
      },
      {
        "duration": 11,
        "start_time": "2021-12-13T19:52:38.119Z"
      },
      {
        "duration": 10,
        "start_time": "2021-12-13T19:52:38.133Z"
      },
      {
        "duration": 20,
        "start_time": "2021-12-13T19:52:38.162Z"
      },
      {
        "duration": 8,
        "start_time": "2021-12-13T19:52:38.185Z"
      },
      {
        "duration": 45,
        "start_time": "2021-12-13T19:52:38.195Z"
      },
      {
        "duration": 21,
        "start_time": "2021-12-13T19:52:38.242Z"
      },
      {
        "duration": 65,
        "start_time": "2021-12-13T19:52:38.265Z"
      },
      {
        "duration": 4171,
        "start_time": "2021-12-13T19:52:38.332Z"
      },
      {
        "duration": 23,
        "start_time": "2021-12-13T19:52:42.505Z"
      },
      {
        "duration": 34,
        "start_time": "2021-12-13T19:52:42.530Z"
      },
      {
        "duration": 22,
        "start_time": "2021-12-13T19:52:42.566Z"
      },
      {
        "duration": 43,
        "start_time": "2021-12-13T19:52:42.590Z"
      },
      {
        "duration": 37,
        "start_time": "2021-12-13T19:52:42.636Z"
      },
      {
        "duration": 9,
        "start_time": "2021-12-13T19:52:42.675Z"
      },
      {
        "duration": 41,
        "start_time": "2021-12-13T19:52:42.685Z"
      },
      {
        "duration": 36,
        "start_time": "2021-12-13T19:52:42.728Z"
      },
      {
        "duration": 16,
        "start_time": "2021-12-13T19:52:42.767Z"
      },
      {
        "duration": 15,
        "start_time": "2021-12-13T19:53:26.831Z"
      },
      {
        "duration": 14,
        "start_time": "2021-12-13T19:53:39.783Z"
      },
      {
        "duration": 15,
        "start_time": "2021-12-13T19:54:49.162Z"
      },
      {
        "duration": 16,
        "start_time": "2021-12-13T19:55:00.455Z"
      },
      {
        "duration": 270,
        "start_time": "2021-12-13T19:56:35.590Z"
      },
      {
        "duration": 8,
        "start_time": "2021-12-13T19:57:15.382Z"
      },
      {
        "duration": 7,
        "start_time": "2021-12-13T19:57:35.862Z"
      },
      {
        "duration": 16,
        "start_time": "2021-12-13T20:01:52.110Z"
      },
      {
        "duration": 15,
        "start_time": "2021-12-13T20:05:34.561Z"
      },
      {
        "duration": 16,
        "start_time": "2021-12-13T20:07:02.333Z"
      },
      {
        "duration": 122,
        "start_time": "2021-12-13T20:14:52.224Z"
      },
      {
        "duration": 14,
        "start_time": "2021-12-13T20:15:06.476Z"
      },
      {
        "duration": 19,
        "start_time": "2021-12-13T20:15:50.996Z"
      },
      {
        "duration": 16,
        "start_time": "2021-12-13T20:15:57.292Z"
      },
      {
        "duration": 287,
        "start_time": "2021-12-14T09:29:03.018Z"
      },
      {
        "duration": 607,
        "start_time": "2021-12-14T09:29:07.594Z"
      },
      {
        "duration": 17,
        "start_time": "2021-12-14T09:29:08.203Z"
      },
      {
        "duration": 4,
        "start_time": "2021-12-14T09:29:08.222Z"
      },
      {
        "duration": 9,
        "start_time": "2021-12-14T09:29:08.227Z"
      },
      {
        "duration": 12,
        "start_time": "2021-12-14T09:29:08.237Z"
      },
      {
        "duration": 9,
        "start_time": "2021-12-14T09:29:08.250Z"
      },
      {
        "duration": 33,
        "start_time": "2021-12-14T09:29:08.261Z"
      },
      {
        "duration": 12,
        "start_time": "2021-12-14T09:29:08.296Z"
      },
      {
        "duration": 5,
        "start_time": "2021-12-14T09:29:08.310Z"
      },
      {
        "duration": 15,
        "start_time": "2021-12-14T09:29:08.316Z"
      },
      {
        "duration": 9,
        "start_time": "2021-12-14T09:29:08.332Z"
      },
      {
        "duration": 67,
        "start_time": "2021-12-14T09:29:08.343Z"
      },
      {
        "duration": 3283,
        "start_time": "2021-12-14T09:29:08.412Z"
      },
      {
        "duration": 37,
        "start_time": "2021-12-14T09:29:11.698Z"
      },
      {
        "duration": 14,
        "start_time": "2021-12-14T09:29:11.737Z"
      },
      {
        "duration": 23,
        "start_time": "2021-12-14T09:29:11.752Z"
      },
      {
        "duration": 21,
        "start_time": "2021-12-14T09:29:11.788Z"
      },
      {
        "duration": 6,
        "start_time": "2021-12-14T09:29:11.810Z"
      },
      {
        "duration": 23,
        "start_time": "2021-12-14T09:29:11.817Z"
      },
      {
        "duration": 14,
        "start_time": "2021-12-14T09:29:11.841Z"
      },
      {
        "duration": 39,
        "start_time": "2021-12-14T09:29:11.857Z"
      },
      {
        "duration": 7,
        "start_time": "2021-12-14T09:29:11.897Z"
      },
      {
        "duration": 13,
        "start_time": "2021-12-14T09:29:11.907Z"
      },
      {
        "duration": 11,
        "start_time": "2021-12-14T09:29:11.921Z"
      },
      {
        "duration": 23,
        "start_time": "2021-12-14T09:29:11.933Z"
      },
      {
        "duration": 15,
        "start_time": "2021-12-14T10:08:24.876Z"
      },
      {
        "duration": 10,
        "start_time": "2021-12-14T12:41:17.829Z"
      },
      {
        "duration": 8,
        "start_time": "2021-12-14T12:41:18.805Z"
      },
      {
        "duration": 22,
        "start_time": "2021-12-14T12:44:27.577Z"
      },
      {
        "duration": 19,
        "start_time": "2021-12-14T12:45:42.461Z"
      },
      {
        "duration": 5989,
        "start_time": "2021-12-14T12:47:33.424Z"
      },
      {
        "duration": 215,
        "start_time": "2021-12-14T12:47:53.584Z"
      },
      {
        "duration": 21,
        "start_time": "2021-12-14T12:52:16.804Z"
      },
      {
        "duration": 15,
        "start_time": "2021-12-14T12:52:32.515Z"
      },
      {
        "duration": 18,
        "start_time": "2021-12-14T12:52:36.108Z"
      },
      {
        "duration": 18,
        "start_time": "2021-12-14T12:52:40.786Z"
      },
      {
        "duration": 5944,
        "start_time": "2021-12-14T12:55:51.567Z"
      },
      {
        "duration": 80,
        "start_time": "2021-12-14T12:56:06.255Z"
      },
      {
        "duration": 12,
        "start_time": "2021-12-14T12:56:06.337Z"
      },
      {
        "duration": 19,
        "start_time": "2021-12-14T12:56:06.351Z"
      },
      {
        "duration": 5725,
        "start_time": "2021-12-14T12:56:06.371Z"
      },
      {
        "duration": 526,
        "start_time": "2021-12-14T12:56:11.575Z"
      },
      {
        "duration": 527,
        "start_time": "2021-12-14T12:56:11.576Z"
      },
      {
        "duration": 527,
        "start_time": "2021-12-14T12:56:11.577Z"
      },
      {
        "duration": 526,
        "start_time": "2021-12-14T12:56:11.579Z"
      },
      {
        "duration": 525,
        "start_time": "2021-12-14T12:56:11.580Z"
      },
      {
        "duration": 524,
        "start_time": "2021-12-14T12:56:11.582Z"
      },
      {
        "duration": 524,
        "start_time": "2021-12-14T12:56:11.583Z"
      },
      {
        "duration": 519,
        "start_time": "2021-12-14T12:56:11.588Z"
      },
      {
        "duration": 518,
        "start_time": "2021-12-14T12:56:11.590Z"
      },
      {
        "duration": 518,
        "start_time": "2021-12-14T12:56:11.591Z"
      },
      {
        "duration": 516,
        "start_time": "2021-12-14T12:56:11.593Z"
      },
      {
        "duration": 516,
        "start_time": "2021-12-14T12:56:11.594Z"
      },
      {
        "duration": 515,
        "start_time": "2021-12-14T12:56:11.596Z"
      },
      {
        "duration": 514,
        "start_time": "2021-12-14T12:56:11.597Z"
      },
      {
        "duration": 513,
        "start_time": "2021-12-14T12:56:11.599Z"
      },
      {
        "duration": 513,
        "start_time": "2021-12-14T12:56:11.600Z"
      },
      {
        "duration": 512,
        "start_time": "2021-12-14T12:56:11.601Z"
      },
      {
        "duration": 511,
        "start_time": "2021-12-14T12:56:11.603Z"
      },
      {
        "duration": 511,
        "start_time": "2021-12-14T12:56:11.604Z"
      },
      {
        "duration": 9,
        "start_time": "2021-12-14T12:56:20.323Z"
      },
      {
        "duration": 25,
        "start_time": "2021-12-14T12:58:13.759Z"
      },
      {
        "duration": 27,
        "start_time": "2021-12-14T12:58:14.967Z"
      },
      {
        "duration": 66,
        "start_time": "2021-12-14T12:58:18.703Z"
      },
      {
        "duration": 11,
        "start_time": "2021-12-14T12:58:18.771Z"
      },
      {
        "duration": 5,
        "start_time": "2021-12-14T12:58:18.784Z"
      },
      {
        "duration": 36,
        "start_time": "2021-12-14T12:58:18.791Z"
      },
      {
        "duration": 7,
        "start_time": "2021-12-14T12:58:18.829Z"
      },
      {
        "duration": 13,
        "start_time": "2021-12-14T12:58:18.838Z"
      },
      {
        "duration": 9,
        "start_time": "2021-12-14T12:58:18.852Z"
      },
      {
        "duration": 8,
        "start_time": "2021-12-14T12:58:18.863Z"
      },
      {
        "duration": 29,
        "start_time": "2021-12-14T12:58:18.873Z"
      },
      {
        "duration": 6,
        "start_time": "2021-12-14T12:58:18.904Z"
      },
      {
        "duration": 16,
        "start_time": "2021-12-14T12:58:18.911Z"
      },
      {
        "duration": 9,
        "start_time": "2021-12-14T12:58:18.928Z"
      },
      {
        "duration": 65,
        "start_time": "2021-12-14T12:58:18.938Z"
      },
      {
        "duration": 3519,
        "start_time": "2021-12-14T12:58:19.005Z"
      },
      {
        "duration": 11,
        "start_time": "2021-12-14T12:58:22.526Z"
      },
      {
        "duration": 18,
        "start_time": "2021-12-14T12:58:22.538Z"
      },
      {
        "duration": 36,
        "start_time": "2021-12-14T12:58:22.558Z"
      },
      {
        "duration": 28,
        "start_time": "2021-12-14T12:58:22.598Z"
      },
      {
        "duration": 13,
        "start_time": "2021-12-14T12:58:22.627Z"
      },
      {
        "duration": 19,
        "start_time": "2021-12-14T12:58:22.642Z"
      },
      {
        "duration": 15,
        "start_time": "2021-12-14T12:58:22.663Z"
      },
      {
        "duration": 30,
        "start_time": "2021-12-14T12:58:22.679Z"
      },
      {
        "duration": 47,
        "start_time": "2021-12-14T12:58:22.711Z"
      },
      {
        "duration": 248,
        "start_time": "2021-12-14T12:58:39.828Z"
      },
      {
        "duration": 225,
        "start_time": "2021-12-14T12:59:00.675Z"
      },
      {
        "duration": 236,
        "start_time": "2021-12-14T12:59:13.259Z"
      },
      {
        "duration": 7,
        "start_time": "2021-12-14T13:00:20.451Z"
      },
      {
        "duration": 10,
        "start_time": "2021-12-14T13:00:38.567Z"
      },
      {
        "duration": 10,
        "start_time": "2021-12-14T13:00:42.239Z"
      },
      {
        "duration": 11,
        "start_time": "2021-12-14T13:00:43.799Z"
      },
      {
        "duration": 78,
        "start_time": "2021-12-14T13:00:46.203Z"
      },
      {
        "duration": 12,
        "start_time": "2021-12-14T13:00:46.283Z"
      },
      {
        "duration": 5,
        "start_time": "2021-12-14T13:00:46.298Z"
      },
      {
        "duration": 10,
        "start_time": "2021-12-14T13:00:46.305Z"
      },
      {
        "duration": 8,
        "start_time": "2021-12-14T13:00:46.317Z"
      },
      {
        "duration": 13,
        "start_time": "2021-12-14T13:00:46.326Z"
      },
      {
        "duration": 9,
        "start_time": "2021-12-14T13:00:46.341Z"
      },
      {
        "duration": 46,
        "start_time": "2021-12-14T13:00:46.352Z"
      },
      {
        "duration": 13,
        "start_time": "2021-12-14T13:00:46.400Z"
      },
      {
        "duration": 5,
        "start_time": "2021-12-14T13:00:46.415Z"
      },
      {
        "duration": 19,
        "start_time": "2021-12-14T13:00:46.422Z"
      },
      {
        "duration": 14,
        "start_time": "2021-12-14T13:00:46.443Z"
      },
      {
        "duration": 80,
        "start_time": "2021-12-14T13:00:46.459Z"
      },
      {
        "duration": 3491,
        "start_time": "2021-12-14T13:00:46.541Z"
      },
      {
        "duration": 13,
        "start_time": "2021-12-14T13:00:50.034Z"
      },
      {
        "duration": 28,
        "start_time": "2021-12-14T13:00:50.049Z"
      },
      {
        "duration": 48,
        "start_time": "2021-12-14T13:00:50.078Z"
      },
      {
        "duration": 19,
        "start_time": "2021-12-14T13:00:50.127Z"
      },
      {
        "duration": 16,
        "start_time": "2021-12-14T13:00:50.147Z"
      },
      {
        "duration": 15,
        "start_time": "2021-12-14T13:00:50.164Z"
      },
      {
        "duration": 20,
        "start_time": "2021-12-14T13:00:50.180Z"
      },
      {
        "duration": 9,
        "start_time": "2021-12-14T13:00:50.202Z"
      },
      {
        "duration": 19,
        "start_time": "2021-12-14T13:00:50.214Z"
      },
      {
        "duration": 8,
        "start_time": "2021-12-14T13:01:44.484Z"
      },
      {
        "duration": 7,
        "start_time": "2021-12-14T13:01:45.562Z"
      },
      {
        "duration": 7,
        "start_time": "2021-12-14T13:01:46.499Z"
      },
      {
        "duration": 6,
        "start_time": "2021-12-14T13:01:47.143Z"
      },
      {
        "duration": 80,
        "start_time": "2021-12-14T13:01:53.371Z"
      },
      {
        "duration": 11,
        "start_time": "2021-12-14T13:01:53.453Z"
      },
      {
        "duration": 5,
        "start_time": "2021-12-14T13:01:53.465Z"
      },
      {
        "duration": 29,
        "start_time": "2021-12-14T13:01:53.472Z"
      },
      {
        "duration": 10,
        "start_time": "2021-12-14T13:01:53.503Z"
      },
      {
        "duration": 14,
        "start_time": "2021-12-14T13:01:53.515Z"
      },
      {
        "duration": 9,
        "start_time": "2021-12-14T13:01:53.530Z"
      },
      {
        "duration": 9,
        "start_time": "2021-12-14T13:01:53.541Z"
      },
      {
        "duration": 11,
        "start_time": "2021-12-14T13:01:53.552Z"
      },
      {
        "duration": 23,
        "start_time": "2021-12-14T13:01:53.565Z"
      },
      {
        "duration": 24,
        "start_time": "2021-12-14T13:01:53.591Z"
      },
      {
        "duration": 11,
        "start_time": "2021-12-14T13:01:53.617Z"
      },
      {
        "duration": 40,
        "start_time": "2021-12-14T13:01:53.630Z"
      },
      {
        "duration": 3367,
        "start_time": "2021-12-14T13:01:53.687Z"
      },
      {
        "duration": 13,
        "start_time": "2021-12-14T13:01:57.055Z"
      },
      {
        "duration": 26,
        "start_time": "2021-12-14T13:01:57.069Z"
      },
      {
        "duration": 23,
        "start_time": "2021-12-14T13:01:57.097Z"
      },
      {
        "duration": 21,
        "start_time": "2021-12-14T13:01:57.121Z"
      },
      {
        "duration": 15,
        "start_time": "2021-12-14T13:01:57.143Z"
      },
      {
        "duration": 44,
        "start_time": "2021-12-14T13:01:57.159Z"
      },
      {
        "duration": 13,
        "start_time": "2021-12-14T13:01:57.205Z"
      },
      {
        "duration": 9,
        "start_time": "2021-12-14T13:01:57.219Z"
      },
      {
        "duration": 18,
        "start_time": "2021-12-14T13:01:57.231Z"
      },
      {
        "duration": 6,
        "start_time": "2021-12-14T13:03:19.559Z"
      },
      {
        "duration": 16,
        "start_time": "2021-12-14T13:06:22.246Z"
      },
      {
        "duration": 21,
        "start_time": "2021-12-14T13:09:16.022Z"
      },
      {
        "duration": 17,
        "start_time": "2021-12-14T13:09:21.702Z"
      },
      {
        "duration": 23,
        "start_time": "2021-12-14T13:09:37.602Z"
      },
      {
        "duration": 108,
        "start_time": "2021-12-14T13:10:14.322Z"
      },
      {
        "duration": 740,
        "start_time": "2021-12-14T13:10:25.098Z"
      },
      {
        "duration": 23,
        "start_time": "2021-12-14T13:10:46.747Z"
      },
      {
        "duration": 19,
        "start_time": "2021-12-14T13:11:19.266Z"
      },
      {
        "duration": 698,
        "start_time": "2021-12-14T13:11:57.198Z"
      },
      {
        "duration": 19,
        "start_time": "2021-12-14T13:12:06.189Z"
      },
      {
        "duration": 22,
        "start_time": "2021-12-14T13:12:22.766Z"
      },
      {
        "duration": 20,
        "start_time": "2021-12-14T13:13:18.089Z"
      },
      {
        "duration": 20,
        "start_time": "2021-12-14T13:15:27.282Z"
      },
      {
        "duration": 26,
        "start_time": "2021-12-14T13:15:39.997Z"
      },
      {
        "duration": 26,
        "start_time": "2021-12-14T13:16:07.593Z"
      },
      {
        "duration": 82,
        "start_time": "2021-12-14T13:16:24.701Z"
      },
      {
        "duration": 23,
        "start_time": "2021-12-14T13:16:29.233Z"
      },
      {
        "duration": 21,
        "start_time": "2021-12-14T13:16:48.305Z"
      },
      {
        "duration": 8,
        "start_time": "2021-12-14T13:17:53.229Z"
      },
      {
        "duration": 230,
        "start_time": "2021-12-14T13:18:18.357Z"
      },
      {
        "duration": 9,
        "start_time": "2021-12-14T13:18:23.637Z"
      },
      {
        "duration": 8,
        "start_time": "2021-12-14T13:26:19.136Z"
      },
      {
        "duration": 11,
        "start_time": "2021-12-14T13:26:20.088Z"
      },
      {
        "duration": 8,
        "start_time": "2021-12-14T13:26:35.272Z"
      },
      {
        "duration": 241,
        "start_time": "2021-12-14T13:28:06.588Z"
      },
      {
        "duration": 950,
        "start_time": "2021-12-14T13:29:59.271Z"
      },
      {
        "duration": 244,
        "start_time": "2021-12-14T13:30:46.308Z"
      },
      {
        "duration": 576,
        "start_time": "2021-12-14T13:30:56.519Z"
      },
      {
        "duration": 4306,
        "start_time": "2021-12-14T13:31:05.019Z"
      },
      {
        "duration": 5183,
        "start_time": "2021-12-14T13:31:21.539Z"
      },
      {
        "duration": 15,
        "start_time": "2021-12-14T13:32:32.815Z"
      },
      {
        "duration": 15,
        "start_time": "2021-12-14T13:32:43.122Z"
      },
      {
        "duration": 16,
        "start_time": "2021-12-14T13:32:51.371Z"
      },
      {
        "duration": 237,
        "start_time": "2021-12-14T13:34:20.135Z"
      },
      {
        "duration": 999,
        "start_time": "2021-12-14T13:34:28.015Z"
      },
      {
        "duration": 22,
        "start_time": "2021-12-14T13:34:39.992Z"
      },
      {
        "duration": 16,
        "start_time": "2021-12-14T13:35:00.843Z"
      },
      {
        "duration": 76,
        "start_time": "2021-12-14T13:36:42.179Z"
      },
      {
        "duration": 955,
        "start_time": "2021-12-14T13:36:53.839Z"
      },
      {
        "duration": 39,
        "start_time": "2021-12-14T13:37:05.902Z"
      },
      {
        "duration": 32,
        "start_time": "2021-12-14T13:37:15.855Z"
      },
      {
        "duration": 17,
        "start_time": "2021-12-14T13:37:52.406Z"
      },
      {
        "duration": 81,
        "start_time": "2021-12-14T13:38:12.527Z"
      },
      {
        "duration": 26,
        "start_time": "2021-12-14T13:38:22.619Z"
      },
      {
        "duration": 74,
        "start_time": "2021-12-14T13:39:22.211Z"
      },
      {
        "duration": 20,
        "start_time": "2021-12-14T13:39:26.051Z"
      },
      {
        "duration": 579,
        "start_time": "2021-12-14T13:39:56.706Z"
      },
      {
        "duration": 28,
        "start_time": "2021-12-14T13:40:06.914Z"
      },
      {
        "duration": 28,
        "start_time": "2021-12-14T13:40:21.091Z"
      },
      {
        "duration": 79,
        "start_time": "2021-12-14T13:40:36.619Z"
      },
      {
        "duration": 30,
        "start_time": "2021-12-14T13:40:45.978Z"
      },
      {
        "duration": 37,
        "start_time": "2021-12-14T13:42:17.994Z"
      },
      {
        "duration": 24,
        "start_time": "2021-12-14T13:42:40.422Z"
      },
      {
        "duration": 22,
        "start_time": "2021-12-14T13:42:56.698Z"
      },
      {
        "duration": 21,
        "start_time": "2021-12-14T13:43:01.258Z"
      },
      {
        "duration": 73,
        "start_time": "2021-12-14T13:43:49.838Z"
      },
      {
        "duration": 18,
        "start_time": "2021-12-14T13:43:54.014Z"
      },
      {
        "duration": 18,
        "start_time": "2021-12-14T13:44:06.998Z"
      },
      {
        "duration": 916,
        "start_time": "2021-12-14T13:49:32.681Z"
      },
      {
        "duration": 20,
        "start_time": "2021-12-14T13:50:07.824Z"
      },
      {
        "duration": 19,
        "start_time": "2021-12-14T13:50:25.393Z"
      },
      {
        "duration": 18,
        "start_time": "2021-12-14T13:50:43.489Z"
      },
      {
        "duration": 19,
        "start_time": "2021-12-14T13:51:42.412Z"
      },
      {
        "duration": 18,
        "start_time": "2021-12-14T13:52:33.936Z"
      },
      {
        "duration": 679,
        "start_time": "2021-12-14T13:53:11.048Z"
      },
      {
        "duration": 17,
        "start_time": "2021-12-14T13:53:25.968Z"
      },
      {
        "duration": 255,
        "start_time": "2021-12-14T13:53:41.524Z"
      },
      {
        "duration": 243,
        "start_time": "2021-12-14T13:53:54.684Z"
      },
      {
        "duration": 19,
        "start_time": "2021-12-14T13:54:00.512Z"
      },
      {
        "duration": 11,
        "start_time": "2021-12-14T13:54:08.088Z"
      },
      {
        "duration": 18,
        "start_time": "2021-12-14T13:54:54.952Z"
      },
      {
        "duration": 20,
        "start_time": "2021-12-14T13:55:01.863Z"
      },
      {
        "duration": 17,
        "start_time": "2021-12-14T13:55:09.656Z"
      },
      {
        "duration": 18,
        "start_time": "2021-12-14T13:55:26.456Z"
      },
      {
        "duration": 96,
        "start_time": "2021-12-14T13:57:26.048Z"
      },
      {
        "duration": 10,
        "start_time": "2021-12-14T13:57:26.146Z"
      },
      {
        "duration": 4,
        "start_time": "2021-12-14T13:57:26.159Z"
      },
      {
        "duration": 7,
        "start_time": "2021-12-14T13:57:26.165Z"
      },
      {
        "duration": 21,
        "start_time": "2021-12-14T13:57:26.173Z"
      },
      {
        "duration": 14,
        "start_time": "2021-12-14T13:57:26.196Z"
      },
      {
        "duration": 10,
        "start_time": "2021-12-14T13:57:26.211Z"
      },
      {
        "duration": 10,
        "start_time": "2021-12-14T13:57:26.223Z"
      },
      {
        "duration": 13,
        "start_time": "2021-12-14T13:57:26.235Z"
      },
      {
        "duration": 40,
        "start_time": "2021-12-14T13:57:26.250Z"
      },
      {
        "duration": 29,
        "start_time": "2021-12-14T13:57:26.292Z"
      },
      {
        "duration": 18,
        "start_time": "2021-12-14T13:57:26.323Z"
      },
      {
        "duration": 55,
        "start_time": "2021-12-14T13:57:26.342Z"
      },
      {
        "duration": 3598,
        "start_time": "2021-12-14T13:57:26.399Z"
      },
      {
        "duration": 15,
        "start_time": "2021-12-14T13:57:29.999Z"
      },
      {
        "duration": 23,
        "start_time": "2021-12-14T13:57:30.016Z"
      },
      {
        "duration": 29,
        "start_time": "2021-12-14T13:57:30.041Z"
      },
      {
        "duration": 36,
        "start_time": "2021-12-14T13:57:30.072Z"
      },
      {
        "duration": 18,
        "start_time": "2021-12-14T13:57:30.110Z"
      },
      {
        "duration": 20,
        "start_time": "2021-12-14T13:57:30.130Z"
      },
      {
        "duration": 42,
        "start_time": "2021-12-14T13:57:30.152Z"
      },
      {
        "duration": 12,
        "start_time": "2021-12-14T13:57:30.196Z"
      },
      {
        "duration": 26,
        "start_time": "2021-12-14T13:57:30.211Z"
      },
      {
        "duration": 12,
        "start_time": "2021-12-14T13:58:22.999Z"
      },
      {
        "duration": 10,
        "start_time": "2021-12-14T13:59:26.047Z"
      },
      {
        "duration": 19,
        "start_time": "2021-12-14T16:33:13.427Z"
      },
      {
        "duration": 19,
        "start_time": "2021-12-14T16:33:43.719Z"
      },
      {
        "duration": 19,
        "start_time": "2021-12-14T16:33:46.067Z"
      },
      {
        "duration": 18,
        "start_time": "2021-12-14T16:36:54.715Z"
      },
      {
        "duration": 18,
        "start_time": "2021-12-14T17:27:31.989Z"
      },
      {
        "duration": 597,
        "start_time": "2021-12-15T06:21:37.499Z"
      },
      {
        "duration": 17,
        "start_time": "2021-12-15T06:21:38.098Z"
      },
      {
        "duration": 3,
        "start_time": "2021-12-15T06:21:38.117Z"
      },
      {
        "duration": 7,
        "start_time": "2021-12-15T06:21:38.122Z"
      },
      {
        "duration": 8,
        "start_time": "2021-12-15T06:21:38.131Z"
      },
      {
        "duration": 33,
        "start_time": "2021-12-15T06:21:38.140Z"
      },
      {
        "duration": 11,
        "start_time": "2021-12-15T06:21:38.174Z"
      },
      {
        "duration": 10,
        "start_time": "2021-12-15T06:21:38.188Z"
      },
      {
        "duration": 13,
        "start_time": "2021-12-15T06:21:38.200Z"
      },
      {
        "duration": 6,
        "start_time": "2021-12-15T06:21:38.214Z"
      },
      {
        "duration": 44,
        "start_time": "2021-12-15T06:21:38.221Z"
      },
      {
        "duration": 12,
        "start_time": "2021-12-15T06:21:38.266Z"
      },
      {
        "duration": 43,
        "start_time": "2021-12-15T06:21:38.279Z"
      },
      {
        "duration": 3273,
        "start_time": "2021-12-15T06:21:38.324Z"
      },
      {
        "duration": 7,
        "start_time": "2021-12-15T06:21:41.599Z"
      },
      {
        "duration": 16,
        "start_time": "2021-12-15T06:21:41.608Z"
      },
      {
        "duration": 37,
        "start_time": "2021-12-15T06:21:41.626Z"
      },
      {
        "duration": 20,
        "start_time": "2021-12-15T06:21:41.665Z"
      },
      {
        "duration": 12,
        "start_time": "2021-12-15T06:21:41.687Z"
      },
      {
        "duration": 978,
        "start_time": "2021-12-15T06:21:41.701Z"
      },
      {
        "duration": 22,
        "start_time": "2021-12-15T06:21:42.681Z"
      },
      {
        "duration": 20,
        "start_time": "2021-12-15T06:21:42.704Z"
      },
      {
        "duration": 40,
        "start_time": "2021-12-15T06:21:42.726Z"
      },
      {
        "duration": 312,
        "start_time": "2021-12-26T13:07:53.127Z"
      },
      {
        "duration": 276,
        "start_time": "2021-12-26T13:08:24.619Z"
      },
      {
        "duration": 279,
        "start_time": "2021-12-26T13:08:27.395Z"
      },
      {
        "duration": 649,
        "start_time": "2021-12-26T13:08:30.483Z"
      },
      {
        "duration": 17,
        "start_time": "2021-12-26T13:08:31.133Z"
      },
      {
        "duration": 3,
        "start_time": "2021-12-26T13:08:31.152Z"
      },
      {
        "duration": 10,
        "start_time": "2021-12-26T13:08:31.157Z"
      },
      {
        "duration": 17,
        "start_time": "2021-12-26T13:08:31.169Z"
      },
      {
        "duration": 13,
        "start_time": "2021-12-26T13:08:31.187Z"
      },
      {
        "duration": 25,
        "start_time": "2021-12-26T13:08:31.202Z"
      },
      {
        "duration": 9,
        "start_time": "2021-12-26T13:08:31.230Z"
      },
      {
        "duration": 9,
        "start_time": "2021-12-26T13:08:31.241Z"
      },
      {
        "duration": 12,
        "start_time": "2021-12-26T13:08:31.252Z"
      },
      {
        "duration": 6,
        "start_time": "2021-12-26T13:08:31.265Z"
      },
      {
        "duration": 19,
        "start_time": "2021-12-26T13:08:31.272Z"
      },
      {
        "duration": 41,
        "start_time": "2021-12-26T13:08:31.292Z"
      },
      {
        "duration": 39,
        "start_time": "2021-12-26T13:08:31.335Z"
      },
      {
        "duration": 3375,
        "start_time": "2021-12-26T13:08:31.376Z"
      },
      {
        "duration": 7,
        "start_time": "2021-12-26T13:08:34.753Z"
      },
      {
        "duration": 18,
        "start_time": "2021-12-26T13:08:34.762Z"
      },
      {
        "duration": 29,
        "start_time": "2021-12-26T13:08:34.782Z"
      },
      {
        "duration": 15,
        "start_time": "2021-12-26T13:08:34.827Z"
      },
      {
        "duration": 11,
        "start_time": "2021-12-26T13:08:34.843Z"
      },
      {
        "duration": 589,
        "start_time": "2021-12-26T13:08:34.855Z"
      },
      {
        "duration": 21,
        "start_time": "2021-12-26T13:08:35.446Z"
      },
      {
        "duration": 16,
        "start_time": "2021-12-26T13:08:35.470Z"
      },
      {
        "duration": 39,
        "start_time": "2021-12-26T13:08:35.488Z"
      },
      {
        "duration": 11,
        "start_time": "2021-12-26T13:09:34.731Z"
      },
      {
        "duration": 10,
        "start_time": "2021-12-26T13:09:36.547Z"
      },
      {
        "duration": 10,
        "start_time": "2021-12-26T13:09:51.546Z"
      },
      {
        "duration": 9,
        "start_time": "2021-12-26T13:09:57.487Z"
      },
      {
        "duration": 8,
        "start_time": "2021-12-26T13:10:08.551Z"
      },
      {
        "duration": 82,
        "start_time": "2021-12-26T13:19:07.825Z"
      },
      {
        "duration": 10,
        "start_time": "2021-12-26T13:19:07.909Z"
      },
      {
        "duration": 9,
        "start_time": "2021-12-26T13:19:07.921Z"
      },
      {
        "duration": 17,
        "start_time": "2021-12-26T13:19:07.933Z"
      },
      {
        "duration": 8,
        "start_time": "2021-12-26T13:19:07.951Z"
      },
      {
        "duration": 12,
        "start_time": "2021-12-26T13:19:07.961Z"
      },
      {
        "duration": 9,
        "start_time": "2021-12-26T13:19:07.974Z"
      },
      {
        "duration": 9,
        "start_time": "2021-12-26T13:19:07.986Z"
      },
      {
        "duration": 37,
        "start_time": "2021-12-26T13:19:07.998Z"
      },
      {
        "duration": 334,
        "start_time": "2021-12-26T13:19:08.037Z"
      },
      {
        "duration": 1207,
        "start_time": "2021-12-26T13:19:07.166Z"
      },
      {
        "duration": 1206,
        "start_time": "2021-12-26T13:19:07.168Z"
      },
      {
        "duration": 1205,
        "start_time": "2021-12-26T13:19:07.170Z"
      },
      {
        "duration": 1204,
        "start_time": "2021-12-26T13:19:07.171Z"
      },
      {
        "duration": 1203,
        "start_time": "2021-12-26T13:19:07.173Z"
      },
      {
        "duration": 1202,
        "start_time": "2021-12-26T13:19:07.175Z"
      },
      {
        "duration": 1200,
        "start_time": "2021-12-26T13:19:07.177Z"
      },
      {
        "duration": 1196,
        "start_time": "2021-12-26T13:19:07.182Z"
      },
      {
        "duration": 1195,
        "start_time": "2021-12-26T13:19:07.184Z"
      },
      {
        "duration": 1194,
        "start_time": "2021-12-26T13:19:07.186Z"
      },
      {
        "duration": 1193,
        "start_time": "2021-12-26T13:19:07.187Z"
      },
      {
        "duration": 1192,
        "start_time": "2021-12-26T13:19:07.189Z"
      },
      {
        "duration": 1191,
        "start_time": "2021-12-26T13:19:07.191Z"
      },
      {
        "duration": 1191,
        "start_time": "2021-12-26T13:19:07.192Z"
      },
      {
        "duration": 100,
        "start_time": "2021-12-26T13:19:24.201Z"
      },
      {
        "duration": 10,
        "start_time": "2021-12-26T13:19:30.086Z"
      },
      {
        "duration": 54,
        "start_time": "2021-12-26T13:19:51.913Z"
      },
      {
        "duration": 11,
        "start_time": "2021-12-26T13:19:51.969Z"
      },
      {
        "duration": 11,
        "start_time": "2021-12-26T13:19:51.982Z"
      },
      {
        "duration": 34,
        "start_time": "2021-12-26T13:19:51.995Z"
      },
      {
        "duration": 9,
        "start_time": "2021-12-26T13:19:52.030Z"
      },
      {
        "duration": 14,
        "start_time": "2021-12-26T13:19:52.040Z"
      },
      {
        "duration": 11,
        "start_time": "2021-12-26T13:19:52.055Z"
      },
      {
        "duration": 14,
        "start_time": "2021-12-26T13:19:52.069Z"
      },
      {
        "duration": 44,
        "start_time": "2021-12-26T13:19:52.085Z"
      },
      {
        "duration": 309,
        "start_time": "2021-12-26T13:19:52.131Z"
      },
      {
        "duration": 1217,
        "start_time": "2021-12-26T13:19:51.225Z"
      },
      {
        "duration": 1217,
        "start_time": "2021-12-26T13:19:51.227Z"
      },
      {
        "duration": 1216,
        "start_time": "2021-12-26T13:19:51.229Z"
      },
      {
        "duration": 1216,
        "start_time": "2021-12-26T13:19:51.230Z"
      },
      {
        "duration": 1216,
        "start_time": "2021-12-26T13:19:51.232Z"
      },
      {
        "duration": 1216,
        "start_time": "2021-12-26T13:19:51.233Z"
      },
      {
        "duration": 1216,
        "start_time": "2021-12-26T13:19:51.235Z"
      },
      {
        "duration": 1215,
        "start_time": "2021-12-26T13:19:51.237Z"
      },
      {
        "duration": 1215,
        "start_time": "2021-12-26T13:19:51.238Z"
      },
      {
        "duration": 1214,
        "start_time": "2021-12-26T13:19:51.240Z"
      },
      {
        "duration": 1215,
        "start_time": "2021-12-26T13:19:51.241Z"
      },
      {
        "duration": 1214,
        "start_time": "2021-12-26T13:19:51.243Z"
      },
      {
        "duration": 1215,
        "start_time": "2021-12-26T13:19:51.244Z"
      },
      {
        "duration": 1214,
        "start_time": "2021-12-26T13:19:51.246Z"
      },
      {
        "duration": 13,
        "start_time": "2021-12-26T13:20:26.685Z"
      },
      {
        "duration": 13,
        "start_time": "2021-12-26T13:21:26.549Z"
      },
      {
        "duration": 17,
        "start_time": "2021-12-26T13:21:31.457Z"
      },
      {
        "duration": 19,
        "start_time": "2021-12-26T13:23:25.754Z"
      },
      {
        "duration": 18,
        "start_time": "2021-12-26T13:23:27.997Z"
      },
      {
        "duration": 16,
        "start_time": "2021-12-26T13:23:42.425Z"
      },
      {
        "duration": 11,
        "start_time": "2021-12-26T13:23:51.020Z"
      },
      {
        "duration": 54,
        "start_time": "2021-12-26T13:25:41.460Z"
      },
      {
        "duration": 13,
        "start_time": "2021-12-26T13:25:41.516Z"
      },
      {
        "duration": 17,
        "start_time": "2021-12-26T13:25:41.531Z"
      },
      {
        "duration": 6,
        "start_time": "2021-12-26T13:25:41.550Z"
      },
      {
        "duration": 10,
        "start_time": "2021-12-26T13:25:41.558Z"
      },
      {
        "duration": 8,
        "start_time": "2021-12-26T13:25:41.569Z"
      },
      {
        "duration": 19,
        "start_time": "2021-12-26T13:25:41.578Z"
      },
      {
        "duration": 45,
        "start_time": "2021-12-26T13:25:41.599Z"
      },
      {
        "duration": 9,
        "start_time": "2021-12-26T13:25:41.646Z"
      },
      {
        "duration": 11,
        "start_time": "2021-12-26T13:25:41.657Z"
      },
      {
        "duration": 6,
        "start_time": "2021-12-26T13:25:41.670Z"
      },
      {
        "duration": 16,
        "start_time": "2021-12-26T13:25:41.677Z"
      },
      {
        "duration": 4,
        "start_time": "2021-12-26T13:25:41.694Z"
      },
      {
        "duration": 43,
        "start_time": "2021-12-26T13:25:41.731Z"
      },
      {
        "duration": 3734,
        "start_time": "2021-12-26T13:25:41.776Z"
      },
      {
        "duration": 20,
        "start_time": "2021-12-26T13:25:45.512Z"
      },
      {
        "duration": 11,
        "start_time": "2021-12-26T13:25:45.534Z"
      },
      {
        "duration": 24,
        "start_time": "2021-12-26T13:25:45.547Z"
      },
      {
        "duration": 13,
        "start_time": "2021-12-26T13:25:45.573Z"
      },
      {
        "duration": 41,
        "start_time": "2021-12-26T13:25:45.588Z"
      },
      {
        "duration": 25,
        "start_time": "2021-12-26T13:25:45.631Z"
      },
      {
        "duration": 18,
        "start_time": "2021-12-26T13:25:45.658Z"
      },
      {
        "duration": 17,
        "start_time": "2021-12-26T13:25:45.679Z"
      },
      {
        "duration": 45,
        "start_time": "2021-12-26T13:25:45.698Z"
      },
      {
        "duration": 13,
        "start_time": "2021-12-26T13:25:48.692Z"
      },
      {
        "duration": 12,
        "start_time": "2021-12-26T13:28:17.377Z"
      },
      {
        "duration": 11,
        "start_time": "2021-12-26T13:28:22.308Z"
      },
      {
        "duration": 73,
        "start_time": "2021-12-26T13:28:30.540Z"
      },
      {
        "duration": 10,
        "start_time": "2021-12-26T13:28:30.614Z"
      },
      {
        "duration": 8,
        "start_time": "2021-12-26T13:28:30.626Z"
      },
      {
        "duration": 9,
        "start_time": "2021-12-26T13:28:30.636Z"
      },
      {
        "duration": 12,
        "start_time": "2021-12-26T13:28:30.646Z"
      },
      {
        "duration": 8,
        "start_time": "2021-12-26T13:28:30.660Z"
      },
      {
        "duration": 18,
        "start_time": "2021-12-26T13:28:30.670Z"
      },
      {
        "duration": 37,
        "start_time": "2021-12-26T13:28:30.691Z"
      },
      {
        "duration": 9,
        "start_time": "2021-12-26T13:28:30.730Z"
      },
      {
        "duration": 12,
        "start_time": "2021-12-26T13:28:30.740Z"
      },
      {
        "duration": 5,
        "start_time": "2021-12-26T13:28:30.753Z"
      },
      {
        "duration": 16,
        "start_time": "2021-12-26T13:28:30.760Z"
      },
      {
        "duration": 5,
        "start_time": "2021-12-26T13:28:30.778Z"
      },
      {
        "duration": 66,
        "start_time": "2021-12-26T13:28:30.784Z"
      },
      {
        "duration": 3594,
        "start_time": "2021-12-26T13:28:30.851Z"
      },
      {
        "duration": 11,
        "start_time": "2021-12-26T13:28:34.447Z"
      },
      {
        "duration": 13,
        "start_time": "2021-12-26T13:28:34.460Z"
      },
      {
        "duration": 20,
        "start_time": "2021-12-26T13:28:34.475Z"
      },
      {
        "duration": 32,
        "start_time": "2021-12-26T13:28:34.497Z"
      },
      {
        "duration": 10,
        "start_time": "2021-12-26T13:28:34.530Z"
      },
      {
        "duration": 27,
        "start_time": "2021-12-26T13:28:34.541Z"
      },
      {
        "duration": 19,
        "start_time": "2021-12-26T13:28:34.569Z"
      },
      {
        "duration": 38,
        "start_time": "2021-12-26T13:28:34.590Z"
      },
      {
        "duration": 18,
        "start_time": "2021-12-26T13:28:34.629Z"
      },
      {
        "duration": 13,
        "start_time": "2021-12-26T13:28:46.700Z"
      },
      {
        "duration": 12,
        "start_time": "2021-12-26T13:28:59.532Z"
      },
      {
        "duration": 12,
        "start_time": "2021-12-26T13:29:06.756Z"
      },
      {
        "duration": 12,
        "start_time": "2021-12-26T13:29:07.993Z"
      },
      {
        "duration": 74,
        "start_time": "2021-12-26T13:29:09.640Z"
      },
      {
        "duration": 11,
        "start_time": "2021-12-26T13:29:09.716Z"
      },
      {
        "duration": 4,
        "start_time": "2021-12-26T13:29:09.729Z"
      },
      {
        "duration": 8,
        "start_time": "2021-12-26T13:29:09.734Z"
      },
      {
        "duration": 8,
        "start_time": "2021-12-26T13:29:09.743Z"
      },
      {
        "duration": 7,
        "start_time": "2021-12-26T13:29:09.752Z"
      },
      {
        "duration": 19,
        "start_time": "2021-12-26T13:29:09.760Z"
      },
      {
        "duration": 46,
        "start_time": "2021-12-26T13:29:09.781Z"
      },
      {
        "duration": 10,
        "start_time": "2021-12-26T13:29:09.829Z"
      },
      {
        "duration": 12,
        "start_time": "2021-12-26T13:29:09.840Z"
      },
      {
        "duration": 5,
        "start_time": "2021-12-26T13:29:09.853Z"
      },
      {
        "duration": 19,
        "start_time": "2021-12-26T13:29:09.859Z"
      },
      {
        "duration": 2,
        "start_time": "2021-12-26T13:29:09.879Z"
      },
      {
        "duration": 63,
        "start_time": "2021-12-26T13:29:09.882Z"
      },
      {
        "duration": 3565,
        "start_time": "2021-12-26T13:29:09.946Z"
      },
      {
        "duration": 22,
        "start_time": "2021-12-26T13:29:13.513Z"
      },
      {
        "duration": 15,
        "start_time": "2021-12-26T13:29:13.537Z"
      },
      {
        "duration": 24,
        "start_time": "2021-12-26T13:29:13.554Z"
      },
      {
        "duration": 13,
        "start_time": "2021-12-26T13:29:13.580Z"
      },
      {
        "duration": 32,
        "start_time": "2021-12-26T13:29:13.595Z"
      },
      {
        "duration": 22,
        "start_time": "2021-12-26T13:29:13.629Z"
      },
      {
        "duration": 16,
        "start_time": "2021-12-26T13:29:13.653Z"
      },
      {
        "duration": 17,
        "start_time": "2021-12-26T13:29:13.672Z"
      },
      {
        "duration": 46,
        "start_time": "2021-12-26T13:29:13.691Z"
      },
      {
        "duration": 85,
        "start_time": "2021-12-26T13:31:55.688Z"
      },
      {
        "duration": 29,
        "start_time": "2021-12-26T13:33:35.984Z"
      }
    ],
    "kernelspec": {
      "name": "python",
      "display_name": "Python (Pyodide)",
      "language": "python"
    },
    "language_info": {
      "codemirror_mode": {
        "name": "python",
        "version": 3
      },
      "file_extension": ".py",
      "mimetype": "text/x-python",
      "name": "python",
      "nbconvert_exporter": "python",
      "pygments_lexer": "ipython3",
      "version": "3.8"
    },
    "toc": {
      "base_numbering": 1,
      "nav_menu": {
        "height": "221px",
        "width": "251px"
      },
      "number_sections": true,
      "sideBar": true,
      "skip_h1_title": true,
      "title_cell": "Table of Contents",
      "title_sidebar": "Contents",
      "toc_cell": false,
      "toc_position": {
        "height": "calc(100% - 180px)",
        "left": "10px",
        "top": "150px",
        "width": "366.391px"
      },
      "toc_section_display": true,
      "toc_window_display": false
    }
  },
  "nbformat_minor": 4,
  "nbformat": 4,
  "cells": [
    {
      "cell_type": "markdown",
      "source": "# Исследование надёжности заёмщиков\n\nЗаказчик — кредитный отдел банка. Нужно разобраться, влияет ли семейное положение и количество детей клиента на факт погашения кредита в срок. Входные данные от банка — статистика о платёжеспособности клиентов.\n\nРезультаты исследования будут учтены при построении модели **кредитного скоринга** — специальной системы, которая оценивает способность потенциального заёмщика вернуть кредит банку.\n\nЦель исследования ответить на вопросы:\n* Есть ли зависимость между наличием детей и возвратом кредита в срок?\n* Есть ли зависимость между семейным положением и возвратом кредита в срок?\n* Есть ли зависимость между уровнем дохода и возвратом кредита в срок?\n* Как разные цели кредита влияют на его возврат в срок?\n\nНам был представлен датасет с такими данными:\n\n* children — количество детей в семье\n* days_employed — общий трудовой стаж в днях\n* dob_years — возраст клиента в годах\n* education — уровень образования клиента\n* education_id — идентификатор уровня образования\n* family_status — семейное положение\n* family_status_id — идентификатор семейного положения\n* gender — пол клиента\n* income_type — тип занятости\n* debt — имел ли задолженность по возврату кредитов\n* total_income — ежемесячный доход\n* purpose — цель получения кредита\n\nПлан работы:\n* изучить датасет на предмет наличия ошибок и артефактов\n* исправить все найденные проблемы\n* добавить недостающие, категоризовать имеющиеся вместе с новыми данные\n* сделать наглядные подсчеты и сформулировать выводы",
      "metadata": {}
    },
    {
      "cell_type": "markdown",
      "source": "## Шаг 1. Откройте файл с данными и изучите общую информацию",
      "metadata": {}
    },
    {
      "cell_type": "code",
      "source": "#импортируем библиотеку pandas, открываем файл по данному пути, смотрим информацию о датафрейме\n#импортируем Mystem\nimport pandas as pd\nfrom pymystem3 import Mystem\nm = Mystem()\ndf = pd.read_csv('/datasets/data.csv')\ndf.info()",
      "metadata": {},
      "execution_count": 117,
      "outputs": [
        {
          "name": "stdout",
          "output_type": "stream",
          "text": "<class 'pandas.core.frame.DataFrame'>\n\nRangeIndex: 21525 entries, 0 to 21524\n\nData columns (total 12 columns):\n\nchildren            21525 non-null int64\n\ndays_employed       19351 non-null float64\n\ndob_years           21525 non-null int64\n\neducation           21525 non-null object\n\neducation_id        21525 non-null int64\n\nfamily_status       21525 non-null object\n\nfamily_status_id    21525 non-null int64\n\ngender              21525 non-null object\n\nincome_type         21525 non-null object\n\ndebt                21525 non-null int64\n\ntotal_income        19351 non-null float64\n\npurpose             21525 non-null object\n\ndtypes: float64(2), int64(5), object(5)\n\nmemory usage: 2.0+ MB\n"
        }
      ]
    },
    {
      "cell_type": "markdown",
      "source": "Видим, что есть пропуски, названия колонок адекватные и соответствуют данным в них. К типам данных вопросов нет пока что. ",
      "metadata": {}
    },
    {
      "cell_type": "code",
      "source": "#знакомимся с датафреймом более наглядно - выводим датафрейм методом display\ndisplay(df.head())",
      "metadata": {},
      "execution_count": 118,
      "outputs": [
        {
          "output_type": "display_data",
          "data": {
            "text/html": [
              "<div>\n",
              "<style scoped>\n",
              "    .dataframe tbody tr th:only-of-type {\n",
              "        vertical-align: middle;\n",
              "    }\n",
              "\n",
              "    .dataframe tbody tr th {\n",
              "        vertical-align: top;\n",
              "    }\n",
              "\n",
              "    .dataframe thead th {\n",
              "        text-align: right;\n",
              "    }\n",
              "</style>\n",
              "<table border=\"1\" class=\"dataframe\">\n",
              "  <thead>\n",
              "    <tr style=\"text-align: right;\">\n",
              "      <th></th>\n",
              "      <th>children</th>\n",
              "      <th>days_employed</th>\n",
              "      <th>dob_years</th>\n",
              "      <th>education</th>\n",
              "      <th>education_id</th>\n",
              "      <th>family_status</th>\n",
              "      <th>family_status_id</th>\n",
              "      <th>gender</th>\n",
              "      <th>income_type</th>\n",
              "      <th>debt</th>\n",
              "      <th>total_income</th>\n",
              "      <th>purpose</th>\n",
              "    </tr>\n",
              "  </thead>\n",
              "  <tbody>\n",
              "    <tr>\n",
              "      <td>0</td>\n",
              "      <td>1</td>\n",
              "      <td>-8437.673028</td>\n",
              "      <td>42</td>\n",
              "      <td>высшее</td>\n",
              "      <td>0</td>\n",
              "      <td>женат / замужем</td>\n",
              "      <td>0</td>\n",
              "      <td>F</td>\n",
              "      <td>сотрудник</td>\n",
              "      <td>0</td>\n",
              "      <td>253875.639453</td>\n",
              "      <td>покупка жилья</td>\n",
              "    </tr>\n",
              "    <tr>\n",
              "      <td>1</td>\n",
              "      <td>1</td>\n",
              "      <td>-4024.803754</td>\n",
              "      <td>36</td>\n",
              "      <td>среднее</td>\n",
              "      <td>1</td>\n",
              "      <td>женат / замужем</td>\n",
              "      <td>0</td>\n",
              "      <td>F</td>\n",
              "      <td>сотрудник</td>\n",
              "      <td>0</td>\n",
              "      <td>112080.014102</td>\n",
              "      <td>приобретение автомобиля</td>\n",
              "    </tr>\n",
              "    <tr>\n",
              "      <td>2</td>\n",
              "      <td>0</td>\n",
              "      <td>-5623.422610</td>\n",
              "      <td>33</td>\n",
              "      <td>Среднее</td>\n",
              "      <td>1</td>\n",
              "      <td>женат / замужем</td>\n",
              "      <td>0</td>\n",
              "      <td>M</td>\n",
              "      <td>сотрудник</td>\n",
              "      <td>0</td>\n",
              "      <td>145885.952297</td>\n",
              "      <td>покупка жилья</td>\n",
              "    </tr>\n",
              "    <tr>\n",
              "      <td>3</td>\n",
              "      <td>3</td>\n",
              "      <td>-4124.747207</td>\n",
              "      <td>32</td>\n",
              "      <td>среднее</td>\n",
              "      <td>1</td>\n",
              "      <td>женат / замужем</td>\n",
              "      <td>0</td>\n",
              "      <td>M</td>\n",
              "      <td>сотрудник</td>\n",
              "      <td>0</td>\n",
              "      <td>267628.550329</td>\n",
              "      <td>дополнительное образование</td>\n",
              "    </tr>\n",
              "    <tr>\n",
              "      <td>4</td>\n",
              "      <td>0</td>\n",
              "      <td>340266.072047</td>\n",
              "      <td>53</td>\n",
              "      <td>среднее</td>\n",
              "      <td>1</td>\n",
              "      <td>гражданский брак</td>\n",
              "      <td>1</td>\n",
              "      <td>F</td>\n",
              "      <td>пенсионер</td>\n",
              "      <td>0</td>\n",
              "      <td>158616.077870</td>\n",
              "      <td>сыграть свадьбу</td>\n",
              "    </tr>\n",
              "  </tbody>\n",
              "</table>\n",
              "</div>"
            ],
            "text/plain": [
              "   children  days_employed  dob_years education  education_id  \\\n",
              "0         1   -8437.673028         42    высшее             0   \n",
              "1         1   -4024.803754         36   среднее             1   \n",
              "2         0   -5623.422610         33   Среднее             1   \n",
              "3         3   -4124.747207         32   среднее             1   \n",
              "4         0  340266.072047         53   среднее             1   \n",
              "\n",
              "      family_status  family_status_id gender income_type  debt   total_income  \\\n",
              "0   женат / замужем                 0      F   сотрудник     0  253875.639453   \n",
              "1   женат / замужем                 0      F   сотрудник     0  112080.014102   \n",
              "2   женат / замужем                 0      M   сотрудник     0  145885.952297   \n",
              "3   женат / замужем                 0      M   сотрудник     0  267628.550329   \n",
              "4  гражданский брак                 1      F   пенсионер     0  158616.077870   \n",
              "\n",
              "                      purpose  \n",
              "0               покупка жилья  \n",
              "1     приобретение автомобиля  \n",
              "2               покупка жилья  \n",
              "3  дополнительное образование  \n",
              "4             сыграть свадьбу  "
            ]
          },
          "metadata": {}
        }
      ]
    },
    {
      "cell_type": "code",
      "source": "#для начала переведем все отрицательные значения в положительные для удобства рассчетов\ndf['days_employed'] = abs(df['days_employed'])\ndf['children'] = abs(df['children'])",
      "metadata": {},
      "execution_count": 119,
      "outputs": []
    },
    {
      "cell_type": "code",
      "source": "#в конце исследования я заметил, что есть люди, у которых 20 детей. Думаю, это ошибка, поэтому поменяю значение на 2\ndf['children'] = df['children'].replace(20, 2)\ndf['children'].value_counts()",
      "metadata": {},
      "execution_count": 120,
      "outputs": [
        {
          "execution_count": 120,
          "output_type": "execute_result",
          "data": {
            "text/plain": [
              "0    14149\n",
              "1     4865\n",
              "2     2131\n",
              "3      330\n",
              "4       41\n",
              "5        9\n",
              "Name: children, dtype: int64"
            ]
          },
          "metadata": {}
        }
      ]
    },
    {
      "cell_type": "markdown",
      "source": "**Вывод:**\n<br>Здесь видим, \n<br>a) что есть отрицательные значения в колонке days_employed, а также неадекватно большие числа в той же колонке. Возможно, эти данные были записаны с ошибкой. Изучив, как рассчитывается трудовой стаж, можно сделать вывод, что некоторые (самые большие) значения записаны в часах.\n<br>b) в колонке education значения представлены в разных регистрах. Это не сильно влияет на исследования, т.к. у нас есть колонка education_id, но мы выполняем проект по максимуму, поэтому приводим данные в этом столбце к нормальному виду.",
      "metadata": {}
    },
    {
      "cell_type": "markdown",
      "source": "## Шаг 2. Предобработка данных<a id=\"#preprocessing\"></a>",
      "metadata": {}
    },
    {
      "cell_type": "markdown",
      "source": "### Обработка пропусков",
      "metadata": {}
    },
    {
      "cell_type": "code",
      "source": "#смотрим количество пропусков и в каких колонках\nprint(df.isna().sum())",
      "metadata": {},
      "execution_count": 121,
      "outputs": [
        {
          "name": "stdout",
          "output_type": "stream",
          "text": "children               0\n\ndays_employed       2174\n\ndob_years              0\n\neducation              0\n\neducation_id           0\n\nfamily_status          0\n\nfamily_status_id       0\n\ngender                 0\n\nincome_type            0\n\ndebt                   0\n\ntotal_income        2174\n\npurpose                0\n\ndtype: int64\n"
        }
      ]
    },
    {
      "cell_type": "code",
      "source": "#Чтобы сразу нормально заполнить все пропуски, приведем явно выбивающиеся значения из колонки days_employed \n#к виду, который подразумевает моя теория об этих данных ниже, в выводе\ndf.loc[df['days_employed'] > 22000, 'days_employed'] = df.loc[df['days_employed'] > 22000, 'days_employed'] / 24\n#Проверим, выполнилось ли условие\ndisplay((df['days_employed'] > 22000).sum())",
      "metadata": {},
      "execution_count": 122,
      "outputs": [
        {
          "output_type": "display_data",
          "data": {
            "text/plain": [
              "0"
            ]
          },
          "metadata": {}
        }
      ]
    },
    {
      "cell_type": "code",
      "source": "#по этому датафрейму определим медиану для нормальных значений и сохраним ее в переменную days_employed_median\ndays_employed_median = df.groupby('income_type')['days_employed'].median()\ndf['days_employed'] = df.groupby('income_type')['days_employed'].apply(lambda s: s.fillna(s.mean()))\n#заполним все пропуски в days_employed медианным значением\ndf['days_employed'] = df['days_employed'].fillna(median_days_employed.round(2))\n#проверим, все ли сработало\nprint(df.isna().sum())",
      "metadata": {},
      "execution_count": 142,
      "outputs": [
        {
          "name": "stdout",
          "output_type": "stream",
          "text": "children            0\n\ndays_employed       0\n\ndob_years           0\n\neducation           0\n\neducation_id        0\n\nfamily_status       0\n\nfamily_status_id    0\n\ngender              0\n\nincome_type         0\n\ndebt                0\n\ntotal_income        0\n\npurpose             0\n\nlemm_purpose        0\n\npurpose_category    0\n\nincome_category     0\n\ndtype: int64\n"
        }
      ]
    },
    {
      "cell_type": "markdown",
      "source": "Теперь по такому же принципу заполним пропуски в колонке total_income",
      "metadata": {}
    },
    {
      "cell_type": "code",
      "source": "#по этому датафрейму определим медиану для столбца total_income по группам работающих \n#и сохраним ее в переменной total_income_median\ntotal_income_median = df.groupby('income_type')['total_income'].median()\n#заполним все пропуски в total_income медианным значением\ntotal_income_median = df.groupby('income_type')['total_income'].median()\ndf['total_income'] = df.groupby('income_type')['total_income'].apply(lambda s: s.fillna(s.mean()))\n#проверим, все ли сработало\nprint(df.isna().sum())",
      "metadata": {},
      "execution_count": 124,
      "outputs": [
        {
          "name": "stdout",
          "output_type": "stream",
          "text": "children            0\n\ndays_employed       0\n\ndob_years           0\n\neducation           0\n\neducation_id        0\n\nfamily_status       0\n\nfamily_status_id    0\n\ngender              0\n\nincome_type         0\n\ndebt                0\n\ntotal_income        0\n\npurpose             0\n\ndtype: int64\n"
        }
      ]
    },
    {
      "cell_type": "markdown",
      "source": "**Вывод**\n<br>Почему могли появиться пропуски именно в этих колонках? Возможно, люди работали неофициально, стаж у них не записывался, доходы были \"серыми\". Заполнили пропуски медианными значениями.\n<br>Чтобы адекватно заполнить медианным значением колонку days_employed, выяснили, все ли значения соответствуют формату записи. Как уже видно из первого вывода датафрейма, не все. Предположительно, такие большие значения - это тот же рабочий стаж, но выраженный в часах. Чтобы это проверить, отфильтровали значения по такому принципу - если значение больше 22000 (что соответствует ~61 году рабочего стажа, что случается только в очень редких случаях), то оно выражено в часах. ",
      "metadata": {}
    },
    {
      "cell_type": "markdown",
      "source": "### Замена типа данных",
      "metadata": {}
    },
    {
      "cell_type": "code",
      "source": "#смотрим, в каких колонках нам целесообразно и возможно изменить тип данных. \n#Видим, что можем изменить тип days_employed и total_income с float на int.\ndf.info()",
      "metadata": {},
      "execution_count": 125,
      "outputs": [
        {
          "name": "stdout",
          "output_type": "stream",
          "text": "<class 'pandas.core.frame.DataFrame'>\n\nRangeIndex: 21525 entries, 0 to 21524\n\nData columns (total 12 columns):\n\nchildren            21525 non-null int64\n\ndays_employed       21525 non-null float64\n\ndob_years           21525 non-null int64\n\neducation           21525 non-null object\n\neducation_id        21525 non-null int64\n\nfamily_status       21525 non-null object\n\nfamily_status_id    21525 non-null int64\n\ngender              21525 non-null object\n\nincome_type         21525 non-null object\n\ndebt                21525 non-null int64\n\ntotal_income        21525 non-null float64\n\npurpose             21525 non-null object\n\ndtypes: float64(2), int64(5), object(5)\n\nmemory usage: 2.0+ MB\n"
        }
      ]
    },
    {
      "cell_type": "code",
      "source": "#произведем замену\ndf['days_employed'] = df['days_employed'].astype('int')\ndf['total_income'] = df['total_income'].astype('int')\n#проверим, все ли сработало\ndf.info()",
      "metadata": {},
      "execution_count": 126,
      "outputs": [
        {
          "name": "stdout",
          "output_type": "stream",
          "text": "<class 'pandas.core.frame.DataFrame'>\n\nRangeIndex: 21525 entries, 0 to 21524\n\nData columns (total 12 columns):\n\nchildren            21525 non-null int64\n\ndays_employed       21525 non-null int64\n\ndob_years           21525 non-null int64\n\neducation           21525 non-null object\n\neducation_id        21525 non-null int64\n\nfamily_status       21525 non-null object\n\nfamily_status_id    21525 non-null int64\n\ngender              21525 non-null object\n\nincome_type         21525 non-null object\n\ndebt                21525 non-null int64\n\ntotal_income        21525 non-null int64\n\npurpose             21525 non-null object\n\ndtypes: int64(7), object(5)\n\nmemory usage: 2.0+ MB\n"
        }
      ]
    },
    {
      "cell_type": "markdown",
      "source": "**Вывод**\n<br>Мы сделали это для того, чтобы дальше pandas мог обработать все операции, которые мы хотим применить. Почему преобразование было совершено именно с использованием метода .astype()? Потому что нам необходимо привести значения колонок days_employed и total_income к типу int. ",
      "metadata": {}
    },
    {
      "cell_type": "markdown",
      "source": "### Обработка дубликатов",
      "metadata": {}
    },
    {
      "cell_type": "markdown",
      "source": "**Пояснение**\n<br>Я сразу заметил разные регистры в колонке education, поэтому решил не томить с тем, чтобы выявить неявные дубликаты методом .value_counts(), который возвращает кол-во уникальных значений столбца, и привел все значения к одному региструю",
      "metadata": {}
    },
    {
      "cell_type": "code",
      "source": "#Проверим, все ли значения в колонке education записаны в одном регистре\nprint(df['education'].value_counts())",
      "metadata": {},
      "execution_count": 127,
      "outputs": [
        {
          "name": "stdout",
          "output_type": "stream",
          "text": "среднее                13750\n\nвысшее                  4718\n\nСРЕДНЕЕ                  772\n\nСреднее                  711\n\nнеоконченное высшее      668\n\nВЫСШЕЕ                   274\n\nВысшее                   268\n\nначальное                250\n\nНеоконченное высшее       47\n\nНЕОКОНЧЕННОЕ ВЫСШЕЕ       29\n\nНАЧАЛЬНОЕ                 17\n\nНачальное                 15\n\nученая степень             4\n\nУченая степень             1\n\nУЧЕНАЯ СТЕПЕНЬ             1\n\nName: education, dtype: int64\n"
        }
      ]
    },
    {
      "cell_type": "code",
      "source": "#Приведем значения в этой колонке к нижнему регистру, чтобы в дальнейшем успешно удалить все дубликаты\ndf['education'] = df['education'].str.lower()\n#И еще раз проверим, все ли значения в колонке education записаны в одном регистре\nprint(df['education'].value_counts())",
      "metadata": {},
      "execution_count": 128,
      "outputs": [
        {
          "name": "stdout",
          "output_type": "stream",
          "text": "среднее                15233\n\nвысшее                  5260\n\nнеоконченное высшее      744\n\nначальное                282\n\nученая степень             6\n\nName: education, dtype: int64\n"
        }
      ]
    },
    {
      "cell_type": "code",
      "source": "",
      "metadata": {},
      "execution_count": null,
      "outputs": []
    },
    {
      "cell_type": "markdown",
      "source": "**Пояснение**\n<br>Меня еще в самом начале смутили данные, которые, на мой взгляд, выражены в часах в колонке days_employed, поэтому я решил привести их к нужному виду - стаж, выраженный в **днях**",
      "metadata": {}
    },
    {
      "cell_type": "code",
      "source": "#Также приведем явно выбивающиеся значения из колонки days_employed к виду, который подразумевает моя теория об этих данных выше\n#df.loc[df['days_employed'] > 22000, 'days_employed'] = df.loc[df['days_employed'] > 22000, 'days_employed'] / 24\n#Проверим, выполнилось ли условие\n#display((df['days_employed'] > 22000).sum())",
      "metadata": {},
      "execution_count": 129,
      "outputs": []
    },
    {
      "cell_type": "markdown",
      "source": "**Пояснение**\n<br>Теперь можем выявить и удалить строки-дубликаты",
      "metadata": {}
    },
    {
      "cell_type": "code",
      "source": "#найдем количество дубликатов\nprint(df.duplicated().sum())\n#удалим дубликаты\ndf = df.drop_duplicates().reset_index(drop=True)\n#и проверим, все ли сработало\nprint(df.duplicated().sum())",
      "metadata": {},
      "execution_count": 130,
      "outputs": [
        {
          "name": "stdout",
          "output_type": "stream",
          "text": "71\n\n0\n"
        }
      ]
    },
    {
      "cell_type": "markdown",
      "source": "**Вывод**\n<br>Удалив строки-дубликаты, выводы по исследованию будут точнее. Для удаления дубликатов я использовал метод drop.duplicates, потому что с его помощью можно удалить сразу все строки-дубликаты. \n<br>На мой взгляд, дубликаты появились либо вследствие человеческой ошибки (человек подал данные два раза), либо вследствие ошибки системы сбора и формирования данных.",
      "metadata": {}
    },
    {
      "cell_type": "markdown",
      "source": "### Лемматизация",
      "metadata": {}
    },
    {
      "cell_type": "markdown",
      "source": "**Пояснение**\n<br>На данном этапе необходимо провести лемматизацию столбца purpose, т.к. в нем содержатся данные о цели получения кредита. С помощью лемматизации на следующем этапе мы сможем выделить категории целей, что существенно облегчит нам работу и позволит получить более точные результаты исследования.",
      "metadata": {}
    },
    {
      "cell_type": "code",
      "source": "#с помощью функции lemma_purpose, которая возвращает нам лемму от значения колонки, \n#мы лемматизируем колонку purpose, а затем сохраняем новые значения в новой колонке lemm_purpose\n#путем применения метода apply, аргументом которого стала как раз функция lemma_purpose, к столбцу purpose\ndef lemma_purpose(column):\n    lemmas = m.lemmatize(column)\n    return lemmas\ndf['lemm_purpose'] = df['purpose'].apply(lemma_purpose)",
      "metadata": {},
      "execution_count": 131,
      "outputs": []
    },
    {
      "cell_type": "code",
      "source": "",
      "metadata": {
        "scrolled": true
      },
      "execution_count": null,
      "outputs": []
    },
    {
      "cell_type": "code",
      "source": "#затем по совету преподавателя мы собираем все леммы в один список\nlemma_df = []\nfor i in df['lemm_purpose']:\n    lemma_df.extend(i)",
      "metadata": {},
      "execution_count": 132,
      "outputs": []
    },
    {
      "cell_type": "code",
      "source": "#и подсчитываем количество лемм методом Counter\nfrom collections import Counter\nprint(Counter(lemma_df))",
      "metadata": {},
      "execution_count": 133,
      "outputs": [
        {
          "name": "stdout",
          "output_type": "stream",
          "text": "Counter({' ': 33570, '\\n': 21454, 'недвижимость': 6351, 'покупка': 5897, 'жилье': 4460, 'автомобиль': 4306, 'образование': 4013, 'с': 2918, 'операция': 2604, 'свадьба': 2324, 'свой': 2230, 'на': 2222, 'строительство': 1878, 'высокий': 1374, 'получение': 1314, 'коммерческий': 1311, 'для': 1289, 'жилой': 1230, 'сделка': 941, 'дополнительный': 906, 'заниматься': 904, 'проведение': 768, 'сыграть': 765, 'сдача': 651, 'семья': 638, 'собственный': 635, 'со': 627, 'ремонт': 607, 'подержанный': 486, 'подержать': 478, 'приобретение': 461, 'профильный': 436})\n"
        }
      ]
    },
    {
      "cell_type": "markdown",
      "source": "**Вывод**\n<br>Выделив леммы, будет совсем несложно выделить отдельные категории по словам. А это, в свою очередь, нужно для ответа на основные вопросы исследования.",
      "metadata": {}
    },
    {
      "cell_type": "markdown",
      "source": "### Категоризация данных",
      "metadata": {}
    },
    {
      "cell_type": "markdown",
      "source": "Чтобы ответить на основные вопросы данного исследования, необходимо привести данные к определенным категориям. Например, нужно понять:\n* с какой целью люди берут кредит\n* как различаются кредитуемые лица по количеству детей и как это влияет на выплату кредита в срок\n* как люди различаются по уровню дохода и как это влияет на выплату кредита в срок\n* как люди различаются по семейному положению и как это влияет на выплату кредита в срок",
      "metadata": {}
    },
    {
      "cell_type": "code",
      "source": "#С помощью функции set_purpose_category мы выделяем 5 категорий из колонки purpose\ndef set_purpose_category(lemma_purpose):\n    if (('жилье' in lemma_purpose) or ('недвижимость' in lemma_purpose)) and ('строительство' not in lemma_purpose):\n        return 'покупка недвижимости'\n    if (('жилье' in lemma_purpose) or ('недвижимость' in lemma_purpose)) and ('строительство' in lemma_purpose):\n        return 'строительство недвижимости'\n    if 'автомобиль' in lemma_purpose:\n        return 'покупка автомобиля'\n    if 'образование' in lemma_purpose:\n        return 'образование'\n    if 'свадьба' in lemma_purpose:\n        return 'свадьба'\n    return lemma_purpose\n#применяем метод .apply() к столбцу lemm_purpose и получаем новую колонку purpose_category, в которой\n#каждой строке присваивается категория цели покупки в соответствии со столбцом purpose\ndf['purpose_category'] = df['lemm_purpose'].apply(set_purpose_category)\n#проверим, как это сработало, методом .value_counts()\ndf['purpose_category'].value_counts()",
      "metadata": {},
      "execution_count": 134,
      "outputs": [
        {
          "execution_count": 134,
          "output_type": "execute_result",
          "data": {
            "text/plain": [
              "покупка недвижимости          8933\n",
              "покупка автомобиля            4306\n",
              "образование                   4013\n",
              "свадьба                       2324\n",
              "строительство недвижимости    1878\n",
              "Name: purpose_category, dtype: int64"
            ]
          },
          "metadata": {}
        }
      ]
    },
    {
      "cell_type": "code",
      "source": "#разбиваем колонку total_income на 4 равные части, чтобы выделить категории людей по доходам в месяц\npd.qcut(df['total_income'], 4)",
      "metadata": {},
      "execution_count": 135,
      "outputs": [
        {
          "execution_count": 135,
          "output_type": "execute_result",
          "data": {
            "text/plain": [
              "0        (202417.0, 2265604.0]\n",
              "1         (107623.0, 151887.0]\n",
              "2         (107623.0, 151887.0]\n",
              "3        (202417.0, 2265604.0]\n",
              "4         (151887.0, 202417.0]\n",
              "                 ...          \n",
              "21449    (202417.0, 2265604.0]\n",
              "21450     (151887.0, 202417.0]\n",
              "21451    (20666.999, 107623.0]\n",
              "21452    (202417.0, 2265604.0]\n",
              "21453    (20666.999, 107623.0]\n",
              "Name: total_income, Length: 21454, dtype: category\n",
              "Categories (4, interval[float64]): [(20666.999, 107623.0] < (107623.0, 151887.0] < (151887.0, 202417.0] < (202417.0, 2265604.0]]"
            ]
          },
          "metadata": {}
        }
      ]
    },
    {
      "cell_type": "code",
      "source": "#а данной функцией присваиваем каждой строке определенную категорию в соответствии с уровнем дохода методом apply\n#с добавлением новой колонки\ndef income_category(income):\n    if 20666 <= income <= 107623.999:\n        return 'low'\n    if 107624 <= income <= 145017.999:\n        return 'middle'\n    if 145018 <= income <= 195813.999:\n        return 'upper middle'\n    if 195814 <= income <= 2265604:\n        return 'high'\ndf['income_category'] = df['total_income'].apply(income_category)",
      "metadata": {},
      "execution_count": 136,
      "outputs": []
    },
    {
      "cell_type": "markdown",
      "source": "**Вывод**\n<br>Можно заметить, что категории некоторых видов данных (дети, образование) уже есть. Однако для исследования нам нужно выделить еще категории целей кредитования, а также категории людей по уровню дохода. Что мы и сделали в данном разделе.",
      "metadata": {}
    },
    {
      "cell_type": "markdown",
      "source": "## Шаг 3. Ответьте на вопросы",
      "metadata": {}
    },
    {
      "cell_type": "markdown",
      "source": "- Есть ли зависимость между наличием детей и возвратом кредита в срок?",
      "metadata": {}
    },
    {
      "cell_type": "code",
      "source": "#Сгруппируем методом pivot_table колонки debt и children, чтобы определить, как влияет количество детей на выплату кредита\ndf_pivot_children = df.pivot_table(index = ['children'], columns = 'debt',\n                                   values = 'family_status_id', aggfunc = 'count', fill_value=0)\n#переименование столбцов для удобства чтения:\ndf_pivot_children.columns = ['no_debt', 'debtors']\n#создадим еще 1 колонку, которая будет показывать процент должников по категориям\ndf_pivot_children['% debtors'] = df_pivot_children['debtors'] / (df_pivot_children['debtors'] + df_pivot_children['no_debt'])\ndisplay(df_pivot_children.style.format({('% debtors') : \"{:.2%}\"}))",
      "metadata": {},
      "execution_count": 137,
      "outputs": [
        {
          "output_type": "display_data",
          "data": {
            "text/html": [
              "<style  type=\"text/css\" >\n",
              "</style><table id=\"T_d0ff2e8a_664f_11ec_a7a6_02420a393835\" ><thead>    <tr>        <th class=\"blank level0\" ></th>        <th class=\"col_heading level0 col0\" >no_debt</th>        <th class=\"col_heading level0 col1\" >debtors</th>        <th class=\"col_heading level0 col2\" >% debtors</th>    </tr>    <tr>        <th class=\"index_name level0\" >children</th>        <th class=\"blank\" ></th>        <th class=\"blank\" ></th>        <th class=\"blank\" ></th>    </tr></thead><tbody>\n",
              "                <tr>\n",
              "                        <th id=\"T_d0ff2e8a_664f_11ec_a7a6_02420a393835level0_row0\" class=\"row_heading level0 row0\" >0</th>\n",
              "                        <td id=\"T_d0ff2e8a_664f_11ec_a7a6_02420a393835row0_col0\" class=\"data row0 col0\" >13028</td>\n",
              "                        <td id=\"T_d0ff2e8a_664f_11ec_a7a6_02420a393835row0_col1\" class=\"data row0 col1\" >1063</td>\n",
              "                        <td id=\"T_d0ff2e8a_664f_11ec_a7a6_02420a393835row0_col2\" class=\"data row0 col2\" >7.54%</td>\n",
              "            </tr>\n",
              "            <tr>\n",
              "                        <th id=\"T_d0ff2e8a_664f_11ec_a7a6_02420a393835level0_row1\" class=\"row_heading level0 row1\" >1</th>\n",
              "                        <td id=\"T_d0ff2e8a_664f_11ec_a7a6_02420a393835row1_col0\" class=\"data row1 col0\" >4410</td>\n",
              "                        <td id=\"T_d0ff2e8a_664f_11ec_a7a6_02420a393835row1_col1\" class=\"data row1 col1\" >445</td>\n",
              "                        <td id=\"T_d0ff2e8a_664f_11ec_a7a6_02420a393835row1_col2\" class=\"data row1 col2\" >9.17%</td>\n",
              "            </tr>\n",
              "            <tr>\n",
              "                        <th id=\"T_d0ff2e8a_664f_11ec_a7a6_02420a393835level0_row2\" class=\"row_heading level0 row2\" >2</th>\n",
              "                        <td id=\"T_d0ff2e8a_664f_11ec_a7a6_02420a393835row2_col0\" class=\"data row2 col0\" >1926</td>\n",
              "                        <td id=\"T_d0ff2e8a_664f_11ec_a7a6_02420a393835row2_col1\" class=\"data row2 col1\" >202</td>\n",
              "                        <td id=\"T_d0ff2e8a_664f_11ec_a7a6_02420a393835row2_col2\" class=\"data row2 col2\" >9.49%</td>\n",
              "            </tr>\n",
              "            <tr>\n",
              "                        <th id=\"T_d0ff2e8a_664f_11ec_a7a6_02420a393835level0_row3\" class=\"row_heading level0 row3\" >3</th>\n",
              "                        <td id=\"T_d0ff2e8a_664f_11ec_a7a6_02420a393835row3_col0\" class=\"data row3 col0\" >303</td>\n",
              "                        <td id=\"T_d0ff2e8a_664f_11ec_a7a6_02420a393835row3_col1\" class=\"data row3 col1\" >27</td>\n",
              "                        <td id=\"T_d0ff2e8a_664f_11ec_a7a6_02420a393835row3_col2\" class=\"data row3 col2\" >8.18%</td>\n",
              "            </tr>\n",
              "            <tr>\n",
              "                        <th id=\"T_d0ff2e8a_664f_11ec_a7a6_02420a393835level0_row4\" class=\"row_heading level0 row4\" >4</th>\n",
              "                        <td id=\"T_d0ff2e8a_664f_11ec_a7a6_02420a393835row4_col0\" class=\"data row4 col0\" >37</td>\n",
              "                        <td id=\"T_d0ff2e8a_664f_11ec_a7a6_02420a393835row4_col1\" class=\"data row4 col1\" >4</td>\n",
              "                        <td id=\"T_d0ff2e8a_664f_11ec_a7a6_02420a393835row4_col2\" class=\"data row4 col2\" >9.76%</td>\n",
              "            </tr>\n",
              "            <tr>\n",
              "                        <th id=\"T_d0ff2e8a_664f_11ec_a7a6_02420a393835level0_row5\" class=\"row_heading level0 row5\" >5</th>\n",
              "                        <td id=\"T_d0ff2e8a_664f_11ec_a7a6_02420a393835row5_col0\" class=\"data row5 col0\" >9</td>\n",
              "                        <td id=\"T_d0ff2e8a_664f_11ec_a7a6_02420a393835row5_col1\" class=\"data row5 col1\" >0</td>\n",
              "                        <td id=\"T_d0ff2e8a_664f_11ec_a7a6_02420a393835row5_col2\" class=\"data row5 col2\" >0.00%</td>\n",
              "            </tr>\n",
              "    </tbody></table>"
            ],
            "text/plain": [
              "<pandas.io.formats.style.Styler at 0x7f0f003ae990>"
            ]
          },
          "metadata": {}
        }
      ]
    },
    {
      "cell_type": "markdown",
      "source": "**Вывод**",
      "metadata": {}
    },
    {
      "cell_type": "markdown",
      "source": "Как видим, люди, у которых нет детей, реже имеют проблемы с оплатой кредита в срок.",
      "metadata": {}
    },
    {
      "cell_type": "markdown",
      "source": "- Есть ли зависимость между семейным положением и возвратом кредита в срок?",
      "metadata": {}
    },
    {
      "cell_type": "code",
      "source": "#Сгруппируем методом pivot_table колонки debt и family_status, чтобы определить, \n#как влияет семейное положение на выплату кредита\ndf_pivot_family_status = df.pivot_table(index = ['family_status'], columns = 'debt', \n                                        values = 'children', aggfunc = 'count', fill_value=0)\n#переименование столбцов для удобства чтения:\ndf_pivot_family_status.columns = ['no_debt', 'debtors']\n#создадим еще 1 колонку, которая будет показывать процент должников по категориям\ndf_pivot_family_status['% debtors'] = df_pivot_family_status['debtors'] / (df_pivot_family_status['debtors'] + \n                                                                           df_pivot_family_status['no_debt'])\ndisplay(df_pivot_family_status.style.format({('% debtors') : \"{:.2%}\"}))",
      "metadata": {},
      "execution_count": 138,
      "outputs": [
        {
          "output_type": "display_data",
          "data": {
            "text/html": [
              "<style  type=\"text/css\" >\n",
              "</style><table id=\"T_d1021168_664f_11ec_a7a6_02420a393835\" ><thead>    <tr>        <th class=\"blank level0\" ></th>        <th class=\"col_heading level0 col0\" >no_debt</th>        <th class=\"col_heading level0 col1\" >debtors</th>        <th class=\"col_heading level0 col2\" >% debtors</th>    </tr>    <tr>        <th class=\"index_name level0\" >family_status</th>        <th class=\"blank\" ></th>        <th class=\"blank\" ></th>        <th class=\"blank\" ></th>    </tr></thead><tbody>\n",
              "                <tr>\n",
              "                        <th id=\"T_d1021168_664f_11ec_a7a6_02420a393835level0_row0\" class=\"row_heading level0 row0\" >Не женат / не замужем</th>\n",
              "                        <td id=\"T_d1021168_664f_11ec_a7a6_02420a393835row0_col0\" class=\"data row0 col0\" >2536</td>\n",
              "                        <td id=\"T_d1021168_664f_11ec_a7a6_02420a393835row0_col1\" class=\"data row0 col1\" >274</td>\n",
              "                        <td id=\"T_d1021168_664f_11ec_a7a6_02420a393835row0_col2\" class=\"data row0 col2\" >9.75%</td>\n",
              "            </tr>\n",
              "            <tr>\n",
              "                        <th id=\"T_d1021168_664f_11ec_a7a6_02420a393835level0_row1\" class=\"row_heading level0 row1\" >в разводе</th>\n",
              "                        <td id=\"T_d1021168_664f_11ec_a7a6_02420a393835row1_col0\" class=\"data row1 col0\" >1110</td>\n",
              "                        <td id=\"T_d1021168_664f_11ec_a7a6_02420a393835row1_col1\" class=\"data row1 col1\" >85</td>\n",
              "                        <td id=\"T_d1021168_664f_11ec_a7a6_02420a393835row1_col2\" class=\"data row1 col2\" >7.11%</td>\n",
              "            </tr>\n",
              "            <tr>\n",
              "                        <th id=\"T_d1021168_664f_11ec_a7a6_02420a393835level0_row2\" class=\"row_heading level0 row2\" >вдовец / вдова</th>\n",
              "                        <td id=\"T_d1021168_664f_11ec_a7a6_02420a393835row2_col0\" class=\"data row2 col0\" >896</td>\n",
              "                        <td id=\"T_d1021168_664f_11ec_a7a6_02420a393835row2_col1\" class=\"data row2 col1\" >63</td>\n",
              "                        <td id=\"T_d1021168_664f_11ec_a7a6_02420a393835row2_col2\" class=\"data row2 col2\" >6.57%</td>\n",
              "            </tr>\n",
              "            <tr>\n",
              "                        <th id=\"T_d1021168_664f_11ec_a7a6_02420a393835level0_row3\" class=\"row_heading level0 row3\" >гражданский брак</th>\n",
              "                        <td id=\"T_d1021168_664f_11ec_a7a6_02420a393835row3_col0\" class=\"data row3 col0\" >3763</td>\n",
              "                        <td id=\"T_d1021168_664f_11ec_a7a6_02420a393835row3_col1\" class=\"data row3 col1\" >388</td>\n",
              "                        <td id=\"T_d1021168_664f_11ec_a7a6_02420a393835row3_col2\" class=\"data row3 col2\" >9.35%</td>\n",
              "            </tr>\n",
              "            <tr>\n",
              "                        <th id=\"T_d1021168_664f_11ec_a7a6_02420a393835level0_row4\" class=\"row_heading level0 row4\" >женат / замужем</th>\n",
              "                        <td id=\"T_d1021168_664f_11ec_a7a6_02420a393835row4_col0\" class=\"data row4 col0\" >11408</td>\n",
              "                        <td id=\"T_d1021168_664f_11ec_a7a6_02420a393835row4_col1\" class=\"data row4 col1\" >931</td>\n",
              "                        <td id=\"T_d1021168_664f_11ec_a7a6_02420a393835row4_col2\" class=\"data row4 col2\" >7.55%</td>\n",
              "            </tr>\n",
              "    </tbody></table>"
            ],
            "text/plain": [
              "<pandas.io.formats.style.Styler at 0x7f0f003aee50>"
            ]
          },
          "metadata": {}
        }
      ]
    },
    {
      "cell_type": "markdown",
      "source": "**Вывод**",
      "metadata": {}
    },
    {
      "cell_type": "markdown",
      "source": "Видно, что люди, которые в статусе \"не женат/не замужем\" и \"гражданский брак\", чаще остальных имеют проблемы с оплатой обязательств по кредиту.",
      "metadata": {}
    },
    {
      "cell_type": "markdown",
      "source": "- Есть ли зависимость между уровнем дохода и возвратом кредита в срок?",
      "metadata": {}
    },
    {
      "cell_type": "code",
      "source": "#Сгруппируем методом pivot_table колонки debt и income_category, чтобы определить, как влияет уровень дохода на выплату кредита\ndf_pivot_income = df.pivot_table(index = ['income_category'], columns = 'debt', \n                                 values = 'children', aggfunc = 'count', fill_value=0)\n#переименование столбцов для удобства чтения:\ndf_pivot_income.columns = ['no_debt', 'debtors']\n#создадим еще 1 колонку, которая будет показывать процент должников по категориям\ndf_pivot_income['% debtors'] = df_pivot_income['debtors'] / (df_pivot_income['debtors'] + \n                                                                           df_pivot_income['no_debt'])\ndisplay(df_pivot_income.sort_values(by='income_category').style.format({('% debtors') : \"{:.2%}\"}))",
      "metadata": {},
      "execution_count": 139,
      "outputs": [
        {
          "output_type": "display_data",
          "data": {
            "text/html": [
              "<style  type=\"text/css\" >\n",
              "</style><table id=\"T_d10517c8_664f_11ec_a7a6_02420a393835\" ><thead>    <tr>        <th class=\"blank level0\" ></th>        <th class=\"col_heading level0 col0\" >no_debt</th>        <th class=\"col_heading level0 col1\" >debtors</th>        <th class=\"col_heading level0 col2\" >% debtors</th>    </tr>    <tr>        <th class=\"index_name level0\" >income_category</th>        <th class=\"blank\" ></th>        <th class=\"blank\" ></th>        <th class=\"blank\" ></th>    </tr></thead><tbody>\n",
              "                <tr>\n",
              "                        <th id=\"T_d10517c8_664f_11ec_a7a6_02420a393835level0_row0\" class=\"row_heading level0 row0\" >high</th>\n",
              "                        <td id=\"T_d10517c8_664f_11ec_a7a6_02420a393835row0_col0\" class=\"data row0 col0\" >5453</td>\n",
              "                        <td id=\"T_d10517c8_664f_11ec_a7a6_02420a393835row0_col1\" class=\"data row0 col1\" >413</td>\n",
              "                        <td id=\"T_d10517c8_664f_11ec_a7a6_02420a393835row0_col2\" class=\"data row0 col2\" >7.04%</td>\n",
              "            </tr>\n",
              "            <tr>\n",
              "                        <th id=\"T_d10517c8_664f_11ec_a7a6_02420a393835level0_row1\" class=\"row_heading level0 row1\" >low</th>\n",
              "                        <td id=\"T_d10517c8_664f_11ec_a7a6_02420a393835row1_col0\" class=\"data row1 col0\" >4937</td>\n",
              "                        <td id=\"T_d10517c8_664f_11ec_a7a6_02420a393835row1_col1\" class=\"data row1 col1\" >427</td>\n",
              "                        <td id=\"T_d10517c8_664f_11ec_a7a6_02420a393835row1_col2\" class=\"data row1 col2\" >7.96%</td>\n",
              "            </tr>\n",
              "            <tr>\n",
              "                        <th id=\"T_d10517c8_664f_11ec_a7a6_02420a393835level0_row2\" class=\"row_heading level0 row2\" >middle</th>\n",
              "                        <td id=\"T_d10517c8_664f_11ec_a7a6_02420a393835row2_col0\" class=\"data row2 col0\" >4286</td>\n",
              "                        <td id=\"T_d10517c8_664f_11ec_a7a6_02420a393835row2_col1\" class=\"data row2 col1\" >412</td>\n",
              "                        <td id=\"T_d10517c8_664f_11ec_a7a6_02420a393835row2_col2\" class=\"data row2 col2\" >8.77%</td>\n",
              "            </tr>\n",
              "            <tr>\n",
              "                        <th id=\"T_d10517c8_664f_11ec_a7a6_02420a393835level0_row3\" class=\"row_heading level0 row3\" >upper middle</th>\n",
              "                        <td id=\"T_d10517c8_664f_11ec_a7a6_02420a393835row3_col0\" class=\"data row3 col0\" >5037</td>\n",
              "                        <td id=\"T_d10517c8_664f_11ec_a7a6_02420a393835row3_col1\" class=\"data row3 col1\" >489</td>\n",
              "                        <td id=\"T_d10517c8_664f_11ec_a7a6_02420a393835row3_col2\" class=\"data row3 col2\" >8.85%</td>\n",
              "            </tr>\n",
              "    </tbody></table>"
            ],
            "text/plain": [
              "<pandas.io.formats.style.Styler at 0x7f0f48662650>"
            ]
          },
          "metadata": {}
        }
      ]
    },
    {
      "cell_type": "markdown",
      "source": "**Вывод**",
      "metadata": {}
    },
    {
      "cell_type": "markdown",
      "source": "Можно отметить, что люди с низким и высоким уровнем дохода реже имеют проблемы с оплатой обязательств по кредиту.",
      "metadata": {}
    },
    {
      "cell_type": "markdown",
      "source": "- Как разные цели кредита влияют на его возврат в срок?",
      "metadata": {}
    },
    {
      "cell_type": "code",
      "source": "#Сгруппируем методом pivot_table колонки debt и purpose_category, чтобы определить, как влияет цель кредита на выплату кредита\ndf_pivot_purpose = df.pivot_table(index = ['purpose_category'], columns = 'debt', \n                                  values = 'children', aggfunc = 'count', fill_value=0)\n#переименование столбцов для удобства чтения:\ndf_pivot_purpose.columns = ['no_debt', 'debtors']\n#создадим еще 1 колонку, которая будет показывать процент должников по категориям\ndf_pivot_purpose['% debtors'] = df_pivot_purpose['debtors'] / (df_pivot_purpose['debtors'] + \n                                                                           df_pivot_purpose['no_debt'])\ndisplay(df_pivot_purpose.style.format({('% debtors') : \"{:.2%}\"}))",
      "metadata": {},
      "execution_count": 140,
      "outputs": [
        {
          "output_type": "display_data",
          "data": {
            "text/html": [
              "<style  type=\"text/css\" >\n",
              "</style><table id=\"T_d10c5fb0_664f_11ec_a7a6_02420a393835\" ><thead>    <tr>        <th class=\"blank level0\" ></th>        <th class=\"col_heading level0 col0\" >no_debt</th>        <th class=\"col_heading level0 col1\" >debtors</th>        <th class=\"col_heading level0 col2\" >% debtors</th>    </tr>    <tr>        <th class=\"index_name level0\" >purpose_category</th>        <th class=\"blank\" ></th>        <th class=\"blank\" ></th>        <th class=\"blank\" ></th>    </tr></thead><tbody>\n",
              "                <tr>\n",
              "                        <th id=\"T_d10c5fb0_664f_11ec_a7a6_02420a393835level0_row0\" class=\"row_heading level0 row0\" >образование</th>\n",
              "                        <td id=\"T_d10c5fb0_664f_11ec_a7a6_02420a393835row0_col0\" class=\"data row0 col0\" >3643</td>\n",
              "                        <td id=\"T_d10c5fb0_664f_11ec_a7a6_02420a393835row0_col1\" class=\"data row0 col1\" >370</td>\n",
              "                        <td id=\"T_d10c5fb0_664f_11ec_a7a6_02420a393835row0_col2\" class=\"data row0 col2\" >9.22%</td>\n",
              "            </tr>\n",
              "            <tr>\n",
              "                        <th id=\"T_d10c5fb0_664f_11ec_a7a6_02420a393835level0_row1\" class=\"row_heading level0 row1\" >покупка автомобиля</th>\n",
              "                        <td id=\"T_d10c5fb0_664f_11ec_a7a6_02420a393835row1_col0\" class=\"data row1 col0\" >3903</td>\n",
              "                        <td id=\"T_d10c5fb0_664f_11ec_a7a6_02420a393835row1_col1\" class=\"data row1 col1\" >403</td>\n",
              "                        <td id=\"T_d10c5fb0_664f_11ec_a7a6_02420a393835row1_col2\" class=\"data row1 col2\" >9.36%</td>\n",
              "            </tr>\n",
              "            <tr>\n",
              "                        <th id=\"T_d10c5fb0_664f_11ec_a7a6_02420a393835level0_row2\" class=\"row_heading level0 row2\" >покупка недвижимости</th>\n",
              "                        <td id=\"T_d10c5fb0_664f_11ec_a7a6_02420a393835row2_col0\" class=\"data row2 col0\" >8295</td>\n",
              "                        <td id=\"T_d10c5fb0_664f_11ec_a7a6_02420a393835row2_col1\" class=\"data row2 col1\" >638</td>\n",
              "                        <td id=\"T_d10c5fb0_664f_11ec_a7a6_02420a393835row2_col2\" class=\"data row2 col2\" >7.14%</td>\n",
              "            </tr>\n",
              "            <tr>\n",
              "                        <th id=\"T_d10c5fb0_664f_11ec_a7a6_02420a393835level0_row3\" class=\"row_heading level0 row3\" >свадьба</th>\n",
              "                        <td id=\"T_d10c5fb0_664f_11ec_a7a6_02420a393835row3_col0\" class=\"data row3 col0\" >2138</td>\n",
              "                        <td id=\"T_d10c5fb0_664f_11ec_a7a6_02420a393835row3_col1\" class=\"data row3 col1\" >186</td>\n",
              "                        <td id=\"T_d10c5fb0_664f_11ec_a7a6_02420a393835row3_col2\" class=\"data row3 col2\" >8.00%</td>\n",
              "            </tr>\n",
              "            <tr>\n",
              "                        <th id=\"T_d10c5fb0_664f_11ec_a7a6_02420a393835level0_row4\" class=\"row_heading level0 row4\" >строительство недвижимости</th>\n",
              "                        <td id=\"T_d10c5fb0_664f_11ec_a7a6_02420a393835row4_col0\" class=\"data row4 col0\" >1734</td>\n",
              "                        <td id=\"T_d10c5fb0_664f_11ec_a7a6_02420a393835row4_col1\" class=\"data row4 col1\" >144</td>\n",
              "                        <td id=\"T_d10c5fb0_664f_11ec_a7a6_02420a393835row4_col2\" class=\"data row4 col2\" >7.67%</td>\n",
              "            </tr>\n",
              "    </tbody></table>"
            ],
            "text/plain": [
              "<pandas.io.formats.style.Styler at 0x7f0f0037efd0>"
            ]
          },
          "metadata": {}
        }
      ]
    },
    {
      "cell_type": "markdown",
      "source": "**Вывод**",
      "metadata": {}
    },
    {
      "cell_type": "markdown",
      "source": "Люди, которые берут кредит на покупку или строительство недвижимости, реже остальных имеют проблемы с оплатой обязательств по кредиту.",
      "metadata": {}
    },
    {
      "cell_type": "markdown",
      "source": "## Шаг 4. Общий вывод",
      "metadata": {}
    },
    {
      "cell_type": "markdown",
      "source": "Данный нам для исследования датасет информативен, хоть и содержал определенные ошибки. Благодаря выполненным выше действиям удалось выяснить, какие группы людей могут принести проблемы банку, а какие группы являются более надежными. Из этого исследования следует, что самые надежные заемщики это люди, у которых:\n* нет детей\n* семейное положение - женат/замужем, вдовец/вдова, в разводе\n* у которых доход низкий или высокий\n* цель кредитования которых приобретение или строительство недвижимости\n\nТаким образом, цели исследования была достигнута, банк доволен, люди не очень.",
      "metadata": {}
    },
    {
      "cell_type": "markdown",
      "source": "## Чек-лист готовности проекта\n\nПоставьте 'x' в выполненных пунктах. Далее нажмите Shift+Enter.",
      "metadata": {}
    },
    {
      "cell_type": "markdown",
      "source": "- [x]  открыт файл;\n- [x]  файл изучен;\n- [x]  определены пропущенные значения;\n- [x]  заполнены пропущенные значения;\n- [x]  есть пояснение, какие пропущенные значения обнаружены;\n- [x]  описаны возможные причины появления пропусков в данных;\n- [x]  объяснено, по какому принципу заполнены пропуски;\n- [x]  заменен вещественный тип данных на целочисленный;\n- [x]  есть пояснение, какой метод используется для изменения типа данных и почему;\n- [x]  удалены дубликаты;\n- [x]  есть пояснение, какой метод используется для поиска и удаления дубликатов;\n- [x]  описаны возможные причины появления дубликатов в данных;\n- [x]  выделены леммы в значениях столбца с целями получения кредита;\n- [x]  описан процесс лемматизации;\n- [x]  данные категоризированы;\n- [x]  есть объяснение принципа категоризации данных;\n- [x]  есть ответ на вопрос: \"Есть ли зависимость между наличием детей и возвратом кредита в срок?\";\n- [x]  есть ответ на вопрос: \"Есть ли зависимость между семейным положением и возвратом кредита в срок?\";\n- [x]  есть ответ на вопрос: \"Есть ли зависимость между уровнем дохода и возвратом кредита в срок?\";\n- [x]  есть ответ на вопрос: \"Как разные цели кредита влияют на его возврат в срок?\";\n- [x]  в каждом этапе есть выводы;\n- [x]  есть общий вывод.",
      "metadata": {}
    }
  ]
}
