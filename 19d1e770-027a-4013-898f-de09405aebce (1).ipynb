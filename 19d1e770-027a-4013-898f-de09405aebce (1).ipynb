{
  "metadata": {
    "ExecuteTimeLog": [
      {
        "duration": 702,
        "start_time": "2021-11-18T08:11:43.519Z"
      },
      {
        "duration": 190,
        "start_time": "2021-11-18T08:13:49.595Z"
      },
      {
        "duration": 26,
        "start_time": "2021-11-18T08:14:10.990Z"
      },
      {
        "duration": 13,
        "start_time": "2021-11-18T08:14:43.934Z"
      },
      {
        "duration": 10,
        "start_time": "2021-11-18T08:14:50.547Z"
      },
      {
        "duration": 342,
        "start_time": "2021-11-18T08:15:54.966Z"
      },
      {
        "duration": 5,
        "start_time": "2021-11-18T08:16:01.687Z"
      },
      {
        "duration": 30,
        "start_time": "2021-11-18T08:19:32.502Z"
      },
      {
        "duration": 5,
        "start_time": "2021-11-18T08:19:40.054Z"
      },
      {
        "duration": 32,
        "start_time": "2021-11-18T08:21:02.410Z"
      },
      {
        "duration": 11,
        "start_time": "2021-11-18T08:29:59.372Z"
      },
      {
        "duration": 291,
        "start_time": "2021-11-18T08:34:38.124Z"
      },
      {
        "duration": 356,
        "start_time": "2021-11-18T08:37:01.163Z"
      },
      {
        "duration": 34,
        "start_time": "2021-11-18T08:37:18.779Z"
      },
      {
        "duration": 51,
        "start_time": "2021-11-18T08:37:36.483Z"
      },
      {
        "duration": 258,
        "start_time": "2021-11-18T08:39:16.535Z"
      },
      {
        "duration": 245,
        "start_time": "2021-11-18T08:40:33.903Z"
      },
      {
        "duration": 208,
        "start_time": "2021-11-18T08:40:48.359Z"
      },
      {
        "duration": 34,
        "start_time": "2021-11-18T08:44:03.475Z"
      },
      {
        "duration": 30,
        "start_time": "2021-11-18T08:44:06.519Z"
      },
      {
        "duration": 31,
        "start_time": "2021-11-18T08:44:21.086Z"
      },
      {
        "duration": 96,
        "start_time": "2021-11-18T08:44:26.826Z"
      },
      {
        "duration": 29,
        "start_time": "2021-11-18T08:44:31.863Z"
      },
      {
        "duration": 6369,
        "start_time": "2021-11-18T08:46:42.050Z"
      },
      {
        "duration": 48,
        "start_time": "2021-11-18T08:47:22.154Z"
      },
      {
        "duration": 87,
        "start_time": "2021-11-18T08:50:00.027Z"
      },
      {
        "duration": 97,
        "start_time": "2021-11-18T08:51:07.522Z"
      },
      {
        "duration": 77,
        "start_time": "2021-11-18T08:51:14.878Z"
      },
      {
        "duration": 10,
        "start_time": "2021-11-18T08:52:18.218Z"
      },
      {
        "duration": 12,
        "start_time": "2021-11-18T08:58:24.354Z"
      },
      {
        "duration": 248,
        "start_time": "2021-11-18T08:59:15.825Z"
      },
      {
        "duration": 5,
        "start_time": "2021-11-18T09:00:05.450Z"
      },
      {
        "duration": 6909,
        "start_time": "2021-11-18T09:00:07.509Z"
      },
      {
        "duration": 1031,
        "start_time": "2021-11-18T09:00:13.392Z"
      },
      {
        "duration": 9,
        "start_time": "2021-11-18T09:00:24.421Z"
      },
      {
        "duration": 1035,
        "start_time": "2021-11-18T09:01:28.636Z"
      },
      {
        "duration": 1034,
        "start_time": "2021-11-18T09:01:28.648Z"
      },
      {
        "duration": 9,
        "start_time": "2021-11-18T09:01:32.269Z"
      },
      {
        "duration": 1036,
        "start_time": "2021-11-18T09:01:45.700Z"
      },
      {
        "duration": 8477,
        "start_time": "2021-11-18T09:01:48.785Z"
      },
      {
        "duration": 4,
        "start_time": "2021-11-18T09:02:09.949Z"
      },
      {
        "duration": 526,
        "start_time": "2021-11-18T09:02:12.573Z"
      },
      {
        "duration": 4,
        "start_time": "2021-11-18T09:02:40.737Z"
      },
      {
        "duration": 570,
        "start_time": "2021-11-18T09:02:42.869Z"
      },
      {
        "duration": 4,
        "start_time": "2021-11-18T09:02:52.557Z"
      },
      {
        "duration": 14,
        "start_time": "2021-11-18T09:02:54.536Z"
      },
      {
        "duration": 9,
        "start_time": "2021-11-18T09:02:58.128Z"
      },
      {
        "duration": 37,
        "start_time": "2021-11-18T09:06:30.993Z"
      },
      {
        "duration": 21,
        "start_time": "2021-11-18T09:06:50.864Z"
      },
      {
        "duration": 30,
        "start_time": "2021-11-18T09:07:54.668Z"
      },
      {
        "duration": 90,
        "start_time": "2021-11-18T09:10:50.932Z"
      },
      {
        "duration": 41,
        "start_time": "2021-11-18T09:11:02.548Z"
      },
      {
        "duration": 82,
        "start_time": "2021-11-18T09:19:10.250Z"
      },
      {
        "duration": 95,
        "start_time": "2021-11-18T09:19:20.482Z"
      },
      {
        "duration": 127,
        "start_time": "2021-11-18T09:19:24.838Z"
      },
      {
        "duration": 350,
        "start_time": "2021-11-18T09:19:31.330Z"
      },
      {
        "duration": 1078,
        "start_time": "2021-11-18T09:19:39.642Z"
      },
      {
        "duration": 624,
        "start_time": "2021-11-18T09:21:01.134Z"
      },
      {
        "duration": 258,
        "start_time": "2021-11-18T09:21:16.174Z"
      },
      {
        "duration": 642,
        "start_time": "2021-11-18T09:21:24.286Z"
      },
      {
        "duration": 6,
        "start_time": "2021-11-18T09:21:34.322Z"
      },
      {
        "duration": 508,
        "start_time": "2021-11-18T09:21:42.463Z"
      },
      {
        "duration": 88,
        "start_time": "2021-11-18T09:22:08.290Z"
      },
      {
        "duration": 5,
        "start_time": "2021-11-18T09:22:17.678Z"
      },
      {
        "duration": 493,
        "start_time": "2021-11-18T09:22:22.006Z"
      },
      {
        "duration": 90,
        "start_time": "2021-11-18T09:24:18.502Z"
      },
      {
        "duration": 97,
        "start_time": "2021-11-18T09:24:24.389Z"
      },
      {
        "duration": 5,
        "start_time": "2021-11-18T09:24:40.917Z"
      },
      {
        "duration": 5,
        "start_time": "2021-11-18T09:25:28.241Z"
      },
      {
        "duration": 799,
        "start_time": "2021-11-18T09:25:30.677Z"
      },
      {
        "duration": 6,
        "start_time": "2021-11-18T09:26:38.365Z"
      },
      {
        "duration": 6,
        "start_time": "2021-11-18T09:26:39.950Z"
      },
      {
        "duration": 555,
        "start_time": "2021-11-18T09:26:42.009Z"
      },
      {
        "duration": 5,
        "start_time": "2021-11-18T09:27:11.910Z"
      },
      {
        "duration": 3301,
        "start_time": "2021-11-18T09:27:14.793Z"
      },
      {
        "duration": 5,
        "start_time": "2021-11-18T09:28:36.901Z"
      },
      {
        "duration": 528,
        "start_time": "2021-11-18T09:28:39.261Z"
      },
      {
        "duration": 5,
        "start_time": "2021-11-18T09:29:20.437Z"
      },
      {
        "duration": 536,
        "start_time": "2021-11-18T09:29:22.865Z"
      },
      {
        "duration": 7,
        "start_time": "2021-11-18T09:30:18.349Z"
      },
      {
        "duration": 1008,
        "start_time": "2021-11-18T09:30:20.937Z"
      },
      {
        "duration": 5,
        "start_time": "2021-11-18T09:31:06.657Z"
      },
      {
        "duration": 539,
        "start_time": "2021-11-18T09:31:08.256Z"
      },
      {
        "duration": 6,
        "start_time": "2021-11-18T09:31:50.912Z"
      },
      {
        "duration": 501,
        "start_time": "2021-11-18T09:31:52.548Z"
      },
      {
        "duration": 5,
        "start_time": "2021-11-18T09:37:23.488Z"
      },
      {
        "duration": 510,
        "start_time": "2021-11-18T09:37:25.328Z"
      },
      {
        "duration": 4,
        "start_time": "2021-11-18T09:49:14.863Z"
      },
      {
        "duration": 21,
        "start_time": "2021-11-18T09:49:16.727Z"
      },
      {
        "duration": 21,
        "start_time": "2021-11-18T09:49:19.153Z"
      },
      {
        "duration": 28,
        "start_time": "2021-11-18T09:52:17.600Z"
      },
      {
        "duration": 259,
        "start_time": "2021-11-18T09:52:45.423Z"
      },
      {
        "duration": 29,
        "start_time": "2021-11-18T09:52:58.242Z"
      },
      {
        "duration": 23,
        "start_time": "2021-11-18T10:00:02.858Z"
      },
      {
        "duration": 28,
        "start_time": "2021-11-18T10:00:04.726Z"
      },
      {
        "duration": 20,
        "start_time": "2021-11-18T10:01:11.154Z"
      },
      {
        "duration": 19,
        "start_time": "2021-11-18T10:01:12.325Z"
      },
      {
        "duration": 23,
        "start_time": "2021-11-18T10:01:14.121Z"
      },
      {
        "duration": 19,
        "start_time": "2021-11-18T10:01:15.034Z"
      },
      {
        "duration": 285,
        "start_time": "2021-11-18T10:02:28.014Z"
      },
      {
        "duration": 394,
        "start_time": "2021-11-18T10:02:44.881Z"
      },
      {
        "duration": 1484,
        "start_time": "2021-11-18T10:03:31.117Z"
      },
      {
        "duration": 835,
        "start_time": "2021-11-18T10:03:32.697Z"
      },
      {
        "duration": 791,
        "start_time": "2021-11-18T10:03:34.129Z"
      },
      {
        "duration": 330,
        "start_time": "2021-11-18T10:03:55.217Z"
      },
      {
        "duration": 271,
        "start_time": "2021-11-18T10:05:21.153Z"
      },
      {
        "duration": 275,
        "start_time": "2021-11-18T10:05:31.469Z"
      },
      {
        "duration": 291,
        "start_time": "2021-11-18T10:05:51.137Z"
      },
      {
        "duration": 276,
        "start_time": "2021-11-18T10:06:02.261Z"
      },
      {
        "duration": 363,
        "start_time": "2021-11-18T10:08:19.245Z"
      },
      {
        "duration": 82,
        "start_time": "2021-11-18T10:10:36.396Z"
      },
      {
        "duration": 245,
        "start_time": "2021-11-18T10:10:41.838Z"
      },
      {
        "duration": 263,
        "start_time": "2021-11-18T10:11:23.080Z"
      },
      {
        "duration": 300,
        "start_time": "2021-11-18T10:11:28.060Z"
      },
      {
        "duration": 297,
        "start_time": "2021-11-18T10:13:35.020Z"
      },
      {
        "duration": 3,
        "start_time": "2021-11-18T10:14:04.276Z"
      },
      {
        "duration": 269,
        "start_time": "2021-11-18T10:14:57.012Z"
      },
      {
        "duration": 253,
        "start_time": "2021-11-18T10:15:05.048Z"
      },
      {
        "duration": 245,
        "start_time": "2021-11-18T10:15:09.156Z"
      },
      {
        "duration": 276,
        "start_time": "2021-11-18T10:16:08.180Z"
      },
      {
        "duration": 282,
        "start_time": "2021-11-18T10:16:40.280Z"
      },
      {
        "duration": 3,
        "start_time": "2021-11-18T10:16:49.964Z"
      },
      {
        "duration": 19,
        "start_time": "2021-11-18T10:19:51.155Z"
      },
      {
        "duration": 19,
        "start_time": "2021-11-18T10:20:13.571Z"
      },
      {
        "duration": 3,
        "start_time": "2021-11-18T10:20:43.063Z"
      },
      {
        "duration": 265,
        "start_time": "2021-11-18T10:21:12.311Z"
      },
      {
        "duration": 264,
        "start_time": "2021-11-18T10:22:51.727Z"
      },
      {
        "duration": 253,
        "start_time": "2021-11-18T10:23:09.171Z"
      },
      {
        "duration": 391,
        "start_time": "2021-11-18T10:23:22.167Z"
      },
      {
        "duration": 6,
        "start_time": "2021-11-18T10:23:30.283Z"
      },
      {
        "duration": 5,
        "start_time": "2021-11-18T10:23:32.175Z"
      },
      {
        "duration": 9,
        "start_time": "2021-11-18T10:23:40.011Z"
      },
      {
        "duration": 316,
        "start_time": "2021-11-18T10:25:15.447Z"
      },
      {
        "duration": 9,
        "start_time": "2021-11-18T10:26:25.723Z"
      },
      {
        "duration": 17,
        "start_time": "2021-11-18T10:26:52.283Z"
      },
      {
        "duration": 20,
        "start_time": "2021-11-18T10:27:30.092Z"
      },
      {
        "duration": 17,
        "start_time": "2021-11-18T10:28:04.918Z"
      },
      {
        "duration": 48,
        "start_time": "2021-11-18T10:29:18.102Z"
      },
      {
        "duration": 88,
        "start_time": "2021-11-18T10:30:04.630Z"
      },
      {
        "duration": 297,
        "start_time": "2021-11-18T10:32:33.806Z"
      },
      {
        "duration": 83,
        "start_time": "2021-11-18T10:33:01.286Z"
      },
      {
        "duration": 252,
        "start_time": "2021-11-18T10:33:09.354Z"
      },
      {
        "duration": 332,
        "start_time": "2021-11-18T10:33:11.938Z"
      },
      {
        "duration": 30,
        "start_time": "2021-11-18T10:35:00.118Z"
      },
      {
        "duration": 27,
        "start_time": "2021-11-18T10:35:37.565Z"
      },
      {
        "duration": 7,
        "start_time": "2021-11-18T10:45:22.275Z"
      },
      {
        "duration": 1243,
        "start_time": "2021-11-18T10:46:39.697Z"
      },
      {
        "duration": 1248,
        "start_time": "2021-11-18T10:47:22.699Z"
      },
      {
        "duration": 7,
        "start_time": "2021-11-18T10:53:37.664Z"
      },
      {
        "duration": 313,
        "start_time": "2021-11-18T10:53:43.096Z"
      },
      {
        "duration": 267,
        "start_time": "2021-11-18T10:53:51.510Z"
      },
      {
        "duration": 272,
        "start_time": "2021-11-18T10:54:20.210Z"
      },
      {
        "duration": 257,
        "start_time": "2021-11-18T10:54:30.345Z"
      },
      {
        "duration": 245,
        "start_time": "2021-11-18T10:55:29.706Z"
      },
      {
        "duration": 13,
        "start_time": "2021-11-18T10:55:33.234Z"
      },
      {
        "duration": 268,
        "start_time": "2021-11-18T10:55:39.386Z"
      },
      {
        "duration": 9,
        "start_time": "2021-11-18T10:56:33.410Z"
      },
      {
        "duration": 6,
        "start_time": "2021-11-18T10:57:16.986Z"
      },
      {
        "duration": 6,
        "start_time": "2021-11-18T10:57:18.610Z"
      },
      {
        "duration": 862,
        "start_time": "2021-11-18T10:57:48.210Z"
      },
      {
        "duration": 193,
        "start_time": "2021-11-18T10:57:49.075Z"
      },
      {
        "duration": 21,
        "start_time": "2021-11-18T10:57:49.272Z"
      },
      {
        "duration": 14,
        "start_time": "2021-11-18T10:57:49.296Z"
      },
      {
        "duration": 13,
        "start_time": "2021-11-18T10:57:49.313Z"
      },
      {
        "duration": 60,
        "start_time": "2021-11-18T10:57:49.328Z"
      },
      {
        "duration": 6,
        "start_time": "2021-11-18T10:57:49.391Z"
      },
      {
        "duration": 32,
        "start_time": "2021-11-18T10:57:49.401Z"
      },
      {
        "duration": 23,
        "start_time": "2021-11-18T10:57:49.467Z"
      },
      {
        "duration": 29,
        "start_time": "2021-11-18T10:57:49.492Z"
      },
      {
        "duration": 113,
        "start_time": "2021-11-18T10:57:49.524Z"
      },
      {
        "duration": 103,
        "start_time": "2021-11-18T10:57:49.640Z"
      },
      {
        "duration": 84,
        "start_time": "2021-11-18T10:57:49.746Z"
      },
      {
        "duration": 9,
        "start_time": "2021-11-18T10:57:49.832Z"
      },
      {
        "duration": 4,
        "start_time": "2021-11-18T10:57:49.868Z"
      },
      {
        "duration": 20,
        "start_time": "2021-11-18T10:57:49.874Z"
      },
      {
        "duration": 9,
        "start_time": "2021-11-18T10:57:49.897Z"
      },
      {
        "duration": 31,
        "start_time": "2021-11-18T10:57:49.908Z"
      },
      {
        "duration": 38,
        "start_time": "2021-11-18T10:57:49.967Z"
      },
      {
        "duration": 5,
        "start_time": "2021-11-18T10:57:50.008Z"
      },
      {
        "duration": 57,
        "start_time": "2021-11-18T10:57:50.016Z"
      },
      {
        "duration": 16,
        "start_time": "2021-11-18T10:57:50.076Z"
      },
      {
        "duration": 48,
        "start_time": "2021-11-18T10:57:50.097Z"
      },
      {
        "duration": 34,
        "start_time": "2021-11-18T10:57:50.149Z"
      },
      {
        "duration": 27,
        "start_time": "2021-11-18T10:57:50.186Z"
      },
      {
        "duration": 18,
        "start_time": "2021-11-18T10:57:50.215Z"
      },
      {
        "duration": 87,
        "start_time": "2021-11-18T10:57:50.268Z"
      },
      {
        "duration": 29,
        "start_time": "2021-11-18T10:57:50.368Z"
      },
      {
        "duration": 27,
        "start_time": "2021-11-18T10:57:50.399Z"
      },
      {
        "duration": 38,
        "start_time": "2021-11-18T10:57:50.429Z"
      },
      {
        "duration": 19044,
        "start_time": "2021-11-18T10:57:50.469Z"
      },
      {
        "duration": 1262,
        "start_time": "2021-11-18T10:58:08.254Z"
      },
      {
        "duration": 1251,
        "start_time": "2021-11-18T10:58:08.266Z"
      },
      {
        "duration": 1250,
        "start_time": "2021-11-18T10:58:08.268Z"
      },
      {
        "duration": 1250,
        "start_time": "2021-11-18T10:58:08.270Z"
      },
      {
        "duration": 1246,
        "start_time": "2021-11-18T10:58:08.275Z"
      },
      {
        "duration": 1244,
        "start_time": "2021-11-18T10:58:08.279Z"
      },
      {
        "duration": 1244,
        "start_time": "2021-11-18T10:58:08.280Z"
      },
      {
        "duration": 5,
        "start_time": "2021-11-18T10:59:18.078Z"
      },
      {
        "duration": 19547,
        "start_time": "2021-11-18T10:59:20.802Z"
      },
      {
        "duration": 6,
        "start_time": "2021-11-18T11:00:30.666Z"
      },
      {
        "duration": 330,
        "start_time": "2021-11-18T11:01:31.162Z"
      },
      {
        "duration": 255,
        "start_time": "2021-11-18T11:03:32.825Z"
      },
      {
        "duration": 250,
        "start_time": "2021-11-18T11:03:44.225Z"
      },
      {
        "duration": 785,
        "start_time": "2021-11-18T11:03:52.337Z"
      },
      {
        "duration": 185,
        "start_time": "2021-11-18T11:03:53.125Z"
      },
      {
        "duration": 28,
        "start_time": "2021-11-18T11:03:53.313Z"
      },
      {
        "duration": 31,
        "start_time": "2021-11-18T11:03:53.343Z"
      },
      {
        "duration": 7,
        "start_time": "2021-11-18T11:03:53.376Z"
      },
      {
        "duration": 31,
        "start_time": "2021-11-18T11:03:53.385Z"
      },
      {
        "duration": 9,
        "start_time": "2021-11-18T11:03:53.419Z"
      },
      {
        "duration": 61,
        "start_time": "2021-11-18T11:03:53.432Z"
      },
      {
        "duration": 24,
        "start_time": "2021-11-18T11:03:53.496Z"
      },
      {
        "duration": 48,
        "start_time": "2021-11-18T11:03:53.523Z"
      },
      {
        "duration": 105,
        "start_time": "2021-11-18T11:03:53.573Z"
      },
      {
        "duration": 117,
        "start_time": "2021-11-18T11:03:53.680Z"
      },
      {
        "duration": 86,
        "start_time": "2021-11-18T11:03:53.800Z"
      },
      {
        "duration": 9,
        "start_time": "2021-11-18T11:03:53.888Z"
      },
      {
        "duration": 4,
        "start_time": "2021-11-18T11:03:53.900Z"
      },
      {
        "duration": 19,
        "start_time": "2021-11-18T11:03:53.906Z"
      },
      {
        "duration": 39,
        "start_time": "2021-11-18T11:03:53.927Z"
      },
      {
        "duration": 31,
        "start_time": "2021-11-18T11:03:53.969Z"
      },
      {
        "duration": 36,
        "start_time": "2021-11-18T11:03:54.002Z"
      },
      {
        "duration": 29,
        "start_time": "2021-11-18T11:03:54.041Z"
      },
      {
        "duration": 27,
        "start_time": "2021-11-18T11:03:54.073Z"
      },
      {
        "duration": 19,
        "start_time": "2021-11-18T11:03:54.103Z"
      },
      {
        "duration": 50,
        "start_time": "2021-11-18T11:03:54.127Z"
      },
      {
        "duration": 19,
        "start_time": "2021-11-18T11:03:54.180Z"
      },
      {
        "duration": 23,
        "start_time": "2021-11-18T11:03:54.201Z"
      },
      {
        "duration": 44,
        "start_time": "2021-11-18T11:03:54.227Z"
      },
      {
        "duration": 105,
        "start_time": "2021-11-18T11:03:54.274Z"
      },
      {
        "duration": 35,
        "start_time": "2021-11-18T11:03:54.381Z"
      },
      {
        "duration": 52,
        "start_time": "2021-11-18T11:03:54.419Z"
      },
      {
        "duration": 6,
        "start_time": "2021-11-18T11:03:54.473Z"
      },
      {
        "duration": 26,
        "start_time": "2021-11-18T11:03:54.482Z"
      },
      {
        "duration": 26,
        "start_time": "2021-11-18T11:03:54.510Z"
      },
      {
        "duration": 20,
        "start_time": "2021-11-18T11:03:54.539Z"
      },
      {
        "duration": 16,
        "start_time": "2021-11-18T11:03:54.562Z"
      },
      {
        "duration": 12,
        "start_time": "2021-11-18T11:03:54.581Z"
      },
      {
        "duration": 8,
        "start_time": "2021-11-18T11:03:54.595Z"
      },
      {
        "duration": 16,
        "start_time": "2021-11-18T11:03:54.606Z"
      },
      {
        "duration": 8,
        "start_time": "2021-11-18T11:03:54.625Z"
      },
      {
        "duration": 12,
        "start_time": "2021-11-18T11:05:08.785Z"
      },
      {
        "duration": 23,
        "start_time": "2021-11-18T11:05:15.736Z"
      },
      {
        "duration": 24,
        "start_time": "2021-11-18T11:05:22.869Z"
      },
      {
        "duration": 24,
        "start_time": "2021-11-18T11:05:28.824Z"
      },
      {
        "duration": 23,
        "start_time": "2021-11-18T11:05:43.992Z"
      },
      {
        "duration": 23,
        "start_time": "2021-11-18T11:06:03.269Z"
      },
      {
        "duration": 23,
        "start_time": "2021-11-18T11:06:06.260Z"
      },
      {
        "duration": 6,
        "start_time": "2021-11-18T11:07:25.624Z"
      },
      {
        "duration": 29,
        "start_time": "2021-11-18T11:07:27.808Z"
      },
      {
        "duration": 148,
        "start_time": "2021-11-18T11:07:58.172Z"
      },
      {
        "duration": 24,
        "start_time": "2021-11-18T11:08:08.600Z"
      },
      {
        "duration": 6,
        "start_time": "2021-11-18T11:08:46.964Z"
      },
      {
        "duration": 23,
        "start_time": "2021-11-18T11:08:50.073Z"
      },
      {
        "duration": 95,
        "start_time": "2021-11-18T11:08:54.172Z"
      },
      {
        "duration": 13,
        "start_time": "2021-11-18T11:08:57.312Z"
      },
      {
        "duration": 12,
        "start_time": "2021-11-18T11:09:02.808Z"
      },
      {
        "duration": 29679,
        "start_time": "2021-11-18T11:09:25.464Z"
      },
      {
        "duration": 19107,
        "start_time": "2021-11-18T11:10:10.516Z"
      },
      {
        "duration": 1278,
        "start_time": "2021-11-18T11:10:28.348Z"
      },
      {
        "duration": 1276,
        "start_time": "2021-11-18T11:10:28.351Z"
      },
      {
        "duration": 1276,
        "start_time": "2021-11-18T11:10:28.353Z"
      },
      {
        "duration": 333,
        "start_time": "2021-11-18T11:14:56.481Z"
      },
      {
        "duration": 781,
        "start_time": "2021-11-18T11:15:08.983Z"
      },
      {
        "duration": 187,
        "start_time": "2021-11-18T11:15:09.768Z"
      },
      {
        "duration": 30,
        "start_time": "2021-11-18T11:15:09.958Z"
      },
      {
        "duration": 11,
        "start_time": "2021-11-18T11:15:09.991Z"
      },
      {
        "duration": 21,
        "start_time": "2021-11-18T11:15:10.005Z"
      },
      {
        "duration": 49,
        "start_time": "2021-11-18T11:15:10.028Z"
      },
      {
        "duration": 5,
        "start_time": "2021-11-18T11:15:10.079Z"
      },
      {
        "duration": 33,
        "start_time": "2021-11-18T11:15:10.088Z"
      },
      {
        "duration": 51,
        "start_time": "2021-11-18T11:15:10.124Z"
      },
      {
        "duration": 28,
        "start_time": "2021-11-18T11:15:10.178Z"
      },
      {
        "duration": 108,
        "start_time": "2021-11-18T11:15:10.209Z"
      },
      {
        "duration": 113,
        "start_time": "2021-11-18T11:15:10.320Z"
      },
      {
        "duration": 88,
        "start_time": "2021-11-18T11:15:10.435Z"
      },
      {
        "duration": 9,
        "start_time": "2021-11-18T11:15:10.526Z"
      },
      {
        "duration": 5,
        "start_time": "2021-11-18T11:15:10.537Z"
      },
      {
        "duration": 14,
        "start_time": "2021-11-18T11:15:10.567Z"
      },
      {
        "duration": 12,
        "start_time": "2021-11-18T11:15:10.584Z"
      },
      {
        "duration": 30,
        "start_time": "2021-11-18T11:15:10.598Z"
      },
      {
        "duration": 71,
        "start_time": "2021-11-18T11:15:10.631Z"
      },
      {
        "duration": 5,
        "start_time": "2021-11-18T11:15:10.705Z"
      },
      {
        "duration": 35,
        "start_time": "2021-11-18T11:15:10.712Z"
      },
      {
        "duration": 27,
        "start_time": "2021-11-18T11:15:10.768Z"
      },
      {
        "duration": 23,
        "start_time": "2021-11-18T11:15:10.802Z"
      },
      {
        "duration": 50,
        "start_time": "2021-11-18T11:15:10.828Z"
      },
      {
        "duration": 20,
        "start_time": "2021-11-18T11:15:10.880Z"
      },
      {
        "duration": 19,
        "start_time": "2021-11-18T11:15:10.903Z"
      },
      {
        "duration": 115,
        "start_time": "2021-11-18T11:15:10.924Z"
      },
      {
        "duration": 42,
        "start_time": "2021-11-18T11:15:11.042Z"
      },
      {
        "duration": 28,
        "start_time": "2021-11-18T11:15:11.086Z"
      },
      {
        "duration": 6,
        "start_time": "2021-11-18T11:15:11.116Z"
      },
      {
        "duration": 19921,
        "start_time": "2021-11-18T11:15:11.124Z"
      },
      {
        "duration": 1273,
        "start_time": "2021-11-18T11:15:29.776Z"
      },
      {
        "duration": 1272,
        "start_time": "2021-11-18T11:15:29.778Z"
      },
      {
        "duration": 1271,
        "start_time": "2021-11-18T11:15:29.780Z"
      },
      {
        "duration": 1271,
        "start_time": "2021-11-18T11:15:29.782Z"
      },
      {
        "duration": 1271,
        "start_time": "2021-11-18T11:15:29.783Z"
      },
      {
        "duration": 1270,
        "start_time": "2021-11-18T11:15:29.785Z"
      },
      {
        "duration": 1270,
        "start_time": "2021-11-18T11:15:29.787Z"
      },
      {
        "duration": 6,
        "start_time": "2021-11-18T11:30:59.965Z"
      },
      {
        "duration": 363,
        "start_time": "2021-11-18T11:31:36.013Z"
      },
      {
        "duration": 6,
        "start_time": "2021-11-18T11:32:09.385Z"
      },
      {
        "duration": 1808,
        "start_time": "2021-11-18T11:32:12.422Z"
      },
      {
        "duration": 367,
        "start_time": "2021-11-18T11:32:23.717Z"
      },
      {
        "duration": 773,
        "start_time": "2021-11-18T11:32:27.745Z"
      },
      {
        "duration": 194,
        "start_time": "2021-11-18T11:32:28.520Z"
      },
      {
        "duration": 29,
        "start_time": "2021-11-18T11:32:28.717Z"
      },
      {
        "duration": 29,
        "start_time": "2021-11-18T11:32:28.749Z"
      },
      {
        "duration": 14,
        "start_time": "2021-11-18T11:32:28.780Z"
      },
      {
        "duration": 33,
        "start_time": "2021-11-18T11:32:28.797Z"
      },
      {
        "duration": 4,
        "start_time": "2021-11-18T11:32:28.833Z"
      },
      {
        "duration": 32,
        "start_time": "2021-11-18T11:32:28.869Z"
      },
      {
        "duration": 30,
        "start_time": "2021-11-18T11:32:28.904Z"
      },
      {
        "duration": 46,
        "start_time": "2021-11-18T11:32:28.936Z"
      },
      {
        "duration": 104,
        "start_time": "2021-11-18T11:32:28.985Z"
      },
      {
        "duration": 120,
        "start_time": "2021-11-18T11:32:29.091Z"
      },
      {
        "duration": 91,
        "start_time": "2021-11-18T11:32:29.213Z"
      },
      {
        "duration": 9,
        "start_time": "2021-11-18T11:32:29.306Z"
      },
      {
        "duration": 4,
        "start_time": "2021-11-18T11:32:29.318Z"
      },
      {
        "duration": 41,
        "start_time": "2021-11-18T11:32:29.325Z"
      },
      {
        "duration": 8,
        "start_time": "2021-11-18T11:32:29.369Z"
      },
      {
        "duration": 35,
        "start_time": "2021-11-18T11:32:29.380Z"
      },
      {
        "duration": 59,
        "start_time": "2021-11-18T11:32:29.417Z"
      },
      {
        "duration": 5,
        "start_time": "2021-11-18T11:32:29.478Z"
      },
      {
        "duration": 37,
        "start_time": "2021-11-18T11:32:29.485Z"
      },
      {
        "duration": 18,
        "start_time": "2021-11-18T11:32:29.524Z"
      },
      {
        "duration": 45,
        "start_time": "2021-11-18T11:32:29.547Z"
      },
      {
        "duration": 21,
        "start_time": "2021-11-18T11:32:29.595Z"
      },
      {
        "duration": 20,
        "start_time": "2021-11-18T11:32:29.618Z"
      },
      {
        "duration": 36,
        "start_time": "2021-11-18T11:32:29.641Z"
      },
      {
        "duration": 108,
        "start_time": "2021-11-18T11:32:29.680Z"
      },
      {
        "duration": 30,
        "start_time": "2021-11-18T11:32:29.790Z"
      },
      {
        "duration": 49,
        "start_time": "2021-11-18T11:32:29.822Z"
      },
      {
        "duration": 5,
        "start_time": "2021-11-18T11:32:29.874Z"
      },
      {
        "duration": 18551,
        "start_time": "2021-11-18T11:32:29.883Z"
      },
      {
        "duration": 1331,
        "start_time": "2021-11-18T11:32:47.105Z"
      },
      {
        "duration": 1330,
        "start_time": "2021-11-18T11:32:47.108Z"
      },
      {
        "duration": 1317,
        "start_time": "2021-11-18T11:32:47.122Z"
      },
      {
        "duration": 1318,
        "start_time": "2021-11-18T11:32:47.123Z"
      },
      {
        "duration": 1318,
        "start_time": "2021-11-18T11:32:47.125Z"
      },
      {
        "duration": 1317,
        "start_time": "2021-11-18T11:32:47.127Z"
      },
      {
        "duration": 1317,
        "start_time": "2021-11-18T11:32:47.129Z"
      },
      {
        "duration": 6,
        "start_time": "2021-11-18T11:35:54.960Z"
      },
      {
        "duration": 19062,
        "start_time": "2021-11-18T11:35:57.497Z"
      },
      {
        "duration": 315,
        "start_time": "2021-11-18T13:11:25.141Z"
      },
      {
        "duration": 1853,
        "start_time": "2021-11-18T13:11:31.269Z"
      },
      {
        "duration": 191,
        "start_time": "2021-11-18T13:11:33.125Z"
      },
      {
        "duration": 26,
        "start_time": "2021-11-18T13:11:33.319Z"
      },
      {
        "duration": 25,
        "start_time": "2021-11-18T13:11:33.348Z"
      },
      {
        "duration": 9,
        "start_time": "2021-11-18T13:11:33.375Z"
      },
      {
        "duration": 37,
        "start_time": "2021-11-18T13:11:33.386Z"
      },
      {
        "duration": 15,
        "start_time": "2021-11-18T13:11:33.427Z"
      },
      {
        "duration": 34,
        "start_time": "2021-11-18T13:11:33.470Z"
      },
      {
        "duration": 40,
        "start_time": "2021-11-18T13:11:33.508Z"
      },
      {
        "duration": 59,
        "start_time": "2021-11-18T13:11:33.551Z"
      },
      {
        "duration": 123,
        "start_time": "2021-11-18T13:11:33.613Z"
      },
      {
        "duration": 122,
        "start_time": "2021-11-18T13:11:33.738Z"
      },
      {
        "duration": 80,
        "start_time": "2021-11-18T13:11:33.863Z"
      },
      {
        "duration": 132,
        "start_time": "2021-11-18T13:11:33.945Z"
      },
      {
        "duration": 17,
        "start_time": "2021-11-18T13:11:34.080Z"
      },
      {
        "duration": 16,
        "start_time": "2021-11-18T13:11:34.100Z"
      },
      {
        "duration": 10,
        "start_time": "2021-11-18T13:11:34.118Z"
      },
      {
        "duration": 49,
        "start_time": "2021-11-18T13:11:34.130Z"
      },
      {
        "duration": 40,
        "start_time": "2021-11-18T13:11:34.182Z"
      },
      {
        "duration": 5,
        "start_time": "2021-11-18T13:11:34.225Z"
      },
      {
        "duration": 51,
        "start_time": "2021-11-18T13:11:34.233Z"
      },
      {
        "duration": 22,
        "start_time": "2021-11-18T13:11:34.287Z"
      },
      {
        "duration": 20,
        "start_time": "2021-11-18T13:11:34.315Z"
      },
      {
        "duration": 20,
        "start_time": "2021-11-18T13:11:34.367Z"
      },
      {
        "duration": 22,
        "start_time": "2021-11-18T13:11:34.389Z"
      },
      {
        "duration": 57,
        "start_time": "2021-11-18T13:11:34.414Z"
      },
      {
        "duration": 98,
        "start_time": "2021-11-18T13:11:34.473Z"
      },
      {
        "duration": 29,
        "start_time": "2021-11-18T13:11:34.573Z"
      },
      {
        "duration": 27,
        "start_time": "2021-11-18T13:11:34.605Z"
      },
      {
        "duration": 34,
        "start_time": "2021-11-18T13:11:34.635Z"
      },
      {
        "duration": 43,
        "start_time": "2021-11-18T13:11:34.672Z"
      },
      {
        "duration": 28,
        "start_time": "2021-11-18T13:11:34.717Z"
      },
      {
        "duration": 33,
        "start_time": "2021-11-18T13:11:34.748Z"
      },
      {
        "duration": 20,
        "start_time": "2021-11-18T13:11:34.783Z"
      },
      {
        "duration": 4,
        "start_time": "2021-11-18T13:11:34.805Z"
      },
      {
        "duration": 12,
        "start_time": "2021-11-18T13:11:34.812Z"
      },
      {
        "duration": 17,
        "start_time": "2021-11-18T13:11:34.826Z"
      },
      {
        "duration": 23,
        "start_time": "2021-11-18T13:11:34.846Z"
      },
      {
        "duration": 310,
        "start_time": "2021-11-18T13:23:19.052Z"
      },
      {
        "duration": 13,
        "start_time": "2021-11-18T13:23:27.392Z"
      },
      {
        "duration": 293,
        "start_time": "2021-11-18T13:24:25.148Z"
      },
      {
        "duration": 15,
        "start_time": "2021-11-18T13:24:42.119Z"
      },
      {
        "duration": 15,
        "start_time": "2021-11-18T13:24:45.319Z"
      },
      {
        "duration": 15,
        "start_time": "2021-11-18T13:24:47.427Z"
      },
      {
        "duration": 15,
        "start_time": "2021-11-18T13:25:00.928Z"
      },
      {
        "duration": 8,
        "start_time": "2021-11-18T13:25:36.919Z"
      },
      {
        "duration": 319,
        "start_time": "2021-11-18T13:26:45.187Z"
      },
      {
        "duration": 259,
        "start_time": "2021-11-18T13:26:57.667Z"
      },
      {
        "duration": 12,
        "start_time": "2021-11-18T13:27:09.891Z"
      },
      {
        "duration": 7,
        "start_time": "2021-11-18T13:27:12.219Z"
      },
      {
        "duration": 217,
        "start_time": "2021-11-19T08:35:35.853Z"
      },
      {
        "duration": 200,
        "start_time": "2021-11-19T08:35:43.402Z"
      },
      {
        "duration": 567,
        "start_time": "2021-11-19T08:35:47.701Z"
      },
      {
        "duration": 131,
        "start_time": "2021-11-19T08:35:49.757Z"
      },
      {
        "duration": 23,
        "start_time": "2021-11-19T08:35:54.489Z"
      },
      {
        "duration": 14,
        "start_time": "2021-11-19T08:35:56.493Z"
      },
      {
        "duration": 8,
        "start_time": "2021-11-19T08:36:01.465Z"
      },
      {
        "duration": 25,
        "start_time": "2021-11-19T08:36:29.673Z"
      },
      {
        "duration": 5,
        "start_time": "2021-11-19T08:37:08.294Z"
      },
      {
        "duration": 3,
        "start_time": "2021-11-19T08:37:11.133Z"
      },
      {
        "duration": 61,
        "start_time": "2021-11-19T09:45:24.550Z"
      },
      {
        "duration": 60,
        "start_time": "2021-11-19T09:45:40.974Z"
      },
      {
        "duration": 55,
        "start_time": "2021-11-19T09:45:56.214Z"
      },
      {
        "duration": 66,
        "start_time": "2021-11-19T09:46:02.738Z"
      },
      {
        "duration": 80,
        "start_time": "2021-11-19T09:46:37.122Z"
      },
      {
        "duration": 65,
        "start_time": "2021-11-19T09:48:32.169Z"
      },
      {
        "duration": 69,
        "start_time": "2021-11-19T09:53:20.078Z"
      },
      {
        "duration": 55,
        "start_time": "2021-11-19T09:53:21.850Z"
      },
      {
        "duration": 4,
        "start_time": "2021-11-19T10:03:32.568Z"
      },
      {
        "duration": 5,
        "start_time": "2021-11-19T10:03:35.072Z"
      },
      {
        "duration": 2092,
        "start_time": "2021-11-19T10:19:08.571Z"
      },
      {
        "duration": 23,
        "start_time": "2021-11-19T10:19:14.564Z"
      },
      {
        "duration": 2312,
        "start_time": "2021-11-19T10:19:16.548Z"
      },
      {
        "duration": 2212,
        "start_time": "2021-11-19T10:19:26.325Z"
      },
      {
        "duration": 2236,
        "start_time": "2021-11-19T10:19:56.928Z"
      },
      {
        "duration": 3,
        "start_time": "2021-11-19T10:20:03.680Z"
      },
      {
        "duration": 158,
        "start_time": "2021-11-19T10:20:03.684Z"
      },
      {
        "duration": 10,
        "start_time": "2021-11-19T10:20:03.844Z"
      },
      {
        "duration": 34,
        "start_time": "2021-11-19T10:20:03.856Z"
      },
      {
        "duration": 33,
        "start_time": "2021-11-19T10:20:03.893Z"
      },
      {
        "duration": 47,
        "start_time": "2021-11-19T10:20:03.928Z"
      },
      {
        "duration": 6,
        "start_time": "2021-11-19T10:20:03.977Z"
      },
      {
        "duration": 59,
        "start_time": "2021-11-19T10:20:03.985Z"
      },
      {
        "duration": 34,
        "start_time": "2021-11-19T10:20:04.045Z"
      },
      {
        "duration": 33,
        "start_time": "2021-11-19T10:20:04.082Z"
      },
      {
        "duration": 73,
        "start_time": "2021-11-19T10:20:04.117Z"
      },
      {
        "duration": 71,
        "start_time": "2021-11-19T10:20:04.193Z"
      },
      {
        "duration": 70,
        "start_time": "2021-11-19T10:20:04.266Z"
      },
      {
        "duration": 7,
        "start_time": "2021-11-19T10:20:04.338Z"
      },
      {
        "duration": 26,
        "start_time": "2021-11-19T10:20:04.346Z"
      },
      {
        "duration": 31,
        "start_time": "2021-11-19T10:20:04.373Z"
      },
      {
        "duration": 29,
        "start_time": "2021-11-19T10:20:04.407Z"
      },
      {
        "duration": 42,
        "start_time": "2021-11-19T10:20:04.438Z"
      },
      {
        "duration": 33,
        "start_time": "2021-11-19T10:20:04.481Z"
      },
      {
        "duration": 26,
        "start_time": "2021-11-19T10:20:04.516Z"
      },
      {
        "duration": 62,
        "start_time": "2021-11-19T10:20:04.543Z"
      },
      {
        "duration": 22,
        "start_time": "2021-11-19T10:20:04.607Z"
      },
      {
        "duration": 58,
        "start_time": "2021-11-19T10:20:04.631Z"
      },
      {
        "duration": 41,
        "start_time": "2021-11-19T10:20:04.691Z"
      },
      {
        "duration": 37,
        "start_time": "2021-11-19T10:20:04.733Z"
      },
      {
        "duration": 30,
        "start_time": "2021-11-19T10:20:04.772Z"
      },
      {
        "duration": 76,
        "start_time": "2021-11-19T10:20:04.804Z"
      },
      {
        "duration": 22,
        "start_time": "2021-11-19T10:20:04.883Z"
      },
      {
        "duration": 5,
        "start_time": "2021-11-19T10:20:04.907Z"
      },
      {
        "duration": 71,
        "start_time": "2021-11-19T10:20:04.913Z"
      },
      {
        "duration": 199,
        "start_time": "2021-11-19T10:20:04.986Z"
      },
      {
        "duration": 2098,
        "start_time": "2021-11-19T10:20:03.088Z"
      },
      {
        "duration": 2096,
        "start_time": "2021-11-19T10:20:03.091Z"
      },
      {
        "duration": 2094,
        "start_time": "2021-11-19T10:20:03.094Z"
      },
      {
        "duration": 2086,
        "start_time": "2021-11-19T10:20:03.103Z"
      },
      {
        "duration": 2084,
        "start_time": "2021-11-19T10:20:03.106Z"
      },
      {
        "duration": 2083,
        "start_time": "2021-11-19T10:20:03.109Z"
      },
      {
        "duration": 23,
        "start_time": "2021-11-19T10:20:50.012Z"
      },
      {
        "duration": 62,
        "start_time": "2021-11-19T10:22:09.212Z"
      },
      {
        "duration": 59,
        "start_time": "2021-11-19T10:24:01.084Z"
      },
      {
        "duration": 56,
        "start_time": "2021-11-19T10:24:08.980Z"
      },
      {
        "duration": 52,
        "start_time": "2021-11-19T10:24:21.304Z"
      },
      {
        "duration": 57,
        "start_time": "2021-11-19T10:24:46.087Z"
      },
      {
        "duration": 52,
        "start_time": "2021-11-19T10:25:07.948Z"
      },
      {
        "duration": 53,
        "start_time": "2021-11-19T10:25:08.848Z"
      },
      {
        "duration": 52,
        "start_time": "2021-11-19T10:25:09.540Z"
      },
      {
        "duration": 2,
        "start_time": "2021-11-19T10:25:20.236Z"
      },
      {
        "duration": 168,
        "start_time": "2021-11-19T10:25:20.241Z"
      },
      {
        "duration": 11,
        "start_time": "2021-11-19T10:25:20.411Z"
      },
      {
        "duration": 36,
        "start_time": "2021-11-19T10:25:20.425Z"
      },
      {
        "duration": 16,
        "start_time": "2021-11-19T10:25:20.463Z"
      },
      {
        "duration": 34,
        "start_time": "2021-11-19T10:25:20.481Z"
      },
      {
        "duration": 10,
        "start_time": "2021-11-19T10:25:20.517Z"
      },
      {
        "duration": 46,
        "start_time": "2021-11-19T10:25:20.529Z"
      },
      {
        "duration": 65,
        "start_time": "2021-11-19T10:25:20.579Z"
      },
      {
        "duration": 35,
        "start_time": "2021-11-19T10:25:20.647Z"
      },
      {
        "duration": 80,
        "start_time": "2021-11-19T10:25:20.684Z"
      },
      {
        "duration": 64,
        "start_time": "2021-11-19T10:25:20.766Z"
      },
      {
        "duration": 45,
        "start_time": "2021-11-19T10:25:20.832Z"
      },
      {
        "duration": 12,
        "start_time": "2021-11-19T10:25:20.879Z"
      },
      {
        "duration": 3,
        "start_time": "2021-11-19T10:25:20.894Z"
      },
      {
        "duration": 12,
        "start_time": "2021-11-19T10:25:20.899Z"
      },
      {
        "duration": 5,
        "start_time": "2021-11-19T10:25:20.912Z"
      },
      {
        "duration": 21,
        "start_time": "2021-11-19T10:25:20.919Z"
      },
      {
        "duration": 55,
        "start_time": "2021-11-19T10:25:20.941Z"
      },
      {
        "duration": 6,
        "start_time": "2021-11-19T10:25:20.998Z"
      },
      {
        "duration": 21,
        "start_time": "2021-11-19T10:25:21.006Z"
      },
      {
        "duration": 12,
        "start_time": "2021-11-19T10:25:21.029Z"
      },
      {
        "duration": 16,
        "start_time": "2021-11-19T10:25:21.042Z"
      },
      {
        "duration": 34,
        "start_time": "2021-11-19T10:25:21.062Z"
      },
      {
        "duration": 18,
        "start_time": "2021-11-19T10:25:21.099Z"
      },
      {
        "duration": 16,
        "start_time": "2021-11-19T10:25:21.118Z"
      },
      {
        "duration": 88,
        "start_time": "2021-11-19T10:25:21.135Z"
      },
      {
        "duration": 21,
        "start_time": "2021-11-19T10:25:21.225Z"
      },
      {
        "duration": 4,
        "start_time": "2021-11-19T10:25:21.247Z"
      },
      {
        "duration": 21,
        "start_time": "2021-11-19T10:25:21.253Z"
      },
      {
        "duration": 185,
        "start_time": "2021-11-19T10:25:21.276Z"
      },
      {
        "duration": 2101,
        "start_time": "2021-11-19T10:25:19.361Z"
      },
      {
        "duration": 2100,
        "start_time": "2021-11-19T10:25:19.363Z"
      },
      {
        "duration": 2099,
        "start_time": "2021-11-19T10:25:19.365Z"
      },
      {
        "duration": 2097,
        "start_time": "2021-11-19T10:25:19.368Z"
      },
      {
        "duration": 2096,
        "start_time": "2021-11-19T10:25:19.370Z"
      },
      {
        "duration": 2094,
        "start_time": "2021-11-19T10:25:19.373Z"
      },
      {
        "duration": 46,
        "start_time": "2021-11-19T10:25:45.815Z"
      },
      {
        "duration": 63,
        "start_time": "2021-11-19T10:31:58.289Z"
      },
      {
        "duration": 60,
        "start_time": "2021-11-19T10:32:09.673Z"
      },
      {
        "duration": 6,
        "start_time": "2021-11-19T10:32:13.641Z"
      },
      {
        "duration": 175,
        "start_time": "2021-11-19T10:33:09.881Z"
      },
      {
        "duration": 176,
        "start_time": "2021-11-19T10:33:18.404Z"
      },
      {
        "duration": 64,
        "start_time": "2021-11-19T10:33:28.169Z"
      },
      {
        "duration": 58,
        "start_time": "2021-11-19T10:33:29.441Z"
      },
      {
        "duration": 6,
        "start_time": "2021-11-19T10:33:32.864Z"
      },
      {
        "duration": 41,
        "start_time": "2021-11-19T10:34:48.244Z"
      },
      {
        "duration": 49,
        "start_time": "2021-11-19T10:34:51.964Z"
      },
      {
        "duration": 3,
        "start_time": "2021-11-19T10:36:16.419Z"
      },
      {
        "duration": 19,
        "start_time": "2021-11-19T10:36:20.592Z"
      },
      {
        "duration": 6,
        "start_time": "2021-11-19T10:36:27.748Z"
      },
      {
        "duration": 43,
        "start_time": "2021-11-19T10:36:41.788Z"
      },
      {
        "duration": 52,
        "start_time": "2021-11-19T10:37:43.263Z"
      },
      {
        "duration": 24,
        "start_time": "2021-11-19T10:39:03.991Z"
      },
      {
        "duration": 19,
        "start_time": "2021-11-19T10:39:23.027Z"
      },
      {
        "duration": 187,
        "start_time": "2021-11-19T10:41:48.554Z"
      },
      {
        "duration": 19,
        "start_time": "2021-11-19T10:41:56.878Z"
      },
      {
        "duration": 18,
        "start_time": "2021-11-19T10:41:58.706Z"
      },
      {
        "duration": 177,
        "start_time": "2021-11-19T10:42:34.667Z"
      },
      {
        "duration": 175,
        "start_time": "2021-11-19T10:42:55.114Z"
      },
      {
        "duration": 49,
        "start_time": "2021-11-19T10:43:03.982Z"
      },
      {
        "duration": 32,
        "start_time": "2021-11-19T10:43:07.549Z"
      },
      {
        "duration": 34,
        "start_time": "2021-11-19T10:43:15.623Z"
      },
      {
        "duration": 16,
        "start_time": "2021-11-19T10:43:45.414Z"
      },
      {
        "duration": 10,
        "start_time": "2021-11-19T10:43:50.258Z"
      },
      {
        "duration": 10,
        "start_time": "2021-11-19T10:43:52.010Z"
      },
      {
        "duration": 12,
        "start_time": "2021-11-19T10:45:12.186Z"
      },
      {
        "duration": 9,
        "start_time": "2021-11-19T10:45:14.566Z"
      },
      {
        "duration": 10,
        "start_time": "2021-11-19T10:45:25.378Z"
      },
      {
        "duration": 9,
        "start_time": "2021-11-19T10:45:26.742Z"
      },
      {
        "duration": 3,
        "start_time": "2021-11-19T10:45:31.542Z"
      },
      {
        "duration": 166,
        "start_time": "2021-11-19T10:45:31.548Z"
      },
      {
        "duration": 11,
        "start_time": "2021-11-19T10:45:31.716Z"
      },
      {
        "duration": 30,
        "start_time": "2021-11-19T10:45:31.729Z"
      },
      {
        "duration": 3,
        "start_time": "2021-11-19T10:45:31.761Z"
      },
      {
        "duration": 39,
        "start_time": "2021-11-19T10:45:31.766Z"
      },
      {
        "duration": 4,
        "start_time": "2021-11-19T10:45:31.807Z"
      },
      {
        "duration": 25,
        "start_time": "2021-11-19T10:45:31.812Z"
      },
      {
        "duration": 24,
        "start_time": "2021-11-19T10:45:31.839Z"
      },
      {
        "duration": 48,
        "start_time": "2021-11-19T10:45:31.865Z"
      },
      {
        "duration": 52,
        "start_time": "2021-11-19T10:45:31.914Z"
      },
      {
        "duration": 79,
        "start_time": "2021-11-19T10:45:31.968Z"
      },
      {
        "duration": 60,
        "start_time": "2021-11-19T10:45:32.049Z"
      },
      {
        "duration": 38,
        "start_time": "2021-11-19T10:45:32.110Z"
      },
      {
        "duration": 2,
        "start_time": "2021-11-19T10:45:32.150Z"
      },
      {
        "duration": 20,
        "start_time": "2021-11-19T10:45:32.154Z"
      },
      {
        "duration": 56,
        "start_time": "2021-11-19T10:45:32.175Z"
      },
      {
        "duration": 13,
        "start_time": "2021-11-19T10:45:32.233Z"
      },
      {
        "duration": 45,
        "start_time": "2021-11-19T10:45:32.248Z"
      },
      {
        "duration": 5,
        "start_time": "2021-11-19T10:45:32.295Z"
      },
      {
        "duration": 26,
        "start_time": "2021-11-19T10:45:32.302Z"
      },
      {
        "duration": 12,
        "start_time": "2021-11-19T10:45:32.329Z"
      },
      {
        "duration": 16,
        "start_time": "2021-11-19T10:45:32.343Z"
      },
      {
        "duration": 28,
        "start_time": "2021-11-19T10:45:32.363Z"
      },
      {
        "duration": 18,
        "start_time": "2021-11-19T10:45:32.394Z"
      },
      {
        "duration": 11,
        "start_time": "2021-11-19T10:45:32.414Z"
      },
      {
        "duration": 89,
        "start_time": "2021-11-19T10:45:32.427Z"
      },
      {
        "duration": 20,
        "start_time": "2021-11-19T10:45:32.517Z"
      },
      {
        "duration": 16,
        "start_time": "2021-11-19T10:45:32.539Z"
      },
      {
        "duration": 8,
        "start_time": "2021-11-19T10:45:32.557Z"
      },
      {
        "duration": 50,
        "start_time": "2021-11-19T10:45:32.567Z"
      },
      {
        "duration": 28,
        "start_time": "2021-11-19T10:45:32.618Z"
      },
      {
        "duration": 37,
        "start_time": "2021-11-19T10:45:32.647Z"
      },
      {
        "duration": 28,
        "start_time": "2021-11-19T10:45:32.685Z"
      },
      {
        "duration": 13,
        "start_time": "2021-11-19T10:45:32.715Z"
      },
      {
        "duration": 19,
        "start_time": "2021-11-19T10:45:32.730Z"
      },
      {
        "duration": 17,
        "start_time": "2021-11-19T10:45:32.750Z"
      },
      {
        "duration": 14,
        "start_time": "2021-11-19T10:45:32.769Z"
      },
      {
        "duration": 8,
        "start_time": "2021-11-19T10:46:30.445Z"
      },
      {
        "duration": 9,
        "start_time": "2021-11-19T10:46:37.950Z"
      },
      {
        "duration": 55,
        "start_time": "2021-11-19T10:47:01.654Z"
      },
      {
        "duration": 62,
        "start_time": "2021-11-19T10:47:49.917Z"
      },
      {
        "duration": 57,
        "start_time": "2021-11-19T10:48:17.553Z"
      },
      {
        "duration": 177,
        "start_time": "2021-11-19T10:48:24.197Z"
      },
      {
        "duration": 8,
        "start_time": "2021-11-19T10:48:39.769Z"
      },
      {
        "duration": 7,
        "start_time": "2021-11-19T10:48:41.150Z"
      },
      {
        "duration": 9,
        "start_time": "2021-11-19T10:48:59.981Z"
      },
      {
        "duration": 61,
        "start_time": "2021-11-19T10:50:47.201Z"
      },
      {
        "duration": 59,
        "start_time": "2021-11-19T10:51:39.305Z"
      },
      {
        "duration": 3,
        "start_time": "2021-11-19T10:52:58.585Z"
      },
      {
        "duration": 615,
        "start_time": "2021-11-19T13:33:55.959Z"
      },
      {
        "duration": 156,
        "start_time": "2021-11-19T13:33:56.576Z"
      },
      {
        "duration": 16,
        "start_time": "2021-11-19T13:33:56.734Z"
      },
      {
        "duration": 23,
        "start_time": "2021-11-19T13:33:56.752Z"
      },
      {
        "duration": 6,
        "start_time": "2021-11-19T13:33:56.792Z"
      },
      {
        "duration": 25,
        "start_time": "2021-11-19T13:33:56.800Z"
      },
      {
        "duration": 3,
        "start_time": "2021-11-19T13:33:56.827Z"
      },
      {
        "duration": 25,
        "start_time": "2021-11-19T13:33:56.833Z"
      },
      {
        "duration": 59,
        "start_time": "2021-11-19T13:33:56.860Z"
      },
      {
        "duration": 22,
        "start_time": "2021-11-19T13:33:56.921Z"
      },
      {
        "duration": 79,
        "start_time": "2021-11-19T13:33:56.944Z"
      },
      {
        "duration": 80,
        "start_time": "2021-11-19T13:33:57.025Z"
      },
      {
        "duration": 53,
        "start_time": "2021-11-19T13:33:57.107Z"
      },
      {
        "duration": 63,
        "start_time": "2021-11-19T13:33:57.162Z"
      },
      {
        "duration": 3,
        "start_time": "2021-11-19T13:33:57.227Z"
      },
      {
        "duration": 16,
        "start_time": "2021-11-19T13:33:57.232Z"
      },
      {
        "duration": 64,
        "start_time": "2021-11-19T13:33:57.250Z"
      },
      {
        "duration": 10,
        "start_time": "2021-11-19T13:33:57.316Z"
      },
      {
        "duration": 11,
        "start_time": "2021-11-19T13:33:57.328Z"
      },
      {
        "duration": 5,
        "start_time": "2021-11-19T13:33:57.340Z"
      },
      {
        "duration": 45,
        "start_time": "2021-11-19T13:33:57.347Z"
      },
      {
        "duration": 21,
        "start_time": "2021-11-19T13:33:57.396Z"
      },
      {
        "duration": 21,
        "start_time": "2021-11-19T13:33:57.423Z"
      },
      {
        "duration": 14,
        "start_time": "2021-11-19T13:33:57.446Z"
      },
      {
        "duration": 47,
        "start_time": "2021-11-19T13:33:57.461Z"
      },
      {
        "duration": 14,
        "start_time": "2021-11-19T13:33:57.511Z"
      },
      {
        "duration": 89,
        "start_time": "2021-11-19T13:33:57.527Z"
      },
      {
        "duration": 19,
        "start_time": "2021-11-19T13:33:57.617Z"
      },
      {
        "duration": 17,
        "start_time": "2021-11-19T13:33:57.637Z"
      },
      {
        "duration": 3,
        "start_time": "2021-11-19T13:33:57.656Z"
      },
      {
        "duration": 47,
        "start_time": "2021-11-19T13:33:57.661Z"
      },
      {
        "duration": 14,
        "start_time": "2021-11-19T13:33:57.711Z"
      },
      {
        "duration": 37,
        "start_time": "2021-11-19T13:33:57.728Z"
      },
      {
        "duration": 27,
        "start_time": "2021-11-19T13:33:57.767Z"
      },
      {
        "duration": 28,
        "start_time": "2021-11-19T13:33:57.797Z"
      },
      {
        "duration": 27,
        "start_time": "2021-11-19T13:33:57.827Z"
      },
      {
        "duration": 18,
        "start_time": "2021-11-19T13:33:57.856Z"
      },
      {
        "duration": 9,
        "start_time": "2021-11-19T13:33:57.876Z"
      }
    ],
    "colab": {
      "collapsed_sections": [
        "E0vqbgi9ay0H",
        "VUC88oWjTJw2"
      ],
      "name": "yandex_music_project_2021.2.ipynb",
      "provenance": []
    },
    "kernelspec": {
      "name": "python",
      "display_name": "Python (Pyodide)",
      "language": "python"
    },
    "language_info": {
      "codemirror_mode": {
        "name": "python",
        "version": 3
      },
      "file_extension": ".py",
      "mimetype": "text/x-python",
      "name": "python",
      "nbconvert_exporter": "python",
      "pygments_lexer": "ipython3",
      "version": "3.8"
    },
    "toc": {
      "base_numbering": 1,
      "nav_menu": {
        "height": "243.991px",
        "width": "297.997px"
      },
      "number_sections": true,
      "sideBar": true,
      "skip_h1_title": true,
      "title_cell": "Table of Contents",
      "title_sidebar": "Contents",
      "toc_cell": false,
      "toc_position": {
        "height": "calc(100% - 180px)",
        "left": "10px",
        "top": "150px",
        "width": "366.188px"
      },
      "toc_section_display": true,
      "toc_window_display": true
    }
  },
  "nbformat_minor": 4,
  "nbformat": 4,
  "cells": [
    {
      "cell_type": "markdown",
      "source": "# Яндекс.Музыка",
      "metadata": {
        "id": "E0vqbgi9ay0H"
      }
    },
    {
      "cell_type": "markdown",
      "source": "Сравнение Москвы и Петербурга окружено мифами. Например:\n * Москва — мегаполис, подчинённый жёсткому ритму рабочей недели;\n * Петербург — культурная столица, со своими вкусами.\n\nНа данных Яндекс.Музыки вы сравните поведение пользователей двух столиц.\n\n**Цель исследования** — проверьте три гипотезы:\n1. Активность пользователей зависит от дня недели. Причём в Москве и Петербурге это проявляется по-разному.\n2. В понедельник утром в Москве преобладают одни жанры, а в Петербурге — другие. Так же и вечером пятницы преобладают разные жанры — в зависимости от города. \n3. Москва и Петербург предпочитают разные жанры музыки. В Москве чаще слушают поп-музыку, в Петербурге — русский рэп.\n\n**Ход исследования**\n\nДанные о поведении пользователей вы получите из файла `yandex_music_project.csv`. О качестве данных ничего не известно. Поэтому перед проверкой гипотез понадобится обзор данных. \n\nВы проверите данные на ошибки и оцените их влияние на исследование. Затем, на этапе предобработки вы поищете возможность исправить самые критичные ошибки данных.\n \nТаким образом, исследование пройдёт в три этапа:\n 1. Обзор данных.\n 2. Предобработка данных.\n 3. Проверка гипотез.\n\n",
      "metadata": {
        "id": "VUC88oWjTJw2"
      }
    },
    {
      "cell_type": "markdown",
      "source": "## Обзор данных\n\nСоставьте первое представление о данных Яндекс.Музыки.\n\n\n",
      "metadata": {
        "id": "Ml1hmfXC_Zcs"
      }
    },
    {
      "cell_type": "markdown",
      "source": "Основной инструмент аналитика — `pandas`. Импортируйте эту библиотеку.",
      "metadata": {
        "id": "57eAOGIz_Zcs"
      }
    },
    {
      "cell_type": "code",
      "source": "# импорт библиотеки pandas\nimport pandas as pd",
      "metadata": {
        "id": "AXN7PHPN_Zcs"
      },
      "execution_count": 1,
      "outputs": []
    },
    {
      "cell_type": "markdown",
      "source": "Прочитайте файл `yandex_music_project.csv` из папки `/datasets` и сохраните его в переменной `df`:",
      "metadata": {
        "id": "SG23P8tt_Zcs"
      }
    },
    {
      "cell_type": "code",
      "source": "# чтение файла с данными и сохранение в df\ndf = pd.read_csv('/datasets/yandex_music_project.csv')",
      "metadata": {
        "id": "fFVu7vqh_Zct"
      },
      "execution_count": 2,
      "outputs": []
    },
    {
      "cell_type": "markdown",
      "source": "Выведите на экран первые десять строк таблицы:",
      "metadata": {
        "id": "rDoOMd3uTqnZ"
      }
    },
    {
      "cell_type": "code",
      "source": "# получение первых 10 строк таблицы df\ndf.head(10)",
      "metadata": {
        "id": "oWTVX3gW_Zct"
      },
      "execution_count": 3,
      "outputs": [
        {
          "execution_count": 3,
          "output_type": "execute_result",
          "data": {
            "text/html": [
              "<div>\n",
              "<style scoped>\n",
              "    .dataframe tbody tr th:only-of-type {\n",
              "        vertical-align: middle;\n",
              "    }\n",
              "\n",
              "    .dataframe tbody tr th {\n",
              "        vertical-align: top;\n",
              "    }\n",
              "\n",
              "    .dataframe thead th {\n",
              "        text-align: right;\n",
              "    }\n",
              "</style>\n",
              "<table border=\"1\" class=\"dataframe\">\n",
              "  <thead>\n",
              "    <tr style=\"text-align: right;\">\n",
              "      <th></th>\n",
              "      <th>userID</th>\n",
              "      <th>Track</th>\n",
              "      <th>artist</th>\n",
              "      <th>genre</th>\n",
              "      <th>City</th>\n",
              "      <th>time</th>\n",
              "      <th>Day</th>\n",
              "    </tr>\n",
              "  </thead>\n",
              "  <tbody>\n",
              "    <tr>\n",
              "      <td>0</td>\n",
              "      <td>FFB692EC</td>\n",
              "      <td>Kamigata To Boots</td>\n",
              "      <td>The Mass Missile</td>\n",
              "      <td>rock</td>\n",
              "      <td>Saint-Petersburg</td>\n",
              "      <td>20:28:33</td>\n",
              "      <td>Wednesday</td>\n",
              "    </tr>\n",
              "    <tr>\n",
              "      <td>1</td>\n",
              "      <td>55204538</td>\n",
              "      <td>Delayed Because of Accident</td>\n",
              "      <td>Andreas Rönnberg</td>\n",
              "      <td>rock</td>\n",
              "      <td>Moscow</td>\n",
              "      <td>14:07:09</td>\n",
              "      <td>Friday</td>\n",
              "    </tr>\n",
              "    <tr>\n",
              "      <td>2</td>\n",
              "      <td>20EC38</td>\n",
              "      <td>Funiculì funiculà</td>\n",
              "      <td>Mario Lanza</td>\n",
              "      <td>pop</td>\n",
              "      <td>Saint-Petersburg</td>\n",
              "      <td>20:58:07</td>\n",
              "      <td>Wednesday</td>\n",
              "    </tr>\n",
              "    <tr>\n",
              "      <td>3</td>\n",
              "      <td>A3DD03C9</td>\n",
              "      <td>Dragons in the Sunset</td>\n",
              "      <td>Fire + Ice</td>\n",
              "      <td>folk</td>\n",
              "      <td>Saint-Petersburg</td>\n",
              "      <td>08:37:09</td>\n",
              "      <td>Monday</td>\n",
              "    </tr>\n",
              "    <tr>\n",
              "      <td>4</td>\n",
              "      <td>E2DC1FAE</td>\n",
              "      <td>Soul People</td>\n",
              "      <td>Space Echo</td>\n",
              "      <td>dance</td>\n",
              "      <td>Moscow</td>\n",
              "      <td>08:34:34</td>\n",
              "      <td>Monday</td>\n",
              "    </tr>\n",
              "    <tr>\n",
              "      <td>5</td>\n",
              "      <td>842029A1</td>\n",
              "      <td>Преданная</td>\n",
              "      <td>IMPERVTOR</td>\n",
              "      <td>rusrap</td>\n",
              "      <td>Saint-Petersburg</td>\n",
              "      <td>13:09:41</td>\n",
              "      <td>Friday</td>\n",
              "    </tr>\n",
              "    <tr>\n",
              "      <td>6</td>\n",
              "      <td>4CB90AA5</td>\n",
              "      <td>True</td>\n",
              "      <td>Roman Messer</td>\n",
              "      <td>dance</td>\n",
              "      <td>Moscow</td>\n",
              "      <td>13:00:07</td>\n",
              "      <td>Wednesday</td>\n",
              "    </tr>\n",
              "    <tr>\n",
              "      <td>7</td>\n",
              "      <td>F03E1C1F</td>\n",
              "      <td>Feeling This Way</td>\n",
              "      <td>Polina Griffith</td>\n",
              "      <td>dance</td>\n",
              "      <td>Moscow</td>\n",
              "      <td>20:47:49</td>\n",
              "      <td>Wednesday</td>\n",
              "    </tr>\n",
              "    <tr>\n",
              "      <td>8</td>\n",
              "      <td>8FA1D3BE</td>\n",
              "      <td>И вновь продолжается бой</td>\n",
              "      <td>NaN</td>\n",
              "      <td>ruspop</td>\n",
              "      <td>Moscow</td>\n",
              "      <td>09:17:40</td>\n",
              "      <td>Friday</td>\n",
              "    </tr>\n",
              "    <tr>\n",
              "      <td>9</td>\n",
              "      <td>E772D5C0</td>\n",
              "      <td>Pessimist</td>\n",
              "      <td>NaN</td>\n",
              "      <td>dance</td>\n",
              "      <td>Saint-Petersburg</td>\n",
              "      <td>21:20:49</td>\n",
              "      <td>Wednesday</td>\n",
              "    </tr>\n",
              "  </tbody>\n",
              "</table>\n",
              "</div>"
            ],
            "text/plain": [
              "     userID                        Track            artist   genre  \\\n",
              "0  FFB692EC            Kamigata To Boots  The Mass Missile    rock   \n",
              "1  55204538  Delayed Because of Accident  Andreas Rönnberg    rock   \n",
              "2    20EC38            Funiculì funiculà       Mario Lanza     pop   \n",
              "3  A3DD03C9        Dragons in the Sunset        Fire + Ice    folk   \n",
              "4  E2DC1FAE                  Soul People        Space Echo   dance   \n",
              "5  842029A1                    Преданная         IMPERVTOR  rusrap   \n",
              "6  4CB90AA5                         True      Roman Messer   dance   \n",
              "7  F03E1C1F             Feeling This Way   Polina Griffith   dance   \n",
              "8  8FA1D3BE     И вновь продолжается бой               NaN  ruspop   \n",
              "9  E772D5C0                    Pessimist               NaN   dance   \n",
              "\n",
              "             City        time        Day  \n",
              "0  Saint-Petersburg  20:28:33  Wednesday  \n",
              "1            Moscow  14:07:09     Friday  \n",
              "2  Saint-Petersburg  20:58:07  Wednesday  \n",
              "3  Saint-Petersburg  08:37:09     Monday  \n",
              "4            Moscow  08:34:34     Monday  \n",
              "5  Saint-Petersburg  13:09:41     Friday  \n",
              "6            Moscow  13:00:07  Wednesday  \n",
              "7            Moscow  20:47:49  Wednesday  \n",
              "8            Moscow  09:17:40     Friday  \n",
              "9  Saint-Petersburg  21:20:49  Wednesday  "
            ]
          },
          "metadata": {}
        }
      ]
    },
    {
      "cell_type": "markdown",
      "source": "Одной командой получить общую информацию о таблице:",
      "metadata": {
        "id": "EO73Kwic_Zct"
      }
    },
    {
      "cell_type": "code",
      "source": "# получение общей информации о данных в таблице df\ndf.info()",
      "metadata": {
        "id": "DSf2kIb-_Zct"
      },
      "execution_count": 4,
      "outputs": [
        {
          "name": "stdout",
          "output_type": "stream",
          "text": "<class 'pandas.core.frame.DataFrame'>\n\nRangeIndex: 65079 entries, 0 to 65078\n\nData columns (total 7 columns):\n\n  userID    65079 non-null object\n\nTrack       63848 non-null object\n\nartist      57876 non-null object\n\ngenre       63881 non-null object\n\n  City      65079 non-null object\n\ntime        65079 non-null object\n\nDay         65079 non-null object\n\ndtypes: object(7)\n\nmemory usage: 3.5+ MB\n"
        }
      ]
    },
    {
      "cell_type": "markdown",
      "source": "Итак, в таблице семь столбцов. Тип данных во всех столбцах — `object`.\n\nСогласно документации к данным:\n* `userID` — идентификатор пользователя;\n* `Track` — название трека;  \n* `artist` — имя исполнителя;\n* `genre` — название жанра;\n* `City` — город пользователя;\n* `time` — время начала прослушивания;\n* `Day` — день недели.\n\nВ названиях колонок видны три нарушения стиля:\n1. Строчные буквы сочетаются с прописными.\n2. Встречаются пробелы.\n3. Найдите ещё одну проблему в названии колонок и опишите её в этом пункте.\n**Комментарий студента** - третье нарушение стиля заключается в присваивании не совсем правильного названия столбцу \"время начала прослушивания\". По названию столбца можно решить, что это общее время прослушивания. Или вообще не понять, что это за время. Считаю, что правильнее было бы назвать столбец \"sl_time\" - start listening time.\n\n\n\nКоличество значений в столбцах различается. Значит, в данных есть пропущенные значения.\n",
      "metadata": {
        "id": "TaQ2Iwbr_Zct"
      }
    },
    {
      "cell_type": "markdown",
      "source": "**Выводы**\n\nВ каждой строке таблицы — данные о прослушанном треке. Часть колонок описывает саму композицию: название, исполнителя и жанр. Остальные данные рассказывают о пользователе: из какого он города, когда он слушал музыку. \n\nПредварительно можно утверждать, что, данных достаточно для проверки гипотез. Но встречаются пропуски в данных, а в названиях колонок — расхождения с хорошим стилем.\n\nЧтобы двигаться дальше, нужно устранить проблемы в данных.",
      "metadata": {
        "id": "MCB6-dXG_Zct"
      }
    },
    {
      "cell_type": "markdown",
      "source": "## Предобработка данных\nИсправьте стиль в заголовках столбцов, исключите пропуски. Затем проверьте данные на дубликаты.",
      "metadata": {
        "id": "SjYF6Ub9_Zct"
      }
    },
    {
      "cell_type": "markdown",
      "source": "### Стиль заголовков\nВыведите на экран названия столбцов:",
      "metadata": {
        "id": "dIaKXr29_Zct"
      }
    },
    {
      "cell_type": "code",
      "source": "# перечень названий столбцов таблицы df\ndf.columns",
      "metadata": {
        "id": "oKOTdF_Q_Zct"
      },
      "execution_count": 5,
      "outputs": [
        {
          "execution_count": 5,
          "output_type": "execute_result",
          "data": {
            "text/plain": [
              "Index(['  userID', 'Track', 'artist', 'genre', '  City  ', 'time', 'Day'], dtype='object')"
            ]
          },
          "metadata": {}
        }
      ]
    },
    {
      "cell_type": "markdown",
      "source": "Приведите названия в соответствие с хорошим стилем:\n* несколько слов в названии запишите в «змеином_регистре»,\n* все символы сделайте строчными,\n* устраните пробелы.\n\nДля этого переименуйте колонки так:\n* `'  userID'` → `'user_id'`;\n* `'Track'` → `'track'`;\n* `'  City  '` → `'city'`;\n* `'Day'` → `'day'`.",
      "metadata": {
        "id": "zj5534cv_Zct"
      }
    },
    {
      "cell_type": "code",
      "source": "# переименование столбцов\ndf = df.rename(columns={'  userID': 'user_id', 'Track': 'track', '  City  ': 'city', 'Day' : 'day'})",
      "metadata": {
        "id": "ISlFqs5y_Zct"
      },
      "execution_count": 6,
      "outputs": []
    },
    {
      "cell_type": "markdown",
      "source": "Проверьте результат. Для этого ещё раз выведите на экран названия столбцов:",
      "metadata": {
        "id": "1dqbh00J_Zct"
      }
    },
    {
      "cell_type": "code",
      "source": "# проверка результатов - перечень названий столбцов\nprint(df.columns)",
      "metadata": {
        "id": "d4NOAmTW_Zct"
      },
      "execution_count": 7,
      "outputs": [
        {
          "name": "stdout",
          "output_type": "stream",
          "text": "Index(['user_id', 'track', 'artist', 'genre', 'city', 'time', 'day'], dtype='object')\n"
        }
      ]
    },
    {
      "cell_type": "markdown",
      "source": "### Пропуски значений\nСначала посчитайте, сколько в таблице пропущенных значений. Для этого достаточно двух методов `pandas`:",
      "metadata": {
        "id": "5ISfbcfY_Zct"
      }
    },
    {
      "cell_type": "code",
      "source": "# подсчёт пропусков\nprint(df.isna().sum())",
      "metadata": {
        "id": "RskX29qr_Zct"
      },
      "execution_count": 8,
      "outputs": [
        {
          "name": "stdout",
          "output_type": "stream",
          "text": "user_id       0\n\ntrack      1231\n\nartist     7203\n\ngenre      1198\n\ncity          0\n\ntime          0\n\nday           0\n\ndtype: int64\n"
        }
      ]
    },
    {
      "cell_type": "markdown",
      "source": "Не все пропущенные значения влияют на исследование. Так в `track` и `artist` пропуски не важны для вашей работы. Достаточно заменить их явными обозначениями.\n\nНо пропуски в `genre` могут помешать сравнению музыкальных вкусов в Москве и Санкт-Петербурге. На практике было бы правильно установить причину пропусков и восстановить данные. Такой возможности нет в учебном проекте. Придётся:\n* заполнить и эти пропуски явными обозначениями,\n* оценить, насколько они повредят расчётам. ",
      "metadata": {
        "id": "qubhgnlO_Zct"
      }
    },
    {
      "cell_type": "markdown",
      "source": "Замените пропущенные значения в столбцах `track`, `artist` и `genre` на строку `'unknown'`. Для этого создайте список `columns_to_replace`, переберите его элементы циклом `for` и для каждого столбца выполните замену пропущенных значений:",
      "metadata": {
        "id": "fSv2laPA_Zct"
      }
    },
    {
      "cell_type": "code",
      "source": "# перебор названий столбцов в цикле и замена пропущенных значений на 'unknown'    \ncolumns_to_replace = df.loc[:, 'track' : 'genre']\nfor i in columns_to_replace:\n    columns_to_replace[i] = columns_to_replace[i].fillna('unknown')\nprint(columns_to_replace)",
      "metadata": {
        "id": "KplB5qWs_Zct"
      },
      "execution_count": 9,
      "outputs": [
        {
          "name": "stdout",
          "output_type": "stream",
          "text": "                                   track            artist       genre\n\n0                      Kamigata To Boots  The Mass Missile        rock\n\n1            Delayed Because of Accident  Andreas Rönnberg        rock\n\n2                      Funiculì funiculà       Mario Lanza         pop\n\n3                  Dragons in the Sunset        Fire + Ice        folk\n\n4                            Soul People        Space Echo       dance\n\n...                                  ...               ...         ...\n\n65074                            My Name            McLean         rnb\n\n65075  Maybe One Day (feat. Black Spade)       Blu & Exile         hip\n\n65076                          Jalopiina           unknown  industrial\n\n65077                      Freight Train     Chas McDevitt        rock\n\n65078          Tell Me Sweet Little Lies      Monica Lopez     country\n\n\n\n[65079 rows x 3 columns]\n"
        },
        {
          "name": "stderr",
          "output_type": "stream",
          "text": "/opt/conda/lib/python3.7/site-packages/ipykernel_launcher.py:4: SettingWithCopyWarning: \n\nA value is trying to be set on a copy of a slice from a DataFrame.\n\nTry using .loc[row_indexer,col_indexer] = value instead\n\n\n\nSee the caveats in the documentation: http://pandas.pydata.org/pandas-docs/stable/user_guide/indexing.html#returning-a-view-versus-a-copy\n\n  after removing the cwd from sys.path.\n"
        }
      ]
    },
    {
      "cell_type": "markdown",
      "source": "Убедитесь, что в таблице не осталось пропусков. Для этого ещё раз посчитайте пропущенные значения.",
      "metadata": {
        "id": "Ilsm-MZo_Zct"
      }
    },
    {
      "cell_type": "code",
      "source": "# подсчёт пропусков\nprint(df.isna().sum())",
      "metadata": {
        "id": "Tq4nYRX4_Zct"
      },
      "execution_count": 10,
      "outputs": [
        {
          "name": "stdout",
          "output_type": "stream",
          "text": "user_id    0\n\ntrack      0\n\nartist     0\n\ngenre      0\n\ncity       0\n\ntime       0\n\nday        0\n\ndtype: int64\n"
        }
      ]
    },
    {
      "cell_type": "markdown",
      "source": "### Дубликаты\nПосчитайте явные дубликаты в таблице одной командой:",
      "metadata": {
        "id": "BWKRtBJ3_Zct"
      }
    },
    {
      "cell_type": "code",
      "source": "# подсчёт явных дубликатов\nprint(df.duplicated().sum())",
      "metadata": {
        "id": "36eES_S0_Zct"
      },
      "execution_count": 11,
      "outputs": [
        {
          "name": "stdout",
          "output_type": "stream",
          "text": "3826\n"
        }
      ]
    },
    {
      "cell_type": "markdown",
      "source": "Вызовите специальный метод `pandas`, чтобы удалить явные дубликаты:",
      "metadata": {
        "id": "Ot25h6XR_Zct"
      }
    },
    {
      "cell_type": "code",
      "source": "# удаление явных дубликатов (с удалением старых индексов и формированием новых)\ndf = df.drop_duplicates().reset_index(drop=True)",
      "metadata": {
        "id": "exFHq6tt_Zct"
      },
      "execution_count": 12,
      "outputs": []
    },
    {
      "cell_type": "markdown",
      "source": "Ещё раз посчитайте явные дубликаты в таблице — убедитесь, что полностью от них избавились:",
      "metadata": {
        "id": "Im2YwBEG_Zct"
      }
    },
    {
      "cell_type": "code",
      "source": "# проверка на отсутствие дубликатов\nprint(df.duplicated().sum())",
      "metadata": {
        "id": "-8PuNWQ0_Zct",
        "scrolled": true
      },
      "execution_count": 13,
      "outputs": [
        {
          "name": "stdout",
          "output_type": "stream",
          "text": "0\n"
        }
      ]
    },
    {
      "cell_type": "markdown",
      "source": "Теперь избавьтесь от неявных дубликатов в колонке `genre`. Например, название одного и того же жанра может быть записано немного по-разному. Такие ошибки тоже повлияют на результат исследования.",
      "metadata": {
        "id": "QlFBsxAr_Zct"
      }
    },
    {
      "cell_type": "markdown",
      "source": "Выведите на экран список уникальных названий жанров, отсортированный в алфавитном порядке. Для этого:\n* извлеките нужный столбец датафрейма, \n* примените к нему метод сортировки,\n* для отсортированного столбца вызовите метод, который вернёт уникальные значения из столбца.",
      "metadata": {
        "id": "eSjWwsOh_Zct"
      }
    },
    {
      "cell_type": "code",
      "source": "# Просмотр уникальных названий жанров\ndf['genre'].sort_values().unique()",
      "metadata": {
        "id": "JIUcqzZN_Zct"
      },
      "execution_count": 14,
      "outputs": [
        {
          "execution_count": 14,
          "output_type": "execute_result",
          "data": {
            "text/plain": [
              "array(['acid', 'acoustic', 'action', 'adult', 'africa', 'afrikaans',\n",
              "       'alternative', 'alternativepunk', 'ambient', 'americana',\n",
              "       'animated', 'anime', 'arabesk', 'arabic', 'arena',\n",
              "       'argentinetango', 'art', 'audiobook', 'author', 'avantgarde',\n",
              "       'axé', 'baile', 'balkan', 'beats', 'bigroom', 'black', 'bluegrass',\n",
              "       'blues', 'bollywood', 'bossa', 'brazilian', 'breakbeat', 'breaks',\n",
              "       'broadway', 'cantautori', 'cantopop', 'canzone', 'caribbean',\n",
              "       'caucasian', 'celtic', 'chamber', 'chanson', 'children', 'chill',\n",
              "       'chinese', 'choral', 'christian', 'christmas', 'classical',\n",
              "       'classicmetal', 'club', 'colombian', 'comedy', 'conjazz',\n",
              "       'contemporary', 'country', 'cuban', 'dance', 'dancehall',\n",
              "       'dancepop', 'dark', 'death', 'deep', 'deutschrock', 'deutschspr',\n",
              "       'dirty', 'disco', 'dnb', 'documentary', 'downbeat', 'downtempo',\n",
              "       'drum', 'dub', 'dubstep', 'eastern', 'easy', 'electronic',\n",
              "       'electropop', 'emo', 'entehno', 'epicmetal', 'estrada', 'ethnic',\n",
              "       'eurofolk', 'european', 'experimental', 'extrememetal', 'fado',\n",
              "       'fairytail', 'film', 'fitness', 'flamenco', 'folk', 'folklore',\n",
              "       'folkmetal', 'folkrock', 'folktronica', 'forró', 'frankreich',\n",
              "       'französisch', 'french', 'funk', 'future', 'gangsta', 'garage',\n",
              "       'german', 'ghazal', 'gitarre', 'glitch', 'gospel', 'gothic',\n",
              "       'grime', 'grunge', 'gypsy', 'handsup', \"hard'n'heavy\", 'hardcore',\n",
              "       'hardstyle', 'hardtechno', 'hip', 'hip-hop', 'hiphop',\n",
              "       'historisch', 'holiday', 'hop', 'horror', 'house', 'hymn', 'idm',\n",
              "       'independent', 'indian', 'indie', 'indipop', 'industrial',\n",
              "       'inspirational', 'instrumental', 'international', 'irish', 'jam',\n",
              "       'japanese', 'jazz', 'jewish', 'jpop', 'jungle', 'k-pop',\n",
              "       'karadeniz', 'karaoke', 'kayokyoku', 'korean', 'laiko', 'latin',\n",
              "       'latino', 'leftfield', 'local', 'lounge', 'loungeelectronic',\n",
              "       'lovers', 'malaysian', 'mandopop', 'marschmusik', 'meditative',\n",
              "       'mediterranean', 'melodic', 'metal', 'metalcore', 'mexican',\n",
              "       'middle', 'minimal', 'miscellaneous', 'modern', 'mood', 'mpb',\n",
              "       'muslim', 'native', 'neoklassik', 'neue', 'new', 'newage',\n",
              "       'newwave', 'nu', 'nujazz', 'numetal', 'oceania', 'old', 'opera',\n",
              "       'orchestral', 'other', 'piano', 'podcasts', 'pop', 'popdance',\n",
              "       'popelectronic', 'popeurodance', 'poprussian', 'post',\n",
              "       'posthardcore', 'postrock', 'power', 'progmetal', 'progressive',\n",
              "       'psychedelic', 'punjabi', 'punk', 'quebecois', 'ragga', 'ram',\n",
              "       'rancheras', 'rap', 'rave', 'reggae', 'reggaeton', 'regional',\n",
              "       'relax', 'religious', 'retro', 'rhythm', 'rnb', 'rnr', 'rock',\n",
              "       'rockabilly', 'rockalternative', 'rockindie', 'rockother',\n",
              "       'romance', 'roots', 'ruspop', 'rusrap', 'rusrock', 'russian',\n",
              "       'salsa', 'samba', 'scenic', 'schlager', 'self', 'sertanejo',\n",
              "       'shanson', 'shoegazing', 'showtunes', 'singer', 'ska', 'skarock',\n",
              "       'slow', 'smooth', 'soft', 'soul', 'soulful', 'sound', 'soundtrack',\n",
              "       'southern', 'specialty', 'speech', 'spiritual', 'sport',\n",
              "       'stonerrock', 'surf', 'swing', 'synthpop', 'synthrock',\n",
              "       'sängerportrait', 'tango', 'tanzorchester', 'taraftar', 'tatar',\n",
              "       'tech', 'techno', 'teen', 'thrash', 'top', 'traditional',\n",
              "       'tradjazz', 'trance', 'tribal', 'trip', 'triphop', 'tropical',\n",
              "       'türk', 'türkçe', 'ukrrock', 'unknown', 'urban', 'uzbek',\n",
              "       'variété', 'vi', 'videogame', 'vocal', 'western', 'world',\n",
              "       'worldbeat', 'ïîï', 'электроника'], dtype=object)"
            ]
          },
          "metadata": {}
        }
      ]
    },
    {
      "cell_type": "markdown",
      "source": "Просмотрите список и найдите неявные дубликаты названия `hiphop`. Это могут быть названия с ошибками или альтернативные названия того же жанра.\n\nВы увидите следующие неявные дубликаты:\n* *hip*,\n* *hop*,\n* *hip-hop*.\n\nЧтобы очистить от них таблицу, напишите функцию `replace_wrong_genres()` с двумя параметрами: \n* `wrong_genres` — список дубликатов,\n* `correct_genre` — строка с правильным значением.\n\nФункция должна исправить колонку `genre` в таблице `df`: заменить каждое значение из списка `wrong_genres` на значение из `correct_genre`.",
      "metadata": {
        "id": "qej-Qmuo_Zct"
      }
    },
    {
      "cell_type": "code",
      "source": "# Функция для замены неявных дубликатов\ndef replace_wrong_genres(wrong_genres, correct_genres):\n    for i in wrong_genres:\n        df['genre'] = df['genre'].replace(wrong_genres, correct_genres)",
      "metadata": {
        "id": "ErNDkmns_Zct"
      },
      "execution_count": 15,
      "outputs": []
    },
    {
      "cell_type": "markdown",
      "source": "Вызовите `replace_wrong_genres()` и передайте ей такие аргументы, чтобы она устранила неявные дубликаты: вместо `hip`, `hop` и `hip-hop` в таблице должно быть значение `hiphop`:",
      "metadata": {
        "id": "aDoBJxbA_Zct"
      }
    },
    {
      "cell_type": "code",
      "source": "# Устранение неявных дубликатов\nduplicates = ['hip', 'hop', 'hip-hop']\nname = 'hiphop'\nreplace_wrong_genres(duplicates, name)\n",
      "metadata": {
        "id": "YN5i2hpmSo09"
      },
      "execution_count": 16,
      "outputs": []
    },
    {
      "cell_type": "markdown",
      "source": "Проверьте, что заменили неправильные названия:\n\n*   hip\n*   hop\n*   hip-hop\n\nВыведите отсортированный список уникальных значений столбца `genre`:",
      "metadata": {
        "id": "zQKF16_RG15m"
      }
    },
    {
      "cell_type": "code",
      "source": "# Проверка на неявные дубликаты\nprint(df['genre'].sort_values().unique())",
      "metadata": {
        "id": "wvixALnFG15m"
      },
      "execution_count": 17,
      "outputs": [
        {
          "name": "stdout",
          "output_type": "stream",
          "text": "['acid' 'acoustic' 'action' 'adult' 'africa' 'afrikaans' 'alternative'\n\n 'alternativepunk' 'ambient' 'americana' 'animated' 'anime' 'arabesk'\n\n 'arabic' 'arena' 'argentinetango' 'art' 'audiobook' 'author' 'avantgarde'\n\n 'axé' 'baile' 'balkan' 'beats' 'bigroom' 'black' 'bluegrass' 'blues'\n\n 'bollywood' 'bossa' 'brazilian' 'breakbeat' 'breaks' 'broadway'\n\n 'cantautori' 'cantopop' 'canzone' 'caribbean' 'caucasian' 'celtic'\n\n 'chamber' 'chanson' 'children' 'chill' 'chinese' 'choral' 'christian'\n\n 'christmas' 'classical' 'classicmetal' 'club' 'colombian' 'comedy'\n\n 'conjazz' 'contemporary' 'country' 'cuban' 'dance' 'dancehall' 'dancepop'\n\n 'dark' 'death' 'deep' 'deutschrock' 'deutschspr' 'dirty' 'disco' 'dnb'\n\n 'documentary' 'downbeat' 'downtempo' 'drum' 'dub' 'dubstep' 'eastern'\n\n 'easy' 'electronic' 'electropop' 'emo' 'entehno' 'epicmetal' 'estrada'\n\n 'ethnic' 'eurofolk' 'european' 'experimental' 'extrememetal' 'fado'\n\n 'fairytail' 'film' 'fitness' 'flamenco' 'folk' 'folklore' 'folkmetal'\n\n 'folkrock' 'folktronica' 'forró' 'frankreich' 'französisch' 'french'\n\n 'funk' 'future' 'gangsta' 'garage' 'german' 'ghazal' 'gitarre' 'glitch'\n\n 'gospel' 'gothic' 'grime' 'grunge' 'gypsy' 'handsup' \"hard'n'heavy\"\n\n 'hardcore' 'hardstyle' 'hardtechno' 'hiphop' 'historisch' 'holiday'\n\n 'horror' 'house' 'hymn' 'idm' 'independent' 'indian' 'indie' 'indipop'\n\n 'industrial' 'inspirational' 'instrumental' 'international' 'irish' 'jam'\n\n 'japanese' 'jazz' 'jewish' 'jpop' 'jungle' 'k-pop' 'karadeniz' 'karaoke'\n\n 'kayokyoku' 'korean' 'laiko' 'latin' 'latino' 'leftfield' 'local'\n\n 'lounge' 'loungeelectronic' 'lovers' 'malaysian' 'mandopop' 'marschmusik'\n\n 'meditative' 'mediterranean' 'melodic' 'metal' 'metalcore' 'mexican'\n\n 'middle' 'minimal' 'miscellaneous' 'modern' 'mood' 'mpb' 'muslim'\n\n 'native' 'neoklassik' 'neue' 'new' 'newage' 'newwave' 'nu' 'nujazz'\n\n 'numetal' 'oceania' 'old' 'opera' 'orchestral' 'other' 'piano' 'podcasts'\n\n 'pop' 'popdance' 'popelectronic' 'popeurodance' 'poprussian' 'post'\n\n 'posthardcore' 'postrock' 'power' 'progmetal' 'progressive' 'psychedelic'\n\n 'punjabi' 'punk' 'quebecois' 'ragga' 'ram' 'rancheras' 'rap' 'rave'\n\n 'reggae' 'reggaeton' 'regional' 'relax' 'religious' 'retro' 'rhythm'\n\n 'rnb' 'rnr' 'rock' 'rockabilly' 'rockalternative' 'rockindie' 'rockother'\n\n 'romance' 'roots' 'ruspop' 'rusrap' 'rusrock' 'russian' 'salsa' 'samba'\n\n 'scenic' 'schlager' 'self' 'sertanejo' 'shanson' 'shoegazing' 'showtunes'\n\n 'singer' 'ska' 'skarock' 'slow' 'smooth' 'soft' 'soul' 'soulful' 'sound'\n\n 'soundtrack' 'southern' 'specialty' 'speech' 'spiritual' 'sport'\n\n 'stonerrock' 'surf' 'swing' 'synthpop' 'synthrock' 'sängerportrait'\n\n 'tango' 'tanzorchester' 'taraftar' 'tatar' 'tech' 'techno' 'teen'\n\n 'thrash' 'top' 'traditional' 'tradjazz' 'trance' 'tribal' 'trip'\n\n 'triphop' 'tropical' 'türk' 'türkçe' 'ukrrock' 'unknown' 'urban' 'uzbek'\n\n 'variété' 'vi' 'videogame' 'vocal' 'western' 'world' 'worldbeat' 'ïîï'\n\n 'электроника']\n"
        }
      ]
    },
    {
      "cell_type": "markdown",
      "source": "**Выводы**\n\nПредобработка обнаружила три проблемы в данных:\n\n- нарушения в стиле заголовков,\n- пропущенные значения,\n- дубликаты — явные и неявные.\n\nВы исправили заголовки, чтобы упростить работу с таблицей. Без дубликатов исследование станет более точным.\n\nПропущенные значения вы заменили на `'unknown'`. Ещё предстоит увидеть, не повредят ли исследованию пропуски в колонке `genre`.\n\nТеперь можно перейти к проверке гипотез. ",
      "metadata": {
        "id": "jz6a9-7HQUDd"
      }
    },
    {
      "cell_type": "markdown",
      "source": "## Проверка гипотез",
      "metadata": {
        "id": "WttZHXH0SqKk"
      }
    },
    {
      "cell_type": "markdown",
      "source": "### Сравнение поведения пользователей двух столиц",
      "metadata": {
        "id": "Im936VVi_Zcu"
      }
    },
    {
      "cell_type": "markdown",
      "source": "Первая гипотеза утверждает, что пользователи по-разному слушают музыку в Москве и Санкт-Петербурге. Проверьте это предположение по данным о трёх днях недели — понедельнике, среде и пятнице. Для этого:\n\n* Разделите пользователей Москвы и Санкт-Петербурга\n* Сравните, сколько треков послушала каждая группа пользователей в понедельник, среду и пятницу.\n",
      "metadata": {
        "id": "nwt_MuaL_Zcu"
      }
    },
    {
      "cell_type": "markdown",
      "source": "Для тренировки сначала выполните каждый из расчётов по отдельности. \n\nОцените активность пользователей в каждом городе. Сгруппируйте данные по городу и посчитайте прослушивания в каждой группе.\n\n",
      "metadata": {
        "id": "8Dw_YMmT_Zcu"
      }
    },
    {
      "cell_type": "code",
      "source": "# Подсчёт прослушиваний в каждом городе\ncity_count = df.groupby('city')['city'].count()",
      "metadata": {
        "id": "0_Qs96oh_Zcu"
      },
      "execution_count": 18,
      "outputs": []
    },
    {
      "cell_type": "markdown",
      "source": "В Москве прослушиваний больше, чем в Петербурге. Из этого не следует, что московские пользователи чаще слушают музыку. Просто самих пользователей в Москве больше.\n\nТеперь сгруппируйте данные по дню недели и подсчитайте прослушивания в понедельник, среду и пятницу. Учтите, что в данных есть информация только о прослушиваниях только за эти дни.\n",
      "metadata": {
        "id": "dzli3w8o_Zcu"
      }
    },
    {
      "cell_type": "code",
      "source": "# Подсчёт прослушиваний в каждый из трёх дней\ndays_count = df.groupby('day')['day'].count()\nprint(days_count)",
      "metadata": {
        "id": "uZMKjiJz_Zcu"
      },
      "execution_count": 19,
      "outputs": [
        {
          "name": "stdout",
          "output_type": "stream",
          "text": "day\n\nFriday       21840\n\nMonday       21354\n\nWednesday    18059\n\nName: day, dtype: int64\n"
        }
      ]
    },
    {
      "cell_type": "markdown",
      "source": "В среднем пользователи из двух городов менее активны по средам. Но картина может измениться, если рассмотреть каждый город в отдельности.",
      "metadata": {
        "id": "cC2tNrlL_Zcu"
      }
    },
    {
      "cell_type": "markdown",
      "source": "Вы видели, как работает группировка по городу и по дням недели. Теперь напишите функцию, которая объединит два эти расчёта.\n\nСоздайте функцию `number_tracks()`, которая посчитает прослушивания для заданного дня и города. Ей понадобятся два параметра:\n* день недели,\n* название города.\n\nВ функции сохраните в переменную строки исходной таблицы, у которых значение:\n  * в колонке `day` равно параметру `day`,\n  * в колонке `city` равно параметру `city`.\n\nДля этого примените последовательную фильтрацию с логической индексацией.\n\nЗатем посчитайте значения в столбце `user_id` получившейся таблицы. Результат сохраните в новую переменную. Верните эту переменную из функции.",
      "metadata": {
        "id": "POzs8bGa_Zcu"
      }
    },
    {
      "cell_type": "code",
      "source": "# <создание функции number_tracks()>\n# Объявляется функция с двумя параметрами: day, city.\n# В переменной track_list сохраняются те строки таблицы df, для которых \n# значение в столбце 'day' равно параметру day и одновременно значение\n# в столбце 'city' равно параметру city (используйте последовательную фильтрацию\n# с помощью логической индексации).\n# В переменной track_list_count сохраняется число значений столбца 'user_id',\n# рассчитанное методом count() для таблицы track_list.\n# Функция возвращает число - значение track_list_count.\n\ndef number_tracks(day, city):\n    track_list = df[(df['day'] == day) & (df['city'] == city)]\n    track_list_count = track_list['user_id'].count()\n    return track_list_count\n\n# Функция для подсчёта прослушиваний для конкретного города и дня.\n# С помощью последовательной фильтрации с логической индексацией она \n# сначала получит из исходной таблицы строки с нужным днём,\n# затем из результата отфильтрует строки с нужным городом,\n# методом count() посчитает количество значений в колонке user_id. \n# Это количество функция вернёт в качестве результата",
      "metadata": {
        "id": "Nz3GdQB1_Zcu"
      },
      "execution_count": 20,
      "outputs": []
    },
    {
      "cell_type": "markdown",
      "source": "Вызовите `number_tracks()` шесть раз, меняя значение параметров — так, чтобы получить данные для каждого города в каждый из трёх дней.",
      "metadata": {
        "id": "ytf7xFrFJQ2r"
      }
    },
    {
      "cell_type": "code",
      "source": "# количество прослушиваний в Москве по понедельникам\nprint(number_tracks('Monday', 'Moscow'))",
      "metadata": {
        "id": "rJcRATNQ_Zcu"
      },
      "execution_count": 21,
      "outputs": [
        {
          "name": "stdout",
          "output_type": "stream",
          "text": "15740\n"
        }
      ]
    },
    {
      "cell_type": "code",
      "source": "# количество прослушиваний в Санкт-Петербурге по понедельникам\nprint(number_tracks('Monday', 'Saint-Petersburg'))",
      "metadata": {
        "id": "hq_ncZ5T_Zcu"
      },
      "execution_count": 22,
      "outputs": [
        {
          "name": "stdout",
          "output_type": "stream",
          "text": "5614\n"
        }
      ]
    },
    {
      "cell_type": "code",
      "source": "# количество прослушиваний в Москве по средам\nprint(number_tracks('Wednesday', 'Moscow'))",
      "metadata": {
        "id": "_NTy2VPU_Zcu"
      },
      "execution_count": 23,
      "outputs": [
        {
          "name": "stdout",
          "output_type": "stream",
          "text": "11056\n"
        }
      ]
    },
    {
      "cell_type": "code",
      "source": "# количество прослушиваний в Санкт-Петербурге по средам\nprint(number_tracks('Wednesday', 'Saint-Petersburg'))",
      "metadata": {
        "id": "j2y3TAwo_Zcu"
      },
      "execution_count": 24,
      "outputs": [
        {
          "name": "stdout",
          "output_type": "stream",
          "text": "7003\n"
        }
      ]
    },
    {
      "cell_type": "code",
      "source": "# количество прослушиваний в Москве по пятницам\nprint(number_tracks('Friday', 'Moscow'))",
      "metadata": {
        "id": "vYDw5u_K_Zcu"
      },
      "execution_count": 25,
      "outputs": [
        {
          "name": "stdout",
          "output_type": "stream",
          "text": "15945\n"
        }
      ]
    },
    {
      "cell_type": "code",
      "source": "# количество прослушиваний в Санкт-Петербурге по пятницам\nprint(number_tracks('Friday', 'Saint-Petersburg'))",
      "metadata": {
        "id": "8_yzFtW3_Zcu"
      },
      "execution_count": 26,
      "outputs": [
        {
          "name": "stdout",
          "output_type": "stream",
          "text": "5895\n"
        }
      ]
    },
    {
      "cell_type": "markdown",
      "source": "Создайте c помощью конструктора `pd.DataFrame` таблицу, где\n* названия колонок — `['city', 'monday', 'wednesday', 'friday']`;\n* данные — результаты, которые вы получили с помощью `number_tracks`.",
      "metadata": {
        "id": "7QXffbO-_Zcu"
      }
    },
    {
      "cell_type": "code",
      "source": "# Таблица с результатами\ndata = [\n    ['Moscow', number_tracks('Monday', 'Moscow'), \n     number_tracks('Wednesday', 'Moscow'), \n     number_tracks('Friday', 'Moscow')],\n    ['Saint-Petersburg', number_tracks('Monday', 'Saint-Petersburg'), \n     number_tracks('Wednesday', 'Saint-Petersburg'), \n     number_tracks('Friday', 'Saint-Petersburg')]\n    \n    \n]\ncolumns = ['city', 'monday', 'wednesday', 'friday']\ntable = pd.DataFrame(data=data, columns=columns)\nprint(table)\n",
      "metadata": {
        "id": "APAcLpOr_Zcu"
      },
      "execution_count": 27,
      "outputs": [
        {
          "name": "stdout",
          "output_type": "stream",
          "text": "               city  monday  wednesday  friday\n\n0            Moscow   15740      11056   15945\n\n1  Saint-Petersburg    5614       7003    5895\n"
        }
      ]
    },
    {
      "cell_type": "markdown",
      "source": "**Выводы**\n\nДанные показывают разницу поведения пользователей:\n\n- В Москве пик прослушиваний приходится на понедельник и пятницу, а в среду заметен спад.\n- В Петербурге, наоборот, больше слушают музыку по средам. Активность в понедельник и пятницу здесь почти в равной мере уступает среде.\n\nЗначит, данные говорят в пользу первой гипотезы.",
      "metadata": {
        "id": "-EgPIHYu_Zcu"
      }
    },
    {
      "cell_type": "markdown",
      "source": "### Музыка в начале и в конце недели",
      "metadata": {
        "id": "atZAxtq4_Zcu"
      }
    },
    {
      "cell_type": "markdown",
      "source": "Согласно второй гипотезе, утром в понедельник в Москве преобладают одни жанры, а в Петербурге — другие. Так же и вечером пятницы преобладают разные жанры — в зависимости от города.",
      "metadata": {
        "id": "eXrQqXFH_Zcu"
      }
    },
    {
      "cell_type": "markdown",
      "source": "Сохраните таблицы с данными в две переменные:\n* по Москве — в `moscow_general`;\n* по Санкт-Петербургу — в `spb_general`.",
      "metadata": {
        "id": "S8UcW6Hw_Zcu"
      }
    },
    {
      "cell_type": "code",
      "source": "# получение таблицы moscow_general из тех строк таблицы df, \n# для которых значение в столбце 'city' равно 'Moscow'\n\nmoscow_general = df[df['city'] == 'Moscow']\ndisplay(moscow_general)",
      "metadata": {
        "id": "qeaFfM_P_Zcu"
      },
      "execution_count": 28,
      "outputs": [
        {
          "output_type": "display_data",
          "data": {
            "text/html": [
              "<div>\n",
              "<style scoped>\n",
              "    .dataframe tbody tr th:only-of-type {\n",
              "        vertical-align: middle;\n",
              "    }\n",
              "\n",
              "    .dataframe tbody tr th {\n",
              "        vertical-align: top;\n",
              "    }\n",
              "\n",
              "    .dataframe thead th {\n",
              "        text-align: right;\n",
              "    }\n",
              "</style>\n",
              "<table border=\"1\" class=\"dataframe\">\n",
              "  <thead>\n",
              "    <tr style=\"text-align: right;\">\n",
              "      <th></th>\n",
              "      <th>user_id</th>\n",
              "      <th>track</th>\n",
              "      <th>artist</th>\n",
              "      <th>genre</th>\n",
              "      <th>city</th>\n",
              "      <th>time</th>\n",
              "      <th>day</th>\n",
              "    </tr>\n",
              "  </thead>\n",
              "  <tbody>\n",
              "    <tr>\n",
              "      <td>1</td>\n",
              "      <td>55204538</td>\n",
              "      <td>Delayed Because of Accident</td>\n",
              "      <td>Andreas Rönnberg</td>\n",
              "      <td>rock</td>\n",
              "      <td>Moscow</td>\n",
              "      <td>14:07:09</td>\n",
              "      <td>Friday</td>\n",
              "    </tr>\n",
              "    <tr>\n",
              "      <td>4</td>\n",
              "      <td>E2DC1FAE</td>\n",
              "      <td>Soul People</td>\n",
              "      <td>Space Echo</td>\n",
              "      <td>dance</td>\n",
              "      <td>Moscow</td>\n",
              "      <td>08:34:34</td>\n",
              "      <td>Monday</td>\n",
              "    </tr>\n",
              "    <tr>\n",
              "      <td>6</td>\n",
              "      <td>4CB90AA5</td>\n",
              "      <td>True</td>\n",
              "      <td>Roman Messer</td>\n",
              "      <td>dance</td>\n",
              "      <td>Moscow</td>\n",
              "      <td>13:00:07</td>\n",
              "      <td>Wednesday</td>\n",
              "    </tr>\n",
              "    <tr>\n",
              "      <td>7</td>\n",
              "      <td>F03E1C1F</td>\n",
              "      <td>Feeling This Way</td>\n",
              "      <td>Polina Griffith</td>\n",
              "      <td>dance</td>\n",
              "      <td>Moscow</td>\n",
              "      <td>20:47:49</td>\n",
              "      <td>Wednesday</td>\n",
              "    </tr>\n",
              "    <tr>\n",
              "      <td>8</td>\n",
              "      <td>8FA1D3BE</td>\n",
              "      <td>И вновь продолжается бой</td>\n",
              "      <td>unknown</td>\n",
              "      <td>ruspop</td>\n",
              "      <td>Moscow</td>\n",
              "      <td>09:17:40</td>\n",
              "      <td>Friday</td>\n",
              "    </tr>\n",
              "    <tr>\n",
              "      <td>...</td>\n",
              "      <td>...</td>\n",
              "      <td>...</td>\n",
              "      <td>...</td>\n",
              "      <td>...</td>\n",
              "      <td>...</td>\n",
              "      <td>...</td>\n",
              "      <td>...</td>\n",
              "    </tr>\n",
              "    <tr>\n",
              "      <td>61247</td>\n",
              "      <td>83A474E7</td>\n",
              "      <td>I Worship Only What You Bleed</td>\n",
              "      <td>The Black Dahlia Murder</td>\n",
              "      <td>extrememetal</td>\n",
              "      <td>Moscow</td>\n",
              "      <td>21:07:12</td>\n",
              "      <td>Monday</td>\n",
              "    </tr>\n",
              "    <tr>\n",
              "      <td>61248</td>\n",
              "      <td>729CBB09</td>\n",
              "      <td>My Name</td>\n",
              "      <td>McLean</td>\n",
              "      <td>rnb</td>\n",
              "      <td>Moscow</td>\n",
              "      <td>13:32:28</td>\n",
              "      <td>Wednesday</td>\n",
              "    </tr>\n",
              "    <tr>\n",
              "      <td>61250</td>\n",
              "      <td>C5E3A0D5</td>\n",
              "      <td>Jalopiina</td>\n",
              "      <td>unknown</td>\n",
              "      <td>industrial</td>\n",
              "      <td>Moscow</td>\n",
              "      <td>20:09:26</td>\n",
              "      <td>Friday</td>\n",
              "    </tr>\n",
              "    <tr>\n",
              "      <td>61251</td>\n",
              "      <td>321D0506</td>\n",
              "      <td>Freight Train</td>\n",
              "      <td>Chas McDevitt</td>\n",
              "      <td>rock</td>\n",
              "      <td>Moscow</td>\n",
              "      <td>21:43:59</td>\n",
              "      <td>Friday</td>\n",
              "    </tr>\n",
              "    <tr>\n",
              "      <td>61252</td>\n",
              "      <td>3A64EF84</td>\n",
              "      <td>Tell Me Sweet Little Lies</td>\n",
              "      <td>Monica Lopez</td>\n",
              "      <td>country</td>\n",
              "      <td>Moscow</td>\n",
              "      <td>21:59:46</td>\n",
              "      <td>Friday</td>\n",
              "    </tr>\n",
              "  </tbody>\n",
              "</table>\n",
              "<p>42741 rows × 7 columns</p>\n",
              "</div>"
            ],
            "text/plain": [
              "        user_id                          track                   artist  \\\n",
              "1      55204538    Delayed Because of Accident         Andreas Rönnberg   \n",
              "4      E2DC1FAE                    Soul People               Space Echo   \n",
              "6      4CB90AA5                           True             Roman Messer   \n",
              "7      F03E1C1F               Feeling This Way          Polina Griffith   \n",
              "8      8FA1D3BE       И вновь продолжается бой                  unknown   \n",
              "...         ...                            ...                      ...   \n",
              "61247  83A474E7  I Worship Only What You Bleed  The Black Dahlia Murder   \n",
              "61248  729CBB09                        My Name                   McLean   \n",
              "61250  C5E3A0D5                      Jalopiina                  unknown   \n",
              "61251  321D0506                  Freight Train            Chas McDevitt   \n",
              "61252  3A64EF84      Tell Me Sweet Little Lies             Monica Lopez   \n",
              "\n",
              "              genre    city      time        day  \n",
              "1              rock  Moscow  14:07:09     Friday  \n",
              "4             dance  Moscow  08:34:34     Monday  \n",
              "6             dance  Moscow  13:00:07  Wednesday  \n",
              "7             dance  Moscow  20:47:49  Wednesday  \n",
              "8            ruspop  Moscow  09:17:40     Friday  \n",
              "...             ...     ...       ...        ...  \n",
              "61247  extrememetal  Moscow  21:07:12     Monday  \n",
              "61248           rnb  Moscow  13:32:28  Wednesday  \n",
              "61250    industrial  Moscow  20:09:26     Friday  \n",
              "61251          rock  Moscow  21:43:59     Friday  \n",
              "61252       country  Moscow  21:59:46     Friday  \n",
              "\n",
              "[42741 rows x 7 columns]"
            ]
          },
          "metadata": {}
        }
      ]
    },
    {
      "cell_type": "markdown",
      "source": "",
      "metadata": {}
    },
    {
      "cell_type": "code",
      "source": "# получение таблицы spb_general из тех строк таблицы df,\n# для которых значение в столбце 'city' равно 'Saint-Petersburg'\n\nspb_general = df[df['city'] == 'Saint-Petersburg']\ndisplay(spb_general)",
      "metadata": {
        "id": "ORaVRKto_Zcu"
      },
      "execution_count": 29,
      "outputs": [
        {
          "output_type": "display_data",
          "data": {
            "text/html": [
              "<div>\n",
              "<style scoped>\n",
              "    .dataframe tbody tr th:only-of-type {\n",
              "        vertical-align: middle;\n",
              "    }\n",
              "\n",
              "    .dataframe tbody tr th {\n",
              "        vertical-align: top;\n",
              "    }\n",
              "\n",
              "    .dataframe thead th {\n",
              "        text-align: right;\n",
              "    }\n",
              "</style>\n",
              "<table border=\"1\" class=\"dataframe\">\n",
              "  <thead>\n",
              "    <tr style=\"text-align: right;\">\n",
              "      <th></th>\n",
              "      <th>user_id</th>\n",
              "      <th>track</th>\n",
              "      <th>artist</th>\n",
              "      <th>genre</th>\n",
              "      <th>city</th>\n",
              "      <th>time</th>\n",
              "      <th>day</th>\n",
              "    </tr>\n",
              "  </thead>\n",
              "  <tbody>\n",
              "    <tr>\n",
              "      <td>0</td>\n",
              "      <td>FFB692EC</td>\n",
              "      <td>Kamigata To Boots</td>\n",
              "      <td>The Mass Missile</td>\n",
              "      <td>rock</td>\n",
              "      <td>Saint-Petersburg</td>\n",
              "      <td>20:28:33</td>\n",
              "      <td>Wednesday</td>\n",
              "    </tr>\n",
              "    <tr>\n",
              "      <td>2</td>\n",
              "      <td>20EC38</td>\n",
              "      <td>Funiculì funiculà</td>\n",
              "      <td>Mario Lanza</td>\n",
              "      <td>pop</td>\n",
              "      <td>Saint-Petersburg</td>\n",
              "      <td>20:58:07</td>\n",
              "      <td>Wednesday</td>\n",
              "    </tr>\n",
              "    <tr>\n",
              "      <td>3</td>\n",
              "      <td>A3DD03C9</td>\n",
              "      <td>Dragons in the Sunset</td>\n",
              "      <td>Fire + Ice</td>\n",
              "      <td>folk</td>\n",
              "      <td>Saint-Petersburg</td>\n",
              "      <td>08:37:09</td>\n",
              "      <td>Monday</td>\n",
              "    </tr>\n",
              "    <tr>\n",
              "      <td>5</td>\n",
              "      <td>842029A1</td>\n",
              "      <td>Преданная</td>\n",
              "      <td>IMPERVTOR</td>\n",
              "      <td>rusrap</td>\n",
              "      <td>Saint-Petersburg</td>\n",
              "      <td>13:09:41</td>\n",
              "      <td>Friday</td>\n",
              "    </tr>\n",
              "    <tr>\n",
              "      <td>9</td>\n",
              "      <td>E772D5C0</td>\n",
              "      <td>Pessimist</td>\n",
              "      <td>unknown</td>\n",
              "      <td>dance</td>\n",
              "      <td>Saint-Petersburg</td>\n",
              "      <td>21:20:49</td>\n",
              "      <td>Wednesday</td>\n",
              "    </tr>\n",
              "    <tr>\n",
              "      <td>...</td>\n",
              "      <td>...</td>\n",
              "      <td>...</td>\n",
              "      <td>...</td>\n",
              "      <td>...</td>\n",
              "      <td>...</td>\n",
              "      <td>...</td>\n",
              "      <td>...</td>\n",
              "    </tr>\n",
              "    <tr>\n",
              "      <td>61239</td>\n",
              "      <td>D94F810B</td>\n",
              "      <td>Theme from the Walking Dead</td>\n",
              "      <td>Proyecto Halloween</td>\n",
              "      <td>film</td>\n",
              "      <td>Saint-Petersburg</td>\n",
              "      <td>21:14:40</td>\n",
              "      <td>Monday</td>\n",
              "    </tr>\n",
              "    <tr>\n",
              "      <td>61240</td>\n",
              "      <td>BC8EC5CF</td>\n",
              "      <td>Red Lips: Gta (Rover Rework)</td>\n",
              "      <td>Rover</td>\n",
              "      <td>electronic</td>\n",
              "      <td>Saint-Petersburg</td>\n",
              "      <td>21:06:50</td>\n",
              "      <td>Monday</td>\n",
              "    </tr>\n",
              "    <tr>\n",
              "      <td>61241</td>\n",
              "      <td>29E04611</td>\n",
              "      <td>Bre Petrunko</td>\n",
              "      <td>Perunika Trio</td>\n",
              "      <td>world</td>\n",
              "      <td>Saint-Petersburg</td>\n",
              "      <td>13:56:00</td>\n",
              "      <td>Monday</td>\n",
              "    </tr>\n",
              "    <tr>\n",
              "      <td>61242</td>\n",
              "      <td>1B91C621</td>\n",
              "      <td>(Hello) Cloud Mountain</td>\n",
              "      <td>sleepmakeswaves</td>\n",
              "      <td>postrock</td>\n",
              "      <td>Saint-Petersburg</td>\n",
              "      <td>09:22:13</td>\n",
              "      <td>Monday</td>\n",
              "    </tr>\n",
              "    <tr>\n",
              "      <td>61249</td>\n",
              "      <td>D08D4A55</td>\n",
              "      <td>Maybe One Day (feat. Black Spade)</td>\n",
              "      <td>Blu &amp; Exile</td>\n",
              "      <td>hiphop</td>\n",
              "      <td>Saint-Petersburg</td>\n",
              "      <td>10:00:00</td>\n",
              "      <td>Monday</td>\n",
              "    </tr>\n",
              "  </tbody>\n",
              "</table>\n",
              "<p>18512 rows × 7 columns</p>\n",
              "</div>"
            ],
            "text/plain": [
              "        user_id                              track              artist  \\\n",
              "0      FFB692EC                  Kamigata To Boots    The Mass Missile   \n",
              "2        20EC38                  Funiculì funiculà         Mario Lanza   \n",
              "3      A3DD03C9              Dragons in the Sunset          Fire + Ice   \n",
              "5      842029A1                          Преданная           IMPERVTOR   \n",
              "9      E772D5C0                          Pessimist             unknown   \n",
              "...         ...                                ...                 ...   \n",
              "61239  D94F810B        Theme from the Walking Dead  Proyecto Halloween   \n",
              "61240  BC8EC5CF       Red Lips: Gta (Rover Rework)               Rover   \n",
              "61241  29E04611                       Bre Petrunko       Perunika Trio   \n",
              "61242  1B91C621             (Hello) Cloud Mountain     sleepmakeswaves   \n",
              "61249  D08D4A55  Maybe One Day (feat. Black Spade)         Blu & Exile   \n",
              "\n",
              "            genre              city      time        day  \n",
              "0            rock  Saint-Petersburg  20:28:33  Wednesday  \n",
              "2             pop  Saint-Petersburg  20:58:07  Wednesday  \n",
              "3            folk  Saint-Petersburg  08:37:09     Monday  \n",
              "5          rusrap  Saint-Petersburg  13:09:41     Friday  \n",
              "9           dance  Saint-Petersburg  21:20:49  Wednesday  \n",
              "...           ...               ...       ...        ...  \n",
              "61239        film  Saint-Petersburg  21:14:40     Monday  \n",
              "61240  electronic  Saint-Petersburg  21:06:50     Monday  \n",
              "61241       world  Saint-Petersburg  13:56:00     Monday  \n",
              "61242    postrock  Saint-Petersburg  09:22:13     Monday  \n",
              "61249      hiphop  Saint-Petersburg  10:00:00     Monday  \n",
              "\n",
              "[18512 rows x 7 columns]"
            ]
          },
          "metadata": {}
        }
      ]
    },
    {
      "cell_type": "markdown",
      "source": "Создайте функцию `genre_weekday()` с четырьмя параметрами:\n* таблица (датафрейм) с данными,\n* день недели,\n* начальная временная метка в формате 'hh:mm', \n* последняя временная метка в формате 'hh:mm'.\n\nФункция должна вернуть информацию о топ-10 жанров тех треков, которые прослушивали в указанный день, в промежутке между двумя отметками времени.",
      "metadata": {
        "id": "MEJV-CX2_Zcu"
      }
    },
    {
      "cell_type": "code",
      "source": "# Объявление функции genre_weekday() с параметрами table, day, time1, time2,\n# которая возвращает информацию о самых популярных жанрах в указанный день в\n# заданное время:\n# 1) в переменную genre_df сохраняются те строки переданного датафрейма table, для\n#    которых одновременно:\n#    - значение в столбце day равно значению аргумента day\n#    - значение в столбце time больше значения аргумента time1\n#    - значение в столбце time меньше значения аргумента time2\n#    Используйте последовательную фильтрацию с помощью логической индексации.\n# 2) сгруппировать датафрейм genre_df по столбцу genre, взять один из его\n#    столбцов и посчитать методом count() количество записей для каждого из\n#    присутствующих жанров, получившийся Series записать в переменную\n#    genre_df_count\n# 3) отсортировать genre_df_count по убыванию встречаемости и сохранить\n#    в переменную genre_df_sorted\n# 4) вернуть Series из 10 первых значений genre_df_sorted, это будут топ-10\n#    популярных жанров (в указанный день, в заданное время)\n\ndef genre_weekday(table, day, time1, time2):\n    genre_df = table[\n        (table['day'] == day) & \n        (table['time'] > time1) & \n        (table['time'] < time2)\n    ]\n    genre_df_count = genre_df.groupby('genre')['genre'].count()\n    genre_df_sorted = genre_df_count.sort_values(ascending=False)\n    return genre_df_sorted.head(10)",
      "metadata": {
        "id": "laJT9BYl_Zcu"
      },
      "execution_count": 30,
      "outputs": []
    },
    {
      "cell_type": "markdown",
      "source": "Cравните результаты функции `genre_weekday()` для Москвы и Санкт-Петербурга в понедельник утром (с 7:00 до 11:00) и в пятницу вечером (с 17:00 до 23:00):",
      "metadata": {
        "id": "la2s2_PF_Zcu"
      }
    },
    {
      "cell_type": "code",
      "source": "# вызов функции для утра понедельника в Москве (вместо df — таблица moscow_general)\n# объекты, хранящие время, являются строками и сравниваются как строки\n# пример вызова: genre_weekday(moscow_general, 'Monday', '07:00', '11:00')\n\ngenre_weekday(moscow_general, 'Monday', '07:00', '11:00')",
      "metadata": {
        "id": "yz7itPUQ_Zcu"
      },
      "execution_count": 31,
      "outputs": [
        {
          "execution_count": 31,
          "output_type": "execute_result",
          "data": {
            "text/plain": [
              "genre\n",
              "pop            781\n",
              "dance          549\n",
              "electronic     480\n",
              "rock           474\n",
              "hiphop         286\n",
              "ruspop         186\n",
              "world          181\n",
              "rusrap         175\n",
              "alternative    164\n",
              "unknown        161\n",
              "Name: genre, dtype: int64"
            ]
          },
          "metadata": {}
        }
      ]
    },
    {
      "cell_type": "code",
      "source": "# вызов функции для утра понедельника в Петербурге (вместо df — таблица spb_general)\ndisplay(genre_weekday(spb_general, 'Monday', '07:00', '11:00'))",
      "metadata": {
        "id": "kwUcHPdy_Zcu"
      },
      "execution_count": 32,
      "outputs": [
        {
          "output_type": "display_data",
          "data": {
            "text/plain": [
              "genre\n",
              "pop            218\n",
              "dance          182\n",
              "rock           162\n",
              "electronic     147\n",
              "hiphop          80\n",
              "ruspop          64\n",
              "alternative     58\n",
              "rusrap          55\n",
              "jazz            44\n",
              "classical       40\n",
              "Name: genre, dtype: int64"
            ]
          },
          "metadata": {}
        }
      ]
    },
    {
      "cell_type": "code",
      "source": "# вызов функции для вечера пятницы в Москве\ndisplay(genre_weekday(moscow_general, 'Monday', '18:00', '23:00'))",
      "metadata": {
        "id": "EzXVRE1o_Zcu"
      },
      "execution_count": 33,
      "outputs": [
        {
          "output_type": "display_data",
          "data": {
            "text/plain": [
              "genre\n",
              "pop            717\n",
              "dance          524\n",
              "rock           518\n",
              "electronic     485\n",
              "hiphop         238\n",
              "alternative    182\n",
              "world          172\n",
              "classical      172\n",
              "ruspop         149\n",
              "rusrap         133\n",
              "Name: genre, dtype: int64"
            ]
          },
          "metadata": {}
        }
      ]
    },
    {
      "cell_type": "code",
      "source": "# вызов функции для вечера пятницы в Петербурге\ndisplay(genre_weekday(spb_general, 'Monday', '18:00', '23:00'))",
      "metadata": {
        "id": "JZaEKu5v_Zcu"
      },
      "execution_count": 34,
      "outputs": [
        {
          "output_type": "display_data",
          "data": {
            "text/plain": [
              "genre\n",
              "pop            263\n",
              "rock           208\n",
              "electronic     192\n",
              "dance          191\n",
              "hiphop         104\n",
              "alternative     72\n",
              "classical       71\n",
              "jazz            57\n",
              "rusrap          54\n",
              "ruspop          53\n",
              "Name: genre, dtype: int64"
            ]
          },
          "metadata": {}
        }
      ]
    },
    {
      "cell_type": "markdown",
      "source": "**Выводы**\n\nЕсли сравнить топ-10 жанров в понедельник утром, можно сделать такие выводы:\n\n1. В Москве и Петербурге слушают похожую музыку. Единственное отличие — в московский рейтинг вошёл жанр “world”, а в петербургский — джаз и классика.\n\n2. В Москве пропущенных значений оказалось так много, что значение `'unknown'` заняло десятое место среди самых популярных жанров. Значит, пропущенные значения занимают существенную долю в данных и угрожают достоверности исследования.\n\nВечер пятницы не меняет эту картину. Некоторые жанры поднимаются немного выше, другие спускаются, но в целом топ-10 остаётся тем же самым.\n\nТаким образом, вторая гипотеза подтвердилась лишь частично:\n* Пользователи слушают похожую музыку в начале недели и в конце.\n* Разница между Москвой и Петербургом не слишком выражена. В Москве чаще слушают русскую популярную музыку, в Петербурге — джаз.\n\nОднако пропуски в данных ставят под сомнение этот результат. В Москве их так много, что рейтинг топ-10 мог бы выглядеть иначе, если бы не утерянные  данные о жанрах.",
      "metadata": {
        "id": "wrCe4MNX_Zcu"
      }
    },
    {
      "cell_type": "markdown",
      "source": "### Жанровые предпочтения в Москве и Петербурге\n\nГипотеза: Петербург — столица рэпа, музыку этого жанра там слушают чаще, чем в Москве.  А Москва — город контрастов, в котором, тем не менее, преобладает поп-музыка.",
      "metadata": {
        "id": "JolODAqr_Zcu"
      }
    },
    {
      "cell_type": "markdown",
      "source": "Сгруппируйте таблицу `moscow_general` по жанру и посчитайте прослушивания треков каждого жанра методом `count()`. Затем отсортируйте результат в порядке убывания и сохраните его в таблице `moscow_genres`.",
      "metadata": {
        "id": "DlegSvaT_Zcu"
      }
    },
    {
      "cell_type": "code",
      "source": "# одной строкой: группировка таблицы moscow_general по столбцу 'genre', \nmoscow_genres = moscow_general.groupby('genre')['genre'].count().sort_values(ascending=False)\n# подсчёт числа значений 'genre' в этой группировке методом count(), \n# сортировка получившегося Series в порядке убывания и сохранение в moscow_genres",
      "metadata": {
        "id": "r19lIPke_Zcu"
      },
      "execution_count": 35,
      "outputs": []
    },
    {
      "cell_type": "markdown",
      "source": "Выведите на экран первые десять строк `moscow_genres`:",
      "metadata": {
        "id": "6kMuomxTiIr8"
      }
    },
    {
      "cell_type": "code",
      "source": "display(moscow_genres.sort_values(ascending=False).head(10))# просмотр первых 10 строк moscow_genres",
      "metadata": {
        "id": "WhCSooF8_Zcv"
      },
      "execution_count": 36,
      "outputs": [
        {
          "output_type": "display_data",
          "data": {
            "text/plain": [
              "genre\n",
              "pop            5892\n",
              "dance          4435\n",
              "rock           3965\n",
              "electronic     3786\n",
              "hiphop         2096\n",
              "classical      1616\n",
              "world          1432\n",
              "alternative    1379\n",
              "ruspop         1372\n",
              "rusrap         1161\n",
              "Name: genre, dtype: int64"
            ]
          },
          "metadata": {}
        }
      ]
    },
    {
      "cell_type": "markdown",
      "source": "Теперь повторите то же и для Петербурга.\n\nСгруппируйте таблицу `spb_general` по жанру. Посчитайте прослушивания треков каждого жанра. Результат отсортируйте в порядке убывания и сохраните в таблице `spb_genres`:\n",
      "metadata": {
        "id": "cnPG2vnN_Zcv"
      }
    },
    {
      "cell_type": "code",
      "source": "# одной строкой: группировка таблицы spb_general по столбцу 'genre', \nspb_genres = spb_general.groupby('genre')['genre'].count()\n# подсчёт числа значений 'genre' в этой группировке методом count(), \nspb_genres.sort_values(ascending=False)\n# сортировка получившегося Series в порядке убывания и сохранение в spb_genres",
      "metadata": {
        "id": "gluLIpE7_Zcv"
      },
      "execution_count": 37,
      "outputs": [
        {
          "execution_count": 37,
          "output_type": "execute_result",
          "data": {
            "text/plain": [
              "genre\n",
              "pop            2431\n",
              "dance          1932\n",
              "rock           1879\n",
              "electronic     1736\n",
              "hiphop          960\n",
              "               ... \n",
              "mpb               1\n",
              "native            1\n",
              "neoklassik        1\n",
              "folklore          1\n",
              "электроника       1\n",
              "Name: genre, Length: 211, dtype: int64"
            ]
          },
          "metadata": {}
        }
      ]
    },
    {
      "cell_type": "markdown",
      "source": "Выведите на экран первые десять строк `spb_genres`:",
      "metadata": {
        "id": "5Doha_ODgyQ8"
      }
    },
    {
      "cell_type": "code",
      "source": "# просмотр п# просмотр первых 10 строк spb_genres\ndisplay(spb_genres.sort_values(ascending=False).head(10))",
      "metadata": {
        "id": "uaGJHjVU_Zcv"
      },
      "execution_count": 38,
      "outputs": [
        {
          "output_type": "display_data",
          "data": {
            "text/plain": [
              "genre\n",
              "pop            2431\n",
              "dance          1932\n",
              "rock           1879\n",
              "electronic     1736\n",
              "hiphop          960\n",
              "alternative     649\n",
              "classical       646\n",
              "rusrap          564\n",
              "ruspop          538\n",
              "world           515\n",
              "Name: genre, dtype: int64"
            ]
          },
          "metadata": {}
        }
      ]
    },
    {
      "cell_type": "markdown",
      "source": "**Выводы**",
      "metadata": {
        "id": "RY51YJYu_Zcv"
      }
    },
    {
      "cell_type": "markdown",
      "source": "Гипотеза частично подтвердилась:\n* Поп-музыка — самый популярный жанр в Москве, как и предполагала гипотеза. Более того, в топ-10 жанров встречается близкий жанр — русская популярная музыка.\n* Вопреки ожиданиям, рэп одинаково популярен в Москве и Петербурге. \n",
      "metadata": {
        "id": "nVhnJEm__Zcv"
      }
    },
    {
      "cell_type": "markdown",
      "source": "## Итоги исследования",
      "metadata": {
        "id": "ykKQ0N65_Zcv"
      }
    },
    {
      "cell_type": "markdown",
      "source": "Вы проверили три гипотезы и установили:\n\n1. День недели по-разному влияет на активность пользователей в Москве и Петербурге. \n\nПервая гипотеза полностью подтвердилась.\n\n2. Музыкальные предпочтения не сильно меняются в течение недели — будь то Москва или Петербург. Небольшие различия заметны в начале недели, по понедельникам:\n* в Москве слушают музыку жанра “world”,\n* в Петербурге — джаз и классику.\n\nТаким образом, вторая гипотеза подтвердилась лишь отчасти. Этот результат мог оказаться иным, если бы не пропуски в данных.\n\n3. Во вкусах пользователей Москвы и Петербурга больше общего чем различий. Вопреки ожиданиям, предпочтения жанров в Петербурге напоминают московские.\n\nТретья гипотеза не подтвердилась. Если различия в предпочтениях и существуют, на основной массе пользователей они незаметны.\n\n**На практике исследования содержат проверки статистических гипотез.**\nИз данных одного сервиса не всегда можно сделать вывод о всех жителях города.\nПроверки статистических гипотез покажут, насколько они достоверны, исходя из имеющихся данных. \nС методами проверок гипотез вы ещё познакомитесь в следующих темах.",
      "metadata": {
        "id": "tjUwbHb3_Zcv"
      }
    }
  ]
}