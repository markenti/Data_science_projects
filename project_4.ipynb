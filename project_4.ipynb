{
  "metadata": {
    "ExecuteTimeLog": [
      {
        "duration": 1113,
        "start_time": "2022-03-10T14:58:10.511Z"
      },
      {
        "duration": 165,
        "start_time": "2022-03-10T15:08:50.391Z"
      },
      {
        "duration": 386,
        "start_time": "2022-03-10T15:08:56.311Z"
      },
      {
        "duration": 394,
        "start_time": "2022-03-10T15:09:17.724Z"
      },
      {
        "duration": 375,
        "start_time": "2022-03-10T15:09:28.656Z"
      },
      {
        "duration": 375,
        "start_time": "2022-03-10T15:09:38.667Z"
      },
      {
        "duration": 388,
        "start_time": "2022-03-10T15:10:07.947Z"
      },
      {
        "duration": 395,
        "start_time": "2022-03-10T15:10:59.380Z"
      },
      {
        "duration": 365,
        "start_time": "2022-03-10T15:13:48.440Z"
      },
      {
        "duration": 7,
        "start_time": "2022-03-10T15:14:44.111Z"
      },
      {
        "duration": 22,
        "start_time": "2022-03-10T15:15:54.771Z"
      },
      {
        "duration": 2,
        "start_time": "2022-03-10T15:17:54.244Z"
      },
      {
        "duration": 490,
        "start_time": "2022-03-10T15:18:02.328Z"
      },
      {
        "duration": 3,
        "start_time": "2022-03-10T15:20:47.095Z"
      },
      {
        "duration": 223,
        "start_time": "2022-03-10T15:21:06.155Z"
      },
      {
        "duration": 62,
        "start_time": "2022-03-10T15:34:00.659Z"
      },
      {
        "duration": 73,
        "start_time": "2022-03-10T15:34:20.955Z"
      },
      {
        "duration": 60,
        "start_time": "2022-03-10T15:34:27.423Z"
      },
      {
        "duration": 60,
        "start_time": "2022-03-10T15:34:34.127Z"
      },
      {
        "duration": 7,
        "start_time": "2022-03-10T15:36:34.595Z"
      },
      {
        "duration": 61,
        "start_time": "2022-03-10T15:36:48.571Z"
      },
      {
        "duration": 61,
        "start_time": "2022-03-10T15:36:51.055Z"
      },
      {
        "duration": 50,
        "start_time": "2022-03-10T15:37:42.983Z"
      },
      {
        "duration": 60,
        "start_time": "2022-03-10T15:37:51.687Z"
      },
      {
        "duration": 402,
        "start_time": "2022-03-10T15:38:16.047Z"
      },
      {
        "duration": 425,
        "start_time": "2022-03-10T15:38:54.715Z"
      },
      {
        "duration": 593,
        "start_time": "2022-03-10T15:38:59.323Z"
      },
      {
        "duration": 426,
        "start_time": "2022-03-10T15:39:48.679Z"
      },
      {
        "duration": 413,
        "start_time": "2022-03-10T15:39:58.587Z"
      },
      {
        "duration": 413,
        "start_time": "2022-03-10T15:40:15.491Z"
      },
      {
        "duration": 382,
        "start_time": "2022-03-10T15:40:23.492Z"
      },
      {
        "duration": 13,
        "start_time": "2022-03-10T15:41:19.207Z"
      },
      {
        "duration": 85,
        "start_time": "2022-03-10T15:41:39.136Z"
      },
      {
        "duration": 226,
        "start_time": "2022-03-10T15:42:05.423Z"
      },
      {
        "duration": 78,
        "start_time": "2022-03-10T15:42:59.627Z"
      },
      {
        "duration": 369,
        "start_time": "2022-03-10T15:43:05.415Z"
      },
      {
        "duration": 70,
        "start_time": "2022-03-10T15:43:36.172Z"
      },
      {
        "duration": 24,
        "start_time": "2022-03-10T15:44:08.063Z"
      },
      {
        "duration": 23,
        "start_time": "2022-03-10T15:44:18.255Z"
      },
      {
        "duration": 236,
        "start_time": "2022-03-10T15:44:39.019Z"
      },
      {
        "duration": 218,
        "start_time": "2022-03-10T15:45:30.852Z"
      },
      {
        "duration": 74,
        "start_time": "2022-03-10T15:45:40.656Z"
      },
      {
        "duration": 9,
        "start_time": "2022-03-10T15:45:54.111Z"
      },
      {
        "duration": 248,
        "start_time": "2022-03-10T15:46:16.267Z"
      },
      {
        "duration": 3,
        "start_time": "2022-03-10T15:46:42.467Z"
      },
      {
        "duration": 3,
        "start_time": "2022-03-10T15:46:44.887Z"
      },
      {
        "duration": 46,
        "start_time": "2022-03-10T15:47:19.807Z"
      },
      {
        "duration": 24,
        "start_time": "2022-03-10T15:47:28.603Z"
      },
      {
        "duration": 69,
        "start_time": "2022-03-10T15:47:37.920Z"
      },
      {
        "duration": 56,
        "start_time": "2022-03-10T15:47:43.367Z"
      },
      {
        "duration": 228,
        "start_time": "2022-03-10T15:48:13.699Z"
      },
      {
        "duration": 59,
        "start_time": "2022-03-10T15:48:32.435Z"
      },
      {
        "duration": 64,
        "start_time": "2022-03-10T15:48:45.791Z"
      },
      {
        "duration": 62,
        "start_time": "2022-03-10T15:48:55.156Z"
      },
      {
        "duration": 274,
        "start_time": "2022-03-10T15:49:00.163Z"
      },
      {
        "duration": 63,
        "start_time": "2022-03-10T15:49:11.775Z"
      },
      {
        "duration": 254,
        "start_time": "2022-03-10T15:49:27.103Z"
      },
      {
        "duration": 58,
        "start_time": "2022-03-10T15:49:41.759Z"
      },
      {
        "duration": 42,
        "start_time": "2022-03-10T15:51:11.515Z"
      },
      {
        "duration": 13,
        "start_time": "2022-03-10T15:55:05.792Z"
      },
      {
        "duration": 10,
        "start_time": "2022-03-10T15:55:41.132Z"
      },
      {
        "duration": 10,
        "start_time": "2022-03-10T15:55:42.668Z"
      },
      {
        "duration": 14,
        "start_time": "2022-03-10T15:55:44.283Z"
      },
      {
        "duration": 9,
        "start_time": "2022-03-10T15:55:46.580Z"
      },
      {
        "duration": 10,
        "start_time": "2022-03-10T15:56:04.327Z"
      },
      {
        "duration": 9,
        "start_time": "2022-03-10T15:56:09.475Z"
      },
      {
        "duration": 7,
        "start_time": "2022-03-10T15:56:14.668Z"
      },
      {
        "duration": 9,
        "start_time": "2022-03-10T15:56:18.099Z"
      },
      {
        "duration": 8,
        "start_time": "2022-03-10T15:56:22.139Z"
      },
      {
        "duration": 227,
        "start_time": "2022-03-10T15:56:50.036Z"
      },
      {
        "duration": 9,
        "start_time": "2022-03-10T15:56:56.576Z"
      },
      {
        "duration": 363,
        "start_time": "2022-03-10T15:57:01.047Z"
      },
      {
        "duration": 350,
        "start_time": "2022-03-10T15:57:03.928Z"
      },
      {
        "duration": 9,
        "start_time": "2022-03-10T15:57:05.948Z"
      },
      {
        "duration": 8,
        "start_time": "2022-03-10T15:57:07.024Z"
      },
      {
        "duration": 388,
        "start_time": "2022-03-10T15:57:30.196Z"
      },
      {
        "duration": 8,
        "start_time": "2022-03-10T15:57:34.864Z"
      },
      {
        "duration": 389,
        "start_time": "2022-03-10T15:58:30.432Z"
      },
      {
        "duration": 10,
        "start_time": "2022-03-10T15:58:32.316Z"
      },
      {
        "duration": 8,
        "start_time": "2022-03-10T15:58:33.120Z"
      },
      {
        "duration": 8,
        "start_time": "2022-03-10T15:58:34.648Z"
      },
      {
        "duration": 13,
        "start_time": "2022-03-10T15:58:54.900Z"
      },
      {
        "duration": 92,
        "start_time": "2022-03-10T15:59:46.372Z"
      },
      {
        "duration": 238,
        "start_time": "2022-03-10T16:01:05.084Z"
      },
      {
        "duration": 222,
        "start_time": "2022-03-10T16:02:14.288Z"
      },
      {
        "duration": 239,
        "start_time": "2022-03-10T16:02:26.798Z"
      },
      {
        "duration": 81,
        "start_time": "2022-03-10T16:02:34.632Z"
      },
      {
        "duration": 83,
        "start_time": "2022-03-10T16:03:20.804Z"
      },
      {
        "duration": 117,
        "start_time": "2022-03-10T16:03:26.144Z"
      },
      {
        "duration": 9,
        "start_time": "2022-03-10T16:03:32.736Z"
      },
      {
        "duration": 80,
        "start_time": "2022-03-10T16:03:35.352Z"
      },
      {
        "duration": 7,
        "start_time": "2022-03-10T16:06:11.572Z"
      },
      {
        "duration": 8,
        "start_time": "2022-03-10T16:06:13.184Z"
      },
      {
        "duration": 90,
        "start_time": "2022-03-10T16:06:30.792Z"
      },
      {
        "duration": 99,
        "start_time": "2022-03-10T16:08:31.372Z"
      },
      {
        "duration": 80,
        "start_time": "2022-03-10T16:08:50.620Z"
      },
      {
        "duration": 104,
        "start_time": "2022-03-10T16:08:57.660Z"
      },
      {
        "duration": 87,
        "start_time": "2022-03-10T16:09:03.400Z"
      },
      {
        "duration": 79,
        "start_time": "2022-03-10T16:11:53.156Z"
      },
      {
        "duration": 85,
        "start_time": "2022-03-10T16:13:50.684Z"
      },
      {
        "duration": 81,
        "start_time": "2022-03-10T16:14:06.752Z"
      },
      {
        "duration": 2501,
        "start_time": "2022-03-10T16:26:29.959Z"
      },
      {
        "duration": 3009,
        "start_time": "2022-03-10T16:26:34.571Z"
      },
      {
        "duration": 5585,
        "start_time": "2022-03-10T16:27:44.094Z"
      },
      {
        "duration": 2147,
        "start_time": "2022-03-10T16:28:06.758Z"
      },
      {
        "duration": 2006,
        "start_time": "2022-03-10T16:28:29.302Z"
      },
      {
        "duration": 1770,
        "start_time": "2022-03-10T16:28:41.910Z"
      },
      {
        "duration": 1835,
        "start_time": "2022-03-10T16:29:03.558Z"
      },
      {
        "duration": 2057,
        "start_time": "2022-03-10T16:29:25.913Z"
      },
      {
        "duration": 1918,
        "start_time": "2022-03-10T16:30:30.265Z"
      },
      {
        "duration": 1445,
        "start_time": "2022-03-10T16:30:43.545Z"
      },
      {
        "duration": 1467,
        "start_time": "2022-03-10T16:30:50.161Z"
      },
      {
        "duration": 77,
        "start_time": "2022-03-10T16:32:13.928Z"
      },
      {
        "duration": 1526,
        "start_time": "2022-03-10T16:32:20.676Z"
      },
      {
        "duration": 1366,
        "start_time": "2022-03-10T16:32:54.300Z"
      },
      {
        "duration": 3,
        "start_time": "2022-03-10T16:35:17.420Z"
      },
      {
        "duration": 2,
        "start_time": "2022-03-10T16:35:50.128Z"
      },
      {
        "duration": 4,
        "start_time": "2022-03-10T16:35:58.027Z"
      },
      {
        "duration": 4,
        "start_time": "2022-03-10T16:36:09.831Z"
      },
      {
        "duration": 3,
        "start_time": "2022-03-10T16:37:30.615Z"
      },
      {
        "duration": 3,
        "start_time": "2022-03-10T16:37:49.551Z"
      },
      {
        "duration": 3,
        "start_time": "2022-03-10T16:37:58.179Z"
      },
      {
        "duration": 3,
        "start_time": "2022-03-10T16:38:03.223Z"
      },
      {
        "duration": 4,
        "start_time": "2022-03-10T16:38:42.510Z"
      },
      {
        "duration": 3,
        "start_time": "2022-03-10T16:38:45.835Z"
      },
      {
        "duration": 4,
        "start_time": "2022-03-10T16:38:49.070Z"
      },
      {
        "duration": 105,
        "start_time": "2022-03-10T16:54:51.516Z"
      },
      {
        "duration": 54,
        "start_time": "2022-03-10T16:54:57.396Z"
      },
      {
        "duration": 53,
        "start_time": "2022-03-10T17:04:57.298Z"
      },
      {
        "duration": 57,
        "start_time": "2022-03-10T17:05:00.891Z"
      },
      {
        "duration": 54,
        "start_time": "2022-03-10T17:05:03.554Z"
      },
      {
        "duration": 28,
        "start_time": "2022-03-10T17:08:43.193Z"
      },
      {
        "duration": 20,
        "start_time": "2022-03-10T17:09:04.313Z"
      },
      {
        "duration": 30,
        "start_time": "2022-03-10T17:09:11.881Z"
      },
      {
        "duration": 106,
        "start_time": "2022-03-10T17:52:28.375Z"
      },
      {
        "duration": 227,
        "start_time": "2022-03-10T18:58:20.727Z"
      },
      {
        "duration": 177,
        "start_time": "2022-03-10T19:00:53.690Z"
      },
      {
        "duration": 159,
        "start_time": "2022-03-10T19:01:03.426Z"
      },
      {
        "duration": 179,
        "start_time": "2022-03-10T19:01:22.018Z"
      },
      {
        "duration": 135,
        "start_time": "2022-03-10T19:01:40.462Z"
      },
      {
        "duration": 62,
        "start_time": "2022-03-10T19:02:00.574Z"
      },
      {
        "duration": 121,
        "start_time": "2022-03-10T19:02:03.046Z"
      },
      {
        "duration": 151,
        "start_time": "2022-03-10T19:05:46.477Z"
      },
      {
        "duration": 55,
        "start_time": "2022-03-10T19:05:52.857Z"
      },
      {
        "duration": 80,
        "start_time": "2022-03-10T19:11:39.408Z"
      },
      {
        "duration": 228,
        "start_time": "2022-03-10T19:21:18.316Z"
      },
      {
        "duration": 231,
        "start_time": "2022-03-10T19:22:28.367Z"
      },
      {
        "duration": 3,
        "start_time": "2022-03-10T19:22:38.811Z"
      },
      {
        "duration": 238,
        "start_time": "2022-03-10T19:23:30.211Z"
      },
      {
        "duration": 246,
        "start_time": "2022-03-10T19:23:36.376Z"
      },
      {
        "duration": 215,
        "start_time": "2022-03-10T19:23:42.707Z"
      },
      {
        "duration": 8,
        "start_time": "2022-03-10T19:24:55.843Z"
      },
      {
        "duration": 84,
        "start_time": "2022-03-10T19:32:32.339Z"
      },
      {
        "duration": 273,
        "start_time": "2022-03-11T14:31:06.116Z"
      },
      {
        "duration": 1136,
        "start_time": "2022-03-11T14:31:12.932Z"
      },
      {
        "duration": 448,
        "start_time": "2022-03-11T14:31:14.070Z"
      },
      {
        "duration": 275,
        "start_time": "2022-03-11T14:31:14.520Z"
      },
      {
        "duration": 280,
        "start_time": "2022-03-11T14:31:14.517Z"
      },
      {
        "duration": 278,
        "start_time": "2022-03-11T14:31:14.520Z"
      },
      {
        "duration": 278,
        "start_time": "2022-03-11T14:31:14.521Z"
      },
      {
        "duration": 278,
        "start_time": "2022-03-11T14:31:14.522Z"
      },
      {
        "duration": 112,
        "start_time": "2022-03-11T14:31:35.468Z"
      },
      {
        "duration": 234,
        "start_time": "2022-03-11T14:31:43.701Z"
      },
      {
        "duration": 58,
        "start_time": "2022-03-11T14:31:53.840Z"
      },
      {
        "duration": 206,
        "start_time": "2022-03-11T14:31:54.504Z"
      },
      {
        "duration": 106,
        "start_time": "2022-03-11T14:31:57.744Z"
      },
      {
        "duration": 7,
        "start_time": "2022-03-11T14:35:53.278Z"
      },
      {
        "duration": 7,
        "start_time": "2022-03-11T14:35:58.406Z"
      },
      {
        "duration": 7,
        "start_time": "2022-03-11T14:44:40.164Z"
      },
      {
        "duration": 7,
        "start_time": "2022-03-11T14:44:50.928Z"
      },
      {
        "duration": 7,
        "start_time": "2022-03-11T14:45:08.396Z"
      },
      {
        "duration": 7,
        "start_time": "2022-03-11T14:45:10.816Z"
      },
      {
        "duration": 5,
        "start_time": "2022-03-11T14:45:17.760Z"
      },
      {
        "duration": 4,
        "start_time": "2022-03-11T14:45:22.732Z"
      },
      {
        "duration": 8,
        "start_time": "2022-03-11T14:45:35.343Z"
      },
      {
        "duration": 8,
        "start_time": "2022-03-11T14:45:42.343Z"
      },
      {
        "duration": 5722,
        "start_time": "2022-03-11T15:00:28.357Z"
      },
      {
        "duration": 126,
        "start_time": "2022-03-11T15:01:06.313Z"
      },
      {
        "duration": 141,
        "start_time": "2022-03-11T15:01:17.478Z"
      },
      {
        "duration": 125,
        "start_time": "2022-03-11T15:01:40.561Z"
      },
      {
        "duration": 243,
        "start_time": "2022-03-11T15:03:00.057Z"
      },
      {
        "duration": 319,
        "start_time": "2022-03-11T15:03:06.581Z"
      },
      {
        "duration": 48,
        "start_time": "2022-03-11T15:09:50.922Z"
      },
      {
        "duration": 60,
        "start_time": "2022-03-11T15:09:59.646Z"
      },
      {
        "duration": 70,
        "start_time": "2022-03-11T15:10:11.687Z"
      },
      {
        "duration": 60,
        "start_time": "2022-03-11T15:11:57.213Z"
      },
      {
        "duration": 49,
        "start_time": "2022-03-11T15:12:11.193Z"
      },
      {
        "duration": 50,
        "start_time": "2022-03-11T15:12:24.158Z"
      },
      {
        "duration": 14,
        "start_time": "2022-03-11T15:13:36.409Z"
      },
      {
        "duration": 37,
        "start_time": "2022-03-11T15:13:55.065Z"
      },
      {
        "duration": 43,
        "start_time": "2022-03-11T15:14:06.397Z"
      },
      {
        "duration": 376,
        "start_time": "2022-03-11T15:14:20.829Z"
      },
      {
        "duration": 34,
        "start_time": "2022-03-11T15:14:37.989Z"
      },
      {
        "duration": 32,
        "start_time": "2022-03-11T15:15:29.784Z"
      },
      {
        "duration": 324,
        "start_time": "2022-03-11T15:15:54.716Z"
      },
      {
        "duration": 361,
        "start_time": "2022-03-11T15:16:04.714Z"
      },
      {
        "duration": 372,
        "start_time": "2022-03-11T15:16:15.644Z"
      },
      {
        "duration": 39,
        "start_time": "2022-03-11T15:16:28.304Z"
      },
      {
        "duration": 32,
        "start_time": "2022-03-11T15:17:08.164Z"
      },
      {
        "duration": 43,
        "start_time": "2022-03-11T15:17:21.428Z"
      },
      {
        "duration": 57,
        "start_time": "2022-03-11T15:17:31.212Z"
      },
      {
        "duration": 45,
        "start_time": "2022-03-11T15:17:58.320Z"
      },
      {
        "duration": 45,
        "start_time": "2022-03-11T15:18:05.384Z"
      },
      {
        "duration": 58,
        "start_time": "2022-03-11T15:18:18.088Z"
      },
      {
        "duration": 56,
        "start_time": "2022-03-11T15:18:33.692Z"
      },
      {
        "duration": 43,
        "start_time": "2022-03-11T15:18:40.332Z"
      },
      {
        "duration": 44,
        "start_time": "2022-03-11T15:18:43.824Z"
      },
      {
        "duration": 42,
        "start_time": "2022-03-11T15:18:47.268Z"
      },
      {
        "duration": 44,
        "start_time": "2022-03-11T15:19:00.471Z"
      },
      {
        "duration": 49,
        "start_time": "2022-03-11T15:19:02.867Z"
      },
      {
        "duration": 33,
        "start_time": "2022-03-11T15:21:26.419Z"
      },
      {
        "duration": 37,
        "start_time": "2022-03-11T15:21:42.375Z"
      },
      {
        "duration": 32,
        "start_time": "2022-03-11T15:22:16.570Z"
      },
      {
        "duration": 32,
        "start_time": "2022-03-11T15:22:33.599Z"
      },
      {
        "duration": 43,
        "start_time": "2022-03-11T15:22:56.399Z"
      },
      {
        "duration": 31,
        "start_time": "2022-03-11T15:23:10.278Z"
      },
      {
        "duration": 73,
        "start_time": "2022-03-11T15:28:34.013Z"
      },
      {
        "duration": 577,
        "start_time": "2022-03-11T15:46:01.297Z"
      },
      {
        "duration": 892,
        "start_time": "2022-03-11T15:46:09.228Z"
      },
      {
        "duration": 66,
        "start_time": "2022-03-11T15:46:18.900Z"
      },
      {
        "duration": 72,
        "start_time": "2022-03-11T16:06:34.074Z"
      },
      {
        "duration": 67,
        "start_time": "2022-03-11T16:06:54.554Z"
      },
      {
        "duration": 66,
        "start_time": "2022-03-11T16:06:58.618Z"
      },
      {
        "duration": 203,
        "start_time": "2022-03-11T16:31:42.368Z"
      },
      {
        "duration": 21,
        "start_time": "2022-03-11T16:33:03.344Z"
      },
      {
        "duration": 33,
        "start_time": "2022-03-11T16:33:13.660Z"
      },
      {
        "duration": 33,
        "start_time": "2022-03-11T16:33:31.468Z"
      },
      {
        "duration": 34,
        "start_time": "2022-03-11T16:33:36.065Z"
      },
      {
        "duration": 517,
        "start_time": "2022-03-11T16:35:38.464Z"
      },
      {
        "duration": 233,
        "start_time": "2022-03-11T17:34:50.248Z"
      },
      {
        "duration": 25,
        "start_time": "2022-03-11T17:34:58.324Z"
      },
      {
        "duration": 28,
        "start_time": "2022-03-11T17:59:37.404Z"
      },
      {
        "duration": 25,
        "start_time": "2022-03-11T18:05:50.816Z"
      },
      {
        "duration": 25,
        "start_time": "2022-03-11T18:06:14.719Z"
      },
      {
        "duration": 25,
        "start_time": "2022-03-11T18:07:51.203Z"
      },
      {
        "duration": 222,
        "start_time": "2022-03-11T18:08:32.503Z"
      },
      {
        "duration": 32,
        "start_time": "2022-03-11T18:08:39.475Z"
      },
      {
        "duration": 27,
        "start_time": "2022-03-11T18:15:15.031Z"
      },
      {
        "duration": 25,
        "start_time": "2022-03-11T18:15:26.899Z"
      },
      {
        "duration": 6,
        "start_time": "2022-03-11T18:18:21.639Z"
      },
      {
        "duration": 11,
        "start_time": "2022-03-11T18:18:31.740Z"
      },
      {
        "duration": 13,
        "start_time": "2022-03-11T18:18:34.207Z"
      },
      {
        "duration": 16,
        "start_time": "2022-03-11T18:18:34.868Z"
      },
      {
        "duration": 17,
        "start_time": "2022-03-11T18:18:35.495Z"
      },
      {
        "duration": 16,
        "start_time": "2022-03-11T18:18:41.140Z"
      },
      {
        "duration": 4,
        "start_time": "2022-03-11T18:18:44.035Z"
      },
      {
        "duration": 456,
        "start_time": "2022-03-11T18:18:44.041Z"
      },
      {
        "duration": 118,
        "start_time": "2022-03-11T18:18:44.499Z"
      },
      {
        "duration": 174,
        "start_time": "2022-03-11T18:18:44.619Z"
      },
      {
        "duration": 226,
        "start_time": "2022-03-11T18:18:44.795Z"
      },
      {
        "duration": 87,
        "start_time": "2022-03-11T18:18:45.022Z"
      },
      {
        "duration": 7,
        "start_time": "2022-03-11T18:18:45.111Z"
      },
      {
        "duration": 162,
        "start_time": "2022-03-11T18:18:45.120Z"
      },
      {
        "duration": 80,
        "start_time": "2022-03-11T18:18:45.284Z"
      },
      {
        "duration": 27,
        "start_time": "2022-03-11T18:18:45.377Z"
      },
      {
        "duration": 10,
        "start_time": "2022-03-11T18:18:45.406Z"
      },
      {
        "duration": 59,
        "start_time": "2022-03-11T18:18:45.418Z"
      },
      {
        "duration": 26,
        "start_time": "2022-03-11T18:18:45.479Z"
      },
      {
        "duration": 15,
        "start_time": "2022-03-11T18:19:02.288Z"
      },
      {
        "duration": 14,
        "start_time": "2022-03-11T18:19:33.053Z"
      },
      {
        "duration": 15,
        "start_time": "2022-03-11T18:19:44.904Z"
      },
      {
        "duration": 3,
        "start_time": "2022-03-11T18:19:48.236Z"
      },
      {
        "duration": 422,
        "start_time": "2022-03-11T18:19:48.242Z"
      },
      {
        "duration": 112,
        "start_time": "2022-03-11T18:19:48.666Z"
      },
      {
        "duration": 138,
        "start_time": "2022-03-11T18:19:48.781Z"
      },
      {
        "duration": 213,
        "start_time": "2022-03-11T18:19:48.921Z"
      },
      {
        "duration": 82,
        "start_time": "2022-03-11T18:19:49.136Z"
      },
      {
        "duration": 9,
        "start_time": "2022-03-11T18:19:49.221Z"
      },
      {
        "duration": 169,
        "start_time": "2022-03-11T18:19:49.232Z"
      },
      {
        "duration": 52,
        "start_time": "2022-03-11T18:19:49.403Z"
      },
      {
        "duration": 37,
        "start_time": "2022-03-11T18:19:49.457Z"
      },
      {
        "duration": 14,
        "start_time": "2022-03-11T18:19:49.496Z"
      },
      {
        "duration": 31,
        "start_time": "2022-03-11T18:19:49.512Z"
      },
      {
        "duration": 53,
        "start_time": "2022-03-11T18:19:49.546Z"
      },
      {
        "duration": 25,
        "start_time": "2022-03-11T18:20:43.864Z"
      },
      {
        "duration": 3,
        "start_time": "2022-03-11T18:20:48.572Z"
      },
      {
        "duration": 419,
        "start_time": "2022-03-11T18:20:48.578Z"
      },
      {
        "duration": 110,
        "start_time": "2022-03-11T18:20:49.000Z"
      },
      {
        "duration": 143,
        "start_time": "2022-03-11T18:20:49.112Z"
      },
      {
        "duration": 200,
        "start_time": "2022-03-11T18:20:49.257Z"
      },
      {
        "duration": 70,
        "start_time": "2022-03-11T18:20:49.459Z"
      },
      {
        "duration": 7,
        "start_time": "2022-03-11T18:20:49.531Z"
      },
      {
        "duration": 163,
        "start_time": "2022-03-11T18:20:49.540Z"
      },
      {
        "duration": 50,
        "start_time": "2022-03-11T18:20:49.704Z"
      },
      {
        "duration": 39,
        "start_time": "2022-03-11T18:20:49.756Z"
      },
      {
        "duration": 5317,
        "start_time": "2022-03-11T18:20:49.797Z"
      },
      {
        "duration": 543,
        "start_time": "2022-03-11T18:20:54.573Z"
      },
      {
        "duration": 543,
        "start_time": "2022-03-11T18:20:54.574Z"
      },
      {
        "duration": 17,
        "start_time": "2022-03-11T18:21:05.504Z"
      },
      {
        "duration": 21,
        "start_time": "2022-03-11T18:21:28.440Z"
      },
      {
        "duration": 4,
        "start_time": "2022-03-11T18:21:34.108Z"
      },
      {
        "duration": 445,
        "start_time": "2022-03-11T18:21:34.114Z"
      },
      {
        "duration": 118,
        "start_time": "2022-03-11T18:21:34.564Z"
      },
      {
        "duration": 146,
        "start_time": "2022-03-11T18:21:34.684Z"
      },
      {
        "duration": 205,
        "start_time": "2022-03-11T18:21:34.831Z"
      },
      {
        "duration": 108,
        "start_time": "2022-03-11T18:21:35.038Z"
      },
      {
        "duration": 29,
        "start_time": "2022-03-11T18:21:35.149Z"
      },
      {
        "duration": 138,
        "start_time": "2022-03-11T18:21:35.181Z"
      },
      {
        "duration": 62,
        "start_time": "2022-03-11T18:21:35.320Z"
      },
      {
        "duration": 26,
        "start_time": "2022-03-11T18:21:35.384Z"
      },
      {
        "duration": 16,
        "start_time": "2022-03-11T18:21:35.412Z"
      },
      {
        "duration": 63,
        "start_time": "2022-03-11T18:21:35.430Z"
      },
      {
        "duration": 33,
        "start_time": "2022-03-11T18:21:35.495Z"
      },
      {
        "duration": 25,
        "start_time": "2022-03-11T18:59:09.503Z"
      },
      {
        "duration": 26,
        "start_time": "2022-03-11T18:59:19.084Z"
      },
      {
        "duration": 3,
        "start_time": "2022-03-11T18:59:22.192Z"
      },
      {
        "duration": 441,
        "start_time": "2022-03-11T18:59:22.197Z"
      },
      {
        "duration": 103,
        "start_time": "2022-03-11T18:59:22.640Z"
      },
      {
        "duration": 145,
        "start_time": "2022-03-11T18:59:22.745Z"
      },
      {
        "duration": 210,
        "start_time": "2022-03-11T18:59:22.892Z"
      },
      {
        "duration": 87,
        "start_time": "2022-03-11T18:59:23.105Z"
      },
      {
        "duration": 7,
        "start_time": "2022-03-11T18:59:23.194Z"
      },
      {
        "duration": 147,
        "start_time": "2022-03-11T18:59:23.202Z"
      },
      {
        "duration": 60,
        "start_time": "2022-03-11T18:59:23.352Z"
      },
      {
        "duration": 25,
        "start_time": "2022-03-11T18:59:23.414Z"
      },
      {
        "duration": 37,
        "start_time": "2022-03-11T18:59:23.441Z"
      },
      {
        "duration": 33,
        "start_time": "2022-03-11T18:59:23.481Z"
      },
      {
        "duration": 26,
        "start_time": "2022-03-11T18:59:23.516Z"
      },
      {
        "duration": 26,
        "start_time": "2022-03-11T18:59:42.251Z"
      },
      {
        "duration": 17,
        "start_time": "2022-03-11T18:59:52.012Z"
      },
      {
        "duration": 24,
        "start_time": "2022-03-11T19:00:51.672Z"
      },
      {
        "duration": 16,
        "start_time": "2022-03-11T19:00:54.696Z"
      },
      {
        "duration": 244,
        "start_time": "2022-03-11T19:04:54.464Z"
      },
      {
        "duration": 55,
        "start_time": "2022-03-11T19:05:08.769Z"
      },
      {
        "duration": 46,
        "start_time": "2022-03-11T19:05:12.584Z"
      },
      {
        "duration": 48,
        "start_time": "2022-03-11T19:05:25.448Z"
      },
      {
        "duration": 50,
        "start_time": "2022-03-11T19:05:34.312Z"
      },
      {
        "duration": 47,
        "start_time": "2022-03-11T19:05:39.569Z"
      },
      {
        "duration": 44,
        "start_time": "2022-03-11T19:05:45.100Z"
      },
      {
        "duration": 42,
        "start_time": "2022-03-11T19:05:54.444Z"
      },
      {
        "duration": 44,
        "start_time": "2022-03-11T19:05:59.412Z"
      },
      {
        "duration": 45,
        "start_time": "2022-03-11T19:06:03.412Z"
      },
      {
        "duration": 44,
        "start_time": "2022-03-11T19:06:08.389Z"
      },
      {
        "duration": 51,
        "start_time": "2022-03-11T19:06:18.105Z"
      },
      {
        "duration": 47,
        "start_time": "2022-03-11T19:06:30.116Z"
      },
      {
        "duration": 14,
        "start_time": "2022-03-11T19:06:39.049Z"
      },
      {
        "duration": 24,
        "start_time": "2022-03-11T19:06:58.033Z"
      },
      {
        "duration": 54,
        "start_time": "2022-03-11T19:08:21.640Z"
      },
      {
        "duration": 56,
        "start_time": "2022-03-11T19:08:33.629Z"
      },
      {
        "duration": 48,
        "start_time": "2022-03-11T19:08:38.269Z"
      },
      {
        "duration": 47,
        "start_time": "2022-03-11T19:08:56.292Z"
      },
      {
        "duration": 21,
        "start_time": "2022-03-11T19:09:04.432Z"
      },
      {
        "duration": 16,
        "start_time": "2022-03-11T19:09:07.180Z"
      },
      {
        "duration": 16,
        "start_time": "2022-03-11T19:09:12.624Z"
      },
      {
        "duration": 19,
        "start_time": "2022-03-11T19:09:21.664Z"
      },
      {
        "duration": 12,
        "start_time": "2022-03-11T19:09:29.661Z"
      },
      {
        "duration": 12,
        "start_time": "2022-03-11T19:09:37.632Z"
      },
      {
        "duration": 13,
        "start_time": "2022-03-11T19:09:38.397Z"
      },
      {
        "duration": 5298,
        "start_time": "2022-03-11T19:12:35.572Z"
      },
      {
        "duration": 14,
        "start_time": "2022-03-11T19:13:28.965Z"
      },
      {
        "duration": 15,
        "start_time": "2022-03-11T19:13:35.738Z"
      },
      {
        "duration": 16,
        "start_time": "2022-03-11T19:13:40.245Z"
      },
      {
        "duration": 3,
        "start_time": "2022-03-11T19:13:43.017Z"
      },
      {
        "duration": 451,
        "start_time": "2022-03-11T19:13:43.022Z"
      },
      {
        "duration": 111,
        "start_time": "2022-03-11T19:13:43.475Z"
      },
      {
        "duration": 133,
        "start_time": "2022-03-11T19:13:43.588Z"
      },
      {
        "duration": 203,
        "start_time": "2022-03-11T19:13:43.723Z"
      },
      {
        "duration": 78,
        "start_time": "2022-03-11T19:13:43.927Z"
      },
      {
        "duration": 7,
        "start_time": "2022-03-11T19:13:44.007Z"
      },
      {
        "duration": 149,
        "start_time": "2022-03-11T19:13:44.016Z"
      },
      {
        "duration": 48,
        "start_time": "2022-03-11T19:13:44.166Z"
      },
      {
        "duration": 24,
        "start_time": "2022-03-11T19:13:44.216Z"
      },
      {
        "duration": 37,
        "start_time": "2022-03-11T19:13:44.241Z"
      },
      {
        "duration": 33,
        "start_time": "2022-03-11T19:13:44.280Z"
      },
      {
        "duration": 14,
        "start_time": "2022-03-11T19:13:44.315Z"
      },
      {
        "duration": 45,
        "start_time": "2022-03-11T19:13:44.332Z"
      },
      {
        "duration": 23,
        "start_time": "2022-03-11T19:20:49.629Z"
      },
      {
        "duration": 3,
        "start_time": "2022-03-11T19:26:45.147Z"
      },
      {
        "duration": 426,
        "start_time": "2022-03-11T19:26:45.152Z"
      },
      {
        "duration": 133,
        "start_time": "2022-03-11T19:26:45.580Z"
      },
      {
        "duration": 179,
        "start_time": "2022-03-11T19:26:45.715Z"
      },
      {
        "duration": 237,
        "start_time": "2022-03-11T19:26:45.896Z"
      },
      {
        "duration": 92,
        "start_time": "2022-03-11T19:26:46.135Z"
      },
      {
        "duration": 7,
        "start_time": "2022-03-11T19:26:46.230Z"
      },
      {
        "duration": 160,
        "start_time": "2022-03-11T19:26:46.239Z"
      },
      {
        "duration": 49,
        "start_time": "2022-03-11T19:26:46.400Z"
      },
      {
        "duration": 41,
        "start_time": "2022-03-11T19:26:46.451Z"
      },
      {
        "duration": 14,
        "start_time": "2022-03-11T19:26:46.494Z"
      },
      {
        "duration": 37,
        "start_time": "2022-03-11T19:26:46.510Z"
      },
      {
        "duration": 39,
        "start_time": "2022-03-11T19:26:46.549Z"
      },
      {
        "duration": 21,
        "start_time": "2022-03-11T19:26:46.590Z"
      },
      {
        "duration": 9,
        "start_time": "2022-03-11T19:27:01.346Z"
      },
      {
        "duration": 20,
        "start_time": "2022-03-11T19:27:03.674Z"
      },
      {
        "duration": 4,
        "start_time": "2022-03-11T19:27:10.506Z"
      },
      {
        "duration": 450,
        "start_time": "2022-03-11T19:27:10.512Z"
      },
      {
        "duration": 119,
        "start_time": "2022-03-11T19:27:10.964Z"
      },
      {
        "duration": 142,
        "start_time": "2022-03-11T19:27:11.084Z"
      },
      {
        "duration": 218,
        "start_time": "2022-03-11T19:27:11.228Z"
      },
      {
        "duration": 75,
        "start_time": "2022-03-11T19:27:11.448Z"
      },
      {
        "duration": 7,
        "start_time": "2022-03-11T19:27:11.525Z"
      },
      {
        "duration": 162,
        "start_time": "2022-03-11T19:27:11.534Z"
      },
      {
        "duration": 47,
        "start_time": "2022-03-11T19:27:11.698Z"
      },
      {
        "duration": 42,
        "start_time": "2022-03-11T19:27:11.747Z"
      },
      {
        "duration": 20,
        "start_time": "2022-03-11T19:27:11.791Z"
      },
      {
        "duration": 69,
        "start_time": "2022-03-11T19:27:11.814Z"
      },
      {
        "duration": 16,
        "start_time": "2022-03-11T19:27:11.885Z"
      },
      {
        "duration": 12,
        "start_time": "2022-03-11T19:27:11.903Z"
      },
      {
        "duration": 36,
        "start_time": "2022-03-11T19:27:11.917Z"
      },
      {
        "duration": 18,
        "start_time": "2022-03-11T19:27:16.826Z"
      },
      {
        "duration": 18,
        "start_time": "2022-03-11T19:27:18.246Z"
      },
      {
        "duration": 18,
        "start_time": "2022-03-11T19:27:18.878Z"
      },
      {
        "duration": 19,
        "start_time": "2022-03-11T19:27:19.382Z"
      },
      {
        "duration": 16,
        "start_time": "2022-03-11T19:27:39.674Z"
      },
      {
        "duration": 8,
        "start_time": "2022-03-11T19:28:10.374Z"
      },
      {
        "duration": 12,
        "start_time": "2022-03-11T19:28:21.382Z"
      },
      {
        "duration": 14,
        "start_time": "2022-03-11T19:28:24.274Z"
      },
      {
        "duration": 10,
        "start_time": "2022-03-11T19:28:35.834Z"
      },
      {
        "duration": 22,
        "start_time": "2022-03-11T19:28:36.490Z"
      },
      {
        "duration": 236,
        "start_time": "2022-03-11T19:41:40.968Z"
      },
      {
        "duration": 231,
        "start_time": "2022-03-11T19:41:46.271Z"
      },
      {
        "duration": 211,
        "start_time": "2022-03-11T19:42:02.276Z"
      },
      {
        "duration": 210,
        "start_time": "2022-03-11T19:42:27.196Z"
      },
      {
        "duration": 224,
        "start_time": "2022-03-11T19:47:05.248Z"
      },
      {
        "duration": 9,
        "start_time": "2022-03-11T19:48:53.964Z"
      },
      {
        "duration": 12,
        "start_time": "2022-03-11T19:49:09.848Z"
      },
      {
        "duration": 210,
        "start_time": "2022-03-11T19:49:14.744Z"
      },
      {
        "duration": 7,
        "start_time": "2022-03-11T19:49:20.400Z"
      },
      {
        "duration": 20,
        "start_time": "2022-03-11T19:49:32.272Z"
      },
      {
        "duration": 262,
        "start_time": "2022-03-11T19:51:31.464Z"
      },
      {
        "duration": 9,
        "start_time": "2022-03-11T19:51:39.348Z"
      },
      {
        "duration": 10,
        "start_time": "2022-03-11T19:51:39.932Z"
      },
      {
        "duration": 21,
        "start_time": "2022-03-11T19:51:40.776Z"
      },
      {
        "duration": 11,
        "start_time": "2022-03-11T19:51:43.184Z"
      },
      {
        "duration": 46,
        "start_time": "2022-03-11T19:51:51.468Z"
      },
      {
        "duration": 44,
        "start_time": "2022-03-11T19:52:11.092Z"
      },
      {
        "duration": 57,
        "start_time": "2022-03-11T19:52:14.900Z"
      },
      {
        "duration": 3,
        "start_time": "2022-03-11T19:52:25.029Z"
      },
      {
        "duration": 435,
        "start_time": "2022-03-11T19:52:25.035Z"
      },
      {
        "duration": 120,
        "start_time": "2022-03-11T19:52:25.472Z"
      },
      {
        "duration": 131,
        "start_time": "2022-03-11T19:52:25.593Z"
      },
      {
        "duration": 210,
        "start_time": "2022-03-11T19:52:25.726Z"
      },
      {
        "duration": 84,
        "start_time": "2022-03-11T19:52:25.938Z"
      },
      {
        "duration": 7,
        "start_time": "2022-03-11T19:52:26.025Z"
      },
      {
        "duration": 152,
        "start_time": "2022-03-11T19:52:26.034Z"
      },
      {
        "duration": 47,
        "start_time": "2022-03-11T19:52:26.188Z"
      },
      {
        "duration": 43,
        "start_time": "2022-03-11T19:52:26.237Z"
      },
      {
        "duration": 14,
        "start_time": "2022-03-11T19:52:26.282Z"
      },
      {
        "duration": 41,
        "start_time": "2022-03-11T19:52:26.298Z"
      },
      {
        "duration": 8,
        "start_time": "2022-03-11T19:52:26.341Z"
      },
      {
        "duration": 28,
        "start_time": "2022-03-11T19:52:26.351Z"
      },
      {
        "duration": 28,
        "start_time": "2022-03-11T19:52:26.381Z"
      },
      {
        "duration": 16,
        "start_time": "2022-03-11T19:52:26.411Z"
      },
      {
        "duration": 40,
        "start_time": "2022-03-11T19:52:26.429Z"
      },
      {
        "duration": 34,
        "start_time": "2022-03-11T19:52:26.471Z"
      },
      {
        "duration": 45,
        "start_time": "2022-03-11T19:52:26.509Z"
      },
      {
        "duration": 219,
        "start_time": "2022-03-11T19:54:36.224Z"
      },
      {
        "duration": 6,
        "start_time": "2022-03-11T19:54:44.980Z"
      },
      {
        "duration": 23,
        "start_time": "2022-03-11T19:54:56.632Z"
      },
      {
        "duration": 249,
        "start_time": "2022-03-11T19:55:09.812Z"
      },
      {
        "duration": 1246,
        "start_time": "2022-03-11T19:56:05.064Z"
      },
      {
        "duration": 492,
        "start_time": "2022-03-11T19:56:06.312Z"
      },
      {
        "duration": 105,
        "start_time": "2022-03-11T19:56:06.806Z"
      },
      {
        "duration": 134,
        "start_time": "2022-03-11T19:56:06.913Z"
      },
      {
        "duration": 269,
        "start_time": "2022-03-11T19:56:07.049Z"
      },
      {
        "duration": 84,
        "start_time": "2022-03-11T19:56:07.320Z"
      },
      {
        "duration": 8,
        "start_time": "2022-03-11T19:56:07.406Z"
      },
      {
        "duration": 166,
        "start_time": "2022-03-11T19:56:07.417Z"
      },
      {
        "duration": 65,
        "start_time": "2022-03-11T19:56:07.585Z"
      },
      {
        "duration": 46,
        "start_time": "2022-03-11T19:56:07.652Z"
      },
      {
        "duration": 15,
        "start_time": "2022-03-11T19:56:07.700Z"
      },
      {
        "duration": 34,
        "start_time": "2022-03-11T19:56:07.717Z"
      },
      {
        "duration": 9,
        "start_time": "2022-03-11T19:56:07.777Z"
      },
      {
        "duration": 9,
        "start_time": "2022-03-11T19:56:07.788Z"
      },
      {
        "duration": 15,
        "start_time": "2022-03-11T19:56:07.800Z"
      },
      {
        "duration": 11,
        "start_time": "2022-03-11T19:56:07.817Z"
      },
      {
        "duration": 16,
        "start_time": "2022-03-11T19:56:07.830Z"
      },
      {
        "duration": 45,
        "start_time": "2022-03-11T19:56:07.848Z"
      },
      {
        "duration": 32,
        "start_time": "2022-03-11T19:56:24.536Z"
      },
      {
        "duration": 6,
        "start_time": "2022-03-11T19:57:01.317Z"
      },
      {
        "duration": 19,
        "start_time": "2022-03-11T19:57:02.836Z"
      },
      {
        "duration": 6,
        "start_time": "2022-03-11T19:57:09.937Z"
      },
      {
        "duration": 19,
        "start_time": "2022-03-11T19:57:11.228Z"
      },
      {
        "duration": 6,
        "start_time": "2022-03-11T19:57:17.493Z"
      },
      {
        "duration": 18,
        "start_time": "2022-03-11T19:57:18.985Z"
      },
      {
        "duration": 33,
        "start_time": "2022-03-11T20:04:55.384Z"
      },
      {
        "duration": 34,
        "start_time": "2022-03-11T20:04:56.737Z"
      },
      {
        "duration": 34,
        "start_time": "2022-03-11T20:04:57.517Z"
      },
      {
        "duration": 38,
        "start_time": "2022-03-11T20:04:58.129Z"
      },
      {
        "duration": 40,
        "start_time": "2022-03-11T20:04:59.426Z"
      },
      {
        "duration": 20,
        "start_time": "2022-03-11T20:05:52.393Z"
      },
      {
        "duration": 28,
        "start_time": "2022-03-11T20:05:56.188Z"
      },
      {
        "duration": 3,
        "start_time": "2022-03-11T20:05:59.964Z"
      },
      {
        "duration": 459,
        "start_time": "2022-03-11T20:05:59.970Z"
      },
      {
        "duration": 97,
        "start_time": "2022-03-11T20:06:00.432Z"
      },
      {
        "duration": 154,
        "start_time": "2022-03-11T20:06:00.531Z"
      },
      {
        "duration": 232,
        "start_time": "2022-03-11T20:06:00.687Z"
      },
      {
        "duration": 79,
        "start_time": "2022-03-11T20:06:00.921Z"
      },
      {
        "duration": 8,
        "start_time": "2022-03-11T20:06:01.003Z"
      },
      {
        "duration": 146,
        "start_time": "2022-03-11T20:06:01.013Z"
      },
      {
        "duration": 52,
        "start_time": "2022-03-11T20:06:01.161Z"
      },
      {
        "duration": 25,
        "start_time": "2022-03-11T20:06:01.216Z"
      },
      {
        "duration": 35,
        "start_time": "2022-03-11T20:06:01.243Z"
      },
      {
        "duration": 35,
        "start_time": "2022-03-11T20:06:01.280Z"
      },
      {
        "duration": 8,
        "start_time": "2022-03-11T20:06:01.317Z"
      },
      {
        "duration": 15,
        "start_time": "2022-03-11T20:06:01.327Z"
      },
      {
        "duration": 39,
        "start_time": "2022-03-11T20:06:01.344Z"
      },
      {
        "duration": 17,
        "start_time": "2022-03-11T20:06:01.385Z"
      },
      {
        "duration": 18,
        "start_time": "2022-03-11T20:06:01.404Z"
      },
      {
        "duration": 25,
        "start_time": "2022-03-11T20:06:01.424Z"
      },
      {
        "duration": 8,
        "start_time": "2022-03-11T20:06:01.452Z"
      },
      {
        "duration": 32,
        "start_time": "2022-03-11T20:06:01.462Z"
      },
      {
        "duration": 444,
        "start_time": "2022-03-11T20:06:24.197Z"
      },
      {
        "duration": 17,
        "start_time": "2022-03-11T20:06:40.893Z"
      },
      {
        "duration": 10,
        "start_time": "2022-03-11T20:07:01.173Z"
      },
      {
        "duration": 24,
        "start_time": "2022-03-11T20:07:04.230Z"
      },
      {
        "duration": 3,
        "start_time": "2022-03-11T20:07:09.942Z"
      },
      {
        "duration": 477,
        "start_time": "2022-03-11T20:07:09.948Z"
      },
      {
        "duration": 101,
        "start_time": "2022-03-11T20:07:10.427Z"
      },
      {
        "duration": 146,
        "start_time": "2022-03-11T20:07:10.531Z"
      },
      {
        "duration": 211,
        "start_time": "2022-03-11T20:07:10.679Z"
      },
      {
        "duration": 88,
        "start_time": "2022-03-11T20:07:10.891Z"
      },
      {
        "duration": 7,
        "start_time": "2022-03-11T20:07:10.981Z"
      },
      {
        "duration": 147,
        "start_time": "2022-03-11T20:07:10.991Z"
      },
      {
        "duration": 64,
        "start_time": "2022-03-11T20:07:11.140Z"
      },
      {
        "duration": 26,
        "start_time": "2022-03-11T20:07:11.206Z"
      },
      {
        "duration": 15,
        "start_time": "2022-03-11T20:07:11.234Z"
      },
      {
        "duration": 55,
        "start_time": "2022-03-11T20:07:11.251Z"
      },
      {
        "duration": 7,
        "start_time": "2022-03-11T20:07:11.308Z"
      },
      {
        "duration": 8,
        "start_time": "2022-03-11T20:07:11.317Z"
      },
      {
        "duration": 16,
        "start_time": "2022-03-11T20:07:11.326Z"
      },
      {
        "duration": 40,
        "start_time": "2022-03-11T20:07:11.344Z"
      },
      {
        "duration": 9,
        "start_time": "2022-03-11T20:07:11.386Z"
      },
      {
        "duration": 19,
        "start_time": "2022-03-11T20:07:11.396Z"
      },
      {
        "duration": 8,
        "start_time": "2022-03-11T20:07:11.417Z"
      },
      {
        "duration": 51,
        "start_time": "2022-03-11T20:07:11.426Z"
      },
      {
        "duration": 17,
        "start_time": "2022-03-11T20:07:34.677Z"
      },
      {
        "duration": 8,
        "start_time": "2022-03-11T20:07:37.777Z"
      },
      {
        "duration": 26,
        "start_time": "2022-03-11T20:07:38.616Z"
      },
      {
        "duration": 3,
        "start_time": "2022-03-11T20:07:44.569Z"
      },
      {
        "duration": 457,
        "start_time": "2022-03-11T20:07:44.575Z"
      },
      {
        "duration": 103,
        "start_time": "2022-03-11T20:07:45.034Z"
      },
      {
        "duration": 148,
        "start_time": "2022-03-11T20:07:45.139Z"
      },
      {
        "duration": 216,
        "start_time": "2022-03-11T20:07:45.289Z"
      },
      {
        "duration": 80,
        "start_time": "2022-03-11T20:07:45.506Z"
      },
      {
        "duration": 7,
        "start_time": "2022-03-11T20:07:45.588Z"
      },
      {
        "duration": 146,
        "start_time": "2022-03-11T20:07:45.597Z"
      },
      {
        "duration": 61,
        "start_time": "2022-03-11T20:07:45.746Z"
      },
      {
        "duration": 28,
        "start_time": "2022-03-11T20:07:45.809Z"
      },
      {
        "duration": 21,
        "start_time": "2022-03-11T20:07:45.839Z"
      },
      {
        "duration": 35,
        "start_time": "2022-03-11T20:07:45.879Z"
      },
      {
        "duration": 7,
        "start_time": "2022-03-11T20:07:45.916Z"
      },
      {
        "duration": 10,
        "start_time": "2022-03-11T20:07:45.925Z"
      },
      {
        "duration": 42,
        "start_time": "2022-03-11T20:07:45.937Z"
      },
      {
        "duration": 10,
        "start_time": "2022-03-11T20:07:45.980Z"
      },
      {
        "duration": 7,
        "start_time": "2022-03-11T20:07:45.993Z"
      },
      {
        "duration": 21,
        "start_time": "2022-03-11T20:07:46.002Z"
      },
      {
        "duration": 8,
        "start_time": "2022-03-11T20:07:46.024Z"
      },
      {
        "duration": 57,
        "start_time": "2022-03-11T20:07:46.034Z"
      },
      {
        "duration": 21,
        "start_time": "2022-03-11T20:08:06.568Z"
      },
      {
        "duration": 9,
        "start_time": "2022-03-11T20:08:07.405Z"
      },
      {
        "duration": 29,
        "start_time": "2022-03-11T20:08:08.017Z"
      },
      {
        "duration": 3,
        "start_time": "2022-03-11T20:08:19.517Z"
      },
      {
        "duration": 450,
        "start_time": "2022-03-11T20:08:19.522Z"
      },
      {
        "duration": 123,
        "start_time": "2022-03-11T20:08:19.974Z"
      },
      {
        "duration": 140,
        "start_time": "2022-03-11T20:08:20.100Z"
      },
      {
        "duration": 217,
        "start_time": "2022-03-11T20:08:20.241Z"
      },
      {
        "duration": 67,
        "start_time": "2022-03-11T20:08:20.459Z"
      },
      {
        "duration": 7,
        "start_time": "2022-03-11T20:08:20.529Z"
      },
      {
        "duration": 132,
        "start_time": "2022-03-11T20:08:20.577Z"
      },
      {
        "duration": 47,
        "start_time": "2022-03-11T20:08:20.711Z"
      },
      {
        "duration": 38,
        "start_time": "2022-03-11T20:08:20.759Z"
      },
      {
        "duration": 14,
        "start_time": "2022-03-11T20:08:20.799Z"
      },
      {
        "duration": 45,
        "start_time": "2022-03-11T20:08:20.815Z"
      },
      {
        "duration": 22,
        "start_time": "2022-03-11T20:08:20.862Z"
      },
      {
        "duration": 17,
        "start_time": "2022-03-11T20:08:20.886Z"
      },
      {
        "duration": 31,
        "start_time": "2022-03-11T20:08:20.905Z"
      },
      {
        "duration": 18,
        "start_time": "2022-03-11T20:08:20.938Z"
      },
      {
        "duration": 13,
        "start_time": "2022-03-11T20:08:20.960Z"
      },
      {
        "duration": 45,
        "start_time": "2022-03-11T20:08:20.975Z"
      },
      {
        "duration": 23,
        "start_time": "2022-03-11T20:08:21.022Z"
      },
      {
        "duration": 32,
        "start_time": "2022-03-11T20:08:21.047Z"
      },
      {
        "duration": 10,
        "start_time": "2022-03-11T20:10:16.081Z"
      },
      {
        "duration": 10,
        "start_time": "2022-03-11T20:10:38.457Z"
      },
      {
        "duration": 10,
        "start_time": "2022-03-11T20:10:39.185Z"
      },
      {
        "duration": 11,
        "start_time": "2022-03-11T20:10:39.865Z"
      },
      {
        "duration": 31,
        "start_time": "2022-03-11T20:10:40.607Z"
      },
      {
        "duration": 30,
        "start_time": "2022-03-11T20:10:42.345Z"
      },
      {
        "duration": 24,
        "start_time": "2022-03-11T20:10:57.333Z"
      },
      {
        "duration": 5244,
        "start_time": "2022-03-11T20:11:40.621Z"
      },
      {
        "duration": 704,
        "start_time": "2022-03-11T20:11:45.163Z"
      },
      {
        "duration": 25,
        "start_time": "2022-03-11T20:11:48.610Z"
      },
      {
        "duration": 13,
        "start_time": "2022-03-11T20:12:03.117Z"
      },
      {
        "duration": 24,
        "start_time": "2022-03-11T20:12:22.557Z"
      },
      {
        "duration": 12,
        "start_time": "2022-03-11T20:12:30.721Z"
      },
      {
        "duration": 12,
        "start_time": "2022-03-11T20:12:32.581Z"
      },
      {
        "duration": 10,
        "start_time": "2022-03-11T20:12:33.473Z"
      },
      {
        "duration": 11,
        "start_time": "2022-03-11T20:12:34.177Z"
      },
      {
        "duration": 11,
        "start_time": "2022-03-11T20:12:34.869Z"
      },
      {
        "duration": 28,
        "start_time": "2022-03-11T20:12:47.317Z"
      },
      {
        "duration": 69,
        "start_time": "2022-03-11T20:13:48.597Z"
      },
      {
        "duration": 55,
        "start_time": "2022-03-11T20:13:50.225Z"
      },
      {
        "duration": 12,
        "start_time": "2022-03-11T20:14:29.353Z"
      },
      {
        "duration": 17,
        "start_time": "2022-03-11T20:14:32.189Z"
      },
      {
        "duration": 11,
        "start_time": "2022-03-11T20:14:45.013Z"
      },
      {
        "duration": 19,
        "start_time": "2022-03-11T20:14:45.753Z"
      },
      {
        "duration": 7,
        "start_time": "2022-03-11T20:16:02.541Z"
      },
      {
        "duration": 22,
        "start_time": "2022-03-11T20:16:06.029Z"
      },
      {
        "duration": 17,
        "start_time": "2022-03-11T20:17:20.749Z"
      },
      {
        "duration": 17,
        "start_time": "2022-03-11T20:17:32.781Z"
      },
      {
        "duration": 224,
        "start_time": "2022-03-11T20:17:35.085Z"
      },
      {
        "duration": 16,
        "start_time": "2022-03-11T20:17:40.742Z"
      },
      {
        "duration": 23,
        "start_time": "2022-03-11T20:17:41.849Z"
      },
      {
        "duration": 16,
        "start_time": "2022-03-11T20:18:01.689Z"
      },
      {
        "duration": 22,
        "start_time": "2022-03-11T20:18:03.225Z"
      },
      {
        "duration": 17,
        "start_time": "2022-03-11T20:18:09.649Z"
      },
      {
        "duration": 21,
        "start_time": "2022-03-11T20:18:10.473Z"
      },
      {
        "duration": 3,
        "start_time": "2022-03-11T20:18:14.385Z"
      },
      {
        "duration": 453,
        "start_time": "2022-03-11T20:18:14.390Z"
      },
      {
        "duration": 108,
        "start_time": "2022-03-11T20:18:14.846Z"
      },
      {
        "duration": 148,
        "start_time": "2022-03-11T20:18:14.956Z"
      },
      {
        "duration": 203,
        "start_time": "2022-03-11T20:18:15.106Z"
      },
      {
        "duration": 81,
        "start_time": "2022-03-11T20:18:15.311Z"
      },
      {
        "duration": 7,
        "start_time": "2022-03-11T20:18:15.393Z"
      },
      {
        "duration": 175,
        "start_time": "2022-03-11T20:18:15.402Z"
      },
      {
        "duration": 50,
        "start_time": "2022-03-11T20:18:15.580Z"
      },
      {
        "duration": 45,
        "start_time": "2022-03-11T20:18:15.632Z"
      },
      {
        "duration": 32,
        "start_time": "2022-03-11T20:18:15.679Z"
      },
      {
        "duration": 18,
        "start_time": "2022-03-11T20:18:15.714Z"
      },
      {
        "duration": 49,
        "start_time": "2022-03-11T20:18:15.734Z"
      },
      {
        "duration": 7,
        "start_time": "2022-03-11T20:18:15.785Z"
      },
      {
        "duration": 31,
        "start_time": "2022-03-11T20:18:15.794Z"
      },
      {
        "duration": 18,
        "start_time": "2022-03-11T20:18:15.827Z"
      },
      {
        "duration": 45,
        "start_time": "2022-03-11T20:18:15.847Z"
      },
      {
        "duration": 22,
        "start_time": "2022-03-11T20:19:19.541Z"
      },
      {
        "duration": 32,
        "start_time": "2022-03-11T20:19:21.149Z"
      },
      {
        "duration": 208,
        "start_time": "2022-03-11T20:22:19.129Z"
      },
      {
        "duration": 9,
        "start_time": "2022-03-11T20:22:22.834Z"
      },
      {
        "duration": 70,
        "start_time": "2022-04-05T17:46:55.940Z"
      },
      {
        "duration": 1736,
        "start_time": "2022-04-05T17:46:59.545Z"
      },
      {
        "duration": 574,
        "start_time": "2022-04-05T17:47:01.284Z"
      },
      {
        "duration": 155,
        "start_time": "2022-04-05T17:47:01.860Z"
      },
      {
        "duration": 164,
        "start_time": "2022-04-05T17:47:02.018Z"
      },
      {
        "duration": 317,
        "start_time": "2022-04-05T17:47:02.184Z"
      },
      {
        "duration": 99,
        "start_time": "2022-04-05T17:47:02.503Z"
      },
      {
        "duration": 47,
        "start_time": "2022-04-05T17:47:02.605Z"
      },
      {
        "duration": 170,
        "start_time": "2022-04-05T17:47:02.655Z"
      },
      {
        "duration": 89,
        "start_time": "2022-04-05T17:47:02.827Z"
      },
      {
        "duration": 52,
        "start_time": "2022-04-05T17:47:02.920Z"
      },
      {
        "duration": 36,
        "start_time": "2022-04-05T17:47:02.974Z"
      },
      {
        "duration": 41,
        "start_time": "2022-04-05T17:47:03.013Z"
      },
      {
        "duration": 25,
        "start_time": "2022-04-05T17:47:03.056Z"
      },
      {
        "duration": 45,
        "start_time": "2022-04-06T15:31:21.114Z"
      },
      {
        "duration": 1406,
        "start_time": "2022-04-06T15:31:25.338Z"
      },
      {
        "duration": 454,
        "start_time": "2022-04-06T15:31:27.942Z"
      },
      {
        "duration": 105,
        "start_time": "2022-04-06T15:33:19.406Z"
      },
      {
        "duration": 48,
        "start_time": "2022-04-06T21:07:59.454Z"
      },
      {
        "duration": 1416,
        "start_time": "2022-04-06T21:08:02.634Z"
      },
      {
        "duration": 459,
        "start_time": "2022-04-06T21:08:04.053Z"
      },
      {
        "duration": 127,
        "start_time": "2022-04-06T21:08:04.513Z"
      },
      {
        "duration": 123,
        "start_time": "2022-04-06T21:08:04.643Z"
      },
      {
        "duration": 232,
        "start_time": "2022-04-06T21:08:04.767Z"
      },
      {
        "duration": 79,
        "start_time": "2022-04-06T21:08:05.001Z"
      },
      {
        "duration": 8,
        "start_time": "2022-04-06T21:08:05.082Z"
      },
      {
        "duration": 95,
        "start_time": "2022-04-06T21:08:05.091Z"
      },
      {
        "duration": 0,
        "start_time": "2022-04-06T21:08:05.188Z"
      },
      {
        "duration": 0,
        "start_time": "2022-04-06T21:08:05.189Z"
      },
      {
        "duration": 0,
        "start_time": "2022-04-06T21:08:05.190Z"
      },
      {
        "duration": 0,
        "start_time": "2022-04-06T21:08:05.191Z"
      },
      {
        "duration": 0,
        "start_time": "2022-04-06T21:08:05.191Z"
      },
      {
        "duration": 0,
        "start_time": "2022-04-06T21:08:05.192Z"
      },
      {
        "duration": 6,
        "start_time": "2022-04-06T21:08:17.161Z"
      },
      {
        "duration": 112,
        "start_time": "2022-04-06T21:08:20.816Z"
      },
      {
        "duration": 6,
        "start_time": "2022-04-06T21:15:52.668Z"
      },
      {
        "duration": 11,
        "start_time": "2022-04-06T21:16:04.600Z"
      },
      {
        "duration": 11,
        "start_time": "2022-04-06T21:16:23.436Z"
      },
      {
        "duration": 7,
        "start_time": "2022-04-06T21:16:46.784Z"
      },
      {
        "duration": 11,
        "start_time": "2022-04-06T21:16:47.828Z"
      },
      {
        "duration": 2,
        "start_time": "2022-04-06T21:17:03.729Z"
      },
      {
        "duration": 11,
        "start_time": "2022-04-06T21:17:05.336Z"
      },
      {
        "duration": 11,
        "start_time": "2022-04-06T21:17:06.340Z"
      },
      {
        "duration": 7,
        "start_time": "2022-04-06T21:17:13.144Z"
      },
      {
        "duration": 11,
        "start_time": "2022-04-06T21:17:14.288Z"
      },
      {
        "duration": 119,
        "start_time": "2022-04-06T21:20:27.184Z"
      },
      {
        "duration": 6,
        "start_time": "2022-04-06T21:20:27.919Z"
      },
      {
        "duration": 4,
        "start_time": "2022-04-06T21:20:30.776Z"
      },
      {
        "duration": 11,
        "start_time": "2022-04-06T21:21:13.300Z"
      },
      {
        "duration": 4,
        "start_time": "2022-04-06T21:22:00.920Z"
      },
      {
        "duration": 7,
        "start_time": "2022-04-06T21:22:29.344Z"
      },
      {
        "duration": 11,
        "start_time": "2022-04-06T21:27:16.075Z"
      },
      {
        "duration": 2,
        "start_time": "2022-04-06T21:27:32.955Z"
      },
      {
        "duration": 11,
        "start_time": "2022-04-06T21:27:48.615Z"
      },
      {
        "duration": 413,
        "start_time": "2022-04-06T21:32:12.530Z"
      },
      {
        "duration": 384,
        "start_time": "2022-04-06T21:32:18.886Z"
      },
      {
        "duration": 161,
        "start_time": "2022-04-06T21:32:27.166Z"
      },
      {
        "duration": 170,
        "start_time": "2022-04-06T21:32:30.175Z"
      },
      {
        "duration": 251,
        "start_time": "2022-04-06T21:32:34.266Z"
      },
      {
        "duration": 168,
        "start_time": "2022-04-06T21:32:38.306Z"
      },
      {
        "duration": 161,
        "start_time": "2022-04-06T21:32:45.846Z"
      },
      {
        "duration": 153,
        "start_time": "2022-04-06T21:32:51.902Z"
      },
      {
        "duration": 164,
        "start_time": "2022-04-06T21:33:06.430Z"
      },
      {
        "duration": 10,
        "start_time": "2022-04-06T21:33:37.846Z"
      },
      {
        "duration": 2326,
        "start_time": "2022-04-06T21:33:43.990Z"
      },
      {
        "duration": 10,
        "start_time": "2022-04-06T21:33:46.662Z"
      },
      {
        "duration": 2,
        "start_time": "2022-04-06T21:35:45.806Z"
      },
      {
        "duration": 9,
        "start_time": "2022-04-06T21:36:13.221Z"
      },
      {
        "duration": 221,
        "start_time": "2022-04-06T21:36:26.882Z"
      },
      {
        "duration": 6,
        "start_time": "2022-04-06T21:36:30.058Z"
      },
      {
        "duration": 9,
        "start_time": "2022-04-06T21:36:44.217Z"
      },
      {
        "duration": 21,
        "start_time": "2022-04-06T21:36:53.489Z"
      },
      {
        "duration": 8,
        "start_time": "2022-04-06T21:38:45.298Z"
      },
      {
        "duration": 3,
        "start_time": "2022-04-06T21:39:33.585Z"
      },
      {
        "duration": 9,
        "start_time": "2022-04-06T21:39:41.225Z"
      },
      {
        "duration": 8,
        "start_time": "2022-04-06T21:40:37.581Z"
      },
      {
        "duration": 9,
        "start_time": "2022-04-06T21:42:32.929Z"
      },
      {
        "duration": 8,
        "start_time": "2022-04-06T21:42:38.561Z"
      },
      {
        "duration": 19,
        "start_time": "2022-04-06T21:42:41.497Z"
      },
      {
        "duration": 11,
        "start_time": "2022-04-06T21:42:55.346Z"
      },
      {
        "duration": 153,
        "start_time": "2022-04-06T21:43:10.305Z"
      },
      {
        "duration": 7,
        "start_time": "2022-04-06T21:43:12.789Z"
      },
      {
        "duration": 391,
        "start_time": "2022-04-06T21:44:09.697Z"
      },
      {
        "duration": 203,
        "start_time": "2022-04-06T21:44:16.293Z"
      },
      {
        "duration": 223,
        "start_time": "2022-04-06T21:44:21.985Z"
      },
      {
        "duration": 200,
        "start_time": "2022-04-06T21:44:26.013Z"
      },
      {
        "duration": 15,
        "start_time": "2022-04-06T21:46:14.989Z"
      },
      {
        "duration": 248,
        "start_time": "2022-04-06T21:53:07.831Z"
      },
      {
        "duration": 162,
        "start_time": "2022-04-06T21:53:30.895Z"
      },
      {
        "duration": 163,
        "start_time": "2022-04-06T21:53:40.755Z"
      },
      {
        "duration": 139,
        "start_time": "2022-04-06T21:55:25.459Z"
      },
      {
        "duration": 10,
        "start_time": "2022-04-06T21:55:44.438Z"
      },
      {
        "duration": 25,
        "start_time": "2022-04-06T21:55:57.756Z"
      },
      {
        "duration": 2,
        "start_time": "2022-04-06T21:56:31.862Z"
      },
      {
        "duration": 5,
        "start_time": "2022-04-06T21:56:47.770Z"
      },
      {
        "duration": 19,
        "start_time": "2022-04-06T21:57:08.955Z"
      },
      {
        "duration": 31,
        "start_time": "2022-04-06T21:58:02.970Z"
      },
      {
        "duration": 11,
        "start_time": "2022-04-06T21:58:18.291Z"
      },
      {
        "duration": 15,
        "start_time": "2022-04-06T21:58:31.594Z"
      },
      {
        "duration": 19,
        "start_time": "2022-04-06T21:58:57.162Z"
      },
      {
        "duration": 11,
        "start_time": "2022-04-06T21:59:03.494Z"
      },
      {
        "duration": 11,
        "start_time": "2022-04-06T21:59:04.446Z"
      },
      {
        "duration": 3,
        "start_time": "2022-04-06T21:59:54.250Z"
      },
      {
        "duration": 22,
        "start_time": "2022-04-06T22:00:28.386Z"
      },
      {
        "duration": 448,
        "start_time": "2022-04-06T22:01:21.146Z"
      },
      {
        "duration": 28,
        "start_time": "2022-04-06T22:02:15.665Z"
      },
      {
        "duration": 2219,
        "start_time": "2022-04-06T22:03:00.865Z"
      },
      {
        "duration": 2235,
        "start_time": "2022-04-06T22:03:51.698Z"
      },
      {
        "duration": 96,
        "start_time": "2022-04-06T22:04:07.997Z"
      },
      {
        "duration": 18,
        "start_time": "2022-04-06T22:04:36.561Z"
      },
      {
        "duration": 10,
        "start_time": "2022-04-06T22:04:54.153Z"
      },
      {
        "duration": 391,
        "start_time": "2022-04-06T22:05:10.190Z"
      },
      {
        "duration": 150,
        "start_time": "2022-04-06T22:05:29.334Z"
      },
      {
        "duration": 143,
        "start_time": "2022-04-06T22:05:41.309Z"
      },
      {
        "duration": 8,
        "start_time": "2022-04-06T22:07:08.889Z"
      },
      {
        "duration": 9,
        "start_time": "2022-04-06T22:07:54.604Z"
      },
      {
        "duration": 6,
        "start_time": "2022-04-06T22:08:05.357Z"
      },
      {
        "duration": 168,
        "start_time": "2022-04-06T22:09:22.836Z"
      },
      {
        "duration": 8,
        "start_time": "2022-04-06T22:10:24.081Z"
      },
      {
        "duration": 8,
        "start_time": "2022-04-06T22:10:29.940Z"
      },
      {
        "duration": 14,
        "start_time": "2022-04-06T22:10:37.564Z"
      },
      {
        "duration": 187,
        "start_time": "2022-04-06T22:12:36.680Z"
      },
      {
        "duration": 1452,
        "start_time": "2022-04-06T22:12:41.641Z"
      },
      {
        "duration": 421,
        "start_time": "2022-04-06T22:12:46.180Z"
      },
      {
        "duration": 14,
        "start_time": "2022-04-06T22:13:09.872Z"
      },
      {
        "duration": 275,
        "start_time": "2022-04-06T22:13:12.040Z"
      },
      {
        "duration": 13,
        "start_time": "2022-04-06T22:13:13.220Z"
      },
      {
        "duration": 9,
        "start_time": "2022-04-06T22:16:15.988Z"
      },
      {
        "duration": 168,
        "start_time": "2022-04-06T22:16:26.663Z"
      },
      {
        "duration": 9,
        "start_time": "2022-04-06T22:16:40.539Z"
      },
      {
        "duration": 12,
        "start_time": "2022-04-06T22:16:44.191Z"
      },
      {
        "duration": 44,
        "start_time": "2022-04-07T18:37:41.241Z"
      },
      {
        "duration": 1233,
        "start_time": "2022-04-07T18:37:44.613Z"
      },
      {
        "duration": 364,
        "start_time": "2022-04-07T18:37:45.848Z"
      },
      {
        "duration": 100,
        "start_time": "2022-04-07T18:37:46.213Z"
      },
      {
        "duration": 103,
        "start_time": "2022-04-07T18:37:46.315Z"
      },
      {
        "duration": 71,
        "start_time": "2022-04-07T18:37:46.420Z"
      },
      {
        "duration": 201,
        "start_time": "2022-04-07T18:37:46.492Z"
      },
      {
        "duration": 118,
        "start_time": "2022-04-07T18:37:46.695Z"
      },
      {
        "duration": 5,
        "start_time": "2022-04-07T18:37:46.815Z"
      },
      {
        "duration": 26,
        "start_time": "2022-04-07T18:37:46.822Z"
      },
      {
        "duration": 14,
        "start_time": "2022-04-07T18:37:46.851Z"
      },
      {
        "duration": 28,
        "start_time": "2022-04-07T18:37:46.866Z"
      },
      {
        "duration": 34,
        "start_time": "2022-04-07T18:37:46.895Z"
      },
      {
        "duration": 9,
        "start_time": "2022-04-07T18:37:46.930Z"
      },
      {
        "duration": 156,
        "start_time": "2022-04-07T18:37:46.940Z"
      },
      {
        "duration": 217,
        "start_time": "2022-04-07T18:37:47.097Z"
      },
      {
        "duration": 8,
        "start_time": "2022-04-07T18:37:47.316Z"
      },
      {
        "duration": 21,
        "start_time": "2022-04-07T18:37:47.325Z"
      },
      {
        "duration": 178,
        "start_time": "2022-04-07T18:37:47.348Z"
      },
      {
        "duration": 12,
        "start_time": "2022-04-07T18:37:47.528Z"
      },
      {
        "duration": 21,
        "start_time": "2022-04-07T18:37:47.542Z"
      },
      {
        "duration": 32,
        "start_time": "2022-04-07T18:37:47.564Z"
      },
      {
        "duration": 129,
        "start_time": "2022-04-07T18:37:47.597Z"
      },
      {
        "duration": 235,
        "start_time": "2022-04-07T18:37:47.728Z"
      },
      {
        "duration": 10,
        "start_time": "2022-04-07T18:37:47.964Z"
      },
      {
        "duration": 26,
        "start_time": "2022-04-07T18:37:47.976Z"
      },
      {
        "duration": 277,
        "start_time": "2022-04-07T18:37:48.003Z"
      },
      {
        "duration": 5,
        "start_time": "2022-04-07T18:37:48.281Z"
      },
      {
        "duration": 30,
        "start_time": "2022-04-07T18:37:48.289Z"
      },
      {
        "duration": 432,
        "start_time": "2022-04-07T18:37:48.363Z"
      },
      {
        "duration": 66,
        "start_time": "2022-04-07T18:37:48.797Z"
      },
      {
        "duration": 307,
        "start_time": "2022-04-07T18:37:48.864Z"
      },
      {
        "duration": 8,
        "start_time": "2022-04-07T18:37:49.173Z"
      },
      {
        "duration": 110,
        "start_time": "2022-04-07T18:37:49.182Z"
      },
      {
        "duration": 87,
        "start_time": "2022-04-07T18:37:49.294Z"
      },
      {
        "duration": 18,
        "start_time": "2022-04-07T18:37:49.383Z"
      },
      {
        "duration": 90,
        "start_time": "2022-04-07T18:37:49.403Z"
      },
      {
        "duration": 0,
        "start_time": "2022-04-07T18:37:49.494Z"
      },
      {
        "duration": 49,
        "start_time": "2022-04-07T18:46:24.903Z"
      },
      {
        "duration": 49,
        "start_time": "2022-04-07T18:46:37.643Z"
      },
      {
        "duration": 14,
        "start_time": "2022-04-07T19:00:28.354Z"
      },
      {
        "duration": 23,
        "start_time": "2022-04-07T19:07:18.137Z"
      },
      {
        "duration": 51,
        "start_time": "2022-04-07T19:08:28.013Z"
      },
      {
        "duration": 29,
        "start_time": "2022-04-07T19:08:40.848Z"
      },
      {
        "duration": 21,
        "start_time": "2022-04-07T19:08:50.684Z"
      },
      {
        "duration": 12,
        "start_time": "2022-04-07T19:09:28.269Z"
      },
      {
        "duration": 16,
        "start_time": "2022-04-07T19:09:39.520Z"
      },
      {
        "duration": 22,
        "start_time": "2022-04-07T19:09:46.981Z"
      },
      {
        "duration": 24,
        "start_time": "2022-04-07T19:10:02.996Z"
      },
      {
        "duration": 22,
        "start_time": "2022-04-07T19:10:25.332Z"
      },
      {
        "duration": 10,
        "start_time": "2022-04-07T19:10:57.452Z"
      },
      {
        "duration": 101,
        "start_time": "2022-04-07T19:13:04.744Z"
      },
      {
        "duration": 7,
        "start_time": "2022-04-07T19:13:07.248Z"
      },
      {
        "duration": 9,
        "start_time": "2022-04-07T19:13:17.972Z"
      },
      {
        "duration": 4,
        "start_time": "2022-04-07T19:14:12.148Z"
      },
      {
        "duration": 114,
        "start_time": "2022-04-07T19:15:07.937Z"
      },
      {
        "duration": 4,
        "start_time": "2022-04-07T19:15:13.192Z"
      },
      {
        "duration": 10,
        "start_time": "2022-04-07T19:15:21.154Z"
      },
      {
        "duration": 28,
        "start_time": "2022-04-07T19:15:32.560Z"
      },
      {
        "duration": 30,
        "start_time": "2022-04-07T19:15:45.665Z"
      },
      {
        "duration": 33,
        "start_time": "2022-04-07T19:16:27.305Z"
      },
      {
        "duration": 17,
        "start_time": "2022-04-07T19:20:16.283Z"
      },
      {
        "duration": 43,
        "start_time": "2022-04-07T19:20:32.576Z"
      },
      {
        "duration": 48,
        "start_time": "2022-04-07T19:21:45.547Z"
      },
      {
        "duration": 50,
        "start_time": "2022-04-07T19:22:02.147Z"
      },
      {
        "duration": 9,
        "start_time": "2022-04-07T19:23:17.244Z"
      },
      {
        "duration": 42,
        "start_time": "2022-04-07T19:23:23.425Z"
      },
      {
        "duration": 20,
        "start_time": "2022-04-07T19:23:53.247Z"
      },
      {
        "duration": 33,
        "start_time": "2022-04-07T19:23:55.071Z"
      },
      {
        "duration": 35,
        "start_time": "2022-04-07T19:24:26.527Z"
      },
      {
        "duration": 2,
        "start_time": "2022-04-07T19:27:04.319Z"
      },
      {
        "duration": 33,
        "start_time": "2022-04-07T19:28:55.955Z"
      },
      {
        "duration": 29,
        "start_time": "2022-04-07T19:33:01.171Z"
      },
      {
        "duration": 31,
        "start_time": "2022-04-07T19:33:04.814Z"
      },
      {
        "duration": 28,
        "start_time": "2022-04-07T19:33:10.054Z"
      },
      {
        "duration": 28,
        "start_time": "2022-04-07T19:33:12.602Z"
      },
      {
        "duration": 6,
        "start_time": "2022-04-07T19:42:58.045Z"
      },
      {
        "duration": 6,
        "start_time": "2022-04-07T19:43:10.289Z"
      },
      {
        "duration": 16,
        "start_time": "2022-04-07T19:45:23.446Z"
      },
      {
        "duration": 19,
        "start_time": "2022-04-07T19:45:29.000Z"
      },
      {
        "duration": 18,
        "start_time": "2022-04-07T19:45:39.282Z"
      },
      {
        "duration": 15,
        "start_time": "2022-04-07T19:46:08.272Z"
      },
      {
        "duration": 15,
        "start_time": "2022-04-07T19:52:56.075Z"
      },
      {
        "duration": 11,
        "start_time": "2022-04-07T19:53:18.283Z"
      },
      {
        "duration": 8,
        "start_time": "2022-04-07T19:53:26.520Z"
      },
      {
        "duration": 9,
        "start_time": "2022-04-07T19:54:14.639Z"
      },
      {
        "duration": 11,
        "start_time": "2022-04-07T19:54:19.251Z"
      },
      {
        "duration": 11,
        "start_time": "2022-04-07T19:56:04.155Z"
      },
      {
        "duration": 14,
        "start_time": "2022-04-07T19:56:20.846Z"
      },
      {
        "duration": 20,
        "start_time": "2022-04-07T19:56:53.583Z"
      },
      {
        "duration": 19,
        "start_time": "2022-04-07T19:57:04.323Z"
      },
      {
        "duration": 8,
        "start_time": "2022-04-07T19:57:06.367Z"
      },
      {
        "duration": 11,
        "start_time": "2022-04-07T19:57:16.642Z"
      },
      {
        "duration": 12,
        "start_time": "2022-04-07T19:57:37.423Z"
      },
      {
        "duration": 12,
        "start_time": "2022-04-07T19:58:09.619Z"
      },
      {
        "duration": 12,
        "start_time": "2022-04-07T19:58:15.559Z"
      },
      {
        "duration": 7,
        "start_time": "2022-04-07T19:58:58.523Z"
      },
      {
        "duration": 12,
        "start_time": "2022-04-07T19:59:21.670Z"
      },
      {
        "duration": 11,
        "start_time": "2022-04-07T19:59:26.250Z"
      },
      {
        "duration": 12,
        "start_time": "2022-04-07T19:59:32.399Z"
      },
      {
        "duration": 7,
        "start_time": "2022-04-07T19:59:40.598Z"
      },
      {
        "duration": 9,
        "start_time": "2022-04-07T19:59:45.027Z"
      },
      {
        "duration": 12,
        "start_time": "2022-04-07T20:00:07.642Z"
      },
      {
        "duration": 13,
        "start_time": "2022-04-07T20:01:32.990Z"
      },
      {
        "duration": 12,
        "start_time": "2022-04-07T20:01:37.995Z"
      },
      {
        "duration": 19,
        "start_time": "2022-04-07T20:01:42.051Z"
      },
      {
        "duration": 104,
        "start_time": "2022-04-07T20:01:53.142Z"
      },
      {
        "duration": 12,
        "start_time": "2022-04-07T20:01:57.474Z"
      },
      {
        "duration": 18,
        "start_time": "2022-04-07T20:02:10.886Z"
      },
      {
        "duration": 13,
        "start_time": "2022-04-07T20:02:46.626Z"
      },
      {
        "duration": 19,
        "start_time": "2022-04-07T20:03:33.643Z"
      },
      {
        "duration": 20,
        "start_time": "2022-04-07T20:03:55.150Z"
      },
      {
        "duration": 12,
        "start_time": "2022-04-07T20:04:17.058Z"
      },
      {
        "duration": 13,
        "start_time": "2022-04-07T20:05:59.602Z"
      },
      {
        "duration": 10,
        "start_time": "2022-04-07T20:06:14.934Z"
      },
      {
        "duration": 12,
        "start_time": "2022-04-07T20:06:28.514Z"
      },
      {
        "duration": 12,
        "start_time": "2022-04-07T20:06:40.110Z"
      },
      {
        "duration": 9,
        "start_time": "2022-04-07T20:06:45.502Z"
      },
      {
        "duration": 11,
        "start_time": "2022-04-07T20:06:50.683Z"
      },
      {
        "duration": 11,
        "start_time": "2022-04-07T20:07:16.018Z"
      },
      {
        "duration": 14,
        "start_time": "2022-04-07T20:07:35.970Z"
      },
      {
        "duration": 15,
        "start_time": "2022-04-07T20:07:49.934Z"
      },
      {
        "duration": 15,
        "start_time": "2022-04-07T20:08:11.274Z"
      },
      {
        "duration": 5,
        "start_time": "2022-04-07T20:08:43.614Z"
      },
      {
        "duration": 13,
        "start_time": "2022-04-07T20:08:51.582Z"
      },
      {
        "duration": 13,
        "start_time": "2022-04-07T20:08:54.246Z"
      },
      {
        "duration": 7,
        "start_time": "2022-04-07T20:08:55.837Z"
      },
      {
        "duration": 15,
        "start_time": "2022-04-07T20:09:21.770Z"
      },
      {
        "duration": 11,
        "start_time": "2022-04-07T20:09:40.018Z"
      },
      {
        "duration": 13,
        "start_time": "2022-04-07T20:10:27.682Z"
      },
      {
        "duration": 108,
        "start_time": "2022-04-07T20:10:58.330Z"
      },
      {
        "duration": 13,
        "start_time": "2022-04-07T20:11:02.562Z"
      },
      {
        "duration": 13,
        "start_time": "2022-04-07T20:11:32.450Z"
      },
      {
        "duration": 101,
        "start_time": "2022-04-07T20:11:48.097Z"
      },
      {
        "duration": 13,
        "start_time": "2022-04-07T20:11:53.781Z"
      },
      {
        "duration": 102,
        "start_time": "2022-04-07T20:11:57.641Z"
      },
      {
        "duration": 12,
        "start_time": "2022-04-07T20:12:13.122Z"
      },
      {
        "duration": 13,
        "start_time": "2022-04-07T20:12:24.809Z"
      },
      {
        "duration": 125,
        "start_time": "2022-04-07T20:12:28.182Z"
      },
      {
        "duration": 104,
        "start_time": "2022-04-07T20:12:30.293Z"
      },
      {
        "duration": 17,
        "start_time": "2022-04-07T20:12:33.281Z"
      },
      {
        "duration": 13,
        "start_time": "2022-04-07T20:12:51.393Z"
      },
      {
        "duration": 18,
        "start_time": "2022-04-07T20:13:57.129Z"
      },
      {
        "duration": 19,
        "start_time": "2022-04-07T20:14:14.877Z"
      },
      {
        "duration": 11,
        "start_time": "2022-04-07T20:14:24.565Z"
      },
      {
        "duration": 20,
        "start_time": "2022-04-07T20:14:38.009Z"
      },
      {
        "duration": 15,
        "start_time": "2022-04-07T20:15:14.226Z"
      },
      {
        "duration": 31,
        "start_time": "2022-04-07T20:15:16.902Z"
      },
      {
        "duration": 90,
        "start_time": "2022-04-07T20:15:51.158Z"
      },
      {
        "duration": 6,
        "start_time": "2022-04-07T20:15:54.049Z"
      },
      {
        "duration": 20,
        "start_time": "2022-04-07T20:15:54.997Z"
      },
      {
        "duration": 13,
        "start_time": "2022-04-07T20:16:14.713Z"
      },
      {
        "duration": 14,
        "start_time": "2022-04-07T20:16:19.585Z"
      },
      {
        "duration": 13,
        "start_time": "2022-04-07T20:16:37.146Z"
      },
      {
        "duration": 13,
        "start_time": "2022-04-07T20:17:12.521Z"
      },
      {
        "duration": 9,
        "start_time": "2022-04-07T20:18:14.932Z"
      },
      {
        "duration": 9,
        "start_time": "2022-04-07T20:18:18.053Z"
      },
      {
        "duration": 15,
        "start_time": "2022-04-07T20:18:27.097Z"
      },
      {
        "duration": 11,
        "start_time": "2022-04-07T20:18:47.445Z"
      },
      {
        "duration": 11,
        "start_time": "2022-04-07T20:23:03.168Z"
      },
      {
        "duration": 12,
        "start_time": "2022-04-07T20:23:04.064Z"
      },
      {
        "duration": 11,
        "start_time": "2022-04-07T20:23:04.800Z"
      },
      {
        "duration": 8,
        "start_time": "2022-04-07T20:24:13.184Z"
      },
      {
        "duration": 6,
        "start_time": "2022-04-07T20:24:17.929Z"
      },
      {
        "duration": 13,
        "start_time": "2022-04-07T20:24:22.236Z"
      },
      {
        "duration": 17,
        "start_time": "2022-04-07T20:25:47.808Z"
      },
      {
        "duration": 16,
        "start_time": "2022-04-07T20:27:27.540Z"
      },
      {
        "duration": 10,
        "start_time": "2022-04-07T20:27:31.296Z"
      },
      {
        "duration": 19,
        "start_time": "2022-04-07T20:27:37.140Z"
      },
      {
        "duration": 14,
        "start_time": "2022-04-07T20:27:40.684Z"
      },
      {
        "duration": 6,
        "start_time": "2022-04-07T20:27:59.404Z"
      },
      {
        "duration": 7,
        "start_time": "2022-04-07T20:28:11.652Z"
      },
      {
        "duration": 6,
        "start_time": "2022-04-07T20:28:25.920Z"
      },
      {
        "duration": 15,
        "start_time": "2022-04-07T20:28:44.691Z"
      },
      {
        "duration": 20,
        "start_time": "2022-04-07T20:30:12.076Z"
      },
      {
        "duration": 9,
        "start_time": "2022-04-07T20:30:19.692Z"
      },
      {
        "duration": 7,
        "start_time": "2022-04-07T20:31:16.992Z"
      },
      {
        "duration": 17,
        "start_time": "2022-04-07T20:31:18.100Z"
      },
      {
        "duration": 17,
        "start_time": "2022-04-07T20:38:15.462Z"
      },
      {
        "duration": 5,
        "start_time": "2022-04-07T20:38:42.911Z"
      },
      {
        "duration": 11,
        "start_time": "2022-04-07T20:38:57.519Z"
      },
      {
        "duration": 5,
        "start_time": "2022-04-07T20:39:37.499Z"
      },
      {
        "duration": 11,
        "start_time": "2022-04-07T20:39:38.759Z"
      },
      {
        "duration": 4,
        "start_time": "2022-04-07T20:39:52.263Z"
      },
      {
        "duration": 12,
        "start_time": "2022-04-07T20:39:54.006Z"
      },
      {
        "duration": 12,
        "start_time": "2022-04-07T20:39:54.986Z"
      },
      {
        "duration": 7,
        "start_time": "2022-04-07T20:40:11.359Z"
      },
      {
        "duration": 98,
        "start_time": "2022-04-07T20:40:31.975Z"
      },
      {
        "duration": 98,
        "start_time": "2022-04-07T20:40:57.391Z"
      },
      {
        "duration": 8,
        "start_time": "2022-04-07T20:41:02.815Z"
      },
      {
        "duration": 8,
        "start_time": "2022-04-07T20:41:30.883Z"
      },
      {
        "duration": 101,
        "start_time": "2022-04-07T20:41:57.083Z"
      },
      {
        "duration": 8,
        "start_time": "2022-04-07T20:42:05.887Z"
      },
      {
        "duration": 9,
        "start_time": "2022-04-07T20:42:23.750Z"
      },
      {
        "duration": 8,
        "start_time": "2022-04-07T20:42:30.047Z"
      },
      {
        "duration": 7,
        "start_time": "2022-04-07T20:42:50.663Z"
      },
      {
        "duration": 9,
        "start_time": "2022-04-07T20:42:57.878Z"
      },
      {
        "duration": 8,
        "start_time": "2022-04-07T20:43:12.479Z"
      },
      {
        "duration": 7,
        "start_time": "2022-04-07T20:43:22.178Z"
      },
      {
        "duration": 8,
        "start_time": "2022-04-07T20:45:17.274Z"
      },
      {
        "duration": 8,
        "start_time": "2022-04-07T20:47:13.138Z"
      },
      {
        "duration": 7,
        "start_time": "2022-04-07T20:47:59.530Z"
      },
      {
        "duration": 9,
        "start_time": "2022-04-07T20:48:18.114Z"
      },
      {
        "duration": 8,
        "start_time": "2022-04-07T20:48:23.366Z"
      },
      {
        "duration": 8,
        "start_time": "2022-04-07T20:48:24.726Z"
      },
      {
        "duration": 4,
        "start_time": "2022-04-07T20:48:37.334Z"
      },
      {
        "duration": 3,
        "start_time": "2022-04-07T20:48:45.435Z"
      },
      {
        "duration": 9,
        "start_time": "2022-04-07T20:48:57.678Z"
      },
      {
        "duration": 3,
        "start_time": "2022-04-07T20:49:02.814Z"
      },
      {
        "duration": 362,
        "start_time": "2022-04-07T20:49:02.818Z"
      },
      {
        "duration": 101,
        "start_time": "2022-04-07T20:49:03.182Z"
      },
      {
        "duration": 103,
        "start_time": "2022-04-07T20:49:03.284Z"
      },
      {
        "duration": 79,
        "start_time": "2022-04-07T20:49:03.389Z"
      },
      {
        "duration": 197,
        "start_time": "2022-04-07T20:49:03.470Z"
      },
      {
        "duration": 118,
        "start_time": "2022-04-07T20:49:03.669Z"
      },
      {
        "duration": 5,
        "start_time": "2022-04-07T20:49:03.790Z"
      },
      {
        "duration": 9,
        "start_time": "2022-04-07T20:49:03.797Z"
      },
      {
        "duration": 8,
        "start_time": "2022-04-07T20:49:03.808Z"
      },
      {
        "duration": 14,
        "start_time": "2022-04-07T20:49:03.819Z"
      },
      {
        "duration": 43,
        "start_time": "2022-04-07T20:49:03.834Z"
      },
      {
        "duration": 9,
        "start_time": "2022-04-07T20:49:03.879Z"
      },
      {
        "duration": 1576,
        "start_time": "2022-04-07T20:49:03.889Z"
      },
      {
        "duration": 0,
        "start_time": "2022-04-07T20:49:05.469Z"
      },
      {
        "duration": 0,
        "start_time": "2022-04-07T20:49:05.470Z"
      },
      {
        "duration": 0,
        "start_time": "2022-04-07T20:49:05.471Z"
      },
      {
        "duration": 0,
        "start_time": "2022-04-07T20:49:05.473Z"
      },
      {
        "duration": 0,
        "start_time": "2022-04-07T20:49:05.474Z"
      },
      {
        "duration": 0,
        "start_time": "2022-04-07T20:49:05.475Z"
      },
      {
        "duration": 0,
        "start_time": "2022-04-07T20:49:05.476Z"
      },
      {
        "duration": 0,
        "start_time": "2022-04-07T20:49:05.477Z"
      },
      {
        "duration": 0,
        "start_time": "2022-04-07T20:49:05.479Z"
      },
      {
        "duration": 0,
        "start_time": "2022-04-07T20:49:05.480Z"
      },
      {
        "duration": 0,
        "start_time": "2022-04-07T20:49:05.481Z"
      },
      {
        "duration": 0,
        "start_time": "2022-04-07T20:49:05.481Z"
      },
      {
        "duration": 0,
        "start_time": "2022-04-07T20:49:05.483Z"
      },
      {
        "duration": 0,
        "start_time": "2022-04-07T20:49:05.489Z"
      },
      {
        "duration": 0,
        "start_time": "2022-04-07T20:49:05.490Z"
      },
      {
        "duration": 0,
        "start_time": "2022-04-07T20:49:05.492Z"
      },
      {
        "duration": 0,
        "start_time": "2022-04-07T20:49:05.493Z"
      },
      {
        "duration": 0,
        "start_time": "2022-04-07T20:49:05.493Z"
      },
      {
        "duration": 0,
        "start_time": "2022-04-07T20:49:05.494Z"
      },
      {
        "duration": 1,
        "start_time": "2022-04-07T20:49:05.495Z"
      },
      {
        "duration": 0,
        "start_time": "2022-04-07T20:49:05.497Z"
      },
      {
        "duration": 0,
        "start_time": "2022-04-07T20:49:05.498Z"
      },
      {
        "duration": 0,
        "start_time": "2022-04-07T20:49:05.499Z"
      },
      {
        "duration": 0,
        "start_time": "2022-04-07T20:49:05.500Z"
      },
      {
        "duration": 0,
        "start_time": "2022-04-07T20:49:05.501Z"
      },
      {
        "duration": 0,
        "start_time": "2022-04-07T20:49:05.504Z"
      },
      {
        "duration": 0,
        "start_time": "2022-04-07T20:49:05.505Z"
      },
      {
        "duration": 0,
        "start_time": "2022-04-07T20:49:05.506Z"
      },
      {
        "duration": 0,
        "start_time": "2022-04-07T20:49:05.507Z"
      },
      {
        "duration": 0,
        "start_time": "2022-04-07T20:49:05.508Z"
      },
      {
        "duration": 0,
        "start_time": "2022-04-07T20:49:05.509Z"
      },
      {
        "duration": 0,
        "start_time": "2022-04-07T20:49:05.510Z"
      },
      {
        "duration": 0,
        "start_time": "2022-04-07T20:49:05.563Z"
      },
      {
        "duration": 0,
        "start_time": "2022-04-07T20:49:05.564Z"
      },
      {
        "duration": 0,
        "start_time": "2022-04-07T20:49:05.565Z"
      },
      {
        "duration": 0,
        "start_time": "2022-04-07T20:49:05.566Z"
      },
      {
        "duration": 4,
        "start_time": "2022-04-07T20:49:12.257Z"
      },
      {
        "duration": 17,
        "start_time": "2022-04-07T20:49:26.994Z"
      },
      {
        "duration": 1630,
        "start_time": "2022-04-07T20:49:35.997Z"
      },
      {
        "duration": 79,
        "start_time": "2022-04-07T20:49:58.089Z"
      },
      {
        "duration": 142,
        "start_time": "2022-04-07T20:50:09.441Z"
      },
      {
        "duration": 8,
        "start_time": "2022-04-07T20:50:13.910Z"
      },
      {
        "duration": 222,
        "start_time": "2022-04-07T20:50:14.577Z"
      },
      {
        "duration": 8,
        "start_time": "2022-04-07T20:50:18.377Z"
      },
      {
        "duration": 11,
        "start_time": "2022-04-07T20:50:21.274Z"
      },
      {
        "duration": 238,
        "start_time": "2022-04-07T20:50:24.150Z"
      },
      {
        "duration": 13,
        "start_time": "2022-04-07T20:50:26.337Z"
      },
      {
        "duration": 12,
        "start_time": "2022-04-07T20:50:28.558Z"
      },
      {
        "duration": 20,
        "start_time": "2022-04-07T20:50:30.486Z"
      },
      {
        "duration": 1617,
        "start_time": "2022-04-07T20:50:35.814Z"
      },
      {
        "duration": 200,
        "start_time": "2022-04-07T20:50:46.918Z"
      },
      {
        "duration": 182,
        "start_time": "2022-04-07T20:50:59.630Z"
      },
      {
        "duration": 211,
        "start_time": "2022-04-07T20:51:08.002Z"
      },
      {
        "duration": 9,
        "start_time": "2022-04-07T20:51:08.922Z"
      },
      {
        "duration": 2,
        "start_time": "2022-04-07T20:51:13.674Z"
      },
      {
        "duration": 391,
        "start_time": "2022-04-07T20:51:13.678Z"
      },
      {
        "duration": 114,
        "start_time": "2022-04-07T20:51:14.070Z"
      },
      {
        "duration": 104,
        "start_time": "2022-04-07T20:51:14.185Z"
      },
      {
        "duration": 78,
        "start_time": "2022-04-07T20:51:14.291Z"
      },
      {
        "duration": 216,
        "start_time": "2022-04-07T20:51:14.371Z"
      },
      {
        "duration": 120,
        "start_time": "2022-04-07T20:51:14.589Z"
      },
      {
        "duration": 5,
        "start_time": "2022-04-07T20:51:14.711Z"
      },
      {
        "duration": 14,
        "start_time": "2022-04-07T20:51:14.717Z"
      },
      {
        "duration": 20,
        "start_time": "2022-04-07T20:51:14.732Z"
      },
      {
        "duration": 18,
        "start_time": "2022-04-07T20:51:14.754Z"
      },
      {
        "duration": 50,
        "start_time": "2022-04-07T20:51:14.773Z"
      },
      {
        "duration": 9,
        "start_time": "2022-04-07T20:51:14.825Z"
      },
      {
        "duration": 150,
        "start_time": "2022-04-07T20:51:14.835Z"
      },
      {
        "duration": 222,
        "start_time": "2022-04-07T20:51:14.986Z"
      },
      {
        "duration": 8,
        "start_time": "2022-04-07T20:51:15.209Z"
      },
      {
        "duration": 15,
        "start_time": "2022-04-07T20:51:15.218Z"
      },
      {
        "duration": 181,
        "start_time": "2022-04-07T20:51:15.234Z"
      },
      {
        "duration": 14,
        "start_time": "2022-04-07T20:51:15.416Z"
      },
      {
        "duration": 11,
        "start_time": "2022-04-07T20:51:15.431Z"
      },
      {
        "duration": 37,
        "start_time": "2022-04-07T20:51:15.444Z"
      },
      {
        "duration": 141,
        "start_time": "2022-04-07T20:51:15.483Z"
      },
      {
        "duration": 142,
        "start_time": "2022-04-07T20:51:15.626Z"
      },
      {
        "duration": 11,
        "start_time": "2022-04-07T20:51:15.769Z"
      },
      {
        "duration": 25,
        "start_time": "2022-04-07T20:51:15.782Z"
      },
      {
        "duration": 136,
        "start_time": "2022-04-07T20:51:15.809Z"
      },
      {
        "duration": 17,
        "start_time": "2022-04-07T20:51:15.946Z"
      },
      {
        "duration": 14,
        "start_time": "2022-04-07T20:51:15.965Z"
      },
      {
        "duration": 237,
        "start_time": "2022-04-07T20:51:15.982Z"
      },
      {
        "duration": 11,
        "start_time": "2022-04-07T20:51:16.221Z"
      },
      {
        "duration": 171,
        "start_time": "2022-04-07T20:51:16.233Z"
      },
      {
        "duration": 7,
        "start_time": "2022-04-07T20:51:16.406Z"
      },
      {
        "duration": 18,
        "start_time": "2022-04-07T20:51:16.415Z"
      },
      {
        "duration": 22,
        "start_time": "2022-04-07T20:51:16.434Z"
      },
      {
        "duration": 10,
        "start_time": "2022-04-07T20:51:16.458Z"
      },
      {
        "duration": 54,
        "start_time": "2022-04-07T20:51:16.469Z"
      },
      {
        "duration": 40,
        "start_time": "2022-04-07T20:51:16.524Z"
      },
      {
        "duration": 30,
        "start_time": "2022-04-07T20:51:16.566Z"
      },
      {
        "duration": 64,
        "start_time": "2022-04-07T20:51:16.598Z"
      },
      {
        "duration": 22,
        "start_time": "2022-04-07T20:51:16.665Z"
      },
      {
        "duration": 8,
        "start_time": "2022-04-07T20:51:16.688Z"
      },
      {
        "duration": 28,
        "start_time": "2022-04-07T20:51:16.698Z"
      },
      {
        "duration": 7,
        "start_time": "2022-04-07T20:51:16.728Z"
      },
      {
        "duration": 28,
        "start_time": "2022-04-07T20:51:16.737Z"
      },
      {
        "duration": 8,
        "start_time": "2022-04-07T20:51:16.767Z"
      },
      {
        "duration": 28,
        "start_time": "2022-04-07T20:51:16.777Z"
      },
      {
        "duration": 11,
        "start_time": "2022-04-07T20:51:16.807Z"
      },
      {
        "duration": 24,
        "start_time": "2022-04-07T20:51:16.820Z"
      },
      {
        "duration": 0,
        "start_time": "2022-04-07T20:51:16.846Z"
      },
      {
        "duration": 0,
        "start_time": "2022-04-07T20:51:16.847Z"
      },
      {
        "duration": 3,
        "start_time": "2022-04-07T20:53:45.030Z"
      },
      {
        "duration": 7,
        "start_time": "2022-04-07T20:53:54.566Z"
      },
      {
        "duration": 2,
        "start_time": "2022-04-07T20:54:00.814Z"
      },
      {
        "duration": 4,
        "start_time": "2022-04-07T20:58:08.005Z"
      },
      {
        "duration": 14,
        "start_time": "2022-04-07T20:58:08.789Z"
      },
      {
        "duration": 6,
        "start_time": "2022-04-07T20:58:11.544Z"
      },
      {
        "duration": 8,
        "start_time": "2022-04-07T20:58:12.617Z"
      },
      {
        "duration": 2,
        "start_time": "2022-04-07T20:58:27.265Z"
      },
      {
        "duration": 7,
        "start_time": "2022-04-07T20:58:28.197Z"
      },
      {
        "duration": 4,
        "start_time": "2022-04-07T20:58:31.597Z"
      },
      {
        "duration": 8,
        "start_time": "2022-04-07T20:58:32.349Z"
      },
      {
        "duration": 7,
        "start_time": "2022-04-07T20:58:37.313Z"
      },
      {
        "duration": 19,
        "start_time": "2022-04-07T20:58:38.404Z"
      },
      {
        "duration": 19,
        "start_time": "2022-04-07T20:58:40.297Z"
      },
      {
        "duration": 1597,
        "start_time": "2022-04-07T20:58:59.681Z"
      },
      {
        "duration": 4,
        "start_time": "2022-04-07T20:59:05.517Z"
      },
      {
        "duration": 19,
        "start_time": "2022-04-07T20:59:09.977Z"
      },
      {
        "duration": 7,
        "start_time": "2022-04-07T20:59:32.113Z"
      },
      {
        "duration": 20,
        "start_time": "2022-04-07T20:59:34.853Z"
      },
      {
        "duration": 6,
        "start_time": "2022-04-07T20:59:42.360Z"
      },
      {
        "duration": 19,
        "start_time": "2022-04-07T20:59:48.649Z"
      },
      {
        "duration": 3,
        "start_time": "2022-04-07T21:00:05.129Z"
      },
      {
        "duration": 19,
        "start_time": "2022-04-07T21:00:06.641Z"
      },
      {
        "duration": 5,
        "start_time": "2022-04-07T21:00:26.616Z"
      },
      {
        "duration": 18,
        "start_time": "2022-04-07T21:00:27.361Z"
      },
      {
        "duration": 4,
        "start_time": "2022-04-07T21:01:25.421Z"
      },
      {
        "duration": 3,
        "start_time": "2022-04-07T21:01:26.001Z"
      },
      {
        "duration": 4,
        "start_time": "2022-04-07T21:01:28.020Z"
      },
      {
        "duration": 17,
        "start_time": "2022-04-07T21:01:35.088Z"
      },
      {
        "duration": 12,
        "start_time": "2022-04-07T21:01:56.261Z"
      },
      {
        "duration": 13,
        "start_time": "2022-04-07T21:02:00.388Z"
      },
      {
        "duration": 4,
        "start_time": "2022-04-07T21:02:03.800Z"
      },
      {
        "duration": 429,
        "start_time": "2022-04-07T21:02:03.807Z"
      },
      {
        "duration": 126,
        "start_time": "2022-04-07T21:02:04.238Z"
      },
      {
        "duration": 110,
        "start_time": "2022-04-07T21:02:04.366Z"
      },
      {
        "duration": 59,
        "start_time": "2022-04-07T21:02:04.478Z"
      },
      {
        "duration": 237,
        "start_time": "2022-04-07T21:02:04.538Z"
      },
      {
        "duration": 122,
        "start_time": "2022-04-07T21:02:04.777Z"
      },
      {
        "duration": 6,
        "start_time": "2022-04-07T21:02:04.900Z"
      },
      {
        "duration": 10,
        "start_time": "2022-04-07T21:02:04.908Z"
      },
      {
        "duration": 8,
        "start_time": "2022-04-07T21:02:04.920Z"
      },
      {
        "duration": 36,
        "start_time": "2022-04-07T21:02:04.931Z"
      },
      {
        "duration": 34,
        "start_time": "2022-04-07T21:02:04.970Z"
      },
      {
        "duration": 10,
        "start_time": "2022-04-07T21:02:05.006Z"
      },
      {
        "duration": 166,
        "start_time": "2022-04-07T21:02:05.018Z"
      },
      {
        "duration": 225,
        "start_time": "2022-04-07T21:02:05.185Z"
      },
      {
        "duration": 9,
        "start_time": "2022-04-07T21:02:05.411Z"
      },
      {
        "duration": 12,
        "start_time": "2022-04-07T21:02:05.421Z"
      },
      {
        "duration": 189,
        "start_time": "2022-04-07T21:02:05.435Z"
      },
      {
        "duration": 13,
        "start_time": "2022-04-07T21:02:05.626Z"
      },
      {
        "duration": 27,
        "start_time": "2022-04-07T21:02:05.640Z"
      },
      {
        "duration": 20,
        "start_time": "2022-04-07T21:02:05.669Z"
      },
      {
        "duration": 247,
        "start_time": "2022-04-07T21:02:05.691Z"
      },
      {
        "duration": 247,
        "start_time": "2022-04-07T21:02:05.940Z"
      },
      {
        "duration": 11,
        "start_time": "2022-04-07T21:02:06.188Z"
      },
      {
        "duration": 22,
        "start_time": "2022-04-07T21:02:06.200Z"
      },
      {
        "duration": 133,
        "start_time": "2022-04-07T21:02:06.224Z"
      },
      {
        "duration": 8,
        "start_time": "2022-04-07T21:02:06.358Z"
      },
      {
        "duration": 11,
        "start_time": "2022-04-07T21:02:06.367Z"
      },
      {
        "duration": 238,
        "start_time": "2022-04-07T21:02:06.382Z"
      },
      {
        "duration": 11,
        "start_time": "2022-04-07T21:02:06.622Z"
      },
      {
        "duration": 172,
        "start_time": "2022-04-07T21:02:06.635Z"
      },
      {
        "duration": 8,
        "start_time": "2022-04-07T21:02:06.809Z"
      },
      {
        "duration": 9,
        "start_time": "2022-04-07T21:02:06.818Z"
      },
      {
        "duration": 5,
        "start_time": "2022-04-07T21:02:06.829Z"
      },
      {
        "duration": 11,
        "start_time": "2022-04-07T21:02:06.836Z"
      },
      {
        "duration": 4,
        "start_time": "2022-04-07T21:02:06.863Z"
      },
      {
        "duration": 12,
        "start_time": "2022-04-07T21:02:06.868Z"
      },
      {
        "duration": 32,
        "start_time": "2022-04-07T21:02:06.881Z"
      },
      {
        "duration": 29,
        "start_time": "2022-04-07T21:02:06.914Z"
      },
      {
        "duration": 45,
        "start_time": "2022-04-07T21:02:06.944Z"
      },
      {
        "duration": 29,
        "start_time": "2022-04-07T21:02:06.991Z"
      },
      {
        "duration": 15,
        "start_time": "2022-04-07T21:02:07.022Z"
      },
      {
        "duration": 27,
        "start_time": "2022-04-07T21:02:07.038Z"
      },
      {
        "duration": 11,
        "start_time": "2022-04-07T21:02:07.067Z"
      },
      {
        "duration": 6,
        "start_time": "2022-04-07T21:02:07.080Z"
      },
      {
        "duration": 14,
        "start_time": "2022-04-07T21:02:07.088Z"
      },
      {
        "duration": 6,
        "start_time": "2022-04-07T21:02:07.103Z"
      },
      {
        "duration": 15,
        "start_time": "2022-04-07T21:02:07.111Z"
      },
      {
        "duration": 42,
        "start_time": "2022-04-07T21:02:07.128Z"
      },
      {
        "duration": 10,
        "start_time": "2022-04-07T21:02:07.171Z"
      },
      {
        "duration": 21,
        "start_time": "2022-04-07T21:02:07.183Z"
      },
      {
        "duration": 12,
        "start_time": "2022-04-07T21:02:07.205Z"
      },
      {
        "duration": 6,
        "start_time": "2022-04-07T21:02:07.218Z"
      },
      {
        "duration": 7,
        "start_time": "2022-04-07T21:02:07.225Z"
      },
      {
        "duration": 7,
        "start_time": "2022-04-07T21:02:07.234Z"
      },
      {
        "duration": 12,
        "start_time": "2022-04-07T21:02:26.280Z"
      },
      {
        "duration": 12,
        "start_time": "2022-04-07T21:03:01.852Z"
      },
      {
        "duration": 18,
        "start_time": "2022-04-07T21:04:02.452Z"
      },
      {
        "duration": 109,
        "start_time": "2022-04-07T21:06:19.124Z"
      },
      {
        "duration": 14,
        "start_time": "2022-04-07T21:10:24.035Z"
      },
      {
        "duration": 42,
        "start_time": "2022-04-07T21:10:40.120Z"
      },
      {
        "duration": 11,
        "start_time": "2022-04-07T22:07:42.132Z"
      },
      {
        "duration": 1781,
        "start_time": "2022-04-07T22:07:59.709Z"
      },
      {
        "duration": 7,
        "start_time": "2022-04-07T22:08:06.789Z"
      },
      {
        "duration": 2,
        "start_time": "2022-04-07T22:08:10.729Z"
      },
      {
        "duration": 370,
        "start_time": "2022-04-07T22:08:10.733Z"
      },
      {
        "duration": 105,
        "start_time": "2022-04-07T22:08:11.105Z"
      },
      {
        "duration": 105,
        "start_time": "2022-04-07T22:08:11.212Z"
      },
      {
        "duration": 84,
        "start_time": "2022-04-07T22:08:11.320Z"
      },
      {
        "duration": 207,
        "start_time": "2022-04-07T22:08:11.406Z"
      },
      {
        "duration": 118,
        "start_time": "2022-04-07T22:08:11.615Z"
      },
      {
        "duration": 6,
        "start_time": "2022-04-07T22:08:11.735Z"
      },
      {
        "duration": 16,
        "start_time": "2022-04-07T22:08:11.743Z"
      },
      {
        "duration": 16,
        "start_time": "2022-04-07T22:08:11.763Z"
      },
      {
        "duration": 20,
        "start_time": "2022-04-07T22:08:11.782Z"
      },
      {
        "duration": 42,
        "start_time": "2022-04-07T22:08:11.803Z"
      },
      {
        "duration": 10,
        "start_time": "2022-04-07T22:08:11.847Z"
      },
      {
        "duration": 148,
        "start_time": "2022-04-07T22:08:11.859Z"
      },
      {
        "duration": 218,
        "start_time": "2022-04-07T22:08:12.009Z"
      },
      {
        "duration": 9,
        "start_time": "2022-04-07T22:08:12.229Z"
      },
      {
        "duration": 26,
        "start_time": "2022-04-07T22:08:12.240Z"
      },
      {
        "duration": 172,
        "start_time": "2022-04-07T22:08:12.268Z"
      },
      {
        "duration": 21,
        "start_time": "2022-04-07T22:08:12.442Z"
      },
      {
        "duration": 10,
        "start_time": "2022-04-07T22:08:12.465Z"
      },
      {
        "duration": 18,
        "start_time": "2022-04-07T22:08:12.477Z"
      },
      {
        "duration": 146,
        "start_time": "2022-04-07T22:08:12.497Z"
      },
      {
        "duration": 136,
        "start_time": "2022-04-07T22:08:12.644Z"
      },
      {
        "duration": 10,
        "start_time": "2022-04-07T22:08:12.782Z"
      },
      {
        "duration": 22,
        "start_time": "2022-04-07T22:08:12.794Z"
      },
      {
        "duration": 135,
        "start_time": "2022-04-07T22:08:12.818Z"
      },
      {
        "duration": 11,
        "start_time": "2022-04-07T22:08:12.954Z"
      },
      {
        "duration": 10,
        "start_time": "2022-04-07T22:08:12.966Z"
      },
      {
        "duration": 235,
        "start_time": "2022-04-07T22:08:12.980Z"
      },
      {
        "duration": 11,
        "start_time": "2022-04-07T22:08:13.217Z"
      },
      {
        "duration": 166,
        "start_time": "2022-04-07T22:08:13.230Z"
      },
      {
        "duration": 8,
        "start_time": "2022-04-07T22:08:13.398Z"
      },
      {
        "duration": 9,
        "start_time": "2022-04-07T22:08:13.407Z"
      },
      {
        "duration": 6,
        "start_time": "2022-04-07T22:08:13.418Z"
      },
      {
        "duration": 20,
        "start_time": "2022-04-07T22:08:13.425Z"
      },
      {
        "duration": 16,
        "start_time": "2022-04-07T22:08:13.447Z"
      },
      {
        "duration": 8,
        "start_time": "2022-04-07T22:08:13.464Z"
      },
      {
        "duration": 35,
        "start_time": "2022-04-07T22:08:13.473Z"
      },
      {
        "duration": 28,
        "start_time": "2022-04-07T22:08:13.510Z"
      },
      {
        "duration": 48,
        "start_time": "2022-04-07T22:08:13.540Z"
      },
      {
        "duration": 30,
        "start_time": "2022-04-07T22:08:13.590Z"
      },
      {
        "duration": 16,
        "start_time": "2022-04-07T22:08:13.622Z"
      },
      {
        "duration": 27,
        "start_time": "2022-04-07T22:08:13.640Z"
      },
      {
        "duration": 13,
        "start_time": "2022-04-07T22:08:13.668Z"
      },
      {
        "duration": 7,
        "start_time": "2022-04-07T22:08:13.682Z"
      },
      {
        "duration": 14,
        "start_time": "2022-04-07T22:08:13.690Z"
      },
      {
        "duration": 6,
        "start_time": "2022-04-07T22:08:13.705Z"
      },
      {
        "duration": 15,
        "start_time": "2022-04-07T22:08:13.713Z"
      },
      {
        "duration": 35,
        "start_time": "2022-04-07T22:08:13.729Z"
      },
      {
        "duration": 7,
        "start_time": "2022-04-07T22:08:13.765Z"
      },
      {
        "duration": 18,
        "start_time": "2022-04-07T22:08:13.773Z"
      },
      {
        "duration": 11,
        "start_time": "2022-04-07T22:08:13.792Z"
      },
      {
        "duration": 5,
        "start_time": "2022-04-07T22:08:13.805Z"
      },
      {
        "duration": 5,
        "start_time": "2022-04-07T22:08:13.811Z"
      },
      {
        "duration": 5,
        "start_time": "2022-04-07T22:08:13.817Z"
      },
      {
        "duration": 43,
        "start_time": "2022-04-07T22:08:13.823Z"
      },
      {
        "duration": 107,
        "start_time": "2022-04-07T22:08:13.868Z"
      },
      {
        "duration": 11,
        "start_time": "2022-04-07T22:08:13.976Z"
      },
      {
        "duration": 27,
        "start_time": "2022-04-07T22:08:13.988Z"
      },
      {
        "duration": 1618,
        "start_time": "2022-04-07T22:21:44.887Z"
      },
      {
        "duration": 203,
        "start_time": "2022-04-07T22:21:50.731Z"
      },
      {
        "duration": 10,
        "start_time": "2022-04-07T22:22:14.519Z"
      },
      {
        "duration": 9,
        "start_time": "2022-04-07T22:23:14.803Z"
      },
      {
        "duration": 184,
        "start_time": "2022-04-07T22:23:36.311Z"
      },
      {
        "duration": 406,
        "start_time": "2022-04-07T22:23:41.111Z"
      },
      {
        "duration": 52,
        "start_time": "2022-04-07T22:24:10.343Z"
      },
      {
        "duration": 52,
        "start_time": "2022-04-07T22:24:16.354Z"
      },
      {
        "duration": 50,
        "start_time": "2022-04-07T22:24:37.231Z"
      },
      {
        "duration": 51,
        "start_time": "2022-04-07T22:24:45.239Z"
      },
      {
        "duration": 51,
        "start_time": "2022-04-07T22:30:26.426Z"
      },
      {
        "duration": 52,
        "start_time": "2022-04-07T22:30:43.774Z"
      },
      {
        "duration": 1629,
        "start_time": "2022-04-07T22:39:32.980Z"
      },
      {
        "duration": 8,
        "start_time": "2022-04-07T22:39:39.456Z"
      },
      {
        "duration": 7,
        "start_time": "2022-04-07T22:39:45.156Z"
      },
      {
        "duration": 4,
        "start_time": "2022-04-07T22:40:27.192Z"
      },
      {
        "duration": 7,
        "start_time": "2022-04-07T22:42:12.320Z"
      },
      {
        "duration": 4,
        "start_time": "2022-04-07T22:42:15.656Z"
      },
      {
        "duration": 8,
        "start_time": "2022-04-07T22:42:21.236Z"
      },
      {
        "duration": 11,
        "start_time": "2022-04-07T22:42:34.872Z"
      },
      {
        "duration": 5,
        "start_time": "2022-04-07T22:42:41.052Z"
      },
      {
        "duration": 3,
        "start_time": "2022-04-07T22:44:34.816Z"
      },
      {
        "duration": 11,
        "start_time": "2022-04-07T22:45:50.359Z"
      },
      {
        "duration": 5,
        "start_time": "2022-04-07T22:46:08.744Z"
      },
      {
        "duration": 4,
        "start_time": "2022-04-07T22:46:22.044Z"
      },
      {
        "duration": 16,
        "start_time": "2022-04-07T22:46:23.395Z"
      },
      {
        "duration": 11,
        "start_time": "2022-04-07T22:46:25.291Z"
      },
      {
        "duration": 11,
        "start_time": "2022-04-07T22:46:31.896Z"
      },
      {
        "duration": 10,
        "start_time": "2022-04-07T22:46:47.136Z"
      },
      {
        "duration": 10,
        "start_time": "2022-04-07T22:47:09.784Z"
      },
      {
        "duration": 10,
        "start_time": "2022-04-07T22:47:42.836Z"
      },
      {
        "duration": 11,
        "start_time": "2022-04-07T22:47:47.372Z"
      },
      {
        "duration": 6,
        "start_time": "2022-04-07T22:48:54.151Z"
      },
      {
        "duration": 4,
        "start_time": "2022-04-07T22:49:06.783Z"
      },
      {
        "duration": 6,
        "start_time": "2022-04-07T22:50:16.959Z"
      },
      {
        "duration": 4,
        "start_time": "2022-04-07T22:50:42.683Z"
      },
      {
        "duration": 16,
        "start_time": "2022-04-07T22:51:28.331Z"
      },
      {
        "duration": 15,
        "start_time": "2022-04-07T22:51:48.607Z"
      },
      {
        "duration": 4,
        "start_time": "2022-04-07T22:51:59.346Z"
      },
      {
        "duration": 11,
        "start_time": "2022-04-07T22:55:32.314Z"
      },
      {
        "duration": 7,
        "start_time": "2022-04-07T22:55:48.834Z"
      },
      {
        "duration": 4,
        "start_time": "2022-04-07T22:55:58.566Z"
      },
      {
        "duration": 5,
        "start_time": "2022-04-07T22:56:13.650Z"
      },
      {
        "duration": 4,
        "start_time": "2022-04-07T22:56:14.554Z"
      },
      {
        "duration": 7,
        "start_time": "2022-04-07T22:56:39.582Z"
      },
      {
        "duration": 4,
        "start_time": "2022-04-07T22:56:41.182Z"
      },
      {
        "duration": 4,
        "start_time": "2022-04-07T22:56:46.550Z"
      },
      {
        "duration": 4,
        "start_time": "2022-04-07T22:57:34.122Z"
      },
      {
        "duration": 8,
        "start_time": "2022-04-07T22:57:35.226Z"
      },
      {
        "duration": 6,
        "start_time": "2022-04-07T22:57:56.050Z"
      },
      {
        "duration": 3,
        "start_time": "2022-04-07T22:57:56.894Z"
      },
      {
        "duration": 4,
        "start_time": "2022-04-07T22:58:02.861Z"
      },
      {
        "duration": 3,
        "start_time": "2022-04-07T22:58:06.062Z"
      },
      {
        "duration": 6,
        "start_time": "2022-04-07T23:01:12.330Z"
      },
      {
        "duration": 4,
        "start_time": "2022-04-07T23:01:13.421Z"
      },
      {
        "duration": 4,
        "start_time": "2022-04-07T23:01:34.745Z"
      },
      {
        "duration": 6,
        "start_time": "2022-04-07T23:01:47.830Z"
      },
      {
        "duration": 4,
        "start_time": "2022-04-07T23:01:49.018Z"
      },
      {
        "duration": 4,
        "start_time": "2022-04-07T23:01:50.161Z"
      },
      {
        "duration": 6,
        "start_time": "2022-04-07T23:02:17.306Z"
      },
      {
        "duration": 4,
        "start_time": "2022-04-07T23:02:18.501Z"
      },
      {
        "duration": 6,
        "start_time": "2022-04-07T23:02:27.193Z"
      },
      {
        "duration": 4,
        "start_time": "2022-04-07T23:02:28.001Z"
      },
      {
        "duration": 7,
        "start_time": "2022-04-07T23:03:36.209Z"
      },
      {
        "duration": 4,
        "start_time": "2022-04-07T23:03:37.033Z"
      },
      {
        "duration": 3,
        "start_time": "2022-04-07T23:03:40.117Z"
      },
      {
        "duration": 4,
        "start_time": "2022-04-07T23:05:24.236Z"
      },
      {
        "duration": 3,
        "start_time": "2022-04-07T23:05:24.937Z"
      },
      {
        "duration": 4,
        "start_time": "2022-04-07T23:05:32.609Z"
      },
      {
        "duration": 4,
        "start_time": "2022-04-07T23:05:36.449Z"
      },
      {
        "duration": 6,
        "start_time": "2022-04-07T23:05:57.005Z"
      },
      {
        "duration": 4,
        "start_time": "2022-04-07T23:05:58.532Z"
      },
      {
        "duration": 3,
        "start_time": "2022-04-07T23:06:22.409Z"
      },
      {
        "duration": 10,
        "start_time": "2022-04-07T23:06:40.352Z"
      },
      {
        "duration": 6,
        "start_time": "2022-04-07T23:06:42.081Z"
      },
      {
        "duration": 3,
        "start_time": "2022-04-07T23:06:42.669Z"
      },
      {
        "duration": 6,
        "start_time": "2022-04-07T23:07:08.677Z"
      },
      {
        "duration": 4,
        "start_time": "2022-04-07T23:07:12.124Z"
      },
      {
        "duration": 4,
        "start_time": "2022-04-07T23:07:40.465Z"
      },
      {
        "duration": 6,
        "start_time": "2022-04-07T23:08:19.541Z"
      },
      {
        "duration": 6,
        "start_time": "2022-04-07T23:08:19.948Z"
      },
      {
        "duration": 4,
        "start_time": "2022-04-07T23:09:25.485Z"
      },
      {
        "duration": 5,
        "start_time": "2022-04-07T23:09:35.913Z"
      },
      {
        "duration": 5,
        "start_time": "2022-04-07T23:09:43.129Z"
      },
      {
        "duration": 7,
        "start_time": "2022-04-07T23:10:11.844Z"
      },
      {
        "duration": 7,
        "start_time": "2022-04-07T23:10:12.400Z"
      },
      {
        "duration": 8,
        "start_time": "2022-04-07T23:10:21.288Z"
      },
      {
        "duration": 8,
        "start_time": "2022-04-07T23:10:26.060Z"
      },
      {
        "duration": 5,
        "start_time": "2022-04-07T23:11:48.504Z"
      },
      {
        "duration": 18,
        "start_time": "2022-04-07T23:11:59.856Z"
      },
      {
        "duration": 10,
        "start_time": "2022-04-07T23:12:13.412Z"
      },
      {
        "duration": 10,
        "start_time": "2022-04-07T23:12:40.839Z"
      },
      {
        "duration": 112,
        "start_time": "2022-04-07T23:13:25.216Z"
      },
      {
        "duration": 17,
        "start_time": "2022-04-07T23:14:37.992Z"
      },
      {
        "duration": 10,
        "start_time": "2022-04-07T23:15:09.700Z"
      },
      {
        "duration": 10,
        "start_time": "2022-04-07T23:15:31.232Z"
      },
      {
        "duration": 12,
        "start_time": "2022-04-07T23:16:27.671Z"
      },
      {
        "duration": 8,
        "start_time": "2022-04-07T23:16:37.275Z"
      },
      {
        "duration": 7,
        "start_time": "2022-04-07T23:17:56.859Z"
      },
      {
        "duration": 8,
        "start_time": "2022-04-07T23:18:04.339Z"
      },
      {
        "duration": 8,
        "start_time": "2022-04-07T23:18:38.535Z"
      },
      {
        "duration": 8,
        "start_time": "2022-04-07T23:19:15.195Z"
      },
      {
        "duration": 10,
        "start_time": "2022-04-07T23:19:18.083Z"
      },
      {
        "duration": 7,
        "start_time": "2022-04-07T23:19:36.343Z"
      },
      {
        "duration": 7,
        "start_time": "2022-04-07T23:20:55.907Z"
      },
      {
        "duration": 12,
        "start_time": "2022-04-07T23:21:45.559Z"
      },
      {
        "duration": 4,
        "start_time": "2022-04-07T23:22:15.371Z"
      },
      {
        "duration": 4,
        "start_time": "2022-04-07T23:22:26.839Z"
      },
      {
        "duration": 13,
        "start_time": "2022-04-07T23:22:31.659Z"
      },
      {
        "duration": 6,
        "start_time": "2022-04-07T23:22:39.535Z"
      },
      {
        "duration": 6,
        "start_time": "2022-04-07T23:23:02.563Z"
      },
      {
        "duration": 7,
        "start_time": "2022-04-07T23:24:10.167Z"
      },
      {
        "duration": 6,
        "start_time": "2022-04-07T23:24:18.631Z"
      },
      {
        "duration": 5,
        "start_time": "2022-04-07T23:24:26.515Z"
      },
      {
        "duration": 6,
        "start_time": "2022-04-07T23:25:00.631Z"
      },
      {
        "duration": 5,
        "start_time": "2022-04-07T23:26:04.803Z"
      },
      {
        "duration": 12,
        "start_time": "2022-04-07T23:26:24.147Z"
      },
      {
        "duration": 12,
        "start_time": "2022-04-07T23:26:28.315Z"
      },
      {
        "duration": 5,
        "start_time": "2022-04-07T23:26:43.163Z"
      },
      {
        "duration": 5,
        "start_time": "2022-04-07T23:26:52.307Z"
      },
      {
        "duration": 5,
        "start_time": "2022-04-07T23:26:55.663Z"
      },
      {
        "duration": 5,
        "start_time": "2022-04-07T23:27:44.647Z"
      },
      {
        "duration": 5,
        "start_time": "2022-04-07T23:27:51.159Z"
      },
      {
        "duration": 5,
        "start_time": "2022-04-07T23:27:53.126Z"
      },
      {
        "duration": 5,
        "start_time": "2022-04-07T23:28:11.338Z"
      },
      {
        "duration": 5,
        "start_time": "2022-04-07T23:28:50.266Z"
      },
      {
        "duration": 5,
        "start_time": "2022-04-07T23:29:24.846Z"
      },
      {
        "duration": 7,
        "start_time": "2022-04-07T23:31:20.366Z"
      },
      {
        "duration": 6,
        "start_time": "2022-04-07T23:31:41.510Z"
      },
      {
        "duration": 5,
        "start_time": "2022-04-07T23:32:06.622Z"
      },
      {
        "duration": 13,
        "start_time": "2022-04-07T23:33:14.806Z"
      },
      {
        "duration": 5,
        "start_time": "2022-04-07T23:33:44.558Z"
      },
      {
        "duration": 6,
        "start_time": "2022-04-07T23:34:05.018Z"
      },
      {
        "duration": 7,
        "start_time": "2022-04-07T23:34:34.842Z"
      },
      {
        "duration": 5,
        "start_time": "2022-04-07T23:34:44.258Z"
      },
      {
        "duration": 5,
        "start_time": "2022-04-07T23:35:21.878Z"
      },
      {
        "duration": 5,
        "start_time": "2022-04-07T23:35:27.150Z"
      },
      {
        "duration": 5,
        "start_time": "2022-04-07T23:35:29.393Z"
      },
      {
        "duration": 6,
        "start_time": "2022-04-07T23:37:35.466Z"
      },
      {
        "duration": 6,
        "start_time": "2022-04-07T23:37:40.585Z"
      },
      {
        "duration": 3,
        "start_time": "2022-04-07T23:38:27.258Z"
      },
      {
        "duration": 18,
        "start_time": "2022-04-07T23:38:31.781Z"
      },
      {
        "duration": 7,
        "start_time": "2022-04-07T23:38:43.610Z"
      },
      {
        "duration": 6,
        "start_time": "2022-04-07T23:44:58.077Z"
      },
      {
        "duration": 7,
        "start_time": "2022-04-07T23:46:23.457Z"
      },
      {
        "duration": 6,
        "start_time": "2022-04-07T23:46:35.029Z"
      },
      {
        "duration": 6,
        "start_time": "2022-04-07T23:46:40.017Z"
      },
      {
        "duration": 7,
        "start_time": "2022-04-07T23:47:35.136Z"
      },
      {
        "duration": 2010,
        "start_time": "2022-04-09T19:52:36.834Z"
      },
      {
        "duration": 540,
        "start_time": "2022-04-09T19:52:38.847Z"
      },
      {
        "duration": 175,
        "start_time": "2022-04-09T19:52:39.389Z"
      },
      {
        "duration": 157,
        "start_time": "2022-04-09T19:52:39.585Z"
      },
      {
        "duration": 97,
        "start_time": "2022-04-09T19:52:39.744Z"
      },
      {
        "duration": 388,
        "start_time": "2022-04-09T19:52:39.843Z"
      },
      {
        "duration": 180,
        "start_time": "2022-04-09T19:52:40.233Z"
      },
      {
        "duration": 9,
        "start_time": "2022-04-09T19:52:40.415Z"
      },
      {
        "duration": 14,
        "start_time": "2022-04-09T19:52:40.426Z"
      },
      {
        "duration": 9,
        "start_time": "2022-04-09T19:52:40.444Z"
      },
      {
        "duration": 38,
        "start_time": "2022-04-09T19:52:40.455Z"
      },
      {
        "duration": 49,
        "start_time": "2022-04-09T19:52:40.495Z"
      },
      {
        "duration": 14,
        "start_time": "2022-04-09T19:52:40.546Z"
      },
      {
        "duration": 299,
        "start_time": "2022-04-09T19:52:40.563Z"
      },
      {
        "duration": 404,
        "start_time": "2022-04-09T19:52:40.864Z"
      },
      {
        "duration": 15,
        "start_time": "2022-04-09T19:52:41.270Z"
      },
      {
        "duration": 17,
        "start_time": "2022-04-09T19:52:41.287Z"
      },
      {
        "duration": 332,
        "start_time": "2022-04-09T19:52:41.307Z"
      },
      {
        "duration": 17,
        "start_time": "2022-04-09T19:52:41.641Z"
      },
      {
        "duration": 33,
        "start_time": "2022-04-09T19:52:41.660Z"
      },
      {
        "duration": 30,
        "start_time": "2022-04-09T19:52:41.695Z"
      },
      {
        "duration": 270,
        "start_time": "2022-04-09T19:52:41.727Z"
      },
      {
        "duration": 258,
        "start_time": "2022-04-09T19:52:42.000Z"
      },
      {
        "duration": 31,
        "start_time": "2022-04-09T19:52:42.261Z"
      },
      {
        "duration": 38,
        "start_time": "2022-04-09T19:52:42.294Z"
      },
      {
        "duration": 247,
        "start_time": "2022-04-09T19:52:42.334Z"
      },
      {
        "duration": 7,
        "start_time": "2022-04-09T19:52:42.584Z"
      },
      {
        "duration": 14,
        "start_time": "2022-04-09T19:52:42.597Z"
      },
      {
        "duration": 454,
        "start_time": "2022-04-09T19:52:42.613Z"
      },
      {
        "duration": 28,
        "start_time": "2022-04-09T19:52:43.069Z"
      },
      {
        "duration": 320,
        "start_time": "2022-04-09T19:52:43.099Z"
      },
      {
        "duration": 12,
        "start_time": "2022-04-09T19:52:43.422Z"
      },
      {
        "duration": 21,
        "start_time": "2022-04-09T19:52:43.437Z"
      },
      {
        "duration": 23,
        "start_time": "2022-04-09T19:52:43.461Z"
      },
      {
        "duration": 17,
        "start_time": "2022-04-09T19:52:43.487Z"
      },
      {
        "duration": 7,
        "start_time": "2022-04-09T19:52:43.506Z"
      },
      {
        "duration": 15,
        "start_time": "2022-04-09T19:52:43.516Z"
      },
      {
        "duration": 99,
        "start_time": "2022-04-09T19:52:43.534Z"
      },
      {
        "duration": 81,
        "start_time": "2022-04-09T19:52:43.635Z"
      },
      {
        "duration": 67,
        "start_time": "2022-04-09T19:52:43.719Z"
      },
      {
        "duration": 55,
        "start_time": "2022-04-09T19:52:43.789Z"
      },
      {
        "duration": 48,
        "start_time": "2022-04-09T19:52:43.847Z"
      },
      {
        "duration": 10,
        "start_time": "2022-04-09T19:52:43.897Z"
      },
      {
        "duration": 16,
        "start_time": "2022-04-09T19:52:43.909Z"
      },
      {
        "duration": 9,
        "start_time": "2022-04-09T19:52:43.927Z"
      },
      {
        "duration": 59,
        "start_time": "2022-04-09T19:52:43.938Z"
      },
      {
        "duration": 9,
        "start_time": "2022-04-09T19:52:44.000Z"
      },
      {
        "duration": 25,
        "start_time": "2022-04-09T19:52:44.011Z"
      },
      {
        "duration": 49,
        "start_time": "2022-04-09T19:52:44.038Z"
      },
      {
        "duration": 15,
        "start_time": "2022-04-09T19:52:44.089Z"
      },
      {
        "duration": 32,
        "start_time": "2022-04-09T19:52:44.107Z"
      },
      {
        "duration": 53,
        "start_time": "2022-04-09T19:52:44.141Z"
      },
      {
        "duration": 10,
        "start_time": "2022-04-09T19:52:44.197Z"
      },
      {
        "duration": 8,
        "start_time": "2022-04-09T19:52:44.209Z"
      },
      {
        "duration": 10,
        "start_time": "2022-04-09T19:52:44.219Z"
      },
      {
        "duration": 26,
        "start_time": "2022-04-09T19:52:44.231Z"
      },
      {
        "duration": 245,
        "start_time": "2022-04-09T19:52:44.260Z"
      },
      {
        "duration": 17,
        "start_time": "2022-04-09T19:52:44.508Z"
      },
      {
        "duration": 74,
        "start_time": "2022-04-09T19:52:44.528Z"
      },
      {
        "duration": 741,
        "start_time": "2022-04-09T19:52:44.604Z"
      },
      {
        "duration": 163,
        "start_time": "2022-04-09T19:52:45.348Z"
      },
      {
        "duration": 124,
        "start_time": "2022-04-09T19:52:45.513Z"
      },
      {
        "duration": 8,
        "start_time": "2022-04-09T19:52:45.639Z"
      },
      {
        "duration": 55,
        "start_time": "2022-04-09T19:52:45.649Z"
      },
      {
        "duration": 42,
        "start_time": "2022-04-09T19:52:45.716Z"
      },
      {
        "duration": 18,
        "start_time": "2022-04-09T19:52:45.761Z"
      },
      {
        "duration": 11,
        "start_time": "2022-04-09T19:52:45.781Z"
      },
      {
        "duration": 11,
        "start_time": "2022-04-09T19:52:45.795Z"
      },
      {
        "duration": 15,
        "start_time": "2022-04-09T19:52:45.809Z"
      },
      {
        "duration": 1368,
        "start_time": "2022-06-30T13:04:34.870Z"
      },
      {
        "duration": 670,
        "start_time": "2022-06-30T13:04:36.241Z"
      },
      {
        "duration": 102,
        "start_time": "2022-06-30T13:04:36.912Z"
      },
      {
        "duration": 106,
        "start_time": "2022-06-30T13:04:37.017Z"
      },
      {
        "duration": 73,
        "start_time": "2022-06-30T13:04:37.125Z"
      },
      {
        "duration": 257,
        "start_time": "2022-06-30T13:04:37.200Z"
      },
      {
        "duration": 129,
        "start_time": "2022-06-30T13:04:37.459Z"
      },
      {
        "duration": 6,
        "start_time": "2022-06-30T13:04:37.590Z"
      },
      {
        "duration": 15,
        "start_time": "2022-06-30T13:04:37.598Z"
      },
      {
        "duration": 8,
        "start_time": "2022-06-30T13:04:37.616Z"
      },
      {
        "duration": 11,
        "start_time": "2022-06-30T13:04:37.626Z"
      },
      {
        "duration": 33,
        "start_time": "2022-06-30T13:04:37.651Z"
      },
      {
        "duration": 9,
        "start_time": "2022-06-30T13:04:37.687Z"
      },
      {
        "duration": 190,
        "start_time": "2022-06-30T13:04:37.697Z"
      },
      {
        "duration": 241,
        "start_time": "2022-06-30T13:04:37.889Z"
      },
      {
        "duration": 10,
        "start_time": "2022-06-30T13:04:38.131Z"
      },
      {
        "duration": 20,
        "start_time": "2022-06-30T13:04:38.151Z"
      },
      {
        "duration": 208,
        "start_time": "2022-06-30T13:04:38.173Z"
      },
      {
        "duration": 15,
        "start_time": "2022-06-30T13:04:38.382Z"
      },
      {
        "duration": 11,
        "start_time": "2022-06-30T13:04:38.399Z"
      },
      {
        "duration": 45,
        "start_time": "2022-06-30T13:04:38.411Z"
      },
      {
        "duration": 166,
        "start_time": "2022-06-30T13:04:38.458Z"
      },
      {
        "duration": 155,
        "start_time": "2022-06-30T13:04:38.626Z"
      },
      {
        "duration": 11,
        "start_time": "2022-06-30T13:04:38.783Z"
      },
      {
        "duration": 23,
        "start_time": "2022-06-30T13:04:38.796Z"
      },
      {
        "duration": 172,
        "start_time": "2022-06-30T13:04:38.821Z"
      },
      {
        "duration": 5,
        "start_time": "2022-06-30T13:04:38.995Z"
      },
      {
        "duration": 16,
        "start_time": "2022-06-30T13:04:39.004Z"
      },
      {
        "duration": 298,
        "start_time": "2022-06-30T13:04:39.022Z"
      },
      {
        "duration": 14,
        "start_time": "2022-06-30T13:04:39.321Z"
      },
      {
        "duration": 189,
        "start_time": "2022-06-30T13:04:39.337Z"
      },
      {
        "duration": 9,
        "start_time": "2022-06-30T13:04:39.528Z"
      },
      {
        "duration": 17,
        "start_time": "2022-06-30T13:04:39.538Z"
      },
      {
        "duration": 6,
        "start_time": "2022-06-30T13:04:39.556Z"
      },
      {
        "duration": 12,
        "start_time": "2022-06-30T13:04:39.563Z"
      },
      {
        "duration": 7,
        "start_time": "2022-06-30T13:04:39.577Z"
      },
      {
        "duration": 13,
        "start_time": "2022-06-30T13:04:39.586Z"
      },
      {
        "duration": 65,
        "start_time": "2022-06-30T13:04:39.601Z"
      },
      {
        "duration": 42,
        "start_time": "2022-06-30T13:04:39.668Z"
      },
      {
        "duration": 46,
        "start_time": "2022-06-30T13:04:39.712Z"
      },
      {
        "duration": 38,
        "start_time": "2022-06-30T13:04:39.759Z"
      },
      {
        "duration": 16,
        "start_time": "2022-06-30T13:04:39.799Z"
      },
      {
        "duration": 6,
        "start_time": "2022-06-30T13:04:39.817Z"
      },
      {
        "duration": 10,
        "start_time": "2022-06-30T13:04:39.852Z"
      },
      {
        "duration": 20,
        "start_time": "2022-06-30T13:04:39.864Z"
      },
      {
        "duration": 46,
        "start_time": "2022-06-30T13:04:39.886Z"
      },
      {
        "duration": 6,
        "start_time": "2022-06-30T13:04:39.934Z"
      },
      {
        "duration": 32,
        "start_time": "2022-06-30T13:04:39.942Z"
      },
      {
        "duration": 18,
        "start_time": "2022-06-30T13:04:39.976Z"
      },
      {
        "duration": 27,
        "start_time": "2022-06-30T13:04:39.995Z"
      },
      {
        "duration": 39,
        "start_time": "2022-06-30T13:04:40.024Z"
      },
      {
        "duration": 13,
        "start_time": "2022-06-30T13:04:40.065Z"
      },
      {
        "duration": 7,
        "start_time": "2022-06-30T13:04:40.080Z"
      },
      {
        "duration": 17,
        "start_time": "2022-06-30T13:04:40.088Z"
      },
      {
        "duration": 28,
        "start_time": "2022-06-30T13:04:40.107Z"
      },
      {
        "duration": 25,
        "start_time": "2022-06-30T13:04:40.137Z"
      },
      {
        "duration": 129,
        "start_time": "2022-06-30T13:04:40.165Z"
      },
      {
        "duration": 11,
        "start_time": "2022-06-30T13:04:40.295Z"
      },
      {
        "duration": 46,
        "start_time": "2022-06-30T13:04:40.307Z"
      },
      {
        "duration": 476,
        "start_time": "2022-06-30T13:04:40.355Z"
      },
      {
        "duration": 60,
        "start_time": "2022-06-30T13:04:40.833Z"
      },
      {
        "duration": 112,
        "start_time": "2022-06-30T13:04:40.894Z"
      },
      {
        "duration": 6,
        "start_time": "2022-06-30T13:04:41.008Z"
      },
      {
        "duration": 8,
        "start_time": "2022-06-30T13:04:41.016Z"
      },
      {
        "duration": 7,
        "start_time": "2022-06-30T13:04:41.051Z"
      },
      {
        "duration": 13,
        "start_time": "2022-06-30T13:04:41.059Z"
      },
      {
        "duration": 9,
        "start_time": "2022-06-30T13:04:41.074Z"
      },
      {
        "duration": 11,
        "start_time": "2022-06-30T13:04:41.085Z"
      },
      {
        "duration": 8,
        "start_time": "2022-06-30T13:04:41.098Z"
      },
      {
        "duration": 1505,
        "start_time": "2022-07-04T19:55:02.070Z"
      },
      {
        "duration": 823,
        "start_time": "2022-07-04T19:55:03.577Z"
      },
      {
        "duration": 167,
        "start_time": "2022-07-04T19:55:04.402Z"
      },
      {
        "duration": 135,
        "start_time": "2022-07-04T19:55:04.575Z"
      },
      {
        "duration": 95,
        "start_time": "2022-07-04T19:55:04.712Z"
      },
      {
        "duration": 269,
        "start_time": "2022-07-04T19:55:04.809Z"
      },
      {
        "duration": 122,
        "start_time": "2022-07-04T19:55:05.080Z"
      },
      {
        "duration": 5,
        "start_time": "2022-07-04T19:55:05.204Z"
      },
      {
        "duration": 14,
        "start_time": "2022-07-04T19:55:05.211Z"
      },
      {
        "duration": 16,
        "start_time": "2022-07-04T19:55:05.227Z"
      },
      {
        "duration": 37,
        "start_time": "2022-07-04T19:55:05.248Z"
      },
      {
        "duration": 31,
        "start_time": "2022-07-04T19:55:05.287Z"
      },
      {
        "duration": 10,
        "start_time": "2022-07-04T19:55:05.319Z"
      },
      {
        "duration": 177,
        "start_time": "2022-07-04T19:55:05.330Z"
      },
      {
        "duration": 267,
        "start_time": "2022-07-04T19:55:05.509Z"
      },
      {
        "duration": 8,
        "start_time": "2022-07-04T19:55:05.777Z"
      },
      {
        "duration": 14,
        "start_time": "2022-07-04T19:55:05.787Z"
      },
      {
        "duration": 347,
        "start_time": "2022-07-04T19:55:05.804Z"
      },
      {
        "duration": 17,
        "start_time": "2022-07-04T19:55:06.153Z"
      },
      {
        "duration": 23,
        "start_time": "2022-07-04T19:55:06.174Z"
      },
      {
        "duration": 63,
        "start_time": "2022-07-04T19:55:06.198Z"
      },
      {
        "duration": 389,
        "start_time": "2022-07-04T19:55:06.262Z"
      },
      {
        "duration": 394,
        "start_time": "2022-07-04T19:55:06.652Z"
      },
      {
        "duration": 11,
        "start_time": "2022-07-04T19:55:07.048Z"
      },
      {
        "duration": 84,
        "start_time": "2022-07-04T19:55:07.060Z"
      },
      {
        "duration": 315,
        "start_time": "2022-07-04T19:55:07.151Z"
      },
      {
        "duration": 6,
        "start_time": "2022-07-04T19:55:07.468Z"
      },
      {
        "duration": 79,
        "start_time": "2022-07-04T19:55:07.479Z"
      },
      {
        "duration": 613,
        "start_time": "2022-07-04T19:55:07.560Z"
      },
      {
        "duration": 12,
        "start_time": "2022-07-04T19:55:08.177Z"
      },
      {
        "duration": 220,
        "start_time": "2022-07-04T19:55:08.191Z"
      },
      {
        "duration": 7,
        "start_time": "2022-07-04T19:55:08.413Z"
      },
      {
        "duration": 60,
        "start_time": "2022-07-04T19:55:08.422Z"
      },
      {
        "duration": 22,
        "start_time": "2022-07-04T19:55:08.483Z"
      },
      {
        "duration": 17,
        "start_time": "2022-07-04T19:55:08.506Z"
      },
      {
        "duration": 13,
        "start_time": "2022-07-04T19:55:08.525Z"
      },
      {
        "duration": 44,
        "start_time": "2022-07-04T19:55:08.540Z"
      },
      {
        "duration": 113,
        "start_time": "2022-07-04T19:55:08.585Z"
      },
      {
        "duration": 50,
        "start_time": "2022-07-04T19:55:08.699Z"
      },
      {
        "duration": 41,
        "start_time": "2022-07-04T19:55:08.752Z"
      },
      {
        "duration": 42,
        "start_time": "2022-07-04T19:55:08.795Z"
      },
      {
        "duration": 18,
        "start_time": "2022-07-04T19:55:08.842Z"
      },
      {
        "duration": 29,
        "start_time": "2022-07-04T19:55:08.861Z"
      },
      {
        "duration": 18,
        "start_time": "2022-07-04T19:55:08.892Z"
      },
      {
        "duration": 7,
        "start_time": "2022-07-04T19:55:08.911Z"
      },
      {
        "duration": 14,
        "start_time": "2022-07-04T19:55:08.920Z"
      },
      {
        "duration": 10,
        "start_time": "2022-07-04T19:55:08.947Z"
      },
      {
        "duration": 36,
        "start_time": "2022-07-04T19:55:08.958Z"
      },
      {
        "duration": 9,
        "start_time": "2022-07-04T19:55:08.996Z"
      },
      {
        "duration": 9,
        "start_time": "2022-07-04T19:55:09.007Z"
      },
      {
        "duration": 18,
        "start_time": "2022-07-04T19:55:09.017Z"
      },
      {
        "duration": 15,
        "start_time": "2022-07-04T19:55:09.037Z"
      },
      {
        "duration": 25,
        "start_time": "2022-07-04T19:55:09.053Z"
      },
      {
        "duration": 10,
        "start_time": "2022-07-04T19:55:09.079Z"
      },
      {
        "duration": 8,
        "start_time": "2022-07-04T19:55:09.090Z"
      },
      {
        "duration": 15,
        "start_time": "2022-07-04T19:55:09.099Z"
      },
      {
        "duration": 150,
        "start_time": "2022-07-04T19:55:09.116Z"
      },
      {
        "duration": 15,
        "start_time": "2022-07-04T19:55:09.267Z"
      },
      {
        "duration": 33,
        "start_time": "2022-07-04T19:55:09.284Z"
      },
      {
        "duration": 417,
        "start_time": "2022-07-04T19:55:09.318Z"
      },
      {
        "duration": 129,
        "start_time": "2022-07-04T19:55:09.736Z"
      },
      {
        "duration": 120,
        "start_time": "2022-07-04T19:55:09.867Z"
      },
      {
        "duration": 6,
        "start_time": "2022-07-04T19:55:09.989Z"
      },
      {
        "duration": 38,
        "start_time": "2022-07-04T19:55:10.043Z"
      },
      {
        "duration": 8,
        "start_time": "2022-07-04T19:55:10.083Z"
      },
      {
        "duration": 9,
        "start_time": "2022-07-04T19:55:10.093Z"
      },
      {
        "duration": 6,
        "start_time": "2022-07-04T19:55:10.103Z"
      },
      {
        "duration": 8,
        "start_time": "2022-07-04T19:55:10.111Z"
      },
      {
        "duration": 8,
        "start_time": "2022-07-04T19:55:10.121Z"
      },
      {
        "duration": 6,
        "start_time": "2022-07-04T20:00:23.228Z"
      },
      {
        "duration": 61,
        "start_time": "2022-07-04T20:06:49.618Z"
      },
      {
        "duration": 55,
        "start_time": "2022-07-04T20:06:55.443Z"
      },
      {
        "duration": 7,
        "start_time": "2022-07-04T20:10:06.872Z"
      },
      {
        "duration": 130,
        "start_time": "2022-07-04T20:13:29.898Z"
      },
      {
        "duration": 4,
        "start_time": "2022-07-04T20:14:51.495Z"
      },
      {
        "duration": 402,
        "start_time": "2022-07-04T20:14:51.502Z"
      },
      {
        "duration": 105,
        "start_time": "2022-07-04T20:14:51.906Z"
      },
      {
        "duration": 107,
        "start_time": "2022-07-04T20:14:52.012Z"
      },
      {
        "duration": 52,
        "start_time": "2022-07-04T20:14:52.146Z"
      },
      {
        "duration": 221,
        "start_time": "2022-07-04T20:14:52.200Z"
      },
      {
        "duration": 88,
        "start_time": "2022-07-04T20:14:52.422Z"
      },
      {
        "duration": 62,
        "start_time": "2022-07-04T20:14:52.512Z"
      },
      {
        "duration": 6,
        "start_time": "2022-07-04T20:14:52.576Z"
      },
      {
        "duration": 8,
        "start_time": "2022-07-04T20:14:52.583Z"
      },
      {
        "duration": 10,
        "start_time": "2022-07-04T20:14:52.593Z"
      },
      {
        "duration": 11,
        "start_time": "2022-07-04T20:14:52.604Z"
      },
      {
        "duration": 201,
        "start_time": "2022-07-04T20:14:52.617Z"
      },
      {
        "duration": 245,
        "start_time": "2022-07-04T20:14:52.820Z"
      },
      {
        "duration": 9,
        "start_time": "2022-07-04T20:14:53.067Z"
      },
      {
        "duration": 13,
        "start_time": "2022-07-04T20:14:53.078Z"
      },
      {
        "duration": 215,
        "start_time": "2022-07-04T20:14:53.092Z"
      },
      {
        "duration": 13,
        "start_time": "2022-07-04T20:14:53.309Z"
      },
      {
        "duration": 41,
        "start_time": "2022-07-04T20:14:53.323Z"
      },
      {
        "duration": 144,
        "start_time": "2022-07-04T20:14:53.365Z"
      },
      {
        "duration": 153,
        "start_time": "2022-07-04T20:14:53.510Z"
      },
      {
        "duration": 13,
        "start_time": "2022-07-04T20:14:53.665Z"
      },
      {
        "duration": 150,
        "start_time": "2022-07-04T20:14:53.680Z"
      },
      {
        "duration": 19,
        "start_time": "2022-07-04T20:14:53.832Z"
      },
      {
        "duration": 16,
        "start_time": "2022-07-04T20:14:53.852Z"
      },
      {
        "duration": 260,
        "start_time": "2022-07-04T20:14:53.869Z"
      },
      {
        "duration": 34,
        "start_time": "2022-07-04T20:14:54.130Z"
      },
      {
        "duration": 200,
        "start_time": "2022-07-04T20:14:54.166Z"
      },
      {
        "duration": 10,
        "start_time": "2022-07-04T20:14:54.370Z"
      },
      {
        "duration": 70,
        "start_time": "2022-07-04T20:14:54.382Z"
      },
      {
        "duration": 33,
        "start_time": "2022-07-04T20:14:54.453Z"
      },
      {
        "duration": 63,
        "start_time": "2022-07-04T20:14:54.488Z"
      },
      {
        "duration": 37,
        "start_time": "2022-07-04T20:14:54.554Z"
      },
      {
        "duration": 58,
        "start_time": "2022-07-04T20:14:54.594Z"
      },
      {
        "duration": 97,
        "start_time": "2022-07-04T20:14:54.656Z"
      },
      {
        "duration": 98,
        "start_time": "2022-07-04T20:14:54.757Z"
      },
      {
        "duration": 30,
        "start_time": "2022-07-04T20:14:54.860Z"
      },
      {
        "duration": 89,
        "start_time": "2022-07-04T20:14:54.892Z"
      },
      {
        "duration": 71,
        "start_time": "2022-07-04T20:14:54.982Z"
      },
      {
        "duration": 7,
        "start_time": "2022-07-04T20:14:55.058Z"
      },
      {
        "duration": 14,
        "start_time": "2022-07-04T20:14:55.067Z"
      },
      {
        "duration": 6,
        "start_time": "2022-07-04T20:14:55.083Z"
      },
      {
        "duration": 66,
        "start_time": "2022-07-04T20:14:55.091Z"
      },
      {
        "duration": 7,
        "start_time": "2022-07-04T20:14:55.160Z"
      },
      {
        "duration": 79,
        "start_time": "2022-07-04T20:14:55.168Z"
      },
      {
        "duration": 18,
        "start_time": "2022-07-04T20:14:55.248Z"
      },
      {
        "duration": 8,
        "start_time": "2022-07-04T20:14:55.268Z"
      },
      {
        "duration": 72,
        "start_time": "2022-07-04T20:14:55.277Z"
      },
      {
        "duration": 17,
        "start_time": "2022-07-04T20:14:55.351Z"
      },
      {
        "duration": 10,
        "start_time": "2022-07-04T20:14:55.370Z"
      },
      {
        "duration": 6,
        "start_time": "2022-07-04T20:14:55.382Z"
      },
      {
        "duration": 55,
        "start_time": "2022-07-04T20:14:55.390Z"
      },
      {
        "duration": 34,
        "start_time": "2022-07-04T20:14:55.447Z"
      },
      {
        "duration": 280,
        "start_time": "2022-07-04T20:14:55.483Z"
      },
      {
        "duration": 11,
        "start_time": "2022-07-04T20:14:55.764Z"
      },
      {
        "duration": 87,
        "start_time": "2022-07-04T20:14:55.776Z"
      },
      {
        "duration": 111,
        "start_time": "2022-07-04T20:14:55.865Z"
      },
      {
        "duration": 113,
        "start_time": "2022-07-04T20:14:55.978Z"
      },
      {
        "duration": 139,
        "start_time": "2022-07-04T20:14:56.146Z"
      },
      {
        "duration": 17,
        "start_time": "2022-07-04T20:14:56.341Z"
      },
      {
        "duration": 16,
        "start_time": "2022-07-04T20:14:56.360Z"
      },
      {
        "duration": 15,
        "start_time": "2022-07-04T20:14:56.379Z"
      },
      {
        "duration": 50,
        "start_time": "2022-07-04T20:14:56.397Z"
      },
      {
        "duration": 37,
        "start_time": "2022-07-04T20:14:56.448Z"
      },
      {
        "duration": 7,
        "start_time": "2022-07-04T20:14:56.487Z"
      },
      {
        "duration": 8,
        "start_time": "2022-07-04T20:14:56.496Z"
      },
      {
        "duration": 8,
        "start_time": "2022-07-04T20:15:12.633Z"
      },
      {
        "duration": 8,
        "start_time": "2022-07-04T20:23:58.679Z"
      },
      {
        "duration": 162,
        "start_time": "2022-07-04T20:23:59.954Z"
      },
      {
        "duration": 278,
        "start_time": "2022-07-04T20:25:21.658Z"
      },
      {
        "duration": 167,
        "start_time": "2022-07-04T20:25:54.725Z"
      },
      {
        "duration": 156,
        "start_time": "2022-07-04T20:26:01.165Z"
      },
      {
        "duration": 275,
        "start_time": "2022-07-04T20:26:06.454Z"
      },
      {
        "duration": 145,
        "start_time": "2022-07-04T20:26:25.563Z"
      },
      {
        "duration": 143,
        "start_time": "2022-07-04T20:26:49.216Z"
      },
      {
        "duration": 141,
        "start_time": "2022-07-04T20:27:10.064Z"
      },
      {
        "duration": 141,
        "start_time": "2022-07-04T20:27:14.784Z"
      },
      {
        "duration": 53,
        "start_time": "2022-07-04T20:27:23.433Z"
      },
      {
        "duration": 150,
        "start_time": "2022-07-04T20:27:27.344Z"
      },
      {
        "duration": 187,
        "start_time": "2022-07-04T20:27:34.369Z"
      },
      {
        "duration": 5,
        "start_time": "2022-07-04T20:28:33.004Z"
      },
      {
        "duration": 3,
        "start_time": "2022-07-04T20:28:37.792Z"
      },
      {
        "duration": 361,
        "start_time": "2022-07-04T20:28:37.797Z"
      },
      {
        "duration": 111,
        "start_time": "2022-07-04T20:28:38.159Z"
      },
      {
        "duration": 116,
        "start_time": "2022-07-04T20:28:38.272Z"
      },
      {
        "duration": 68,
        "start_time": "2022-07-04T20:28:38.390Z"
      },
      {
        "duration": 202,
        "start_time": "2022-07-04T20:28:38.460Z"
      },
      {
        "duration": 61,
        "start_time": "2022-07-04T20:28:38.664Z"
      },
      {
        "duration": 60,
        "start_time": "2022-07-04T20:28:38.727Z"
      },
      {
        "duration": 5,
        "start_time": "2022-07-04T20:28:38.789Z"
      },
      {
        "duration": 6,
        "start_time": "2022-07-04T20:28:38.796Z"
      },
      {
        "duration": 12,
        "start_time": "2022-07-04T20:28:38.804Z"
      },
      {
        "duration": 30,
        "start_time": "2022-07-04T20:28:38.817Z"
      },
      {
        "duration": 154,
        "start_time": "2022-07-04T20:28:38.848Z"
      },
      {
        "duration": 212,
        "start_time": "2022-07-04T20:28:39.004Z"
      },
      {
        "duration": 6,
        "start_time": "2022-07-04T20:28:39.218Z"
      },
      {
        "duration": 20,
        "start_time": "2022-07-04T20:28:39.225Z"
      },
      {
        "duration": 11,
        "start_time": "2022-07-04T20:28:39.247Z"
      },
      {
        "duration": 192,
        "start_time": "2022-07-04T20:28:39.260Z"
      },
      {
        "duration": 12,
        "start_time": "2022-07-04T20:28:39.454Z"
      },
      {
        "duration": 10,
        "start_time": "2022-07-04T20:28:39.468Z"
      },
      {
        "duration": 155,
        "start_time": "2022-07-04T20:28:39.480Z"
      },
      {
        "duration": 131,
        "start_time": "2022-07-04T20:28:39.641Z"
      },
      {
        "duration": 11,
        "start_time": "2022-07-04T20:28:39.774Z"
      },
      {
        "duration": 147,
        "start_time": "2022-07-04T20:28:39.786Z"
      },
      {
        "duration": 11,
        "start_time": "2022-07-04T20:28:39.935Z"
      },
      {
        "duration": 11,
        "start_time": "2022-07-04T20:28:39.947Z"
      },
      {
        "duration": 409,
        "start_time": "2022-07-04T20:28:39.959Z"
      },
      {
        "duration": 12,
        "start_time": "2022-07-04T20:28:40.370Z"
      },
      {
        "duration": 301,
        "start_time": "2022-07-04T20:28:40.385Z"
      },
      {
        "duration": 7,
        "start_time": "2022-07-04T20:28:40.742Z"
      },
      {
        "duration": 16,
        "start_time": "2022-07-04T20:28:40.750Z"
      },
      {
        "duration": 5,
        "start_time": "2022-07-04T20:28:40.768Z"
      },
      {
        "duration": 283,
        "start_time": "2022-07-04T20:28:40.774Z"
      },
      {
        "duration": 4,
        "start_time": "2022-07-04T20:28:41.059Z"
      },
      {
        "duration": 11,
        "start_time": "2022-07-04T20:28:41.065Z"
      },
      {
        "duration": 80,
        "start_time": "2022-07-04T20:28:41.077Z"
      },
      {
        "duration": 29,
        "start_time": "2022-07-04T20:28:41.158Z"
      },
      {
        "duration": 30,
        "start_time": "2022-07-04T20:28:41.241Z"
      },
      {
        "duration": 82,
        "start_time": "2022-07-04T20:28:41.273Z"
      },
      {
        "duration": 13,
        "start_time": "2022-07-04T20:28:41.357Z"
      },
      {
        "duration": 5,
        "start_time": "2022-07-04T20:28:41.372Z"
      },
      {
        "duration": 63,
        "start_time": "2022-07-04T20:28:41.379Z"
      },
      {
        "duration": 9,
        "start_time": "2022-07-04T20:28:41.444Z"
      },
      {
        "duration": 18,
        "start_time": "2022-07-04T20:28:41.454Z"
      },
      {
        "duration": 9,
        "start_time": "2022-07-04T20:28:41.473Z"
      },
      {
        "duration": 67,
        "start_time": "2022-07-04T20:28:41.483Z"
      },
      {
        "duration": 10,
        "start_time": "2022-07-04T20:28:41.551Z"
      },
      {
        "duration": 19,
        "start_time": "2022-07-04T20:28:41.562Z"
      },
      {
        "duration": 66,
        "start_time": "2022-07-04T20:28:41.583Z"
      },
      {
        "duration": 14,
        "start_time": "2022-07-04T20:28:41.650Z"
      },
      {
        "duration": 6,
        "start_time": "2022-07-04T20:28:41.665Z"
      },
      {
        "duration": 6,
        "start_time": "2022-07-04T20:28:41.673Z"
      },
      {
        "duration": 7,
        "start_time": "2022-07-04T20:28:41.680Z"
      },
      {
        "duration": 18,
        "start_time": "2022-07-04T20:28:41.741Z"
      },
      {
        "duration": 321,
        "start_time": "2022-07-04T20:28:41.762Z"
      },
      {
        "duration": 12,
        "start_time": "2022-07-04T20:28:42.084Z"
      },
      {
        "duration": 56,
        "start_time": "2022-07-04T20:28:42.098Z"
      },
      {
        "duration": 52,
        "start_time": "2022-07-04T20:28:42.156Z"
      },
      {
        "duration": 71,
        "start_time": "2022-07-04T20:28:42.209Z"
      },
      {
        "duration": 65,
        "start_time": "2022-07-04T20:28:42.282Z"
      },
      {
        "duration": 5,
        "start_time": "2022-07-04T20:28:42.349Z"
      },
      {
        "duration": 7,
        "start_time": "2022-07-04T20:28:42.355Z"
      },
      {
        "duration": 6,
        "start_time": "2022-07-04T20:28:42.363Z"
      },
      {
        "duration": 7,
        "start_time": "2022-07-04T20:28:42.370Z"
      },
      {
        "duration": 6,
        "start_time": "2022-07-04T20:28:42.378Z"
      },
      {
        "duration": 6,
        "start_time": "2022-07-04T20:28:42.386Z"
      },
      {
        "duration": 51,
        "start_time": "2022-07-04T20:28:42.394Z"
      },
      {
        "duration": 5,
        "start_time": "2022-07-04T20:28:58.632Z"
      },
      {
        "duration": 2,
        "start_time": "2022-07-04T20:29:03.933Z"
      },
      {
        "duration": 370,
        "start_time": "2022-07-04T20:29:03.938Z"
      },
      {
        "duration": 110,
        "start_time": "2022-07-04T20:29:04.310Z"
      },
      {
        "duration": 146,
        "start_time": "2022-07-04T20:29:04.422Z"
      },
      {
        "duration": 79,
        "start_time": "2022-07-04T20:29:04.569Z"
      },
      {
        "duration": 208,
        "start_time": "2022-07-04T20:29:04.650Z"
      },
      {
        "duration": 62,
        "start_time": "2022-07-04T20:29:04.859Z"
      },
      {
        "duration": 60,
        "start_time": "2022-07-04T20:29:04.923Z"
      },
      {
        "duration": 5,
        "start_time": "2022-07-04T20:29:04.985Z"
      },
      {
        "duration": 8,
        "start_time": "2022-07-04T20:29:04.991Z"
      },
      {
        "duration": 6,
        "start_time": "2022-07-04T20:29:05.001Z"
      },
      {
        "duration": 38,
        "start_time": "2022-07-04T20:29:05.009Z"
      },
      {
        "duration": 158,
        "start_time": "2022-07-04T20:29:05.049Z"
      },
      {
        "duration": 221,
        "start_time": "2022-07-04T20:29:05.208Z"
      },
      {
        "duration": 22,
        "start_time": "2022-07-04T20:29:05.431Z"
      },
      {
        "duration": 8,
        "start_time": "2022-07-04T20:29:05.455Z"
      },
      {
        "duration": 14,
        "start_time": "2022-07-04T20:29:05.465Z"
      },
      {
        "duration": 201,
        "start_time": "2022-07-04T20:29:05.481Z"
      },
      {
        "duration": 12,
        "start_time": "2022-07-04T20:29:05.683Z"
      },
      {
        "duration": 10,
        "start_time": "2022-07-04T20:29:05.696Z"
      },
      {
        "duration": 177,
        "start_time": "2022-07-04T20:29:05.708Z"
      },
      {
        "duration": 139,
        "start_time": "2022-07-04T20:29:05.887Z"
      },
      {
        "duration": 29,
        "start_time": "2022-07-04T20:29:06.027Z"
      },
      {
        "duration": 138,
        "start_time": "2022-07-04T20:29:06.058Z"
      },
      {
        "duration": 4,
        "start_time": "2022-07-04T20:29:06.198Z"
      },
      {
        "duration": 11,
        "start_time": "2022-07-04T20:29:06.203Z"
      },
      {
        "duration": 365,
        "start_time": "2022-07-04T20:29:06.215Z"
      },
      {
        "duration": 75,
        "start_time": "2022-07-04T20:29:06.582Z"
      },
      {
        "duration": 402,
        "start_time": "2022-07-04T20:29:06.661Z"
      },
      {
        "duration": 7,
        "start_time": "2022-07-04T20:29:07.065Z"
      },
      {
        "duration": 8,
        "start_time": "2022-07-04T20:29:07.074Z"
      },
      {
        "duration": 6,
        "start_time": "2022-07-04T20:29:07.083Z"
      },
      {
        "duration": 64,
        "start_time": "2022-07-04T20:29:07.090Z"
      },
      {
        "duration": 13,
        "start_time": "2022-07-04T20:29:07.156Z"
      },
      {
        "duration": 10,
        "start_time": "2022-07-04T20:29:07.171Z"
      },
      {
        "duration": 89,
        "start_time": "2022-07-04T20:29:07.182Z"
      },
      {
        "duration": 97,
        "start_time": "2022-07-04T20:29:07.272Z"
      },
      {
        "duration": 88,
        "start_time": "2022-07-04T20:29:07.370Z"
      },
      {
        "duration": 105,
        "start_time": "2022-07-04T20:29:07.460Z"
      },
      {
        "duration": 16,
        "start_time": "2022-07-04T20:29:07.566Z"
      },
      {
        "duration": 72,
        "start_time": "2022-07-04T20:29:07.583Z"
      },
      {
        "duration": 15,
        "start_time": "2022-07-04T20:29:07.660Z"
      },
      {
        "duration": 8,
        "start_time": "2022-07-04T20:29:07.677Z"
      },
      {
        "duration": 62,
        "start_time": "2022-07-04T20:29:07.687Z"
      },
      {
        "duration": 12,
        "start_time": "2022-07-04T20:29:07.750Z"
      },
      {
        "duration": 15,
        "start_time": "2022-07-04T20:29:07.763Z"
      },
      {
        "duration": 9,
        "start_time": "2022-07-04T20:29:07.780Z"
      },
      {
        "duration": 8,
        "start_time": "2022-07-04T20:29:07.843Z"
      },
      {
        "duration": 26,
        "start_time": "2022-07-04T20:29:07.856Z"
      },
      {
        "duration": 68,
        "start_time": "2022-07-04T20:29:07.883Z"
      },
      {
        "duration": 4,
        "start_time": "2022-07-04T20:29:07.953Z"
      },
      {
        "duration": 7,
        "start_time": "2022-07-04T20:29:07.958Z"
      },
      {
        "duration": 12,
        "start_time": "2022-07-04T20:29:07.967Z"
      },
      {
        "duration": 14,
        "start_time": "2022-07-04T20:29:07.980Z"
      },
      {
        "duration": 236,
        "start_time": "2022-07-04T20:29:08.042Z"
      },
      {
        "duration": 10,
        "start_time": "2022-07-04T20:29:08.280Z"
      },
      {
        "duration": 94,
        "start_time": "2022-07-04T20:29:08.291Z"
      },
      {
        "duration": 84,
        "start_time": "2022-07-04T20:29:08.386Z"
      },
      {
        "duration": 48,
        "start_time": "2022-07-04T20:29:08.472Z"
      },
      {
        "duration": 73,
        "start_time": "2022-07-04T20:29:08.522Z"
      },
      {
        "duration": 5,
        "start_time": "2022-07-04T20:29:08.596Z"
      },
      {
        "duration": 6,
        "start_time": "2022-07-04T20:29:08.602Z"
      },
      {
        "duration": 6,
        "start_time": "2022-07-04T20:29:08.610Z"
      },
      {
        "duration": 6,
        "start_time": "2022-07-04T20:29:08.651Z"
      },
      {
        "duration": 8,
        "start_time": "2022-07-04T20:29:08.658Z"
      },
      {
        "duration": 8,
        "start_time": "2022-07-04T20:29:08.668Z"
      },
      {
        "duration": 5,
        "start_time": "2022-07-04T20:29:08.678Z"
      },
      {
        "duration": 10,
        "start_time": "2022-07-04T20:30:28.888Z"
      },
      {
        "duration": 3,
        "start_time": "2022-07-04T20:33:19.575Z"
      },
      {
        "duration": 10,
        "start_time": "2022-07-04T20:33:53.687Z"
      },
      {
        "duration": 8,
        "start_time": "2022-07-04T20:34:30.243Z"
      },
      {
        "duration": 6,
        "start_time": "2022-07-04T20:35:09.544Z"
      },
      {
        "duration": 7,
        "start_time": "2022-07-04T20:35:25.739Z"
      },
      {
        "duration": 6,
        "start_time": "2022-07-04T20:35:29.727Z"
      },
      {
        "duration": 6,
        "start_time": "2022-07-04T20:35:32.027Z"
      },
      {
        "duration": 10,
        "start_time": "2022-07-04T20:35:59.011Z"
      },
      {
        "duration": 10,
        "start_time": "2022-07-04T20:36:37.915Z"
      },
      {
        "duration": 184,
        "start_time": "2022-07-04T20:38:27.598Z"
      },
      {
        "duration": 206,
        "start_time": "2022-07-04T20:38:51.403Z"
      },
      {
        "duration": 328,
        "start_time": "2022-07-04T20:44:04.846Z"
      },
      {
        "duration": 12,
        "start_time": "2022-07-04T20:45:09.329Z"
      },
      {
        "duration": 12,
        "start_time": "2022-07-04T20:45:46.605Z"
      },
      {
        "duration": 11,
        "start_time": "2022-07-04T20:45:59.162Z"
      },
      {
        "duration": 834,
        "start_time": "2022-07-04T20:47:14.825Z"
      },
      {
        "duration": 3,
        "start_time": "2022-07-04T20:47:24.869Z"
      },
      {
        "duration": 362,
        "start_time": "2022-07-04T20:47:24.876Z"
      },
      {
        "duration": 110,
        "start_time": "2022-07-04T20:47:25.240Z"
      },
      {
        "duration": 111,
        "start_time": "2022-07-04T20:47:25.352Z"
      },
      {
        "duration": 77,
        "start_time": "2022-07-04T20:47:25.465Z"
      },
      {
        "duration": 178,
        "start_time": "2022-07-04T20:47:25.544Z"
      },
      {
        "duration": 67,
        "start_time": "2022-07-04T20:47:25.742Z"
      },
      {
        "duration": 66,
        "start_time": "2022-07-04T20:47:25.811Z"
      },
      {
        "duration": 5,
        "start_time": "2022-07-04T20:47:25.878Z"
      },
      {
        "duration": 8,
        "start_time": "2022-07-04T20:47:25.885Z"
      },
      {
        "duration": 8,
        "start_time": "2022-07-04T20:47:25.897Z"
      },
      {
        "duration": 38,
        "start_time": "2022-07-04T20:47:25.906Z"
      },
      {
        "duration": 167,
        "start_time": "2022-07-04T20:47:25.946Z"
      },
      {
        "duration": 211,
        "start_time": "2022-07-04T20:47:26.114Z"
      },
      {
        "duration": 5,
        "start_time": "2022-07-04T20:47:26.326Z"
      },
      {
        "duration": 8,
        "start_time": "2022-07-04T20:47:26.342Z"
      },
      {
        "duration": 13,
        "start_time": "2022-07-04T20:47:26.351Z"
      },
      {
        "duration": 200,
        "start_time": "2022-07-04T20:47:26.366Z"
      },
      {
        "duration": 13,
        "start_time": "2022-07-04T20:47:26.568Z"
      },
      {
        "duration": 161,
        "start_time": "2022-07-04T20:47:26.583Z"
      },
      {
        "duration": 148,
        "start_time": "2022-07-04T20:47:26.746Z"
      },
      {
        "duration": 11,
        "start_time": "2022-07-04T20:47:26.895Z"
      },
      {
        "duration": 342,
        "start_time": "2022-07-04T20:47:26.907Z"
      },
      {
        "duration": 6,
        "start_time": "2022-07-04T20:47:27.251Z"
      },
      {
        "duration": 16,
        "start_time": "2022-07-04T20:47:27.259Z"
      },
      {
        "duration": 289,
        "start_time": "2022-07-04T20:47:27.277Z"
      },
      {
        "duration": 14,
        "start_time": "2022-07-04T20:47:27.568Z"
      },
      {
        "duration": 206,
        "start_time": "2022-07-04T20:47:27.584Z"
      },
      {
        "duration": 7,
        "start_time": "2022-07-04T20:47:27.794Z"
      },
      {
        "duration": 10,
        "start_time": "2022-07-04T20:47:27.802Z"
      },
      {
        "duration": 5,
        "start_time": "2022-07-04T20:47:27.814Z"
      },
      {
        "duration": 15,
        "start_time": "2022-07-04T20:47:27.841Z"
      },
      {
        "duration": 8,
        "start_time": "2022-07-04T20:47:27.858Z"
      },
      {
        "duration": 13,
        "start_time": "2022-07-04T20:47:27.868Z"
      },
      {
        "duration": 72,
        "start_time": "2022-07-04T20:47:27.883Z"
      },
      {
        "duration": 33,
        "start_time": "2022-07-04T20:47:27.956Z"
      },
      {
        "duration": 53,
        "start_time": "2022-07-04T20:47:27.991Z"
      },
      {
        "duration": 36,
        "start_time": "2022-07-04T20:47:28.046Z"
      },
      {
        "duration": 13,
        "start_time": "2022-07-04T20:47:28.084Z"
      },
      {
        "duration": 6,
        "start_time": "2022-07-04T20:47:28.098Z"
      },
      {
        "duration": 37,
        "start_time": "2022-07-04T20:47:28.106Z"
      },
      {
        "duration": 7,
        "start_time": "2022-07-04T20:47:28.145Z"
      },
      {
        "duration": 17,
        "start_time": "2022-07-04T20:47:28.153Z"
      },
      {
        "duration": 10,
        "start_time": "2022-07-04T20:47:28.172Z"
      },
      {
        "duration": 18,
        "start_time": "2022-07-04T20:47:28.184Z"
      },
      {
        "duration": 39,
        "start_time": "2022-07-04T20:47:28.203Z"
      },
      {
        "duration": 7,
        "start_time": "2022-07-04T20:47:28.244Z"
      },
      {
        "duration": 20,
        "start_time": "2022-07-04T20:47:28.253Z"
      },
      {
        "duration": 13,
        "start_time": "2022-07-04T20:47:28.274Z"
      },
      {
        "duration": 4,
        "start_time": "2022-07-04T20:47:28.289Z"
      },
      {
        "duration": 48,
        "start_time": "2022-07-04T20:47:28.295Z"
      },
      {
        "duration": 5,
        "start_time": "2022-07-04T20:47:28.345Z"
      },
      {
        "duration": 13,
        "start_time": "2022-07-04T20:47:28.352Z"
      },
      {
        "duration": 146,
        "start_time": "2022-07-04T20:47:28.367Z"
      },
      {
        "duration": 11,
        "start_time": "2022-07-04T20:47:28.514Z"
      },
      {
        "duration": 42,
        "start_time": "2022-07-04T20:47:28.527Z"
      },
      {
        "duration": 72,
        "start_time": "2022-07-04T20:47:28.570Z"
      },
      {
        "duration": 50,
        "start_time": "2022-07-04T20:47:28.644Z"
      },
      {
        "duration": 87,
        "start_time": "2022-07-04T20:47:28.695Z"
      },
      {
        "duration": 6,
        "start_time": "2022-07-04T20:47:28.784Z"
      },
      {
        "duration": 14,
        "start_time": "2022-07-04T20:47:28.792Z"
      },
      {
        "duration": 8,
        "start_time": "2022-07-04T20:47:28.808Z"
      },
      {
        "duration": 28,
        "start_time": "2022-07-04T20:47:28.817Z"
      },
      {
        "duration": 7,
        "start_time": "2022-07-04T20:47:28.847Z"
      },
      {
        "duration": 7,
        "start_time": "2022-07-04T20:47:28.855Z"
      },
      {
        "duration": 7,
        "start_time": "2022-07-04T20:47:28.864Z"
      },
      {
        "duration": 269,
        "start_time": "2022-07-04T20:48:15.557Z"
      },
      {
        "duration": 1445,
        "start_time": "2022-07-04T20:48:32.617Z"
      },
      {
        "duration": 172,
        "start_time": "2022-07-04T20:48:40.285Z"
      },
      {
        "duration": 367,
        "start_time": "2022-07-04T20:48:46.717Z"
      },
      {
        "duration": 304,
        "start_time": "2022-07-04T20:48:53.954Z"
      },
      {
        "duration": 523,
        "start_time": "2022-07-04T20:49:09.933Z"
      },
      {
        "duration": 12,
        "start_time": "2022-07-04T20:50:01.078Z"
      },
      {
        "duration": 8,
        "start_time": "2022-07-04T20:51:06.189Z"
      },
      {
        "duration": 5,
        "start_time": "2022-07-04T20:51:06.897Z"
      },
      {
        "duration": 4,
        "start_time": "2022-07-04T20:51:39.529Z"
      },
      {
        "duration": 381,
        "start_time": "2022-07-04T20:51:39.535Z"
      },
      {
        "duration": 124,
        "start_time": "2022-07-04T20:51:39.918Z"
      },
      {
        "duration": 114,
        "start_time": "2022-07-04T20:51:40.044Z"
      },
      {
        "duration": 43,
        "start_time": "2022-07-04T20:51:40.160Z"
      },
      {
        "duration": 211,
        "start_time": "2022-07-04T20:51:40.205Z"
      },
      {
        "duration": 82,
        "start_time": "2022-07-04T20:51:40.417Z"
      },
      {
        "duration": 55,
        "start_time": "2022-07-04T20:51:40.500Z"
      },
      {
        "duration": 6,
        "start_time": "2022-07-04T20:51:40.556Z"
      },
      {
        "duration": 8,
        "start_time": "2022-07-04T20:51:40.563Z"
      },
      {
        "duration": 7,
        "start_time": "2022-07-04T20:51:40.573Z"
      },
      {
        "duration": 10,
        "start_time": "2022-07-04T20:51:40.581Z"
      },
      {
        "duration": 175,
        "start_time": "2022-07-04T20:51:40.593Z"
      },
      {
        "duration": 228,
        "start_time": "2022-07-04T20:51:40.770Z"
      },
      {
        "duration": 5,
        "start_time": "2022-07-04T20:51:41.000Z"
      },
      {
        "duration": 11,
        "start_time": "2022-07-04T20:51:41.007Z"
      },
      {
        "duration": 33,
        "start_time": "2022-07-04T20:51:41.020Z"
      },
      {
        "duration": 182,
        "start_time": "2022-07-04T20:51:41.055Z"
      },
      {
        "duration": 14,
        "start_time": "2022-07-04T20:51:41.238Z"
      },
      {
        "duration": 159,
        "start_time": "2022-07-04T20:51:41.254Z"
      },
      {
        "duration": 173,
        "start_time": "2022-07-04T20:51:41.414Z"
      },
      {
        "duration": 11,
        "start_time": "2022-07-04T20:51:41.588Z"
      },
      {
        "duration": 157,
        "start_time": "2022-07-04T20:51:41.601Z"
      },
      {
        "duration": 170,
        "start_time": "2022-07-04T20:51:41.760Z"
      },
      {
        "duration": 16,
        "start_time": "2022-07-04T20:51:41.932Z"
      },
      {
        "duration": 6,
        "start_time": "2022-07-04T20:51:41.949Z"
      },
      {
        "duration": 14,
        "start_time": "2022-07-04T20:51:41.957Z"
      },
      {
        "duration": 326,
        "start_time": "2022-07-04T20:51:41.973Z"
      },
      {
        "duration": 12,
        "start_time": "2022-07-04T20:51:42.304Z"
      },
      {
        "duration": 27,
        "start_time": "2022-07-04T20:51:42.318Z"
      },
      {
        "duration": 4,
        "start_time": "2022-07-04T20:51:42.347Z"
      },
      {
        "duration": 12,
        "start_time": "2022-07-04T20:51:42.353Z"
      },
      {
        "duration": 7,
        "start_time": "2022-07-04T20:51:42.367Z"
      },
      {
        "duration": 9,
        "start_time": "2022-07-04T20:51:42.376Z"
      },
      {
        "duration": 66,
        "start_time": "2022-07-04T20:51:42.387Z"
      },
      {
        "duration": 32,
        "start_time": "2022-07-04T20:51:42.454Z"
      },
      {
        "duration": 28,
        "start_time": "2022-07-04T20:51:42.488Z"
      },
      {
        "duration": 30,
        "start_time": "2022-07-04T20:51:42.543Z"
      },
      {
        "duration": 15,
        "start_time": "2022-07-04T20:51:42.576Z"
      },
      {
        "duration": 7,
        "start_time": "2022-07-04T20:51:42.592Z"
      },
      {
        "duration": 43,
        "start_time": "2022-07-04T20:51:42.601Z"
      },
      {
        "duration": 7,
        "start_time": "2022-07-04T20:51:42.645Z"
      },
      {
        "duration": 19,
        "start_time": "2022-07-04T20:51:42.654Z"
      },
      {
        "duration": 8,
        "start_time": "2022-07-04T20:51:42.674Z"
      },
      {
        "duration": 16,
        "start_time": "2022-07-04T20:51:42.684Z"
      },
      {
        "duration": 48,
        "start_time": "2022-07-04T20:51:42.702Z"
      },
      {
        "duration": 10,
        "start_time": "2022-07-04T20:51:42.752Z"
      },
      {
        "duration": 20,
        "start_time": "2022-07-04T20:51:42.764Z"
      },
      {
        "duration": 13,
        "start_time": "2022-07-04T20:51:42.786Z"
      },
      {
        "duration": 12,
        "start_time": "2022-07-04T20:51:42.800Z"
      },
      {
        "duration": 4,
        "start_time": "2022-07-04T20:51:42.842Z"
      },
      {
        "duration": 7,
        "start_time": "2022-07-04T20:51:42.847Z"
      },
      {
        "duration": 12,
        "start_time": "2022-07-04T20:51:42.855Z"
      },
      {
        "duration": 128,
        "start_time": "2022-07-04T20:51:42.868Z"
      },
      {
        "duration": 10,
        "start_time": "2022-07-04T20:51:42.998Z"
      },
      {
        "duration": 49,
        "start_time": "2022-07-04T20:51:43.009Z"
      },
      {
        "duration": 48,
        "start_time": "2022-07-04T20:51:43.060Z"
      },
      {
        "duration": 66,
        "start_time": "2022-07-04T20:51:43.109Z"
      },
      {
        "duration": 90,
        "start_time": "2022-07-04T20:51:43.177Z"
      },
      {
        "duration": 5,
        "start_time": "2022-07-04T20:51:43.269Z"
      },
      {
        "duration": 11,
        "start_time": "2022-07-04T20:51:43.275Z"
      },
      {
        "duration": 57,
        "start_time": "2022-07-04T20:51:43.288Z"
      },
      {
        "duration": 9,
        "start_time": "2022-07-04T20:51:43.347Z"
      },
      {
        "duration": 8,
        "start_time": "2022-07-04T20:51:43.357Z"
      },
      {
        "duration": 5,
        "start_time": "2022-07-04T20:51:43.367Z"
      },
      {
        "duration": 5,
        "start_time": "2022-07-04T20:51:43.374Z"
      },
      {
        "duration": 3,
        "start_time": "2022-07-04T20:54:10.416Z"
      },
      {
        "duration": 9,
        "start_time": "2022-07-04T20:54:11.929Z"
      },
      {
        "duration": 4,
        "start_time": "2022-07-04T20:54:44.588Z"
      },
      {
        "duration": 11,
        "start_time": "2022-07-04T20:54:45.828Z"
      },
      {
        "duration": 11,
        "start_time": "2022-07-04T20:54:46.956Z"
      },
      {
        "duration": 3,
        "start_time": "2022-07-04T20:54:50.256Z"
      },
      {
        "duration": 374,
        "start_time": "2022-07-04T20:54:50.265Z"
      },
      {
        "duration": 121,
        "start_time": "2022-07-04T20:54:50.640Z"
      },
      {
        "duration": 123,
        "start_time": "2022-07-04T20:54:50.762Z"
      },
      {
        "duration": 81,
        "start_time": "2022-07-04T20:54:50.887Z"
      },
      {
        "duration": 213,
        "start_time": "2022-07-04T20:54:50.970Z"
      },
      {
        "duration": 83,
        "start_time": "2022-07-04T20:54:51.185Z"
      },
      {
        "duration": 44,
        "start_time": "2022-07-04T20:54:51.270Z"
      },
      {
        "duration": 6,
        "start_time": "2022-07-04T20:54:51.316Z"
      },
      {
        "duration": 37,
        "start_time": "2022-07-04T20:54:51.323Z"
      },
      {
        "duration": 9,
        "start_time": "2022-07-04T20:54:51.362Z"
      },
      {
        "duration": 17,
        "start_time": "2022-07-04T20:54:51.373Z"
      },
      {
        "duration": 187,
        "start_time": "2022-07-04T20:54:51.392Z"
      },
      {
        "duration": 232,
        "start_time": "2022-07-04T20:54:51.581Z"
      },
      {
        "duration": 4,
        "start_time": "2022-07-04T20:54:51.817Z"
      },
      {
        "duration": 22,
        "start_time": "2022-07-04T20:54:51.823Z"
      },
      {
        "duration": 22,
        "start_time": "2022-07-04T20:54:51.846Z"
      },
      {
        "duration": 196,
        "start_time": "2022-07-04T20:54:51.869Z"
      },
      {
        "duration": 13,
        "start_time": "2022-07-04T20:54:52.067Z"
      },
      {
        "duration": 170,
        "start_time": "2022-07-04T20:54:52.081Z"
      },
      {
        "duration": 142,
        "start_time": "2022-07-04T20:54:52.253Z"
      },
      {
        "duration": 10,
        "start_time": "2022-07-04T20:54:52.397Z"
      },
      {
        "duration": 151,
        "start_time": "2022-07-04T20:54:52.409Z"
      },
      {
        "duration": 172,
        "start_time": "2022-07-04T20:54:52.562Z"
      },
      {
        "duration": 21,
        "start_time": "2022-07-04T20:54:52.736Z"
      },
      {
        "duration": 11,
        "start_time": "2022-07-04T20:54:52.759Z"
      },
      {
        "duration": 26,
        "start_time": "2022-07-04T20:54:52.771Z"
      },
      {
        "duration": 299,
        "start_time": "2022-07-04T20:54:52.798Z"
      },
      {
        "duration": 11,
        "start_time": "2022-07-04T20:54:53.098Z"
      },
      {
        "duration": 7,
        "start_time": "2022-07-04T20:54:53.111Z"
      },
      {
        "duration": 1016,
        "start_time": "2022-07-04T20:54:53.119Z"
      },
      {
        "duration": 0,
        "start_time": "2022-07-04T20:54:54.137Z"
      },
      {
        "duration": 0,
        "start_time": "2022-07-04T20:54:54.138Z"
      },
      {
        "duration": 0,
        "start_time": "2022-07-04T20:54:54.139Z"
      },
      {
        "duration": 0,
        "start_time": "2022-07-04T20:54:54.140Z"
      },
      {
        "duration": 0,
        "start_time": "2022-07-04T20:54:54.142Z"
      },
      {
        "duration": 0,
        "start_time": "2022-07-04T20:54:54.143Z"
      },
      {
        "duration": 0,
        "start_time": "2022-07-04T20:54:54.144Z"
      },
      {
        "duration": 0,
        "start_time": "2022-07-04T20:54:54.145Z"
      },
      {
        "duration": 0,
        "start_time": "2022-07-04T20:54:54.146Z"
      },
      {
        "duration": 0,
        "start_time": "2022-07-04T20:54:54.147Z"
      },
      {
        "duration": 0,
        "start_time": "2022-07-04T20:54:54.148Z"
      },
      {
        "duration": 0,
        "start_time": "2022-07-04T20:54:54.149Z"
      },
      {
        "duration": 0,
        "start_time": "2022-07-04T20:54:54.150Z"
      },
      {
        "duration": 0,
        "start_time": "2022-07-04T20:54:54.151Z"
      },
      {
        "duration": 0,
        "start_time": "2022-07-04T20:54:54.152Z"
      },
      {
        "duration": 0,
        "start_time": "2022-07-04T20:54:54.154Z"
      },
      {
        "duration": 0,
        "start_time": "2022-07-04T20:54:54.155Z"
      },
      {
        "duration": 0,
        "start_time": "2022-07-04T20:54:54.157Z"
      },
      {
        "duration": 0,
        "start_time": "2022-07-04T20:54:54.158Z"
      },
      {
        "duration": 0,
        "start_time": "2022-07-04T20:54:54.160Z"
      },
      {
        "duration": 0,
        "start_time": "2022-07-04T20:54:54.161Z"
      },
      {
        "duration": 0,
        "start_time": "2022-07-04T20:54:54.162Z"
      },
      {
        "duration": 0,
        "start_time": "2022-07-04T20:54:54.163Z"
      },
      {
        "duration": 0,
        "start_time": "2022-07-04T20:54:54.164Z"
      },
      {
        "duration": 0,
        "start_time": "2022-07-04T20:54:54.166Z"
      },
      {
        "duration": 0,
        "start_time": "2022-07-04T20:54:54.167Z"
      },
      {
        "duration": 0,
        "start_time": "2022-07-04T20:54:54.168Z"
      },
      {
        "duration": 0,
        "start_time": "2022-07-04T20:54:54.169Z"
      },
      {
        "duration": 0,
        "start_time": "2022-07-04T20:54:54.171Z"
      },
      {
        "duration": 0,
        "start_time": "2022-07-04T20:54:54.172Z"
      },
      {
        "duration": 0,
        "start_time": "2022-07-04T20:54:54.174Z"
      },
      {
        "duration": 0,
        "start_time": "2022-07-04T20:54:54.175Z"
      },
      {
        "duration": 0,
        "start_time": "2022-07-04T20:54:54.176Z"
      },
      {
        "duration": 0,
        "start_time": "2022-07-04T20:54:54.177Z"
      },
      {
        "duration": 0,
        "start_time": "2022-07-04T20:54:54.178Z"
      },
      {
        "duration": 3,
        "start_time": "2022-07-04T20:55:07.254Z"
      },
      {
        "duration": 413,
        "start_time": "2022-07-04T20:55:07.261Z"
      },
      {
        "duration": 104,
        "start_time": "2022-07-04T20:55:07.676Z"
      },
      {
        "duration": 118,
        "start_time": "2022-07-04T20:55:07.782Z"
      },
      {
        "duration": 74,
        "start_time": "2022-07-04T20:55:07.902Z"
      },
      {
        "duration": 207,
        "start_time": "2022-07-04T20:55:07.977Z"
      },
      {
        "duration": 85,
        "start_time": "2022-07-04T20:55:08.186Z"
      },
      {
        "duration": 46,
        "start_time": "2022-07-04T20:55:08.272Z"
      },
      {
        "duration": 5,
        "start_time": "2022-07-04T20:55:08.320Z"
      },
      {
        "duration": 19,
        "start_time": "2022-07-04T20:55:08.327Z"
      },
      {
        "duration": 12,
        "start_time": "2022-07-04T20:55:08.348Z"
      },
      {
        "duration": 11,
        "start_time": "2022-07-04T20:55:08.362Z"
      },
      {
        "duration": 182,
        "start_time": "2022-07-04T20:55:08.376Z"
      },
      {
        "duration": 224,
        "start_time": "2022-07-04T20:55:08.560Z"
      },
      {
        "duration": 6,
        "start_time": "2022-07-04T20:55:08.786Z"
      },
      {
        "duration": 11,
        "start_time": "2022-07-04T20:55:08.793Z"
      },
      {
        "duration": 14,
        "start_time": "2022-07-04T20:55:08.806Z"
      },
      {
        "duration": 212,
        "start_time": "2022-07-04T20:55:08.822Z"
      },
      {
        "duration": 15,
        "start_time": "2022-07-04T20:55:09.041Z"
      },
      {
        "duration": 152,
        "start_time": "2022-07-04T20:55:09.062Z"
      },
      {
        "duration": 163,
        "start_time": "2022-07-04T20:55:09.215Z"
      },
      {
        "duration": 9,
        "start_time": "2022-07-04T20:55:09.380Z"
      },
      {
        "duration": 169,
        "start_time": "2022-07-04T20:55:09.391Z"
      },
      {
        "duration": 161,
        "start_time": "2022-07-04T20:55:09.562Z"
      },
      {
        "duration": 7,
        "start_time": "2022-07-04T20:55:09.725Z"
      },
      {
        "duration": 20,
        "start_time": "2022-07-04T20:55:09.734Z"
      },
      {
        "duration": 15,
        "start_time": "2022-07-04T20:55:09.756Z"
      },
      {
        "duration": 331,
        "start_time": "2022-07-04T20:55:09.773Z"
      },
      {
        "duration": 11,
        "start_time": "2022-07-04T20:55:10.106Z"
      },
      {
        "duration": 7,
        "start_time": "2022-07-04T20:55:10.119Z"
      },
      {
        "duration": 28,
        "start_time": "2022-07-04T20:55:10.127Z"
      },
      {
        "duration": 15,
        "start_time": "2022-07-04T20:55:10.157Z"
      },
      {
        "duration": 9,
        "start_time": "2022-07-04T20:55:10.173Z"
      },
      {
        "duration": 13,
        "start_time": "2022-07-04T20:55:10.184Z"
      },
      {
        "duration": 48,
        "start_time": "2022-07-04T20:55:10.199Z"
      },
      {
        "duration": 36,
        "start_time": "2022-07-04T20:55:10.249Z"
      },
      {
        "duration": 32,
        "start_time": "2022-07-04T20:55:10.289Z"
      },
      {
        "duration": 41,
        "start_time": "2022-07-04T20:55:10.347Z"
      },
      {
        "duration": 14,
        "start_time": "2022-07-04T20:55:10.390Z"
      },
      {
        "duration": 6,
        "start_time": "2022-07-04T20:55:10.406Z"
      },
      {
        "duration": 37,
        "start_time": "2022-07-04T20:55:10.414Z"
      },
      {
        "duration": 6,
        "start_time": "2022-07-04T20:55:10.454Z"
      },
      {
        "duration": 16,
        "start_time": "2022-07-04T20:55:10.462Z"
      },
      {
        "duration": 7,
        "start_time": "2022-07-04T20:55:10.480Z"
      },
      {
        "duration": 293,
        "start_time": "2022-07-04T20:55:10.488Z"
      },
      {
        "duration": 11,
        "start_time": "2022-07-04T20:55:10.783Z"
      },
      {
        "duration": 7,
        "start_time": "2022-07-04T20:55:10.796Z"
      },
      {
        "duration": 17,
        "start_time": "2022-07-04T20:55:10.804Z"
      },
      {
        "duration": 20,
        "start_time": "2022-07-04T20:55:10.844Z"
      },
      {
        "duration": 3,
        "start_time": "2022-07-04T20:55:10.866Z"
      },
      {
        "duration": 6,
        "start_time": "2022-07-04T20:55:10.871Z"
      },
      {
        "duration": 6,
        "start_time": "2022-07-04T20:55:10.878Z"
      },
      {
        "duration": 12,
        "start_time": "2022-07-04T20:55:10.885Z"
      },
      {
        "duration": 360,
        "start_time": "2022-07-04T20:55:10.898Z"
      },
      {
        "duration": 13,
        "start_time": "2022-07-04T20:55:11.261Z"
      },
      {
        "duration": 97,
        "start_time": "2022-07-04T20:55:11.276Z"
      },
      {
        "duration": 114,
        "start_time": "2022-07-04T20:55:11.375Z"
      },
      {
        "duration": 177,
        "start_time": "2022-07-04T20:55:11.491Z"
      },
      {
        "duration": 181,
        "start_time": "2022-07-04T20:55:11.669Z"
      },
      {
        "duration": 6,
        "start_time": "2022-07-04T20:55:11.854Z"
      },
      {
        "duration": 7,
        "start_time": "2022-07-04T20:55:11.861Z"
      },
      {
        "duration": 6,
        "start_time": "2022-07-04T20:55:11.870Z"
      },
      {
        "duration": 8,
        "start_time": "2022-07-04T20:55:11.877Z"
      },
      {
        "duration": 5,
        "start_time": "2022-07-04T20:55:11.887Z"
      },
      {
        "duration": 14,
        "start_time": "2022-07-04T20:55:11.942Z"
      },
      {
        "duration": 15,
        "start_time": "2022-07-04T20:55:11.957Z"
      },
      {
        "duration": 4,
        "start_time": "2022-07-04T20:56:28.760Z"
      },
      {
        "duration": 4,
        "start_time": "2022-07-04T20:57:28.296Z"
      },
      {
        "duration": 3,
        "start_time": "2022-07-04T20:58:02.536Z"
      },
      {
        "duration": 9,
        "start_time": "2022-07-04T20:58:05.028Z"
      },
      {
        "duration": 3,
        "start_time": "2022-07-04T20:58:11.724Z"
      },
      {
        "duration": 363,
        "start_time": "2022-07-04T20:58:11.729Z"
      },
      {
        "duration": 94,
        "start_time": "2022-07-04T20:58:12.094Z"
      },
      {
        "duration": 119,
        "start_time": "2022-07-04T20:58:12.190Z"
      },
      {
        "duration": 81,
        "start_time": "2022-07-04T20:58:12.311Z"
      },
      {
        "duration": 215,
        "start_time": "2022-07-04T20:58:12.394Z"
      },
      {
        "duration": 88,
        "start_time": "2022-07-04T20:58:12.611Z"
      },
      {
        "duration": 65,
        "start_time": "2022-07-04T20:58:12.700Z"
      },
      {
        "duration": 7,
        "start_time": "2022-07-04T20:58:12.766Z"
      },
      {
        "duration": 8,
        "start_time": "2022-07-04T20:58:12.775Z"
      },
      {
        "duration": 9,
        "start_time": "2022-07-04T20:58:12.786Z"
      },
      {
        "duration": 174,
        "start_time": "2022-07-04T20:58:12.797Z"
      },
      {
        "duration": 215,
        "start_time": "2022-07-04T20:58:12.972Z"
      },
      {
        "duration": 5,
        "start_time": "2022-07-04T20:58:13.188Z"
      },
      {
        "duration": 9,
        "start_time": "2022-07-04T20:58:13.194Z"
      },
      {
        "duration": 16,
        "start_time": "2022-07-04T20:58:13.204Z"
      },
      {
        "duration": 212,
        "start_time": "2022-07-04T20:58:13.221Z"
      },
      {
        "duration": 18,
        "start_time": "2022-07-04T20:58:13.434Z"
      },
      {
        "duration": 154,
        "start_time": "2022-07-04T20:58:13.454Z"
      },
      {
        "duration": 135,
        "start_time": "2022-07-04T20:58:13.610Z"
      },
      {
        "duration": 10,
        "start_time": "2022-07-04T20:58:13.747Z"
      },
      {
        "duration": 146,
        "start_time": "2022-07-04T20:58:13.759Z"
      },
      {
        "duration": 166,
        "start_time": "2022-07-04T20:58:13.906Z"
      },
      {
        "duration": 8,
        "start_time": "2022-07-04T20:58:14.073Z"
      },
      {
        "duration": 8,
        "start_time": "2022-07-04T20:58:14.083Z"
      },
      {
        "duration": 13,
        "start_time": "2022-07-04T20:58:14.093Z"
      },
      {
        "duration": 348,
        "start_time": "2022-07-04T20:58:14.107Z"
      },
      {
        "duration": 14,
        "start_time": "2022-07-04T20:58:14.457Z"
      },
      {
        "duration": 9,
        "start_time": "2022-07-04T20:58:14.476Z"
      },
      {
        "duration": 14,
        "start_time": "2022-07-04T20:58:14.486Z"
      },
      {
        "duration": 14,
        "start_time": "2022-07-04T20:58:14.502Z"
      },
      {
        "duration": 29,
        "start_time": "2022-07-04T20:58:14.518Z"
      },
      {
        "duration": 12,
        "start_time": "2022-07-04T20:58:14.549Z"
      },
      {
        "duration": 11,
        "start_time": "2022-07-04T20:58:14.563Z"
      },
      {
        "duration": 49,
        "start_time": "2022-07-04T20:58:14.576Z"
      },
      {
        "duration": 41,
        "start_time": "2022-07-04T20:58:14.627Z"
      },
      {
        "duration": 27,
        "start_time": "2022-07-04T20:58:14.669Z"
      },
      {
        "duration": 56,
        "start_time": "2022-07-04T20:58:14.697Z"
      },
      {
        "duration": 15,
        "start_time": "2022-07-04T20:58:14.754Z"
      },
      {
        "duration": 7,
        "start_time": "2022-07-04T20:58:14.771Z"
      },
      {
        "duration": 13,
        "start_time": "2022-07-04T20:58:14.779Z"
      },
      {
        "duration": 13,
        "start_time": "2022-07-04T20:58:14.793Z"
      },
      {
        "duration": 41,
        "start_time": "2022-07-04T20:58:14.808Z"
      },
      {
        "duration": 6,
        "start_time": "2022-07-04T20:58:14.851Z"
      },
      {
        "duration": 18,
        "start_time": "2022-07-04T20:58:14.859Z"
      },
      {
        "duration": 10,
        "start_time": "2022-07-04T20:58:14.878Z"
      },
      {
        "duration": 17,
        "start_time": "2022-07-04T20:58:14.889Z"
      },
      {
        "duration": 0,
        "start_time": "2022-07-04T20:58:14.907Z"
      },
      {
        "duration": 0,
        "start_time": "2022-07-04T20:58:14.908Z"
      },
      {
        "duration": 0,
        "start_time": "2022-07-04T20:58:14.909Z"
      },
      {
        "duration": 0,
        "start_time": "2022-07-04T20:58:14.942Z"
      },
      {
        "duration": 0,
        "start_time": "2022-07-04T20:58:14.943Z"
      },
      {
        "duration": 0,
        "start_time": "2022-07-04T20:58:14.944Z"
      },
      {
        "duration": 0,
        "start_time": "2022-07-04T20:58:14.945Z"
      },
      {
        "duration": 0,
        "start_time": "2022-07-04T20:58:14.946Z"
      },
      {
        "duration": 0,
        "start_time": "2022-07-04T20:58:14.948Z"
      },
      {
        "duration": 0,
        "start_time": "2022-07-04T20:58:14.949Z"
      },
      {
        "duration": 0,
        "start_time": "2022-07-04T20:58:14.950Z"
      },
      {
        "duration": 0,
        "start_time": "2022-07-04T20:58:14.951Z"
      },
      {
        "duration": 0,
        "start_time": "2022-07-04T20:58:14.952Z"
      },
      {
        "duration": 0,
        "start_time": "2022-07-04T20:58:14.953Z"
      },
      {
        "duration": 0,
        "start_time": "2022-07-04T20:58:14.954Z"
      },
      {
        "duration": 0,
        "start_time": "2022-07-04T20:58:14.955Z"
      },
      {
        "duration": 0,
        "start_time": "2022-07-04T20:58:14.956Z"
      },
      {
        "duration": 0,
        "start_time": "2022-07-04T20:58:14.957Z"
      },
      {
        "duration": 0,
        "start_time": "2022-07-04T20:58:14.958Z"
      },
      {
        "duration": 8,
        "start_time": "2022-07-04T20:58:26.244Z"
      },
      {
        "duration": 9,
        "start_time": "2022-07-04T20:58:41.964Z"
      },
      {
        "duration": 12,
        "start_time": "2022-07-04T20:58:47.764Z"
      },
      {
        "duration": 3,
        "start_time": "2022-07-04T20:58:48.863Z"
      },
      {
        "duration": 53,
        "start_time": "2022-07-04T21:00:11.468Z"
      },
      {
        "duration": 34,
        "start_time": "2022-07-04T21:02:54.647Z"
      },
      {
        "duration": 31,
        "start_time": "2022-07-04T21:03:00.228Z"
      },
      {
        "duration": 1431,
        "start_time": "2022-07-05T19:21:00.831Z"
      },
      {
        "duration": 941,
        "start_time": "2022-07-05T19:21:02.266Z"
      },
      {
        "duration": 119,
        "start_time": "2022-07-05T19:21:03.208Z"
      },
      {
        "duration": 113,
        "start_time": "2022-07-05T19:21:03.330Z"
      },
      {
        "duration": 119,
        "start_time": "2022-07-05T19:21:03.466Z"
      },
      {
        "duration": 495,
        "start_time": "2022-07-05T19:21:03.587Z"
      },
      {
        "duration": 194,
        "start_time": "2022-07-05T19:21:04.085Z"
      },
      {
        "duration": 108,
        "start_time": "2022-07-05T19:21:04.281Z"
      },
      {
        "duration": 6,
        "start_time": "2022-07-05T19:21:04.390Z"
      },
      {
        "duration": 8,
        "start_time": "2022-07-05T19:21:04.398Z"
      },
      {
        "duration": 62,
        "start_time": "2022-07-05T19:21:04.407Z"
      },
      {
        "duration": 512,
        "start_time": "2022-07-05T19:21:04.471Z"
      },
      {
        "duration": 580,
        "start_time": "2022-07-05T19:21:04.985Z"
      },
      {
        "duration": 7,
        "start_time": "2022-07-05T19:21:05.568Z"
      },
      {
        "duration": 17,
        "start_time": "2022-07-05T19:21:05.576Z"
      },
      {
        "duration": 18,
        "start_time": "2022-07-05T19:21:05.594Z"
      },
      {
        "duration": 242,
        "start_time": "2022-07-05T19:21:05.614Z"
      },
      {
        "duration": 24,
        "start_time": "2022-07-05T19:21:05.860Z"
      },
      {
        "duration": 160,
        "start_time": "2022-07-05T19:21:05.885Z"
      },
      {
        "duration": 181,
        "start_time": "2022-07-05T19:21:06.046Z"
      },
      {
        "duration": 16,
        "start_time": "2022-07-05T19:21:06.229Z"
      },
      {
        "duration": 240,
        "start_time": "2022-07-05T19:21:06.247Z"
      },
      {
        "duration": 250,
        "start_time": "2022-07-05T19:21:06.489Z"
      },
      {
        "duration": 12,
        "start_time": "2022-07-05T19:21:06.741Z"
      },
      {
        "duration": 24,
        "start_time": "2022-07-05T19:21:06.764Z"
      },
      {
        "duration": 19,
        "start_time": "2022-07-05T19:21:06.790Z"
      },
      {
        "duration": 358,
        "start_time": "2022-07-05T19:21:06.811Z"
      },
      {
        "duration": 14,
        "start_time": "2022-07-05T19:21:07.184Z"
      },
      {
        "duration": 10,
        "start_time": "2022-07-05T19:21:07.200Z"
      },
      {
        "duration": 12,
        "start_time": "2022-07-05T19:21:07.212Z"
      },
      {
        "duration": 17,
        "start_time": "2022-07-05T19:21:07.225Z"
      },
      {
        "duration": 15,
        "start_time": "2022-07-05T19:21:07.244Z"
      },
      {
        "duration": 132,
        "start_time": "2022-07-05T19:21:07.260Z"
      },
      {
        "duration": 45,
        "start_time": "2022-07-05T19:21:07.393Z"
      },
      {
        "duration": 51,
        "start_time": "2022-07-05T19:21:07.439Z"
      },
      {
        "duration": 39,
        "start_time": "2022-07-05T19:21:07.491Z"
      },
      {
        "duration": 56,
        "start_time": "2022-07-05T19:21:07.532Z"
      },
      {
        "duration": 15,
        "start_time": "2022-07-05T19:21:07.590Z"
      },
      {
        "duration": 6,
        "start_time": "2022-07-05T19:21:07.606Z"
      },
      {
        "duration": 12,
        "start_time": "2022-07-05T19:21:07.614Z"
      },
      {
        "duration": 33,
        "start_time": "2022-07-05T19:21:07.628Z"
      },
      {
        "duration": 19,
        "start_time": "2022-07-05T19:21:07.667Z"
      },
      {
        "duration": 6,
        "start_time": "2022-07-05T19:21:07.688Z"
      },
      {
        "duration": 20,
        "start_time": "2022-07-05T19:21:07.695Z"
      },
      {
        "duration": 10,
        "start_time": "2022-07-05T19:21:07.716Z"
      },
      {
        "duration": 7,
        "start_time": "2022-07-05T19:21:07.728Z"
      },
      {
        "duration": 39,
        "start_time": "2022-07-05T19:21:07.737Z"
      },
      {
        "duration": 11,
        "start_time": "2022-07-05T19:21:07.778Z"
      },
      {
        "duration": 4,
        "start_time": "2022-07-05T19:21:07.790Z"
      },
      {
        "duration": 6,
        "start_time": "2022-07-05T19:21:07.796Z"
      },
      {
        "duration": 10,
        "start_time": "2022-07-05T19:21:07.804Z"
      },
      {
        "duration": 13,
        "start_time": "2022-07-05T19:21:07.816Z"
      },
      {
        "duration": 154,
        "start_time": "2022-07-05T19:21:07.831Z"
      },
      {
        "duration": 11,
        "start_time": "2022-07-05T19:21:07.987Z"
      },
      {
        "duration": 33,
        "start_time": "2022-07-05T19:21:08.000Z"
      },
      {
        "duration": 490,
        "start_time": "2022-07-05T19:21:08.035Z"
      },
      {
        "duration": 133,
        "start_time": "2022-07-05T19:21:08.527Z"
      },
      {
        "duration": 118,
        "start_time": "2022-07-05T19:21:08.669Z"
      },
      {
        "duration": 6,
        "start_time": "2022-07-05T19:21:08.789Z"
      },
      {
        "duration": 8,
        "start_time": "2022-07-05T19:21:08.796Z"
      },
      {
        "duration": 10,
        "start_time": "2022-07-05T19:21:08.806Z"
      },
      {
        "duration": 12,
        "start_time": "2022-07-05T19:21:08.818Z"
      },
      {
        "duration": 8,
        "start_time": "2022-07-05T19:21:08.832Z"
      },
      {
        "duration": 42,
        "start_time": "2022-07-05T19:21:08.842Z"
      },
      {
        "duration": 20,
        "start_time": "2022-07-05T19:21:08.886Z"
      },
      {
        "duration": 48,
        "start_time": "2022-07-06T10:29:48.852Z"
      },
      {
        "duration": 1682,
        "start_time": "2022-07-06T10:30:36.660Z"
      },
      {
        "duration": 1358,
        "start_time": "2022-07-06T10:30:38.344Z"
      },
      {
        "duration": 339,
        "start_time": "2022-07-06T10:30:39.704Z"
      },
      {
        "duration": 291,
        "start_time": "2022-07-06T10:30:40.045Z"
      },
      {
        "duration": 195,
        "start_time": "2022-07-06T10:30:40.338Z"
      },
      {
        "duration": 534,
        "start_time": "2022-07-06T10:30:40.535Z"
      },
      {
        "duration": 257,
        "start_time": "2022-07-06T10:30:41.071Z"
      },
      {
        "duration": 112,
        "start_time": "2022-07-06T10:30:41.330Z"
      },
      {
        "duration": 12,
        "start_time": "2022-07-06T10:30:41.446Z"
      },
      {
        "duration": 27,
        "start_time": "2022-07-06T10:30:41.461Z"
      },
      {
        "duration": 53,
        "start_time": "2022-07-06T10:30:41.529Z"
      },
      {
        "duration": 280,
        "start_time": "2022-07-06T10:30:41.584Z"
      },
      {
        "duration": 311,
        "start_time": "2022-07-06T10:30:41.865Z"
      },
      {
        "duration": 6,
        "start_time": "2022-07-06T10:30:42.180Z"
      },
      {
        "duration": 13,
        "start_time": "2022-07-06T10:30:42.188Z"
      },
      {
        "duration": 39,
        "start_time": "2022-07-06T10:30:42.205Z"
      },
      {
        "duration": 260,
        "start_time": "2022-07-06T10:30:42.245Z"
      },
      {
        "duration": 38,
        "start_time": "2022-07-06T10:30:42.507Z"
      },
      {
        "duration": 188,
        "start_time": "2022-07-06T10:30:42.551Z"
      },
      {
        "duration": 221,
        "start_time": "2022-07-06T10:30:42.742Z"
      },
      {
        "duration": 14,
        "start_time": "2022-07-06T10:30:42.971Z"
      },
      {
        "duration": 193,
        "start_time": "2022-07-06T10:30:42.988Z"
      },
      {
        "duration": 288,
        "start_time": "2022-07-06T10:30:43.184Z"
      },
      {
        "duration": 11,
        "start_time": "2022-07-06T10:30:43.474Z"
      },
      {
        "duration": 8,
        "start_time": "2022-07-06T10:30:43.488Z"
      },
      {
        "duration": 49,
        "start_time": "2022-07-06T10:30:43.498Z"
      },
      {
        "duration": 428,
        "start_time": "2022-07-06T10:30:43.555Z"
      },
      {
        "duration": 20,
        "start_time": "2022-07-06T10:30:43.985Z"
      },
      {
        "duration": 30,
        "start_time": "2022-07-06T10:30:44.008Z"
      },
      {
        "duration": 29,
        "start_time": "2022-07-06T10:30:44.040Z"
      },
      {
        "duration": 13,
        "start_time": "2022-07-06T10:30:44.071Z"
      },
      {
        "duration": 5,
        "start_time": "2022-07-06T10:30:44.086Z"
      },
      {
        "duration": 18,
        "start_time": "2022-07-06T10:30:44.093Z"
      },
      {
        "duration": 172,
        "start_time": "2022-07-06T10:30:44.113Z"
      },
      {
        "duration": 62,
        "start_time": "2022-07-06T10:30:44.287Z"
      },
      {
        "duration": 39,
        "start_time": "2022-07-06T10:30:44.352Z"
      },
      {
        "duration": 66,
        "start_time": "2022-07-06T10:30:44.393Z"
      },
      {
        "duration": 25,
        "start_time": "2022-07-06T10:30:44.461Z"
      },
      {
        "duration": 8,
        "start_time": "2022-07-06T10:30:44.489Z"
      },
      {
        "duration": 32,
        "start_time": "2022-07-06T10:30:44.499Z"
      },
      {
        "duration": 18,
        "start_time": "2022-07-06T10:30:44.543Z"
      },
      {
        "duration": 16,
        "start_time": "2022-07-06T10:30:44.564Z"
      },
      {
        "duration": 8,
        "start_time": "2022-07-06T10:30:44.583Z"
      },
      {
        "duration": 18,
        "start_time": "2022-07-06T10:30:44.593Z"
      },
      {
        "duration": 15,
        "start_time": "2022-07-06T10:30:44.624Z"
      },
      {
        "duration": 34,
        "start_time": "2022-07-06T10:30:44.641Z"
      },
      {
        "duration": 31,
        "start_time": "2022-07-06T10:30:44.677Z"
      },
      {
        "duration": 25,
        "start_time": "2022-07-06T10:30:44.710Z"
      },
      {
        "duration": 34,
        "start_time": "2022-07-06T10:30:44.737Z"
      },
      {
        "duration": 10,
        "start_time": "2022-07-06T10:30:44.773Z"
      },
      {
        "duration": 8,
        "start_time": "2022-07-06T10:30:44.784Z"
      },
      {
        "duration": 15,
        "start_time": "2022-07-06T10:30:44.794Z"
      },
      {
        "duration": 206,
        "start_time": "2022-07-06T10:30:44.810Z"
      },
      {
        "duration": 34,
        "start_time": "2022-07-06T10:30:45.018Z"
      },
      {
        "duration": 59,
        "start_time": "2022-07-06T10:30:45.054Z"
      },
      {
        "duration": 574,
        "start_time": "2022-07-06T10:30:45.115Z"
      },
      {
        "duration": 87,
        "start_time": "2022-07-06T10:30:45.690Z"
      },
      {
        "duration": 73,
        "start_time": "2022-07-06T10:30:45.824Z"
      },
      {
        "duration": 6,
        "start_time": "2022-07-06T10:30:45.899Z"
      },
      {
        "duration": 6,
        "start_time": "2022-07-06T10:30:45.933Z"
      },
      {
        "duration": 33,
        "start_time": "2022-07-06T10:30:45.941Z"
      },
      {
        "duration": 23,
        "start_time": "2022-07-06T10:30:45.976Z"
      },
      {
        "duration": 17,
        "start_time": "2022-07-06T10:30:46.002Z"
      },
      {
        "duration": 49,
        "start_time": "2022-07-06T10:30:46.021Z"
      },
      {
        "duration": 9,
        "start_time": "2022-07-06T10:30:46.072Z"
      },
      {
        "duration": 32,
        "start_time": "2022-07-06T10:38:20.105Z"
      },
      {
        "duration": 12,
        "start_time": "2022-07-06T10:38:52.809Z"
      },
      {
        "duration": 8,
        "start_time": "2022-07-06T10:38:53.773Z"
      },
      {
        "duration": 15,
        "start_time": "2022-07-06T10:38:57.261Z"
      },
      {
        "duration": 23,
        "start_time": "2022-07-06T10:39:09.809Z"
      },
      {
        "duration": 46,
        "start_time": "2022-07-06T10:39:13.999Z"
      },
      {
        "duration": 22,
        "start_time": "2022-07-06T10:39:22.193Z"
      },
      {
        "duration": 14,
        "start_time": "2022-07-06T10:39:52.493Z"
      },
      {
        "duration": 4,
        "start_time": "2022-07-06T10:40:37.685Z"
      },
      {
        "duration": 570,
        "start_time": "2022-07-06T10:40:37.691Z"
      },
      {
        "duration": 157,
        "start_time": "2022-07-06T10:40:38.265Z"
      },
      {
        "duration": 151,
        "start_time": "2022-07-06T10:40:38.424Z"
      },
      {
        "duration": 99,
        "start_time": "2022-07-06T10:40:38.577Z"
      },
      {
        "duration": 303,
        "start_time": "2022-07-06T10:40:38.682Z"
      },
      {
        "duration": 117,
        "start_time": "2022-07-06T10:40:38.988Z"
      },
      {
        "duration": 70,
        "start_time": "2022-07-06T10:40:39.108Z"
      },
      {
        "duration": 10,
        "start_time": "2022-07-06T10:40:39.181Z"
      },
      {
        "duration": 42,
        "start_time": "2022-07-06T10:40:39.194Z"
      },
      {
        "duration": 61,
        "start_time": "2022-07-06T10:40:39.241Z"
      },
      {
        "duration": 288,
        "start_time": "2022-07-06T10:40:39.304Z"
      },
      {
        "duration": 366,
        "start_time": "2022-07-06T10:40:39.594Z"
      },
      {
        "duration": 7,
        "start_time": "2022-07-06T10:40:39.963Z"
      },
      {
        "duration": 65,
        "start_time": "2022-07-06T10:40:39.972Z"
      },
      {
        "duration": 54,
        "start_time": "2022-07-06T10:40:40.039Z"
      },
      {
        "duration": 635,
        "start_time": "2022-07-06T10:40:40.095Z"
      },
      {
        "duration": 16,
        "start_time": "2022-07-06T10:40:40.732Z"
      },
      {
        "duration": 413,
        "start_time": "2022-07-06T10:40:40.750Z"
      },
      {
        "duration": 565,
        "start_time": "2022-07-06T10:40:41.165Z"
      },
      {
        "duration": 17,
        "start_time": "2022-07-06T10:40:41.732Z"
      },
      {
        "duration": 495,
        "start_time": "2022-07-06T10:40:41.754Z"
      },
      {
        "duration": 215,
        "start_time": "2022-07-06T10:40:42.252Z"
      },
      {
        "duration": 10,
        "start_time": "2022-07-06T10:40:42.469Z"
      },
      {
        "duration": 10,
        "start_time": "2022-07-06T10:40:42.481Z"
      },
      {
        "duration": 38,
        "start_time": "2022-07-06T10:40:42.493Z"
      },
      {
        "duration": 398,
        "start_time": "2022-07-06T10:40:42.540Z"
      },
      {
        "duration": 15,
        "start_time": "2022-07-06T10:40:42.940Z"
      },
      {
        "duration": 20,
        "start_time": "2022-07-06T10:40:42.961Z"
      },
      {
        "duration": 7,
        "start_time": "2022-07-06T10:40:42.983Z"
      },
      {
        "duration": 13,
        "start_time": "2022-07-06T10:40:42.992Z"
      },
      {
        "duration": 21,
        "start_time": "2022-07-06T10:40:43.006Z"
      },
      {
        "duration": 41,
        "start_time": "2022-07-06T10:40:43.029Z"
      },
      {
        "duration": 45,
        "start_time": "2022-07-06T10:40:43.072Z"
      },
      {
        "duration": 44,
        "start_time": "2022-07-06T10:40:43.120Z"
      },
      {
        "duration": 32,
        "start_time": "2022-07-06T10:40:43.166Z"
      },
      {
        "duration": 51,
        "start_time": "2022-07-06T10:40:43.209Z"
      },
      {
        "duration": 22,
        "start_time": "2022-07-06T10:40:43.262Z"
      },
      {
        "duration": 61,
        "start_time": "2022-07-06T10:40:43.286Z"
      },
      {
        "duration": 22,
        "start_time": "2022-07-06T10:40:43.350Z"
      },
      {
        "duration": 18,
        "start_time": "2022-07-06T10:40:43.373Z"
      },
      {
        "duration": 12,
        "start_time": "2022-07-06T10:40:43.393Z"
      },
      {
        "duration": 26,
        "start_time": "2022-07-06T10:40:43.407Z"
      },
      {
        "duration": 39,
        "start_time": "2022-07-06T10:40:43.439Z"
      },
      {
        "duration": 18,
        "start_time": "2022-07-06T10:40:43.481Z"
      },
      {
        "duration": 6,
        "start_time": "2022-07-06T10:40:43.501Z"
      },
      {
        "duration": 25,
        "start_time": "2022-07-06T10:40:43.509Z"
      },
      {
        "duration": 33,
        "start_time": "2022-07-06T10:40:43.536Z"
      },
      {
        "duration": 19,
        "start_time": "2022-07-06T10:40:43.570Z"
      },
      {
        "duration": 172,
        "start_time": "2022-07-06T10:40:43.592Z"
      },
      {
        "duration": 12,
        "start_time": "2022-07-06T10:40:43.766Z"
      },
      {
        "duration": 57,
        "start_time": "2022-07-06T10:40:43.780Z"
      },
      {
        "duration": 65,
        "start_time": "2022-07-06T10:40:43.839Z"
      },
      {
        "duration": 78,
        "start_time": "2022-07-06T10:40:43.906Z"
      },
      {
        "duration": 83,
        "start_time": "2022-07-06T10:40:43.986Z"
      },
      {
        "duration": 7,
        "start_time": "2022-07-06T10:40:44.071Z"
      },
      {
        "duration": 7,
        "start_time": "2022-07-06T10:40:44.080Z"
      },
      {
        "duration": 8,
        "start_time": "2022-07-06T10:40:44.089Z"
      },
      {
        "duration": 11,
        "start_time": "2022-07-06T10:40:44.134Z"
      },
      {
        "duration": 16,
        "start_time": "2022-07-06T10:40:44.146Z"
      },
      {
        "duration": 10,
        "start_time": "2022-07-06T10:40:44.164Z"
      },
      {
        "duration": 13,
        "start_time": "2022-07-06T10:40:44.176Z"
      },
      {
        "duration": 30,
        "start_time": "2022-07-06T10:50:12.311Z"
      },
      {
        "duration": 22,
        "start_time": "2022-07-06T10:50:17.971Z"
      },
      {
        "duration": 33,
        "start_time": "2022-07-06T10:50:39.707Z"
      },
      {
        "duration": 27,
        "start_time": "2022-07-06T10:51:21.715Z"
      },
      {
        "duration": 5,
        "start_time": "2022-07-06T10:51:55.057Z"
      },
      {
        "duration": 7,
        "start_time": "2022-07-06T10:51:56.064Z"
      },
      {
        "duration": 4,
        "start_time": "2022-07-06T10:51:56.699Z"
      },
      {
        "duration": 21,
        "start_time": "2022-07-06T10:51:57.881Z"
      },
      {
        "duration": 4,
        "start_time": "2022-07-06T10:52:04.985Z"
      },
      {
        "duration": 530,
        "start_time": "2022-07-06T10:52:04.992Z"
      },
      {
        "duration": 170,
        "start_time": "2022-07-06T10:52:05.527Z"
      },
      {
        "duration": 152,
        "start_time": "2022-07-06T10:52:05.700Z"
      },
      {
        "duration": 128,
        "start_time": "2022-07-06T10:52:05.854Z"
      },
      {
        "duration": 357,
        "start_time": "2022-07-06T10:52:05.984Z"
      },
      {
        "duration": 102,
        "start_time": "2022-07-06T10:52:06.355Z"
      },
      {
        "duration": 72,
        "start_time": "2022-07-06T10:52:06.460Z"
      },
      {
        "duration": 13,
        "start_time": "2022-07-06T10:52:06.536Z"
      },
      {
        "duration": 31,
        "start_time": "2022-07-06T10:52:06.551Z"
      },
      {
        "duration": 14,
        "start_time": "2022-07-06T10:52:06.586Z"
      },
      {
        "duration": 200,
        "start_time": "2022-07-06T10:52:06.602Z"
      },
      {
        "duration": 326,
        "start_time": "2022-07-06T10:52:06.804Z"
      },
      {
        "duration": 18,
        "start_time": "2022-07-06T10:52:07.131Z"
      },
      {
        "duration": 19,
        "start_time": "2022-07-06T10:52:07.152Z"
      },
      {
        "duration": 16,
        "start_time": "2022-07-06T10:52:07.173Z"
      },
      {
        "duration": 273,
        "start_time": "2022-07-06T10:52:07.191Z"
      },
      {
        "duration": 16,
        "start_time": "2022-07-06T10:52:07.466Z"
      },
      {
        "duration": 228,
        "start_time": "2022-07-06T10:52:07.484Z"
      },
      {
        "duration": 227,
        "start_time": "2022-07-06T10:52:07.714Z"
      },
      {
        "duration": 23,
        "start_time": "2022-07-06T10:52:07.947Z"
      },
      {
        "duration": 202,
        "start_time": "2022-07-06T10:52:07.975Z"
      },
      {
        "duration": 257,
        "start_time": "2022-07-06T10:52:08.179Z"
      },
      {
        "duration": 25,
        "start_time": "2022-07-06T10:52:08.439Z"
      },
      {
        "duration": 18,
        "start_time": "2022-07-06T10:52:08.468Z"
      },
      {
        "duration": 26,
        "start_time": "2022-07-06T10:52:08.488Z"
      },
      {
        "duration": 665,
        "start_time": "2022-07-06T10:52:08.517Z"
      },
      {
        "duration": 18,
        "start_time": "2022-07-06T10:52:09.185Z"
      },
      {
        "duration": 25,
        "start_time": "2022-07-06T10:52:09.207Z"
      },
      {
        "duration": 56,
        "start_time": "2022-07-06T10:52:09.234Z"
      },
      {
        "duration": 23,
        "start_time": "2022-07-06T10:52:09.293Z"
      },
      {
        "duration": 69,
        "start_time": "2022-07-06T10:52:09.319Z"
      },
      {
        "duration": 29,
        "start_time": "2022-07-06T10:52:09.391Z"
      },
      {
        "duration": 76,
        "start_time": "2022-07-06T10:52:09.427Z"
      },
      {
        "duration": 77,
        "start_time": "2022-07-06T10:52:09.506Z"
      },
      {
        "duration": 73,
        "start_time": "2022-07-06T10:52:09.585Z"
      },
      {
        "duration": 79,
        "start_time": "2022-07-06T10:52:09.661Z"
      },
      {
        "duration": 36,
        "start_time": "2022-07-06T10:52:09.746Z"
      },
      {
        "duration": 28,
        "start_time": "2022-07-06T10:52:09.784Z"
      },
      {
        "duration": 37,
        "start_time": "2022-07-06T10:52:09.814Z"
      },
      {
        "duration": 34,
        "start_time": "2022-07-06T10:52:09.853Z"
      },
      {
        "duration": 14,
        "start_time": "2022-07-06T10:52:09.890Z"
      },
      {
        "duration": 24,
        "start_time": "2022-07-06T10:52:09.906Z"
      },
      {
        "duration": 51,
        "start_time": "2022-07-06T10:52:09.935Z"
      },
      {
        "duration": 20,
        "start_time": "2022-07-06T10:52:09.989Z"
      },
      {
        "duration": 15,
        "start_time": "2022-07-06T10:52:15.667Z"
      },
      {
        "duration": 6,
        "start_time": "2022-07-06T10:52:15.685Z"
      },
      {
        "duration": 7,
        "start_time": "2022-07-06T10:52:15.694Z"
      },
      {
        "duration": 8,
        "start_time": "2022-07-06T10:52:15.703Z"
      },
      {
        "duration": 37,
        "start_time": "2022-07-06T10:52:15.714Z"
      },
      {
        "duration": 160,
        "start_time": "2022-07-06T10:52:15.758Z"
      },
      {
        "duration": 22,
        "start_time": "2022-07-06T10:52:15.928Z"
      },
      {
        "duration": 54,
        "start_time": "2022-07-06T10:52:15.952Z"
      },
      {
        "duration": 90,
        "start_time": "2022-07-06T10:52:16.008Z"
      },
      {
        "duration": 86,
        "start_time": "2022-07-06T10:52:16.099Z"
      },
      {
        "duration": 84,
        "start_time": "2022-07-06T10:52:16.187Z"
      },
      {
        "duration": 7,
        "start_time": "2022-07-06T10:52:16.274Z"
      },
      {
        "duration": 13,
        "start_time": "2022-07-06T10:52:16.283Z"
      },
      {
        "duration": 39,
        "start_time": "2022-07-06T10:52:16.300Z"
      },
      {
        "duration": 28,
        "start_time": "2022-07-06T10:52:16.345Z"
      },
      {
        "duration": 12,
        "start_time": "2022-07-06T10:52:16.375Z"
      },
      {
        "duration": 16,
        "start_time": "2022-07-06T10:52:16.389Z"
      },
      {
        "duration": 8,
        "start_time": "2022-07-06T10:52:16.407Z"
      },
      {
        "duration": 22,
        "start_time": "2022-07-06T10:53:36.259Z"
      },
      {
        "duration": 19,
        "start_time": "2022-07-06T10:54:19.177Z"
      },
      {
        "duration": 21,
        "start_time": "2022-07-06T10:54:29.899Z"
      },
      {
        "duration": 61,
        "start_time": "2022-07-06T10:54:29.923Z"
      },
      {
        "duration": 34,
        "start_time": "2022-07-06T10:54:29.986Z"
      },
      {
        "duration": 35,
        "start_time": "2022-07-06T10:54:30.023Z"
      },
      {
        "duration": 21,
        "start_time": "2022-07-06T10:54:30.060Z"
      },
      {
        "duration": 15,
        "start_time": "2022-07-06T10:54:30.087Z"
      },
      {
        "duration": 34,
        "start_time": "2022-07-06T10:54:30.104Z"
      },
      {
        "duration": 114,
        "start_time": "2022-07-06T10:54:30.140Z"
      },
      {
        "duration": 1654,
        "start_time": "2022-07-06T10:54:30.257Z"
      },
      {
        "duration": 0,
        "start_time": "2022-07-06T10:54:31.914Z"
      },
      {
        "duration": 0,
        "start_time": "2022-07-06T10:54:31.916Z"
      },
      {
        "duration": 0,
        "start_time": "2022-07-06T10:54:31.918Z"
      },
      {
        "duration": 0,
        "start_time": "2022-07-06T10:54:31.919Z"
      },
      {
        "duration": 0,
        "start_time": "2022-07-06T10:54:31.921Z"
      },
      {
        "duration": 0,
        "start_time": "2022-07-06T10:54:31.926Z"
      },
      {
        "duration": 0,
        "start_time": "2022-07-06T10:54:31.932Z"
      },
      {
        "duration": 0,
        "start_time": "2022-07-06T10:54:31.934Z"
      },
      {
        "duration": 0,
        "start_time": "2022-07-06T10:54:31.936Z"
      },
      {
        "duration": 0,
        "start_time": "2022-07-06T10:54:31.940Z"
      },
      {
        "duration": 0,
        "start_time": "2022-07-06T10:54:31.941Z"
      },
      {
        "duration": 0,
        "start_time": "2022-07-06T10:54:31.944Z"
      },
      {
        "duration": 4,
        "start_time": "2022-07-06T10:54:46.570Z"
      },
      {
        "duration": 589,
        "start_time": "2022-07-06T10:54:46.577Z"
      },
      {
        "duration": 166,
        "start_time": "2022-07-06T10:54:47.169Z"
      },
      {
        "duration": 161,
        "start_time": "2022-07-06T10:54:47.340Z"
      },
      {
        "duration": 93,
        "start_time": "2022-07-06T10:54:47.505Z"
      },
      {
        "duration": 300,
        "start_time": "2022-07-06T10:54:47.601Z"
      },
      {
        "duration": 92,
        "start_time": "2022-07-06T10:54:47.904Z"
      },
      {
        "duration": 79,
        "start_time": "2022-07-06T10:54:47.998Z"
      },
      {
        "duration": 9,
        "start_time": "2022-07-06T10:54:48.080Z"
      },
      {
        "duration": 26,
        "start_time": "2022-07-06T10:54:48.091Z"
      },
      {
        "duration": 46,
        "start_time": "2022-07-06T10:54:48.120Z"
      },
      {
        "duration": 265,
        "start_time": "2022-07-06T10:54:48.168Z"
      },
      {
        "duration": 404,
        "start_time": "2022-07-06T10:54:48.438Z"
      },
      {
        "duration": 6,
        "start_time": "2022-07-06T10:54:48.847Z"
      },
      {
        "duration": 47,
        "start_time": "2022-07-06T10:54:48.855Z"
      },
      {
        "duration": 28,
        "start_time": "2022-07-06T10:54:48.904Z"
      },
      {
        "duration": 367,
        "start_time": "2022-07-06T10:54:48.934Z"
      },
      {
        "duration": 29,
        "start_time": "2022-07-06T10:54:49.304Z"
      },
      {
        "duration": 362,
        "start_time": "2022-07-06T10:54:49.338Z"
      },
      {
        "duration": 241,
        "start_time": "2022-07-06T10:54:49.702Z"
      },
      {
        "duration": 19,
        "start_time": "2022-07-06T10:54:49.956Z"
      },
      {
        "duration": 268,
        "start_time": "2022-07-06T10:54:49.978Z"
      },
      {
        "duration": 249,
        "start_time": "2022-07-06T10:54:50.252Z"
      },
      {
        "duration": 27,
        "start_time": "2022-07-06T10:54:50.503Z"
      },
      {
        "duration": 31,
        "start_time": "2022-07-06T10:54:50.536Z"
      },
      {
        "duration": 29,
        "start_time": "2022-07-06T10:54:50.569Z"
      },
      {
        "duration": 450,
        "start_time": "2022-07-06T10:54:50.601Z"
      },
      {
        "duration": 19,
        "start_time": "2022-07-06T10:54:51.061Z"
      },
      {
        "duration": 22,
        "start_time": "2022-07-06T10:54:51.082Z"
      },
      {
        "duration": 34,
        "start_time": "2022-07-06T10:54:51.106Z"
      },
      {
        "duration": 35,
        "start_time": "2022-07-06T10:54:51.149Z"
      },
      {
        "duration": 16,
        "start_time": "2022-07-06T10:54:51.186Z"
      },
      {
        "duration": 27,
        "start_time": "2022-07-06T10:54:51.204Z"
      },
      {
        "duration": 106,
        "start_time": "2022-07-06T10:54:51.237Z"
      },
      {
        "duration": 74,
        "start_time": "2022-07-06T10:54:51.346Z"
      },
      {
        "duration": 52,
        "start_time": "2022-07-06T10:54:51.421Z"
      },
      {
        "duration": 76,
        "start_time": "2022-07-06T10:54:51.475Z"
      },
      {
        "duration": 26,
        "start_time": "2022-07-06T10:54:51.556Z"
      },
      {
        "duration": 22,
        "start_time": "2022-07-06T10:54:51.585Z"
      },
      {
        "duration": 33,
        "start_time": "2022-07-06T10:54:51.610Z"
      },
      {
        "duration": 55,
        "start_time": "2022-07-06T10:54:51.655Z"
      },
      {
        "duration": 24,
        "start_time": "2022-07-06T10:54:51.712Z"
      },
      {
        "duration": 44,
        "start_time": "2022-07-06T10:54:51.738Z"
      },
      {
        "duration": 33,
        "start_time": "2022-07-06T10:54:51.784Z"
      },
      {
        "duration": 65,
        "start_time": "2022-07-06T10:54:51.819Z"
      },
      {
        "duration": 6,
        "start_time": "2022-07-06T10:54:51.887Z"
      },
      {
        "duration": 26,
        "start_time": "2022-07-06T10:54:51.895Z"
      },
      {
        "duration": 46,
        "start_time": "2022-07-06T10:54:51.923Z"
      },
      {
        "duration": 20,
        "start_time": "2022-07-06T10:54:51.972Z"
      },
      {
        "duration": 226,
        "start_time": "2022-07-06T10:54:51.995Z"
      },
      {
        "duration": 19,
        "start_time": "2022-07-06T10:54:52.224Z"
      },
      {
        "duration": 86,
        "start_time": "2022-07-06T10:54:52.247Z"
      },
      {
        "duration": 110,
        "start_time": "2022-07-06T10:54:52.335Z"
      },
      {
        "duration": 93,
        "start_time": "2022-07-06T10:54:52.447Z"
      },
      {
        "duration": 76,
        "start_time": "2022-07-06T10:54:52.543Z"
      },
      {
        "duration": 19,
        "start_time": "2022-07-06T10:54:52.621Z"
      },
      {
        "duration": 34,
        "start_time": "2022-07-06T10:54:52.644Z"
      },
      {
        "duration": 18,
        "start_time": "2022-07-06T10:54:52.681Z"
      },
      {
        "duration": 18,
        "start_time": "2022-07-06T10:54:52.701Z"
      },
      {
        "duration": 54,
        "start_time": "2022-07-06T10:54:52.721Z"
      },
      {
        "duration": 16,
        "start_time": "2022-07-06T10:54:52.777Z"
      },
      {
        "duration": 14,
        "start_time": "2022-07-06T10:54:52.796Z"
      },
      {
        "duration": 248,
        "start_time": "2022-07-06T10:59:18.124Z"
      },
      {
        "duration": 16,
        "start_time": "2022-07-06T11:06:35.662Z"
      },
      {
        "duration": 30,
        "start_time": "2022-07-06T11:06:37.566Z"
      },
      {
        "duration": 12,
        "start_time": "2022-07-06T11:06:38.275Z"
      },
      {
        "duration": 14,
        "start_time": "2022-07-06T11:06:49.062Z"
      },
      {
        "duration": 36,
        "start_time": "2022-07-06T11:06:49.574Z"
      },
      {
        "duration": 18,
        "start_time": "2022-07-06T11:06:53.852Z"
      },
      {
        "duration": 5,
        "start_time": "2022-07-06T11:07:23.976Z"
      },
      {
        "duration": 6,
        "start_time": "2022-07-06T11:07:25.515Z"
      },
      {
        "duration": 7,
        "start_time": "2022-07-06T11:07:26.279Z"
      },
      {
        "duration": 6,
        "start_time": "2022-07-06T11:07:26.973Z"
      },
      {
        "duration": 28,
        "start_time": "2022-07-06T11:07:27.464Z"
      },
      {
        "duration": 247,
        "start_time": "2022-07-06T11:08:39.464Z"
      },
      {
        "duration": 154,
        "start_time": "2022-07-06T11:09:03.615Z"
      },
      {
        "duration": 1187,
        "start_time": "2022-07-06T11:10:23.457Z"
      },
      {
        "duration": 184,
        "start_time": "2022-07-06T11:10:34.172Z"
      },
      {
        "duration": 190,
        "start_time": "2022-07-06T11:10:46.013Z"
      },
      {
        "duration": 167,
        "start_time": "2022-07-06T11:11:07.892Z"
      },
      {
        "duration": 161,
        "start_time": "2022-07-06T11:11:13.621Z"
      },
      {
        "duration": 21,
        "start_time": "2022-07-06T11:13:34.491Z"
      },
      {
        "duration": 20,
        "start_time": "2022-07-06T11:13:47.266Z"
      },
      {
        "duration": 55,
        "start_time": "2022-07-06T11:13:56.877Z"
      },
      {
        "duration": 12,
        "start_time": "2022-07-06T15:18:29.914Z"
      },
      {
        "duration": 3,
        "start_time": "2022-07-06T15:18:35.227Z"
      },
      {
        "duration": 413,
        "start_time": "2022-07-06T15:18:35.232Z"
      },
      {
        "duration": 119,
        "start_time": "2022-07-06T15:18:35.648Z"
      },
      {
        "duration": 117,
        "start_time": "2022-07-06T15:18:35.769Z"
      },
      {
        "duration": 75,
        "start_time": "2022-07-06T15:18:35.888Z"
      },
      {
        "duration": 248,
        "start_time": "2022-07-06T15:18:35.964Z"
      },
      {
        "duration": 73,
        "start_time": "2022-07-06T15:18:36.224Z"
      },
      {
        "duration": 69,
        "start_time": "2022-07-06T15:18:36.299Z"
      },
      {
        "duration": 7,
        "start_time": "2022-07-06T15:18:36.370Z"
      },
      {
        "duration": 19,
        "start_time": "2022-07-06T15:18:36.378Z"
      },
      {
        "duration": 45,
        "start_time": "2022-07-06T15:18:36.400Z"
      },
      {
        "duration": 200,
        "start_time": "2022-07-06T15:18:36.447Z"
      },
      {
        "duration": 255,
        "start_time": "2022-07-06T15:18:36.649Z"
      },
      {
        "duration": 5,
        "start_time": "2022-07-06T15:18:36.906Z"
      },
      {
        "duration": 26,
        "start_time": "2022-07-06T15:18:36.924Z"
      },
      {
        "duration": 33,
        "start_time": "2022-07-06T15:18:36.952Z"
      },
      {
        "duration": 370,
        "start_time": "2022-07-06T15:18:36.986Z"
      },
      {
        "duration": 16,
        "start_time": "2022-07-06T15:18:37.358Z"
      },
      {
        "duration": 199,
        "start_time": "2022-07-06T15:18:37.377Z"
      },
      {
        "duration": 163,
        "start_time": "2022-07-06T15:18:37.579Z"
      },
      {
        "duration": 13,
        "start_time": "2022-07-06T15:18:37.744Z"
      },
      {
        "duration": 195,
        "start_time": "2022-07-06T15:18:37.759Z"
      },
      {
        "duration": 192,
        "start_time": "2022-07-06T15:18:37.956Z"
      },
      {
        "duration": 9,
        "start_time": "2022-07-06T15:18:38.150Z"
      },
      {
        "duration": 9,
        "start_time": "2022-07-06T15:18:38.161Z"
      },
      {
        "duration": 23,
        "start_time": "2022-07-06T15:18:38.172Z"
      },
      {
        "duration": 373,
        "start_time": "2022-07-06T15:18:38.197Z"
      },
      {
        "duration": 14,
        "start_time": "2022-07-06T15:18:38.572Z"
      },
      {
        "duration": 8,
        "start_time": "2022-07-06T15:18:38.590Z"
      },
      {
        "duration": 25,
        "start_time": "2022-07-06T15:18:38.600Z"
      },
      {
        "duration": 14,
        "start_time": "2022-07-06T15:18:38.627Z"
      },
      {
        "duration": 4,
        "start_time": "2022-07-06T15:18:38.643Z"
      },
      {
        "duration": 12,
        "start_time": "2022-07-06T15:18:38.649Z"
      },
      {
        "duration": 65,
        "start_time": "2022-07-06T15:18:38.663Z"
      },
      {
        "duration": 46,
        "start_time": "2022-07-06T15:18:38.730Z"
      },
      {
        "duration": 52,
        "start_time": "2022-07-06T15:18:38.778Z"
      },
      {
        "duration": 39,
        "start_time": "2022-07-06T15:18:38.832Z"
      },
      {
        "duration": 23,
        "start_time": "2022-07-06T15:18:38.873Z"
      },
      {
        "duration": 48,
        "start_time": "2022-07-06T15:18:38.898Z"
      },
      {
        "duration": 50,
        "start_time": "2022-07-06T15:18:38.948Z"
      },
      {
        "duration": 24,
        "start_time": "2022-07-06T15:18:39.001Z"
      },
      {
        "duration": 15,
        "start_time": "2022-07-06T15:18:39.027Z"
      },
      {
        "duration": 24,
        "start_time": "2022-07-06T15:18:39.044Z"
      },
      {
        "duration": 46,
        "start_time": "2022-07-06T15:18:39.069Z"
      },
      {
        "duration": 18,
        "start_time": "2022-07-06T15:18:39.117Z"
      },
      {
        "duration": 13,
        "start_time": "2022-07-06T15:18:39.137Z"
      },
      {
        "duration": 28,
        "start_time": "2022-07-06T15:18:39.152Z"
      },
      {
        "duration": 16,
        "start_time": "2022-07-06T15:18:39.183Z"
      },
      {
        "duration": 33,
        "start_time": "2022-07-06T15:18:39.201Z"
      },
      {
        "duration": 152,
        "start_time": "2022-07-06T15:18:39.236Z"
      },
      {
        "duration": 41,
        "start_time": "2022-07-06T15:18:39.390Z"
      },
      {
        "duration": 12,
        "start_time": "2022-07-06T15:18:39.433Z"
      },
      {
        "duration": 11,
        "start_time": "2022-07-06T15:19:27.081Z"
      },
      {
        "duration": 12,
        "start_time": "2022-07-06T15:21:09.218Z"
      },
      {
        "duration": 1263,
        "start_time": "2022-07-06T15:21:18.874Z"
      },
      {
        "duration": 816,
        "start_time": "2022-07-06T15:21:37.590Z"
      },
      {
        "duration": 791,
        "start_time": "2022-07-06T15:22:10.442Z"
      },
      {
        "duration": 7,
        "start_time": "2022-07-06T15:22:25.278Z"
      },
      {
        "duration": 12,
        "start_time": "2022-07-06T15:22:33.437Z"
      },
      {
        "duration": 12,
        "start_time": "2022-07-06T15:23:14.588Z"
      },
      {
        "duration": 13,
        "start_time": "2022-07-06T15:24:17.005Z"
      },
      {
        "duration": 16,
        "start_time": "2022-07-06T15:24:55.637Z"
      },
      {
        "duration": 5,
        "start_time": "2022-07-06T15:26:51.684Z"
      },
      {
        "duration": 4,
        "start_time": "2022-07-06T15:26:52.337Z"
      },
      {
        "duration": 4,
        "start_time": "2022-07-06T15:26:52.972Z"
      },
      {
        "duration": 19,
        "start_time": "2022-07-06T15:26:56.853Z"
      },
      {
        "duration": 3,
        "start_time": "2022-07-06T15:27:00.597Z"
      },
      {
        "duration": 468,
        "start_time": "2022-07-06T15:27:00.602Z"
      },
      {
        "duration": 132,
        "start_time": "2022-07-06T15:27:01.073Z"
      },
      {
        "duration": 145,
        "start_time": "2022-07-06T15:27:01.207Z"
      },
      {
        "duration": 83,
        "start_time": "2022-07-06T15:27:01.354Z"
      },
      {
        "duration": 233,
        "start_time": "2022-07-06T15:27:01.438Z"
      },
      {
        "duration": 92,
        "start_time": "2022-07-06T15:27:01.673Z"
      },
      {
        "duration": 60,
        "start_time": "2022-07-06T15:27:01.767Z"
      },
      {
        "duration": 6,
        "start_time": "2022-07-06T15:27:01.829Z"
      },
      {
        "duration": 41,
        "start_time": "2022-07-06T15:27:01.836Z"
      },
      {
        "duration": 12,
        "start_time": "2022-07-06T15:27:01.880Z"
      },
      {
        "duration": 177,
        "start_time": "2022-07-06T15:27:01.893Z"
      },
      {
        "duration": 258,
        "start_time": "2022-07-06T15:27:02.072Z"
      },
      {
        "duration": 6,
        "start_time": "2022-07-06T15:27:02.332Z"
      },
      {
        "duration": 24,
        "start_time": "2022-07-06T15:27:02.339Z"
      },
      {
        "duration": 42,
        "start_time": "2022-07-06T15:27:02.365Z"
      },
      {
        "duration": 226,
        "start_time": "2022-07-06T15:27:02.408Z"
      },
      {
        "duration": 15,
        "start_time": "2022-07-06T15:27:02.636Z"
      },
      {
        "duration": 191,
        "start_time": "2022-07-06T15:27:02.653Z"
      },
      {
        "duration": 168,
        "start_time": "2022-07-06T15:27:02.846Z"
      },
      {
        "duration": 17,
        "start_time": "2022-07-06T15:27:03.016Z"
      },
      {
        "duration": 193,
        "start_time": "2022-07-06T15:27:03.035Z"
      },
      {
        "duration": 203,
        "start_time": "2022-07-06T15:27:03.230Z"
      },
      {
        "duration": 12,
        "start_time": "2022-07-06T15:27:03.434Z"
      },
      {
        "duration": 33,
        "start_time": "2022-07-06T15:27:03.448Z"
      },
      {
        "duration": 30,
        "start_time": "2022-07-06T15:27:03.483Z"
      },
      {
        "duration": 396,
        "start_time": "2022-07-06T15:27:03.514Z"
      },
      {
        "duration": 22,
        "start_time": "2022-07-06T15:27:03.912Z"
      },
      {
        "duration": 9,
        "start_time": "2022-07-06T15:27:03.938Z"
      },
      {
        "duration": 20,
        "start_time": "2022-07-06T15:27:03.948Z"
      },
      {
        "duration": 26,
        "start_time": "2022-07-06T15:27:03.970Z"
      },
      {
        "duration": 36,
        "start_time": "2022-07-06T15:27:03.997Z"
      },
      {
        "duration": 28,
        "start_time": "2022-07-06T15:27:04.035Z"
      },
      {
        "duration": 67,
        "start_time": "2022-07-06T15:27:04.065Z"
      },
      {
        "duration": 52,
        "start_time": "2022-07-06T15:27:04.134Z"
      },
      {
        "duration": 51,
        "start_time": "2022-07-06T15:27:04.187Z"
      },
      {
        "duration": 40,
        "start_time": "2022-07-06T15:27:04.240Z"
      },
      {
        "duration": 21,
        "start_time": "2022-07-06T15:27:04.282Z"
      },
      {
        "duration": 30,
        "start_time": "2022-07-06T15:27:04.305Z"
      },
      {
        "duration": 19,
        "start_time": "2022-07-06T15:27:04.337Z"
      },
      {
        "duration": 17,
        "start_time": "2022-07-06T15:27:04.358Z"
      },
      {
        "duration": 11,
        "start_time": "2022-07-06T15:27:04.377Z"
      },
      {
        "duration": 8,
        "start_time": "2022-07-06T15:27:04.423Z"
      },
      {
        "duration": 23,
        "start_time": "2022-07-06T15:27:04.432Z"
      },
      {
        "duration": 13,
        "start_time": "2022-07-06T15:27:04.457Z"
      },
      {
        "duration": 7,
        "start_time": "2022-07-06T15:27:04.472Z"
      },
      {
        "duration": 8,
        "start_time": "2022-07-06T15:27:04.481Z"
      },
      {
        "duration": 32,
        "start_time": "2022-07-06T15:27:04.491Z"
      },
      {
        "duration": 24,
        "start_time": "2022-07-06T15:27:04.525Z"
      },
      {
        "duration": 143,
        "start_time": "2022-07-06T15:27:04.551Z"
      },
      {
        "duration": 39,
        "start_time": "2022-07-06T15:27:04.696Z"
      },
      {
        "duration": 16,
        "start_time": "2022-07-06T15:27:04.737Z"
      },
      {
        "duration": 20,
        "start_time": "2022-07-06T15:27:15.564Z"
      },
      {
        "duration": 13,
        "start_time": "2022-07-06T15:27:17.457Z"
      },
      {
        "duration": 4,
        "start_time": "2022-07-06T15:27:28.893Z"
      },
      {
        "duration": 452,
        "start_time": "2022-07-06T15:27:28.900Z"
      },
      {
        "duration": 115,
        "start_time": "2022-07-06T15:27:29.355Z"
      },
      {
        "duration": 117,
        "start_time": "2022-07-06T15:27:29.471Z"
      },
      {
        "duration": 71,
        "start_time": "2022-07-06T15:27:29.590Z"
      },
      {
        "duration": 242,
        "start_time": "2022-07-06T15:27:29.663Z"
      },
      {
        "duration": 80,
        "start_time": "2022-07-06T15:27:29.907Z"
      },
      {
        "duration": 62,
        "start_time": "2022-07-06T15:27:29.988Z"
      },
      {
        "duration": 7,
        "start_time": "2022-07-06T15:27:30.051Z"
      },
      {
        "duration": 15,
        "start_time": "2022-07-06T15:27:30.059Z"
      },
      {
        "duration": 13,
        "start_time": "2022-07-06T15:27:30.078Z"
      },
      {
        "duration": 189,
        "start_time": "2022-07-06T15:27:30.093Z"
      },
      {
        "duration": 254,
        "start_time": "2022-07-06T15:27:30.285Z"
      },
      {
        "duration": 6,
        "start_time": "2022-07-06T15:27:30.540Z"
      },
      {
        "duration": 24,
        "start_time": "2022-07-06T15:27:30.548Z"
      },
      {
        "duration": 24,
        "start_time": "2022-07-06T15:27:30.574Z"
      },
      {
        "duration": 243,
        "start_time": "2022-07-06T15:27:30.600Z"
      },
      {
        "duration": 15,
        "start_time": "2022-07-06T15:27:30.845Z"
      },
      {
        "duration": 371,
        "start_time": "2022-07-06T15:27:30.861Z"
      },
      {
        "duration": 151,
        "start_time": "2022-07-06T15:27:31.234Z"
      },
      {
        "duration": 12,
        "start_time": "2022-07-06T15:27:31.387Z"
      },
      {
        "duration": 173,
        "start_time": "2022-07-06T15:27:31.401Z"
      },
      {
        "duration": 185,
        "start_time": "2022-07-06T15:27:31.575Z"
      },
      {
        "duration": 9,
        "start_time": "2022-07-06T15:27:31.762Z"
      },
      {
        "duration": 8,
        "start_time": "2022-07-06T15:27:31.773Z"
      },
      {
        "duration": 14,
        "start_time": "2022-07-06T15:27:31.783Z"
      },
      {
        "duration": 357,
        "start_time": "2022-07-06T15:27:31.799Z"
      },
      {
        "duration": 15,
        "start_time": "2022-07-06T15:27:32.157Z"
      },
      {
        "duration": 9,
        "start_time": "2022-07-06T15:27:32.176Z"
      },
      {
        "duration": 5,
        "start_time": "2022-07-06T15:27:32.186Z"
      },
      {
        "duration": 31,
        "start_time": "2022-07-06T15:27:32.193Z"
      },
      {
        "duration": 8,
        "start_time": "2022-07-06T15:27:32.226Z"
      },
      {
        "duration": 15,
        "start_time": "2022-07-06T15:27:32.235Z"
      },
      {
        "duration": 35,
        "start_time": "2022-07-06T15:27:32.251Z"
      },
      {
        "duration": 52,
        "start_time": "2022-07-06T15:27:32.288Z"
      },
      {
        "duration": 31,
        "start_time": "2022-07-06T15:27:32.342Z"
      },
      {
        "duration": 48,
        "start_time": "2022-07-06T15:27:32.375Z"
      },
      {
        "duration": 20,
        "start_time": "2022-07-06T15:27:32.425Z"
      },
      {
        "duration": 14,
        "start_time": "2022-07-06T15:27:32.447Z"
      },
      {
        "duration": 18,
        "start_time": "2022-07-06T15:27:32.463Z"
      },
      {
        "duration": 43,
        "start_time": "2022-07-06T15:27:32.482Z"
      },
      {
        "duration": 12,
        "start_time": "2022-07-06T15:27:32.526Z"
      },
      {
        "duration": 11,
        "start_time": "2022-07-06T15:27:32.539Z"
      },
      {
        "duration": 23,
        "start_time": "2022-07-06T15:27:32.552Z"
      },
      {
        "duration": 12,
        "start_time": "2022-07-06T15:27:32.577Z"
      },
      {
        "duration": 4,
        "start_time": "2022-07-06T15:27:32.591Z"
      },
      {
        "duration": 9,
        "start_time": "2022-07-06T15:27:32.623Z"
      },
      {
        "duration": 5,
        "start_time": "2022-07-06T15:27:32.634Z"
      },
      {
        "duration": 20,
        "start_time": "2022-07-06T15:27:32.641Z"
      },
      {
        "duration": 128,
        "start_time": "2022-07-06T15:27:32.663Z"
      },
      {
        "duration": 43,
        "start_time": "2022-07-06T15:27:32.793Z"
      },
      {
        "duration": 13,
        "start_time": "2022-07-06T15:27:32.838Z"
      },
      {
        "duration": 27,
        "start_time": "2022-07-06T15:30:32.278Z"
      },
      {
        "duration": 56,
        "start_time": "2022-07-06T15:37:31.415Z"
      },
      {
        "duration": 10,
        "start_time": "2022-07-06T15:41:07.220Z"
      },
      {
        "duration": 7,
        "start_time": "2022-07-06T15:41:23.676Z"
      },
      {
        "duration": 834,
        "start_time": "2022-07-06T15:41:24.564Z"
      },
      {
        "duration": 9,
        "start_time": "2022-07-06T15:41:34.016Z"
      },
      {
        "duration": 4,
        "start_time": "2022-07-06T15:42:55.404Z"
      },
      {
        "duration": 10,
        "start_time": "2022-07-06T15:48:08.664Z"
      },
      {
        "duration": 13,
        "start_time": "2022-07-06T15:48:31.622Z"
      },
      {
        "duration": 17,
        "start_time": "2022-07-06T15:48:49.991Z"
      },
      {
        "duration": 12,
        "start_time": "2022-07-06T15:48:56.947Z"
      },
      {
        "duration": 5,
        "start_time": "2022-07-06T15:50:57.403Z"
      },
      {
        "duration": 8,
        "start_time": "2022-07-06T15:50:58.339Z"
      },
      {
        "duration": 51,
        "start_time": "2022-07-06T15:51:10.623Z"
      },
      {
        "duration": 5,
        "start_time": "2022-07-06T15:51:15.463Z"
      },
      {
        "duration": 9,
        "start_time": "2022-07-06T15:51:16.307Z"
      },
      {
        "duration": 5,
        "start_time": "2022-07-06T15:51:37.134Z"
      },
      {
        "duration": 10,
        "start_time": "2022-07-06T15:51:38.763Z"
      },
      {
        "duration": 5,
        "start_time": "2022-07-06T15:51:54.851Z"
      },
      {
        "duration": 9,
        "start_time": "2022-07-06T15:51:56.711Z"
      },
      {
        "duration": 4,
        "start_time": "2022-07-06T15:52:37.687Z"
      },
      {
        "duration": 11,
        "start_time": "2022-07-06T15:52:38.881Z"
      },
      {
        "duration": 7,
        "start_time": "2022-07-06T15:55:16.058Z"
      },
      {
        "duration": 5,
        "start_time": "2022-07-06T15:55:23.855Z"
      },
      {
        "duration": 11,
        "start_time": "2022-07-06T15:55:24.962Z"
      },
      {
        "duration": 852,
        "start_time": "2022-07-06T15:55:56.814Z"
      },
      {
        "duration": 9,
        "start_time": "2022-07-06T15:56:01.246Z"
      },
      {
        "duration": 9,
        "start_time": "2022-07-06T15:56:08.462Z"
      },
      {
        "duration": 9,
        "start_time": "2022-07-06T15:56:09.735Z"
      },
      {
        "duration": 4,
        "start_time": "2022-07-06T15:56:23.810Z"
      },
      {
        "duration": 419,
        "start_time": "2022-07-06T15:56:23.816Z"
      },
      {
        "duration": 121,
        "start_time": "2022-07-06T15:56:24.237Z"
      },
      {
        "duration": 117,
        "start_time": "2022-07-06T15:56:24.360Z"
      },
      {
        "duration": 75,
        "start_time": "2022-07-06T15:56:24.479Z"
      },
      {
        "duration": 222,
        "start_time": "2022-07-06T15:56:24.555Z"
      },
      {
        "duration": 92,
        "start_time": "2022-07-06T15:56:24.778Z"
      },
      {
        "duration": 65,
        "start_time": "2022-07-06T15:56:24.872Z"
      },
      {
        "duration": 7,
        "start_time": "2022-07-06T15:56:24.940Z"
      },
      {
        "duration": 13,
        "start_time": "2022-07-06T15:56:24.949Z"
      },
      {
        "duration": 12,
        "start_time": "2022-07-06T15:56:24.966Z"
      },
      {
        "duration": 191,
        "start_time": "2022-07-06T15:56:24.979Z"
      },
      {
        "duration": 237,
        "start_time": "2022-07-06T15:56:25.172Z"
      },
      {
        "duration": 6,
        "start_time": "2022-07-06T15:56:25.411Z"
      },
      {
        "duration": 12,
        "start_time": "2022-07-06T15:56:25.424Z"
      },
      {
        "duration": 17,
        "start_time": "2022-07-06T15:56:25.437Z"
      },
      {
        "duration": 239,
        "start_time": "2022-07-06T15:56:25.456Z"
      },
      {
        "duration": 26,
        "start_time": "2022-07-06T15:56:25.697Z"
      },
      {
        "duration": 171,
        "start_time": "2022-07-06T15:56:25.725Z"
      },
      {
        "duration": 175,
        "start_time": "2022-07-06T15:56:25.898Z"
      },
      {
        "duration": 13,
        "start_time": "2022-07-06T15:56:26.075Z"
      },
      {
        "duration": 187,
        "start_time": "2022-07-06T15:56:26.089Z"
      },
      {
        "duration": 194,
        "start_time": "2022-07-06T15:56:26.278Z"
      },
      {
        "duration": 10,
        "start_time": "2022-07-06T15:56:26.474Z"
      },
      {
        "duration": 8,
        "start_time": "2022-07-06T15:56:26.486Z"
      },
      {
        "duration": 33,
        "start_time": "2022-07-06T15:56:26.495Z"
      },
      {
        "duration": 367,
        "start_time": "2022-07-06T15:56:26.529Z"
      },
      {
        "duration": 13,
        "start_time": "2022-07-06T15:56:26.897Z"
      },
      {
        "duration": 10,
        "start_time": "2022-07-06T15:56:26.922Z"
      },
      {
        "duration": 11,
        "start_time": "2022-07-06T15:56:26.934Z"
      },
      {
        "duration": 14,
        "start_time": "2022-07-06T15:56:26.946Z"
      },
      {
        "duration": 6,
        "start_time": "2022-07-06T15:56:26.961Z"
      },
      {
        "duration": 12,
        "start_time": "2022-07-06T15:56:26.969Z"
      },
      {
        "duration": 66,
        "start_time": "2022-07-06T15:56:26.983Z"
      },
      {
        "duration": 36,
        "start_time": "2022-07-06T15:56:27.051Z"
      },
      {
        "duration": 48,
        "start_time": "2022-07-06T15:56:27.088Z"
      },
      {
        "duration": 34,
        "start_time": "2022-07-06T15:56:27.138Z"
      },
      {
        "duration": 20,
        "start_time": "2022-07-06T15:56:27.174Z"
      },
      {
        "duration": 38,
        "start_time": "2022-07-06T15:56:27.195Z"
      },
      {
        "duration": 17,
        "start_time": "2022-07-06T15:56:27.235Z"
      },
      {
        "duration": 16,
        "start_time": "2022-07-06T15:56:27.254Z"
      },
      {
        "duration": 11,
        "start_time": "2022-07-06T15:56:27.271Z"
      },
      {
        "duration": 42,
        "start_time": "2022-07-06T15:56:27.283Z"
      },
      {
        "duration": 21,
        "start_time": "2022-07-06T15:56:27.326Z"
      },
      {
        "duration": 14,
        "start_time": "2022-07-06T15:56:27.349Z"
      },
      {
        "duration": 6,
        "start_time": "2022-07-06T15:56:27.365Z"
      },
      {
        "duration": 21,
        "start_time": "2022-07-06T15:56:27.373Z"
      },
      {
        "duration": 6,
        "start_time": "2022-07-06T15:56:27.396Z"
      },
      {
        "duration": 19,
        "start_time": "2022-07-06T15:56:27.423Z"
      },
      {
        "duration": 144,
        "start_time": "2022-07-06T15:56:27.444Z"
      },
      {
        "duration": 37,
        "start_time": "2022-07-06T15:56:27.590Z"
      },
      {
        "duration": 5,
        "start_time": "2022-07-06T15:56:27.628Z"
      },
      {
        "duration": 11,
        "start_time": "2022-07-06T15:56:27.634Z"
      },
      {
        "duration": 9,
        "start_time": "2022-07-06T15:56:27.647Z"
      },
      {
        "duration": 5,
        "start_time": "2022-07-06T15:57:13.554Z"
      },
      {
        "duration": 9,
        "start_time": "2022-07-06T15:57:14.734Z"
      },
      {
        "duration": 8,
        "start_time": "2022-07-06T15:57:15.718Z"
      },
      {
        "duration": 3,
        "start_time": "2022-07-06T15:57:50.742Z"
      },
      {
        "duration": 10,
        "start_time": "2022-07-06T15:57:51.594Z"
      },
      {
        "duration": 4,
        "start_time": "2022-07-06T15:58:01.638Z"
      },
      {
        "duration": 471,
        "start_time": "2022-07-06T15:58:01.644Z"
      },
      {
        "duration": 136,
        "start_time": "2022-07-06T15:58:02.118Z"
      },
      {
        "duration": 129,
        "start_time": "2022-07-06T15:58:02.256Z"
      },
      {
        "duration": 79,
        "start_time": "2022-07-06T15:58:02.389Z"
      },
      {
        "duration": 257,
        "start_time": "2022-07-06T15:58:02.470Z"
      },
      {
        "duration": 72,
        "start_time": "2022-07-06T15:58:02.729Z"
      },
      {
        "duration": 69,
        "start_time": "2022-07-06T15:58:02.803Z"
      },
      {
        "duration": 7,
        "start_time": "2022-07-06T15:58:02.874Z"
      },
      {
        "duration": 25,
        "start_time": "2022-07-06T15:58:02.883Z"
      },
      {
        "duration": 32,
        "start_time": "2022-07-06T15:58:02.912Z"
      },
      {
        "duration": 194,
        "start_time": "2022-07-06T15:58:02.946Z"
      },
      {
        "duration": 249,
        "start_time": "2022-07-06T15:58:03.142Z"
      },
      {
        "duration": 6,
        "start_time": "2022-07-06T15:58:03.392Z"
      },
      {
        "duration": 42,
        "start_time": "2022-07-06T15:58:03.399Z"
      },
      {
        "duration": 35,
        "start_time": "2022-07-06T15:58:03.443Z"
      },
      {
        "duration": 224,
        "start_time": "2022-07-06T15:58:03.480Z"
      },
      {
        "duration": 22,
        "start_time": "2022-07-06T15:58:03.706Z"
      },
      {
        "duration": 189,
        "start_time": "2022-07-06T15:58:03.730Z"
      },
      {
        "duration": 154,
        "start_time": "2022-07-06T15:58:03.921Z"
      },
      {
        "duration": 12,
        "start_time": "2022-07-06T15:58:04.077Z"
      },
      {
        "duration": 193,
        "start_time": "2022-07-06T15:58:04.090Z"
      },
      {
        "duration": 219,
        "start_time": "2022-07-06T15:58:04.285Z"
      },
      {
        "duration": 9,
        "start_time": "2022-07-06T15:58:04.506Z"
      },
      {
        "duration": 38,
        "start_time": "2022-07-06T15:58:04.523Z"
      },
      {
        "duration": 48,
        "start_time": "2022-07-06T15:58:04.563Z"
      },
      {
        "duration": 364,
        "start_time": "2022-07-06T15:58:04.613Z"
      },
      {
        "duration": 16,
        "start_time": "2022-07-06T15:58:04.979Z"
      },
      {
        "duration": 36,
        "start_time": "2022-07-06T15:58:04.999Z"
      },
      {
        "duration": 22,
        "start_time": "2022-07-06T15:58:05.037Z"
      },
      {
        "duration": 26,
        "start_time": "2022-07-06T15:58:05.061Z"
      },
      {
        "duration": 23,
        "start_time": "2022-07-06T15:58:05.089Z"
      },
      {
        "duration": 29,
        "start_time": "2022-07-06T15:58:05.114Z"
      },
      {
        "duration": 70,
        "start_time": "2022-07-06T15:58:05.145Z"
      },
      {
        "duration": 256,
        "start_time": "2022-07-06T15:58:05.217Z"
      },
      {
        "duration": 33,
        "start_time": "2022-07-06T15:58:05.475Z"
      },
      {
        "duration": 44,
        "start_time": "2022-07-06T15:58:05.510Z"
      },
      {
        "duration": 21,
        "start_time": "2022-07-06T15:58:05.556Z"
      },
      {
        "duration": 17,
        "start_time": "2022-07-06T15:58:05.578Z"
      },
      {
        "duration": 20,
        "start_time": "2022-07-06T15:58:05.622Z"
      },
      {
        "duration": 18,
        "start_time": "2022-07-06T15:58:05.644Z"
      },
      {
        "duration": 12,
        "start_time": "2022-07-06T15:58:05.664Z"
      },
      {
        "duration": 11,
        "start_time": "2022-07-06T15:58:05.722Z"
      },
      {
        "duration": 42,
        "start_time": "2022-07-06T15:58:05.735Z"
      },
      {
        "duration": 17,
        "start_time": "2022-07-06T15:58:05.824Z"
      },
      {
        "duration": 9,
        "start_time": "2022-07-06T15:58:05.843Z"
      },
      {
        "duration": 14,
        "start_time": "2022-07-06T15:58:05.853Z"
      },
      {
        "duration": 55,
        "start_time": "2022-07-06T15:58:05.869Z"
      },
      {
        "duration": 40,
        "start_time": "2022-07-06T15:58:05.926Z"
      },
      {
        "duration": 365,
        "start_time": "2022-07-06T15:58:05.968Z"
      },
      {
        "duration": 29,
        "start_time": "2022-07-06T15:58:06.335Z"
      },
      {
        "duration": 59,
        "start_time": "2022-07-06T15:58:06.367Z"
      },
      {
        "duration": 23,
        "start_time": "2022-07-06T15:58:06.428Z"
      },
      {
        "duration": 20,
        "start_time": "2022-07-06T15:58:06.453Z"
      },
      {
        "duration": 11,
        "start_time": "2022-07-06T15:58:30.010Z"
      },
      {
        "duration": 6,
        "start_time": "2022-07-06T16:00:19.800Z"
      },
      {
        "duration": 11,
        "start_time": "2022-07-06T16:00:36.934Z"
      },
      {
        "duration": 27,
        "start_time": "2022-07-06T16:01:30.238Z"
      },
      {
        "duration": 11,
        "start_time": "2022-07-06T16:01:55.914Z"
      },
      {
        "duration": 12,
        "start_time": "2022-07-06T16:01:56.929Z"
      },
      {
        "duration": 4,
        "start_time": "2022-07-06T16:02:42.422Z"
      },
      {
        "duration": 482,
        "start_time": "2022-07-06T16:02:42.428Z"
      },
      {
        "duration": 186,
        "start_time": "2022-07-06T16:02:42.913Z"
      },
      {
        "duration": 147,
        "start_time": "2022-07-06T16:02:43.102Z"
      },
      {
        "duration": 108,
        "start_time": "2022-07-06T16:02:43.252Z"
      },
      {
        "duration": 270,
        "start_time": "2022-07-06T16:02:43.362Z"
      },
      {
        "duration": 94,
        "start_time": "2022-07-06T16:02:43.634Z"
      },
      {
        "duration": 53,
        "start_time": "2022-07-06T16:02:43.730Z"
      },
      {
        "duration": 7,
        "start_time": "2022-07-06T16:02:43.785Z"
      },
      {
        "duration": 30,
        "start_time": "2022-07-06T16:02:43.794Z"
      },
      {
        "duration": 11,
        "start_time": "2022-07-06T16:02:43.828Z"
      },
      {
        "duration": 207,
        "start_time": "2022-07-06T16:02:43.841Z"
      },
      {
        "duration": 287,
        "start_time": "2022-07-06T16:02:44.050Z"
      },
      {
        "duration": 7,
        "start_time": "2022-07-06T16:02:44.338Z"
      },
      {
        "duration": 15,
        "start_time": "2022-07-06T16:02:44.346Z"
      },
      {
        "duration": 18,
        "start_time": "2022-07-06T16:02:44.364Z"
      },
      {
        "duration": 248,
        "start_time": "2022-07-06T16:02:44.385Z"
      },
      {
        "duration": 15,
        "start_time": "2022-07-06T16:02:44.635Z"
      },
      {
        "duration": 194,
        "start_time": "2022-07-06T16:02:44.652Z"
      },
      {
        "duration": 296,
        "start_time": "2022-07-06T16:02:44.848Z"
      },
      {
        "duration": 23,
        "start_time": "2022-07-06T16:02:45.149Z"
      },
      {
        "duration": 203,
        "start_time": "2022-07-06T16:02:45.175Z"
      },
      {
        "duration": 197,
        "start_time": "2022-07-06T16:02:45.381Z"
      },
      {
        "duration": 10,
        "start_time": "2022-07-06T16:02:45.580Z"
      },
      {
        "duration": 10,
        "start_time": "2022-07-06T16:02:45.592Z"
      },
      {
        "duration": 37,
        "start_time": "2022-07-06T16:02:45.604Z"
      },
      {
        "duration": 505,
        "start_time": "2022-07-06T16:02:45.644Z"
      },
      {
        "duration": 15,
        "start_time": "2022-07-06T16:02:46.151Z"
      },
      {
        "duration": 9,
        "start_time": "2022-07-06T16:02:46.170Z"
      },
      {
        "duration": 6,
        "start_time": "2022-07-06T16:02:46.181Z"
      },
      {
        "duration": 35,
        "start_time": "2022-07-06T16:02:46.191Z"
      },
      {
        "duration": 13,
        "start_time": "2022-07-06T16:02:46.228Z"
      },
      {
        "duration": 19,
        "start_time": "2022-07-06T16:02:46.243Z"
      },
      {
        "duration": 48,
        "start_time": "2022-07-06T16:02:46.265Z"
      },
      {
        "duration": 38,
        "start_time": "2022-07-06T16:02:46.324Z"
      },
      {
        "duration": 36,
        "start_time": "2022-07-06T16:02:46.364Z"
      },
      {
        "duration": 54,
        "start_time": "2022-07-06T16:02:46.402Z"
      },
      {
        "duration": 23,
        "start_time": "2022-07-06T16:02:46.458Z"
      },
      {
        "duration": 48,
        "start_time": "2022-07-06T16:02:46.483Z"
      },
      {
        "duration": 20,
        "start_time": "2022-07-06T16:02:46.534Z"
      },
      {
        "duration": 18,
        "start_time": "2022-07-06T16:02:46.555Z"
      },
      {
        "duration": 12,
        "start_time": "2022-07-06T16:02:46.575Z"
      },
      {
        "duration": 52,
        "start_time": "2022-07-06T16:02:46.589Z"
      },
      {
        "duration": 0,
        "start_time": "2022-07-06T16:02:46.643Z"
      },
      {
        "duration": 0,
        "start_time": "2022-07-06T16:02:46.645Z"
      },
      {
        "duration": 0,
        "start_time": "2022-07-06T16:02:46.646Z"
      },
      {
        "duration": 0,
        "start_time": "2022-07-06T16:02:46.647Z"
      },
      {
        "duration": 0,
        "start_time": "2022-07-06T16:02:46.649Z"
      },
      {
        "duration": 0,
        "start_time": "2022-07-06T16:02:46.650Z"
      },
      {
        "duration": 0,
        "start_time": "2022-07-06T16:02:46.651Z"
      },
      {
        "duration": 0,
        "start_time": "2022-07-06T16:02:46.653Z"
      },
      {
        "duration": 0,
        "start_time": "2022-07-06T16:02:46.654Z"
      },
      {
        "duration": 0,
        "start_time": "2022-07-06T16:02:46.656Z"
      },
      {
        "duration": 0,
        "start_time": "2022-07-06T16:02:46.657Z"
      },
      {
        "duration": 1048,
        "start_time": "2022-07-06T16:03:00.685Z"
      },
      {
        "duration": 18,
        "start_time": "2022-07-06T16:03:31.993Z"
      },
      {
        "duration": 5,
        "start_time": "2022-07-06T16:03:59.730Z"
      },
      {
        "duration": 12,
        "start_time": "2022-07-06T16:04:04.790Z"
      },
      {
        "duration": 3,
        "start_time": "2022-07-06T16:04:41.989Z"
      },
      {
        "duration": 3,
        "start_time": "2022-07-06T16:04:42.489Z"
      },
      {
        "duration": 3,
        "start_time": "2022-07-06T16:04:53.022Z"
      },
      {
        "duration": 399,
        "start_time": "2022-07-06T16:04:53.028Z"
      },
      {
        "duration": 122,
        "start_time": "2022-07-06T16:04:53.429Z"
      },
      {
        "duration": 126,
        "start_time": "2022-07-06T16:04:53.553Z"
      },
      {
        "duration": 81,
        "start_time": "2022-07-06T16:04:53.681Z"
      },
      {
        "duration": 234,
        "start_time": "2022-07-06T16:04:53.764Z"
      },
      {
        "duration": 91,
        "start_time": "2022-07-06T16:04:54.000Z"
      },
      {
        "duration": 80,
        "start_time": "2022-07-06T16:04:54.094Z"
      },
      {
        "duration": 6,
        "start_time": "2022-07-06T16:04:54.176Z"
      },
      {
        "duration": 27,
        "start_time": "2022-07-06T16:04:54.184Z"
      },
      {
        "duration": 16,
        "start_time": "2022-07-06T16:04:54.214Z"
      },
      {
        "duration": 193,
        "start_time": "2022-07-06T16:04:54.233Z"
      },
      {
        "duration": 257,
        "start_time": "2022-07-06T16:04:54.428Z"
      },
      {
        "duration": 6,
        "start_time": "2022-07-06T16:04:54.686Z"
      },
      {
        "duration": 13,
        "start_time": "2022-07-06T16:04:54.694Z"
      },
      {
        "duration": 16,
        "start_time": "2022-07-06T16:04:54.723Z"
      },
      {
        "duration": 273,
        "start_time": "2022-07-06T16:04:54.743Z"
      },
      {
        "duration": 18,
        "start_time": "2022-07-06T16:04:55.018Z"
      },
      {
        "duration": 180,
        "start_time": "2022-07-06T16:04:55.037Z"
      },
      {
        "duration": 159,
        "start_time": "2022-07-06T16:04:55.223Z"
      },
      {
        "duration": 14,
        "start_time": "2022-07-06T16:04:55.383Z"
      },
      {
        "duration": 177,
        "start_time": "2022-07-06T16:04:55.398Z"
      },
      {
        "duration": 196,
        "start_time": "2022-07-06T16:04:55.576Z"
      },
      {
        "duration": 11,
        "start_time": "2022-07-06T16:04:55.775Z"
      },
      {
        "duration": 10,
        "start_time": "2022-07-06T16:04:55.788Z"
      },
      {
        "duration": 37,
        "start_time": "2022-07-06T16:04:55.800Z"
      },
      {
        "duration": 387,
        "start_time": "2022-07-06T16:04:55.839Z"
      },
      {
        "duration": 15,
        "start_time": "2022-07-06T16:04:56.228Z"
      },
      {
        "duration": 9,
        "start_time": "2022-07-06T16:04:56.248Z"
      },
      {
        "duration": 4,
        "start_time": "2022-07-06T16:04:56.259Z"
      },
      {
        "duration": 10,
        "start_time": "2022-07-06T16:04:56.265Z"
      },
      {
        "duration": 9,
        "start_time": "2022-07-06T16:04:56.277Z"
      },
      {
        "duration": 40,
        "start_time": "2022-07-06T16:04:56.288Z"
      },
      {
        "duration": 43,
        "start_time": "2022-07-06T16:04:56.330Z"
      },
      {
        "duration": 54,
        "start_time": "2022-07-06T16:04:56.376Z"
      },
      {
        "duration": 33,
        "start_time": "2022-07-06T16:04:56.432Z"
      },
      {
        "duration": 58,
        "start_time": "2022-07-06T16:04:56.466Z"
      },
      {
        "duration": 22,
        "start_time": "2022-07-06T16:04:56.526Z"
      },
      {
        "duration": 16,
        "start_time": "2022-07-06T16:04:56.549Z"
      },
      {
        "duration": 56,
        "start_time": "2022-07-06T16:04:56.567Z"
      },
      {
        "duration": 18,
        "start_time": "2022-07-06T16:04:56.625Z"
      },
      {
        "duration": 12,
        "start_time": "2022-07-06T16:04:56.645Z"
      },
      {
        "duration": 16,
        "start_time": "2022-07-06T16:04:56.659Z"
      },
      {
        "duration": 51,
        "start_time": "2022-07-06T16:04:56.677Z"
      },
      {
        "duration": 15,
        "start_time": "2022-07-06T16:04:56.730Z"
      },
      {
        "duration": 25,
        "start_time": "2022-07-06T16:04:56.747Z"
      },
      {
        "duration": 6,
        "start_time": "2022-07-06T16:04:56.775Z"
      },
      {
        "duration": 7,
        "start_time": "2022-07-06T16:04:56.784Z"
      },
      {
        "duration": 48,
        "start_time": "2022-07-06T16:04:56.793Z"
      },
      {
        "duration": 156,
        "start_time": "2022-07-06T16:04:56.844Z"
      },
      {
        "duration": 41,
        "start_time": "2022-07-06T16:04:57.002Z"
      },
      {
        "duration": 6,
        "start_time": "2022-07-06T16:04:57.046Z"
      },
      {
        "duration": 17,
        "start_time": "2022-07-06T16:04:57.054Z"
      },
      {
        "duration": 10,
        "start_time": "2022-07-06T16:04:57.073Z"
      },
      {
        "duration": 18,
        "start_time": "2022-07-06T16:08:17.992Z"
      },
      {
        "duration": 3,
        "start_time": "2022-07-06T16:08:27.301Z"
      },
      {
        "duration": 400,
        "start_time": "2022-07-06T16:08:27.306Z"
      },
      {
        "duration": 137,
        "start_time": "2022-07-06T16:08:27.708Z"
      },
      {
        "duration": 129,
        "start_time": "2022-07-06T16:08:27.848Z"
      },
      {
        "duration": 81,
        "start_time": "2022-07-06T16:08:27.980Z"
      },
      {
        "duration": 239,
        "start_time": "2022-07-06T16:08:28.063Z"
      },
      {
        "duration": 85,
        "start_time": "2022-07-06T16:08:28.304Z"
      },
      {
        "duration": 65,
        "start_time": "2022-07-06T16:08:28.391Z"
      },
      {
        "duration": 14,
        "start_time": "2022-07-06T16:08:28.458Z"
      },
      {
        "duration": 31,
        "start_time": "2022-07-06T16:08:28.474Z"
      },
      {
        "duration": 24,
        "start_time": "2022-07-06T16:08:28.509Z"
      },
      {
        "duration": 30,
        "start_time": "2022-07-06T16:08:28.535Z"
      },
      {
        "duration": 187,
        "start_time": "2022-07-06T16:08:28.567Z"
      },
      {
        "duration": 312,
        "start_time": "2022-07-06T16:08:28.756Z"
      },
      {
        "duration": 9,
        "start_time": "2022-07-06T16:08:29.071Z"
      },
      {
        "duration": 11,
        "start_time": "2022-07-06T16:08:29.085Z"
      },
      {
        "duration": 40,
        "start_time": "2022-07-06T16:08:29.099Z"
      },
      {
        "duration": 263,
        "start_time": "2022-07-06T16:08:29.141Z"
      },
      {
        "duration": 26,
        "start_time": "2022-07-06T16:08:29.406Z"
      },
      {
        "duration": 192,
        "start_time": "2022-07-06T16:08:29.434Z"
      },
      {
        "duration": 180,
        "start_time": "2022-07-06T16:08:29.628Z"
      },
      {
        "duration": 28,
        "start_time": "2022-07-06T16:08:29.810Z"
      },
      {
        "duration": 216,
        "start_time": "2022-07-06T16:08:29.841Z"
      },
      {
        "duration": 196,
        "start_time": "2022-07-06T16:08:30.060Z"
      },
      {
        "duration": 10,
        "start_time": "2022-07-06T16:08:30.258Z"
      },
      {
        "duration": 17,
        "start_time": "2022-07-06T16:08:30.271Z"
      },
      {
        "duration": 21,
        "start_time": "2022-07-06T16:08:30.291Z"
      },
      {
        "duration": 410,
        "start_time": "2022-07-06T16:08:30.325Z"
      },
      {
        "duration": 15,
        "start_time": "2022-07-06T16:08:30.739Z"
      },
      {
        "duration": 29,
        "start_time": "2022-07-06T16:08:30.757Z"
      },
      {
        "duration": 15,
        "start_time": "2022-07-06T16:08:30.788Z"
      },
      {
        "duration": 34,
        "start_time": "2022-07-06T16:08:30.805Z"
      },
      {
        "duration": 76,
        "start_time": "2022-07-06T16:08:30.841Z"
      },
      {
        "duration": 55,
        "start_time": "2022-07-06T16:08:30.920Z"
      },
      {
        "duration": 55,
        "start_time": "2022-07-06T16:08:30.976Z"
      },
      {
        "duration": 38,
        "start_time": "2022-07-06T16:08:31.033Z"
      },
      {
        "duration": 23,
        "start_time": "2022-07-06T16:08:31.073Z"
      },
      {
        "duration": 41,
        "start_time": "2022-07-06T16:08:31.098Z"
      },
      {
        "duration": 20,
        "start_time": "2022-07-06T16:08:31.141Z"
      },
      {
        "duration": 34,
        "start_time": "2022-07-06T16:08:31.163Z"
      },
      {
        "duration": 31,
        "start_time": "2022-07-06T16:08:31.200Z"
      },
      {
        "duration": 40,
        "start_time": "2022-07-06T16:08:31.233Z"
      },
      {
        "duration": 0,
        "start_time": "2022-07-06T16:08:31.275Z"
      },
      {
        "duration": 0,
        "start_time": "2022-07-06T16:08:31.277Z"
      },
      {
        "duration": 0,
        "start_time": "2022-07-06T16:08:31.279Z"
      },
      {
        "duration": 1,
        "start_time": "2022-07-06T16:08:31.280Z"
      },
      {
        "duration": 0,
        "start_time": "2022-07-06T16:08:31.282Z"
      },
      {
        "duration": 0,
        "start_time": "2022-07-06T16:08:31.283Z"
      },
      {
        "duration": 0,
        "start_time": "2022-07-06T16:08:31.285Z"
      },
      {
        "duration": 0,
        "start_time": "2022-07-06T16:08:31.286Z"
      },
      {
        "duration": 0,
        "start_time": "2022-07-06T16:08:31.289Z"
      },
      {
        "duration": 0,
        "start_time": "2022-07-06T16:08:31.290Z"
      },
      {
        "duration": 0,
        "start_time": "2022-07-06T16:08:31.292Z"
      },
      {
        "duration": 14,
        "start_time": "2022-07-06T16:09:29.079Z"
      },
      {
        "duration": 4,
        "start_time": "2022-07-06T16:09:51.097Z"
      },
      {
        "duration": 14,
        "start_time": "2022-07-06T16:09:52.452Z"
      },
      {
        "duration": 10,
        "start_time": "2022-07-06T16:09:59.784Z"
      },
      {
        "duration": 23,
        "start_time": "2022-07-06T16:10:01.696Z"
      },
      {
        "duration": 23,
        "start_time": "2022-07-06T16:10:05.644Z"
      },
      {
        "duration": 28,
        "start_time": "2022-07-06T16:10:05.669Z"
      },
      {
        "duration": 5,
        "start_time": "2022-07-06T16:10:05.699Z"
      },
      {
        "duration": 10,
        "start_time": "2022-07-06T16:10:05.706Z"
      },
      {
        "duration": 12,
        "start_time": "2022-07-06T16:10:05.719Z"
      },
      {
        "duration": 31,
        "start_time": "2022-07-06T16:10:05.740Z"
      },
      {
        "duration": 131,
        "start_time": "2022-07-06T16:10:05.773Z"
      },
      {
        "duration": 64,
        "start_time": "2022-07-06T16:10:05.906Z"
      },
      {
        "duration": 6,
        "start_time": "2022-07-06T16:10:05.972Z"
      },
      {
        "duration": 17,
        "start_time": "2022-07-06T16:10:05.980Z"
      },
      {
        "duration": 35,
        "start_time": "2022-07-06T16:10:05.999Z"
      },
      {
        "duration": 10,
        "start_time": "2022-07-06T16:11:11.642Z"
      },
      {
        "duration": 10,
        "start_time": "2022-07-06T16:11:13.187Z"
      },
      {
        "duration": 6,
        "start_time": "2022-07-06T16:11:15.440Z"
      },
      {
        "duration": 10,
        "start_time": "2022-07-06T16:11:16.043Z"
      },
      {
        "duration": 20,
        "start_time": "2022-07-06T16:11:16.816Z"
      },
      {
        "duration": 17,
        "start_time": "2022-07-06T16:11:32.119Z"
      },
      {
        "duration": 7,
        "start_time": "2022-07-06T16:11:33.172Z"
      },
      {
        "duration": 6,
        "start_time": "2022-07-06T16:11:35.691Z"
      },
      {
        "duration": 10,
        "start_time": "2022-07-06T16:11:36.375Z"
      },
      {
        "duration": 10,
        "start_time": "2022-07-06T16:11:37.051Z"
      },
      {
        "duration": 6,
        "start_time": "2022-07-06T16:11:41.491Z"
      },
      {
        "duration": 20,
        "start_time": "2022-07-06T16:11:41.500Z"
      },
      {
        "duration": 25,
        "start_time": "2022-07-06T16:11:41.525Z"
      },
      {
        "duration": 5,
        "start_time": "2022-07-06T16:11:46.192Z"
      },
      {
        "duration": 500,
        "start_time": "2022-07-06T16:11:46.199Z"
      },
      {
        "duration": 146,
        "start_time": "2022-07-06T16:11:46.701Z"
      },
      {
        "duration": 148,
        "start_time": "2022-07-06T16:11:46.850Z"
      },
      {
        "duration": 105,
        "start_time": "2022-07-06T16:11:47.000Z"
      },
      {
        "duration": 276,
        "start_time": "2022-07-06T16:11:47.124Z"
      },
      {
        "duration": 128,
        "start_time": "2022-07-06T16:11:47.403Z"
      },
      {
        "duration": 60,
        "start_time": "2022-07-06T16:11:47.533Z"
      },
      {
        "duration": 13,
        "start_time": "2022-07-06T16:11:47.597Z"
      },
      {
        "duration": 40,
        "start_time": "2022-07-06T16:11:47.612Z"
      },
      {
        "duration": 19,
        "start_time": "2022-07-06T16:11:47.654Z"
      },
      {
        "duration": 18,
        "start_time": "2022-07-06T16:11:47.675Z"
      },
      {
        "duration": 220,
        "start_time": "2022-07-06T16:11:47.695Z"
      },
      {
        "duration": 343,
        "start_time": "2022-07-06T16:11:47.919Z"
      },
      {
        "duration": 6,
        "start_time": "2022-07-06T16:11:48.264Z"
      },
      {
        "duration": 12,
        "start_time": "2022-07-06T16:11:48.272Z"
      },
      {
        "duration": 42,
        "start_time": "2022-07-06T16:11:48.287Z"
      },
      {
        "duration": 551,
        "start_time": "2022-07-06T16:11:48.330Z"
      },
      {
        "duration": 19,
        "start_time": "2022-07-06T16:11:48.892Z"
      },
      {
        "duration": 236,
        "start_time": "2022-07-06T16:11:48.913Z"
      },
      {
        "duration": 237,
        "start_time": "2022-07-06T16:11:49.151Z"
      },
      {
        "duration": 16,
        "start_time": "2022-07-06T16:11:49.390Z"
      },
      {
        "duration": 189,
        "start_time": "2022-07-06T16:11:49.408Z"
      },
      {
        "duration": 213,
        "start_time": "2022-07-06T16:11:49.602Z"
      },
      {
        "duration": 24,
        "start_time": "2022-07-06T16:11:49.818Z"
      },
      {
        "duration": 16,
        "start_time": "2022-07-06T16:11:49.845Z"
      },
      {
        "duration": 18,
        "start_time": "2022-07-06T16:11:49.863Z"
      },
      {
        "duration": 397,
        "start_time": "2022-07-06T16:11:49.883Z"
      },
      {
        "duration": 15,
        "start_time": "2022-07-06T16:11:50.282Z"
      },
      {
        "duration": 40,
        "start_time": "2022-07-06T16:11:50.300Z"
      },
      {
        "duration": 31,
        "start_time": "2022-07-06T16:11:50.343Z"
      },
      {
        "duration": 17,
        "start_time": "2022-07-06T16:11:50.376Z"
      },
      {
        "duration": 65,
        "start_time": "2022-07-06T16:11:50.396Z"
      },
      {
        "duration": 50,
        "start_time": "2022-07-06T16:11:50.463Z"
      },
      {
        "duration": 50,
        "start_time": "2022-07-06T16:11:50.523Z"
      },
      {
        "duration": 71,
        "start_time": "2022-07-06T16:11:50.577Z"
      },
      {
        "duration": 30,
        "start_time": "2022-07-06T16:11:50.651Z"
      },
      {
        "duration": 23,
        "start_time": "2022-07-06T16:11:50.684Z"
      },
      {
        "duration": 30,
        "start_time": "2022-07-06T16:11:50.728Z"
      },
      {
        "duration": 29,
        "start_time": "2022-07-06T16:11:50.760Z"
      },
      {
        "duration": 14,
        "start_time": "2022-07-06T16:11:50.793Z"
      },
      {
        "duration": 45,
        "start_time": "2022-07-06T16:11:50.810Z"
      },
      {
        "duration": 30,
        "start_time": "2022-07-06T16:11:50.858Z"
      },
      {
        "duration": 15,
        "start_time": "2022-07-06T16:11:50.890Z"
      },
      {
        "duration": 18,
        "start_time": "2022-07-06T16:11:50.907Z"
      },
      {
        "duration": 37,
        "start_time": "2022-07-06T16:11:50.930Z"
      },
      {
        "duration": 14,
        "start_time": "2022-07-06T16:11:50.970Z"
      },
      {
        "duration": 46,
        "start_time": "2022-07-06T16:11:50.987Z"
      },
      {
        "duration": 135,
        "start_time": "2022-07-06T16:11:51.042Z"
      },
      {
        "duration": 30,
        "start_time": "2022-07-06T16:11:51.179Z"
      },
      {
        "duration": 21,
        "start_time": "2022-07-06T16:11:51.211Z"
      },
      {
        "duration": 27,
        "start_time": "2022-07-06T16:11:51.233Z"
      },
      {
        "duration": 8,
        "start_time": "2022-07-06T16:11:51.262Z"
      },
      {
        "duration": 11,
        "start_time": "2022-07-06T16:12:01.600Z"
      },
      {
        "duration": 9,
        "start_time": "2022-07-06T16:12:02.659Z"
      },
      {
        "duration": 7,
        "start_time": "2022-07-06T16:12:04.560Z"
      },
      {
        "duration": 9,
        "start_time": "2022-07-06T16:12:05.683Z"
      },
      {
        "duration": 12,
        "start_time": "2022-07-06T16:12:06.638Z"
      },
      {
        "duration": 6,
        "start_time": "2022-07-06T16:13:06.862Z"
      },
      {
        "duration": 22,
        "start_time": "2022-07-06T16:13:06.871Z"
      },
      {
        "duration": 8,
        "start_time": "2022-07-06T16:13:06.895Z"
      },
      {
        "duration": 5,
        "start_time": "2022-07-06T16:14:31.398Z"
      },
      {
        "duration": 7,
        "start_time": "2022-07-06T16:14:32.284Z"
      },
      {
        "duration": 6,
        "start_time": "2022-07-06T16:14:34.093Z"
      },
      {
        "duration": 24,
        "start_time": "2022-07-06T16:15:05.619Z"
      },
      {
        "duration": 6,
        "start_time": "2022-07-06T16:16:05.462Z"
      },
      {
        "duration": 11,
        "start_time": "2022-07-06T16:16:13.685Z"
      },
      {
        "duration": 15,
        "start_time": "2022-07-06T16:16:25.094Z"
      },
      {
        "duration": 20,
        "start_time": "2022-07-06T16:16:36.821Z"
      },
      {
        "duration": 14,
        "start_time": "2022-07-06T16:16:40.193Z"
      },
      {
        "duration": 10,
        "start_time": "2022-07-06T16:17:04.947Z"
      },
      {
        "duration": 9,
        "start_time": "2022-07-06T16:17:07.772Z"
      },
      {
        "duration": 10,
        "start_time": "2022-07-06T16:17:22.077Z"
      },
      {
        "duration": 11,
        "start_time": "2022-07-06T16:17:31.169Z"
      },
      {
        "duration": 9,
        "start_time": "2022-07-06T16:18:25.720Z"
      },
      {
        "duration": 13,
        "start_time": "2022-07-06T16:21:53.589Z"
      },
      {
        "duration": 17,
        "start_time": "2022-07-06T16:22:02.680Z"
      },
      {
        "duration": 13,
        "start_time": "2022-07-06T16:22:08.701Z"
      },
      {
        "duration": 10,
        "start_time": "2022-07-06T16:22:30.189Z"
      },
      {
        "duration": 4,
        "start_time": "2022-07-06T16:23:27.591Z"
      },
      {
        "duration": 444,
        "start_time": "2022-07-06T16:23:27.598Z"
      },
      {
        "duration": 131,
        "start_time": "2022-07-06T16:23:28.046Z"
      },
      {
        "duration": 181,
        "start_time": "2022-07-06T16:23:28.180Z"
      },
      {
        "duration": 90,
        "start_time": "2022-07-06T16:23:28.365Z"
      },
      {
        "duration": 287,
        "start_time": "2022-07-06T16:23:28.457Z"
      },
      {
        "duration": 97,
        "start_time": "2022-07-06T16:23:28.746Z"
      },
      {
        "duration": 75,
        "start_time": "2022-07-06T16:23:28.849Z"
      },
      {
        "duration": 19,
        "start_time": "2022-07-06T16:23:28.927Z"
      },
      {
        "duration": 30,
        "start_time": "2022-07-06T16:23:28.949Z"
      },
      {
        "duration": 17,
        "start_time": "2022-07-06T16:23:28.983Z"
      },
      {
        "duration": 31,
        "start_time": "2022-07-06T16:23:29.003Z"
      },
      {
        "duration": 252,
        "start_time": "2022-07-06T16:23:29.036Z"
      },
      {
        "duration": 262,
        "start_time": "2022-07-06T16:23:29.290Z"
      },
      {
        "duration": 6,
        "start_time": "2022-07-06T16:23:29.554Z"
      },
      {
        "duration": 14,
        "start_time": "2022-07-06T16:23:29.563Z"
      },
      {
        "duration": 20,
        "start_time": "2022-07-06T16:23:29.579Z"
      },
      {
        "duration": 279,
        "start_time": "2022-07-06T16:23:29.600Z"
      },
      {
        "duration": 17,
        "start_time": "2022-07-06T16:23:29.881Z"
      },
      {
        "duration": 201,
        "start_time": "2022-07-06T16:23:29.900Z"
      },
      {
        "duration": 180,
        "start_time": "2022-07-06T16:23:30.104Z"
      },
      {
        "duration": 14,
        "start_time": "2022-07-06T16:23:30.286Z"
      },
      {
        "duration": 204,
        "start_time": "2022-07-06T16:23:30.302Z"
      },
      {
        "duration": 201,
        "start_time": "2022-07-06T16:23:30.508Z"
      },
      {
        "duration": 22,
        "start_time": "2022-07-06T16:23:30.711Z"
      },
      {
        "duration": 24,
        "start_time": "2022-07-06T16:23:30.736Z"
      },
      {
        "duration": 42,
        "start_time": "2022-07-06T16:23:30.763Z"
      },
      {
        "duration": 392,
        "start_time": "2022-07-06T16:23:30.807Z"
      },
      {
        "duration": 25,
        "start_time": "2022-07-06T16:23:31.205Z"
      },
      {
        "duration": 12,
        "start_time": "2022-07-06T16:23:31.232Z"
      },
      {
        "duration": 9,
        "start_time": "2022-07-06T16:23:31.247Z"
      },
      {
        "duration": 19,
        "start_time": "2022-07-06T16:23:31.258Z"
      },
      {
        "duration": 74,
        "start_time": "2022-07-06T16:23:31.279Z"
      },
      {
        "duration": 36,
        "start_time": "2022-07-06T16:23:31.355Z"
      },
      {
        "duration": 56,
        "start_time": "2022-07-06T16:23:31.393Z"
      },
      {
        "duration": 39,
        "start_time": "2022-07-06T16:23:31.451Z"
      },
      {
        "duration": 46,
        "start_time": "2022-07-06T16:23:31.493Z"
      },
      {
        "duration": 23,
        "start_time": "2022-07-06T16:23:31.541Z"
      },
      {
        "duration": 22,
        "start_time": "2022-07-06T16:23:31.566Z"
      },
      {
        "duration": 52,
        "start_time": "2022-07-06T16:23:31.590Z"
      },
      {
        "duration": 12,
        "start_time": "2022-07-06T16:23:31.644Z"
      },
      {
        "duration": 10,
        "start_time": "2022-07-06T16:23:31.659Z"
      },
      {
        "duration": 54,
        "start_time": "2022-07-06T16:23:31.672Z"
      },
      {
        "duration": 18,
        "start_time": "2022-07-06T16:23:31.728Z"
      },
      {
        "duration": 6,
        "start_time": "2022-07-06T16:23:31.749Z"
      },
      {
        "duration": 14,
        "start_time": "2022-07-06T16:23:31.757Z"
      },
      {
        "duration": 19,
        "start_time": "2022-07-06T16:23:31.773Z"
      },
      {
        "duration": 43,
        "start_time": "2022-07-06T16:23:31.794Z"
      },
      {
        "duration": 166,
        "start_time": "2022-07-06T16:23:31.839Z"
      },
      {
        "duration": 46,
        "start_time": "2022-07-06T16:23:32.007Z"
      },
      {
        "duration": 20,
        "start_time": "2022-07-06T16:23:32.055Z"
      },
      {
        "duration": 10,
        "start_time": "2022-07-06T16:23:32.077Z"
      },
      {
        "duration": 42,
        "start_time": "2022-07-06T16:23:32.090Z"
      },
      {
        "duration": 14,
        "start_time": "2022-07-06T16:23:32.134Z"
      },
      {
        "duration": 20,
        "start_time": "2022-07-06T16:23:32.149Z"
      },
      {
        "duration": 8,
        "start_time": "2022-07-06T16:25:38.562Z"
      },
      {
        "duration": 7,
        "start_time": "2022-07-06T16:25:39.495Z"
      },
      {
        "duration": 6,
        "start_time": "2022-07-06T16:25:43.045Z"
      },
      {
        "duration": 14,
        "start_time": "2022-07-06T16:25:43.847Z"
      },
      {
        "duration": 14,
        "start_time": "2022-07-06T16:25:44.895Z"
      },
      {
        "duration": 13,
        "start_time": "2022-07-06T16:29:29.140Z"
      },
      {
        "duration": 21,
        "start_time": "2022-07-06T16:29:48.154Z"
      },
      {
        "duration": 304,
        "start_time": "2022-07-06T16:31:47.533Z"
      },
      {
        "duration": 212,
        "start_time": "2022-07-06T16:32:00.889Z"
      },
      {
        "duration": 204,
        "start_time": "2022-07-06T16:32:02.971Z"
      },
      {
        "duration": 237,
        "start_time": "2022-07-06T16:32:22.816Z"
      },
      {
        "duration": 185,
        "start_time": "2022-07-06T16:32:44.037Z"
      },
      {
        "duration": 163,
        "start_time": "2022-07-06T16:32:51.845Z"
      },
      {
        "duration": 191,
        "start_time": "2022-07-06T16:33:00.957Z"
      },
      {
        "duration": 258,
        "start_time": "2022-07-06T16:33:31.005Z"
      },
      {
        "duration": 272,
        "start_time": "2022-07-06T16:33:59.185Z"
      },
      {
        "duration": 307,
        "start_time": "2022-07-06T16:34:03.189Z"
      },
      {
        "duration": 165,
        "start_time": "2022-07-06T16:34:12.585Z"
      },
      {
        "duration": 184,
        "start_time": "2022-07-06T16:34:18.040Z"
      },
      {
        "duration": 177,
        "start_time": "2022-07-06T16:35:21.600Z"
      },
      {
        "duration": 515,
        "start_time": "2022-07-06T16:35:44.708Z"
      },
      {
        "duration": 166,
        "start_time": "2022-07-06T16:35:50.273Z"
      },
      {
        "duration": 224,
        "start_time": "2022-07-06T16:36:29.357Z"
      },
      {
        "duration": 258,
        "start_time": "2022-07-06T16:36:57.613Z"
      },
      {
        "duration": 184,
        "start_time": "2022-07-06T16:37:11.847Z"
      },
      {
        "duration": 15,
        "start_time": "2022-07-06T16:41:43.314Z"
      },
      {
        "duration": 11,
        "start_time": "2022-07-06T16:42:05.047Z"
      },
      {
        "duration": 13,
        "start_time": "2022-07-06T16:42:05.911Z"
      },
      {
        "duration": 200,
        "start_time": "2022-07-06T16:43:04.443Z"
      },
      {
        "duration": 12,
        "start_time": "2022-07-06T16:43:06.395Z"
      },
      {
        "duration": 20,
        "start_time": "2022-07-06T16:43:14.106Z"
      },
      {
        "duration": 217,
        "start_time": "2022-07-06T16:43:16.850Z"
      },
      {
        "duration": 217,
        "start_time": "2022-07-06T16:43:44.457Z"
      },
      {
        "duration": 233,
        "start_time": "2022-07-06T16:43:45.710Z"
      },
      {
        "duration": 9,
        "start_time": "2022-07-06T16:43:49.414Z"
      },
      {
        "duration": 11,
        "start_time": "2022-07-06T16:43:50.874Z"
      },
      {
        "duration": 185,
        "start_time": "2022-07-06T16:43:55.530Z"
      },
      {
        "duration": 192,
        "start_time": "2022-07-06T16:43:57.042Z"
      },
      {
        "duration": 207,
        "start_time": "2022-07-06T16:44:17.370Z"
      },
      {
        "duration": 199,
        "start_time": "2022-07-06T16:44:27.114Z"
      },
      {
        "duration": 8,
        "start_time": "2022-07-06T16:45:38.734Z"
      },
      {
        "duration": 9,
        "start_time": "2022-07-06T16:46:54.275Z"
      },
      {
        "duration": 11,
        "start_time": "2022-07-06T16:46:55.292Z"
      },
      {
        "duration": 11,
        "start_time": "2022-07-06T16:46:57.058Z"
      },
      {
        "duration": 10,
        "start_time": "2022-07-06T16:47:01.394Z"
      },
      {
        "duration": 344,
        "start_time": "2022-07-06T16:48:32.972Z"
      },
      {
        "duration": 283,
        "start_time": "2022-07-06T16:48:34.551Z"
      },
      {
        "duration": 296,
        "start_time": "2022-07-06T16:48:50.876Z"
      },
      {
        "duration": 189,
        "start_time": "2022-07-06T16:48:54.468Z"
      },
      {
        "duration": 197,
        "start_time": "2022-07-06T16:49:02.111Z"
      },
      {
        "duration": 195,
        "start_time": "2022-07-06T16:49:05.563Z"
      },
      {
        "duration": 155,
        "start_time": "2022-07-06T16:49:20.287Z"
      },
      {
        "duration": 218,
        "start_time": "2022-07-06T16:49:22.047Z"
      },
      {
        "duration": 7,
        "start_time": "2022-07-06T16:54:19.479Z"
      },
      {
        "duration": 5,
        "start_time": "2022-07-06T17:05:22.494Z"
      },
      {
        "duration": 4,
        "start_time": "2022-07-06T17:06:09.454Z"
      },
      {
        "duration": 5,
        "start_time": "2022-07-06T17:06:15.246Z"
      },
      {
        "duration": 5,
        "start_time": "2022-07-06T17:06:26.078Z"
      },
      {
        "duration": 4,
        "start_time": "2022-07-06T17:06:37.482Z"
      },
      {
        "duration": 6,
        "start_time": "2022-07-06T17:06:41.770Z"
      },
      {
        "duration": 5,
        "start_time": "2022-07-06T17:06:42.740Z"
      },
      {
        "duration": 3,
        "start_time": "2022-07-06T17:08:09.546Z"
      },
      {
        "duration": 4,
        "start_time": "2022-07-06T17:08:18.798Z"
      },
      {
        "duration": 646,
        "start_time": "2022-07-06T17:11:06.861Z"
      },
      {
        "duration": 62,
        "start_time": "2022-07-06T17:11:12.472Z"
      },
      {
        "duration": 759,
        "start_time": "2022-07-06T17:11:22.282Z"
      },
      {
        "duration": 17,
        "start_time": "2022-07-06T17:11:44.973Z"
      },
      {
        "duration": 4,
        "start_time": "2022-07-06T17:11:59.781Z"
      },
      {
        "duration": 4,
        "start_time": "2022-07-06T17:12:13.457Z"
      },
      {
        "duration": 4,
        "start_time": "2022-07-06T17:14:23.281Z"
      },
      {
        "duration": 14,
        "start_time": "2022-07-06T17:14:51.685Z"
      },
      {
        "duration": 6,
        "start_time": "2022-07-06T17:14:55.481Z"
      },
      {
        "duration": 4,
        "start_time": "2022-07-06T17:14:59.525Z"
      },
      {
        "duration": 5,
        "start_time": "2022-07-06T17:15:59.756Z"
      },
      {
        "duration": 5,
        "start_time": "2022-07-06T17:16:06.181Z"
      },
      {
        "duration": 5,
        "start_time": "2022-07-06T17:16:21.661Z"
      },
      {
        "duration": 6,
        "start_time": "2022-07-06T17:16:47.164Z"
      },
      {
        "duration": 6,
        "start_time": "2022-07-06T17:16:51.709Z"
      },
      {
        "duration": 67,
        "start_time": "2022-07-06T17:24:01.495Z"
      },
      {
        "duration": 5,
        "start_time": "2022-07-06T17:24:11.511Z"
      },
      {
        "duration": 3,
        "start_time": "2022-07-06T17:24:14.367Z"
      },
      {
        "duration": 6,
        "start_time": "2022-07-06T17:24:33.643Z"
      },
      {
        "duration": 4,
        "start_time": "2022-07-06T17:25:43.547Z"
      },
      {
        "duration": 3,
        "start_time": "2022-07-06T17:25:45.295Z"
      },
      {
        "duration": 4,
        "start_time": "2022-07-06T17:26:27.859Z"
      },
      {
        "duration": 5,
        "start_time": "2022-07-06T17:26:41.313Z"
      },
      {
        "duration": 4,
        "start_time": "2022-07-06T17:28:32.657Z"
      },
      {
        "duration": 52,
        "start_time": "2022-07-06T17:28:33.679Z"
      },
      {
        "duration": 5,
        "start_time": "2022-07-06T17:28:36.351Z"
      },
      {
        "duration": 6,
        "start_time": "2022-07-06T17:28:37.143Z"
      },
      {
        "duration": 4,
        "start_time": "2022-07-06T17:28:38.591Z"
      },
      {
        "duration": 4,
        "start_time": "2022-07-06T17:31:16.186Z"
      },
      {
        "duration": 13,
        "start_time": "2022-07-06T17:34:16.757Z"
      },
      {
        "duration": 18,
        "start_time": "2022-07-06T17:34:25.369Z"
      },
      {
        "duration": 4,
        "start_time": "2022-07-06T17:34:51.309Z"
      },
      {
        "duration": 5,
        "start_time": "2022-07-06T17:34:52.569Z"
      },
      {
        "duration": 4,
        "start_time": "2022-07-06T17:34:56.977Z"
      },
      {
        "duration": 4,
        "start_time": "2022-07-06T17:34:58.177Z"
      },
      {
        "duration": 6,
        "start_time": "2022-07-06T17:37:58.887Z"
      },
      {
        "duration": 4,
        "start_time": "2022-07-06T17:38:36.625Z"
      },
      {
        "duration": 7,
        "start_time": "2022-07-06T17:38:43.821Z"
      },
      {
        "duration": 7,
        "start_time": "2022-07-06T17:38:44.599Z"
      },
      {
        "duration": 5,
        "start_time": "2022-07-06T20:11:03.341Z"
      },
      {
        "duration": 13,
        "start_time": "2022-07-06T20:19:47.805Z"
      },
      {
        "duration": 17,
        "start_time": "2022-07-06T20:20:48.961Z"
      },
      {
        "duration": 14,
        "start_time": "2022-07-06T20:20:54.485Z"
      },
      {
        "duration": 13,
        "start_time": "2022-07-06T20:31:11.377Z"
      },
      {
        "duration": 1513,
        "start_time": "2022-07-06T20:31:49.169Z"
      },
      {
        "duration": 1556,
        "start_time": "2022-07-06T20:32:26.317Z"
      },
      {
        "duration": 1735,
        "start_time": "2022-07-06T20:32:49.466Z"
      },
      {
        "duration": 1540,
        "start_time": "2022-07-06T20:33:00.373Z"
      },
      {
        "duration": 5,
        "start_time": "2022-07-06T20:36:04.768Z"
      },
      {
        "duration": 22,
        "start_time": "2022-07-06T20:36:51.645Z"
      },
      {
        "duration": 16,
        "start_time": "2022-07-06T20:38:32.837Z"
      },
      {
        "duration": 16,
        "start_time": "2022-07-06T20:39:01.848Z"
      },
      {
        "duration": 466,
        "start_time": "2022-07-06T20:39:20.052Z"
      },
      {
        "duration": 481,
        "start_time": "2022-07-06T20:39:25.364Z"
      },
      {
        "duration": 521,
        "start_time": "2022-07-06T20:39:42.304Z"
      },
      {
        "duration": 693,
        "start_time": "2022-07-06T20:39:53.501Z"
      },
      {
        "duration": 1161,
        "start_time": "2022-07-06T20:40:11.012Z"
      },
      {
        "duration": 1362,
        "start_time": "2022-07-06T20:40:20.985Z"
      },
      {
        "duration": 180,
        "start_time": "2022-07-06T20:41:37.772Z"
      },
      {
        "duration": 146,
        "start_time": "2022-07-06T20:43:50.128Z"
      },
      {
        "duration": 569,
        "start_time": "2022-07-06T20:45:02.508Z"
      },
      {
        "duration": 184,
        "start_time": "2022-07-06T20:45:19.596Z"
      },
      {
        "duration": 195,
        "start_time": "2022-07-06T20:45:45.368Z"
      },
      {
        "duration": 175,
        "start_time": "2022-07-06T20:45:57.485Z"
      },
      {
        "duration": 190,
        "start_time": "2022-07-06T20:47:45.579Z"
      },
      {
        "duration": 174,
        "start_time": "2022-07-06T20:48:03.088Z"
      },
      {
        "duration": 120,
        "start_time": "2022-07-06T20:52:47.540Z"
      },
      {
        "duration": 419,
        "start_time": "2022-07-06T20:52:57.345Z"
      },
      {
        "duration": 449,
        "start_time": "2022-07-06T20:53:19.512Z"
      },
      {
        "duration": 478,
        "start_time": "2022-07-06T20:54:32.575Z"
      },
      {
        "duration": 412,
        "start_time": "2022-07-06T20:54:56.676Z"
      },
      {
        "duration": 461,
        "start_time": "2022-07-06T20:55:39.011Z"
      },
      {
        "duration": 405,
        "start_time": "2022-07-06T20:56:41.891Z"
      },
      {
        "duration": 400,
        "start_time": "2022-07-06T20:56:55.507Z"
      },
      {
        "duration": 406,
        "start_time": "2022-07-06T20:56:59.859Z"
      },
      {
        "duration": 30,
        "start_time": "2022-07-06T20:57:08.867Z"
      },
      {
        "duration": 452,
        "start_time": "2022-07-06T20:57:12.395Z"
      },
      {
        "duration": 441,
        "start_time": "2022-07-06T20:57:25.031Z"
      },
      {
        "duration": 472,
        "start_time": "2022-07-06T20:57:49.955Z"
      },
      {
        "duration": 431,
        "start_time": "2022-07-06T20:58:42.599Z"
      },
      {
        "duration": 422,
        "start_time": "2022-07-06T20:58:50.975Z"
      },
      {
        "duration": 430,
        "start_time": "2022-07-06T20:59:00.279Z"
      },
      {
        "duration": 61,
        "start_time": "2022-07-06T20:59:55.491Z"
      },
      {
        "duration": 785,
        "start_time": "2022-07-06T20:59:58.907Z"
      },
      {
        "duration": 21,
        "start_time": "2022-07-06T21:00:12.726Z"
      },
      {
        "duration": 786,
        "start_time": "2022-07-06T21:00:20.515Z"
      },
      {
        "duration": 906,
        "start_time": "2022-07-06T21:00:23.163Z"
      },
      {
        "duration": 906,
        "start_time": "2022-07-06T21:00:35.171Z"
      },
      {
        "duration": 15,
        "start_time": "2022-07-06T21:00:50.047Z"
      },
      {
        "duration": 20,
        "start_time": "2022-07-06T21:00:53.475Z"
      },
      {
        "duration": 20,
        "start_time": "2022-07-06T21:01:05.175Z"
      },
      {
        "duration": 26,
        "start_time": "2022-07-06T21:01:18.875Z"
      },
      {
        "duration": 28,
        "start_time": "2022-07-06T21:01:23.631Z"
      },
      {
        "duration": 16,
        "start_time": "2022-07-06T21:02:19.615Z"
      },
      {
        "duration": 12,
        "start_time": "2022-07-06T21:02:21.775Z"
      },
      {
        "duration": 4,
        "start_time": "2022-07-06T21:02:25.862Z"
      },
      {
        "duration": 538,
        "start_time": "2022-07-06T21:02:25.868Z"
      },
      {
        "duration": 157,
        "start_time": "2022-07-06T21:02:26.408Z"
      },
      {
        "duration": 135,
        "start_time": "2022-07-06T21:02:26.566Z"
      },
      {
        "duration": 90,
        "start_time": "2022-07-06T21:02:26.704Z"
      },
      {
        "duration": 303,
        "start_time": "2022-07-06T21:02:26.796Z"
      },
      {
        "duration": 92,
        "start_time": "2022-07-06T21:02:27.101Z"
      },
      {
        "duration": 69,
        "start_time": "2022-07-06T21:02:27.195Z"
      },
      {
        "duration": 7,
        "start_time": "2022-07-06T21:02:27.266Z"
      },
      {
        "duration": 11,
        "start_time": "2022-07-06T21:02:27.275Z"
      },
      {
        "duration": 10,
        "start_time": "2022-07-06T21:02:27.289Z"
      },
      {
        "duration": 201,
        "start_time": "2022-07-06T21:02:27.323Z"
      },
      {
        "duration": 297,
        "start_time": "2022-07-06T21:02:27.526Z"
      },
      {
        "duration": 12,
        "start_time": "2022-07-06T21:02:27.826Z"
      },
      {
        "duration": 14,
        "start_time": "2022-07-06T21:02:27.841Z"
      },
      {
        "duration": 18,
        "start_time": "2022-07-06T21:02:27.858Z"
      },
      {
        "duration": 298,
        "start_time": "2022-07-06T21:02:27.878Z"
      },
      {
        "duration": 20,
        "start_time": "2022-07-06T21:02:28.178Z"
      },
      {
        "duration": 235,
        "start_time": "2022-07-06T21:02:28.200Z"
      },
      {
        "duration": 212,
        "start_time": "2022-07-06T21:02:28.441Z"
      },
      {
        "duration": 13,
        "start_time": "2022-07-06T21:02:28.655Z"
      },
      {
        "duration": 222,
        "start_time": "2022-07-06T21:02:28.670Z"
      },
      {
        "duration": 279,
        "start_time": "2022-07-06T21:02:28.894Z"
      },
      {
        "duration": 14,
        "start_time": "2022-07-06T21:02:29.176Z"
      },
      {
        "duration": 7,
        "start_time": "2022-07-06T21:02:29.193Z"
      },
      {
        "duration": 42,
        "start_time": "2022-07-06T21:02:29.202Z"
      },
      {
        "duration": 399,
        "start_time": "2022-07-06T21:02:29.248Z"
      },
      {
        "duration": 17,
        "start_time": "2022-07-06T21:02:29.650Z"
      },
      {
        "duration": 9,
        "start_time": "2022-07-06T21:02:29.672Z"
      },
      {
        "duration": 7,
        "start_time": "2022-07-06T21:02:29.683Z"
      },
      {
        "duration": 53,
        "start_time": "2022-07-06T21:02:29.691Z"
      },
      {
        "duration": 49,
        "start_time": "2022-07-06T21:02:29.756Z"
      },
      {
        "duration": 64,
        "start_time": "2022-07-06T21:02:29.807Z"
      },
      {
        "duration": 35,
        "start_time": "2022-07-06T21:02:29.872Z"
      },
      {
        "duration": 58,
        "start_time": "2022-07-06T21:02:29.910Z"
      },
      {
        "duration": 28,
        "start_time": "2022-07-06T21:02:29.971Z"
      },
      {
        "duration": 37,
        "start_time": "2022-07-06T21:02:30.001Z"
      },
      {
        "duration": 27,
        "start_time": "2022-07-06T21:02:30.040Z"
      },
      {
        "duration": 20,
        "start_time": "2022-07-06T21:02:30.069Z"
      },
      {
        "duration": 52,
        "start_time": "2022-07-06T21:02:30.091Z"
      },
      {
        "duration": 21,
        "start_time": "2022-07-06T21:02:30.146Z"
      },
      {
        "duration": 47,
        "start_time": "2022-07-06T21:02:30.169Z"
      },
      {
        "duration": 53,
        "start_time": "2022-07-06T21:02:30.218Z"
      },
      {
        "duration": 8,
        "start_time": "2022-07-06T21:02:30.273Z"
      },
      {
        "duration": 23,
        "start_time": "2022-07-06T21:02:30.283Z"
      },
      {
        "duration": 29,
        "start_time": "2022-07-06T21:02:30.308Z"
      },
      {
        "duration": 34,
        "start_time": "2022-07-06T21:02:30.340Z"
      },
      {
        "duration": 177,
        "start_time": "2022-07-06T21:02:30.376Z"
      },
      {
        "duration": 32,
        "start_time": "2022-07-06T21:02:30.555Z"
      },
      {
        "duration": 35,
        "start_time": "2022-07-06T21:02:30.589Z"
      },
      {
        "duration": 51,
        "start_time": "2022-07-06T21:02:30.626Z"
      },
      {
        "duration": 52,
        "start_time": "2022-07-06T21:02:30.679Z"
      },
      {
        "duration": 504,
        "start_time": "2022-07-06T21:02:30.734Z"
      },
      {
        "duration": 496,
        "start_time": "2022-07-06T21:02:31.241Z"
      },
      {
        "duration": 6,
        "start_time": "2022-07-06T21:02:31.739Z"
      },
      {
        "duration": 12,
        "start_time": "2022-07-06T21:02:31.753Z"
      },
      {
        "duration": 7,
        "start_time": "2022-07-06T21:02:31.767Z"
      },
      {
        "duration": 56,
        "start_time": "2022-07-06T21:02:31.776Z"
      },
      {
        "duration": 16,
        "start_time": "2022-07-06T21:02:31.834Z"
      },
      {
        "duration": 486,
        "start_time": "2022-07-06T21:02:31.854Z"
      },
      {
        "duration": 513,
        "start_time": "2022-07-06T21:02:32.343Z"
      },
      {
        "duration": 5,
        "start_time": "2022-07-06T21:02:32.858Z"
      },
      {
        "duration": 67,
        "start_time": "2022-07-06T21:02:32.865Z"
      },
      {
        "duration": 24,
        "start_time": "2022-07-06T21:02:32.934Z"
      },
      {
        "duration": 9,
        "start_time": "2022-07-06T21:02:32.960Z"
      },
      {
        "duration": 558,
        "start_time": "2022-07-06T21:02:32.971Z"
      },
      {
        "duration": 298,
        "start_time": "2022-07-06T21:02:33.533Z"
      },
      {
        "duration": 8,
        "start_time": "2022-07-06T21:02:33.835Z"
      },
      {
        "duration": 10,
        "start_time": "2022-07-06T21:02:33.846Z"
      },
      {
        "duration": 67,
        "start_time": "2022-07-06T21:02:33.858Z"
      },
      {
        "duration": 12,
        "start_time": "2022-07-06T21:02:33.927Z"
      },
      {
        "duration": 238,
        "start_time": "2022-07-06T21:02:33.941Z"
      },
      {
        "duration": 248,
        "start_time": "2022-07-06T21:02:34.181Z"
      },
      {
        "duration": 3,
        "start_time": "2022-07-06T21:04:00.179Z"
      },
      {
        "duration": 9,
        "start_time": "2022-07-06T21:04:01.606Z"
      },
      {
        "duration": 6,
        "start_time": "2022-07-06T21:07:07.278Z"
      },
      {
        "duration": 9,
        "start_time": "2022-07-06T21:07:20.002Z"
      },
      {
        "duration": 16,
        "start_time": "2022-07-06T21:07:50.962Z"
      },
      {
        "duration": 63,
        "start_time": "2022-07-06T21:08:01.718Z"
      },
      {
        "duration": 62,
        "start_time": "2022-07-06T21:08:09.094Z"
      },
      {
        "duration": 73,
        "start_time": "2022-07-06T21:08:56.603Z"
      },
      {
        "duration": 7,
        "start_time": "2022-07-06T21:09:06.102Z"
      },
      {
        "duration": 9,
        "start_time": "2022-07-06T21:09:09.183Z"
      },
      {
        "duration": 11,
        "start_time": "2022-07-06T21:09:10.579Z"
      },
      {
        "duration": 9,
        "start_time": "2022-07-06T21:09:43.044Z"
      },
      {
        "duration": 9,
        "start_time": "2022-07-06T21:09:44.659Z"
      },
      {
        "duration": 5,
        "start_time": "2022-07-06T21:09:59.203Z"
      },
      {
        "duration": 18,
        "start_time": "2022-07-06T21:10:00.722Z"
      },
      {
        "duration": 4,
        "start_time": "2022-07-06T21:10:06.360Z"
      },
      {
        "duration": 467,
        "start_time": "2022-07-06T21:10:06.367Z"
      },
      {
        "duration": 139,
        "start_time": "2022-07-06T21:10:06.836Z"
      },
      {
        "duration": 149,
        "start_time": "2022-07-06T21:10:06.977Z"
      },
      {
        "duration": 63,
        "start_time": "2022-07-06T21:10:07.128Z"
      },
      {
        "duration": 255,
        "start_time": "2022-07-06T21:10:07.224Z"
      },
      {
        "duration": 101,
        "start_time": "2022-07-06T21:10:07.480Z"
      },
      {
        "duration": 68,
        "start_time": "2022-07-06T21:10:07.584Z"
      },
      {
        "duration": 6,
        "start_time": "2022-07-06T21:10:07.655Z"
      },
      {
        "duration": 13,
        "start_time": "2022-07-06T21:10:07.663Z"
      },
      {
        "duration": 11,
        "start_time": "2022-07-06T21:10:07.678Z"
      },
      {
        "duration": 224,
        "start_time": "2022-07-06T21:10:07.691Z"
      },
      {
        "duration": 286,
        "start_time": "2022-07-06T21:10:07.916Z"
      },
      {
        "duration": 6,
        "start_time": "2022-07-06T21:10:08.204Z"
      },
      {
        "duration": 18,
        "start_time": "2022-07-06T21:10:08.212Z"
      },
      {
        "duration": 33,
        "start_time": "2022-07-06T21:10:08.233Z"
      },
      {
        "duration": 279,
        "start_time": "2022-07-06T21:10:08.268Z"
      },
      {
        "duration": 16,
        "start_time": "2022-07-06T21:10:08.549Z"
      },
      {
        "duration": 221,
        "start_time": "2022-07-06T21:10:08.567Z"
      },
      {
        "duration": 236,
        "start_time": "2022-07-06T21:10:08.790Z"
      },
      {
        "duration": 19,
        "start_time": "2022-07-06T21:10:09.029Z"
      },
      {
        "duration": 235,
        "start_time": "2022-07-06T21:10:09.050Z"
      },
      {
        "duration": 216,
        "start_time": "2022-07-06T21:10:09.288Z"
      },
      {
        "duration": 9,
        "start_time": "2022-07-06T21:10:09.508Z"
      },
      {
        "duration": 20,
        "start_time": "2022-07-06T21:10:09.526Z"
      },
      {
        "duration": 13,
        "start_time": "2022-07-06T21:10:09.549Z"
      },
      {
        "duration": 426,
        "start_time": "2022-07-06T21:10:09.565Z"
      },
      {
        "duration": 14,
        "start_time": "2022-07-06T21:10:09.993Z"
      },
      {
        "duration": 26,
        "start_time": "2022-07-06T21:10:10.009Z"
      },
      {
        "duration": 32,
        "start_time": "2022-07-06T21:10:10.037Z"
      },
      {
        "duration": 10,
        "start_time": "2022-07-06T21:10:10.072Z"
      },
      {
        "duration": 14,
        "start_time": "2022-07-06T21:10:10.084Z"
      },
      {
        "duration": 60,
        "start_time": "2022-07-06T21:10:10.101Z"
      },
      {
        "duration": 45,
        "start_time": "2022-07-06T21:10:10.163Z"
      },
      {
        "duration": 42,
        "start_time": "2022-07-06T21:10:10.223Z"
      },
      {
        "duration": 37,
        "start_time": "2022-07-06T21:10:10.267Z"
      },
      {
        "duration": 32,
        "start_time": "2022-07-06T21:10:10.324Z"
      },
      {
        "duration": 15,
        "start_time": "2022-07-06T21:10:10.358Z"
      },
      {
        "duration": 17,
        "start_time": "2022-07-06T21:10:10.375Z"
      },
      {
        "duration": 25,
        "start_time": "2022-07-06T21:10:10.423Z"
      },
      {
        "duration": 15,
        "start_time": "2022-07-06T21:10:10.450Z"
      },
      {
        "duration": 14,
        "start_time": "2022-07-06T21:10:10.467Z"
      },
      {
        "duration": 42,
        "start_time": "2022-07-06T21:10:10.483Z"
      },
      {
        "duration": 18,
        "start_time": "2022-07-06T21:10:10.527Z"
      },
      {
        "duration": 5,
        "start_time": "2022-07-06T21:10:10.550Z"
      },
      {
        "duration": 11,
        "start_time": "2022-07-06T21:10:10.557Z"
      },
      {
        "duration": 11,
        "start_time": "2022-07-06T21:10:10.569Z"
      },
      {
        "duration": 19,
        "start_time": "2022-07-06T21:10:10.582Z"
      },
      {
        "duration": 153,
        "start_time": "2022-07-06T21:10:10.628Z"
      },
      {
        "duration": 63,
        "start_time": "2022-07-06T21:10:10.783Z"
      },
      {
        "duration": 5,
        "start_time": "2022-07-06T21:10:10.848Z"
      },
      {
        "duration": 14,
        "start_time": "2022-07-06T21:10:10.855Z"
      },
      {
        "duration": 45,
        "start_time": "2022-07-06T21:10:10.929Z"
      },
      {
        "duration": 449,
        "start_time": "2022-07-06T21:10:10.975Z"
      },
      {
        "duration": 522,
        "start_time": "2022-07-06T21:10:11.427Z"
      },
      {
        "duration": 5,
        "start_time": "2022-07-06T21:10:11.952Z"
      },
      {
        "duration": 11,
        "start_time": "2022-07-06T21:10:11.959Z"
      },
      {
        "duration": 55,
        "start_time": "2022-07-06T21:10:11.972Z"
      },
      {
        "duration": 40,
        "start_time": "2022-07-06T21:10:12.030Z"
      },
      {
        "duration": 55,
        "start_time": "2022-07-06T21:10:12.072Z"
      },
      {
        "duration": 526,
        "start_time": "2022-07-06T21:10:12.130Z"
      },
      {
        "duration": 467,
        "start_time": "2022-07-06T21:10:12.658Z"
      },
      {
        "duration": 12,
        "start_time": "2022-07-06T21:10:13.128Z"
      },
      {
        "duration": 12,
        "start_time": "2022-07-06T21:10:13.143Z"
      },
      {
        "duration": 11,
        "start_time": "2022-07-06T21:10:13.158Z"
      },
      {
        "duration": 64,
        "start_time": "2022-07-06T21:10:13.171Z"
      },
      {
        "duration": 902,
        "start_time": "2022-07-06T21:10:13.237Z"
      },
      {
        "duration": 188,
        "start_time": "2022-07-06T21:10:14.145Z"
      },
      {
        "duration": 7,
        "start_time": "2022-07-06T21:10:14.340Z"
      },
      {
        "duration": 9,
        "start_time": "2022-07-06T21:10:14.350Z"
      },
      {
        "duration": 22,
        "start_time": "2022-07-06T21:10:14.361Z"
      },
      {
        "duration": 41,
        "start_time": "2022-07-06T21:10:14.385Z"
      },
      {
        "duration": 169,
        "start_time": "2022-07-06T21:10:14.428Z"
      },
      {
        "duration": 199,
        "start_time": "2022-07-06T21:10:14.599Z"
      },
      {
        "duration": 4,
        "start_time": "2022-07-06T21:10:39.482Z"
      },
      {
        "duration": 8,
        "start_time": "2022-07-06T21:10:40.690Z"
      },
      {
        "duration": 4,
        "start_time": "2022-07-06T21:11:02.998Z"
      },
      {
        "duration": 8,
        "start_time": "2022-07-06T21:11:04.358Z"
      },
      {
        "duration": 22,
        "start_time": "2022-07-06T21:12:33.722Z"
      },
      {
        "duration": 14,
        "start_time": "2022-07-06T21:12:49.874Z"
      },
      {
        "duration": 50,
        "start_time": "2022-07-06T21:14:51.571Z"
      },
      {
        "duration": 5,
        "start_time": "2022-07-06T21:14:54.982Z"
      },
      {
        "duration": 9,
        "start_time": "2022-07-06T21:14:55.993Z"
      },
      {
        "duration": 5,
        "start_time": "2022-07-06T21:15:02.522Z"
      },
      {
        "duration": 8,
        "start_time": "2022-07-06T21:15:03.635Z"
      },
      {
        "duration": 5,
        "start_time": "2022-07-06T21:16:16.150Z"
      },
      {
        "duration": 10,
        "start_time": "2022-07-06T21:16:18.050Z"
      },
      {
        "duration": 5,
        "start_time": "2022-07-06T21:16:22.906Z"
      },
      {
        "duration": 16,
        "start_time": "2022-07-06T21:16:25.831Z"
      },
      {
        "duration": 6,
        "start_time": "2022-07-06T21:16:43.135Z"
      },
      {
        "duration": 12,
        "start_time": "2022-07-06T21:16:44.934Z"
      },
      {
        "duration": 9,
        "start_time": "2022-07-06T21:16:45.897Z"
      },
      {
        "duration": 5,
        "start_time": "2022-07-06T21:17:46.910Z"
      },
      {
        "duration": 3,
        "start_time": "2022-07-06T21:17:50.054Z"
      },
      {
        "duration": 9,
        "start_time": "2022-07-06T21:17:50.801Z"
      },
      {
        "duration": 9,
        "start_time": "2022-07-06T21:17:52.190Z"
      },
      {
        "duration": 3,
        "start_time": "2022-07-06T21:17:56.390Z"
      },
      {
        "duration": 460,
        "start_time": "2022-07-06T21:17:56.394Z"
      },
      {
        "duration": 127,
        "start_time": "2022-07-06T21:17:56.856Z"
      },
      {
        "duration": 119,
        "start_time": "2022-07-06T21:17:56.985Z"
      },
      {
        "duration": 62,
        "start_time": "2022-07-06T21:17:57.124Z"
      },
      {
        "duration": 285,
        "start_time": "2022-07-06T21:17:57.187Z"
      },
      {
        "duration": 94,
        "start_time": "2022-07-06T21:17:57.473Z"
      },
      {
        "duration": 60,
        "start_time": "2022-07-06T21:17:57.569Z"
      },
      {
        "duration": 10,
        "start_time": "2022-07-06T21:17:57.632Z"
      },
      {
        "duration": 15,
        "start_time": "2022-07-06T21:17:57.644Z"
      },
      {
        "duration": 10,
        "start_time": "2022-07-06T21:17:57.662Z"
      },
      {
        "duration": 206,
        "start_time": "2022-07-06T21:17:57.674Z"
      },
      {
        "duration": 277,
        "start_time": "2022-07-06T21:17:57.882Z"
      },
      {
        "duration": 5,
        "start_time": "2022-07-06T21:17:58.161Z"
      },
      {
        "duration": 16,
        "start_time": "2022-07-06T21:17:58.167Z"
      },
      {
        "duration": 53,
        "start_time": "2022-07-06T21:17:58.185Z"
      },
      {
        "duration": 584,
        "start_time": "2022-07-06T21:17:58.240Z"
      },
      {
        "duration": 20,
        "start_time": "2022-07-06T21:17:58.827Z"
      },
      {
        "duration": 499,
        "start_time": "2022-07-06T21:17:58.849Z"
      },
      {
        "duration": 407,
        "start_time": "2022-07-06T21:17:59.349Z"
      },
      {
        "duration": 66,
        "start_time": "2022-07-06T21:17:59.758Z"
      },
      {
        "duration": 346,
        "start_time": "2022-07-06T21:17:59.826Z"
      },
      {
        "duration": 500,
        "start_time": "2022-07-06T21:18:00.224Z"
      },
      {
        "duration": 24,
        "start_time": "2022-07-06T21:18:00.728Z"
      },
      {
        "duration": 29,
        "start_time": "2022-07-06T21:18:00.754Z"
      },
      {
        "duration": 33,
        "start_time": "2022-07-06T21:18:00.824Z"
      },
      {
        "duration": 966,
        "start_time": "2022-07-06T21:18:00.858Z"
      },
      {
        "duration": 19,
        "start_time": "2022-07-06T21:18:01.827Z"
      },
      {
        "duration": 82,
        "start_time": "2022-07-06T21:18:01.852Z"
      },
      {
        "duration": 10,
        "start_time": "2022-07-06T21:18:01.937Z"
      },
      {
        "duration": 7,
        "start_time": "2022-07-06T21:18:01.949Z"
      },
      {
        "duration": 9,
        "start_time": "2022-07-06T21:18:01.959Z"
      },
      {
        "duration": 64,
        "start_time": "2022-07-06T21:18:01.970Z"
      },
      {
        "duration": 104,
        "start_time": "2022-07-06T21:18:02.037Z"
      },
      {
        "duration": 102,
        "start_time": "2022-07-06T21:18:02.143Z"
      },
      {
        "duration": 101,
        "start_time": "2022-07-06T21:18:02.248Z"
      },
      {
        "duration": 103,
        "start_time": "2022-07-06T21:18:02.352Z"
      },
      {
        "duration": 81,
        "start_time": "2022-07-06T21:18:02.457Z"
      },
      {
        "duration": 19,
        "start_time": "2022-07-06T21:18:02.540Z"
      },
      {
        "duration": 80,
        "start_time": "2022-07-06T21:18:02.561Z"
      },
      {
        "duration": 78,
        "start_time": "2022-07-06T21:18:02.644Z"
      },
      {
        "duration": 16,
        "start_time": "2022-07-06T21:18:02.725Z"
      },
      {
        "duration": 19,
        "start_time": "2022-07-06T21:18:02.743Z"
      },
      {
        "duration": 81,
        "start_time": "2022-07-06T21:18:02.765Z"
      },
      {
        "duration": 17,
        "start_time": "2022-07-06T21:18:02.848Z"
      },
      {
        "duration": 60,
        "start_time": "2022-07-06T21:18:02.867Z"
      },
      {
        "duration": 34,
        "start_time": "2022-07-06T21:18:02.929Z"
      },
      {
        "duration": 11,
        "start_time": "2022-07-06T21:18:02.966Z"
      },
      {
        "duration": 66,
        "start_time": "2022-07-06T21:18:02.980Z"
      },
      {
        "duration": 299,
        "start_time": "2022-07-06T21:18:03.048Z"
      },
      {
        "duration": 84,
        "start_time": "2022-07-06T21:18:03.349Z"
      },
      {
        "duration": 7,
        "start_time": "2022-07-06T21:18:03.435Z"
      },
      {
        "duration": 17,
        "start_time": "2022-07-06T21:18:03.444Z"
      },
      {
        "duration": 8,
        "start_time": "2022-07-06T21:18:03.463Z"
      },
      {
        "duration": 464,
        "start_time": "2022-07-06T21:18:03.473Z"
      },
      {
        "duration": 412,
        "start_time": "2022-07-06T21:18:03.940Z"
      },
      {
        "duration": 3,
        "start_time": "2022-07-06T21:18:04.354Z"
      },
      {
        "duration": 8,
        "start_time": "2022-07-06T21:18:04.360Z"
      },
      {
        "duration": 59,
        "start_time": "2022-07-06T21:18:04.370Z"
      },
      {
        "duration": 38,
        "start_time": "2022-07-06T21:18:04.431Z"
      },
      {
        "duration": 13,
        "start_time": "2022-07-06T21:18:04.471Z"
      },
      {
        "duration": 441,
        "start_time": "2022-07-06T21:18:04.486Z"
      },
      {
        "duration": 333,
        "start_time": "2022-07-06T21:18:04.929Z"
      },
      {
        "duration": 4,
        "start_time": "2022-07-06T21:18:05.264Z"
      },
      {
        "duration": 62,
        "start_time": "2022-07-06T21:18:05.269Z"
      },
      {
        "duration": 32,
        "start_time": "2022-07-06T21:18:05.333Z"
      },
      {
        "duration": 10,
        "start_time": "2022-07-06T21:18:05.367Z"
      },
      {
        "duration": 375,
        "start_time": "2022-07-06T21:18:05.379Z"
      },
      {
        "duration": 402,
        "start_time": "2022-07-06T21:18:05.756Z"
      },
      {
        "duration": 4,
        "start_time": "2022-07-06T21:18:06.160Z"
      },
      {
        "duration": 59,
        "start_time": "2022-07-06T21:18:06.166Z"
      },
      {
        "duration": 32,
        "start_time": "2022-07-06T21:18:06.227Z"
      },
      {
        "duration": 64,
        "start_time": "2022-07-06T21:18:06.261Z"
      },
      {
        "duration": 326,
        "start_time": "2022-07-06T21:18:06.327Z"
      },
      {
        "duration": 368,
        "start_time": "2022-07-06T21:18:06.655Z"
      },
      {
        "duration": 3,
        "start_time": "2022-07-06T21:18:12.214Z"
      },
      {
        "duration": 471,
        "start_time": "2022-07-06T21:18:12.220Z"
      },
      {
        "duration": 133,
        "start_time": "2022-07-06T21:18:12.693Z"
      },
      {
        "duration": 144,
        "start_time": "2022-07-06T21:18:12.829Z"
      },
      {
        "duration": 94,
        "start_time": "2022-07-06T21:18:12.976Z"
      },
      {
        "duration": 293,
        "start_time": "2022-07-06T21:18:13.072Z"
      },
      {
        "duration": 109,
        "start_time": "2022-07-06T21:18:13.367Z"
      },
      {
        "duration": 70,
        "start_time": "2022-07-06T21:18:13.478Z"
      },
      {
        "duration": 6,
        "start_time": "2022-07-06T21:18:13.550Z"
      },
      {
        "duration": 14,
        "start_time": "2022-07-06T21:18:13.558Z"
      },
      {
        "duration": 32,
        "start_time": "2022-07-06T21:18:13.577Z"
      },
      {
        "duration": 212,
        "start_time": "2022-07-06T21:18:13.612Z"
      },
      {
        "duration": 296,
        "start_time": "2022-07-06T21:18:13.827Z"
      },
      {
        "duration": 7,
        "start_time": "2022-07-06T21:18:14.125Z"
      },
      {
        "duration": 39,
        "start_time": "2022-07-06T21:18:14.134Z"
      },
      {
        "duration": 21,
        "start_time": "2022-07-06T21:18:14.175Z"
      },
      {
        "duration": 252,
        "start_time": "2022-07-06T21:18:14.198Z"
      },
      {
        "duration": 15,
        "start_time": "2022-07-06T21:18:14.452Z"
      },
      {
        "duration": 204,
        "start_time": "2022-07-06T21:18:14.468Z"
      },
      {
        "duration": 181,
        "start_time": "2022-07-06T21:18:14.673Z"
      },
      {
        "duration": 11,
        "start_time": "2022-07-06T21:18:14.856Z"
      },
      {
        "duration": 189,
        "start_time": "2022-07-06T21:18:14.869Z"
      },
      {
        "duration": 204,
        "start_time": "2022-07-06T21:18:15.060Z"
      },
      {
        "duration": 10,
        "start_time": "2022-07-06T21:18:15.265Z"
      },
      {
        "duration": 13,
        "start_time": "2022-07-06T21:18:15.277Z"
      },
      {
        "duration": 15,
        "start_time": "2022-07-06T21:18:15.292Z"
      },
      {
        "duration": 389,
        "start_time": "2022-07-06T21:18:15.309Z"
      },
      {
        "duration": 23,
        "start_time": "2022-07-06T21:18:15.700Z"
      },
      {
        "duration": 16,
        "start_time": "2022-07-06T21:18:15.731Z"
      },
      {
        "duration": 6,
        "start_time": "2022-07-06T21:18:15.749Z"
      },
      {
        "duration": 4,
        "start_time": "2022-07-06T21:18:15.758Z"
      },
      {
        "duration": 7,
        "start_time": "2022-07-06T21:18:15.764Z"
      },
      {
        "duration": 12,
        "start_time": "2022-07-06T21:18:15.773Z"
      },
      {
        "duration": 76,
        "start_time": "2022-07-06T21:18:15.786Z"
      },
      {
        "duration": 32,
        "start_time": "2022-07-06T21:18:15.864Z"
      },
      {
        "duration": 65,
        "start_time": "2022-07-06T21:18:15.898Z"
      },
      {
        "duration": 36,
        "start_time": "2022-07-06T21:18:15.966Z"
      },
      {
        "duration": 56,
        "start_time": "2022-07-06T21:18:16.004Z"
      },
      {
        "duration": 17,
        "start_time": "2022-07-06T21:18:16.062Z"
      },
      {
        "duration": 19,
        "start_time": "2022-07-06T21:18:16.081Z"
      },
      {
        "duration": 48,
        "start_time": "2022-07-06T21:18:16.102Z"
      },
      {
        "duration": 12,
        "start_time": "2022-07-06T21:18:16.152Z"
      },
      {
        "duration": 11,
        "start_time": "2022-07-06T21:18:16.166Z"
      },
      {
        "duration": 56,
        "start_time": "2022-07-06T21:18:16.178Z"
      },
      {
        "duration": 17,
        "start_time": "2022-07-06T21:18:16.237Z"
      },
      {
        "duration": 5,
        "start_time": "2022-07-06T21:18:16.256Z"
      },
      {
        "duration": 6,
        "start_time": "2022-07-06T21:18:16.262Z"
      },
      {
        "duration": 5,
        "start_time": "2022-07-06T21:18:16.270Z"
      },
      {
        "duration": 53,
        "start_time": "2022-07-06T21:18:16.277Z"
      },
      {
        "duration": 118,
        "start_time": "2022-07-06T21:18:16.332Z"
      },
      {
        "duration": 29,
        "start_time": "2022-07-06T21:18:16.451Z"
      },
      {
        "duration": 5,
        "start_time": "2022-07-06T21:18:16.482Z"
      },
      {
        "duration": 10,
        "start_time": "2022-07-06T21:18:16.488Z"
      },
      {
        "duration": 36,
        "start_time": "2022-07-06T21:18:16.500Z"
      },
      {
        "duration": 175,
        "start_time": "2022-07-06T21:18:16.538Z"
      },
      {
        "duration": 347,
        "start_time": "2022-07-06T21:18:16.715Z"
      },
      {
        "duration": 4,
        "start_time": "2022-07-06T21:18:17.064Z"
      },
      {
        "duration": 10,
        "start_time": "2022-07-06T21:18:17.123Z"
      },
      {
        "duration": 17,
        "start_time": "2022-07-06T21:18:17.136Z"
      },
      {
        "duration": 11,
        "start_time": "2022-07-06T21:18:17.155Z"
      },
      {
        "duration": 58,
        "start_time": "2022-07-06T21:18:17.167Z"
      },
      {
        "duration": 500,
        "start_time": "2022-07-06T21:18:17.228Z"
      },
      {
        "duration": 403,
        "start_time": "2022-07-06T21:18:17.730Z"
      },
      {
        "duration": 6,
        "start_time": "2022-07-06T21:18:18.135Z"
      },
      {
        "duration": 13,
        "start_time": "2022-07-06T21:18:18.143Z"
      },
      {
        "duration": 11,
        "start_time": "2022-07-06T21:18:18.157Z"
      },
      {
        "duration": 65,
        "start_time": "2022-07-06T21:18:18.170Z"
      },
      {
        "duration": 424,
        "start_time": "2022-07-06T21:18:18.237Z"
      },
      {
        "duration": 495,
        "start_time": "2022-07-06T21:18:18.663Z"
      },
      {
        "duration": 5,
        "start_time": "2022-07-06T21:18:19.160Z"
      },
      {
        "duration": 65,
        "start_time": "2022-07-06T21:18:19.167Z"
      },
      {
        "duration": 36,
        "start_time": "2022-07-06T21:18:19.235Z"
      },
      {
        "duration": 17,
        "start_time": "2022-07-06T21:18:19.273Z"
      },
      {
        "duration": 198,
        "start_time": "2022-07-06T21:18:19.292Z"
      },
      {
        "duration": 177,
        "start_time": "2022-07-06T21:18:19.492Z"
      },
      {
        "duration": 5,
        "start_time": "2022-07-06T21:18:33.946Z"
      },
      {
        "duration": 14,
        "start_time": "2022-07-06T21:18:35.834Z"
      },
      {
        "duration": 5,
        "start_time": "2022-07-06T21:20:28.069Z"
      },
      {
        "duration": 13,
        "start_time": "2022-07-06T21:20:29.651Z"
      },
      {
        "duration": 4,
        "start_time": "2022-07-06T21:20:33.821Z"
      },
      {
        "duration": 451,
        "start_time": "2022-07-06T21:20:33.827Z"
      },
      {
        "duration": 119,
        "start_time": "2022-07-06T21:20:34.280Z"
      },
      {
        "duration": 128,
        "start_time": "2022-07-06T21:20:34.424Z"
      },
      {
        "duration": 93,
        "start_time": "2022-07-06T21:20:34.555Z"
      },
      {
        "duration": 244,
        "start_time": "2022-07-06T21:20:34.650Z"
      },
      {
        "duration": 108,
        "start_time": "2022-07-06T21:20:34.896Z"
      },
      {
        "duration": 74,
        "start_time": "2022-07-06T21:20:35.005Z"
      },
      {
        "duration": 7,
        "start_time": "2022-07-06T21:20:35.082Z"
      },
      {
        "duration": 23,
        "start_time": "2022-07-06T21:20:35.091Z"
      },
      {
        "duration": 23,
        "start_time": "2022-07-06T21:20:35.123Z"
      },
      {
        "duration": 193,
        "start_time": "2022-07-06T21:20:35.148Z"
      },
      {
        "duration": 269,
        "start_time": "2022-07-06T21:20:35.343Z"
      },
      {
        "duration": 5,
        "start_time": "2022-07-06T21:20:35.614Z"
      },
      {
        "duration": 28,
        "start_time": "2022-07-06T21:20:35.624Z"
      },
      {
        "duration": 28,
        "start_time": "2022-07-06T21:20:35.654Z"
      },
      {
        "duration": 233,
        "start_time": "2022-07-06T21:20:35.684Z"
      },
      {
        "duration": 21,
        "start_time": "2022-07-06T21:20:35.919Z"
      },
      {
        "duration": 213,
        "start_time": "2022-07-06T21:20:35.942Z"
      },
      {
        "duration": 197,
        "start_time": "2022-07-06T21:20:36.157Z"
      },
      {
        "duration": 12,
        "start_time": "2022-07-06T21:20:36.356Z"
      },
      {
        "duration": 208,
        "start_time": "2022-07-06T21:20:36.369Z"
      },
      {
        "duration": 229,
        "start_time": "2022-07-06T21:20:36.578Z"
      },
      {
        "duration": 14,
        "start_time": "2022-07-06T21:20:36.809Z"
      },
      {
        "duration": 37,
        "start_time": "2022-07-06T21:20:36.826Z"
      },
      {
        "duration": 38,
        "start_time": "2022-07-06T21:20:36.865Z"
      },
      {
        "duration": 413,
        "start_time": "2022-07-06T21:20:36.905Z"
      },
      {
        "duration": 22,
        "start_time": "2022-07-06T21:20:37.320Z"
      },
      {
        "duration": 5,
        "start_time": "2022-07-06T21:20:37.347Z"
      },
      {
        "duration": 25,
        "start_time": "2022-07-06T21:20:37.354Z"
      },
      {
        "duration": 30,
        "start_time": "2022-07-06T21:20:37.381Z"
      },
      {
        "duration": 67,
        "start_time": "2022-07-06T21:20:37.413Z"
      },
      {
        "duration": 35,
        "start_time": "2022-07-06T21:20:37.482Z"
      },
      {
        "duration": 43,
        "start_time": "2022-07-06T21:20:37.519Z"
      },
      {
        "duration": 35,
        "start_time": "2022-07-06T21:20:37.564Z"
      },
      {
        "duration": 47,
        "start_time": "2022-07-06T21:20:37.601Z"
      },
      {
        "duration": 18,
        "start_time": "2022-07-06T21:20:37.651Z"
      },
      {
        "duration": 31,
        "start_time": "2022-07-06T21:20:37.671Z"
      },
      {
        "duration": 54,
        "start_time": "2022-07-06T21:20:37.703Z"
      },
      {
        "duration": 19,
        "start_time": "2022-07-06T21:20:37.759Z"
      },
      {
        "duration": 25,
        "start_time": "2022-07-06T21:20:37.780Z"
      },
      {
        "duration": 51,
        "start_time": "2022-07-06T21:20:37.808Z"
      },
      {
        "duration": 25,
        "start_time": "2022-07-06T21:20:37.861Z"
      },
      {
        "duration": 4,
        "start_time": "2022-07-06T21:20:37.888Z"
      },
      {
        "duration": 13,
        "start_time": "2022-07-06T21:20:37.894Z"
      },
      {
        "duration": 15,
        "start_time": "2022-07-06T21:20:37.909Z"
      },
      {
        "duration": 58,
        "start_time": "2022-07-06T21:20:37.925Z"
      },
      {
        "duration": 103,
        "start_time": "2022-07-06T21:20:37.985Z"
      },
      {
        "duration": 15,
        "start_time": "2022-07-06T21:20:38.090Z"
      },
      {
        "duration": 17,
        "start_time": "2022-07-06T21:20:38.107Z"
      },
      {
        "duration": 45,
        "start_time": "2022-07-06T21:20:38.125Z"
      },
      {
        "duration": 21,
        "start_time": "2022-07-06T21:20:38.172Z"
      },
      {
        "duration": 337,
        "start_time": "2022-07-06T21:20:38.194Z"
      },
      {
        "duration": 324,
        "start_time": "2022-07-06T21:20:38.533Z"
      },
      {
        "duration": 5,
        "start_time": "2022-07-06T21:20:38.859Z"
      },
      {
        "duration": 75,
        "start_time": "2022-07-06T21:20:38.866Z"
      },
      {
        "duration": 19,
        "start_time": "2022-07-06T21:20:38.944Z"
      },
      {
        "duration": 109,
        "start_time": "2022-07-06T21:20:38.966Z"
      },
      {
        "duration": 56,
        "start_time": "2022-07-06T21:20:39.078Z"
      },
      {
        "duration": 433,
        "start_time": "2022-07-06T21:20:39.136Z"
      },
      {
        "duration": 489,
        "start_time": "2022-07-06T21:20:39.570Z"
      },
      {
        "duration": 5,
        "start_time": "2022-07-06T21:20:40.061Z"
      },
      {
        "duration": 58,
        "start_time": "2022-07-06T21:20:40.068Z"
      },
      {
        "duration": 23,
        "start_time": "2022-07-06T21:20:40.127Z"
      },
      {
        "duration": 21,
        "start_time": "2022-07-06T21:20:40.152Z"
      },
      {
        "duration": 404,
        "start_time": "2022-07-06T21:20:40.174Z"
      },
      {
        "duration": 183,
        "start_time": "2022-07-06T21:20:40.624Z"
      },
      {
        "duration": 4,
        "start_time": "2022-07-06T21:20:40.809Z"
      },
      {
        "duration": 7,
        "start_time": "2022-07-06T21:20:40.823Z"
      },
      {
        "duration": 23,
        "start_time": "2022-07-06T21:20:40.832Z"
      },
      {
        "duration": 12,
        "start_time": "2022-07-06T21:20:40.857Z"
      },
      {
        "duration": 190,
        "start_time": "2022-07-06T21:20:40.870Z"
      },
      {
        "duration": 142,
        "start_time": "2022-07-06T21:20:41.062Z"
      },
      {
        "duration": 5,
        "start_time": "2022-07-06T21:24:42.313Z"
      },
      {
        "duration": 6,
        "start_time": "2022-07-06T21:24:44.673Z"
      },
      {
        "duration": 7,
        "start_time": "2022-07-06T21:24:46.700Z"
      },
      {
        "duration": 16,
        "start_time": "2022-07-06T21:25:02.477Z"
      },
      {
        "duration": 3,
        "start_time": "2022-07-06T21:25:21.708Z"
      },
      {
        "duration": 404,
        "start_time": "2022-07-06T21:25:21.713Z"
      },
      {
        "duration": 642,
        "start_time": "2022-07-06T21:25:22.119Z"
      },
      {
        "duration": 111,
        "start_time": "2022-07-06T21:25:22.762Z"
      },
      {
        "duration": 82,
        "start_time": "2022-07-06T21:25:22.875Z"
      },
      {
        "duration": 242,
        "start_time": "2022-07-06T21:25:22.959Z"
      },
      {
        "duration": 96,
        "start_time": "2022-07-06T21:25:23.203Z"
      },
      {
        "duration": 59,
        "start_time": "2022-07-06T21:25:23.301Z"
      },
      {
        "duration": 5,
        "start_time": "2022-07-06T21:25:23.362Z"
      },
      {
        "duration": 9,
        "start_time": "2022-07-06T21:25:23.368Z"
      },
      {
        "duration": 10,
        "start_time": "2022-07-06T21:25:23.380Z"
      },
      {
        "duration": 11,
        "start_time": "2022-07-06T21:25:23.391Z"
      },
      {
        "duration": 198,
        "start_time": "2022-07-06T21:25:23.404Z"
      },
      {
        "duration": 244,
        "start_time": "2022-07-06T21:25:23.605Z"
      },
      {
        "duration": 6,
        "start_time": "2022-07-06T21:25:23.851Z"
      },
      {
        "duration": 9,
        "start_time": "2022-07-06T21:25:23.859Z"
      },
      {
        "duration": 13,
        "start_time": "2022-07-06T21:25:23.870Z"
      },
      {
        "duration": 248,
        "start_time": "2022-07-06T21:25:23.885Z"
      },
      {
        "duration": 15,
        "start_time": "2022-07-06T21:25:24.135Z"
      },
      {
        "duration": 189,
        "start_time": "2022-07-06T21:25:24.151Z"
      },
      {
        "duration": 153,
        "start_time": "2022-07-06T21:25:24.342Z"
      },
      {
        "duration": 11,
        "start_time": "2022-07-06T21:25:24.497Z"
      },
      {
        "duration": 162,
        "start_time": "2022-07-06T21:25:24.510Z"
      },
      {
        "duration": 190,
        "start_time": "2022-07-06T21:25:24.673Z"
      },
      {
        "duration": 9,
        "start_time": "2022-07-06T21:25:24.865Z"
      },
      {
        "duration": 9,
        "start_time": "2022-07-06T21:25:24.876Z"
      },
      {
        "duration": 14,
        "start_time": "2022-07-06T21:25:24.887Z"
      },
      {
        "duration": 370,
        "start_time": "2022-07-06T21:25:24.922Z"
      },
      {
        "duration": 15,
        "start_time": "2022-07-06T21:25:25.297Z"
      },
      {
        "duration": 4,
        "start_time": "2022-07-06T21:25:25.324Z"
      },
      {
        "duration": 12,
        "start_time": "2022-07-06T21:25:25.330Z"
      },
      {
        "duration": 20,
        "start_time": "2022-07-06T21:25:25.344Z"
      },
      {
        "duration": 60,
        "start_time": "2022-07-06T21:25:25.366Z"
      },
      {
        "duration": 38,
        "start_time": "2022-07-06T21:25:25.428Z"
      },
      {
        "duration": 32,
        "start_time": "2022-07-06T21:25:25.468Z"
      },
      {
        "duration": 39,
        "start_time": "2022-07-06T21:25:25.524Z"
      },
      {
        "duration": 22,
        "start_time": "2022-07-06T21:25:25.565Z"
      },
      {
        "duration": 40,
        "start_time": "2022-07-06T21:25:25.590Z"
      },
      {
        "duration": 19,
        "start_time": "2022-07-06T21:25:25.631Z"
      },
      {
        "duration": 17,
        "start_time": "2022-07-06T21:25:25.651Z"
      },
      {
        "duration": 11,
        "start_time": "2022-07-06T21:25:25.669Z"
      },
      {
        "duration": 9,
        "start_time": "2022-07-06T21:25:25.681Z"
      },
      {
        "duration": 48,
        "start_time": "2022-07-06T21:25:25.691Z"
      },
      {
        "duration": 14,
        "start_time": "2022-07-06T21:25:25.741Z"
      },
      {
        "duration": 7,
        "start_time": "2022-07-06T21:25:25.757Z"
      },
      {
        "duration": 6,
        "start_time": "2022-07-06T21:25:25.765Z"
      },
      {
        "duration": 12,
        "start_time": "2022-07-06T21:25:25.773Z"
      },
      {
        "duration": 37,
        "start_time": "2022-07-06T21:25:25.787Z"
      },
      {
        "duration": 148,
        "start_time": "2022-07-06T21:25:25.825Z"
      },
      {
        "duration": 31,
        "start_time": "2022-07-06T21:25:25.976Z"
      },
      {
        "duration": 5,
        "start_time": "2022-07-06T21:25:26.022Z"
      },
      {
        "duration": 17,
        "start_time": "2022-07-06T21:25:26.029Z"
      },
      {
        "duration": 17,
        "start_time": "2022-07-06T21:25:26.048Z"
      },
      {
        "duration": 167,
        "start_time": "2022-07-06T21:25:26.067Z"
      },
      {
        "duration": 181,
        "start_time": "2022-07-06T21:25:26.236Z"
      },
      {
        "duration": 4,
        "start_time": "2022-07-06T21:25:26.419Z"
      },
      {
        "duration": 7,
        "start_time": "2022-07-06T21:25:26.425Z"
      },
      {
        "duration": 8,
        "start_time": "2022-07-06T21:25:26.434Z"
      },
      {
        "duration": 16,
        "start_time": "2022-07-06T21:25:26.443Z"
      },
      {
        "duration": 16,
        "start_time": "2022-07-06T21:25:26.461Z"
      },
      {
        "duration": 324,
        "start_time": "2022-07-06T21:25:26.524Z"
      },
      {
        "duration": 405,
        "start_time": "2022-07-06T21:25:26.849Z"
      },
      {
        "duration": 4,
        "start_time": "2022-07-06T21:25:27.256Z"
      },
      {
        "duration": 10,
        "start_time": "2022-07-06T21:25:27.261Z"
      },
      {
        "duration": 8,
        "start_time": "2022-07-06T21:25:27.323Z"
      },
      {
        "duration": 8,
        "start_time": "2022-07-06T21:25:27.333Z"
      },
      {
        "duration": 325,
        "start_time": "2022-07-06T21:25:27.342Z"
      },
      {
        "duration": 372,
        "start_time": "2022-07-06T21:25:27.669Z"
      },
      {
        "duration": 4,
        "start_time": "2022-07-06T21:25:28.044Z"
      },
      {
        "duration": 14,
        "start_time": "2022-07-06T21:25:28.050Z"
      },
      {
        "duration": 70,
        "start_time": "2022-07-06T21:25:28.066Z"
      },
      {
        "duration": 11,
        "start_time": "2022-07-06T21:25:28.138Z"
      },
      {
        "duration": 292,
        "start_time": "2022-07-06T21:25:28.150Z"
      },
      {
        "duration": 234,
        "start_time": "2022-07-06T21:25:28.444Z"
      },
      {
        "duration": 8,
        "start_time": "2022-07-06T21:26:23.760Z"
      },
      {
        "duration": 8,
        "start_time": "2022-07-06T21:26:25.177Z"
      },
      {
        "duration": 4,
        "start_time": "2022-07-06T21:26:43.485Z"
      },
      {
        "duration": 10,
        "start_time": "2022-07-06T21:26:44.612Z"
      },
      {
        "duration": 9,
        "start_time": "2022-07-06T21:26:45.941Z"
      },
      {
        "duration": 154,
        "start_time": "2022-07-06T21:26:53.400Z"
      },
      {
        "duration": 206,
        "start_time": "2022-07-06T21:26:55.720Z"
      },
      {
        "duration": 3,
        "start_time": "2022-07-06T21:27:02.448Z"
      },
      {
        "duration": 4,
        "start_time": "2022-07-06T21:27:03.920Z"
      },
      {
        "duration": 4,
        "start_time": "2022-07-06T21:27:05.712Z"
      },
      {
        "duration": 8,
        "start_time": "2022-07-06T21:27:09.241Z"
      },
      {
        "duration": 10,
        "start_time": "2022-07-06T21:27:43.688Z"
      },
      {
        "duration": 9,
        "start_time": "2022-07-06T21:27:48.437Z"
      },
      {
        "duration": 4,
        "start_time": "2022-07-06T21:27:59.184Z"
      },
      {
        "duration": 4,
        "start_time": "2022-07-06T21:28:00.044Z"
      },
      {
        "duration": 10,
        "start_time": "2022-07-06T21:28:06.711Z"
      },
      {
        "duration": 8,
        "start_time": "2022-07-06T21:28:07.988Z"
      },
      {
        "duration": 152,
        "start_time": "2022-07-06T21:28:10.616Z"
      },
      {
        "duration": 190,
        "start_time": "2022-07-06T21:28:12.620Z"
      },
      {
        "duration": 179,
        "start_time": "2022-07-06T21:28:20.104Z"
      },
      {
        "duration": 4,
        "start_time": "2022-07-06T21:28:21.696Z"
      },
      {
        "duration": 3,
        "start_time": "2022-07-06T21:28:22.476Z"
      },
      {
        "duration": 14,
        "start_time": "2022-07-06T21:28:33.884Z"
      },
      {
        "duration": 9,
        "start_time": "2022-07-06T21:28:35.480Z"
      },
      {
        "duration": 20,
        "start_time": "2022-07-06T21:28:53.388Z"
      },
      {
        "duration": 378,
        "start_time": "2022-07-06T21:29:13.420Z"
      },
      {
        "duration": 406,
        "start_time": "2022-07-06T21:29:28.852Z"
      },
      {
        "duration": 158,
        "start_time": "2022-07-06T21:29:37.820Z"
      },
      {
        "duration": 371,
        "start_time": "2022-07-06T21:30:15.638Z"
      },
      {
        "duration": 13,
        "start_time": "2022-07-06T21:30:35.344Z"
      },
      {
        "duration": 14,
        "start_time": "2022-07-06T21:30:37.859Z"
      },
      {
        "duration": 12,
        "start_time": "2022-07-06T21:33:39.999Z"
      },
      {
        "duration": 197,
        "start_time": "2022-07-06T21:33:45.084Z"
      },
      {
        "duration": 639,
        "start_time": "2022-07-06T21:35:23.371Z"
      },
      {
        "duration": 741,
        "start_time": "2022-07-06T21:36:10.307Z"
      },
      {
        "duration": 612,
        "start_time": "2022-07-06T21:36:41.664Z"
      },
      {
        "duration": 636,
        "start_time": "2022-07-06T21:36:49.747Z"
      },
      {
        "duration": 612,
        "start_time": "2022-07-06T21:37:39.544Z"
      },
      {
        "duration": 588,
        "start_time": "2022-07-06T21:37:51.559Z"
      },
      {
        "duration": 672,
        "start_time": "2022-07-06T21:38:16.291Z"
      },
      {
        "duration": 671,
        "start_time": "2022-07-06T21:38:28.623Z"
      },
      {
        "duration": 596,
        "start_time": "2022-07-06T21:38:35.739Z"
      },
      {
        "duration": 623,
        "start_time": "2022-07-06T21:38:40.355Z"
      },
      {
        "duration": 607,
        "start_time": "2022-07-06T21:38:50.039Z"
      },
      {
        "duration": 615,
        "start_time": "2022-07-06T21:38:51.019Z"
      },
      {
        "duration": 65,
        "start_time": "2022-07-07T07:22:43.982Z"
      },
      {
        "duration": 1320,
        "start_time": "2022-07-07T07:22:47.262Z"
      },
      {
        "duration": 937,
        "start_time": "2022-07-07T07:22:48.585Z"
      },
      {
        "duration": 99,
        "start_time": "2022-07-07T07:22:49.524Z"
      },
      {
        "duration": 118,
        "start_time": "2022-07-07T07:22:49.643Z"
      },
      {
        "duration": 89,
        "start_time": "2022-07-07T07:22:49.762Z"
      },
      {
        "duration": 206,
        "start_time": "2022-07-07T07:22:49.852Z"
      },
      {
        "duration": 96,
        "start_time": "2022-07-07T07:22:50.061Z"
      },
      {
        "duration": 44,
        "start_time": "2022-07-07T07:22:50.159Z"
      },
      {
        "duration": 5,
        "start_time": "2022-07-07T07:22:50.204Z"
      },
      {
        "duration": 31,
        "start_time": "2022-07-07T07:22:50.212Z"
      },
      {
        "duration": 13,
        "start_time": "2022-07-07T07:22:50.245Z"
      },
      {
        "duration": 10,
        "start_time": "2022-07-07T07:22:50.259Z"
      },
      {
        "duration": 172,
        "start_time": "2022-07-07T07:22:50.271Z"
      },
      {
        "duration": 216,
        "start_time": "2022-07-07T07:22:50.445Z"
      },
      {
        "duration": 6,
        "start_time": "2022-07-07T07:22:50.662Z"
      },
      {
        "duration": 10,
        "start_time": "2022-07-07T07:22:50.669Z"
      },
      {
        "duration": 15,
        "start_time": "2022-07-07T07:22:50.680Z"
      },
      {
        "duration": 202,
        "start_time": "2022-07-07T07:22:50.697Z"
      },
      {
        "duration": 12,
        "start_time": "2022-07-07T07:22:50.900Z"
      },
      {
        "duration": 152,
        "start_time": "2022-07-07T07:22:50.914Z"
      },
      {
        "duration": 136,
        "start_time": "2022-07-07T07:22:51.067Z"
      },
      {
        "duration": 10,
        "start_time": "2022-07-07T07:22:51.204Z"
      },
      {
        "duration": 144,
        "start_time": "2022-07-07T07:22:51.216Z"
      },
      {
        "duration": 179,
        "start_time": "2022-07-07T07:22:51.361Z"
      },
      {
        "duration": 9,
        "start_time": "2022-07-07T07:22:51.541Z"
      },
      {
        "duration": 12,
        "start_time": "2022-07-07T07:22:51.552Z"
      },
      {
        "duration": 23,
        "start_time": "2022-07-07T07:22:51.566Z"
      },
      {
        "duration": 305,
        "start_time": "2022-07-07T07:22:51.594Z"
      },
      {
        "duration": 11,
        "start_time": "2022-07-07T07:22:51.901Z"
      },
      {
        "duration": 3,
        "start_time": "2022-07-07T07:22:51.913Z"
      },
      {
        "duration": 5,
        "start_time": "2022-07-07T07:22:51.918Z"
      },
      {
        "duration": 20,
        "start_time": "2022-07-07T07:22:51.924Z"
      },
      {
        "duration": 42,
        "start_time": "2022-07-07T07:22:51.946Z"
      },
      {
        "duration": 109,
        "start_time": "2022-07-07T07:22:51.990Z"
      },
      {
        "duration": 28,
        "start_time": "2022-07-07T07:22:52.100Z"
      },
      {
        "duration": 44,
        "start_time": "2022-07-07T07:22:52.130Z"
      },
      {
        "duration": 17,
        "start_time": "2022-07-07T07:22:52.176Z"
      },
      {
        "duration": 13,
        "start_time": "2022-07-07T07:22:52.195Z"
      },
      {
        "duration": 42,
        "start_time": "2022-07-07T07:22:52.209Z"
      },
      {
        "duration": 14,
        "start_time": "2022-07-07T07:22:52.252Z"
      },
      {
        "duration": 9,
        "start_time": "2022-07-07T07:22:52.267Z"
      },
      {
        "duration": 8,
        "start_time": "2022-07-07T07:22:52.277Z"
      },
      {
        "duration": 17,
        "start_time": "2022-07-07T07:22:52.286Z"
      },
      {
        "duration": 40,
        "start_time": "2022-07-07T07:22:52.305Z"
      },
      {
        "duration": 4,
        "start_time": "2022-07-07T07:22:52.346Z"
      },
      {
        "duration": 8,
        "start_time": "2022-07-07T07:22:52.351Z"
      },
      {
        "duration": 7,
        "start_time": "2022-07-07T07:22:52.361Z"
      },
      {
        "duration": 18,
        "start_time": "2022-07-07T07:22:52.369Z"
      },
      {
        "duration": 127,
        "start_time": "2022-07-07T07:22:52.388Z"
      },
      {
        "duration": 33,
        "start_time": "2022-07-07T07:22:52.517Z"
      },
      {
        "duration": 4,
        "start_time": "2022-07-07T07:22:52.552Z"
      },
      {
        "duration": 20,
        "start_time": "2022-07-07T07:22:52.558Z"
      },
      {
        "duration": 6,
        "start_time": "2022-07-07T07:22:52.582Z"
      },
      {
        "duration": 149,
        "start_time": "2022-07-07T07:22:52.590Z"
      },
      {
        "duration": 165,
        "start_time": "2022-07-07T07:22:52.741Z"
      },
      {
        "duration": 4,
        "start_time": "2022-07-07T07:22:52.907Z"
      },
      {
        "duration": 8,
        "start_time": "2022-07-07T07:22:52.913Z"
      },
      {
        "duration": 20,
        "start_time": "2022-07-07T07:22:52.922Z"
      },
      {
        "duration": 8,
        "start_time": "2022-07-07T07:22:52.944Z"
      },
      {
        "duration": 8,
        "start_time": "2022-07-07T07:22:52.954Z"
      },
      {
        "duration": 193,
        "start_time": "2022-07-07T07:22:52.963Z"
      },
      {
        "duration": 169,
        "start_time": "2022-07-07T07:22:53.158Z"
      },
      {
        "duration": 3,
        "start_time": "2022-07-07T07:22:53.329Z"
      },
      {
        "duration": 10,
        "start_time": "2022-07-07T07:22:53.334Z"
      },
      {
        "duration": 10,
        "start_time": "2022-07-07T07:22:53.345Z"
      },
      {
        "duration": 8,
        "start_time": "2022-07-07T07:22:53.356Z"
      },
      {
        "duration": 150,
        "start_time": "2022-07-07T07:22:53.366Z"
      },
      {
        "duration": 176,
        "start_time": "2022-07-07T07:22:53.518Z"
      },
      {
        "duration": 3,
        "start_time": "2022-07-07T07:22:53.696Z"
      },
      {
        "duration": 7,
        "start_time": "2022-07-07T07:22:53.700Z"
      },
      {
        "duration": 33,
        "start_time": "2022-07-07T07:22:53.709Z"
      },
      {
        "duration": 574,
        "start_time": "2022-07-07T07:22:53.744Z"
      },
      {
        "duration": 50,
        "start_time": "2022-07-08T21:09:29.930Z"
      },
      {
        "duration": 1387,
        "start_time": "2022-07-08T21:09:32.794Z"
      },
      {
        "duration": 1350,
        "start_time": "2022-07-08T21:09:34.183Z"
      },
      {
        "duration": 103,
        "start_time": "2022-07-08T21:09:35.534Z"
      },
      {
        "duration": 119,
        "start_time": "2022-07-08T21:09:35.639Z"
      },
      {
        "duration": 81,
        "start_time": "2022-07-08T21:09:35.760Z"
      },
      {
        "duration": 248,
        "start_time": "2022-07-08T21:09:35.843Z"
      },
      {
        "duration": 83,
        "start_time": "2022-07-08T21:09:36.093Z"
      },
      {
        "duration": 68,
        "start_time": "2022-07-08T21:09:36.178Z"
      },
      {
        "duration": 5,
        "start_time": "2022-07-08T21:09:36.248Z"
      },
      {
        "duration": 8,
        "start_time": "2022-07-08T21:09:36.256Z"
      },
      {
        "duration": 9,
        "start_time": "2022-07-08T21:09:36.265Z"
      },
      {
        "duration": 29,
        "start_time": "2022-07-08T21:09:36.276Z"
      },
      {
        "duration": 213,
        "start_time": "2022-07-08T21:09:36.306Z"
      },
      {
        "duration": 277,
        "start_time": "2022-07-08T21:09:36.521Z"
      },
      {
        "duration": 6,
        "start_time": "2022-07-08T21:09:36.800Z"
      },
      {
        "duration": 9,
        "start_time": "2022-07-08T21:09:36.808Z"
      },
      {
        "duration": 18,
        "start_time": "2022-07-08T21:09:36.819Z"
      },
      {
        "duration": 228,
        "start_time": "2022-07-08T21:09:36.839Z"
      },
      {
        "duration": 15,
        "start_time": "2022-07-08T21:09:37.069Z"
      },
      {
        "duration": 168,
        "start_time": "2022-07-08T21:09:37.085Z"
      },
      {
        "duration": 142,
        "start_time": "2022-07-08T21:09:37.255Z"
      },
      {
        "duration": 11,
        "start_time": "2022-07-08T21:09:37.403Z"
      },
      {
        "duration": 159,
        "start_time": "2022-07-08T21:09:37.415Z"
      },
      {
        "duration": 176,
        "start_time": "2022-07-08T21:09:37.576Z"
      },
      {
        "duration": 9,
        "start_time": "2022-07-08T21:09:37.754Z"
      },
      {
        "duration": 13,
        "start_time": "2022-07-08T21:09:37.764Z"
      },
      {
        "duration": 26,
        "start_time": "2022-07-08T21:09:37.779Z"
      },
      {
        "duration": 326,
        "start_time": "2022-07-08T21:09:37.808Z"
      },
      {
        "duration": 14,
        "start_time": "2022-07-08T21:09:38.136Z"
      },
      {
        "duration": 3,
        "start_time": "2022-07-08T21:09:38.152Z"
      },
      {
        "duration": 9,
        "start_time": "2022-07-08T21:09:38.157Z"
      },
      {
        "duration": 11,
        "start_time": "2022-07-08T21:09:38.167Z"
      },
      {
        "duration": 65,
        "start_time": "2022-07-08T21:09:38.180Z"
      },
      {
        "duration": 121,
        "start_time": "2022-07-08T21:09:38.246Z"
      },
      {
        "duration": 38,
        "start_time": "2022-07-08T21:09:38.369Z"
      },
      {
        "duration": 37,
        "start_time": "2022-07-08T21:09:38.409Z"
      },
      {
        "duration": 20,
        "start_time": "2022-07-08T21:09:38.448Z"
      },
      {
        "duration": 44,
        "start_time": "2022-07-08T21:09:38.470Z"
      },
      {
        "duration": 18,
        "start_time": "2022-07-08T21:09:38.516Z"
      },
      {
        "duration": 15,
        "start_time": "2022-07-08T21:09:38.536Z"
      },
      {
        "duration": 10,
        "start_time": "2022-07-08T21:09:38.553Z"
      },
      {
        "duration": 7,
        "start_time": "2022-07-08T21:09:38.565Z"
      },
      {
        "duration": 49,
        "start_time": "2022-07-08T21:09:38.574Z"
      },
      {
        "duration": 15,
        "start_time": "2022-07-08T21:09:38.625Z"
      },
      {
        "duration": 5,
        "start_time": "2022-07-08T21:09:38.642Z"
      },
      {
        "duration": 8,
        "start_time": "2022-07-08T21:09:38.649Z"
      },
      {
        "duration": 8,
        "start_time": "2022-07-08T21:09:38.658Z"
      },
      {
        "duration": 46,
        "start_time": "2022-07-08T21:09:38.668Z"
      },
      {
        "duration": 136,
        "start_time": "2022-07-08T21:09:38.716Z"
      },
      {
        "duration": 27,
        "start_time": "2022-07-08T21:09:38.854Z"
      },
      {
        "duration": 5,
        "start_time": "2022-07-08T21:09:38.882Z"
      },
      {
        "duration": 7,
        "start_time": "2022-07-08T21:09:38.905Z"
      },
      {
        "duration": 7,
        "start_time": "2022-07-08T21:09:38.914Z"
      },
      {
        "duration": 160,
        "start_time": "2022-07-08T21:09:38.922Z"
      },
      {
        "duration": 173,
        "start_time": "2022-07-08T21:09:39.083Z"
      },
      {
        "duration": 4,
        "start_time": "2022-07-08T21:09:39.257Z"
      },
      {
        "duration": 6,
        "start_time": "2022-07-08T21:09:39.262Z"
      },
      {
        "duration": 6,
        "start_time": "2022-07-08T21:09:39.270Z"
      },
      {
        "duration": 27,
        "start_time": "2022-07-08T21:09:39.277Z"
      },
      {
        "duration": 7,
        "start_time": "2022-07-08T21:09:39.305Z"
      },
      {
        "duration": 177,
        "start_time": "2022-07-08T21:09:39.313Z"
      },
      {
        "duration": 176,
        "start_time": "2022-07-08T21:09:39.492Z"
      },
      {
        "duration": 4,
        "start_time": "2022-07-08T21:09:39.669Z"
      },
      {
        "duration": 5,
        "start_time": "2022-07-08T21:09:39.675Z"
      },
      {
        "duration": 26,
        "start_time": "2022-07-08T21:09:39.682Z"
      },
      {
        "duration": 19,
        "start_time": "2022-07-08T21:09:39.710Z"
      },
      {
        "duration": 150,
        "start_time": "2022-07-08T21:09:39.731Z"
      },
      {
        "duration": 197,
        "start_time": "2022-07-08T21:09:39.883Z"
      },
      {
        "duration": 4,
        "start_time": "2022-07-08T21:09:40.082Z"
      },
      {
        "duration": 16,
        "start_time": "2022-07-08T21:09:40.089Z"
      },
      {
        "duration": 16,
        "start_time": "2022-07-08T21:09:40.107Z"
      },
      {
        "duration": 625,
        "start_time": "2022-07-08T21:09:40.125Z"
      },
      {
        "duration": 632,
        "start_time": "2022-07-08T21:09:40.751Z"
      },
      {
        "duration": 586,
        "start_time": "2022-07-08T21:10:22.114Z"
      },
      {
        "duration": 581,
        "start_time": "2022-07-08T21:10:48.190Z"
      },
      {
        "duration": 176,
        "start_time": "2022-07-08T21:11:43.066Z"
      },
      {
        "duration": 106,
        "start_time": "2022-07-08T21:15:21.365Z"
      },
      {
        "duration": 9,
        "start_time": "2022-07-08T21:50:29.593Z"
      },
      {
        "duration": 6,
        "start_time": "2022-07-08T21:55:10.100Z"
      },
      {
        "duration": 4,
        "start_time": "2022-07-08T21:55:19.836Z"
      },
      {
        "duration": 6,
        "start_time": "2022-07-08T21:55:26.656Z"
      },
      {
        "duration": 4,
        "start_time": "2022-07-08T21:55:37.793Z"
      },
      {
        "duration": 5,
        "start_time": "2022-07-08T21:55:42.753Z"
      },
      {
        "duration": 12,
        "start_time": "2022-07-08T22:03:06.974Z"
      },
      {
        "duration": 5,
        "start_time": "2022-07-08T22:03:42.398Z"
      },
      {
        "duration": 6,
        "start_time": "2022-07-08T22:03:44.649Z"
      },
      {
        "duration": 5,
        "start_time": "2022-07-08T22:03:53.578Z"
      },
      {
        "duration": 4,
        "start_time": "2022-07-08T22:03:55.570Z"
      },
      {
        "duration": 5,
        "start_time": "2022-07-08T22:19:59.059Z"
      },
      {
        "duration": 4,
        "start_time": "2022-07-08T22:20:03.199Z"
      },
      {
        "duration": 4,
        "start_time": "2022-07-08T22:47:00.634Z"
      },
      {
        "duration": 4,
        "start_time": "2022-07-08T22:47:09.266Z"
      },
      {
        "duration": 6,
        "start_time": "2022-07-08T22:47:52.861Z"
      },
      {
        "duration": 7,
        "start_time": "2022-07-08T22:48:04.546Z"
      },
      {
        "duration": 4,
        "start_time": "2022-07-08T22:48:11.574Z"
      },
      {
        "duration": 4,
        "start_time": "2022-07-08T22:48:19.097Z"
      },
      {
        "duration": 5,
        "start_time": "2022-07-08T22:48:55.497Z"
      },
      {
        "duration": 4,
        "start_time": "2022-07-08T22:49:07.737Z"
      },
      {
        "duration": 5,
        "start_time": "2022-07-08T22:49:44.993Z"
      },
      {
        "duration": 4,
        "start_time": "2022-07-08T22:49:49.577Z"
      },
      {
        "duration": 4,
        "start_time": "2022-07-08T22:49:53.593Z"
      },
      {
        "duration": 10,
        "start_time": "2022-07-08T22:50:50.921Z"
      },
      {
        "duration": 10,
        "start_time": "2022-07-08T22:50:57.033Z"
      },
      {
        "duration": 4,
        "start_time": "2022-07-08T22:51:03.606Z"
      },
      {
        "duration": 87,
        "start_time": "2022-07-08T22:51:20.105Z"
      },
      {
        "duration": 4,
        "start_time": "2022-07-08T22:52:44.732Z"
      },
      {
        "duration": 11,
        "start_time": "2022-07-08T23:01:27.855Z"
      },
      {
        "duration": 4,
        "start_time": "2022-07-08T23:01:28.879Z"
      },
      {
        "duration": 1170,
        "start_time": "2022-07-08T23:29:38.184Z"
      },
      {
        "duration": 632,
        "start_time": "2022-07-08T23:29:39.356Z"
      },
      {
        "duration": 140,
        "start_time": "2022-07-08T23:29:39.990Z"
      },
      {
        "duration": 109,
        "start_time": "2022-07-08T23:29:40.132Z"
      },
      {
        "duration": 65,
        "start_time": "2022-07-08T23:29:40.242Z"
      },
      {
        "duration": 200,
        "start_time": "2022-07-08T23:29:40.308Z"
      },
      {
        "duration": 63,
        "start_time": "2022-07-08T23:29:40.509Z"
      },
      {
        "duration": 57,
        "start_time": "2022-07-08T23:29:40.574Z"
      },
      {
        "duration": 5,
        "start_time": "2022-07-08T23:29:40.633Z"
      },
      {
        "duration": 7,
        "start_time": "2022-07-08T23:29:40.641Z"
      },
      {
        "duration": 17,
        "start_time": "2022-07-08T23:29:40.650Z"
      },
      {
        "duration": 12,
        "start_time": "2022-07-08T23:29:40.668Z"
      },
      {
        "duration": 168,
        "start_time": "2022-07-08T23:29:40.681Z"
      },
      {
        "duration": 229,
        "start_time": "2022-07-08T23:29:40.851Z"
      },
      {
        "duration": 5,
        "start_time": "2022-07-08T23:29:41.081Z"
      },
      {
        "duration": 16,
        "start_time": "2022-07-08T23:29:41.087Z"
      },
      {
        "duration": 30,
        "start_time": "2022-07-08T23:29:41.104Z"
      },
      {
        "duration": 185,
        "start_time": "2022-07-08T23:29:41.135Z"
      },
      {
        "duration": 13,
        "start_time": "2022-07-08T23:29:41.322Z"
      },
      {
        "duration": 164,
        "start_time": "2022-07-08T23:29:41.336Z"
      },
      {
        "duration": 137,
        "start_time": "2022-07-08T23:29:41.502Z"
      },
      {
        "duration": 11,
        "start_time": "2022-07-08T23:29:41.640Z"
      },
      {
        "duration": 150,
        "start_time": "2022-07-08T23:29:41.652Z"
      },
      {
        "duration": 159,
        "start_time": "2022-07-08T23:29:41.803Z"
      },
      {
        "duration": 8,
        "start_time": "2022-07-08T23:29:41.963Z"
      },
      {
        "duration": 27,
        "start_time": "2022-07-08T23:29:41.972Z"
      },
      {
        "duration": 19,
        "start_time": "2022-07-08T23:29:42.000Z"
      },
      {
        "duration": 305,
        "start_time": "2022-07-08T23:29:42.022Z"
      },
      {
        "duration": 11,
        "start_time": "2022-07-08T23:29:42.329Z"
      },
      {
        "duration": 4,
        "start_time": "2022-07-08T23:29:42.341Z"
      },
      {
        "duration": 9,
        "start_time": "2022-07-08T23:29:42.346Z"
      },
      {
        "duration": 10,
        "start_time": "2022-07-08T23:29:42.357Z"
      },
      {
        "duration": 54,
        "start_time": "2022-07-08T23:29:42.369Z"
      },
      {
        "duration": 120,
        "start_time": "2022-07-08T23:29:42.425Z"
      },
      {
        "duration": 28,
        "start_time": "2022-07-08T23:29:42.547Z"
      },
      {
        "duration": 48,
        "start_time": "2022-07-08T23:29:42.576Z"
      },
      {
        "duration": 18,
        "start_time": "2022-07-08T23:29:42.625Z"
      },
      {
        "duration": 12,
        "start_time": "2022-07-08T23:29:42.645Z"
      },
      {
        "duration": 16,
        "start_time": "2022-07-08T23:29:42.658Z"
      },
      {
        "duration": 36,
        "start_time": "2022-07-08T23:29:42.675Z"
      },
      {
        "duration": 10,
        "start_time": "2022-07-08T23:29:42.712Z"
      },
      {
        "duration": 24,
        "start_time": "2022-07-08T23:29:42.724Z"
      },
      {
        "duration": 21,
        "start_time": "2022-07-08T23:29:42.749Z"
      },
      {
        "duration": 18,
        "start_time": "2022-07-08T23:29:42.772Z"
      },
      {
        "duration": 5,
        "start_time": "2022-07-08T23:29:42.793Z"
      },
      {
        "duration": 10,
        "start_time": "2022-07-08T23:29:42.800Z"
      },
      {
        "duration": 7,
        "start_time": "2022-07-08T23:29:42.811Z"
      },
      {
        "duration": 18,
        "start_time": "2022-07-08T23:29:42.819Z"
      },
      {
        "duration": 111,
        "start_time": "2022-07-08T23:29:42.838Z"
      },
      {
        "duration": 24,
        "start_time": "2022-07-08T23:29:42.950Z"
      },
      {
        "duration": 5,
        "start_time": "2022-07-08T23:29:42.975Z"
      },
      {
        "duration": 7,
        "start_time": "2022-07-08T23:29:43.000Z"
      },
      {
        "duration": 17,
        "start_time": "2022-07-08T23:29:43.009Z"
      },
      {
        "duration": 136,
        "start_time": "2022-07-08T23:29:43.027Z"
      },
      {
        "duration": 155,
        "start_time": "2022-07-08T23:29:43.165Z"
      },
      {
        "duration": 4,
        "start_time": "2022-07-08T23:29:43.321Z"
      },
      {
        "duration": 21,
        "start_time": "2022-07-08T23:29:43.327Z"
      },
      {
        "duration": 7,
        "start_time": "2022-07-08T23:29:43.350Z"
      },
      {
        "duration": 18,
        "start_time": "2022-07-08T23:29:43.358Z"
      },
      {
        "duration": 12,
        "start_time": "2022-07-08T23:29:43.377Z"
      },
      {
        "duration": 161,
        "start_time": "2022-07-08T23:29:43.391Z"
      },
      {
        "duration": 163,
        "start_time": "2022-07-08T23:29:43.554Z"
      },
      {
        "duration": 3,
        "start_time": "2022-07-08T23:29:43.718Z"
      },
      {
        "duration": 8,
        "start_time": "2022-07-08T23:29:43.722Z"
      },
      {
        "duration": 11,
        "start_time": "2022-07-08T23:29:43.731Z"
      },
      {
        "duration": 15,
        "start_time": "2022-07-08T23:29:43.743Z"
      },
      {
        "duration": 161,
        "start_time": "2022-07-08T23:29:43.759Z"
      },
      {
        "duration": 176,
        "start_time": "2022-07-08T23:29:43.922Z"
      },
      {
        "duration": 3,
        "start_time": "2022-07-08T23:29:44.100Z"
      },
      {
        "duration": 10,
        "start_time": "2022-07-08T23:29:44.105Z"
      },
      {
        "duration": 560,
        "start_time": "2022-07-08T23:29:44.117Z"
      },
      {
        "duration": 560,
        "start_time": "2022-07-08T23:29:44.678Z"
      },
      {
        "duration": 11,
        "start_time": "2022-07-08T23:29:45.240Z"
      },
      {
        "duration": 32,
        "start_time": "2022-07-08T23:29:45.254Z"
      },
      {
        "duration": 41,
        "start_time": "2022-07-08T23:29:45.288Z"
      },
      {
        "duration": 35,
        "start_time": "2022-07-08T23:29:45.331Z"
      },
      {
        "duration": 4,
        "start_time": "2022-07-08T23:45:16.407Z"
      },
      {
        "duration": 54,
        "start_time": "2022-07-09T07:35:22.939Z"
      },
      {
        "duration": 1308,
        "start_time": "2022-07-09T07:35:27.476Z"
      },
      {
        "duration": 826,
        "start_time": "2022-07-09T07:35:28.786Z"
      },
      {
        "duration": 113,
        "start_time": "2022-07-09T07:35:29.614Z"
      },
      {
        "duration": 130,
        "start_time": "2022-07-09T07:35:29.729Z"
      },
      {
        "duration": 54,
        "start_time": "2022-07-09T07:35:29.861Z"
      },
      {
        "duration": 228,
        "start_time": "2022-07-09T07:35:29.916Z"
      },
      {
        "duration": 71,
        "start_time": "2022-07-09T07:35:30.145Z"
      },
      {
        "duration": 68,
        "start_time": "2022-07-09T07:35:30.217Z"
      },
      {
        "duration": 5,
        "start_time": "2022-07-09T07:35:30.286Z"
      },
      {
        "duration": 7,
        "start_time": "2022-07-09T07:35:30.293Z"
      },
      {
        "duration": 9,
        "start_time": "2022-07-09T07:35:30.301Z"
      },
      {
        "duration": 14,
        "start_time": "2022-07-09T07:35:30.312Z"
      },
      {
        "duration": 182,
        "start_time": "2022-07-09T07:35:30.327Z"
      },
      {
        "duration": 237,
        "start_time": "2022-07-09T07:35:30.511Z"
      },
      {
        "duration": 19,
        "start_time": "2022-07-09T07:35:30.752Z"
      },
      {
        "duration": 16,
        "start_time": "2022-07-09T07:35:30.772Z"
      },
      {
        "duration": 7,
        "start_time": "2022-07-09T07:35:30.789Z"
      },
      {
        "duration": 17,
        "start_time": "2022-07-09T07:35:30.797Z"
      },
      {
        "duration": 192,
        "start_time": "2022-07-09T07:35:30.816Z"
      },
      {
        "duration": 13,
        "start_time": "2022-07-09T07:35:31.010Z"
      },
      {
        "duration": 159,
        "start_time": "2022-07-09T07:35:31.025Z"
      },
      {
        "duration": 147,
        "start_time": "2022-07-09T07:35:31.186Z"
      },
      {
        "duration": 26,
        "start_time": "2022-07-09T07:35:31.334Z"
      },
      {
        "duration": 157,
        "start_time": "2022-07-09T07:35:31.364Z"
      },
      {
        "duration": 199,
        "start_time": "2022-07-09T07:35:31.522Z"
      },
      {
        "duration": 8,
        "start_time": "2022-07-09T07:35:31.723Z"
      },
      {
        "duration": 10,
        "start_time": "2022-07-09T07:35:31.733Z"
      },
      {
        "duration": 50,
        "start_time": "2022-07-09T07:35:31.750Z"
      },
      {
        "duration": 474,
        "start_time": "2022-07-09T07:35:31.801Z"
      },
      {
        "duration": 16,
        "start_time": "2022-07-09T07:35:32.277Z"
      },
      {
        "duration": 4,
        "start_time": "2022-07-09T07:35:32.295Z"
      },
      {
        "duration": 48,
        "start_time": "2022-07-09T07:35:32.301Z"
      },
      {
        "duration": 62,
        "start_time": "2022-07-09T07:35:32.351Z"
      },
      {
        "duration": 131,
        "start_time": "2022-07-09T07:35:32.414Z"
      },
      {
        "duration": 44,
        "start_time": "2022-07-09T07:35:32.546Z"
      },
      {
        "duration": 90,
        "start_time": "2022-07-09T07:35:32.593Z"
      },
      {
        "duration": 80,
        "start_time": "2022-07-09T07:35:32.686Z"
      },
      {
        "duration": 25,
        "start_time": "2022-07-09T07:35:32.770Z"
      },
      {
        "duration": 100,
        "start_time": "2022-07-09T07:35:32.796Z"
      },
      {
        "duration": 53,
        "start_time": "2022-07-09T07:35:32.898Z"
      },
      {
        "duration": 24,
        "start_time": "2022-07-09T07:35:32.960Z"
      },
      {
        "duration": 21,
        "start_time": "2022-07-09T07:35:32.985Z"
      },
      {
        "duration": 50,
        "start_time": "2022-07-09T07:35:33.007Z"
      },
      {
        "duration": 52,
        "start_time": "2022-07-09T07:35:33.060Z"
      },
      {
        "duration": 9,
        "start_time": "2022-07-09T07:35:33.145Z"
      },
      {
        "duration": 49,
        "start_time": "2022-07-09T07:35:33.155Z"
      },
      {
        "duration": 9,
        "start_time": "2022-07-09T07:35:33.205Z"
      },
      {
        "duration": 10,
        "start_time": "2022-07-09T07:35:33.243Z"
      },
      {
        "duration": 40,
        "start_time": "2022-07-09T07:35:33.254Z"
      },
      {
        "duration": 55,
        "start_time": "2022-07-09T07:35:33.296Z"
      },
      {
        "duration": 307,
        "start_time": "2022-07-09T07:35:33.353Z"
      },
      {
        "duration": 84,
        "start_time": "2022-07-09T07:35:33.673Z"
      },
      {
        "duration": 6,
        "start_time": "2022-07-09T07:35:33.761Z"
      },
      {
        "duration": 35,
        "start_time": "2022-07-09T07:35:33.769Z"
      },
      {
        "duration": 18,
        "start_time": "2022-07-09T07:35:33.805Z"
      },
      {
        "duration": 161,
        "start_time": "2022-07-09T07:35:33.824Z"
      },
      {
        "duration": 171,
        "start_time": "2022-07-09T07:35:33.987Z"
      },
      {
        "duration": 5,
        "start_time": "2022-07-09T07:35:34.164Z"
      },
      {
        "duration": 17,
        "start_time": "2022-07-09T07:35:34.170Z"
      },
      {
        "duration": 10,
        "start_time": "2022-07-09T07:35:34.188Z"
      },
      {
        "duration": 14,
        "start_time": "2022-07-09T07:35:34.199Z"
      },
      {
        "duration": 17,
        "start_time": "2022-07-09T07:35:34.214Z"
      },
      {
        "duration": 193,
        "start_time": "2022-07-09T07:35:34.232Z"
      },
      {
        "duration": 188,
        "start_time": "2022-07-09T07:35:34.428Z"
      },
      {
        "duration": 4,
        "start_time": "2022-07-09T07:35:34.618Z"
      },
      {
        "duration": 15,
        "start_time": "2022-07-09T07:35:34.624Z"
      },
      {
        "duration": 51,
        "start_time": "2022-07-09T07:35:34.644Z"
      },
      {
        "duration": 15,
        "start_time": "2022-07-09T07:35:34.697Z"
      },
      {
        "duration": 176,
        "start_time": "2022-07-09T07:35:34.714Z"
      },
      {
        "duration": 172,
        "start_time": "2022-07-09T07:35:34.891Z"
      },
      {
        "duration": 5,
        "start_time": "2022-07-09T07:35:35.064Z"
      },
      {
        "duration": 17,
        "start_time": "2022-07-09T07:35:35.075Z"
      },
      {
        "duration": 603,
        "start_time": "2022-07-09T07:35:35.094Z"
      },
      {
        "duration": 580,
        "start_time": "2022-07-09T07:35:35.698Z"
      },
      {
        "duration": 10,
        "start_time": "2022-07-09T07:35:36.280Z"
      },
      {
        "duration": 9,
        "start_time": "2022-07-09T07:35:36.291Z"
      },
      {
        "duration": 11,
        "start_time": "2022-07-09T07:35:36.301Z"
      },
      {
        "duration": 4,
        "start_time": "2022-07-09T07:35:36.313Z"
      },
      {
        "duration": 2,
        "start_time": "2022-07-09T07:36:49.039Z"
      },
      {
        "duration": 9,
        "start_time": "2022-07-09T07:36:52.723Z"
      },
      {
        "duration": 18,
        "start_time": "2022-07-09T07:36:54.939Z"
      },
      {
        "duration": 3,
        "start_time": "2022-07-09T07:37:01.531Z"
      },
      {
        "duration": 462,
        "start_time": "2022-07-09T07:37:01.537Z"
      },
      {
        "duration": 105,
        "start_time": "2022-07-09T07:37:02.002Z"
      },
      {
        "duration": 107,
        "start_time": "2022-07-09T07:37:02.108Z"
      },
      {
        "duration": 85,
        "start_time": "2022-07-09T07:37:02.217Z"
      },
      {
        "duration": 198,
        "start_time": "2022-07-09T07:37:02.303Z"
      },
      {
        "duration": 90,
        "start_time": "2022-07-09T07:37:02.503Z"
      },
      {
        "duration": 73,
        "start_time": "2022-07-09T07:37:02.594Z"
      },
      {
        "duration": 7,
        "start_time": "2022-07-09T07:37:02.672Z"
      },
      {
        "duration": 25,
        "start_time": "2022-07-09T07:37:02.689Z"
      },
      {
        "duration": 15,
        "start_time": "2022-07-09T07:37:02.717Z"
      },
      {
        "duration": 58,
        "start_time": "2022-07-09T07:37:02.733Z"
      },
      {
        "duration": 186,
        "start_time": "2022-07-09T07:37:02.805Z"
      },
      {
        "duration": 236,
        "start_time": "2022-07-09T07:37:02.993Z"
      },
      {
        "duration": 5,
        "start_time": "2022-07-09T07:37:03.230Z"
      },
      {
        "duration": 53,
        "start_time": "2022-07-09T07:37:03.236Z"
      },
      {
        "duration": 23,
        "start_time": "2022-07-09T07:37:03.291Z"
      },
      {
        "duration": 16,
        "start_time": "2022-07-09T07:37:03.315Z"
      },
      {
        "duration": 245,
        "start_time": "2022-07-09T07:37:03.332Z"
      },
      {
        "duration": 15,
        "start_time": "2022-07-09T07:37:03.579Z"
      },
      {
        "duration": 234,
        "start_time": "2022-07-09T07:37:03.596Z"
      },
      {
        "duration": 169,
        "start_time": "2022-07-09T07:37:03.832Z"
      },
      {
        "duration": 10,
        "start_time": "2022-07-09T07:37:04.002Z"
      },
      {
        "duration": 346,
        "start_time": "2022-07-09T07:37:04.041Z"
      },
      {
        "duration": 502,
        "start_time": "2022-07-09T07:37:04.389Z"
      },
      {
        "duration": 55,
        "start_time": "2022-07-09T07:37:04.893Z"
      },
      {
        "duration": 41,
        "start_time": "2022-07-09T07:37:04.950Z"
      },
      {
        "duration": 13,
        "start_time": "2022-07-09T07:37:04.993Z"
      },
      {
        "duration": 819,
        "start_time": "2022-07-09T07:37:05.042Z"
      },
      {
        "duration": 15,
        "start_time": "2022-07-09T07:37:05.862Z"
      },
      {
        "duration": 12,
        "start_time": "2022-07-09T07:37:05.878Z"
      },
      {
        "duration": 7,
        "start_time": "2022-07-09T07:37:05.891Z"
      },
      {
        "duration": 51,
        "start_time": "2022-07-09T07:37:05.899Z"
      },
      {
        "duration": 104,
        "start_time": "2022-07-09T07:37:05.954Z"
      },
      {
        "duration": 38,
        "start_time": "2022-07-09T07:37:06.065Z"
      },
      {
        "duration": 28,
        "start_time": "2022-07-09T07:37:06.105Z"
      },
      {
        "duration": 51,
        "start_time": "2022-07-09T07:37:06.134Z"
      },
      {
        "duration": 16,
        "start_time": "2022-07-09T07:37:06.187Z"
      },
      {
        "duration": 12,
        "start_time": "2022-07-09T07:37:06.205Z"
      },
      {
        "duration": 27,
        "start_time": "2022-07-09T07:37:06.218Z"
      },
      {
        "duration": 24,
        "start_time": "2022-07-09T07:37:06.246Z"
      },
      {
        "duration": 19,
        "start_time": "2022-07-09T07:37:06.272Z"
      },
      {
        "duration": 7,
        "start_time": "2022-07-09T07:37:06.293Z"
      },
      {
        "duration": 17,
        "start_time": "2022-07-09T07:37:06.301Z"
      },
      {
        "duration": 3,
        "start_time": "2022-07-09T07:37:06.319Z"
      },
      {
        "duration": 37,
        "start_time": "2022-07-09T07:37:06.323Z"
      },
      {
        "duration": 10,
        "start_time": "2022-07-09T07:37:06.370Z"
      },
      {
        "duration": 6,
        "start_time": "2022-07-09T07:37:06.383Z"
      },
      {
        "duration": 4,
        "start_time": "2022-07-09T07:37:06.391Z"
      },
      {
        "duration": 15,
        "start_time": "2022-07-09T07:37:06.397Z"
      },
      {
        "duration": 119,
        "start_time": "2022-07-09T07:37:06.413Z"
      },
      {
        "duration": 49,
        "start_time": "2022-07-09T07:37:06.534Z"
      },
      {
        "duration": 5,
        "start_time": "2022-07-09T07:37:06.585Z"
      },
      {
        "duration": 10,
        "start_time": "2022-07-09T07:37:06.591Z"
      },
      {
        "duration": 12,
        "start_time": "2022-07-09T07:37:06.602Z"
      },
      {
        "duration": 141,
        "start_time": "2022-07-09T07:37:06.615Z"
      },
      {
        "duration": 160,
        "start_time": "2022-07-09T07:37:06.757Z"
      },
      {
        "duration": 4,
        "start_time": "2022-07-09T07:37:06.919Z"
      },
      {
        "duration": 9,
        "start_time": "2022-07-09T07:37:06.924Z"
      },
      {
        "duration": 6,
        "start_time": "2022-07-09T07:37:06.959Z"
      },
      {
        "duration": 19,
        "start_time": "2022-07-09T07:37:06.970Z"
      },
      {
        "duration": 9,
        "start_time": "2022-07-09T07:37:06.991Z"
      },
      {
        "duration": 156,
        "start_time": "2022-07-09T07:37:07.001Z"
      },
      {
        "duration": 167,
        "start_time": "2022-07-09T07:37:07.159Z"
      },
      {
        "duration": 3,
        "start_time": "2022-07-09T07:37:07.328Z"
      },
      {
        "duration": 15,
        "start_time": "2022-07-09T07:37:07.343Z"
      },
      {
        "duration": 27,
        "start_time": "2022-07-09T07:37:07.368Z"
      },
      {
        "duration": 6,
        "start_time": "2022-07-09T07:37:07.396Z"
      },
      {
        "duration": 163,
        "start_time": "2022-07-09T07:37:07.404Z"
      },
      {
        "duration": 167,
        "start_time": "2022-07-09T07:37:07.568Z"
      },
      {
        "duration": 3,
        "start_time": "2022-07-09T07:37:07.737Z"
      },
      {
        "duration": 41,
        "start_time": "2022-07-09T07:37:07.745Z"
      },
      {
        "duration": 708,
        "start_time": "2022-07-09T07:37:07.787Z"
      },
      {
        "duration": 636,
        "start_time": "2022-07-09T07:37:08.496Z"
      },
      {
        "duration": 22,
        "start_time": "2022-07-09T07:37:09.133Z"
      },
      {
        "duration": 22,
        "start_time": "2022-07-09T07:37:09.162Z"
      },
      {
        "duration": 12,
        "start_time": "2022-07-09T07:37:09.185Z"
      },
      {
        "duration": 5,
        "start_time": "2022-07-09T07:37:09.198Z"
      },
      {
        "duration": 2,
        "start_time": "2022-07-09T07:40:31.192Z"
      },
      {
        "duration": 366,
        "start_time": "2022-07-09T07:40:41.040Z"
      },
      {
        "duration": 11,
        "start_time": "2022-07-09T07:40:44.275Z"
      },
      {
        "duration": 2,
        "start_time": "2022-07-09T07:40:46.778Z"
      },
      {
        "duration": 13,
        "start_time": "2022-07-09T07:40:48.496Z"
      },
      {
        "duration": 456,
        "start_time": "2022-07-09T07:40:49.740Z"
      },
      {
        "duration": 14,
        "start_time": "2022-07-09T07:40:57.279Z"
      },
      {
        "duration": 3,
        "start_time": "2022-07-09T07:41:11.078Z"
      },
      {
        "duration": 496,
        "start_time": "2022-07-09T07:41:11.083Z"
      },
      {
        "duration": 127,
        "start_time": "2022-07-09T07:41:11.581Z"
      },
      {
        "duration": 126,
        "start_time": "2022-07-09T07:41:11.710Z"
      },
      {
        "duration": 84,
        "start_time": "2022-07-09T07:41:11.848Z"
      },
      {
        "duration": 237,
        "start_time": "2022-07-09T07:41:11.962Z"
      },
      {
        "duration": 104,
        "start_time": "2022-07-09T07:41:12.201Z"
      },
      {
        "duration": 57,
        "start_time": "2022-07-09T07:41:12.307Z"
      },
      {
        "duration": 7,
        "start_time": "2022-07-09T07:41:12.367Z"
      },
      {
        "duration": 11,
        "start_time": "2022-07-09T07:41:12.381Z"
      },
      {
        "duration": 11,
        "start_time": "2022-07-09T07:41:12.394Z"
      },
      {
        "duration": 20,
        "start_time": "2022-07-09T07:41:12.407Z"
      },
      {
        "duration": 188,
        "start_time": "2022-07-09T07:41:12.429Z"
      },
      {
        "duration": 305,
        "start_time": "2022-07-09T07:41:12.618Z"
      },
      {
        "duration": 5,
        "start_time": "2022-07-09T07:41:12.925Z"
      },
      {
        "duration": 31,
        "start_time": "2022-07-09T07:41:12.931Z"
      },
      {
        "duration": 43,
        "start_time": "2022-07-09T07:41:12.964Z"
      },
      {
        "duration": 231,
        "start_time": "2022-07-09T07:41:13.009Z"
      },
      {
        "duration": 34,
        "start_time": "2022-07-09T07:41:13.243Z"
      },
      {
        "duration": 166,
        "start_time": "2022-07-09T07:41:13.279Z"
      },
      {
        "duration": 165,
        "start_time": "2022-07-09T07:41:13.451Z"
      },
      {
        "duration": 10,
        "start_time": "2022-07-09T07:41:13.618Z"
      },
      {
        "duration": 185,
        "start_time": "2022-07-09T07:41:13.629Z"
      },
      {
        "duration": 200,
        "start_time": "2022-07-09T07:41:13.820Z"
      },
      {
        "duration": 156,
        "start_time": "2022-07-09T07:41:14.022Z"
      },
      {
        "duration": 5,
        "start_time": "2022-07-09T07:41:14.182Z"
      },
      {
        "duration": 21,
        "start_time": "2022-07-09T07:41:14.189Z"
      },
      {
        "duration": 419,
        "start_time": "2022-07-09T07:41:14.211Z"
      },
      {
        "duration": 30,
        "start_time": "2022-07-09T07:41:14.632Z"
      },
      {
        "duration": 15,
        "start_time": "2022-07-09T07:41:14.665Z"
      },
      {
        "duration": 13,
        "start_time": "2022-07-09T07:41:14.684Z"
      },
      {
        "duration": 19,
        "start_time": "2022-07-09T07:41:14.699Z"
      },
      {
        "duration": 109,
        "start_time": "2022-07-09T07:41:14.720Z"
      },
      {
        "duration": 62,
        "start_time": "2022-07-09T07:41:14.831Z"
      },
      {
        "duration": 69,
        "start_time": "2022-07-09T07:41:14.895Z"
      },
      {
        "duration": 36,
        "start_time": "2022-07-09T07:41:14.966Z"
      },
      {
        "duration": 27,
        "start_time": "2022-07-09T07:41:15.004Z"
      },
      {
        "duration": 53,
        "start_time": "2022-07-09T07:41:15.052Z"
      },
      {
        "duration": 23,
        "start_time": "2022-07-09T07:41:15.108Z"
      },
      {
        "duration": 25,
        "start_time": "2022-07-09T07:41:15.133Z"
      },
      {
        "duration": 35,
        "start_time": "2022-07-09T07:41:15.163Z"
      },
      {
        "duration": 8,
        "start_time": "2022-07-09T07:41:15.200Z"
      },
      {
        "duration": 22,
        "start_time": "2022-07-09T07:41:15.209Z"
      },
      {
        "duration": 4,
        "start_time": "2022-07-09T07:41:15.233Z"
      },
      {
        "duration": 52,
        "start_time": "2022-07-09T07:41:15.238Z"
      },
      {
        "duration": 9,
        "start_time": "2022-07-09T07:41:15.292Z"
      },
      {
        "duration": 11,
        "start_time": "2022-07-09T07:41:15.303Z"
      },
      {
        "duration": 7,
        "start_time": "2022-07-09T07:41:15.316Z"
      },
      {
        "duration": 33,
        "start_time": "2022-07-09T07:41:15.325Z"
      },
      {
        "duration": 160,
        "start_time": "2022-07-09T07:41:15.364Z"
      },
      {
        "duration": 42,
        "start_time": "2022-07-09T07:41:15.526Z"
      },
      {
        "duration": 5,
        "start_time": "2022-07-09T07:41:15.572Z"
      },
      {
        "duration": 13,
        "start_time": "2022-07-09T07:41:15.578Z"
      },
      {
        "duration": 9,
        "start_time": "2022-07-09T07:41:15.593Z"
      },
      {
        "duration": 344,
        "start_time": "2022-07-09T07:41:15.603Z"
      },
      {
        "duration": 428,
        "start_time": "2022-07-09T07:41:15.950Z"
      },
      {
        "duration": 5,
        "start_time": "2022-07-09T07:41:16.380Z"
      },
      {
        "duration": 66,
        "start_time": "2022-07-09T07:41:16.387Z"
      },
      {
        "duration": 36,
        "start_time": "2022-07-09T07:41:16.460Z"
      },
      {
        "duration": 10,
        "start_time": "2022-07-09T07:41:16.498Z"
      },
      {
        "duration": 49,
        "start_time": "2022-07-09T07:41:16.510Z"
      },
      {
        "duration": 414,
        "start_time": "2022-07-09T07:41:16.561Z"
      },
      {
        "duration": 468,
        "start_time": "2022-07-09T07:41:16.976Z"
      },
      {
        "duration": 5,
        "start_time": "2022-07-09T07:41:17.446Z"
      },
      {
        "duration": 38,
        "start_time": "2022-07-09T07:41:17.463Z"
      },
      {
        "duration": 47,
        "start_time": "2022-07-09T07:41:17.504Z"
      },
      {
        "duration": 39,
        "start_time": "2022-07-09T07:41:17.554Z"
      },
      {
        "duration": 256,
        "start_time": "2022-07-09T07:41:17.595Z"
      },
      {
        "duration": 247,
        "start_time": "2022-07-09T07:41:17.864Z"
      },
      {
        "duration": 5,
        "start_time": "2022-07-09T07:41:18.113Z"
      },
      {
        "duration": 72,
        "start_time": "2022-07-09T07:41:18.120Z"
      },
      {
        "duration": 1000,
        "start_time": "2022-07-09T07:41:18.193Z"
      },
      {
        "duration": 685,
        "start_time": "2022-07-09T07:41:19.195Z"
      },
      {
        "duration": 10,
        "start_time": "2022-07-09T07:41:19.883Z"
      },
      {
        "duration": 4,
        "start_time": "2022-07-09T07:41:19.895Z"
      },
      {
        "duration": 14,
        "start_time": "2022-07-09T07:41:19.901Z"
      },
      {
        "duration": 6,
        "start_time": "2022-07-09T07:41:19.917Z"
      },
      {
        "duration": 81,
        "start_time": "2022-07-09T07:44:24.107Z"
      },
      {
        "duration": 2,
        "start_time": "2022-07-09T07:44:36.302Z"
      },
      {
        "duration": 3,
        "start_time": "2022-07-09T07:44:40.704Z"
      },
      {
        "duration": 20,
        "start_time": "2022-07-09T07:44:45.777Z"
      },
      {
        "duration": 28,
        "start_time": "2022-07-09T07:47:00.587Z"
      },
      {
        "duration": 27,
        "start_time": "2022-07-09T07:47:28.011Z"
      },
      {
        "duration": 59,
        "start_time": "2022-07-09T07:48:30.792Z"
      },
      {
        "duration": 3,
        "start_time": "2022-07-09T07:48:34.803Z"
      },
      {
        "duration": 17,
        "start_time": "2022-07-09T07:50:45.585Z"
      },
      {
        "duration": 4,
        "start_time": "2022-07-09T07:51:22.568Z"
      },
      {
        "duration": 25,
        "start_time": "2022-07-09T07:51:26.969Z"
      },
      {
        "duration": 39,
        "start_time": "2022-07-09T07:51:54.027Z"
      },
      {
        "duration": 3,
        "start_time": "2022-07-09T07:53:27.220Z"
      },
      {
        "duration": 442,
        "start_time": "2022-07-09T07:53:27.225Z"
      },
      {
        "duration": 120,
        "start_time": "2022-07-09T07:53:27.668Z"
      },
      {
        "duration": 126,
        "start_time": "2022-07-09T07:53:27.789Z"
      },
      {
        "duration": 75,
        "start_time": "2022-07-09T07:53:27.917Z"
      },
      {
        "duration": 236,
        "start_time": "2022-07-09T07:53:27.993Z"
      },
      {
        "duration": 86,
        "start_time": "2022-07-09T07:53:28.231Z"
      },
      {
        "duration": 75,
        "start_time": "2022-07-09T07:53:28.319Z"
      },
      {
        "duration": 5,
        "start_time": "2022-07-09T07:53:28.396Z"
      },
      {
        "duration": 12,
        "start_time": "2022-07-09T07:53:28.404Z"
      },
      {
        "duration": 13,
        "start_time": "2022-07-09T07:53:28.418Z"
      },
      {
        "duration": 22,
        "start_time": "2022-07-09T07:53:28.432Z"
      },
      {
        "duration": 209,
        "start_time": "2022-07-09T07:53:28.457Z"
      },
      {
        "duration": 284,
        "start_time": "2022-07-09T07:53:28.668Z"
      },
      {
        "duration": 6,
        "start_time": "2022-07-09T07:53:28.954Z"
      },
      {
        "duration": 15,
        "start_time": "2022-07-09T07:53:28.961Z"
      },
      {
        "duration": 16,
        "start_time": "2022-07-09T07:53:28.977Z"
      },
      {
        "duration": 234,
        "start_time": "2022-07-09T07:53:28.995Z"
      },
      {
        "duration": 23,
        "start_time": "2022-07-09T07:53:29.231Z"
      },
      {
        "duration": 184,
        "start_time": "2022-07-09T07:53:29.256Z"
      },
      {
        "duration": 168,
        "start_time": "2022-07-09T07:53:29.442Z"
      },
      {
        "duration": 12,
        "start_time": "2022-07-09T07:53:29.612Z"
      },
      {
        "duration": 179,
        "start_time": "2022-07-09T07:53:29.626Z"
      },
      {
        "duration": 207,
        "start_time": "2022-07-09T07:53:29.807Z"
      },
      {
        "duration": 10,
        "start_time": "2022-07-09T07:53:30.016Z"
      },
      {
        "duration": 26,
        "start_time": "2022-07-09T07:53:30.028Z"
      },
      {
        "duration": 20,
        "start_time": "2022-07-09T07:53:30.056Z"
      },
      {
        "duration": 540,
        "start_time": "2022-07-09T07:53:30.078Z"
      },
      {
        "duration": 15,
        "start_time": "2022-07-09T07:53:30.620Z"
      },
      {
        "duration": 11,
        "start_time": "2022-07-09T07:53:30.647Z"
      },
      {
        "duration": 11,
        "start_time": "2022-07-09T07:53:30.660Z"
      },
      {
        "duration": 23,
        "start_time": "2022-07-09T07:53:30.673Z"
      },
      {
        "duration": 57,
        "start_time": "2022-07-09T07:53:30.698Z"
      },
      {
        "duration": 51,
        "start_time": "2022-07-09T07:53:30.757Z"
      },
      {
        "duration": 64,
        "start_time": "2022-07-09T07:53:30.809Z"
      },
      {
        "duration": 39,
        "start_time": "2022-07-09T07:53:30.875Z"
      },
      {
        "duration": 45,
        "start_time": "2022-07-09T07:53:30.919Z"
      },
      {
        "duration": 22,
        "start_time": "2022-07-09T07:53:30.966Z"
      },
      {
        "duration": 16,
        "start_time": "2022-07-09T07:53:30.989Z"
      },
      {
        "duration": 44,
        "start_time": "2022-07-09T07:53:31.007Z"
      },
      {
        "duration": 17,
        "start_time": "2022-07-09T07:53:31.054Z"
      },
      {
        "duration": 13,
        "start_time": "2022-07-09T07:53:31.073Z"
      },
      {
        "duration": 24,
        "start_time": "2022-07-09T07:53:31.087Z"
      },
      {
        "duration": 41,
        "start_time": "2022-07-09T07:53:31.113Z"
      },
      {
        "duration": 23,
        "start_time": "2022-07-09T07:53:31.156Z"
      },
      {
        "duration": 22,
        "start_time": "2022-07-09T07:53:31.181Z"
      },
      {
        "duration": 5,
        "start_time": "2022-07-09T07:53:31.205Z"
      },
      {
        "duration": 9,
        "start_time": "2022-07-09T07:53:31.212Z"
      },
      {
        "duration": 8,
        "start_time": "2022-07-09T07:53:31.223Z"
      },
      {
        "duration": 29,
        "start_time": "2022-07-09T07:53:31.233Z"
      },
      {
        "duration": 140,
        "start_time": "2022-07-09T07:53:31.264Z"
      },
      {
        "duration": 51,
        "start_time": "2022-07-09T07:53:31.406Z"
      },
      {
        "duration": 6,
        "start_time": "2022-07-09T07:53:31.459Z"
      },
      {
        "duration": 19,
        "start_time": "2022-07-09T07:53:31.467Z"
      },
      {
        "duration": 20,
        "start_time": "2022-07-09T07:53:31.488Z"
      },
      {
        "duration": 179,
        "start_time": "2022-07-09T07:53:31.510Z"
      },
      {
        "duration": 185,
        "start_time": "2022-07-09T07:53:31.691Z"
      },
      {
        "duration": 3,
        "start_time": "2022-07-09T07:53:31.878Z"
      },
      {
        "duration": 19,
        "start_time": "2022-07-09T07:53:31.883Z"
      },
      {
        "duration": 14,
        "start_time": "2022-07-09T07:53:31.904Z"
      },
      {
        "duration": 15,
        "start_time": "2022-07-09T07:53:31.919Z"
      },
      {
        "duration": 15,
        "start_time": "2022-07-09T07:53:31.936Z"
      },
      {
        "duration": 230,
        "start_time": "2022-07-09T07:53:31.953Z"
      },
      {
        "duration": 470,
        "start_time": "2022-07-09T07:53:32.185Z"
      },
      {
        "duration": 5,
        "start_time": "2022-07-09T07:53:32.657Z"
      },
      {
        "duration": 14,
        "start_time": "2022-07-09T07:53:32.664Z"
      },
      {
        "duration": 13,
        "start_time": "2022-07-09T07:53:32.680Z"
      },
      {
        "duration": 60,
        "start_time": "2022-07-09T07:53:32.695Z"
      },
      {
        "duration": 330,
        "start_time": "2022-07-09T07:53:32.758Z"
      },
      {
        "duration": 477,
        "start_time": "2022-07-09T07:53:33.090Z"
      },
      {
        "duration": 4,
        "start_time": "2022-07-09T07:53:33.569Z"
      },
      {
        "duration": 18,
        "start_time": "2022-07-09T07:53:33.574Z"
      },
      {
        "duration": 1051,
        "start_time": "2022-07-09T07:53:33.643Z"
      },
      {
        "duration": 669,
        "start_time": "2022-07-09T07:53:34.696Z"
      },
      {
        "duration": 10,
        "start_time": "2022-07-09T07:53:35.367Z"
      },
      {
        "duration": 7,
        "start_time": "2022-07-09T07:53:35.379Z"
      },
      {
        "duration": 22,
        "start_time": "2022-07-09T07:53:35.388Z"
      },
      {
        "duration": 7,
        "start_time": "2022-07-09T07:53:35.412Z"
      },
      {
        "duration": 20,
        "start_time": "2022-07-09T07:57:50.587Z"
      },
      {
        "duration": 8,
        "start_time": "2022-07-09T07:58:17.794Z"
      },
      {
        "duration": 8,
        "start_time": "2022-07-09T07:58:23.088Z"
      },
      {
        "duration": 20,
        "start_time": "2022-07-09T07:58:29.295Z"
      },
      {
        "duration": 3,
        "start_time": "2022-07-09T07:58:40.294Z"
      },
      {
        "duration": 466,
        "start_time": "2022-07-09T07:58:40.299Z"
      },
      {
        "duration": 126,
        "start_time": "2022-07-09T07:58:40.767Z"
      },
      {
        "duration": 118,
        "start_time": "2022-07-09T07:58:40.895Z"
      },
      {
        "duration": 77,
        "start_time": "2022-07-09T07:58:41.015Z"
      },
      {
        "duration": 254,
        "start_time": "2022-07-09T07:58:41.093Z"
      },
      {
        "duration": 78,
        "start_time": "2022-07-09T07:58:41.356Z"
      },
      {
        "duration": 60,
        "start_time": "2022-07-09T07:58:41.436Z"
      },
      {
        "duration": 6,
        "start_time": "2022-07-09T07:58:41.498Z"
      },
      {
        "duration": 14,
        "start_time": "2022-07-09T07:58:41.506Z"
      },
      {
        "duration": 12,
        "start_time": "2022-07-09T07:58:41.522Z"
      },
      {
        "duration": 34,
        "start_time": "2022-07-09T07:58:41.536Z"
      },
      {
        "duration": 187,
        "start_time": "2022-07-09T07:58:41.573Z"
      },
      {
        "duration": 249,
        "start_time": "2022-07-09T07:58:41.764Z"
      },
      {
        "duration": 6,
        "start_time": "2022-07-09T07:58:42.014Z"
      },
      {
        "duration": 25,
        "start_time": "2022-07-09T07:58:42.022Z"
      },
      {
        "duration": 20,
        "start_time": "2022-07-09T07:58:42.049Z"
      },
      {
        "duration": 228,
        "start_time": "2022-07-09T07:58:42.071Z"
      },
      {
        "duration": 14,
        "start_time": "2022-07-09T07:58:42.301Z"
      },
      {
        "duration": 183,
        "start_time": "2022-07-09T07:58:42.317Z"
      },
      {
        "duration": 184,
        "start_time": "2022-07-09T07:58:42.501Z"
      },
      {
        "duration": 11,
        "start_time": "2022-07-09T07:58:42.686Z"
      },
      {
        "duration": 177,
        "start_time": "2022-07-09T07:58:42.699Z"
      },
      {
        "duration": 193,
        "start_time": "2022-07-09T07:58:42.877Z"
      },
      {
        "duration": 9,
        "start_time": "2022-07-09T07:58:43.071Z"
      },
      {
        "duration": 8,
        "start_time": "2022-07-09T07:58:43.082Z"
      },
      {
        "duration": 17,
        "start_time": "2022-07-09T07:58:43.092Z"
      },
      {
        "duration": 367,
        "start_time": "2022-07-09T07:58:43.111Z"
      },
      {
        "duration": 16,
        "start_time": "2022-07-09T07:58:43.480Z"
      },
      {
        "duration": 8,
        "start_time": "2022-07-09T07:58:43.497Z"
      },
      {
        "duration": 11,
        "start_time": "2022-07-09T07:58:43.506Z"
      },
      {
        "duration": 36,
        "start_time": "2022-07-09T07:58:43.518Z"
      },
      {
        "duration": 42,
        "start_time": "2022-07-09T07:58:43.556Z"
      },
      {
        "duration": 54,
        "start_time": "2022-07-09T07:58:43.599Z"
      },
      {
        "duration": 45,
        "start_time": "2022-07-09T07:58:43.657Z"
      },
      {
        "duration": 51,
        "start_time": "2022-07-09T07:58:43.704Z"
      },
      {
        "duration": 24,
        "start_time": "2022-07-09T07:58:43.758Z"
      },
      {
        "duration": 19,
        "start_time": "2022-07-09T07:58:43.784Z"
      },
      {
        "duration": 24,
        "start_time": "2022-07-09T07:58:43.805Z"
      },
      {
        "duration": 26,
        "start_time": "2022-07-09T07:58:43.843Z"
      },
      {
        "duration": 19,
        "start_time": "2022-07-09T07:58:43.875Z"
      },
      {
        "duration": 18,
        "start_time": "2022-07-09T07:58:43.896Z"
      },
      {
        "duration": 44,
        "start_time": "2022-07-09T07:58:43.916Z"
      },
      {
        "duration": 9,
        "start_time": "2022-07-09T07:58:43.962Z"
      },
      {
        "duration": 21,
        "start_time": "2022-07-09T07:58:43.973Z"
      },
      {
        "duration": 9,
        "start_time": "2022-07-09T07:58:43.995Z"
      },
      {
        "duration": 14,
        "start_time": "2022-07-09T07:58:44.006Z"
      },
      {
        "duration": 13,
        "start_time": "2022-07-09T07:58:44.042Z"
      },
      {
        "duration": 7,
        "start_time": "2022-07-09T07:58:44.058Z"
      },
      {
        "duration": 10,
        "start_time": "2022-07-09T07:58:44.067Z"
      },
      {
        "duration": 21,
        "start_time": "2022-07-09T07:58:44.079Z"
      },
      {
        "duration": 153,
        "start_time": "2022-07-09T07:58:44.101Z"
      },
      {
        "duration": 30,
        "start_time": "2022-07-09T07:58:44.256Z"
      },
      {
        "duration": 4,
        "start_time": "2022-07-09T07:58:44.288Z"
      },
      {
        "duration": 13,
        "start_time": "2022-07-09T07:58:44.294Z"
      },
      {
        "duration": 14,
        "start_time": "2022-07-09T07:58:44.309Z"
      },
      {
        "duration": 213,
        "start_time": "2022-07-09T07:58:44.352Z"
      },
      {
        "duration": 236,
        "start_time": "2022-07-09T07:58:44.567Z"
      },
      {
        "duration": 3,
        "start_time": "2022-07-09T07:58:44.806Z"
      },
      {
        "duration": 6,
        "start_time": "2022-07-09T07:58:44.811Z"
      },
      {
        "duration": 9,
        "start_time": "2022-07-09T07:58:44.819Z"
      },
      {
        "duration": 16,
        "start_time": "2022-07-09T07:58:44.829Z"
      },
      {
        "duration": 16,
        "start_time": "2022-07-09T07:58:44.846Z"
      },
      {
        "duration": 207,
        "start_time": "2022-07-09T07:58:44.864Z"
      },
      {
        "duration": 423,
        "start_time": "2022-07-09T07:58:45.073Z"
      },
      {
        "duration": 4,
        "start_time": "2022-07-09T07:58:45.497Z"
      },
      {
        "duration": 8,
        "start_time": "2022-07-09T07:58:45.503Z"
      },
      {
        "duration": 15,
        "start_time": "2022-07-09T07:58:45.513Z"
      },
      {
        "duration": 20,
        "start_time": "2022-07-09T07:58:45.530Z"
      },
      {
        "duration": 188,
        "start_time": "2022-07-09T07:58:45.552Z"
      },
      {
        "duration": 318,
        "start_time": "2022-07-09T07:58:45.741Z"
      },
      {
        "duration": 4,
        "start_time": "2022-07-09T07:58:46.062Z"
      },
      {
        "duration": 7,
        "start_time": "2022-07-09T07:58:46.068Z"
      },
      {
        "duration": 1391,
        "start_time": "2022-07-09T07:58:46.077Z"
      },
      {
        "duration": 991,
        "start_time": "2022-07-09T07:58:47.470Z"
      },
      {
        "duration": 10,
        "start_time": "2022-07-09T07:58:48.463Z"
      },
      {
        "duration": 6,
        "start_time": "2022-07-09T07:58:48.475Z"
      },
      {
        "duration": 19,
        "start_time": "2022-07-09T07:58:48.483Z"
      },
      {
        "duration": 6,
        "start_time": "2022-07-09T07:58:48.503Z"
      },
      {
        "duration": 26,
        "start_time": "2022-07-09T07:59:52.336Z"
      },
      {
        "duration": 10,
        "start_time": "2022-07-09T07:59:57.475Z"
      },
      {
        "duration": 6,
        "start_time": "2022-07-09T08:00:01.000Z"
      },
      {
        "duration": 6,
        "start_time": "2022-07-09T08:00:05.733Z"
      },
      {
        "duration": 6,
        "start_time": "2022-07-09T08:00:29.276Z"
      },
      {
        "duration": 6,
        "start_time": "2022-07-09T08:00:45.528Z"
      },
      {
        "duration": 6,
        "start_time": "2022-07-09T08:01:08.704Z"
      },
      {
        "duration": 36,
        "start_time": "2022-07-09T08:03:21.483Z"
      },
      {
        "duration": 32,
        "start_time": "2022-07-09T08:03:26.697Z"
      },
      {
        "duration": 41,
        "start_time": "2022-07-09T08:03:31.090Z"
      },
      {
        "duration": 35,
        "start_time": "2022-07-09T08:03:35.192Z"
      },
      {
        "duration": 5,
        "start_time": "2022-07-09T08:06:42.429Z"
      },
      {
        "duration": 9,
        "start_time": "2022-07-09T08:07:18.213Z"
      },
      {
        "duration": 11,
        "start_time": "2022-07-09T08:07:34.128Z"
      },
      {
        "duration": 9,
        "start_time": "2022-07-09T08:07:44.821Z"
      },
      {
        "duration": 10,
        "start_time": "2022-07-09T08:08:02.679Z"
      },
      {
        "duration": 7,
        "start_time": "2022-07-09T08:11:16.163Z"
      },
      {
        "duration": 6,
        "start_time": "2022-07-09T08:11:26.332Z"
      },
      {
        "duration": 4,
        "start_time": "2022-07-09T08:14:30.812Z"
      },
      {
        "duration": 4,
        "start_time": "2022-07-09T08:14:42.380Z"
      },
      {
        "duration": 11,
        "start_time": "2022-07-09T08:15:05.708Z"
      },
      {
        "duration": 1215,
        "start_time": "2022-07-09T08:15:10.417Z"
      },
      {
        "duration": 15,
        "start_time": "2022-07-09T08:15:30.276Z"
      },
      {
        "duration": 5,
        "start_time": "2022-07-09T08:18:04.720Z"
      },
      {
        "duration": 1049,
        "start_time": "2022-07-09T08:18:47.782Z"
      },
      {
        "duration": 1166,
        "start_time": "2022-07-09T08:19:04.504Z"
      },
      {
        "duration": 81,
        "start_time": "2022-07-09T08:19:08.388Z"
      },
      {
        "duration": 6,
        "start_time": "2022-07-09T08:19:10.474Z"
      },
      {
        "duration": 4,
        "start_time": "2022-07-09T08:20:09.588Z"
      },
      {
        "duration": 37,
        "start_time": "2022-07-09T08:20:15.932Z"
      },
      {
        "duration": 10,
        "start_time": "2022-07-09T08:22:29.280Z"
      },
      {
        "duration": 12,
        "start_time": "2022-07-09T08:22:39.873Z"
      },
      {
        "duration": 22,
        "start_time": "2022-07-09T08:22:56.141Z"
      },
      {
        "duration": 8,
        "start_time": "2022-07-09T08:23:25.697Z"
      },
      {
        "duration": 15,
        "start_time": "2022-07-09T08:23:43.669Z"
      },
      {
        "duration": 15,
        "start_time": "2022-07-09T08:24:47.063Z"
      },
      {
        "duration": 10,
        "start_time": "2022-07-09T08:25:00.324Z"
      },
      {
        "duration": 10,
        "start_time": "2022-07-09T08:25:02.984Z"
      },
      {
        "duration": 12,
        "start_time": "2022-07-09T08:25:59.236Z"
      },
      {
        "duration": 13,
        "start_time": "2022-07-09T08:26:31.968Z"
      },
      {
        "duration": 11,
        "start_time": "2022-07-09T08:26:33.596Z"
      },
      {
        "duration": 24,
        "start_time": "2022-07-09T08:26:51.632Z"
      },
      {
        "duration": 4,
        "start_time": "2022-07-09T08:28:15.274Z"
      },
      {
        "duration": 14,
        "start_time": "2022-07-09T08:29:21.213Z"
      },
      {
        "duration": 17,
        "start_time": "2022-07-09T09:19:22.617Z"
      },
      {
        "duration": 5,
        "start_time": "2022-07-09T09:22:15.470Z"
      },
      {
        "duration": 11,
        "start_time": "2022-07-09T09:22:30.469Z"
      },
      {
        "duration": 53,
        "start_time": "2022-07-09T09:22:52.749Z"
      },
      {
        "duration": 688,
        "start_time": "2022-07-09T09:22:58.082Z"
      },
      {
        "duration": 37,
        "start_time": "2022-07-09T09:23:34.166Z"
      },
      {
        "duration": 506,
        "start_time": "2022-07-09T09:40:42.343Z"
      },
      {
        "duration": 25,
        "start_time": "2022-07-09T09:41:13.913Z"
      },
      {
        "duration": 11,
        "start_time": "2022-07-09T09:41:43.554Z"
      },
      {
        "duration": 23,
        "start_time": "2022-07-09T09:41:51.954Z"
      },
      {
        "duration": 898,
        "start_time": "2022-07-09T09:42:04.731Z"
      },
      {
        "duration": 6,
        "start_time": "2022-07-09T09:48:42.769Z"
      },
      {
        "duration": 4,
        "start_time": "2022-07-09T09:48:59.636Z"
      },
      {
        "duration": 11,
        "start_time": "2022-07-09T09:49:08.899Z"
      },
      {
        "duration": 10,
        "start_time": "2022-07-09T09:49:14.115Z"
      },
      {
        "duration": 10,
        "start_time": "2022-07-09T09:49:55.768Z"
      },
      {
        "duration": 9,
        "start_time": "2022-07-09T09:50:42.188Z"
      },
      {
        "duration": 7,
        "start_time": "2022-07-09T09:50:44.927Z"
      },
      {
        "duration": 7,
        "start_time": "2022-07-09T09:50:46.183Z"
      },
      {
        "duration": 6,
        "start_time": "2022-07-09T09:50:50.995Z"
      },
      {
        "duration": 5,
        "start_time": "2022-07-09T09:50:54.120Z"
      },
      {
        "duration": 6,
        "start_time": "2022-07-09T09:51:12.584Z"
      },
      {
        "duration": 5,
        "start_time": "2022-07-09T09:51:14.784Z"
      },
      {
        "duration": 5,
        "start_time": "2022-07-09T09:51:19.108Z"
      },
      {
        "duration": 26,
        "start_time": "2022-07-09T09:51:47.437Z"
      },
      {
        "duration": 7,
        "start_time": "2022-07-09T09:51:50.700Z"
      },
      {
        "duration": 4,
        "start_time": "2022-07-09T09:51:57.792Z"
      },
      {
        "duration": 4,
        "start_time": "2022-07-09T10:01:33.831Z"
      },
      {
        "duration": 2,
        "start_time": "2022-07-09T10:01:50.307Z"
      },
      {
        "duration": 474,
        "start_time": "2022-07-09T10:01:50.312Z"
      },
      {
        "duration": 124,
        "start_time": "2022-07-09T10:01:50.788Z"
      },
      {
        "duration": 144,
        "start_time": "2022-07-09T10:01:50.914Z"
      },
      {
        "duration": 58,
        "start_time": "2022-07-09T10:01:51.061Z"
      },
      {
        "duration": 241,
        "start_time": "2022-07-09T10:01:51.142Z"
      },
      {
        "duration": 96,
        "start_time": "2022-07-09T10:01:51.386Z"
      },
      {
        "duration": 62,
        "start_time": "2022-07-09T10:01:51.484Z"
      },
      {
        "duration": 10,
        "start_time": "2022-07-09T10:01:51.551Z"
      },
      {
        "duration": 7,
        "start_time": "2022-07-09T10:01:51.563Z"
      },
      {
        "duration": 9,
        "start_time": "2022-07-09T10:01:51.574Z"
      },
      {
        "duration": 14,
        "start_time": "2022-07-09T10:01:51.585Z"
      },
      {
        "duration": 205,
        "start_time": "2022-07-09T10:01:51.601Z"
      },
      {
        "duration": 264,
        "start_time": "2022-07-09T10:01:51.808Z"
      },
      {
        "duration": 6,
        "start_time": "2022-07-09T10:01:52.074Z"
      },
      {
        "duration": 11,
        "start_time": "2022-07-09T10:01:52.082Z"
      },
      {
        "duration": 14,
        "start_time": "2022-07-09T10:01:52.095Z"
      },
      {
        "duration": 248,
        "start_time": "2022-07-09T10:01:52.111Z"
      },
      {
        "duration": 14,
        "start_time": "2022-07-09T10:01:52.362Z"
      },
      {
        "duration": 184,
        "start_time": "2022-07-09T10:01:52.378Z"
      },
      {
        "duration": 161,
        "start_time": "2022-07-09T10:01:52.564Z"
      },
      {
        "duration": 18,
        "start_time": "2022-07-09T10:01:52.727Z"
      },
      {
        "duration": 179,
        "start_time": "2022-07-09T10:01:52.746Z"
      },
      {
        "duration": 194,
        "start_time": "2022-07-09T10:01:52.926Z"
      },
      {
        "duration": 10,
        "start_time": "2022-07-09T10:01:53.122Z"
      },
      {
        "duration": 16,
        "start_time": "2022-07-09T10:01:53.142Z"
      },
      {
        "duration": 18,
        "start_time": "2022-07-09T10:01:53.159Z"
      },
      {
        "duration": 356,
        "start_time": "2022-07-09T10:01:53.178Z"
      },
      {
        "duration": 20,
        "start_time": "2022-07-09T10:01:53.541Z"
      },
      {
        "duration": 4,
        "start_time": "2022-07-09T10:01:53.563Z"
      },
      {
        "duration": 9,
        "start_time": "2022-07-09T10:01:53.568Z"
      },
      {
        "duration": 11,
        "start_time": "2022-07-09T10:01:53.579Z"
      },
      {
        "duration": 71,
        "start_time": "2022-07-09T10:01:53.592Z"
      },
      {
        "duration": 48,
        "start_time": "2022-07-09T10:01:53.665Z"
      },
      {
        "duration": 58,
        "start_time": "2022-07-09T10:01:53.714Z"
      },
      {
        "duration": 40,
        "start_time": "2022-07-09T10:01:53.774Z"
      },
      {
        "duration": 44,
        "start_time": "2022-07-09T10:01:53.815Z"
      },
      {
        "duration": 22,
        "start_time": "2022-07-09T10:01:53.861Z"
      },
      {
        "duration": 14,
        "start_time": "2022-07-09T10:01:53.885Z"
      },
      {
        "duration": 18,
        "start_time": "2022-07-09T10:01:53.900Z"
      },
      {
        "duration": 49,
        "start_time": "2022-07-09T10:01:53.919Z"
      },
      {
        "duration": 12,
        "start_time": "2022-07-09T10:01:53.970Z"
      },
      {
        "duration": 10,
        "start_time": "2022-07-09T10:01:53.984Z"
      },
      {
        "duration": 21,
        "start_time": "2022-07-09T10:01:53.996Z"
      },
      {
        "duration": 32,
        "start_time": "2022-07-09T10:01:54.019Z"
      },
      {
        "duration": 16,
        "start_time": "2022-07-09T10:01:54.056Z"
      },
      {
        "duration": 5,
        "start_time": "2022-07-09T10:01:54.073Z"
      },
      {
        "duration": 7,
        "start_time": "2022-07-09T10:01:54.079Z"
      },
      {
        "duration": 6,
        "start_time": "2022-07-09T10:01:54.088Z"
      },
      {
        "duration": 21,
        "start_time": "2022-07-09T10:01:54.096Z"
      },
      {
        "duration": 157,
        "start_time": "2022-07-09T10:01:54.119Z"
      },
      {
        "duration": 30,
        "start_time": "2022-07-09T10:01:54.278Z"
      },
      {
        "duration": 5,
        "start_time": "2022-07-09T10:01:54.311Z"
      },
      {
        "duration": 47,
        "start_time": "2022-07-09T10:01:54.318Z"
      },
      {
        "duration": 10,
        "start_time": "2022-07-09T10:01:54.367Z"
      },
      {
        "duration": 207,
        "start_time": "2022-07-09T10:01:54.378Z"
      },
      {
        "duration": 218,
        "start_time": "2022-07-09T10:01:54.587Z"
      },
      {
        "duration": 4,
        "start_time": "2022-07-09T10:01:54.806Z"
      },
      {
        "duration": 8,
        "start_time": "2022-07-09T10:01:54.811Z"
      },
      {
        "duration": 7,
        "start_time": "2022-07-09T10:01:54.821Z"
      },
      {
        "duration": 12,
        "start_time": "2022-07-09T10:01:54.842Z"
      },
      {
        "duration": 11,
        "start_time": "2022-07-09T10:01:54.857Z"
      },
      {
        "duration": 191,
        "start_time": "2022-07-09T10:01:54.871Z"
      },
      {
        "duration": 207,
        "start_time": "2022-07-09T10:01:55.064Z"
      },
      {
        "duration": 4,
        "start_time": "2022-07-09T10:01:55.273Z"
      },
      {
        "duration": 5,
        "start_time": "2022-07-09T10:01:55.279Z"
      },
      {
        "duration": 14,
        "start_time": "2022-07-09T10:01:55.285Z"
      },
      {
        "duration": 10,
        "start_time": "2022-07-09T10:01:55.300Z"
      },
      {
        "duration": 190,
        "start_time": "2022-07-09T10:01:55.312Z"
      },
      {
        "duration": 456,
        "start_time": "2022-07-09T10:01:55.505Z"
      },
      {
        "duration": 3,
        "start_time": "2022-07-09T10:01:55.963Z"
      },
      {
        "duration": 6,
        "start_time": "2022-07-09T10:01:55.968Z"
      },
      {
        "duration": 1395,
        "start_time": "2022-07-09T10:01:55.975Z"
      },
      {
        "duration": 740,
        "start_time": "2022-07-09T10:01:57.372Z"
      },
      {
        "duration": 10,
        "start_time": "2022-07-09T10:01:58.114Z"
      },
      {
        "duration": 28,
        "start_time": "2022-07-09T10:01:58.126Z"
      },
      {
        "duration": 13,
        "start_time": "2022-07-09T10:01:58.157Z"
      },
      {
        "duration": 6,
        "start_time": "2022-07-09T10:01:58.172Z"
      },
      {
        "duration": 4,
        "start_time": "2022-07-09T10:04:09.278Z"
      },
      {
        "duration": 4,
        "start_time": "2022-07-09T10:04:10.591Z"
      },
      {
        "duration": 5,
        "start_time": "2022-07-09T10:04:10.910Z"
      },
      {
        "duration": 5,
        "start_time": "2022-07-09T10:04:15.291Z"
      },
      {
        "duration": 9,
        "start_time": "2022-07-09T10:04:16.766Z"
      },
      {
        "duration": 8,
        "start_time": "2022-07-09T10:04:17.890Z"
      },
      {
        "duration": 270,
        "start_time": "2022-07-09T10:06:33.635Z"
      },
      {
        "duration": 11,
        "start_time": "2022-07-09T10:06:49.674Z"
      },
      {
        "duration": 11,
        "start_time": "2022-07-09T10:08:55.565Z"
      },
      {
        "duration": 14,
        "start_time": "2022-07-09T10:09:06.242Z"
      },
      {
        "duration": 9,
        "start_time": "2022-07-09T10:09:14.086Z"
      },
      {
        "duration": 6,
        "start_time": "2022-07-09T10:11:44.377Z"
      },
      {
        "duration": 9,
        "start_time": "2022-07-09T10:12:27.159Z"
      },
      {
        "duration": 19,
        "start_time": "2022-07-09T10:12:31.642Z"
      },
      {
        "duration": 40,
        "start_time": "2022-07-09T10:14:04.126Z"
      },
      {
        "duration": 26,
        "start_time": "2022-07-09T10:15:32.359Z"
      },
      {
        "duration": 1273,
        "start_time": "2022-07-10T01:02:51.382Z"
      },
      {
        "duration": 388,
        "start_time": "2022-07-10T01:02:52.658Z"
      },
      {
        "duration": 112,
        "start_time": "2022-07-10T01:02:53.048Z"
      },
      {
        "duration": 127,
        "start_time": "2022-07-10T01:02:53.163Z"
      },
      {
        "duration": 72,
        "start_time": "2022-07-10T01:02:53.291Z"
      },
      {
        "duration": 237,
        "start_time": "2022-07-10T01:02:53.364Z"
      },
      {
        "duration": 81,
        "start_time": "2022-07-10T01:02:53.603Z"
      },
      {
        "duration": 59,
        "start_time": "2022-07-10T01:02:53.686Z"
      },
      {
        "duration": 4,
        "start_time": "2022-07-10T01:02:53.747Z"
      },
      {
        "duration": 9,
        "start_time": "2022-07-10T01:02:53.753Z"
      },
      {
        "duration": 11,
        "start_time": "2022-07-10T01:02:53.764Z"
      },
      {
        "duration": 12,
        "start_time": "2022-07-10T01:02:53.776Z"
      },
      {
        "duration": 200,
        "start_time": "2022-07-10T01:02:53.789Z"
      },
      {
        "duration": 233,
        "start_time": "2022-07-10T01:02:53.991Z"
      },
      {
        "duration": 4,
        "start_time": "2022-07-10T01:02:54.226Z"
      },
      {
        "duration": 9,
        "start_time": "2022-07-10T01:02:54.232Z"
      },
      {
        "duration": 19,
        "start_time": "2022-07-10T01:02:54.243Z"
      },
      {
        "duration": 233,
        "start_time": "2022-07-10T01:02:54.263Z"
      },
      {
        "duration": 26,
        "start_time": "2022-07-10T01:02:54.498Z"
      },
      {
        "duration": 164,
        "start_time": "2022-07-10T01:02:54.526Z"
      },
      {
        "duration": 150,
        "start_time": "2022-07-10T01:02:54.691Z"
      },
      {
        "duration": 11,
        "start_time": "2022-07-10T01:02:54.843Z"
      },
      {
        "duration": 170,
        "start_time": "2022-07-10T01:02:54.855Z"
      },
      {
        "duration": 176,
        "start_time": "2022-07-10T01:02:55.027Z"
      },
      {
        "duration": 10,
        "start_time": "2022-07-10T01:02:55.205Z"
      },
      {
        "duration": 3,
        "start_time": "2022-07-10T01:02:55.224Z"
      },
      {
        "duration": 26,
        "start_time": "2022-07-10T01:02:55.229Z"
      },
      {
        "duration": 361,
        "start_time": "2022-07-10T01:02:55.260Z"
      },
      {
        "duration": 16,
        "start_time": "2022-07-10T01:02:55.623Z"
      },
      {
        "duration": 4,
        "start_time": "2022-07-10T01:02:55.640Z"
      },
      {
        "duration": 7,
        "start_time": "2022-07-10T01:02:55.646Z"
      },
      {
        "duration": 12,
        "start_time": "2022-07-10T01:02:55.655Z"
      },
      {
        "duration": 76,
        "start_time": "2022-07-10T01:02:55.669Z"
      },
      {
        "duration": 130,
        "start_time": "2022-07-10T01:02:55.747Z"
      },
      {
        "duration": 55,
        "start_time": "2022-07-10T01:02:55.879Z"
      },
      {
        "duration": 46,
        "start_time": "2022-07-10T01:02:55.935Z"
      },
      {
        "duration": 24,
        "start_time": "2022-07-10T01:02:55.983Z"
      },
      {
        "duration": 31,
        "start_time": "2022-07-10T01:02:56.023Z"
      },
      {
        "duration": 15,
        "start_time": "2022-07-10T01:02:56.056Z"
      },
      {
        "duration": 17,
        "start_time": "2022-07-10T01:02:56.072Z"
      },
      {
        "duration": 43,
        "start_time": "2022-07-10T01:02:56.091Z"
      },
      {
        "duration": 11,
        "start_time": "2022-07-10T01:02:56.135Z"
      },
      {
        "duration": 11,
        "start_time": "2022-07-10T01:02:56.147Z"
      },
      {
        "duration": 22,
        "start_time": "2022-07-10T01:02:56.159Z"
      },
      {
        "duration": 4,
        "start_time": "2022-07-10T01:02:56.183Z"
      },
      {
        "duration": 36,
        "start_time": "2022-07-10T01:02:56.189Z"
      },
      {
        "duration": 4,
        "start_time": "2022-07-10T01:02:56.227Z"
      },
      {
        "duration": 8,
        "start_time": "2022-07-10T01:02:56.233Z"
      },
      {
        "duration": 27,
        "start_time": "2022-07-10T01:02:56.242Z"
      },
      {
        "duration": 22,
        "start_time": "2022-07-10T01:02:56.271Z"
      },
      {
        "duration": 119,
        "start_time": "2022-07-10T01:02:56.295Z"
      },
      {
        "duration": 33,
        "start_time": "2022-07-10T01:02:56.416Z"
      },
      {
        "duration": 4,
        "start_time": "2022-07-10T01:02:56.450Z"
      },
      {
        "duration": 11,
        "start_time": "2022-07-10T01:02:56.456Z"
      },
      {
        "duration": 7,
        "start_time": "2022-07-10T01:02:56.469Z"
      },
      {
        "duration": 167,
        "start_time": "2022-07-10T01:02:56.478Z"
      },
      {
        "duration": 164,
        "start_time": "2022-07-10T01:02:56.648Z"
      },
      {
        "duration": 10,
        "start_time": "2022-07-10T01:02:56.814Z"
      },
      {
        "duration": 11,
        "start_time": "2022-07-10T01:02:56.825Z"
      },
      {
        "duration": 9,
        "start_time": "2022-07-10T01:02:56.838Z"
      },
      {
        "duration": 8,
        "start_time": "2022-07-10T01:02:56.848Z"
      },
      {
        "duration": 7,
        "start_time": "2022-07-10T01:02:56.858Z"
      },
      {
        "duration": 176,
        "start_time": "2022-07-10T01:02:56.867Z"
      },
      {
        "duration": 180,
        "start_time": "2022-07-10T01:02:57.045Z"
      },
      {
        "duration": 3,
        "start_time": "2022-07-10T01:02:57.227Z"
      },
      {
        "duration": 6,
        "start_time": "2022-07-10T01:02:57.232Z"
      },
      {
        "duration": 11,
        "start_time": "2022-07-10T01:02:57.239Z"
      },
      {
        "duration": 6,
        "start_time": "2022-07-10T01:02:57.252Z"
      },
      {
        "duration": 175,
        "start_time": "2022-07-10T01:02:57.260Z"
      },
      {
        "duration": 189,
        "start_time": "2022-07-10T01:02:57.436Z"
      },
      {
        "duration": 3,
        "start_time": "2022-07-10T01:02:57.627Z"
      },
      {
        "duration": 6,
        "start_time": "2022-07-10T01:02:57.632Z"
      },
      {
        "duration": 597,
        "start_time": "2022-07-10T01:02:57.639Z"
      },
      {
        "duration": 595,
        "start_time": "2022-07-10T01:02:58.237Z"
      },
      {
        "duration": 9,
        "start_time": "2022-07-10T01:02:58.834Z"
      },
      {
        "duration": 31,
        "start_time": "2022-07-10T01:02:58.844Z"
      },
      {
        "duration": 5,
        "start_time": "2022-07-10T01:02:58.877Z"
      },
      {
        "duration": 51,
        "start_time": "2022-07-10T01:02:58.884Z"
      },
      {
        "duration": 25,
        "start_time": "2022-07-10T01:02:58.937Z"
      },
      {
        "duration": 105,
        "start_time": "2022-07-10T01:12:35.981Z"
      },
      {
        "duration": 1272,
        "start_time": "2022-07-10T01:12:47.744Z"
      },
      {
        "duration": 389,
        "start_time": "2022-07-10T01:12:49.018Z"
      },
      {
        "duration": 124,
        "start_time": "2022-07-10T01:12:49.409Z"
      },
      {
        "duration": 116,
        "start_time": "2022-07-10T01:12:49.535Z"
      },
      {
        "duration": 72,
        "start_time": "2022-07-10T01:12:49.653Z"
      },
      {
        "duration": 234,
        "start_time": "2022-07-10T01:12:49.727Z"
      },
      {
        "duration": 82,
        "start_time": "2022-07-10T01:12:49.963Z"
      },
      {
        "duration": 49,
        "start_time": "2022-07-10T01:12:50.047Z"
      },
      {
        "duration": 4,
        "start_time": "2022-07-10T01:12:50.098Z"
      },
      {
        "duration": 7,
        "start_time": "2022-07-10T01:12:50.122Z"
      },
      {
        "duration": 10,
        "start_time": "2022-07-10T01:12:50.131Z"
      },
      {
        "duration": 11,
        "start_time": "2022-07-10T01:12:50.143Z"
      },
      {
        "duration": 196,
        "start_time": "2022-07-10T01:12:50.156Z"
      },
      {
        "duration": 231,
        "start_time": "2022-07-10T01:12:50.354Z"
      },
      {
        "duration": 5,
        "start_time": "2022-07-10T01:12:50.586Z"
      },
      {
        "duration": 21,
        "start_time": "2022-07-10T01:12:50.593Z"
      },
      {
        "duration": 22,
        "start_time": "2022-07-10T01:12:50.616Z"
      },
      {
        "duration": 206,
        "start_time": "2022-07-10T01:12:50.640Z"
      },
      {
        "duration": 14,
        "start_time": "2022-07-10T01:12:50.848Z"
      },
      {
        "duration": 177,
        "start_time": "2022-07-10T01:12:50.863Z"
      },
      {
        "duration": 148,
        "start_time": "2022-07-10T01:12:51.042Z"
      },
      {
        "duration": 11,
        "start_time": "2022-07-10T01:12:51.192Z"
      },
      {
        "duration": 161,
        "start_time": "2022-07-10T01:12:51.205Z"
      },
      {
        "duration": 180,
        "start_time": "2022-07-10T01:12:51.367Z"
      },
      {
        "duration": 9,
        "start_time": "2022-07-10T01:12:51.548Z"
      },
      {
        "duration": 5,
        "start_time": "2022-07-10T01:12:51.559Z"
      },
      {
        "duration": 20,
        "start_time": "2022-07-10T01:12:51.565Z"
      },
      {
        "duration": 337,
        "start_time": "2022-07-10T01:12:51.589Z"
      },
      {
        "duration": 13,
        "start_time": "2022-07-10T01:12:51.927Z"
      },
      {
        "duration": 2,
        "start_time": "2022-07-10T01:12:51.942Z"
      },
      {
        "duration": 6,
        "start_time": "2022-07-10T01:12:51.946Z"
      },
      {
        "duration": 10,
        "start_time": "2022-07-10T01:12:51.953Z"
      },
      {
        "duration": 68,
        "start_time": "2022-07-10T01:12:51.964Z"
      },
      {
        "duration": 131,
        "start_time": "2022-07-10T01:12:52.034Z"
      },
      {
        "duration": 37,
        "start_time": "2022-07-10T01:12:52.166Z"
      },
      {
        "duration": 48,
        "start_time": "2022-07-10T01:12:52.205Z"
      },
      {
        "duration": 22,
        "start_time": "2022-07-10T01:12:52.255Z"
      },
      {
        "duration": 19,
        "start_time": "2022-07-10T01:12:52.279Z"
      },
      {
        "duration": 38,
        "start_time": "2022-07-10T01:12:52.299Z"
      },
      {
        "duration": 17,
        "start_time": "2022-07-10T01:12:52.338Z"
      },
      {
        "duration": 15,
        "start_time": "2022-07-10T01:12:52.357Z"
      },
      {
        "duration": 9,
        "start_time": "2022-07-10T01:12:52.374Z"
      },
      {
        "duration": 38,
        "start_time": "2022-07-10T01:12:52.385Z"
      },
      {
        "duration": 20,
        "start_time": "2022-07-10T01:12:52.425Z"
      },
      {
        "duration": 4,
        "start_time": "2022-07-10T01:12:52.446Z"
      },
      {
        "duration": 119,
        "start_time": "2022-07-10T01:12:52.451Z"
      },
      {
        "duration": 0,
        "start_time": "2022-07-10T01:12:52.572Z"
      },
      {
        "duration": 0,
        "start_time": "2022-07-10T01:12:52.573Z"
      },
      {
        "duration": 0,
        "start_time": "2022-07-10T01:12:52.574Z"
      },
      {
        "duration": 0,
        "start_time": "2022-07-10T01:12:52.575Z"
      },
      {
        "duration": 0,
        "start_time": "2022-07-10T01:12:52.576Z"
      },
      {
        "duration": 0,
        "start_time": "2022-07-10T01:12:52.577Z"
      },
      {
        "duration": 0,
        "start_time": "2022-07-10T01:12:52.579Z"
      },
      {
        "duration": 0,
        "start_time": "2022-07-10T01:12:52.580Z"
      },
      {
        "duration": 0,
        "start_time": "2022-07-10T01:12:52.581Z"
      },
      {
        "duration": 0,
        "start_time": "2022-07-10T01:12:52.582Z"
      },
      {
        "duration": 0,
        "start_time": "2022-07-10T01:12:52.583Z"
      },
      {
        "duration": 0,
        "start_time": "2022-07-10T01:12:52.584Z"
      },
      {
        "duration": 0,
        "start_time": "2022-07-10T01:12:52.585Z"
      },
      {
        "duration": 0,
        "start_time": "2022-07-10T01:12:52.586Z"
      },
      {
        "duration": 0,
        "start_time": "2022-07-10T01:12:52.587Z"
      },
      {
        "duration": 0,
        "start_time": "2022-07-10T01:12:52.588Z"
      },
      {
        "duration": 0,
        "start_time": "2022-07-10T01:12:52.589Z"
      },
      {
        "duration": 0,
        "start_time": "2022-07-10T01:12:52.590Z"
      },
      {
        "duration": 0,
        "start_time": "2022-07-10T01:12:52.591Z"
      },
      {
        "duration": 0,
        "start_time": "2022-07-10T01:12:52.624Z"
      },
      {
        "duration": 0,
        "start_time": "2022-07-10T01:12:52.625Z"
      },
      {
        "duration": 0,
        "start_time": "2022-07-10T01:12:52.626Z"
      },
      {
        "duration": 0,
        "start_time": "2022-07-10T01:12:52.628Z"
      },
      {
        "duration": 0,
        "start_time": "2022-07-10T01:12:52.629Z"
      },
      {
        "duration": 0,
        "start_time": "2022-07-10T01:12:52.630Z"
      },
      {
        "duration": 0,
        "start_time": "2022-07-10T01:12:52.631Z"
      },
      {
        "duration": 0,
        "start_time": "2022-07-10T01:12:52.632Z"
      },
      {
        "duration": 0,
        "start_time": "2022-07-10T01:12:52.633Z"
      },
      {
        "duration": 0,
        "start_time": "2022-07-10T01:12:52.634Z"
      },
      {
        "duration": 0,
        "start_time": "2022-07-10T01:12:52.635Z"
      },
      {
        "duration": 0,
        "start_time": "2022-07-10T01:12:52.637Z"
      },
      {
        "duration": 0,
        "start_time": "2022-07-10T01:12:52.637Z"
      },
      {
        "duration": 0,
        "start_time": "2022-07-10T01:12:52.639Z"
      },
      {
        "duration": 0,
        "start_time": "2022-07-10T01:12:52.640Z"
      },
      {
        "duration": 12,
        "start_time": "2022-07-10T01:13:26.754Z"
      },
      {
        "duration": 1257,
        "start_time": "2022-07-10T01:13:39.323Z"
      },
      {
        "duration": 391,
        "start_time": "2022-07-10T01:13:40.582Z"
      },
      {
        "duration": 107,
        "start_time": "2022-07-10T01:13:40.975Z"
      },
      {
        "duration": 139,
        "start_time": "2022-07-10T01:13:41.084Z"
      },
      {
        "duration": 51,
        "start_time": "2022-07-10T01:13:41.225Z"
      },
      {
        "duration": 263,
        "start_time": "2022-07-10T01:13:41.278Z"
      },
      {
        "duration": 81,
        "start_time": "2022-07-10T01:13:41.543Z"
      },
      {
        "duration": 50,
        "start_time": "2022-07-10T01:13:41.625Z"
      },
      {
        "duration": 6,
        "start_time": "2022-07-10T01:13:41.676Z"
      },
      {
        "duration": 8,
        "start_time": "2022-07-10T01:13:41.684Z"
      },
      {
        "duration": 9,
        "start_time": "2022-07-10T01:13:41.693Z"
      },
      {
        "duration": 28,
        "start_time": "2022-07-10T01:13:41.704Z"
      },
      {
        "duration": 206,
        "start_time": "2022-07-10T01:13:41.734Z"
      },
      {
        "duration": 238,
        "start_time": "2022-07-10T01:13:41.942Z"
      },
      {
        "duration": 6,
        "start_time": "2022-07-10T01:13:42.182Z"
      },
      {
        "duration": 11,
        "start_time": "2022-07-10T01:13:42.189Z"
      },
      {
        "duration": 34,
        "start_time": "2022-07-10T01:13:42.201Z"
      },
      {
        "duration": 212,
        "start_time": "2022-07-10T01:13:42.237Z"
      },
      {
        "duration": 14,
        "start_time": "2022-07-10T01:13:42.450Z"
      },
      {
        "duration": 174,
        "start_time": "2022-07-10T01:13:42.466Z"
      },
      {
        "duration": 154,
        "start_time": "2022-07-10T01:13:42.643Z"
      },
      {
        "duration": 12,
        "start_time": "2022-07-10T01:13:42.799Z"
      },
      {
        "duration": 166,
        "start_time": "2022-07-10T01:13:42.813Z"
      },
      {
        "duration": 183,
        "start_time": "2022-07-10T01:13:42.981Z"
      },
      {
        "duration": 10,
        "start_time": "2022-07-10T01:13:43.166Z"
      },
      {
        "duration": 3,
        "start_time": "2022-07-10T01:13:43.179Z"
      },
      {
        "duration": 39,
        "start_time": "2022-07-10T01:13:43.184Z"
      },
      {
        "duration": 345,
        "start_time": "2022-07-10T01:13:43.229Z"
      },
      {
        "duration": 16,
        "start_time": "2022-07-10T01:13:43.576Z"
      },
      {
        "duration": 4,
        "start_time": "2022-07-10T01:13:43.594Z"
      },
      {
        "duration": 27,
        "start_time": "2022-07-10T01:13:43.599Z"
      },
      {
        "duration": 11,
        "start_time": "2022-07-10T01:13:43.628Z"
      },
      {
        "duration": 51,
        "start_time": "2022-07-10T01:13:43.641Z"
      },
      {
        "duration": 159,
        "start_time": "2022-07-10T01:13:43.694Z"
      },
      {
        "duration": 37,
        "start_time": "2022-07-10T01:13:43.854Z"
      },
      {
        "duration": 54,
        "start_time": "2022-07-10T01:13:43.893Z"
      },
      {
        "duration": 22,
        "start_time": "2022-07-10T01:13:43.950Z"
      },
      {
        "duration": 21,
        "start_time": "2022-07-10T01:13:43.974Z"
      },
      {
        "duration": 34,
        "start_time": "2022-07-10T01:13:43.997Z"
      },
      {
        "duration": 17,
        "start_time": "2022-07-10T01:13:44.033Z"
      },
      {
        "duration": 16,
        "start_time": "2022-07-10T01:13:44.052Z"
      },
      {
        "duration": 10,
        "start_time": "2022-07-10T01:13:44.070Z"
      },
      {
        "duration": 11,
        "start_time": "2022-07-10T01:13:44.082Z"
      },
      {
        "duration": 45,
        "start_time": "2022-07-10T01:13:44.094Z"
      },
      {
        "duration": 4,
        "start_time": "2022-07-10T01:13:44.141Z"
      },
      {
        "duration": 16,
        "start_time": "2022-07-10T01:13:44.147Z"
      },
      {
        "duration": 16,
        "start_time": "2022-07-10T01:13:44.165Z"
      },
      {
        "duration": 5,
        "start_time": "2022-07-10T01:13:44.182Z"
      },
      {
        "duration": 35,
        "start_time": "2022-07-10T01:13:44.189Z"
      },
      {
        "duration": 5,
        "start_time": "2022-07-10T01:13:44.226Z"
      },
      {
        "duration": 24,
        "start_time": "2022-07-10T01:13:44.233Z"
      },
      {
        "duration": 135,
        "start_time": "2022-07-10T01:13:44.259Z"
      },
      {
        "duration": 40,
        "start_time": "2022-07-10T01:13:44.396Z"
      },
      {
        "duration": 4,
        "start_time": "2022-07-10T01:13:44.437Z"
      },
      {
        "duration": 14,
        "start_time": "2022-07-10T01:13:44.443Z"
      },
      {
        "duration": 8,
        "start_time": "2022-07-10T01:13:44.459Z"
      },
      {
        "duration": 161,
        "start_time": "2022-07-10T01:13:44.469Z"
      },
      {
        "duration": 180,
        "start_time": "2022-07-10T01:13:44.633Z"
      },
      {
        "duration": 15,
        "start_time": "2022-07-10T01:13:44.815Z"
      },
      {
        "duration": 7,
        "start_time": "2022-07-10T01:13:44.832Z"
      },
      {
        "duration": 7,
        "start_time": "2022-07-10T01:13:44.841Z"
      },
      {
        "duration": 9,
        "start_time": "2022-07-10T01:13:44.850Z"
      },
      {
        "duration": 7,
        "start_time": "2022-07-10T01:13:44.861Z"
      },
      {
        "duration": 193,
        "start_time": "2022-07-10T01:13:44.870Z"
      },
      {
        "duration": 192,
        "start_time": "2022-07-10T01:13:45.065Z"
      },
      {
        "duration": 4,
        "start_time": "2022-07-10T01:13:45.258Z"
      },
      {
        "duration": 10,
        "start_time": "2022-07-10T01:13:45.264Z"
      },
      {
        "duration": 10,
        "start_time": "2022-07-10T01:13:45.276Z"
      },
      {
        "duration": 8,
        "start_time": "2022-07-10T01:13:45.287Z"
      },
      {
        "duration": 174,
        "start_time": "2022-07-10T01:13:45.297Z"
      },
      {
        "duration": 193,
        "start_time": "2022-07-10T01:13:45.473Z"
      },
      {
        "duration": 4,
        "start_time": "2022-07-10T01:13:45.667Z"
      },
      {
        "duration": 7,
        "start_time": "2022-07-10T01:13:45.672Z"
      },
      {
        "duration": 631,
        "start_time": "2022-07-10T01:13:45.680Z"
      },
      {
        "duration": 577,
        "start_time": "2022-07-10T01:13:46.312Z"
      },
      {
        "duration": 9,
        "start_time": "2022-07-10T01:13:46.891Z"
      },
      {
        "duration": 39,
        "start_time": "2022-07-10T01:13:46.902Z"
      },
      {
        "duration": 4,
        "start_time": "2022-07-10T01:13:46.943Z"
      },
      {
        "duration": 18,
        "start_time": "2022-07-10T01:13:46.949Z"
      },
      {
        "duration": 5,
        "start_time": "2022-07-10T01:13:46.968Z"
      },
      {
        "duration": 1499,
        "start_time": "2022-07-10T06:06:34.150Z"
      },
      {
        "duration": 821,
        "start_time": "2022-07-10T06:06:35.651Z"
      },
      {
        "duration": 124,
        "start_time": "2022-07-10T06:06:36.473Z"
      },
      {
        "duration": 138,
        "start_time": "2022-07-10T06:06:36.599Z"
      },
      {
        "duration": 56,
        "start_time": "2022-07-10T06:06:36.744Z"
      },
      {
        "duration": 224,
        "start_time": "2022-07-10T06:06:36.801Z"
      },
      {
        "duration": 106,
        "start_time": "2022-07-10T06:06:37.026Z"
      },
      {
        "duration": 61,
        "start_time": "2022-07-10T06:06:37.137Z"
      },
      {
        "duration": 7,
        "start_time": "2022-07-10T06:06:37.200Z"
      },
      {
        "duration": 22,
        "start_time": "2022-07-10T06:06:37.210Z"
      },
      {
        "duration": 23,
        "start_time": "2022-07-10T06:06:37.240Z"
      },
      {
        "duration": 18,
        "start_time": "2022-07-10T06:06:37.265Z"
      },
      {
        "duration": 261,
        "start_time": "2022-07-10T06:06:37.285Z"
      },
      {
        "duration": 264,
        "start_time": "2022-07-10T06:06:37.548Z"
      },
      {
        "duration": 5,
        "start_time": "2022-07-10T06:06:37.814Z"
      },
      {
        "duration": 41,
        "start_time": "2022-07-10T06:06:37.821Z"
      },
      {
        "duration": 17,
        "start_time": "2022-07-10T06:06:37.864Z"
      },
      {
        "duration": 214,
        "start_time": "2022-07-10T06:06:37.883Z"
      },
      {
        "duration": 15,
        "start_time": "2022-07-10T06:06:38.098Z"
      },
      {
        "duration": 204,
        "start_time": "2022-07-10T06:06:38.126Z"
      },
      {
        "duration": 178,
        "start_time": "2022-07-10T06:06:38.334Z"
      },
      {
        "duration": 28,
        "start_time": "2022-07-10T06:06:38.514Z"
      },
      {
        "duration": 173,
        "start_time": "2022-07-10T06:06:38.544Z"
      },
      {
        "duration": 225,
        "start_time": "2022-07-10T06:06:38.731Z"
      },
      {
        "duration": 9,
        "start_time": "2022-07-10T06:06:38.958Z"
      },
      {
        "duration": 5,
        "start_time": "2022-07-10T06:06:38.969Z"
      },
      {
        "duration": 16,
        "start_time": "2022-07-10T06:06:38.976Z"
      },
      {
        "duration": 375,
        "start_time": "2022-07-10T06:06:38.996Z"
      },
      {
        "duration": 17,
        "start_time": "2022-07-10T06:06:39.372Z"
      },
      {
        "duration": 3,
        "start_time": "2022-07-10T06:06:39.391Z"
      },
      {
        "duration": 6,
        "start_time": "2022-07-10T06:06:39.396Z"
      },
      {
        "duration": 37,
        "start_time": "2022-07-10T06:06:39.403Z"
      },
      {
        "duration": 49,
        "start_time": "2022-07-10T06:06:39.445Z"
      },
      {
        "duration": 137,
        "start_time": "2022-07-10T06:06:39.495Z"
      },
      {
        "duration": 41,
        "start_time": "2022-07-10T06:06:39.634Z"
      },
      {
        "duration": 38,
        "start_time": "2022-07-10T06:06:39.676Z"
      },
      {
        "duration": 29,
        "start_time": "2022-07-10T06:06:39.732Z"
      },
      {
        "duration": 21,
        "start_time": "2022-07-10T06:06:39.763Z"
      },
      {
        "duration": 14,
        "start_time": "2022-07-10T06:06:39.785Z"
      },
      {
        "duration": 31,
        "start_time": "2022-07-10T06:06:39.801Z"
      },
      {
        "duration": 18,
        "start_time": "2022-07-10T06:06:39.837Z"
      },
      {
        "duration": 9,
        "start_time": "2022-07-10T06:06:39.857Z"
      },
      {
        "duration": 9,
        "start_time": "2022-07-10T06:06:39.868Z"
      },
      {
        "duration": 19,
        "start_time": "2022-07-10T06:06:39.878Z"
      },
      {
        "duration": 31,
        "start_time": "2022-07-10T06:06:39.899Z"
      },
      {
        "duration": 34,
        "start_time": "2022-07-10T06:06:39.931Z"
      },
      {
        "duration": 16,
        "start_time": "2022-07-10T06:06:39.966Z"
      },
      {
        "duration": 5,
        "start_time": "2022-07-10T06:06:39.983Z"
      },
      {
        "duration": 14,
        "start_time": "2022-07-10T06:06:39.989Z"
      },
      {
        "duration": 10,
        "start_time": "2022-07-10T06:06:40.004Z"
      },
      {
        "duration": 34,
        "start_time": "2022-07-10T06:06:40.015Z"
      },
      {
        "duration": 130,
        "start_time": "2022-07-10T06:06:40.051Z"
      },
      {
        "duration": 25,
        "start_time": "2022-07-10T06:06:40.183Z"
      },
      {
        "duration": 23,
        "start_time": "2022-07-10T06:06:40.210Z"
      },
      {
        "duration": 31,
        "start_time": "2022-07-10T06:06:40.234Z"
      },
      {
        "duration": 7,
        "start_time": "2022-07-10T06:06:40.267Z"
      },
      {
        "duration": 160,
        "start_time": "2022-07-10T06:06:40.276Z"
      },
      {
        "duration": 173,
        "start_time": "2022-07-10T06:06:40.438Z"
      },
      {
        "duration": 3,
        "start_time": "2022-07-10T06:06:40.613Z"
      },
      {
        "duration": 4,
        "start_time": "2022-07-10T06:06:40.631Z"
      },
      {
        "duration": 21,
        "start_time": "2022-07-10T06:06:40.638Z"
      },
      {
        "duration": 12,
        "start_time": "2022-07-10T06:06:40.660Z"
      },
      {
        "duration": 12,
        "start_time": "2022-07-10T06:06:40.674Z"
      },
      {
        "duration": 164,
        "start_time": "2022-07-10T06:06:40.688Z"
      },
      {
        "duration": 192,
        "start_time": "2022-07-10T06:06:40.854Z"
      },
      {
        "duration": 4,
        "start_time": "2022-07-10T06:06:41.052Z"
      },
      {
        "duration": 6,
        "start_time": "2022-07-10T06:06:41.058Z"
      },
      {
        "duration": 10,
        "start_time": "2022-07-10T06:06:41.066Z"
      },
      {
        "duration": 8,
        "start_time": "2022-07-10T06:06:41.078Z"
      },
      {
        "duration": 186,
        "start_time": "2022-07-10T06:06:41.088Z"
      },
      {
        "duration": 196,
        "start_time": "2022-07-10T06:06:41.276Z"
      },
      {
        "duration": 4,
        "start_time": "2022-07-10T06:06:41.474Z"
      },
      {
        "duration": 8,
        "start_time": "2022-07-10T06:06:41.479Z"
      },
      {
        "duration": 656,
        "start_time": "2022-07-10T06:06:41.489Z"
      },
      {
        "duration": 617,
        "start_time": "2022-07-10T06:06:42.151Z"
      },
      {
        "duration": 9,
        "start_time": "2022-07-10T06:06:42.770Z"
      },
      {
        "duration": 22,
        "start_time": "2022-07-10T06:06:42.780Z"
      },
      {
        "duration": 11,
        "start_time": "2022-07-10T06:06:42.827Z"
      },
      {
        "duration": 29,
        "start_time": "2022-07-10T06:06:42.842Z"
      },
      {
        "duration": 7,
        "start_time": "2022-07-10T06:06:42.873Z"
      },
      {
        "duration": 23,
        "start_time": "2022-07-10T06:10:44.835Z"
      },
      {
        "duration": 12,
        "start_time": "2022-07-10T06:10:48.908Z"
      },
      {
        "duration": 15,
        "start_time": "2022-07-10T06:10:51.005Z"
      },
      {
        "duration": 11,
        "start_time": "2022-07-10T06:10:52.401Z"
      },
      {
        "duration": 8,
        "start_time": "2022-07-10T06:10:55.453Z"
      },
      {
        "duration": 21,
        "start_time": "2022-07-10T06:10:56.054Z"
      },
      {
        "duration": 21,
        "start_time": "2022-07-10T06:10:57.693Z"
      },
      {
        "duration": 4,
        "start_time": "2022-07-10T06:10:59.489Z"
      },
      {
        "duration": 14,
        "start_time": "2022-07-10T06:11:17.394Z"
      },
      {
        "duration": 13,
        "start_time": "2022-07-10T06:11:19.047Z"
      },
      {
        "duration": 4,
        "start_time": "2022-07-10T06:11:25.196Z"
      },
      {
        "duration": 4,
        "start_time": "2022-07-10T06:11:25.713Z"
      },
      {
        "duration": 4,
        "start_time": "2022-07-10T06:11:26.153Z"
      },
      {
        "duration": 17,
        "start_time": "2022-07-10T06:11:27.580Z"
      },
      {
        "duration": 94,
        "start_time": "2022-07-10T06:11:31.238Z"
      },
      {
        "duration": 27,
        "start_time": "2022-07-10T06:11:34.147Z"
      },
      {
        "duration": 4,
        "start_time": "2022-07-10T06:14:14.454Z"
      },
      {
        "duration": 22,
        "start_time": "2022-07-10T06:14:15.651Z"
      },
      {
        "duration": 4,
        "start_time": "2022-07-10T06:14:55.369Z"
      },
      {
        "duration": 23,
        "start_time": "2022-07-10T06:14:56.147Z"
      },
      {
        "duration": 3,
        "start_time": "2022-07-10T06:15:04.598Z"
      },
      {
        "duration": 498,
        "start_time": "2022-07-10T06:15:04.609Z"
      },
      {
        "duration": 134,
        "start_time": "2022-07-10T06:15:05.109Z"
      },
      {
        "duration": 120,
        "start_time": "2022-07-10T06:15:05.247Z"
      },
      {
        "duration": 79,
        "start_time": "2022-07-10T06:15:05.368Z"
      },
      {
        "duration": 224,
        "start_time": "2022-07-10T06:15:05.449Z"
      },
      {
        "duration": 99,
        "start_time": "2022-07-10T06:15:05.675Z"
      },
      {
        "duration": 67,
        "start_time": "2022-07-10T06:15:05.776Z"
      },
      {
        "duration": 7,
        "start_time": "2022-07-10T06:15:05.850Z"
      },
      {
        "duration": 14,
        "start_time": "2022-07-10T06:15:05.859Z"
      },
      {
        "duration": 12,
        "start_time": "2022-07-10T06:15:05.874Z"
      },
      {
        "duration": 11,
        "start_time": "2022-07-10T06:15:05.887Z"
      },
      {
        "duration": 181,
        "start_time": "2022-07-10T06:15:05.900Z"
      },
      {
        "duration": 253,
        "start_time": "2022-07-10T06:15:06.084Z"
      },
      {
        "duration": 11,
        "start_time": "2022-07-10T06:15:06.342Z"
      },
      {
        "duration": 26,
        "start_time": "2022-07-10T06:15:06.354Z"
      },
      {
        "duration": 14,
        "start_time": "2022-07-10T06:15:06.381Z"
      },
      {
        "duration": 202,
        "start_time": "2022-07-10T06:15:06.397Z"
      },
      {
        "duration": 13,
        "start_time": "2022-07-10T06:15:06.600Z"
      },
      {
        "duration": 197,
        "start_time": "2022-07-10T06:15:06.614Z"
      },
      {
        "duration": 171,
        "start_time": "2022-07-10T06:15:06.813Z"
      },
      {
        "duration": 10,
        "start_time": "2022-07-10T06:15:06.986Z"
      },
      {
        "duration": 285,
        "start_time": "2022-07-10T06:15:06.997Z"
      },
      {
        "duration": 233,
        "start_time": "2022-07-10T06:15:07.284Z"
      },
      {
        "duration": 29,
        "start_time": "2022-07-10T06:15:07.519Z"
      },
      {
        "duration": 33,
        "start_time": "2022-07-10T06:15:07.551Z"
      },
      {
        "duration": 19,
        "start_time": "2022-07-10T06:15:07.586Z"
      },
      {
        "duration": 380,
        "start_time": "2022-07-10T06:15:07.607Z"
      },
      {
        "duration": 13,
        "start_time": "2022-07-10T06:15:07.989Z"
      },
      {
        "duration": 3,
        "start_time": "2022-07-10T06:15:08.003Z"
      },
      {
        "duration": 62,
        "start_time": "2022-07-10T06:15:08.007Z"
      },
      {
        "duration": 10,
        "start_time": "2022-07-10T06:15:08.071Z"
      },
      {
        "duration": 67,
        "start_time": "2022-07-10T06:15:08.083Z"
      },
      {
        "duration": 50,
        "start_time": "2022-07-10T06:15:08.154Z"
      },
      {
        "duration": 40,
        "start_time": "2022-07-10T06:15:08.206Z"
      },
      {
        "duration": 41,
        "start_time": "2022-07-10T06:15:08.247Z"
      },
      {
        "duration": 41,
        "start_time": "2022-07-10T06:15:08.290Z"
      },
      {
        "duration": 65,
        "start_time": "2022-07-10T06:15:08.332Z"
      },
      {
        "duration": 14,
        "start_time": "2022-07-10T06:15:08.399Z"
      },
      {
        "duration": 23,
        "start_time": "2022-07-10T06:15:08.415Z"
      },
      {
        "duration": 37,
        "start_time": "2022-07-10T06:15:08.440Z"
      },
      {
        "duration": 10,
        "start_time": "2022-07-10T06:15:08.481Z"
      },
      {
        "duration": 9,
        "start_time": "2022-07-10T06:15:08.492Z"
      },
      {
        "duration": 19,
        "start_time": "2022-07-10T06:15:08.503Z"
      },
      {
        "duration": 7,
        "start_time": "2022-07-10T06:15:08.533Z"
      },
      {
        "duration": 21,
        "start_time": "2022-07-10T06:15:08.544Z"
      },
      {
        "duration": 12,
        "start_time": "2022-07-10T06:15:08.568Z"
      },
      {
        "duration": 3,
        "start_time": "2022-07-10T06:15:08.582Z"
      },
      {
        "duration": 9,
        "start_time": "2022-07-10T06:15:08.587Z"
      },
      {
        "duration": 8,
        "start_time": "2022-07-10T06:15:08.597Z"
      },
      {
        "duration": 5,
        "start_time": "2022-07-10T06:15:08.606Z"
      },
      {
        "duration": 42,
        "start_time": "2022-07-10T06:15:08.613Z"
      },
      {
        "duration": 110,
        "start_time": "2022-07-10T06:15:08.662Z"
      },
      {
        "duration": 27,
        "start_time": "2022-07-10T06:15:08.774Z"
      },
      {
        "duration": 6,
        "start_time": "2022-07-10T06:15:08.802Z"
      },
      {
        "duration": 72,
        "start_time": "2022-07-10T06:15:08.809Z"
      },
      {
        "duration": 8,
        "start_time": "2022-07-10T06:15:08.882Z"
      },
      {
        "duration": 148,
        "start_time": "2022-07-10T06:15:08.892Z"
      },
      {
        "duration": 196,
        "start_time": "2022-07-10T06:15:09.045Z"
      },
      {
        "duration": 8,
        "start_time": "2022-07-10T06:15:09.251Z"
      },
      {
        "duration": 10,
        "start_time": "2022-07-10T06:15:09.263Z"
      },
      {
        "duration": 8,
        "start_time": "2022-07-10T06:15:09.274Z"
      },
      {
        "duration": 46,
        "start_time": "2022-07-10T06:15:09.284Z"
      },
      {
        "duration": 11,
        "start_time": "2022-07-10T06:15:09.331Z"
      },
      {
        "duration": 487,
        "start_time": "2022-07-10T06:15:09.344Z"
      },
      {
        "duration": 401,
        "start_time": "2022-07-10T06:15:09.834Z"
      },
      {
        "duration": 13,
        "start_time": "2022-07-10T06:15:10.239Z"
      },
      {
        "duration": 25,
        "start_time": "2022-07-10T06:15:10.254Z"
      },
      {
        "duration": 10,
        "start_time": "2022-07-10T06:15:10.280Z"
      },
      {
        "duration": 51,
        "start_time": "2022-07-10T06:15:10.291Z"
      },
      {
        "duration": 385,
        "start_time": "2022-07-10T06:15:10.344Z"
      },
      {
        "duration": 402,
        "start_time": "2022-07-10T06:15:10.731Z"
      },
      {
        "duration": 11,
        "start_time": "2022-07-10T06:15:11.135Z"
      },
      {
        "duration": 29,
        "start_time": "2022-07-10T06:15:11.148Z"
      },
      {
        "duration": 609,
        "start_time": "2022-07-10T06:15:11.179Z"
      },
      {
        "duration": 731,
        "start_time": "2022-07-10T06:15:11.789Z"
      },
      {
        "duration": 16,
        "start_time": "2022-07-10T06:15:12.521Z"
      },
      {
        "duration": 50,
        "start_time": "2022-07-10T06:15:12.538Z"
      },
      {
        "duration": 4,
        "start_time": "2022-07-10T06:15:12.590Z"
      },
      {
        "duration": 16,
        "start_time": "2022-07-10T06:15:12.595Z"
      },
      {
        "duration": 7,
        "start_time": "2022-07-10T06:15:12.613Z"
      },
      {
        "duration": 18,
        "start_time": "2022-07-10T06:16:11.142Z"
      },
      {
        "duration": 28,
        "start_time": "2022-07-10T06:16:11.945Z"
      },
      {
        "duration": 7,
        "start_time": "2022-07-10T06:16:14.056Z"
      },
      {
        "duration": 11,
        "start_time": "2022-07-10T06:16:15.977Z"
      },
      {
        "duration": 1100,
        "start_time": "2022-07-10T06:18:21.116Z"
      },
      {
        "duration": 0,
        "start_time": "2022-07-10T06:18:22.218Z"
      },
      {
        "duration": 21,
        "start_time": "2022-07-10T06:18:33.049Z"
      },
      {
        "duration": 7,
        "start_time": "2022-07-10T06:18:53.852Z"
      },
      {
        "duration": 39,
        "start_time": "2022-07-10T06:18:56.208Z"
      },
      {
        "duration": 9,
        "start_time": "2022-07-10T06:18:59.540Z"
      },
      {
        "duration": 440,
        "start_time": "2022-07-10T06:18:59.556Z"
      },
      {
        "duration": 156,
        "start_time": "2022-07-10T06:18:59.998Z"
      },
      {
        "duration": 116,
        "start_time": "2022-07-10T06:19:00.157Z"
      },
      {
        "duration": 86,
        "start_time": "2022-07-10T06:19:00.276Z"
      },
      {
        "duration": 214,
        "start_time": "2022-07-10T06:19:00.364Z"
      },
      {
        "duration": 94,
        "start_time": "2022-07-10T06:19:00.580Z"
      },
      {
        "duration": 70,
        "start_time": "2022-07-10T06:19:00.677Z"
      },
      {
        "duration": 6,
        "start_time": "2022-07-10T06:19:00.752Z"
      },
      {
        "duration": 18,
        "start_time": "2022-07-10T06:19:00.762Z"
      },
      {
        "duration": 26,
        "start_time": "2022-07-10T06:19:00.782Z"
      },
      {
        "duration": 17,
        "start_time": "2022-07-10T06:19:00.810Z"
      },
      {
        "duration": 205,
        "start_time": "2022-07-10T06:19:00.828Z"
      },
      {
        "duration": 245,
        "start_time": "2022-07-10T06:19:01.042Z"
      },
      {
        "duration": 5,
        "start_time": "2022-07-10T06:19:01.289Z"
      },
      {
        "duration": 23,
        "start_time": "2022-07-10T06:19:01.296Z"
      },
      {
        "duration": 74,
        "start_time": "2022-07-10T06:19:01.321Z"
      },
      {
        "duration": 249,
        "start_time": "2022-07-10T06:19:01.397Z"
      },
      {
        "duration": 15,
        "start_time": "2022-07-10T06:19:01.648Z"
      },
      {
        "duration": 203,
        "start_time": "2022-07-10T06:19:01.665Z"
      },
      {
        "duration": 227,
        "start_time": "2022-07-10T06:19:01.870Z"
      },
      {
        "duration": 14,
        "start_time": "2022-07-10T06:19:02.100Z"
      },
      {
        "duration": 221,
        "start_time": "2022-07-10T06:19:02.116Z"
      },
      {
        "duration": 199,
        "start_time": "2022-07-10T06:19:02.339Z"
      },
      {
        "duration": 10,
        "start_time": "2022-07-10T06:19:02.550Z"
      },
      {
        "duration": 5,
        "start_time": "2022-07-10T06:19:02.562Z"
      },
      {
        "duration": 16,
        "start_time": "2022-07-10T06:19:02.568Z"
      },
      {
        "duration": 327,
        "start_time": "2022-07-10T06:19:02.585Z"
      },
      {
        "duration": 32,
        "start_time": "2022-07-10T06:19:02.913Z"
      },
      {
        "duration": 9,
        "start_time": "2022-07-10T06:19:02.953Z"
      },
      {
        "duration": 9,
        "start_time": "2022-07-10T06:19:02.963Z"
      },
      {
        "duration": 23,
        "start_time": "2022-07-10T06:19:02.973Z"
      },
      {
        "duration": 57,
        "start_time": "2022-07-10T06:19:02.998Z"
      },
      {
        "duration": 48,
        "start_time": "2022-07-10T06:19:03.056Z"
      },
      {
        "duration": 52,
        "start_time": "2022-07-10T06:19:03.106Z"
      },
      {
        "duration": 36,
        "start_time": "2022-07-10T06:19:03.163Z"
      },
      {
        "duration": 48,
        "start_time": "2022-07-10T06:19:03.201Z"
      },
      {
        "duration": 24,
        "start_time": "2022-07-10T06:19:03.251Z"
      },
      {
        "duration": 13,
        "start_time": "2022-07-10T06:19:03.276Z"
      },
      {
        "duration": 16,
        "start_time": "2022-07-10T06:19:03.291Z"
      },
      {
        "duration": 27,
        "start_time": "2022-07-10T06:19:03.311Z"
      },
      {
        "duration": 11,
        "start_time": "2022-07-10T06:19:03.346Z"
      },
      {
        "duration": 14,
        "start_time": "2022-07-10T06:19:03.359Z"
      },
      {
        "duration": 19,
        "start_time": "2022-07-10T06:19:03.375Z"
      },
      {
        "duration": 3,
        "start_time": "2022-07-10T06:19:03.396Z"
      },
      {
        "duration": 16,
        "start_time": "2022-07-10T06:19:03.401Z"
      },
      {
        "duration": 46,
        "start_time": "2022-07-10T06:19:03.419Z"
      },
      {
        "duration": 5,
        "start_time": "2022-07-10T06:19:03.466Z"
      },
      {
        "duration": 13,
        "start_time": "2022-07-10T06:19:03.473Z"
      },
      {
        "duration": 11,
        "start_time": "2022-07-10T06:19:03.488Z"
      },
      {
        "duration": 6,
        "start_time": "2022-07-10T06:19:03.500Z"
      },
      {
        "duration": 36,
        "start_time": "2022-07-10T06:19:03.508Z"
      },
      {
        "duration": 106,
        "start_time": "2022-07-10T06:19:03.549Z"
      },
      {
        "duration": 26,
        "start_time": "2022-07-10T06:19:03.657Z"
      },
      {
        "duration": 4,
        "start_time": "2022-07-10T06:19:03.685Z"
      },
      {
        "duration": 12,
        "start_time": "2022-07-10T06:19:03.690Z"
      },
      {
        "duration": 23,
        "start_time": "2022-07-10T06:19:03.704Z"
      },
      {
        "duration": 144,
        "start_time": "2022-07-10T06:19:03.733Z"
      },
      {
        "duration": 184,
        "start_time": "2022-07-10T06:19:03.879Z"
      },
      {
        "duration": 4,
        "start_time": "2022-07-10T06:19:04.065Z"
      },
      {
        "duration": 7,
        "start_time": "2022-07-10T06:19:04.070Z"
      },
      {
        "duration": 9,
        "start_time": "2022-07-10T06:19:04.078Z"
      },
      {
        "duration": 10,
        "start_time": "2022-07-10T06:19:04.089Z"
      },
      {
        "duration": 25,
        "start_time": "2022-07-10T06:19:04.100Z"
      },
      {
        "duration": 169,
        "start_time": "2022-07-10T06:19:04.133Z"
      },
      {
        "duration": 181,
        "start_time": "2022-07-10T06:19:04.304Z"
      },
      {
        "duration": 4,
        "start_time": "2022-07-10T06:19:04.488Z"
      },
      {
        "duration": 33,
        "start_time": "2022-07-10T06:19:04.528Z"
      },
      {
        "duration": 62,
        "start_time": "2022-07-10T06:19:04.564Z"
      },
      {
        "duration": 13,
        "start_time": "2022-07-10T06:19:04.628Z"
      },
      {
        "duration": 518,
        "start_time": "2022-07-10T06:19:04.643Z"
      },
      {
        "duration": 904,
        "start_time": "2022-07-10T06:19:05.163Z"
      },
      {
        "duration": 5,
        "start_time": "2022-07-10T06:19:06.124Z"
      },
      {
        "duration": 8,
        "start_time": "2022-07-10T06:19:06.131Z"
      },
      {
        "duration": 1032,
        "start_time": "2022-07-10T06:19:06.141Z"
      },
      {
        "duration": 695,
        "start_time": "2022-07-10T06:19:07.175Z"
      },
      {
        "duration": 10,
        "start_time": "2022-07-10T06:19:07.872Z"
      },
      {
        "duration": 23,
        "start_time": "2022-07-10T06:19:07.884Z"
      },
      {
        "duration": 7,
        "start_time": "2022-07-10T06:19:07.927Z"
      },
      {
        "duration": 29,
        "start_time": "2022-07-10T06:19:07.943Z"
      },
      {
        "duration": 4,
        "start_time": "2022-07-10T06:19:07.974Z"
      },
      {
        "duration": 12,
        "start_time": "2022-07-10T06:19:42.845Z"
      },
      {
        "duration": 1146,
        "start_time": "2022-07-10T06:20:25.255Z"
      },
      {
        "duration": 24,
        "start_time": "2022-07-10T06:20:31.723Z"
      },
      {
        "duration": 1390,
        "start_time": "2022-07-10T06:20:33.283Z"
      },
      {
        "duration": 4,
        "start_time": "2022-07-10T06:21:00.211Z"
      },
      {
        "duration": 486,
        "start_time": "2022-07-10T06:21:00.217Z"
      },
      {
        "duration": 143,
        "start_time": "2022-07-10T06:21:00.706Z"
      },
      {
        "duration": 143,
        "start_time": "2022-07-10T06:21:00.850Z"
      },
      {
        "duration": 108,
        "start_time": "2022-07-10T06:21:00.995Z"
      },
      {
        "duration": 277,
        "start_time": "2022-07-10T06:21:01.105Z"
      },
      {
        "duration": 95,
        "start_time": "2022-07-10T06:21:01.384Z"
      },
      {
        "duration": 62,
        "start_time": "2022-07-10T06:21:01.481Z"
      },
      {
        "duration": 7,
        "start_time": "2022-07-10T06:21:01.546Z"
      },
      {
        "duration": 38,
        "start_time": "2022-07-10T06:21:01.555Z"
      },
      {
        "duration": 48,
        "start_time": "2022-07-10T06:21:01.597Z"
      },
      {
        "duration": 99,
        "start_time": "2022-07-10T06:21:01.647Z"
      },
      {
        "duration": 214,
        "start_time": "2022-07-10T06:21:01.748Z"
      },
      {
        "duration": 238,
        "start_time": "2022-07-10T06:21:01.964Z"
      },
      {
        "duration": 5,
        "start_time": "2022-07-10T06:21:02.204Z"
      },
      {
        "duration": 46,
        "start_time": "2022-07-10T06:21:02.211Z"
      },
      {
        "duration": 15,
        "start_time": "2022-07-10T06:21:02.260Z"
      },
      {
        "duration": 213,
        "start_time": "2022-07-10T06:21:02.277Z"
      },
      {
        "duration": 14,
        "start_time": "2022-07-10T06:21:02.493Z"
      },
      {
        "duration": 182,
        "start_time": "2022-07-10T06:21:02.509Z"
      },
      {
        "duration": 168,
        "start_time": "2022-07-10T06:21:02.693Z"
      },
      {
        "duration": 13,
        "start_time": "2022-07-10T06:21:02.863Z"
      },
      {
        "duration": 169,
        "start_time": "2022-07-10T06:21:02.878Z"
      },
      {
        "duration": 203,
        "start_time": "2022-07-10T06:21:03.049Z"
      },
      {
        "duration": 12,
        "start_time": "2022-07-10T06:21:03.254Z"
      },
      {
        "duration": 7,
        "start_time": "2022-07-10T06:21:03.268Z"
      },
      {
        "duration": 15,
        "start_time": "2022-07-10T06:21:03.277Z"
      },
      {
        "duration": 368,
        "start_time": "2022-07-10T06:21:03.294Z"
      },
      {
        "duration": 19,
        "start_time": "2022-07-10T06:21:03.667Z"
      },
      {
        "duration": 4,
        "start_time": "2022-07-10T06:21:03.688Z"
      },
      {
        "duration": 17,
        "start_time": "2022-07-10T06:21:03.694Z"
      },
      {
        "duration": 15,
        "start_time": "2022-07-10T06:21:03.724Z"
      },
      {
        "duration": 68,
        "start_time": "2022-07-10T06:21:03.740Z"
      },
      {
        "duration": 57,
        "start_time": "2022-07-10T06:21:03.810Z"
      },
      {
        "duration": 40,
        "start_time": "2022-07-10T06:21:03.869Z"
      },
      {
        "duration": 45,
        "start_time": "2022-07-10T06:21:03.924Z"
      },
      {
        "duration": 24,
        "start_time": "2022-07-10T06:21:03.970Z"
      },
      {
        "duration": 48,
        "start_time": "2022-07-10T06:21:03.996Z"
      },
      {
        "duration": 19,
        "start_time": "2022-07-10T06:21:04.045Z"
      },
      {
        "duration": 24,
        "start_time": "2022-07-10T06:21:04.067Z"
      },
      {
        "duration": 47,
        "start_time": "2022-07-10T06:21:04.093Z"
      },
      {
        "duration": 11,
        "start_time": "2022-07-10T06:21:04.142Z"
      },
      {
        "duration": 13,
        "start_time": "2022-07-10T06:21:04.154Z"
      },
      {
        "duration": 24,
        "start_time": "2022-07-10T06:21:04.169Z"
      },
      {
        "duration": 4,
        "start_time": "2022-07-10T06:21:04.195Z"
      },
      {
        "duration": 16,
        "start_time": "2022-07-10T06:21:04.201Z"
      },
      {
        "duration": 33,
        "start_time": "2022-07-10T06:21:04.219Z"
      },
      {
        "duration": 5,
        "start_time": "2022-07-10T06:21:04.254Z"
      },
      {
        "duration": 11,
        "start_time": "2022-07-10T06:21:04.262Z"
      },
      {
        "duration": 9,
        "start_time": "2022-07-10T06:21:04.274Z"
      },
      {
        "duration": 5,
        "start_time": "2022-07-10T06:21:04.285Z"
      },
      {
        "duration": 36,
        "start_time": "2022-07-10T06:21:04.292Z"
      },
      {
        "duration": 132,
        "start_time": "2022-07-10T06:21:04.330Z"
      },
      {
        "duration": 29,
        "start_time": "2022-07-10T06:21:04.464Z"
      },
      {
        "duration": 7,
        "start_time": "2022-07-10T06:21:04.496Z"
      },
      {
        "duration": 52,
        "start_time": "2022-07-10T06:21:04.506Z"
      },
      {
        "duration": 13,
        "start_time": "2022-07-10T06:21:04.560Z"
      },
      {
        "duration": 174,
        "start_time": "2022-07-10T06:21:04.579Z"
      },
      {
        "duration": 169,
        "start_time": "2022-07-10T06:21:04.756Z"
      },
      {
        "duration": 8,
        "start_time": "2022-07-10T06:21:04.930Z"
      },
      {
        "duration": 8,
        "start_time": "2022-07-10T06:21:04.941Z"
      },
      {
        "duration": 9,
        "start_time": "2022-07-10T06:21:04.951Z"
      },
      {
        "duration": 13,
        "start_time": "2022-07-10T06:21:04.961Z"
      },
      {
        "duration": 7,
        "start_time": "2022-07-10T06:21:04.976Z"
      },
      {
        "duration": 186,
        "start_time": "2022-07-10T06:21:04.985Z"
      },
      {
        "duration": 200,
        "start_time": "2022-07-10T06:21:05.173Z"
      },
      {
        "duration": 4,
        "start_time": "2022-07-10T06:21:05.375Z"
      },
      {
        "duration": 14,
        "start_time": "2022-07-10T06:21:05.381Z"
      },
      {
        "duration": 10,
        "start_time": "2022-07-10T06:21:05.397Z"
      },
      {
        "duration": 30,
        "start_time": "2022-07-10T06:21:05.409Z"
      },
      {
        "duration": 153,
        "start_time": "2022-07-10T06:21:05.441Z"
      },
      {
        "duration": 433,
        "start_time": "2022-07-10T06:21:05.595Z"
      },
      {
        "duration": 11,
        "start_time": "2022-07-10T06:21:06.033Z"
      },
      {
        "duration": 17,
        "start_time": "2022-07-10T06:21:06.046Z"
      },
      {
        "duration": 1989,
        "start_time": "2022-07-10T06:21:06.064Z"
      },
      {
        "duration": 611,
        "start_time": "2022-07-10T06:21:08.055Z"
      },
      {
        "duration": 13,
        "start_time": "2022-07-10T06:21:08.668Z"
      },
      {
        "duration": 50,
        "start_time": "2022-07-10T06:21:08.683Z"
      },
      {
        "duration": 29,
        "start_time": "2022-07-10T06:21:08.735Z"
      },
      {
        "duration": 32,
        "start_time": "2022-07-10T06:21:08.766Z"
      },
      {
        "duration": 19,
        "start_time": "2022-07-10T06:21:08.800Z"
      },
      {
        "duration": 97,
        "start_time": "2022-07-10T06:22:02.063Z"
      },
      {
        "duration": 33,
        "start_time": "2022-07-10T06:22:08.968Z"
      },
      {
        "duration": 6,
        "start_time": "2022-07-10T06:22:28.166Z"
      },
      {
        "duration": 8,
        "start_time": "2022-07-10T06:22:29.282Z"
      },
      {
        "duration": 9,
        "start_time": "2022-07-10T06:22:30.502Z"
      },
      {
        "duration": 58,
        "start_time": "2022-07-10T06:33:19.058Z"
      },
      {
        "duration": 57,
        "start_time": "2022-07-10T06:33:28.178Z"
      },
      {
        "duration": 57,
        "start_time": "2022-07-10T06:33:41.146Z"
      },
      {
        "duration": 58,
        "start_time": "2022-07-10T06:33:52.751Z"
      },
      {
        "duration": 59,
        "start_time": "2022-07-10T06:33:55.998Z"
      },
      {
        "duration": 10,
        "start_time": "2022-07-10T06:33:59.338Z"
      },
      {
        "duration": 10,
        "start_time": "2022-07-10T06:34:17.654Z"
      },
      {
        "duration": 11,
        "start_time": "2022-07-10T06:34:18.310Z"
      },
      {
        "duration": 13,
        "start_time": "2022-07-10T06:34:28.422Z"
      },
      {
        "duration": 133,
        "start_time": "2022-07-10T06:34:40.138Z"
      },
      {
        "duration": 149,
        "start_time": "2022-07-10T06:34:56.634Z"
      },
      {
        "duration": 138,
        "start_time": "2022-07-10T06:35:51.566Z"
      },
      {
        "duration": 10,
        "start_time": "2022-07-10T06:36:01.857Z"
      },
      {
        "duration": 123,
        "start_time": "2022-07-10T06:36:38.614Z"
      },
      {
        "duration": 123,
        "start_time": "2022-07-10T06:36:53.506Z"
      },
      {
        "duration": 126,
        "start_time": "2022-07-10T06:37:21.898Z"
      },
      {
        "duration": 120,
        "start_time": "2022-07-10T06:37:48.933Z"
      },
      {
        "duration": 124,
        "start_time": "2022-07-10T06:38:08.433Z"
      },
      {
        "duration": 125,
        "start_time": "2022-07-10T06:38:42.328Z"
      },
      {
        "duration": 130,
        "start_time": "2022-07-10T06:39:19.681Z"
      },
      {
        "duration": 151,
        "start_time": "2022-07-10T06:39:51.426Z"
      },
      {
        "duration": 155,
        "start_time": "2022-07-10T06:41:39.508Z"
      },
      {
        "duration": 57,
        "start_time": "2022-07-10T06:42:01.381Z"
      },
      {
        "duration": 51,
        "start_time": "2022-07-10T06:42:12.444Z"
      },
      {
        "duration": 49,
        "start_time": "2022-07-10T06:42:18.740Z"
      },
      {
        "duration": 151,
        "start_time": "2022-07-10T06:42:27.960Z"
      },
      {
        "duration": 147,
        "start_time": "2022-07-10T06:42:55.388Z"
      },
      {
        "duration": 153,
        "start_time": "2022-07-10T06:43:04.716Z"
      },
      {
        "duration": 4,
        "start_time": "2022-07-10T06:45:04.384Z"
      },
      {
        "duration": 5,
        "start_time": "2022-07-10T06:45:05.268Z"
      },
      {
        "duration": 140,
        "start_time": "2022-07-10T06:45:48.509Z"
      },
      {
        "duration": 162,
        "start_time": "2022-07-10T06:46:33.252Z"
      },
      {
        "duration": 171,
        "start_time": "2022-07-10T06:46:51.925Z"
      },
      {
        "duration": 161,
        "start_time": "2022-07-10T06:47:36.893Z"
      },
      {
        "duration": 159,
        "start_time": "2022-07-10T06:47:47.497Z"
      },
      {
        "duration": 561,
        "start_time": "2022-07-10T06:48:19.030Z"
      },
      {
        "duration": 547,
        "start_time": "2022-07-10T06:48:31.202Z"
      },
      {
        "duration": 6,
        "start_time": "2022-07-10T06:50:52.799Z"
      },
      {
        "duration": 103,
        "start_time": "2022-07-10T06:51:04.282Z"
      },
      {
        "duration": 25,
        "start_time": "2022-07-10T06:52:10.902Z"
      },
      {
        "duration": 54,
        "start_time": "2022-07-10T06:55:43.071Z"
      },
      {
        "duration": 10,
        "start_time": "2022-07-10T06:56:15.662Z"
      },
      {
        "duration": 5,
        "start_time": "2022-07-10T06:56:59.698Z"
      },
      {
        "duration": 3,
        "start_time": "2022-07-10T06:57:08.918Z"
      },
      {
        "duration": 433,
        "start_time": "2022-07-10T06:57:08.923Z"
      },
      {
        "duration": 112,
        "start_time": "2022-07-10T06:57:09.358Z"
      },
      {
        "duration": 113,
        "start_time": "2022-07-10T06:57:09.472Z"
      },
      {
        "duration": 79,
        "start_time": "2022-07-10T06:57:09.587Z"
      },
      {
        "duration": 189,
        "start_time": "2022-07-10T06:57:09.667Z"
      },
      {
        "duration": 81,
        "start_time": "2022-07-10T06:57:09.858Z"
      },
      {
        "duration": 46,
        "start_time": "2022-07-10T06:57:09.941Z"
      },
      {
        "duration": 5,
        "start_time": "2022-07-10T06:57:09.989Z"
      },
      {
        "duration": 10,
        "start_time": "2022-07-10T06:57:09.995Z"
      },
      {
        "duration": 31,
        "start_time": "2022-07-10T06:57:10.007Z"
      },
      {
        "duration": 16,
        "start_time": "2022-07-10T06:57:10.040Z"
      },
      {
        "duration": 161,
        "start_time": "2022-07-10T06:57:10.058Z"
      },
      {
        "duration": 233,
        "start_time": "2022-07-10T06:57:10.220Z"
      },
      {
        "duration": 6,
        "start_time": "2022-07-10T06:57:10.454Z"
      },
      {
        "duration": 16,
        "start_time": "2022-07-10T06:57:10.462Z"
      },
      {
        "duration": 13,
        "start_time": "2022-07-10T06:57:10.480Z"
      },
      {
        "duration": 205,
        "start_time": "2022-07-10T06:57:10.495Z"
      },
      {
        "duration": 12,
        "start_time": "2022-07-10T06:57:10.701Z"
      },
      {
        "duration": 154,
        "start_time": "2022-07-10T06:57:10.723Z"
      },
      {
        "duration": 135,
        "start_time": "2022-07-10T06:57:10.879Z"
      },
      {
        "duration": 20,
        "start_time": "2022-07-10T06:57:11.016Z"
      },
      {
        "duration": 143,
        "start_time": "2022-07-10T06:57:11.038Z"
      },
      {
        "duration": 172,
        "start_time": "2022-07-10T06:57:11.182Z"
      },
      {
        "duration": 8,
        "start_time": "2022-07-10T06:57:11.356Z"
      },
      {
        "duration": 5,
        "start_time": "2022-07-10T06:57:11.366Z"
      },
      {
        "duration": 19,
        "start_time": "2022-07-10T06:57:11.372Z"
      },
      {
        "duration": 524,
        "start_time": "2022-07-10T06:57:11.392Z"
      },
      {
        "duration": 17,
        "start_time": "2022-07-10T06:57:11.923Z"
      },
      {
        "duration": 10,
        "start_time": "2022-07-10T06:57:11.942Z"
      },
      {
        "duration": 6,
        "start_time": "2022-07-10T06:57:11.954Z"
      },
      {
        "duration": 12,
        "start_time": "2022-07-10T06:57:11.961Z"
      },
      {
        "duration": 63,
        "start_time": "2022-07-10T06:57:11.974Z"
      },
      {
        "duration": 37,
        "start_time": "2022-07-10T06:57:12.039Z"
      },
      {
        "duration": 32,
        "start_time": "2022-07-10T06:57:12.077Z"
      },
      {
        "duration": 38,
        "start_time": "2022-07-10T06:57:12.111Z"
      },
      {
        "duration": 19,
        "start_time": "2022-07-10T06:57:12.151Z"
      },
      {
        "duration": 19,
        "start_time": "2022-07-10T06:57:12.171Z"
      },
      {
        "duration": 38,
        "start_time": "2022-07-10T06:57:12.192Z"
      },
      {
        "duration": 25,
        "start_time": "2022-07-10T06:57:12.231Z"
      },
      {
        "duration": 14,
        "start_time": "2022-07-10T06:57:12.257Z"
      },
      {
        "duration": 9,
        "start_time": "2022-07-10T06:57:12.272Z"
      },
      {
        "duration": 9,
        "start_time": "2022-07-10T06:57:12.282Z"
      },
      {
        "duration": 42,
        "start_time": "2022-07-10T06:57:12.293Z"
      },
      {
        "duration": 15,
        "start_time": "2022-07-10T06:57:12.337Z"
      },
      {
        "duration": 16,
        "start_time": "2022-07-10T06:57:12.353Z"
      },
      {
        "duration": 12,
        "start_time": "2022-07-10T06:57:12.370Z"
      },
      {
        "duration": 3,
        "start_time": "2022-07-10T06:57:12.384Z"
      },
      {
        "duration": 6,
        "start_time": "2022-07-10T06:57:12.389Z"
      },
      {
        "duration": 6,
        "start_time": "2022-07-10T06:57:12.396Z"
      },
      {
        "duration": 8,
        "start_time": "2022-07-10T06:57:12.404Z"
      },
      {
        "duration": 28,
        "start_time": "2022-07-10T06:57:12.414Z"
      },
      {
        "duration": 100,
        "start_time": "2022-07-10T06:57:12.444Z"
      },
      {
        "duration": 25,
        "start_time": "2022-07-10T06:57:12.546Z"
      },
      {
        "duration": 4,
        "start_time": "2022-07-10T06:57:12.573Z"
      },
      {
        "duration": 14,
        "start_time": "2022-07-10T06:57:12.578Z"
      },
      {
        "duration": 7,
        "start_time": "2022-07-10T06:57:12.594Z"
      },
      {
        "duration": 166,
        "start_time": "2022-07-10T06:57:12.602Z"
      },
      {
        "duration": 151,
        "start_time": "2022-07-10T06:57:12.770Z"
      },
      {
        "duration": 159,
        "start_time": "2022-07-10T06:57:12.930Z"
      },
      {
        "duration": 3,
        "start_time": "2022-07-10T06:57:13.091Z"
      },
      {
        "duration": 7,
        "start_time": "2022-07-10T06:57:13.095Z"
      },
      {
        "duration": 7,
        "start_time": "2022-07-10T06:57:13.104Z"
      },
      {
        "duration": 12,
        "start_time": "2022-07-10T06:57:13.112Z"
      },
      {
        "duration": 11,
        "start_time": "2022-07-10T06:57:13.138Z"
      },
      {
        "duration": 147,
        "start_time": "2022-07-10T06:57:13.151Z"
      },
      {
        "duration": 186,
        "start_time": "2022-07-10T06:57:13.300Z"
      },
      {
        "duration": 182,
        "start_time": "2022-07-10T06:57:13.488Z"
      },
      {
        "duration": 4,
        "start_time": "2022-07-10T06:57:13.672Z"
      },
      {
        "duration": 8,
        "start_time": "2022-07-10T06:57:13.677Z"
      },
      {
        "duration": 8,
        "start_time": "2022-07-10T06:57:13.686Z"
      },
      {
        "duration": 7,
        "start_time": "2022-07-10T06:57:13.696Z"
      },
      {
        "duration": 247,
        "start_time": "2022-07-10T06:57:13.704Z"
      },
      {
        "duration": 383,
        "start_time": "2022-07-10T06:57:13.952Z"
      },
      {
        "duration": 395,
        "start_time": "2022-07-10T06:57:14.340Z"
      },
      {
        "duration": 4,
        "start_time": "2022-07-10T06:57:14.737Z"
      },
      {
        "duration": 5,
        "start_time": "2022-07-10T06:57:14.743Z"
      },
      {
        "duration": 1088,
        "start_time": "2022-07-10T06:57:14.750Z"
      },
      {
        "duration": 565,
        "start_time": "2022-07-10T06:57:15.840Z"
      },
      {
        "duration": 29,
        "start_time": "2022-07-10T06:57:16.407Z"
      },
      {
        "duration": 24,
        "start_time": "2022-07-10T06:57:16.438Z"
      },
      {
        "duration": 4,
        "start_time": "2022-07-10T06:57:16.464Z"
      },
      {
        "duration": 15,
        "start_time": "2022-07-10T06:57:16.474Z"
      },
      {
        "duration": 21,
        "start_time": "2022-07-10T06:57:16.491Z"
      },
      {
        "duration": 22,
        "start_time": "2022-07-10T06:58:07.362Z"
      },
      {
        "duration": 106,
        "start_time": "2022-07-10T07:00:21.158Z"
      },
      {
        "duration": 28,
        "start_time": "2022-07-10T07:00:40.210Z"
      },
      {
        "duration": 160,
        "start_time": "2022-07-10T07:01:09.786Z"
      },
      {
        "duration": 162,
        "start_time": "2022-07-10T07:01:13.975Z"
      },
      {
        "duration": 152,
        "start_time": "2022-07-10T07:01:18.836Z"
      },
      {
        "duration": 158,
        "start_time": "2022-07-10T07:01:21.522Z"
      },
      {
        "duration": 153,
        "start_time": "2022-07-10T07:01:33.198Z"
      },
      {
        "duration": 173,
        "start_time": "2022-07-10T07:02:01.634Z"
      },
      {
        "duration": 175,
        "start_time": "2022-07-10T07:02:20.518Z"
      },
      {
        "duration": 653,
        "start_time": "2022-07-10T07:02:24.438Z"
      },
      {
        "duration": 604,
        "start_time": "2022-07-10T07:02:28.487Z"
      },
      {
        "duration": 10,
        "start_time": "2022-07-10T07:03:12.737Z"
      },
      {
        "duration": 7,
        "start_time": "2022-07-10T07:04:12.567Z"
      },
      {
        "duration": 8,
        "start_time": "2022-07-10T07:04:14.310Z"
      },
      {
        "duration": 7,
        "start_time": "2022-07-10T07:07:19.946Z"
      },
      {
        "duration": 13,
        "start_time": "2022-07-10T07:07:28.718Z"
      },
      {
        "duration": 7,
        "start_time": "2022-07-10T07:07:30.039Z"
      },
      {
        "duration": 5,
        "start_time": "2022-07-10T07:07:34.934Z"
      },
      {
        "duration": 396,
        "start_time": "2022-07-10T07:07:34.940Z"
      },
      {
        "duration": 112,
        "start_time": "2022-07-10T07:07:35.338Z"
      },
      {
        "duration": 112,
        "start_time": "2022-07-10T07:07:35.453Z"
      },
      {
        "duration": 95,
        "start_time": "2022-07-10T07:07:35.568Z"
      },
      {
        "duration": 205,
        "start_time": "2022-07-10T07:07:35.665Z"
      },
      {
        "duration": 88,
        "start_time": "2022-07-10T07:07:35.872Z"
      },
      {
        "duration": 45,
        "start_time": "2022-07-10T07:07:35.962Z"
      },
      {
        "duration": 15,
        "start_time": "2022-07-10T07:07:36.009Z"
      },
      {
        "duration": 9,
        "start_time": "2022-07-10T07:07:36.025Z"
      },
      {
        "duration": 9,
        "start_time": "2022-07-10T07:07:36.037Z"
      },
      {
        "duration": 14,
        "start_time": "2022-07-10T07:07:36.048Z"
      },
      {
        "duration": 175,
        "start_time": "2022-07-10T07:07:36.063Z"
      },
      {
        "duration": 214,
        "start_time": "2022-07-10T07:07:36.239Z"
      },
      {
        "duration": 5,
        "start_time": "2022-07-10T07:07:36.454Z"
      },
      {
        "duration": 17,
        "start_time": "2022-07-10T07:07:36.461Z"
      },
      {
        "duration": 18,
        "start_time": "2022-07-10T07:07:36.479Z"
      },
      {
        "duration": 199,
        "start_time": "2022-07-10T07:07:36.499Z"
      },
      {
        "duration": 13,
        "start_time": "2022-07-10T07:07:36.699Z"
      },
      {
        "duration": 154,
        "start_time": "2022-07-10T07:07:36.727Z"
      },
      {
        "duration": 152,
        "start_time": "2022-07-10T07:07:36.884Z"
      },
      {
        "duration": 11,
        "start_time": "2022-07-10T07:07:37.038Z"
      },
      {
        "duration": 180,
        "start_time": "2022-07-10T07:07:37.051Z"
      },
      {
        "duration": 233,
        "start_time": "2022-07-10T07:07:37.236Z"
      },
      {
        "duration": 11,
        "start_time": "2022-07-10T07:07:37.472Z"
      },
      {
        "duration": 14,
        "start_time": "2022-07-10T07:07:37.485Z"
      },
      {
        "duration": 17,
        "start_time": "2022-07-10T07:07:37.501Z"
      },
      {
        "duration": 590,
        "start_time": "2022-07-10T07:07:37.523Z"
      },
      {
        "duration": 17,
        "start_time": "2022-07-10T07:07:38.124Z"
      },
      {
        "duration": 4,
        "start_time": "2022-07-10T07:07:38.143Z"
      },
      {
        "duration": 7,
        "start_time": "2022-07-10T07:07:38.148Z"
      },
      {
        "duration": 18,
        "start_time": "2022-07-10T07:07:38.157Z"
      },
      {
        "duration": 55,
        "start_time": "2022-07-10T07:07:38.176Z"
      },
      {
        "duration": 46,
        "start_time": "2022-07-10T07:07:38.241Z"
      },
      {
        "duration": 51,
        "start_time": "2022-07-10T07:07:38.289Z"
      },
      {
        "duration": 40,
        "start_time": "2022-07-10T07:07:38.344Z"
      },
      {
        "duration": 22,
        "start_time": "2022-07-10T07:07:38.385Z"
      },
      {
        "duration": 32,
        "start_time": "2022-07-10T07:07:38.427Z"
      },
      {
        "duration": 13,
        "start_time": "2022-07-10T07:07:38.461Z"
      },
      {
        "duration": 18,
        "start_time": "2022-07-10T07:07:38.476Z"
      },
      {
        "duration": 15,
        "start_time": "2022-07-10T07:07:38.495Z"
      },
      {
        "duration": 11,
        "start_time": "2022-07-10T07:07:38.532Z"
      },
      {
        "duration": 12,
        "start_time": "2022-07-10T07:07:38.545Z"
      },
      {
        "duration": 22,
        "start_time": "2022-07-10T07:07:38.559Z"
      },
      {
        "duration": 6,
        "start_time": "2022-07-10T07:07:38.583Z"
      },
      {
        "duration": 13,
        "start_time": "2022-07-10T07:07:38.591Z"
      },
      {
        "duration": 31,
        "start_time": "2022-07-10T07:07:38.606Z"
      },
      {
        "duration": 6,
        "start_time": "2022-07-10T07:07:38.639Z"
      },
      {
        "duration": 6,
        "start_time": "2022-07-10T07:07:38.647Z"
      },
      {
        "duration": 15,
        "start_time": "2022-07-10T07:07:38.654Z"
      },
      {
        "duration": 10,
        "start_time": "2022-07-10T07:07:38.671Z"
      },
      {
        "duration": 20,
        "start_time": "2022-07-10T07:07:38.683Z"
      },
      {
        "duration": 117,
        "start_time": "2022-07-10T07:07:38.705Z"
      },
      {
        "duration": 40,
        "start_time": "2022-07-10T07:07:38.823Z"
      },
      {
        "duration": 4,
        "start_time": "2022-07-10T07:07:38.865Z"
      },
      {
        "duration": 15,
        "start_time": "2022-07-10T07:07:38.872Z"
      },
      {
        "duration": 7,
        "start_time": "2022-07-10T07:07:38.889Z"
      },
      {
        "duration": 176,
        "start_time": "2022-07-10T07:07:38.898Z"
      },
      {
        "duration": 169,
        "start_time": "2022-07-10T07:07:39.076Z"
      },
      {
        "duration": 165,
        "start_time": "2022-07-10T07:07:39.248Z"
      },
      {
        "duration": 4,
        "start_time": "2022-07-10T07:07:39.414Z"
      },
      {
        "duration": 9,
        "start_time": "2022-07-10T07:07:39.431Z"
      },
      {
        "duration": 6,
        "start_time": "2022-07-10T07:07:39.441Z"
      },
      {
        "duration": 9,
        "start_time": "2022-07-10T07:07:39.449Z"
      },
      {
        "duration": 7,
        "start_time": "2022-07-10T07:07:39.460Z"
      },
      {
        "duration": 181,
        "start_time": "2022-07-10T07:07:39.468Z"
      },
      {
        "duration": 187,
        "start_time": "2022-07-10T07:07:39.651Z"
      },
      {
        "duration": 182,
        "start_time": "2022-07-10T07:07:39.840Z"
      },
      {
        "duration": 11,
        "start_time": "2022-07-10T07:07:40.024Z"
      },
      {
        "duration": 14,
        "start_time": "2022-07-10T07:07:40.037Z"
      },
      {
        "duration": 13,
        "start_time": "2022-07-10T07:07:40.053Z"
      },
      {
        "duration": 11,
        "start_time": "2022-07-10T07:07:40.067Z"
      },
      {
        "duration": 161,
        "start_time": "2022-07-10T07:07:40.079Z"
      },
      {
        "duration": 195,
        "start_time": "2022-07-10T07:07:40.242Z"
      },
      {
        "duration": 176,
        "start_time": "2022-07-10T07:07:40.439Z"
      },
      {
        "duration": 15,
        "start_time": "2022-07-10T07:07:40.617Z"
      },
      {
        "duration": 10,
        "start_time": "2022-07-10T07:07:40.636Z"
      },
      {
        "duration": 624,
        "start_time": "2022-07-10T07:07:40.649Z"
      },
      {
        "duration": 607,
        "start_time": "2022-07-10T07:07:41.274Z"
      },
      {
        "duration": 10,
        "start_time": "2022-07-10T07:07:41.882Z"
      },
      {
        "duration": 39,
        "start_time": "2022-07-10T07:07:41.894Z"
      },
      {
        "duration": 8,
        "start_time": "2022-07-10T07:07:41.936Z"
      },
      {
        "duration": 4,
        "start_time": "2022-07-10T07:07:41.949Z"
      },
      {
        "duration": 21,
        "start_time": "2022-07-10T07:07:41.954Z"
      },
      {
        "duration": 6,
        "start_time": "2022-07-10T07:07:41.977Z"
      },
      {
        "duration": 6,
        "start_time": "2022-07-10T07:07:41.984Z"
      },
      {
        "duration": 7,
        "start_time": "2022-07-10T07:08:07.702Z"
      },
      {
        "duration": 4,
        "start_time": "2022-07-10T07:12:20.285Z"
      },
      {
        "duration": 4,
        "start_time": "2022-07-10T07:12:21.837Z"
      },
      {
        "duration": 5,
        "start_time": "2022-07-10T07:12:40.497Z"
      },
      {
        "duration": 4,
        "start_time": "2022-07-10T07:12:42.085Z"
      },
      {
        "duration": 1334,
        "start_time": "2022-07-10T17:57:30.430Z"
      },
      {
        "duration": 477,
        "start_time": "2022-07-10T17:57:31.766Z"
      },
      {
        "duration": 140,
        "start_time": "2022-07-10T17:57:32.245Z"
      },
      {
        "duration": 120,
        "start_time": "2022-07-10T17:57:32.387Z"
      },
      {
        "duration": 100,
        "start_time": "2022-07-10T17:57:32.509Z"
      },
      {
        "duration": 264,
        "start_time": "2022-07-10T17:57:32.611Z"
      },
      {
        "duration": 91,
        "start_time": "2022-07-10T17:57:32.876Z"
      },
      {
        "duration": 51,
        "start_time": "2022-07-10T17:57:32.969Z"
      },
      {
        "duration": 5,
        "start_time": "2022-07-10T17:57:33.022Z"
      },
      {
        "duration": 26,
        "start_time": "2022-07-10T17:57:33.031Z"
      },
      {
        "duration": 21,
        "start_time": "2022-07-10T17:57:33.058Z"
      },
      {
        "duration": 13,
        "start_time": "2022-07-10T17:57:33.080Z"
      },
      {
        "duration": 204,
        "start_time": "2022-07-10T17:57:33.095Z"
      },
      {
        "duration": 274,
        "start_time": "2022-07-10T17:57:33.301Z"
      },
      {
        "duration": 5,
        "start_time": "2022-07-10T17:57:33.577Z"
      },
      {
        "duration": 11,
        "start_time": "2022-07-10T17:57:33.584Z"
      },
      {
        "duration": 20,
        "start_time": "2022-07-10T17:57:33.597Z"
      },
      {
        "duration": 228,
        "start_time": "2022-07-10T17:57:33.647Z"
      },
      {
        "duration": 17,
        "start_time": "2022-07-10T17:57:33.877Z"
      },
      {
        "duration": 203,
        "start_time": "2022-07-10T17:57:33.896Z"
      },
      {
        "duration": 195,
        "start_time": "2022-07-10T17:57:34.101Z"
      },
      {
        "duration": 12,
        "start_time": "2022-07-10T17:57:34.298Z"
      },
      {
        "duration": 182,
        "start_time": "2022-07-10T17:57:34.311Z"
      },
      {
        "duration": 207,
        "start_time": "2022-07-10T17:57:34.495Z"
      },
      {
        "duration": 9,
        "start_time": "2022-07-10T17:57:34.703Z"
      },
      {
        "duration": 8,
        "start_time": "2022-07-10T17:57:34.713Z"
      },
      {
        "duration": 29,
        "start_time": "2022-07-10T17:57:34.723Z"
      },
      {
        "duration": 360,
        "start_time": "2022-07-10T17:57:34.757Z"
      },
      {
        "duration": 38,
        "start_time": "2022-07-10T17:57:35.119Z"
      },
      {
        "duration": 4,
        "start_time": "2022-07-10T17:57:35.159Z"
      },
      {
        "duration": 9,
        "start_time": "2022-07-10T17:57:35.165Z"
      },
      {
        "duration": 14,
        "start_time": "2022-07-10T17:57:35.176Z"
      },
      {
        "duration": 58,
        "start_time": "2022-07-10T17:57:35.191Z"
      },
      {
        "duration": 141,
        "start_time": "2022-07-10T17:57:35.252Z"
      },
      {
        "duration": 38,
        "start_time": "2022-07-10T17:57:35.395Z"
      },
      {
        "duration": 52,
        "start_time": "2022-07-10T17:57:35.445Z"
      },
      {
        "duration": 34,
        "start_time": "2022-07-10T17:57:35.499Z"
      },
      {
        "duration": 32,
        "start_time": "2022-07-10T17:57:35.535Z"
      },
      {
        "duration": 15,
        "start_time": "2022-07-10T17:57:35.569Z"
      },
      {
        "duration": 18,
        "start_time": "2022-07-10T17:57:35.586Z"
      },
      {
        "duration": 43,
        "start_time": "2022-07-10T17:57:35.606Z"
      },
      {
        "duration": 13,
        "start_time": "2022-07-10T17:57:35.650Z"
      },
      {
        "duration": 14,
        "start_time": "2022-07-10T17:57:35.664Z"
      },
      {
        "duration": 24,
        "start_time": "2022-07-10T17:57:35.679Z"
      },
      {
        "duration": 9,
        "start_time": "2022-07-10T17:57:35.705Z"
      },
      {
        "duration": 17,
        "start_time": "2022-07-10T17:57:35.715Z"
      },
      {
        "duration": 28,
        "start_time": "2022-07-10T17:57:35.733Z"
      },
      {
        "duration": 4,
        "start_time": "2022-07-10T17:57:35.762Z"
      },
      {
        "duration": 9,
        "start_time": "2022-07-10T17:57:35.768Z"
      },
      {
        "duration": 5,
        "start_time": "2022-07-10T17:57:35.779Z"
      },
      {
        "duration": 7,
        "start_time": "2022-07-10T17:57:35.785Z"
      },
      {
        "duration": 20,
        "start_time": "2022-07-10T17:57:35.794Z"
      },
      {
        "duration": 125,
        "start_time": "2022-07-10T17:57:35.816Z"
      },
      {
        "duration": 39,
        "start_time": "2022-07-10T17:57:35.942Z"
      },
      {
        "duration": 5,
        "start_time": "2022-07-10T17:57:35.982Z"
      },
      {
        "duration": 13,
        "start_time": "2022-07-10T17:57:35.989Z"
      },
      {
        "duration": 13,
        "start_time": "2022-07-10T17:57:36.004Z"
      },
      {
        "duration": 174,
        "start_time": "2022-07-10T17:57:36.019Z"
      },
      {
        "duration": 193,
        "start_time": "2022-07-10T17:57:36.195Z"
      },
      {
        "duration": 183,
        "start_time": "2022-07-10T17:57:36.390Z"
      },
      {
        "duration": 4,
        "start_time": "2022-07-10T17:57:36.574Z"
      },
      {
        "duration": 8,
        "start_time": "2022-07-10T17:57:36.580Z"
      },
      {
        "duration": 6,
        "start_time": "2022-07-10T17:57:36.589Z"
      },
      {
        "duration": 11,
        "start_time": "2022-07-10T17:57:36.597Z"
      },
      {
        "duration": 7,
        "start_time": "2022-07-10T17:57:36.609Z"
      },
      {
        "duration": 196,
        "start_time": "2022-07-10T17:57:36.617Z"
      },
      {
        "duration": 194,
        "start_time": "2022-07-10T17:57:36.816Z"
      },
      {
        "duration": 190,
        "start_time": "2022-07-10T17:57:37.012Z"
      },
      {
        "duration": 5,
        "start_time": "2022-07-10T17:57:37.203Z"
      },
      {
        "duration": 8,
        "start_time": "2022-07-10T17:57:37.209Z"
      },
      {
        "duration": 13,
        "start_time": "2022-07-10T17:57:37.219Z"
      },
      {
        "duration": 8,
        "start_time": "2022-07-10T17:57:37.246Z"
      },
      {
        "duration": 163,
        "start_time": "2022-07-10T17:57:37.255Z"
      },
      {
        "duration": 213,
        "start_time": "2022-07-10T17:57:37.420Z"
      },
      {
        "duration": 188,
        "start_time": "2022-07-10T17:57:37.635Z"
      },
      {
        "duration": 4,
        "start_time": "2022-07-10T17:57:37.825Z"
      },
      {
        "duration": 16,
        "start_time": "2022-07-10T17:57:37.831Z"
      },
      {
        "duration": 649,
        "start_time": "2022-07-10T17:57:37.848Z"
      },
      {
        "duration": 691,
        "start_time": "2022-07-10T17:57:38.499Z"
      },
      {
        "duration": 14,
        "start_time": "2022-07-10T17:57:39.192Z"
      },
      {
        "duration": 55,
        "start_time": "2022-07-10T17:57:39.208Z"
      },
      {
        "duration": 10,
        "start_time": "2022-07-10T17:57:39.269Z"
      },
      {
        "duration": 7,
        "start_time": "2022-07-10T17:57:39.280Z"
      },
      {
        "duration": 19,
        "start_time": "2022-07-10T17:57:39.289Z"
      },
      {
        "duration": 7,
        "start_time": "2022-07-10T17:57:39.310Z"
      },
      {
        "duration": 5,
        "start_time": "2022-07-10T17:57:39.318Z"
      }
    ],
    "kernelspec": {
      "name": "python",
      "display_name": "Python (Pyodide)",
      "language": "python"
    },
    "language_info": {
      "codemirror_mode": {
        "name": "python",
        "version": 3
      },
      "file_extension": ".py",
      "mimetype": "text/x-python",
      "name": "python",
      "nbconvert_exporter": "python",
      "pygments_lexer": "ipython3",
      "version": "3.8"
    },
    "toc": {
      "base_numbering": 1,
      "nav_menu": {
        "height": "53px",
        "width": "216px"
      },
      "number_sections": true,
      "sideBar": true,
      "skip_h1_title": true,
      "title_cell": "Table of Contents",
      "title_sidebar": "Contents",
      "toc_cell": false,
      "toc_position": {
        "height": "785px",
        "left": "1px",
        "top": "111.125px",
        "width": "217.375px"
      },
      "toc_section_display": true,
      "toc_window_display": true
    }
  },
  "nbformat_minor": 4,
  "nbformat": 4,
  "cells": [
    {
      "cell_type": "markdown",
      "source": "# Определение перспективного тарифа для телеком-компании\nВы аналитик компании «Мегалайн» — федерального оператора сотовой связи. Клиентам предлагают два тарифных плана: «Смарт» и «Ультра». Чтобы скорректировать рекламный бюджет, коммерческий департамент хочет понять, какой тариф приносит больше денег.\nВам предстоит сделать предварительный анализ тарифов на небольшой выборке клиентов. В вашем распоряжении данные 500 пользователей «Мегалайна»: кто они, откуда, каким тарифом пользуются, сколько звонков и сообщений каждый отправил за 2018 год. Нужно проанализировать поведение клиентов и сделать вывод — какой тариф лучше.\n\n<br>**Описание тарифов**:\n<br>\n<br>Тариф «Смарт»\n<br>1. Ежемесячная плата: 550 рублей\n<br>2. Включено 500 минут разговора, 50 сообщений и 15 Гб интернет-трафика\n<br>3. Стоимость услуг сверх тарифного пакета:\n<br>- минута разговора: 3 рубля\n<br>- сообщение: 3 рубля\n<br>- 1 Гб интернет-трафика: 200 рублей\n<br>Тариф «Ультра»\n<br>1. Ежемесячная плата: 1950 рублей\n<br>2. Включено 3000 минут разговора, 1000 сообщений и 30 Гб интернет-трафика\n<br>3. Стоимость услуг сверх тарифного пакета:\n<br>- минута разговора: 1 рубль\n<br>- сообщение: 1 рубль\n<br>- 1 Гб интернет-трафика: 150 рублей\n<br>\n<br>**Примечание**:\n«Мегалайн» всегда округляет секунды до минут, а мегабайты — до гигабайт. Каждый звонок округляется отдельно: даже если он длился всего 1 секунду, будет засчитан как 1 минута.\nДля веб-трафика отдельные сессии не считаются. Вместо этого общая сумма за месяц округляется в бо́льшую сторону. Если абонент использует 1025 мегабайт в этом месяце, с него возьмут плату за 2 гигабайта.\n<br>\n<br>**Описание данных**\n<br>Таблица users (информация о пользователях):\n<br>user_id — уникальный идентификатор пользователя\n<br>first_name — имя пользователя\n<br>last_name — фамилия пользователя\n<br>age — возраст пользователя (годы)\n<br>reg_date — дата подключения тарифа (день, месяц, год)\n<br>churn_date — дата прекращения пользования тарифом (если значение пропущено, то тариф ещё действовал на момент выгрузки данных)\n<br>city — город проживания пользователя\n<br>tarif — название тарифного плана\n<br>\n<br>Таблица calls (информация о звонках):\n<br>id — уникальный номер звонка\n<br>call_date — дата звонка\n<br>duration — длительность звонка в минутах\n<br>user_id — идентификатор пользователя, сделавшего звонок\n<br>\n<br>Таблица messages (информация о сообщениях):\n<br>id — уникальный номер сообщения\n<br>message_date — дата сообщения\n<br>user_id — идентификатор пользователя, отправившего сообщение\n<br>\n<br>Таблица internet (информация об интернет-сессиях):\n<br>id — уникальный номер сессии\n<br>mb_used — объём потраченного за сессию интернет-трафика (в мегабайтах)\n<br>session_date — дата интернет-сессии\n<br>user_id — идентификатор пользователя\n<br>\n<br>Таблица tariffs (информация о тарифах):\n<br>tariff_name — название тарифа\n<br>rub_monthly_fee — ежемесячная абонентская плата в рублях\n<br>minutes_included — количество минут разговора в месяц, включённых в абонентскую плату\n<br>messages_included — количество сообщений в месяц, включённых в абонентскую плату\n<br>mb_per_month_included — объём интернет-трафика, включённого в абонентскую плату (в мегабайтах)\n<br>rub_per_minute — стоимость минуты разговора сверх тарифного пакета (например, если в тарифе 100 минут разговора в месяц, то со 101 минуты будет взиматься плата)\n<br>rub_per_message — стоимость отправки сообщения сверх тарифного пакета\n<br>rub_per_gb — стоимость дополнительного гигабайта интернет-трафика сверх тарифного пакета (1 гигабайт = 1024 мегабайта)",
      "metadata": {}
    },
    {
      "cell_type": "markdown",
      "source": "# Содержание",
      "metadata": {}
    },
    {
      "cell_type": "markdown",
      "source": "## Изучение данных из файла",
      "metadata": {}
    },
    {
      "cell_type": "markdown",
      "source": "### Импорт нужных библиотек",
      "metadata": {}
    },
    {
      "cell_type": "code",
      "source": "import pandas as pd\nimport matplotlib.pyplot as plt\nimport numpy as np\nimport seaborn as sns\nimport plotly.express as px\nfrom scipy import stats as st",
      "metadata": {},
      "execution_count": 1,
      "outputs": []
    },
    {
      "cell_type": "markdown",
      "source": "### Открытие файлов",
      "metadata": {}
    },
    {
      "cell_type": "code",
      "source": "data_users = pd.read_csv('/datasets/users.csv')\ndata_calls =  pd.read_csv('/datasets/calls.csv')\ndata_messages = pd.read_csv('/datasets/messages.csv')\ndata_internet = pd.read_csv('/datasets/internet.csv', index_col=0) # убираем лишний столбец при открытии файла \n#(подсказка из треда ЯП)\ndata_tariffs = pd.read_csv('/datasets/tariffs.csv')\npd.options.display.max_columns = None",
      "metadata": {},
      "execution_count": 2,
      "outputs": []
    },
    {
      "cell_type": "markdown",
      "source": "### Изучение информации о данных и первый взгляд на них",
      "metadata": {}
    },
    {
      "cell_type": "markdown",
      "source": "#### Отображение датафреймов с информацией о них",
      "metadata": {}
    },
    {
      "cell_type": "markdown",
      "source": "Здесь я решил использовать цикл, чтобы открыть отобразить сразу все датафреймы подряд с информацией о них",
      "metadata": {}
    },
    {
      "cell_type": "code",
      "source": "dataframes = [data_users, data_calls, data_messages, data_internet, data_tariffs]\nfor i in range(len(dataframes)):\n    names = ['Users', 'Calls', 'Messages', 'Internet', 'Tariffs']\n    print(names[i])\n    display(dataframes[i].head(10))\n    dataframes[i].info()\n    print('************************************************')",
      "metadata": {
        "scrolled": true
      },
      "execution_count": 3,
      "outputs": [
        {
          "name": "stdout",
          "output_type": "stream",
          "text": "Users\n"
        },
        {
          "output_type": "display_data",
          "data": {
            "text/html": [
              "<div>\n",
              "<style scoped>\n",
              "    .dataframe tbody tr th:only-of-type {\n",
              "        vertical-align: middle;\n",
              "    }\n",
              "\n",
              "    .dataframe tbody tr th {\n",
              "        vertical-align: top;\n",
              "    }\n",
              "\n",
              "    .dataframe thead th {\n",
              "        text-align: right;\n",
              "    }\n",
              "</style>\n",
              "<table border=\"1\" class=\"dataframe\">\n",
              "  <thead>\n",
              "    <tr style=\"text-align: right;\">\n",
              "      <th></th>\n",
              "      <th>user_id</th>\n",
              "      <th>age</th>\n",
              "      <th>churn_date</th>\n",
              "      <th>city</th>\n",
              "      <th>first_name</th>\n",
              "      <th>last_name</th>\n",
              "      <th>reg_date</th>\n",
              "      <th>tariff</th>\n",
              "    </tr>\n",
              "  </thead>\n",
              "  <tbody>\n",
              "    <tr>\n",
              "      <th>0</th>\n",
              "      <td>1000</td>\n",
              "      <td>52</td>\n",
              "      <td>NaN</td>\n",
              "      <td>Краснодар</td>\n",
              "      <td>Рафаил</td>\n",
              "      <td>Верещагин</td>\n",
              "      <td>2018-05-25</td>\n",
              "      <td>ultra</td>\n",
              "    </tr>\n",
              "    <tr>\n",
              "      <th>1</th>\n",
              "      <td>1001</td>\n",
              "      <td>41</td>\n",
              "      <td>NaN</td>\n",
              "      <td>Москва</td>\n",
              "      <td>Иван</td>\n",
              "      <td>Ежов</td>\n",
              "      <td>2018-11-01</td>\n",
              "      <td>smart</td>\n",
              "    </tr>\n",
              "    <tr>\n",
              "      <th>2</th>\n",
              "      <td>1002</td>\n",
              "      <td>59</td>\n",
              "      <td>NaN</td>\n",
              "      <td>Стерлитамак</td>\n",
              "      <td>Евгений</td>\n",
              "      <td>Абрамович</td>\n",
              "      <td>2018-06-17</td>\n",
              "      <td>smart</td>\n",
              "    </tr>\n",
              "    <tr>\n",
              "      <th>3</th>\n",
              "      <td>1003</td>\n",
              "      <td>23</td>\n",
              "      <td>NaN</td>\n",
              "      <td>Москва</td>\n",
              "      <td>Белла</td>\n",
              "      <td>Белякова</td>\n",
              "      <td>2018-08-17</td>\n",
              "      <td>ultra</td>\n",
              "    </tr>\n",
              "    <tr>\n",
              "      <th>4</th>\n",
              "      <td>1004</td>\n",
              "      <td>68</td>\n",
              "      <td>NaN</td>\n",
              "      <td>Новокузнецк</td>\n",
              "      <td>Татьяна</td>\n",
              "      <td>Авдеенко</td>\n",
              "      <td>2018-05-14</td>\n",
              "      <td>ultra</td>\n",
              "    </tr>\n",
              "    <tr>\n",
              "      <th>5</th>\n",
              "      <td>1005</td>\n",
              "      <td>67</td>\n",
              "      <td>NaN</td>\n",
              "      <td>Набережные Челны</td>\n",
              "      <td>Афанасий</td>\n",
              "      <td>Горлов</td>\n",
              "      <td>2018-01-25</td>\n",
              "      <td>smart</td>\n",
              "    </tr>\n",
              "    <tr>\n",
              "      <th>6</th>\n",
              "      <td>1006</td>\n",
              "      <td>21</td>\n",
              "      <td>NaN</td>\n",
              "      <td>Ульяновск</td>\n",
              "      <td>Леонид</td>\n",
              "      <td>Ермолаев</td>\n",
              "      <td>2018-02-26</td>\n",
              "      <td>smart</td>\n",
              "    </tr>\n",
              "    <tr>\n",
              "      <th>7</th>\n",
              "      <td>1007</td>\n",
              "      <td>65</td>\n",
              "      <td>NaN</td>\n",
              "      <td>Москва</td>\n",
              "      <td>Юна</td>\n",
              "      <td>Березина</td>\n",
              "      <td>2018-04-19</td>\n",
              "      <td>smart</td>\n",
              "    </tr>\n",
              "    <tr>\n",
              "      <th>8</th>\n",
              "      <td>1008</td>\n",
              "      <td>63</td>\n",
              "      <td>NaN</td>\n",
              "      <td>Челябинск</td>\n",
              "      <td>Рустэм</td>\n",
              "      <td>Пономарёв</td>\n",
              "      <td>2018-12-19</td>\n",
              "      <td>smart</td>\n",
              "    </tr>\n",
              "    <tr>\n",
              "      <th>9</th>\n",
              "      <td>1009</td>\n",
              "      <td>24</td>\n",
              "      <td>NaN</td>\n",
              "      <td>Пермь</td>\n",
              "      <td>Василиса</td>\n",
              "      <td>Блинова</td>\n",
              "      <td>2018-03-22</td>\n",
              "      <td>smart</td>\n",
              "    </tr>\n",
              "  </tbody>\n",
              "</table>\n",
              "</div>"
            ],
            "text/plain": [
              "   user_id  age churn_date              city first_name  last_name  \\\n",
              "0     1000   52        NaN         Краснодар     Рафаил  Верещагин   \n",
              "1     1001   41        NaN            Москва       Иван       Ежов   \n",
              "2     1002   59        NaN       Стерлитамак    Евгений  Абрамович   \n",
              "3     1003   23        NaN            Москва      Белла   Белякова   \n",
              "4     1004   68        NaN       Новокузнецк    Татьяна   Авдеенко   \n",
              "5     1005   67        NaN  Набережные Челны   Афанасий     Горлов   \n",
              "6     1006   21        NaN         Ульяновск     Леонид   Ермолаев   \n",
              "7     1007   65        NaN            Москва        Юна   Березина   \n",
              "8     1008   63        NaN         Челябинск     Рустэм  Пономарёв   \n",
              "9     1009   24        NaN             Пермь   Василиса    Блинова   \n",
              "\n",
              "     reg_date tariff  \n",
              "0  2018-05-25  ultra  \n",
              "1  2018-11-01  smart  \n",
              "2  2018-06-17  smart  \n",
              "3  2018-08-17  ultra  \n",
              "4  2018-05-14  ultra  \n",
              "5  2018-01-25  smart  \n",
              "6  2018-02-26  smart  \n",
              "7  2018-04-19  smart  \n",
              "8  2018-12-19  smart  \n",
              "9  2018-03-22  smart  "
            ]
          },
          "metadata": {}
        },
        {
          "name": "stdout",
          "output_type": "stream",
          "text": "<class 'pandas.core.frame.DataFrame'>\n\nRangeIndex: 500 entries, 0 to 499\n\nData columns (total 8 columns):\n\n #   Column      Non-Null Count  Dtype \n\n---  ------      --------------  ----- \n\n 0   user_id     500 non-null    int64 \n\n 1   age         500 non-null    int64 \n\n 2   churn_date  38 non-null     object\n\n 3   city        500 non-null    object\n\n 4   first_name  500 non-null    object\n\n 5   last_name   500 non-null    object\n\n 6   reg_date    500 non-null    object\n\n 7   tariff      500 non-null    object\n\ndtypes: int64(2), object(6)\n\nmemory usage: 31.4+ KB\n\n************************************************\n\nCalls\n"
        },
        {
          "output_type": "display_data",
          "data": {
            "text/html": [
              "<div>\n",
              "<style scoped>\n",
              "    .dataframe tbody tr th:only-of-type {\n",
              "        vertical-align: middle;\n",
              "    }\n",
              "\n",
              "    .dataframe tbody tr th {\n",
              "        vertical-align: top;\n",
              "    }\n",
              "\n",
              "    .dataframe thead th {\n",
              "        text-align: right;\n",
              "    }\n",
              "</style>\n",
              "<table border=\"1\" class=\"dataframe\">\n",
              "  <thead>\n",
              "    <tr style=\"text-align: right;\">\n",
              "      <th></th>\n",
              "      <th>id</th>\n",
              "      <th>call_date</th>\n",
              "      <th>duration</th>\n",
              "      <th>user_id</th>\n",
              "    </tr>\n",
              "  </thead>\n",
              "  <tbody>\n",
              "    <tr>\n",
              "      <th>0</th>\n",
              "      <td>1000_0</td>\n",
              "      <td>2018-07-25</td>\n",
              "      <td>0.00</td>\n",
              "      <td>1000</td>\n",
              "    </tr>\n",
              "    <tr>\n",
              "      <th>1</th>\n",
              "      <td>1000_1</td>\n",
              "      <td>2018-08-17</td>\n",
              "      <td>0.00</td>\n",
              "      <td>1000</td>\n",
              "    </tr>\n",
              "    <tr>\n",
              "      <th>2</th>\n",
              "      <td>1000_2</td>\n",
              "      <td>2018-06-11</td>\n",
              "      <td>2.85</td>\n",
              "      <td>1000</td>\n",
              "    </tr>\n",
              "    <tr>\n",
              "      <th>3</th>\n",
              "      <td>1000_3</td>\n",
              "      <td>2018-09-21</td>\n",
              "      <td>13.80</td>\n",
              "      <td>1000</td>\n",
              "    </tr>\n",
              "    <tr>\n",
              "      <th>4</th>\n",
              "      <td>1000_4</td>\n",
              "      <td>2018-12-15</td>\n",
              "      <td>5.18</td>\n",
              "      <td>1000</td>\n",
              "    </tr>\n",
              "    <tr>\n",
              "      <th>5</th>\n",
              "      <td>1000_5</td>\n",
              "      <td>2018-11-02</td>\n",
              "      <td>0.00</td>\n",
              "      <td>1000</td>\n",
              "    </tr>\n",
              "    <tr>\n",
              "      <th>6</th>\n",
              "      <td>1000_6</td>\n",
              "      <td>2018-10-18</td>\n",
              "      <td>0.00</td>\n",
              "      <td>1000</td>\n",
              "    </tr>\n",
              "    <tr>\n",
              "      <th>7</th>\n",
              "      <td>1000_7</td>\n",
              "      <td>2018-08-22</td>\n",
              "      <td>18.31</td>\n",
              "      <td>1000</td>\n",
              "    </tr>\n",
              "    <tr>\n",
              "      <th>8</th>\n",
              "      <td>1000_8</td>\n",
              "      <td>2018-09-15</td>\n",
              "      <td>18.44</td>\n",
              "      <td>1000</td>\n",
              "    </tr>\n",
              "    <tr>\n",
              "      <th>9</th>\n",
              "      <td>1000_9</td>\n",
              "      <td>2018-08-15</td>\n",
              "      <td>0.00</td>\n",
              "      <td>1000</td>\n",
              "    </tr>\n",
              "  </tbody>\n",
              "</table>\n",
              "</div>"
            ],
            "text/plain": [
              "       id   call_date  duration  user_id\n",
              "0  1000_0  2018-07-25      0.00     1000\n",
              "1  1000_1  2018-08-17      0.00     1000\n",
              "2  1000_2  2018-06-11      2.85     1000\n",
              "3  1000_3  2018-09-21     13.80     1000\n",
              "4  1000_4  2018-12-15      5.18     1000\n",
              "5  1000_5  2018-11-02      0.00     1000\n",
              "6  1000_6  2018-10-18      0.00     1000\n",
              "7  1000_7  2018-08-22     18.31     1000\n",
              "8  1000_8  2018-09-15     18.44     1000\n",
              "9  1000_9  2018-08-15      0.00     1000"
            ]
          },
          "metadata": {}
        },
        {
          "name": "stdout",
          "output_type": "stream",
          "text": "<class 'pandas.core.frame.DataFrame'>\n\nRangeIndex: 202607 entries, 0 to 202606\n\nData columns (total 4 columns):\n\n #   Column     Non-Null Count   Dtype  \n\n---  ------     --------------   -----  \n\n 0   id         202607 non-null  object \n\n 1   call_date  202607 non-null  object \n\n 2   duration   202607 non-null  float64\n\n 3   user_id    202607 non-null  int64  \n\ndtypes: float64(1), int64(1), object(2)\n\nmemory usage: 6.2+ MB\n\n************************************************\n\nMessages\n"
        },
        {
          "output_type": "display_data",
          "data": {
            "text/html": [
              "<div>\n",
              "<style scoped>\n",
              "    .dataframe tbody tr th:only-of-type {\n",
              "        vertical-align: middle;\n",
              "    }\n",
              "\n",
              "    .dataframe tbody tr th {\n",
              "        vertical-align: top;\n",
              "    }\n",
              "\n",
              "    .dataframe thead th {\n",
              "        text-align: right;\n",
              "    }\n",
              "</style>\n",
              "<table border=\"1\" class=\"dataframe\">\n",
              "  <thead>\n",
              "    <tr style=\"text-align: right;\">\n",
              "      <th></th>\n",
              "      <th>id</th>\n",
              "      <th>message_date</th>\n",
              "      <th>user_id</th>\n",
              "    </tr>\n",
              "  </thead>\n",
              "  <tbody>\n",
              "    <tr>\n",
              "      <th>0</th>\n",
              "      <td>1000_0</td>\n",
              "      <td>2018-06-27</td>\n",
              "      <td>1000</td>\n",
              "    </tr>\n",
              "    <tr>\n",
              "      <th>1</th>\n",
              "      <td>1000_1</td>\n",
              "      <td>2018-10-08</td>\n",
              "      <td>1000</td>\n",
              "    </tr>\n",
              "    <tr>\n",
              "      <th>2</th>\n",
              "      <td>1000_2</td>\n",
              "      <td>2018-08-04</td>\n",
              "      <td>1000</td>\n",
              "    </tr>\n",
              "    <tr>\n",
              "      <th>3</th>\n",
              "      <td>1000_3</td>\n",
              "      <td>2018-06-16</td>\n",
              "      <td>1000</td>\n",
              "    </tr>\n",
              "    <tr>\n",
              "      <th>4</th>\n",
              "      <td>1000_4</td>\n",
              "      <td>2018-12-05</td>\n",
              "      <td>1000</td>\n",
              "    </tr>\n",
              "    <tr>\n",
              "      <th>5</th>\n",
              "      <td>1000_5</td>\n",
              "      <td>2018-06-20</td>\n",
              "      <td>1000</td>\n",
              "    </tr>\n",
              "    <tr>\n",
              "      <th>6</th>\n",
              "      <td>1000_6</td>\n",
              "      <td>2018-11-19</td>\n",
              "      <td>1000</td>\n",
              "    </tr>\n",
              "    <tr>\n",
              "      <th>7</th>\n",
              "      <td>1000_7</td>\n",
              "      <td>2018-10-29</td>\n",
              "      <td>1000</td>\n",
              "    </tr>\n",
              "    <tr>\n",
              "      <th>8</th>\n",
              "      <td>1000_8</td>\n",
              "      <td>2018-06-25</td>\n",
              "      <td>1000</td>\n",
              "    </tr>\n",
              "    <tr>\n",
              "      <th>9</th>\n",
              "      <td>1000_9</td>\n",
              "      <td>2018-12-18</td>\n",
              "      <td>1000</td>\n",
              "    </tr>\n",
              "  </tbody>\n",
              "</table>\n",
              "</div>"
            ],
            "text/plain": [
              "       id message_date  user_id\n",
              "0  1000_0   2018-06-27     1000\n",
              "1  1000_1   2018-10-08     1000\n",
              "2  1000_2   2018-08-04     1000\n",
              "3  1000_3   2018-06-16     1000\n",
              "4  1000_4   2018-12-05     1000\n",
              "5  1000_5   2018-06-20     1000\n",
              "6  1000_6   2018-11-19     1000\n",
              "7  1000_7   2018-10-29     1000\n",
              "8  1000_8   2018-06-25     1000\n",
              "9  1000_9   2018-12-18     1000"
            ]
          },
          "metadata": {}
        },
        {
          "name": "stdout",
          "output_type": "stream",
          "text": "<class 'pandas.core.frame.DataFrame'>\n\nRangeIndex: 123036 entries, 0 to 123035\n\nData columns (total 3 columns):\n\n #   Column        Non-Null Count   Dtype \n\n---  ------        --------------   ----- \n\n 0   id            123036 non-null  object\n\n 1   message_date  123036 non-null  object\n\n 2   user_id       123036 non-null  int64 \n\ndtypes: int64(1), object(2)\n\nmemory usage: 2.8+ MB\n\n************************************************\n\nInternet\n"
        },
        {
          "output_type": "display_data",
          "data": {
            "text/html": [
              "<div>\n",
              "<style scoped>\n",
              "    .dataframe tbody tr th:only-of-type {\n",
              "        vertical-align: middle;\n",
              "    }\n",
              "\n",
              "    .dataframe tbody tr th {\n",
              "        vertical-align: top;\n",
              "    }\n",
              "\n",
              "    .dataframe thead th {\n",
              "        text-align: right;\n",
              "    }\n",
              "</style>\n",
              "<table border=\"1\" class=\"dataframe\">\n",
              "  <thead>\n",
              "    <tr style=\"text-align: right;\">\n",
              "      <th></th>\n",
              "      <th>id</th>\n",
              "      <th>mb_used</th>\n",
              "      <th>session_date</th>\n",
              "      <th>user_id</th>\n",
              "    </tr>\n",
              "  </thead>\n",
              "  <tbody>\n",
              "    <tr>\n",
              "      <th>0</th>\n",
              "      <td>1000_0</td>\n",
              "      <td>112.95</td>\n",
              "      <td>2018-11-25</td>\n",
              "      <td>1000</td>\n",
              "    </tr>\n",
              "    <tr>\n",
              "      <th>1</th>\n",
              "      <td>1000_1</td>\n",
              "      <td>1052.81</td>\n",
              "      <td>2018-09-07</td>\n",
              "      <td>1000</td>\n",
              "    </tr>\n",
              "    <tr>\n",
              "      <th>2</th>\n",
              "      <td>1000_2</td>\n",
              "      <td>1197.26</td>\n",
              "      <td>2018-06-25</td>\n",
              "      <td>1000</td>\n",
              "    </tr>\n",
              "    <tr>\n",
              "      <th>3</th>\n",
              "      <td>1000_3</td>\n",
              "      <td>550.27</td>\n",
              "      <td>2018-08-22</td>\n",
              "      <td>1000</td>\n",
              "    </tr>\n",
              "    <tr>\n",
              "      <th>4</th>\n",
              "      <td>1000_4</td>\n",
              "      <td>302.56</td>\n",
              "      <td>2018-09-24</td>\n",
              "      <td>1000</td>\n",
              "    </tr>\n",
              "    <tr>\n",
              "      <th>5</th>\n",
              "      <td>1000_5</td>\n",
              "      <td>399.97</td>\n",
              "      <td>2018-10-02</td>\n",
              "      <td>1000</td>\n",
              "    </tr>\n",
              "    <tr>\n",
              "      <th>6</th>\n",
              "      <td>1000_6</td>\n",
              "      <td>540.08</td>\n",
              "      <td>2018-09-07</td>\n",
              "      <td>1000</td>\n",
              "    </tr>\n",
              "    <tr>\n",
              "      <th>7</th>\n",
              "      <td>1000_7</td>\n",
              "      <td>415.70</td>\n",
              "      <td>2018-07-11</td>\n",
              "      <td>1000</td>\n",
              "    </tr>\n",
              "    <tr>\n",
              "      <th>8</th>\n",
              "      <td>1000_8</td>\n",
              "      <td>505.40</td>\n",
              "      <td>2018-10-08</td>\n",
              "      <td>1000</td>\n",
              "    </tr>\n",
              "    <tr>\n",
              "      <th>9</th>\n",
              "      <td>1000_9</td>\n",
              "      <td>345.54</td>\n",
              "      <td>2018-09-03</td>\n",
              "      <td>1000</td>\n",
              "    </tr>\n",
              "  </tbody>\n",
              "</table>\n",
              "</div>"
            ],
            "text/plain": [
              "       id  mb_used session_date  user_id\n",
              "0  1000_0   112.95   2018-11-25     1000\n",
              "1  1000_1  1052.81   2018-09-07     1000\n",
              "2  1000_2  1197.26   2018-06-25     1000\n",
              "3  1000_3   550.27   2018-08-22     1000\n",
              "4  1000_4   302.56   2018-09-24     1000\n",
              "5  1000_5   399.97   2018-10-02     1000\n",
              "6  1000_6   540.08   2018-09-07     1000\n",
              "7  1000_7   415.70   2018-07-11     1000\n",
              "8  1000_8   505.40   2018-10-08     1000\n",
              "9  1000_9   345.54   2018-09-03     1000"
            ]
          },
          "metadata": {}
        },
        {
          "name": "stdout",
          "output_type": "stream",
          "text": "<class 'pandas.core.frame.DataFrame'>\n\nInt64Index: 149396 entries, 0 to 149395\n\nData columns (total 4 columns):\n\n #   Column        Non-Null Count   Dtype  \n\n---  ------        --------------   -----  \n\n 0   id            149396 non-null  object \n\n 1   mb_used       149396 non-null  float64\n\n 2   session_date  149396 non-null  object \n\n 3   user_id       149396 non-null  int64  \n\ndtypes: float64(1), int64(1), object(2)\n\nmemory usage: 5.7+ MB\n\n************************************************\n\nTariffs\n"
        },
        {
          "output_type": "display_data",
          "data": {
            "text/html": [
              "<div>\n",
              "<style scoped>\n",
              "    .dataframe tbody tr th:only-of-type {\n",
              "        vertical-align: middle;\n",
              "    }\n",
              "\n",
              "    .dataframe tbody tr th {\n",
              "        vertical-align: top;\n",
              "    }\n",
              "\n",
              "    .dataframe thead th {\n",
              "        text-align: right;\n",
              "    }\n",
              "</style>\n",
              "<table border=\"1\" class=\"dataframe\">\n",
              "  <thead>\n",
              "    <tr style=\"text-align: right;\">\n",
              "      <th></th>\n",
              "      <th>messages_included</th>\n",
              "      <th>mb_per_month_included</th>\n",
              "      <th>minutes_included</th>\n",
              "      <th>rub_monthly_fee</th>\n",
              "      <th>rub_per_gb</th>\n",
              "      <th>rub_per_message</th>\n",
              "      <th>rub_per_minute</th>\n",
              "      <th>tariff_name</th>\n",
              "    </tr>\n",
              "  </thead>\n",
              "  <tbody>\n",
              "    <tr>\n",
              "      <th>0</th>\n",
              "      <td>50</td>\n",
              "      <td>15360</td>\n",
              "      <td>500</td>\n",
              "      <td>550</td>\n",
              "      <td>200</td>\n",
              "      <td>3</td>\n",
              "      <td>3</td>\n",
              "      <td>smart</td>\n",
              "    </tr>\n",
              "    <tr>\n",
              "      <th>1</th>\n",
              "      <td>1000</td>\n",
              "      <td>30720</td>\n",
              "      <td>3000</td>\n",
              "      <td>1950</td>\n",
              "      <td>150</td>\n",
              "      <td>1</td>\n",
              "      <td>1</td>\n",
              "      <td>ultra</td>\n",
              "    </tr>\n",
              "  </tbody>\n",
              "</table>\n",
              "</div>"
            ],
            "text/plain": [
              "   messages_included  mb_per_month_included  minutes_included  \\\n",
              "0                 50                  15360               500   \n",
              "1               1000                  30720              3000   \n",
              "\n",
              "   rub_monthly_fee  rub_per_gb  rub_per_message  rub_per_minute tariff_name  \n",
              "0              550         200                3               3       smart  \n",
              "1             1950         150                1               1       ultra  "
            ]
          },
          "metadata": {}
        },
        {
          "name": "stdout",
          "output_type": "stream",
          "text": "<class 'pandas.core.frame.DataFrame'>\n\nRangeIndex: 2 entries, 0 to 1\n\nData columns (total 8 columns):\n\n #   Column                 Non-Null Count  Dtype \n\n---  ------                 --------------  ----- \n\n 0   messages_included      2 non-null      int64 \n\n 1   mb_per_month_included  2 non-null      int64 \n\n 2   minutes_included       2 non-null      int64 \n\n 3   rub_monthly_fee        2 non-null      int64 \n\n 4   rub_per_gb             2 non-null      int64 \n\n 5   rub_per_message        2 non-null      int64 \n\n 6   rub_per_minute         2 non-null      int64 \n\n 7   tariff_name            2 non-null      object\n\ndtypes: int64(7), object(1)\n\nmemory usage: 256.0+ bytes\n\n************************************************\n"
        }
      ]
    },
    {
      "cell_type": "markdown",
      "source": "Вывод по датафреймам:\n<br>В столбце churn_date много пропусков. Делать с ними ничего не будем, т.к. в условии сказано, что \"если значение пропущено, то тариф ещё действовал на момент выгрузки данных\". В столбце reg_date надо изменить тип данных на datetime. Для более простой работы с тарифами, можно заменить их значениями 1 и 2 (smart и ultra соответственно).\n<br>В таблице calls пропусков нет.\nДля более простой работы со столбцом id удалим нижнее подчеркивание. Это не повлияет на уникальность значения.\nВ столбце call_date надо изменить тип данных на datetime.\nВ столбце duration данные необходимо округлить в большую сторону и преобразовать тип в целочисленный в соответствии с условием задачи.\nНулевые значения в столбце duration соответствуют пропущенным звонкам. Пока оставим их как есть.\n<br>В таблице messages пропусков нет.\nДля более простой работы со столбцом id удалим нижнее подчеркивание. Это не повлияет на уникальность значения.\nВ столбце message_date надо изменить тип данных на datetime.\n<br>В таблице internet пропусков нет.\nДля более простой работы со столбцом id удалим нижнее подчеркивание. Это не повлияет на уникальность значения. \nВ столбце session_date надо изменить тип данных на datetime.\nВ столбце mb_used данные необходимо округлить в большую сторону и преобразовать тип в целочисленный в соответствии с условием задачи.\nСтолбец Unnamed: 0 предлагаю удалить, т.к. он ни на что не влияет.",
      "metadata": {}
    },
    {
      "cell_type": "markdown",
      "source": "#### Проверка датафреймов методом describe()",
      "metadata": {}
    },
    {
      "cell_type": "code",
      "source": "for i in range(len(dataframes)):\n    names = ['Users describe', 'Calls describe', 'Messages describe', 'Internet describe', 'Tariffs describe']\n    print(names[i])\n    display(dataframes[i].describe())\n    print('***********************')",
      "metadata": {
        "scrolled": true
      },
      "execution_count": 4,
      "outputs": [
        {
          "name": "stdout",
          "output_type": "stream",
          "text": "Users describe\n"
        },
        {
          "output_type": "display_data",
          "data": {
            "text/html": [
              "<div>\n",
              "<style scoped>\n",
              "    .dataframe tbody tr th:only-of-type {\n",
              "        vertical-align: middle;\n",
              "    }\n",
              "\n",
              "    .dataframe tbody tr th {\n",
              "        vertical-align: top;\n",
              "    }\n",
              "\n",
              "    .dataframe thead th {\n",
              "        text-align: right;\n",
              "    }\n",
              "</style>\n",
              "<table border=\"1\" class=\"dataframe\">\n",
              "  <thead>\n",
              "    <tr style=\"text-align: right;\">\n",
              "      <th></th>\n",
              "      <th>user_id</th>\n",
              "      <th>age</th>\n",
              "    </tr>\n",
              "  </thead>\n",
              "  <tbody>\n",
              "    <tr>\n",
              "      <th>count</th>\n",
              "      <td>500.000000</td>\n",
              "      <td>500.00000</td>\n",
              "    </tr>\n",
              "    <tr>\n",
              "      <th>mean</th>\n",
              "      <td>1249.500000</td>\n",
              "      <td>46.58800</td>\n",
              "    </tr>\n",
              "    <tr>\n",
              "      <th>std</th>\n",
              "      <td>144.481833</td>\n",
              "      <td>16.66763</td>\n",
              "    </tr>\n",
              "    <tr>\n",
              "      <th>min</th>\n",
              "      <td>1000.000000</td>\n",
              "      <td>18.00000</td>\n",
              "    </tr>\n",
              "    <tr>\n",
              "      <th>25%</th>\n",
              "      <td>1124.750000</td>\n",
              "      <td>32.00000</td>\n",
              "    </tr>\n",
              "    <tr>\n",
              "      <th>50%</th>\n",
              "      <td>1249.500000</td>\n",
              "      <td>46.00000</td>\n",
              "    </tr>\n",
              "    <tr>\n",
              "      <th>75%</th>\n",
              "      <td>1374.250000</td>\n",
              "      <td>62.00000</td>\n",
              "    </tr>\n",
              "    <tr>\n",
              "      <th>max</th>\n",
              "      <td>1499.000000</td>\n",
              "      <td>75.00000</td>\n",
              "    </tr>\n",
              "  </tbody>\n",
              "</table>\n",
              "</div>"
            ],
            "text/plain": [
              "           user_id        age\n",
              "count   500.000000  500.00000\n",
              "mean   1249.500000   46.58800\n",
              "std     144.481833   16.66763\n",
              "min    1000.000000   18.00000\n",
              "25%    1124.750000   32.00000\n",
              "50%    1249.500000   46.00000\n",
              "75%    1374.250000   62.00000\n",
              "max    1499.000000   75.00000"
            ]
          },
          "metadata": {}
        },
        {
          "name": "stdout",
          "output_type": "stream",
          "text": "***********************\n\nCalls describe\n"
        },
        {
          "output_type": "display_data",
          "data": {
            "text/html": [
              "<div>\n",
              "<style scoped>\n",
              "    .dataframe tbody tr th:only-of-type {\n",
              "        vertical-align: middle;\n",
              "    }\n",
              "\n",
              "    .dataframe tbody tr th {\n",
              "        vertical-align: top;\n",
              "    }\n",
              "\n",
              "    .dataframe thead th {\n",
              "        text-align: right;\n",
              "    }\n",
              "</style>\n",
              "<table border=\"1\" class=\"dataframe\">\n",
              "  <thead>\n",
              "    <tr style=\"text-align: right;\">\n",
              "      <th></th>\n",
              "      <th>duration</th>\n",
              "      <th>user_id</th>\n",
              "    </tr>\n",
              "  </thead>\n",
              "  <tbody>\n",
              "    <tr>\n",
              "      <th>count</th>\n",
              "      <td>202607.000000</td>\n",
              "      <td>202607.000000</td>\n",
              "    </tr>\n",
              "    <tr>\n",
              "      <th>mean</th>\n",
              "      <td>6.755887</td>\n",
              "      <td>1253.940619</td>\n",
              "    </tr>\n",
              "    <tr>\n",
              "      <th>std</th>\n",
              "      <td>5.843365</td>\n",
              "      <td>144.722751</td>\n",
              "    </tr>\n",
              "    <tr>\n",
              "      <th>min</th>\n",
              "      <td>0.000000</td>\n",
              "      <td>1000.000000</td>\n",
              "    </tr>\n",
              "    <tr>\n",
              "      <th>25%</th>\n",
              "      <td>1.300000</td>\n",
              "      <td>1126.000000</td>\n",
              "    </tr>\n",
              "    <tr>\n",
              "      <th>50%</th>\n",
              "      <td>6.000000</td>\n",
              "      <td>1260.000000</td>\n",
              "    </tr>\n",
              "    <tr>\n",
              "      <th>75%</th>\n",
              "      <td>10.700000</td>\n",
              "      <td>1379.000000</td>\n",
              "    </tr>\n",
              "    <tr>\n",
              "      <th>max</th>\n",
              "      <td>38.000000</td>\n",
              "      <td>1499.000000</td>\n",
              "    </tr>\n",
              "  </tbody>\n",
              "</table>\n",
              "</div>"
            ],
            "text/plain": [
              "            duration        user_id\n",
              "count  202607.000000  202607.000000\n",
              "mean        6.755887    1253.940619\n",
              "std         5.843365     144.722751\n",
              "min         0.000000    1000.000000\n",
              "25%         1.300000    1126.000000\n",
              "50%         6.000000    1260.000000\n",
              "75%        10.700000    1379.000000\n",
              "max        38.000000    1499.000000"
            ]
          },
          "metadata": {}
        },
        {
          "name": "stdout",
          "output_type": "stream",
          "text": "***********************\n\nMessages describe\n"
        },
        {
          "output_type": "display_data",
          "data": {
            "text/html": [
              "<div>\n",
              "<style scoped>\n",
              "    .dataframe tbody tr th:only-of-type {\n",
              "        vertical-align: middle;\n",
              "    }\n",
              "\n",
              "    .dataframe tbody tr th {\n",
              "        vertical-align: top;\n",
              "    }\n",
              "\n",
              "    .dataframe thead th {\n",
              "        text-align: right;\n",
              "    }\n",
              "</style>\n",
              "<table border=\"1\" class=\"dataframe\">\n",
              "  <thead>\n",
              "    <tr style=\"text-align: right;\">\n",
              "      <th></th>\n",
              "      <th>user_id</th>\n",
              "    </tr>\n",
              "  </thead>\n",
              "  <tbody>\n",
              "    <tr>\n",
              "      <th>count</th>\n",
              "      <td>123036.000000</td>\n",
              "    </tr>\n",
              "    <tr>\n",
              "      <th>mean</th>\n",
              "      <td>1256.989410</td>\n",
              "    </tr>\n",
              "    <tr>\n",
              "      <th>std</th>\n",
              "      <td>143.523967</td>\n",
              "    </tr>\n",
              "    <tr>\n",
              "      <th>min</th>\n",
              "      <td>1000.000000</td>\n",
              "    </tr>\n",
              "    <tr>\n",
              "      <th>25%</th>\n",
              "      <td>1134.000000</td>\n",
              "    </tr>\n",
              "    <tr>\n",
              "      <th>50%</th>\n",
              "      <td>1271.000000</td>\n",
              "    </tr>\n",
              "    <tr>\n",
              "      <th>75%</th>\n",
              "      <td>1381.000000</td>\n",
              "    </tr>\n",
              "    <tr>\n",
              "      <th>max</th>\n",
              "      <td>1499.000000</td>\n",
              "    </tr>\n",
              "  </tbody>\n",
              "</table>\n",
              "</div>"
            ],
            "text/plain": [
              "             user_id\n",
              "count  123036.000000\n",
              "mean     1256.989410\n",
              "std       143.523967\n",
              "min      1000.000000\n",
              "25%      1134.000000\n",
              "50%      1271.000000\n",
              "75%      1381.000000\n",
              "max      1499.000000"
            ]
          },
          "metadata": {}
        },
        {
          "name": "stdout",
          "output_type": "stream",
          "text": "***********************\n\nInternet describe\n"
        },
        {
          "output_type": "display_data",
          "data": {
            "text/html": [
              "<div>\n",
              "<style scoped>\n",
              "    .dataframe tbody tr th:only-of-type {\n",
              "        vertical-align: middle;\n",
              "    }\n",
              "\n",
              "    .dataframe tbody tr th {\n",
              "        vertical-align: top;\n",
              "    }\n",
              "\n",
              "    .dataframe thead th {\n",
              "        text-align: right;\n",
              "    }\n",
              "</style>\n",
              "<table border=\"1\" class=\"dataframe\">\n",
              "  <thead>\n",
              "    <tr style=\"text-align: right;\">\n",
              "      <th></th>\n",
              "      <th>mb_used</th>\n",
              "      <th>user_id</th>\n",
              "    </tr>\n",
              "  </thead>\n",
              "  <tbody>\n",
              "    <tr>\n",
              "      <th>count</th>\n",
              "      <td>149396.000000</td>\n",
              "      <td>149396.000000</td>\n",
              "    </tr>\n",
              "    <tr>\n",
              "      <th>mean</th>\n",
              "      <td>370.192426</td>\n",
              "      <td>1252.099842</td>\n",
              "    </tr>\n",
              "    <tr>\n",
              "      <th>std</th>\n",
              "      <td>278.300951</td>\n",
              "      <td>144.050823</td>\n",
              "    </tr>\n",
              "    <tr>\n",
              "      <th>min</th>\n",
              "      <td>0.000000</td>\n",
              "      <td>1000.000000</td>\n",
              "    </tr>\n",
              "    <tr>\n",
              "      <th>25%</th>\n",
              "      <td>138.187500</td>\n",
              "      <td>1130.000000</td>\n",
              "    </tr>\n",
              "    <tr>\n",
              "      <th>50%</th>\n",
              "      <td>348.015000</td>\n",
              "      <td>1251.000000</td>\n",
              "    </tr>\n",
              "    <tr>\n",
              "      <th>75%</th>\n",
              "      <td>559.552500</td>\n",
              "      <td>1380.000000</td>\n",
              "    </tr>\n",
              "    <tr>\n",
              "      <th>max</th>\n",
              "      <td>1724.830000</td>\n",
              "      <td>1499.000000</td>\n",
              "    </tr>\n",
              "  </tbody>\n",
              "</table>\n",
              "</div>"
            ],
            "text/plain": [
              "             mb_used        user_id\n",
              "count  149396.000000  149396.000000\n",
              "mean      370.192426    1252.099842\n",
              "std       278.300951     144.050823\n",
              "min         0.000000    1000.000000\n",
              "25%       138.187500    1130.000000\n",
              "50%       348.015000    1251.000000\n",
              "75%       559.552500    1380.000000\n",
              "max      1724.830000    1499.000000"
            ]
          },
          "metadata": {}
        },
        {
          "name": "stdout",
          "output_type": "stream",
          "text": "***********************\n\nTariffs describe\n"
        },
        {
          "output_type": "display_data",
          "data": {
            "text/html": [
              "<div>\n",
              "<style scoped>\n",
              "    .dataframe tbody tr th:only-of-type {\n",
              "        vertical-align: middle;\n",
              "    }\n",
              "\n",
              "    .dataframe tbody tr th {\n",
              "        vertical-align: top;\n",
              "    }\n",
              "\n",
              "    .dataframe thead th {\n",
              "        text-align: right;\n",
              "    }\n",
              "</style>\n",
              "<table border=\"1\" class=\"dataframe\">\n",
              "  <thead>\n",
              "    <tr style=\"text-align: right;\">\n",
              "      <th></th>\n",
              "      <th>messages_included</th>\n",
              "      <th>mb_per_month_included</th>\n",
              "      <th>minutes_included</th>\n",
              "      <th>rub_monthly_fee</th>\n",
              "      <th>rub_per_gb</th>\n",
              "      <th>rub_per_message</th>\n",
              "      <th>rub_per_minute</th>\n",
              "    </tr>\n",
              "  </thead>\n",
              "  <tbody>\n",
              "    <tr>\n",
              "      <th>count</th>\n",
              "      <td>2.000000</td>\n",
              "      <td>2.000000</td>\n",
              "      <td>2.000000</td>\n",
              "      <td>2.000000</td>\n",
              "      <td>2.000000</td>\n",
              "      <td>2.000000</td>\n",
              "      <td>2.000000</td>\n",
              "    </tr>\n",
              "    <tr>\n",
              "      <th>mean</th>\n",
              "      <td>525.000000</td>\n",
              "      <td>23040.000000</td>\n",
              "      <td>1750.000000</td>\n",
              "      <td>1250.000000</td>\n",
              "      <td>175.000000</td>\n",
              "      <td>2.000000</td>\n",
              "      <td>2.000000</td>\n",
              "    </tr>\n",
              "    <tr>\n",
              "      <th>std</th>\n",
              "      <td>671.751442</td>\n",
              "      <td>10861.160159</td>\n",
              "      <td>1767.766953</td>\n",
              "      <td>989.949494</td>\n",
              "      <td>35.355339</td>\n",
              "      <td>1.414214</td>\n",
              "      <td>1.414214</td>\n",
              "    </tr>\n",
              "    <tr>\n",
              "      <th>min</th>\n",
              "      <td>50.000000</td>\n",
              "      <td>15360.000000</td>\n",
              "      <td>500.000000</td>\n",
              "      <td>550.000000</td>\n",
              "      <td>150.000000</td>\n",
              "      <td>1.000000</td>\n",
              "      <td>1.000000</td>\n",
              "    </tr>\n",
              "    <tr>\n",
              "      <th>25%</th>\n",
              "      <td>287.500000</td>\n",
              "      <td>19200.000000</td>\n",
              "      <td>1125.000000</td>\n",
              "      <td>900.000000</td>\n",
              "      <td>162.500000</td>\n",
              "      <td>1.500000</td>\n",
              "      <td>1.500000</td>\n",
              "    </tr>\n",
              "    <tr>\n",
              "      <th>50%</th>\n",
              "      <td>525.000000</td>\n",
              "      <td>23040.000000</td>\n",
              "      <td>1750.000000</td>\n",
              "      <td>1250.000000</td>\n",
              "      <td>175.000000</td>\n",
              "      <td>2.000000</td>\n",
              "      <td>2.000000</td>\n",
              "    </tr>\n",
              "    <tr>\n",
              "      <th>75%</th>\n",
              "      <td>762.500000</td>\n",
              "      <td>26880.000000</td>\n",
              "      <td>2375.000000</td>\n",
              "      <td>1600.000000</td>\n",
              "      <td>187.500000</td>\n",
              "      <td>2.500000</td>\n",
              "      <td>2.500000</td>\n",
              "    </tr>\n",
              "    <tr>\n",
              "      <th>max</th>\n",
              "      <td>1000.000000</td>\n",
              "      <td>30720.000000</td>\n",
              "      <td>3000.000000</td>\n",
              "      <td>1950.000000</td>\n",
              "      <td>200.000000</td>\n",
              "      <td>3.000000</td>\n",
              "      <td>3.000000</td>\n",
              "    </tr>\n",
              "  </tbody>\n",
              "</table>\n",
              "</div>"
            ],
            "text/plain": [
              "       messages_included  mb_per_month_included  minutes_included  \\\n",
              "count           2.000000               2.000000          2.000000   \n",
              "mean          525.000000           23040.000000       1750.000000   \n",
              "std           671.751442           10861.160159       1767.766953   \n",
              "min            50.000000           15360.000000        500.000000   \n",
              "25%           287.500000           19200.000000       1125.000000   \n",
              "50%           525.000000           23040.000000       1750.000000   \n",
              "75%           762.500000           26880.000000       2375.000000   \n",
              "max          1000.000000           30720.000000       3000.000000   \n",
              "\n",
              "       rub_monthly_fee  rub_per_gb  rub_per_message  rub_per_minute  \n",
              "count         2.000000    2.000000         2.000000        2.000000  \n",
              "mean       1250.000000  175.000000         2.000000        2.000000  \n",
              "std         989.949494   35.355339         1.414214        1.414214  \n",
              "min         550.000000  150.000000         1.000000        1.000000  \n",
              "25%         900.000000  162.500000         1.500000        1.500000  \n",
              "50%        1250.000000  175.000000         2.000000        2.000000  \n",
              "75%        1600.000000  187.500000         2.500000        2.500000  \n",
              "max        1950.000000  200.000000         3.000000        3.000000  "
            ]
          },
          "metadata": {}
        },
        {
          "name": "stdout",
          "output_type": "stream",
          "text": "***********************\n"
        }
      ]
    },
    {
      "cell_type": "markdown",
      "source": "###### Вывод по шагу 1",
      "metadata": {}
    },
    {
      "cell_type": "markdown",
      "source": "Все таблицы благополучно открыты и проверены на предмет наличия в них данных, а также проверены методом describe, чтобы сразу получить информацию о содержимом.",
      "metadata": {}
    },
    {
      "cell_type": "markdown",
      "source": "## Подготовка данных",
      "metadata": {}
    },
    {
      "cell_type": "markdown",
      "source": "### Проверка на наличие пропусков",
      "metadata": {}
    },
    {
      "cell_type": "code",
      "source": "for i in range(len(dataframes)):\n    names = [\n        'Users missing values', \n        'Calls missing values', \n        'Messages missing values', \n        'Internet missing values', \n        'Tariffs missing values'\n    ]\n    print(names[i])\n    display(dataframes[i].isna().sum())\n    print('*****************')",
      "metadata": {
        "scrolled": true
      },
      "execution_count": 5,
      "outputs": [
        {
          "name": "stdout",
          "output_type": "stream",
          "text": "Users missing values\n"
        },
        {
          "output_type": "display_data",
          "data": {
            "text/plain": [
              "user_id         0\n",
              "age             0\n",
              "churn_date    462\n",
              "city            0\n",
              "first_name      0\n",
              "last_name       0\n",
              "reg_date        0\n",
              "tariff          0\n",
              "dtype: int64"
            ]
          },
          "metadata": {}
        },
        {
          "name": "stdout",
          "output_type": "stream",
          "text": "*****************\n\nCalls missing values\n"
        },
        {
          "output_type": "display_data",
          "data": {
            "text/plain": [
              "id           0\n",
              "call_date    0\n",
              "duration     0\n",
              "user_id      0\n",
              "dtype: int64"
            ]
          },
          "metadata": {}
        },
        {
          "name": "stdout",
          "output_type": "stream",
          "text": "*****************\n\nMessages missing values\n"
        },
        {
          "output_type": "display_data",
          "data": {
            "text/plain": [
              "id              0\n",
              "message_date    0\n",
              "user_id         0\n",
              "dtype: int64"
            ]
          },
          "metadata": {}
        },
        {
          "name": "stdout",
          "output_type": "stream",
          "text": "*****************\n\nInternet missing values\n"
        },
        {
          "output_type": "display_data",
          "data": {
            "text/plain": [
              "id              0\n",
              "mb_used         0\n",
              "session_date    0\n",
              "user_id         0\n",
              "dtype: int64"
            ]
          },
          "metadata": {}
        },
        {
          "name": "stdout",
          "output_type": "stream",
          "text": "*****************\n\nTariffs missing values\n"
        },
        {
          "output_type": "display_data",
          "data": {
            "text/plain": [
              "messages_included        0\n",
              "mb_per_month_included    0\n",
              "minutes_included         0\n",
              "rub_monthly_fee          0\n",
              "rub_per_gb               0\n",
              "rub_per_message          0\n",
              "rub_per_minute           0\n",
              "tariff_name              0\n",
              "dtype: int64"
            ]
          },
          "metadata": {}
        },
        {
          "name": "stdout",
          "output_type": "stream",
          "text": "*****************\n"
        }
      ]
    },
    {
      "cell_type": "code",
      "source": "",
      "metadata": {},
      "execution_count": null,
      "outputs": []
    },
    {
      "cell_type": "markdown",
      "source": "Пропусков нет, кроме тех, что обозначают присутствие человека в тарифе (отсутствие пропуска заполняется датой выхода из тарифа)",
      "metadata": {}
    },
    {
      "cell_type": "markdown",
      "source": "### Проверка на наличие  дубликатов",
      "metadata": {}
    },
    {
      "cell_type": "code",
      "source": "for i in range(len(dataframes)):\n    names = ['Users duplicates', 'Calls duplicates', 'Messages duplicates', 'Internet duplicates', 'Tariffs duplicates']\n    print(names[i])\n    display(dataframes[i].duplicated().sum())\n    print('******')",
      "metadata": {},
      "execution_count": 6,
      "outputs": [
        {
          "name": "stdout",
          "output_type": "stream",
          "text": "Users duplicates\n"
        },
        {
          "output_type": "display_data",
          "data": {
            "text/plain": [
              "0"
            ]
          },
          "metadata": {}
        },
        {
          "name": "stdout",
          "output_type": "stream",
          "text": "******\n\nCalls duplicates\n"
        },
        {
          "output_type": "display_data",
          "data": {
            "text/plain": [
              "0"
            ]
          },
          "metadata": {}
        },
        {
          "name": "stdout",
          "output_type": "stream",
          "text": "******\n\nMessages duplicates\n"
        },
        {
          "output_type": "display_data",
          "data": {
            "text/plain": [
              "0"
            ]
          },
          "metadata": {}
        },
        {
          "name": "stdout",
          "output_type": "stream",
          "text": "******\n\nInternet duplicates\n"
        },
        {
          "output_type": "display_data",
          "data": {
            "text/plain": [
              "0"
            ]
          },
          "metadata": {}
        },
        {
          "name": "stdout",
          "output_type": "stream",
          "text": "******\n\nTariffs duplicates\n"
        },
        {
          "output_type": "display_data",
          "data": {
            "text/plain": [
              "0"
            ]
          },
          "metadata": {}
        },
        {
          "name": "stdout",
          "output_type": "stream",
          "text": "******\n"
        }
      ]
    },
    {
      "cell_type": "markdown",
      "source": "Вывод: Убедились, что дубликатов в датафреймах нет.",
      "metadata": {}
    },
    {
      "cell_type": "markdown",
      "source": "### Изменение формата дат",
      "metadata": {}
    },
    {
      "cell_type": "markdown",
      "source": "В дальнейшем нам предстоит работать с датами в таблицах, но они в формате object. Изменим формат на datetime",
      "metadata": {}
    },
    {
      "cell_type": "code",
      "source": "data_calls['call_date'] = pd.to_datetime(data_calls['call_date'], format='%Y-%m-%d')\ndata_messages['message_date'] = pd.to_datetime(data_messages['message_date'], format='%Y-%m-%d')\ndata_internet['session_date'] = pd.to_datetime(data_internet['session_date'], format='%Y-%m-%d')",
      "metadata": {},
      "execution_count": 7,
      "outputs": []
    },
    {
      "cell_type": "markdown",
      "source": "Для того, чтобы было проще считать помесячные показатели, меняем отображение дат в таблицах calls, internet и messages с привычного формата Y:M:D на отображения месяца действия",
      "metadata": {}
    },
    {
      "cell_type": "code",
      "source": "data_calls['calls_month'] = pd.DatetimeIndex(data_calls['call_date']).month\ndata_internet['internet_month'] = pd.DatetimeIndex(data_internet['session_date']).month\ndata_messages['messages_month'] = pd.DatetimeIndex(data_messages['message_date']).month",
      "metadata": {},
      "execution_count": 8,
      "outputs": []
    },
    {
      "cell_type": "markdown",
      "source": "### Таблица users",
      "metadata": {}
    },
    {
      "cell_type": "markdown",
      "source": "#### Замена названий тарифов на идентификаторы",
      "metadata": {}
    },
    {
      "cell_type": "code",
      "source": "data_users['tariff'] = data_users['tariff'].str.replace('smart','1')\ndata_users['tariff'] = data_users['tariff'].str.replace('ultra','2')",
      "metadata": {},
      "execution_count": 9,
      "outputs": []
    },
    {
      "cell_type": "markdown",
      "source": "#### Изменение формата времени",
      "metadata": {}
    },
    {
      "cell_type": "markdown",
      "source": "Выше мы увидели, что данные столбцов reg_date и churn_date в таблице users имеют формат object. Приведем данные в этих столбцах к формату datetime.",
      "metadata": {}
    },
    {
      "cell_type": "code",
      "source": "data_users['reg_date'] = pd.to_datetime(data_users['reg_date'], format='%Y-%m-%d')\ndata_users['churn_date'] = pd.to_datetime(data_users['churn_date'], format='%Y-%m-%d')",
      "metadata": {},
      "execution_count": 10,
      "outputs": []
    },
    {
      "cell_type": "markdown",
      "source": "#### Распределение пользователей по городам",
      "metadata": {}
    },
    {
      "cell_type": "markdown",
      "source": "В дальнейшем нам понадобится проверить гипотезу, что средняя выручка пользователей из Москвы отличается от выручки пользователей из других регионов. Для этого посмотрим, как распределены пользователи по городам",
      "metadata": {}
    },
    {
      "cell_type": "code",
      "source": "data_users.groupby('city')['city'].count().sort_values(ascending=False)",
      "metadata": {},
      "execution_count": 11,
      "outputs": [
        {
          "execution_count": 11,
          "output_type": "execute_result",
          "data": {
            "text/plain": [
              "city\n",
              "Москва             99\n",
              "Санкт-Петербург    39\n",
              "Новосибирск        16\n",
              "Казань             14\n",
              "Омск               14\n",
              "                   ..\n",
              "Подольск            1\n",
              "Химки               1\n",
              "Иваново             1\n",
              "Нижневартовск       1\n",
              "Архангельск         1\n",
              "Name: city, Length: 76, dtype: int64"
            ]
          },
          "metadata": {}
        }
      ]
    },
    {
      "cell_type": "markdown",
      "source": "### Таблица calls",
      "metadata": {}
    },
    {
      "cell_type": "markdown",
      "source": "В соответствии с шагом 2 в инструкции по выполнению проекта, проанализируем данные из таблиц, а в частности, посмотрим, как распределяются звонки всей выборки клиентов",
      "metadata": {}
    },
    {
      "cell_type": "markdown",
      "source": "#### Посмотрим на распределение звонков по месяцам",
      "metadata": {}
    },
    {
      "cell_type": "code",
      "source": "data_calls.head(5)",
      "metadata": {},
      "execution_count": 12,
      "outputs": [
        {
          "execution_count": 12,
          "output_type": "execute_result",
          "data": {
            "text/html": [
              "<div>\n",
              "<style scoped>\n",
              "    .dataframe tbody tr th:only-of-type {\n",
              "        vertical-align: middle;\n",
              "    }\n",
              "\n",
              "    .dataframe tbody tr th {\n",
              "        vertical-align: top;\n",
              "    }\n",
              "\n",
              "    .dataframe thead th {\n",
              "        text-align: right;\n",
              "    }\n",
              "</style>\n",
              "<table border=\"1\" class=\"dataframe\">\n",
              "  <thead>\n",
              "    <tr style=\"text-align: right;\">\n",
              "      <th></th>\n",
              "      <th>id</th>\n",
              "      <th>call_date</th>\n",
              "      <th>duration</th>\n",
              "      <th>user_id</th>\n",
              "      <th>calls_month</th>\n",
              "    </tr>\n",
              "  </thead>\n",
              "  <tbody>\n",
              "    <tr>\n",
              "      <th>0</th>\n",
              "      <td>1000_0</td>\n",
              "      <td>2018-07-25</td>\n",
              "      <td>0.00</td>\n",
              "      <td>1000</td>\n",
              "      <td>7</td>\n",
              "    </tr>\n",
              "    <tr>\n",
              "      <th>1</th>\n",
              "      <td>1000_1</td>\n",
              "      <td>2018-08-17</td>\n",
              "      <td>0.00</td>\n",
              "      <td>1000</td>\n",
              "      <td>8</td>\n",
              "    </tr>\n",
              "    <tr>\n",
              "      <th>2</th>\n",
              "      <td>1000_2</td>\n",
              "      <td>2018-06-11</td>\n",
              "      <td>2.85</td>\n",
              "      <td>1000</td>\n",
              "      <td>6</td>\n",
              "    </tr>\n",
              "    <tr>\n",
              "      <th>3</th>\n",
              "      <td>1000_3</td>\n",
              "      <td>2018-09-21</td>\n",
              "      <td>13.80</td>\n",
              "      <td>1000</td>\n",
              "      <td>9</td>\n",
              "    </tr>\n",
              "    <tr>\n",
              "      <th>4</th>\n",
              "      <td>1000_4</td>\n",
              "      <td>2018-12-15</td>\n",
              "      <td>5.18</td>\n",
              "      <td>1000</td>\n",
              "      <td>12</td>\n",
              "    </tr>\n",
              "  </tbody>\n",
              "</table>\n",
              "</div>"
            ],
            "text/plain": [
              "       id  call_date  duration  user_id  calls_month\n",
              "0  1000_0 2018-07-25      0.00     1000            7\n",
              "1  1000_1 2018-08-17      0.00     1000            8\n",
              "2  1000_2 2018-06-11      2.85     1000            6\n",
              "3  1000_3 2018-09-21     13.80     1000            9\n",
              "4  1000_4 2018-12-15      5.18     1000           12"
            ]
          },
          "metadata": {}
        }
      ]
    },
    {
      "cell_type": "code",
      "source": "data_calls['calls_month'].plot(kind='hist', bins=12, grid=True)\nplt.xlabel('Месяц')\nplt.ylabel(\"Кол-во минут звонков\")",
      "metadata": {},
      "execution_count": 13,
      "outputs": [
        {
          "execution_count": 13,
          "output_type": "execute_result",
          "data": {
            "text/plain": [
              "Text(0, 0.5, 'Кол-во минут звонков')"
            ]
          },
          "metadata": {}
        },
        {
          "output_type": "display_data",
          "data": {
            "image/png": "[encoded data removed]",
            "text/plain": [
              "<Figure size 432x288 with 1 Axes>"
            ]
          },
          "metadata": {
            "needs_background": "light"
          }
        }
      ]
    },
    {
      "cell_type": "markdown",
      "source": "На графике видим, что количество звонков растет с каждыми месяцем. Скорее всего, это связано с тем, что растет популярность оператора сотовой связи или хорошо работает конкретная рекламная акция.",
      "metadata": {}
    },
    {
      "cell_type": "markdown",
      "source": "#### Удалим нижнее подчеркивание из столбца id",
      "metadata": {}
    },
    {
      "cell_type": "code",
      "source": "data_calls['id'] = data_calls['id'].replace(to_replace='_', value='', regex=True)\ndata_calls['id'] = data_calls['id'].astype('int64')",
      "metadata": {},
      "execution_count": 14,
      "outputs": []
    },
    {
      "cell_type": "markdown",
      "source": "#### Округлим значения длительности звонков в соответствии  с тем, как сказано в условии - в большую сторону.",
      "metadata": {}
    },
    {
      "cell_type": "markdown",
      "source": "Для начала отобразим столбец duration таблицы calls",
      "metadata": {}
    },
    {
      "cell_type": "code",
      "source": "display(data_calls['duration'].head(5))",
      "metadata": {},
      "execution_count": 15,
      "outputs": [
        {
          "output_type": "display_data",
          "data": {
            "text/plain": [
              "0     0.00\n",
              "1     0.00\n",
              "2     2.85\n",
              "3    13.80\n",
              "4     5.18\n",
              "Name: duration, dtype: float64"
            ]
          },
          "metadata": {}
        }
      ]
    },
    {
      "cell_type": "markdown",
      "source": "В соответствии с условием проекта нам необходимо округлить длительность звонков до целых значений в большую сторону",
      "metadata": {}
    },
    {
      "cell_type": "code",
      "source": "data_calls['duration'] = np.ceil(data_calls['duration'])\ndata_calls['duration'] = data_calls['duration'].astype('int64')\ndisplay(data_calls['duration'].head(5))",
      "metadata": {},
      "execution_count": 16,
      "outputs": [
        {
          "output_type": "display_data",
          "data": {
            "text/plain": [
              "0     0\n",
              "1     0\n",
              "2     3\n",
              "3    14\n",
              "4     6\n",
              "Name: duration, dtype: int64"
            ]
          },
          "metadata": {}
        }
      ]
    },
    {
      "cell_type": "markdown",
      "source": "#### Посмотрим количество пропущенных звонков  (длительность = 0) и построим гистограмму, чтобы посмотреть распределение звонков по длительности",
      "metadata": {}
    },
    {
      "cell_type": "markdown",
      "source": "При открытии таблицы calls мы видели, что общее кол-во звонков - 202607. Посмотрим, какое кол-во пропущенных звонков",
      "metadata": {}
    },
    {
      "cell_type": "code",
      "source": "print('Кол-во пропущенных звонков', len(data_calls.loc[data_calls['duration'] == 0]))\nprint('Доля пропущенных звонков от общего кол-ва звонков', \n      len(data_calls.loc[data_calls['duration'] == 0]) * 100 / len(data_calls), '%')",
      "metadata": {},
      "execution_count": 17,
      "outputs": [
        {
          "name": "stdout",
          "output_type": "stream",
          "text": "Кол-во пропущенных звонков 39613\n\nДоля пропущенных звонков от общего кол-ва звонков 19.551644316336553 %\n"
        }
      ]
    },
    {
      "cell_type": "markdown",
      "source": "Видим вполне нормальное количество пропущенных звонков - 19,6%.",
      "metadata": {}
    },
    {
      "cell_type": "markdown",
      "source": "#### Посмотрим, как распределена длительность звонков в минутах",
      "metadata": {}
    },
    {
      "cell_type": "code",
      "source": "data_calls.loc[data_calls['duration'] != 0, 'duration'].plot(kind='hist', figsize=(10,5), bins=35)\nplt.xlabel('Длительность в минутах')\nplt.ylabel('Кол-во звонков')",
      "metadata": {},
      "execution_count": 18,
      "outputs": [
        {
          "execution_count": 18,
          "output_type": "execute_result",
          "data": {
            "text/plain": [
              "Text(0, 0.5, 'Кол-во звонков')"
            ]
          },
          "metadata": {}
        },
        {
          "output_type": "display_data",
          "data": {
            "image/png": "[encoded data removed]",
            "text/plain": [
              "<Figure size 720x360 with 1 Axes>"
            ]
          },
          "metadata": {
            "needs_background": "light"
          }
        }
      ]
    },
    {
      "cell_type": "markdown",
      "source": "Довольно правдоподобное распределение длительности звонков",
      "metadata": {}
    },
    {
      "cell_type": "markdown",
      "source": "Получим более ясную картину в цифрах - проверим все звонки, длительность которых > 0, методом describe",
      "metadata": {}
    },
    {
      "cell_type": "code",
      "source": "data_calls.loc[data_calls['duration'] != 0, 'duration'].describe()",
      "metadata": {},
      "execution_count": 19,
      "outputs": [
        {
          "execution_count": 19,
          "output_type": "execute_result",
          "data": {
            "text/plain": [
              "count    162994.000000\n",
              "mean          8.897880\n",
              "std           5.353761\n",
              "min           1.000000\n",
              "25%           5.000000\n",
              "50%           8.000000\n",
              "75%          12.000000\n",
              "max          38.000000\n",
              "Name: duration, dtype: float64"
            ]
          },
          "metadata": {}
        }
      ]
    },
    {
      "cell_type": "markdown",
      "source": "Видим, что среднее значение длительности звонков 8.9 минут, а медиана - 8 минут.",
      "metadata": {}
    },
    {
      "cell_type": "markdown",
      "source": "### Таблица messages",
      "metadata": {}
    },
    {
      "cell_type": "markdown",
      "source": "#### Посмотрим на распределение кол-ва сообщений по месяцам",
      "metadata": {}
    },
    {
      "cell_type": "code",
      "source": "data_messages['messages_month'].plot(kind='hist', bins=12, grid=True)",
      "metadata": {},
      "execution_count": 20,
      "outputs": [
        {
          "execution_count": 20,
          "output_type": "execute_result",
          "data": {
            "text/plain": [
              "<AxesSubplot:ylabel='Frequency'>"
            ]
          },
          "metadata": {}
        },
        {
          "output_type": "display_data",
          "data": {
            "image/png": "[encoded data removed]",
            "text/plain": [
              "<Figure size 432x288 with 1 Axes>"
            ]
          },
          "metadata": {
            "needs_background": "light"
          }
        }
      ]
    },
    {
      "cell_type": "markdown",
      "source": "Видим схожую со звонками картину. Объяснение то же.",
      "metadata": {}
    },
    {
      "cell_type": "markdown",
      "source": "#### Удалим нижнее подчеркивание из столбца id",
      "metadata": {}
    },
    {
      "cell_type": "code",
      "source": "data_messages['id'] = data_messages['id'].replace(to_replace='_', value='', regex=True)\ndata_messages['id'] = data_messages['id'].astype('int64')",
      "metadata": {},
      "execution_count": 21,
      "outputs": []
    },
    {
      "cell_type": "code",
      "source": "data_messages.info()",
      "metadata": {},
      "execution_count": 22,
      "outputs": [
        {
          "name": "stdout",
          "output_type": "stream",
          "text": "<class 'pandas.core.frame.DataFrame'>\n\nRangeIndex: 123036 entries, 0 to 123035\n\nData columns (total 4 columns):\n\n #   Column          Non-Null Count   Dtype         \n\n---  ------          --------------   -----         \n\n 0   id              123036 non-null  int64         \n\n 1   message_date    123036 non-null  datetime64[ns]\n\n 2   user_id         123036 non-null  int64         \n\n 3   messages_month  123036 non-null  int64         \n\ndtypes: datetime64[ns](1), int64(3)\n\nmemory usage: 3.8 MB\n"
        }
      ]
    },
    {
      "cell_type": "markdown",
      "source": "### Таблица internet",
      "metadata": {}
    },
    {
      "cell_type": "markdown",
      "source": "#### Посмотрим на распределение интернет-сессий по месяцам",
      "metadata": {}
    },
    {
      "cell_type": "code",
      "source": "data_internet['internet_month'].plot(kind='hist', bins=12, grid=True)\nplt.xlabel('Месяц')\nplt.ylabel('Кол-во мегабайт в месяц')",
      "metadata": {},
      "execution_count": 23,
      "outputs": [
        {
          "execution_count": 23,
          "output_type": "execute_result",
          "data": {
            "text/plain": [
              "Text(0, 0.5, 'Кол-во мегабайт в месяц')"
            ]
          },
          "metadata": {}
        },
        {
          "output_type": "display_data",
          "data": {
            "image/png": "[encoded data removed]",
            "text/plain": [
              "<Figure size 432x288 with 1 Axes>"
            ]
          },
          "metadata": {
            "needs_background": "light"
          }
        }
      ]
    },
    {
      "cell_type": "markdown",
      "source": "Интернет-трафик растет по той же закономерности, что и звонки, и сообщения.",
      "metadata": {}
    },
    {
      "cell_type": "markdown",
      "source": "#### Удалим нижнее подчеркивание из столбца id",
      "metadata": {}
    },
    {
      "cell_type": "code",
      "source": "data_internet['id'] = data_internet['id'].replace(to_replace='_', value='', regex=True)\ndata_internet['id'] = data_internet['id'].astype('int64')",
      "metadata": {},
      "execution_count": 24,
      "outputs": []
    },
    {
      "cell_type": "code",
      "source": "data_internet.head()",
      "metadata": {},
      "execution_count": 25,
      "outputs": [
        {
          "execution_count": 25,
          "output_type": "execute_result",
          "data": {
            "text/html": [
              "<div>\n",
              "<style scoped>\n",
              "    .dataframe tbody tr th:only-of-type {\n",
              "        vertical-align: middle;\n",
              "    }\n",
              "\n",
              "    .dataframe tbody tr th {\n",
              "        vertical-align: top;\n",
              "    }\n",
              "\n",
              "    .dataframe thead th {\n",
              "        text-align: right;\n",
              "    }\n",
              "</style>\n",
              "<table border=\"1\" class=\"dataframe\">\n",
              "  <thead>\n",
              "    <tr style=\"text-align: right;\">\n",
              "      <th></th>\n",
              "      <th>id</th>\n",
              "      <th>mb_used</th>\n",
              "      <th>session_date</th>\n",
              "      <th>user_id</th>\n",
              "      <th>internet_month</th>\n",
              "    </tr>\n",
              "  </thead>\n",
              "  <tbody>\n",
              "    <tr>\n",
              "      <th>0</th>\n",
              "      <td>10000</td>\n",
              "      <td>112.95</td>\n",
              "      <td>2018-11-25</td>\n",
              "      <td>1000</td>\n",
              "      <td>11</td>\n",
              "    </tr>\n",
              "    <tr>\n",
              "      <th>1</th>\n",
              "      <td>10001</td>\n",
              "      <td>1052.81</td>\n",
              "      <td>2018-09-07</td>\n",
              "      <td>1000</td>\n",
              "      <td>9</td>\n",
              "    </tr>\n",
              "    <tr>\n",
              "      <th>2</th>\n",
              "      <td>10002</td>\n",
              "      <td>1197.26</td>\n",
              "      <td>2018-06-25</td>\n",
              "      <td>1000</td>\n",
              "      <td>6</td>\n",
              "    </tr>\n",
              "    <tr>\n",
              "      <th>3</th>\n",
              "      <td>10003</td>\n",
              "      <td>550.27</td>\n",
              "      <td>2018-08-22</td>\n",
              "      <td>1000</td>\n",
              "      <td>8</td>\n",
              "    </tr>\n",
              "    <tr>\n",
              "      <th>4</th>\n",
              "      <td>10004</td>\n",
              "      <td>302.56</td>\n",
              "      <td>2018-09-24</td>\n",
              "      <td>1000</td>\n",
              "      <td>9</td>\n",
              "    </tr>\n",
              "  </tbody>\n",
              "</table>\n",
              "</div>"
            ],
            "text/plain": [
              "      id  mb_used session_date  user_id  internet_month\n",
              "0  10000   112.95   2018-11-25     1000              11\n",
              "1  10001  1052.81   2018-09-07     1000               9\n",
              "2  10002  1197.26   2018-06-25     1000               6\n",
              "3  10003   550.27   2018-08-22     1000               8\n",
              "4  10004   302.56   2018-09-24     1000               9"
            ]
          },
          "metadata": {}
        }
      ]
    },
    {
      "cell_type": "markdown",
      "source": "#### Округлим значение мегабайт в соответствии с условием задачи и приведем его к целочисленному формату",
      "metadata": {}
    },
    {
      "cell_type": "code",
      "source": "#data_internet['mb_used'] = (data_internet['mb_used'].apply(np.ceil))\n#data_internet['mb_used'] = (data_internet['mb_used'].astype('int64'))",
      "metadata": {},
      "execution_count": 26,
      "outputs": []
    },
    {
      "cell_type": "markdown",
      "source": "Посмотрим кол-во сессий с нулевыми значениями, потому что они могут существенно повлиять на ту часть данных, которая нас интересует",
      "metadata": {}
    },
    {
      "cell_type": "code",
      "source": "len(data_internet.loc[data_internet['mb_used'] == 0])\nprint('Кол-во сессий с нулевым трафиком интернета', len(data_internet.loc[data_internet['mb_used'] == 0]))\nprint('Доля сессий с нулевым трафиком интернета', \n      len(data_internet.loc[data_internet['mb_used'] == 0]) * 100 / len(data_internet), '%')",
      "metadata": {},
      "execution_count": 27,
      "outputs": [
        {
          "name": "stdout",
          "output_type": "stream",
          "text": "Кол-во сессий с нулевым трафиком интернета 19598\n\nДоля сессий с нулевым трафиком интернета 13.118155773916303 %\n"
        }
      ]
    },
    {
      "cell_type": "markdown",
      "source": "<font color='DarkBlue'><b>Комментарий ревьюера 2</b></font><br>\n<font color='DarkMagenta'>👉 Таблица содержит идентификатор сессий и идентификатор пользователя. Значит пользователь устанавливал соединение и авторизовался. Но трафик нулевой. И это аномалия, возможно, что она связана с техничесткими проблемами оператора. Нам в данном проекте нулевые сессии не мешают, но в выводах исследования мы должны были этот факт указать, так как это не полученная выручка оператора при существующем спросе на услугу пользователей.</font>",
      "metadata": {}
    },
    {
      "cell_type": "markdown",
      "source": "Нулевых значений примерно 13% от общего числа. Это может говорить о том, что абонент не использует интернет или у него какие-то неполадки с ним.\n<br>Теперь посмотрим распределение по объему сессий",
      "metadata": {}
    },
    {
      "cell_type": "code",
      "source": "data_internet.loc[data_internet['mb_used'] != 0, 'mb_used'].plot(kind='hist', figsize=(10,5), bins=150)\nplt.xlabel('Кол-во мегабайт за сессию')\nplt.ylabel('Кол-во сессий')",
      "metadata": {},
      "execution_count": 28,
      "outputs": [
        {
          "execution_count": 28,
          "output_type": "execute_result",
          "data": {
            "text/plain": [
              "Text(0, 0.5, 'Кол-во сессий')"
            ]
          },
          "metadata": {}
        },
        {
          "output_type": "display_data",
          "data": {
            "image/png": "[encoded data removed]",
            "text/plain": [
              "<Figure size 720x360 with 1 Axes>"
            ]
          },
          "metadata": {
            "needs_background": "light"
          }
        }
      ]
    },
    {
      "cell_type": "markdown",
      "source": "Из распределения видим, что пик по количеству используемых за сессию мегабайт выпадает на значение между 250 и 500. Проверим это методом describe",
      "metadata": {}
    },
    {
      "cell_type": "code",
      "source": "data_internet.loc[data_internet['mb_used'] !=0, 'mb_used'].describe()",
      "metadata": {},
      "execution_count": 29,
      "outputs": [
        {
          "execution_count": 29,
          "output_type": "execute_result",
          "data": {
            "text/plain": [
              "count    129798.000000\n",
              "mean        426.087210\n",
              "std         255.596447\n",
              "min           0.030000\n",
              "25%         227.460000\n",
              "50%         400.540000\n",
              "75%         592.947500\n",
              "max        1724.830000\n",
              "Name: mb_used, dtype: float64"
            ]
          },
          "metadata": {}
        }
      ]
    },
    {
      "cell_type": "markdown",
      "source": "Видим, что среднее значение использованных мегабайт ~427, а медианное значение - 401 мегабайт.",
      "metadata": {}
    },
    {
      "cell_type": "markdown",
      "source": "### Таблица tariffs",
      "metadata": {}
    },
    {
      "cell_type": "markdown",
      "source": "#### Добавим в таблицу колонку с идентификаторами тарифов",
      "metadata": {}
    },
    {
      "cell_type": "code",
      "source": "data_tariffs['tariff'] = data_tariffs['tariff_name']",
      "metadata": {},
      "execution_count": 30,
      "outputs": []
    },
    {
      "cell_type": "code",
      "source": "data_tariffs['tariff'] = data_tariffs['tariff'].str.replace('smart','1')\ndata_tariffs['tariff'] = data_tariffs['tariff'].str.replace('ultra','2')",
      "metadata": {},
      "execution_count": 31,
      "outputs": []
    },
    {
      "cell_type": "markdown",
      "source": "#### Проанализируем таблицу tariffs",
      "metadata": {}
    },
    {
      "cell_type": "code",
      "source": "data_tariffs.head()",
      "metadata": {},
      "execution_count": 32,
      "outputs": [
        {
          "execution_count": 32,
          "output_type": "execute_result",
          "data": {
            "text/html": [
              "<div>\n",
              "<style scoped>\n",
              "    .dataframe tbody tr th:only-of-type {\n",
              "        vertical-align: middle;\n",
              "    }\n",
              "\n",
              "    .dataframe tbody tr th {\n",
              "        vertical-align: top;\n",
              "    }\n",
              "\n",
              "    .dataframe thead th {\n",
              "        text-align: right;\n",
              "    }\n",
              "</style>\n",
              "<table border=\"1\" class=\"dataframe\">\n",
              "  <thead>\n",
              "    <tr style=\"text-align: right;\">\n",
              "      <th></th>\n",
              "      <th>messages_included</th>\n",
              "      <th>mb_per_month_included</th>\n",
              "      <th>minutes_included</th>\n",
              "      <th>rub_monthly_fee</th>\n",
              "      <th>rub_per_gb</th>\n",
              "      <th>rub_per_message</th>\n",
              "      <th>rub_per_minute</th>\n",
              "      <th>tariff_name</th>\n",
              "      <th>tariff</th>\n",
              "    </tr>\n",
              "  </thead>\n",
              "  <tbody>\n",
              "    <tr>\n",
              "      <th>0</th>\n",
              "      <td>50</td>\n",
              "      <td>15360</td>\n",
              "      <td>500</td>\n",
              "      <td>550</td>\n",
              "      <td>200</td>\n",
              "      <td>3</td>\n",
              "      <td>3</td>\n",
              "      <td>smart</td>\n",
              "      <td>1</td>\n",
              "    </tr>\n",
              "    <tr>\n",
              "      <th>1</th>\n",
              "      <td>1000</td>\n",
              "      <td>30720</td>\n",
              "      <td>3000</td>\n",
              "      <td>1950</td>\n",
              "      <td>150</td>\n",
              "      <td>1</td>\n",
              "      <td>1</td>\n",
              "      <td>ultra</td>\n",
              "      <td>2</td>\n",
              "    </tr>\n",
              "  </tbody>\n",
              "</table>\n",
              "</div>"
            ],
            "text/plain": [
              "   messages_included  mb_per_month_included  minutes_included  \\\n",
              "0                 50                  15360               500   \n",
              "1               1000                  30720              3000   \n",
              "\n",
              "   rub_monthly_fee  rub_per_gb  rub_per_message  rub_per_minute tariff_name  \\\n",
              "0              550         200                3               3       smart   \n",
              "1             1950         150                1               1       ultra   \n",
              "\n",
              "  tariff  \n",
              "0      1  \n",
              "1      2  "
            ]
          },
          "metadata": {}
        }
      ]
    },
    {
      "cell_type": "markdown",
      "source": "Подсказка из треда в слаке сориентировала меня, что необходимо будет объединить все таблицы в одну и сделать это лучше по столбцу tariff, который необходимо предварительно создать путем переименования столбца tariff_name",
      "metadata": {}
    },
    {
      "cell_type": "code",
      "source": "",
      "metadata": {},
      "execution_count": null,
      "outputs": []
    },
    {
      "cell_type": "markdown",
      "source": "Вывод: добавили столбец tariff, по которому в дальнейшем будем объединять таблицы",
      "metadata": {}
    },
    {
      "cell_type": "markdown",
      "source": "### Предварительные расчеты ",
      "metadata": {}
    },
    {
      "cell_type": "markdown",
      "source": "#### Количество сделанных звонков и израсходованных минут разговора по месяцам",
      "metadata": {}
    },
    {
      "cell_type": "markdown",
      "source": "В соответствии с условием проекта в шаге 2 посчитаем количество сделанных звонков и минут разговора для каждого пользователя по месяцам",
      "metadata": {}
    },
    {
      "cell_type": "code",
      "source": "data_calls_month = data_calls.pivot_table(index = 'user_id', columns = 'calls_month', values = 'id', aggfunc = 'count')\ndisplay(data_calls_month)",
      "metadata": {},
      "execution_count": 33,
      "outputs": [
        {
          "output_type": "display_data",
          "data": {
            "text/html": [
              "<div>\n",
              "<style scoped>\n",
              "    .dataframe tbody tr th:only-of-type {\n",
              "        vertical-align: middle;\n",
              "    }\n",
              "\n",
              "    .dataframe tbody tr th {\n",
              "        vertical-align: top;\n",
              "    }\n",
              "\n",
              "    .dataframe thead th {\n",
              "        text-align: right;\n",
              "    }\n",
              "</style>\n",
              "<table border=\"1\" class=\"dataframe\">\n",
              "  <thead>\n",
              "    <tr style=\"text-align: right;\">\n",
              "      <th>calls_month</th>\n",
              "      <th>1</th>\n",
              "      <th>2</th>\n",
              "      <th>3</th>\n",
              "      <th>4</th>\n",
              "      <th>5</th>\n",
              "      <th>6</th>\n",
              "      <th>7</th>\n",
              "      <th>8</th>\n",
              "      <th>9</th>\n",
              "      <th>10</th>\n",
              "      <th>11</th>\n",
              "      <th>12</th>\n",
              "    </tr>\n",
              "    <tr>\n",
              "      <th>user_id</th>\n",
              "      <th></th>\n",
              "      <th></th>\n",
              "      <th></th>\n",
              "      <th></th>\n",
              "      <th></th>\n",
              "      <th></th>\n",
              "      <th></th>\n",
              "      <th></th>\n",
              "      <th></th>\n",
              "      <th></th>\n",
              "      <th></th>\n",
              "      <th></th>\n",
              "    </tr>\n",
              "  </thead>\n",
              "  <tbody>\n",
              "    <tr>\n",
              "      <th>1000</th>\n",
              "      <td>NaN</td>\n",
              "      <td>NaN</td>\n",
              "      <td>NaN</td>\n",
              "      <td>NaN</td>\n",
              "      <td>22.0</td>\n",
              "      <td>43.0</td>\n",
              "      <td>47.0</td>\n",
              "      <td>52.0</td>\n",
              "      <td>58.0</td>\n",
              "      <td>57.0</td>\n",
              "      <td>43.0</td>\n",
              "      <td>46.0</td>\n",
              "    </tr>\n",
              "    <tr>\n",
              "      <th>1001</th>\n",
              "      <td>NaN</td>\n",
              "      <td>NaN</td>\n",
              "      <td>NaN</td>\n",
              "      <td>NaN</td>\n",
              "      <td>NaN</td>\n",
              "      <td>NaN</td>\n",
              "      <td>NaN</td>\n",
              "      <td>NaN</td>\n",
              "      <td>NaN</td>\n",
              "      <td>NaN</td>\n",
              "      <td>59.0</td>\n",
              "      <td>63.0</td>\n",
              "    </tr>\n",
              "    <tr>\n",
              "      <th>1002</th>\n",
              "      <td>NaN</td>\n",
              "      <td>NaN</td>\n",
              "      <td>NaN</td>\n",
              "      <td>NaN</td>\n",
              "      <td>NaN</td>\n",
              "      <td>15.0</td>\n",
              "      <td>26.0</td>\n",
              "      <td>42.0</td>\n",
              "      <td>36.0</td>\n",
              "      <td>33.0</td>\n",
              "      <td>32.0</td>\n",
              "      <td>33.0</td>\n",
              "    </tr>\n",
              "    <tr>\n",
              "      <th>1003</th>\n",
              "      <td>NaN</td>\n",
              "      <td>NaN</td>\n",
              "      <td>NaN</td>\n",
              "      <td>NaN</td>\n",
              "      <td>NaN</td>\n",
              "      <td>NaN</td>\n",
              "      <td>NaN</td>\n",
              "      <td>55.0</td>\n",
              "      <td>134.0</td>\n",
              "      <td>108.0</td>\n",
              "      <td>115.0</td>\n",
              "      <td>108.0</td>\n",
              "    </tr>\n",
              "    <tr>\n",
              "      <th>1004</th>\n",
              "      <td>NaN</td>\n",
              "      <td>NaN</td>\n",
              "      <td>NaN</td>\n",
              "      <td>NaN</td>\n",
              "      <td>9.0</td>\n",
              "      <td>31.0</td>\n",
              "      <td>22.0</td>\n",
              "      <td>19.0</td>\n",
              "      <td>26.0</td>\n",
              "      <td>29.0</td>\n",
              "      <td>19.0</td>\n",
              "      <td>21.0</td>\n",
              "    </tr>\n",
              "    <tr>\n",
              "      <th>...</th>\n",
              "      <td>...</td>\n",
              "      <td>...</td>\n",
              "      <td>...</td>\n",
              "      <td>...</td>\n",
              "      <td>...</td>\n",
              "      <td>...</td>\n",
              "      <td>...</td>\n",
              "      <td>...</td>\n",
              "      <td>...</td>\n",
              "      <td>...</td>\n",
              "      <td>...</td>\n",
              "      <td>...</td>\n",
              "    </tr>\n",
              "    <tr>\n",
              "      <th>1495</th>\n",
              "      <td>NaN</td>\n",
              "      <td>NaN</td>\n",
              "      <td>NaN</td>\n",
              "      <td>NaN</td>\n",
              "      <td>NaN</td>\n",
              "      <td>NaN</td>\n",
              "      <td>NaN</td>\n",
              "      <td>17.0</td>\n",
              "      <td>112.0</td>\n",
              "      <td>152.0</td>\n",
              "      <td>129.0</td>\n",
              "      <td>155.0</td>\n",
              "    </tr>\n",
              "    <tr>\n",
              "      <th>1496</th>\n",
              "      <td>7.0</td>\n",
              "      <td>77.0</td>\n",
              "      <td>79.0</td>\n",
              "      <td>67.0</td>\n",
              "      <td>63.0</td>\n",
              "      <td>74.0</td>\n",
              "      <td>73.0</td>\n",
              "      <td>88.0</td>\n",
              "      <td>68.0</td>\n",
              "      <td>72.0</td>\n",
              "      <td>80.0</td>\n",
              "      <td>80.0</td>\n",
              "    </tr>\n",
              "    <tr>\n",
              "      <th>1497</th>\n",
              "      <td>NaN</td>\n",
              "      <td>NaN</td>\n",
              "      <td>NaN</td>\n",
              "      <td>NaN</td>\n",
              "      <td>NaN</td>\n",
              "      <td>NaN</td>\n",
              "      <td>NaN</td>\n",
              "      <td>NaN</td>\n",
              "      <td>NaN</td>\n",
              "      <td>66.0</td>\n",
              "      <td>64.0</td>\n",
              "      <td>71.0</td>\n",
              "    </tr>\n",
              "    <tr>\n",
              "      <th>1498</th>\n",
              "      <td>NaN</td>\n",
              "      <td>NaN</td>\n",
              "      <td>NaN</td>\n",
              "      <td>NaN</td>\n",
              "      <td>NaN</td>\n",
              "      <td>NaN</td>\n",
              "      <td>23.0</td>\n",
              "      <td>57.0</td>\n",
              "      <td>59.0</td>\n",
              "      <td>41.0</td>\n",
              "      <td>NaN</td>\n",
              "      <td>NaN</td>\n",
              "    </tr>\n",
              "    <tr>\n",
              "      <th>1499</th>\n",
              "      <td>NaN</td>\n",
              "      <td>NaN</td>\n",
              "      <td>NaN</td>\n",
              "      <td>NaN</td>\n",
              "      <td>NaN</td>\n",
              "      <td>NaN</td>\n",
              "      <td>NaN</td>\n",
              "      <td>NaN</td>\n",
              "      <td>9.0</td>\n",
              "      <td>68.0</td>\n",
              "      <td>74.0</td>\n",
              "      <td>69.0</td>\n",
              "    </tr>\n",
              "  </tbody>\n",
              "</table>\n",
              "<p>492 rows × 12 columns</p>\n",
              "</div>"
            ],
            "text/plain": [
              "calls_month   1     2     3     4     5     6     7     8      9      10  \\\n",
              "user_id                                                                    \n",
              "1000         NaN   NaN   NaN   NaN  22.0  43.0  47.0  52.0   58.0   57.0   \n",
              "1001         NaN   NaN   NaN   NaN   NaN   NaN   NaN   NaN    NaN    NaN   \n",
              "1002         NaN   NaN   NaN   NaN   NaN  15.0  26.0  42.0   36.0   33.0   \n",
              "1003         NaN   NaN   NaN   NaN   NaN   NaN   NaN  55.0  134.0  108.0   \n",
              "1004         NaN   NaN   NaN   NaN   9.0  31.0  22.0  19.0   26.0   29.0   \n",
              "...          ...   ...   ...   ...   ...   ...   ...   ...    ...    ...   \n",
              "1495         NaN   NaN   NaN   NaN   NaN   NaN   NaN  17.0  112.0  152.0   \n",
              "1496         7.0  77.0  79.0  67.0  63.0  74.0  73.0  88.0   68.0   72.0   \n",
              "1497         NaN   NaN   NaN   NaN   NaN   NaN   NaN   NaN    NaN   66.0   \n",
              "1498         NaN   NaN   NaN   NaN   NaN   NaN  23.0  57.0   59.0   41.0   \n",
              "1499         NaN   NaN   NaN   NaN   NaN   NaN   NaN   NaN    9.0   68.0   \n",
              "\n",
              "calls_month     11     12  \n",
              "user_id                    \n",
              "1000          43.0   46.0  \n",
              "1001          59.0   63.0  \n",
              "1002          32.0   33.0  \n",
              "1003         115.0  108.0  \n",
              "1004          19.0   21.0  \n",
              "...            ...    ...  \n",
              "1495         129.0  155.0  \n",
              "1496          80.0   80.0  \n",
              "1497          64.0   71.0  \n",
              "1498           NaN    NaN  \n",
              "1499          74.0   69.0  \n",
              "\n",
              "[492 rows x 12 columns]"
            ]
          },
          "metadata": {}
        }
      ]
    },
    {
      "cell_type": "markdown",
      "source": "Таким образом, мы построили таблицу, в которой у нас содержатся данные о количестве звонков каждого пользователя в течение каждого месяца",
      "metadata": {}
    },
    {
      "cell_type": "markdown",
      "source": "Сделаем то же самое, только теперь выведем кол-во минут разговора по месяцам для каждого пользователя",
      "metadata": {}
    },
    {
      "cell_type": "code",
      "source": "data_minutes_month = data_calls.pivot_table(index = 'user_id', columns = 'calls_month', values = 'duration', aggfunc = 'sum')\ndisplay(data_minutes_month)",
      "metadata": {},
      "execution_count": 34,
      "outputs": [
        {
          "output_type": "display_data",
          "data": {
            "text/html": [
              "<div>\n",
              "<style scoped>\n",
              "    .dataframe tbody tr th:only-of-type {\n",
              "        vertical-align: middle;\n",
              "    }\n",
              "\n",
              "    .dataframe tbody tr th {\n",
              "        vertical-align: top;\n",
              "    }\n",
              "\n",
              "    .dataframe thead th {\n",
              "        text-align: right;\n",
              "    }\n",
              "</style>\n",
              "<table border=\"1\" class=\"dataframe\">\n",
              "  <thead>\n",
              "    <tr style=\"text-align: right;\">\n",
              "      <th>calls_month</th>\n",
              "      <th>1</th>\n",
              "      <th>2</th>\n",
              "      <th>3</th>\n",
              "      <th>4</th>\n",
              "      <th>5</th>\n",
              "      <th>6</th>\n",
              "      <th>7</th>\n",
              "      <th>8</th>\n",
              "      <th>9</th>\n",
              "      <th>10</th>\n",
              "      <th>11</th>\n",
              "      <th>12</th>\n",
              "    </tr>\n",
              "    <tr>\n",
              "      <th>user_id</th>\n",
              "      <th></th>\n",
              "      <th></th>\n",
              "      <th></th>\n",
              "      <th></th>\n",
              "      <th></th>\n",
              "      <th></th>\n",
              "      <th></th>\n",
              "      <th></th>\n",
              "      <th></th>\n",
              "      <th></th>\n",
              "      <th></th>\n",
              "      <th></th>\n",
              "    </tr>\n",
              "  </thead>\n",
              "  <tbody>\n",
              "    <tr>\n",
              "      <th>1000</th>\n",
              "      <td>NaN</td>\n",
              "      <td>NaN</td>\n",
              "      <td>NaN</td>\n",
              "      <td>NaN</td>\n",
              "      <td>159.0</td>\n",
              "      <td>172.0</td>\n",
              "      <td>340.0</td>\n",
              "      <td>408.0</td>\n",
              "      <td>466.0</td>\n",
              "      <td>350.0</td>\n",
              "      <td>338.0</td>\n",
              "      <td>333.0</td>\n",
              "    </tr>\n",
              "    <tr>\n",
              "      <th>1001</th>\n",
              "      <td>NaN</td>\n",
              "      <td>NaN</td>\n",
              "      <td>NaN</td>\n",
              "      <td>NaN</td>\n",
              "      <td>NaN</td>\n",
              "      <td>NaN</td>\n",
              "      <td>NaN</td>\n",
              "      <td>NaN</td>\n",
              "      <td>NaN</td>\n",
              "      <td>NaN</td>\n",
              "      <td>430.0</td>\n",
              "      <td>414.0</td>\n",
              "    </tr>\n",
              "    <tr>\n",
              "      <th>1002</th>\n",
              "      <td>NaN</td>\n",
              "      <td>NaN</td>\n",
              "      <td>NaN</td>\n",
              "      <td>NaN</td>\n",
              "      <td>NaN</td>\n",
              "      <td>117.0</td>\n",
              "      <td>214.0</td>\n",
              "      <td>289.0</td>\n",
              "      <td>206.0</td>\n",
              "      <td>212.0</td>\n",
              "      <td>243.0</td>\n",
              "      <td>236.0</td>\n",
              "    </tr>\n",
              "    <tr>\n",
              "      <th>1003</th>\n",
              "      <td>NaN</td>\n",
              "      <td>NaN</td>\n",
              "      <td>NaN</td>\n",
              "      <td>NaN</td>\n",
              "      <td>NaN</td>\n",
              "      <td>NaN</td>\n",
              "      <td>NaN</td>\n",
              "      <td>380.0</td>\n",
              "      <td>961.0</td>\n",
              "      <td>855.0</td>\n",
              "      <td>824.0</td>\n",
              "      <td>802.0</td>\n",
              "    </tr>\n",
              "    <tr>\n",
              "      <th>1004</th>\n",
              "      <td>NaN</td>\n",
              "      <td>NaN</td>\n",
              "      <td>NaN</td>\n",
              "      <td>NaN</td>\n",
              "      <td>35.0</td>\n",
              "      <td>171.0</td>\n",
              "      <td>135.0</td>\n",
              "      <td>137.0</td>\n",
              "      <td>117.0</td>\n",
              "      <td>145.0</td>\n",
              "      <td>117.0</td>\n",
              "      <td>130.0</td>\n",
              "    </tr>\n",
              "    <tr>\n",
              "      <th>...</th>\n",
              "      <td>...</td>\n",
              "      <td>...</td>\n",
              "      <td>...</td>\n",
              "      <td>...</td>\n",
              "      <td>...</td>\n",
              "      <td>...</td>\n",
              "      <td>...</td>\n",
              "      <td>...</td>\n",
              "      <td>...</td>\n",
              "      <td>...</td>\n",
              "      <td>...</td>\n",
              "      <td>...</td>\n",
              "    </tr>\n",
              "    <tr>\n",
              "      <th>1495</th>\n",
              "      <td>NaN</td>\n",
              "      <td>NaN</td>\n",
              "      <td>NaN</td>\n",
              "      <td>NaN</td>\n",
              "      <td>NaN</td>\n",
              "      <td>NaN</td>\n",
              "      <td>NaN</td>\n",
              "      <td>92.0</td>\n",
              "      <td>813.0</td>\n",
              "      <td>1030.0</td>\n",
              "      <td>954.0</td>\n",
              "      <td>1031.0</td>\n",
              "    </tr>\n",
              "    <tr>\n",
              "      <th>1496</th>\n",
              "      <td>48.0</td>\n",
              "      <td>594.0</td>\n",
              "      <td>557.0</td>\n",
              "      <td>521.0</td>\n",
              "      <td>484.0</td>\n",
              "      <td>555.0</td>\n",
              "      <td>582.0</td>\n",
              "      <td>527.0</td>\n",
              "      <td>486.0</td>\n",
              "      <td>450.0</td>\n",
              "      <td>662.0</td>\n",
              "      <td>518.0</td>\n",
              "    </tr>\n",
              "    <tr>\n",
              "      <th>1497</th>\n",
              "      <td>NaN</td>\n",
              "      <td>NaN</td>\n",
              "      <td>NaN</td>\n",
              "      <td>NaN</td>\n",
              "      <td>NaN</td>\n",
              "      <td>NaN</td>\n",
              "      <td>NaN</td>\n",
              "      <td>NaN</td>\n",
              "      <td>NaN</td>\n",
              "      <td>490.0</td>\n",
              "      <td>371.0</td>\n",
              "      <td>545.0</td>\n",
              "    </tr>\n",
              "    <tr>\n",
              "      <th>1498</th>\n",
              "      <td>NaN</td>\n",
              "      <td>NaN</td>\n",
              "      <td>NaN</td>\n",
              "      <td>NaN</td>\n",
              "      <td>NaN</td>\n",
              "      <td>NaN</td>\n",
              "      <td>175.0</td>\n",
              "      <td>400.0</td>\n",
              "      <td>471.0</td>\n",
              "      <td>247.0</td>\n",
              "      <td>NaN</td>\n",
              "      <td>NaN</td>\n",
              "    </tr>\n",
              "    <tr>\n",
              "      <th>1499</th>\n",
              "      <td>NaN</td>\n",
              "      <td>NaN</td>\n",
              "      <td>NaN</td>\n",
              "      <td>NaN</td>\n",
              "      <td>NaN</td>\n",
              "      <td>NaN</td>\n",
              "      <td>NaN</td>\n",
              "      <td>NaN</td>\n",
              "      <td>70.0</td>\n",
              "      <td>449.0</td>\n",
              "      <td>612.0</td>\n",
              "      <td>492.0</td>\n",
              "    </tr>\n",
              "  </tbody>\n",
              "</table>\n",
              "<p>492 rows × 12 columns</p>\n",
              "</div>"
            ],
            "text/plain": [
              "calls_month    1      2      3      4      5      6      7      8      9   \\\n",
              "user_id                                                                     \n",
              "1000          NaN    NaN    NaN    NaN  159.0  172.0  340.0  408.0  466.0   \n",
              "1001          NaN    NaN    NaN    NaN    NaN    NaN    NaN    NaN    NaN   \n",
              "1002          NaN    NaN    NaN    NaN    NaN  117.0  214.0  289.0  206.0   \n",
              "1003          NaN    NaN    NaN    NaN    NaN    NaN    NaN  380.0  961.0   \n",
              "1004          NaN    NaN    NaN    NaN   35.0  171.0  135.0  137.0  117.0   \n",
              "...           ...    ...    ...    ...    ...    ...    ...    ...    ...   \n",
              "1495          NaN    NaN    NaN    NaN    NaN    NaN    NaN   92.0  813.0   \n",
              "1496         48.0  594.0  557.0  521.0  484.0  555.0  582.0  527.0  486.0   \n",
              "1497          NaN    NaN    NaN    NaN    NaN    NaN    NaN    NaN    NaN   \n",
              "1498          NaN    NaN    NaN    NaN    NaN    NaN  175.0  400.0  471.0   \n",
              "1499          NaN    NaN    NaN    NaN    NaN    NaN    NaN    NaN   70.0   \n",
              "\n",
              "calls_month      10     11      12  \n",
              "user_id                             \n",
              "1000          350.0  338.0   333.0  \n",
              "1001            NaN  430.0   414.0  \n",
              "1002          212.0  243.0   236.0  \n",
              "1003          855.0  824.0   802.0  \n",
              "1004          145.0  117.0   130.0  \n",
              "...             ...    ...     ...  \n",
              "1495         1030.0  954.0  1031.0  \n",
              "1496          450.0  662.0   518.0  \n",
              "1497          490.0  371.0   545.0  \n",
              "1498          247.0    NaN     NaN  \n",
              "1499          449.0  612.0   492.0  \n",
              "\n",
              "[492 rows x 12 columns]"
            ]
          },
          "metadata": {}
        }
      ]
    },
    {
      "cell_type": "markdown",
      "source": "#### Количество отправленных сообщений по месяцам",
      "metadata": {}
    },
    {
      "cell_type": "markdown",
      "source": "Посчитаем по тому же принципу количество отправленных сообщений по каждому пользователю",
      "metadata": {}
    },
    {
      "cell_type": "code",
      "source": "data_messages_month = data_messages.pivot_table(index = 'user_id', columns = 'messages_month', values = 'id', aggfunc = 'count')\ndisplay(data_messages_month)",
      "metadata": {},
      "execution_count": 35,
      "outputs": [
        {
          "output_type": "display_data",
          "data": {
            "text/html": [
              "<div>\n",
              "<style scoped>\n",
              "    .dataframe tbody tr th:only-of-type {\n",
              "        vertical-align: middle;\n",
              "    }\n",
              "\n",
              "    .dataframe tbody tr th {\n",
              "        vertical-align: top;\n",
              "    }\n",
              "\n",
              "    .dataframe thead th {\n",
              "        text-align: right;\n",
              "    }\n",
              "</style>\n",
              "<table border=\"1\" class=\"dataframe\">\n",
              "  <thead>\n",
              "    <tr style=\"text-align: right;\">\n",
              "      <th>messages_month</th>\n",
              "      <th>1</th>\n",
              "      <th>2</th>\n",
              "      <th>3</th>\n",
              "      <th>4</th>\n",
              "      <th>5</th>\n",
              "      <th>6</th>\n",
              "      <th>7</th>\n",
              "      <th>8</th>\n",
              "      <th>9</th>\n",
              "      <th>10</th>\n",
              "      <th>11</th>\n",
              "      <th>12</th>\n",
              "    </tr>\n",
              "    <tr>\n",
              "      <th>user_id</th>\n",
              "      <th></th>\n",
              "      <th></th>\n",
              "      <th></th>\n",
              "      <th></th>\n",
              "      <th></th>\n",
              "      <th></th>\n",
              "      <th></th>\n",
              "      <th></th>\n",
              "      <th></th>\n",
              "      <th></th>\n",
              "      <th></th>\n",
              "      <th></th>\n",
              "    </tr>\n",
              "  </thead>\n",
              "  <tbody>\n",
              "    <tr>\n",
              "      <th>1000</th>\n",
              "      <td>NaN</td>\n",
              "      <td>NaN</td>\n",
              "      <td>NaN</td>\n",
              "      <td>NaN</td>\n",
              "      <td>22.0</td>\n",
              "      <td>60.0</td>\n",
              "      <td>75.0</td>\n",
              "      <td>81.0</td>\n",
              "      <td>57.0</td>\n",
              "      <td>73.0</td>\n",
              "      <td>58.0</td>\n",
              "      <td>70.0</td>\n",
              "    </tr>\n",
              "    <tr>\n",
              "      <th>1002</th>\n",
              "      <td>NaN</td>\n",
              "      <td>NaN</td>\n",
              "      <td>NaN</td>\n",
              "      <td>NaN</td>\n",
              "      <td>NaN</td>\n",
              "      <td>4.0</td>\n",
              "      <td>11.0</td>\n",
              "      <td>13.0</td>\n",
              "      <td>4.0</td>\n",
              "      <td>10.0</td>\n",
              "      <td>16.0</td>\n",
              "      <td>12.0</td>\n",
              "    </tr>\n",
              "    <tr>\n",
              "      <th>1003</th>\n",
              "      <td>NaN</td>\n",
              "      <td>NaN</td>\n",
              "      <td>NaN</td>\n",
              "      <td>NaN</td>\n",
              "      <td>NaN</td>\n",
              "      <td>NaN</td>\n",
              "      <td>NaN</td>\n",
              "      <td>37.0</td>\n",
              "      <td>91.0</td>\n",
              "      <td>83.0</td>\n",
              "      <td>94.0</td>\n",
              "      <td>75.0</td>\n",
              "    </tr>\n",
              "    <tr>\n",
              "      <th>1004</th>\n",
              "      <td>NaN</td>\n",
              "      <td>NaN</td>\n",
              "      <td>NaN</td>\n",
              "      <td>NaN</td>\n",
              "      <td>95.0</td>\n",
              "      <td>134.0</td>\n",
              "      <td>181.0</td>\n",
              "      <td>151.0</td>\n",
              "      <td>146.0</td>\n",
              "      <td>165.0</td>\n",
              "      <td>158.0</td>\n",
              "      <td>162.0</td>\n",
              "    </tr>\n",
              "    <tr>\n",
              "      <th>1005</th>\n",
              "      <td>7.0</td>\n",
              "      <td>38.0</td>\n",
              "      <td>56.0</td>\n",
              "      <td>41.0</td>\n",
              "      <td>42.0</td>\n",
              "      <td>47.0</td>\n",
              "      <td>56.0</td>\n",
              "      <td>64.0</td>\n",
              "      <td>52.0</td>\n",
              "      <td>44.0</td>\n",
              "      <td>51.0</td>\n",
              "      <td>54.0</td>\n",
              "    </tr>\n",
              "    <tr>\n",
              "      <th>...</th>\n",
              "      <td>...</td>\n",
              "      <td>...</td>\n",
              "      <td>...</td>\n",
              "      <td>...</td>\n",
              "      <td>...</td>\n",
              "      <td>...</td>\n",
              "      <td>...</td>\n",
              "      <td>...</td>\n",
              "      <td>...</td>\n",
              "      <td>...</td>\n",
              "      <td>...</td>\n",
              "      <td>...</td>\n",
              "    </tr>\n",
              "    <tr>\n",
              "      <th>1495</th>\n",
              "      <td>NaN</td>\n",
              "      <td>NaN</td>\n",
              "      <td>NaN</td>\n",
              "      <td>NaN</td>\n",
              "      <td>NaN</td>\n",
              "      <td>NaN</td>\n",
              "      <td>NaN</td>\n",
              "      <td>13.0</td>\n",
              "      <td>82.0</td>\n",
              "      <td>82.0</td>\n",
              "      <td>79.0</td>\n",
              "      <td>84.0</td>\n",
              "    </tr>\n",
              "    <tr>\n",
              "      <th>1496</th>\n",
              "      <td>9.0</td>\n",
              "      <td>45.0</td>\n",
              "      <td>46.0</td>\n",
              "      <td>49.0</td>\n",
              "      <td>40.0</td>\n",
              "      <td>35.0</td>\n",
              "      <td>42.0</td>\n",
              "      <td>41.0</td>\n",
              "      <td>29.0</td>\n",
              "      <td>35.0</td>\n",
              "      <td>46.0</td>\n",
              "      <td>51.0</td>\n",
              "    </tr>\n",
              "    <tr>\n",
              "      <th>1497</th>\n",
              "      <td>NaN</td>\n",
              "      <td>NaN</td>\n",
              "      <td>NaN</td>\n",
              "      <td>NaN</td>\n",
              "      <td>NaN</td>\n",
              "      <td>NaN</td>\n",
              "      <td>NaN</td>\n",
              "      <td>NaN</td>\n",
              "      <td>NaN</td>\n",
              "      <td>20.0</td>\n",
              "      <td>14.0</td>\n",
              "      <td>17.0</td>\n",
              "    </tr>\n",
              "    <tr>\n",
              "      <th>1498</th>\n",
              "      <td>NaN</td>\n",
              "      <td>NaN</td>\n",
              "      <td>NaN</td>\n",
              "      <td>NaN</td>\n",
              "      <td>NaN</td>\n",
              "      <td>NaN</td>\n",
              "      <td>20.0</td>\n",
              "      <td>62.0</td>\n",
              "      <td>44.0</td>\n",
              "      <td>42.0</td>\n",
              "      <td>NaN</td>\n",
              "      <td>NaN</td>\n",
              "    </tr>\n",
              "    <tr>\n",
              "      <th>1499</th>\n",
              "      <td>NaN</td>\n",
              "      <td>NaN</td>\n",
              "      <td>NaN</td>\n",
              "      <td>NaN</td>\n",
              "      <td>NaN</td>\n",
              "      <td>NaN</td>\n",
              "      <td>NaN</td>\n",
              "      <td>NaN</td>\n",
              "      <td>11.0</td>\n",
              "      <td>48.0</td>\n",
              "      <td>59.0</td>\n",
              "      <td>66.0</td>\n",
              "    </tr>\n",
              "  </tbody>\n",
              "</table>\n",
              "<p>426 rows × 12 columns</p>\n",
              "</div>"
            ],
            "text/plain": [
              "messages_month   1     2     3     4     5      6      7      8      9   \\\n",
              "user_id                                                                   \n",
              "1000            NaN   NaN   NaN   NaN  22.0   60.0   75.0   81.0   57.0   \n",
              "1002            NaN   NaN   NaN   NaN   NaN    4.0   11.0   13.0    4.0   \n",
              "1003            NaN   NaN   NaN   NaN   NaN    NaN    NaN   37.0   91.0   \n",
              "1004            NaN   NaN   NaN   NaN  95.0  134.0  181.0  151.0  146.0   \n",
              "1005            7.0  38.0  56.0  41.0  42.0   47.0   56.0   64.0   52.0   \n",
              "...             ...   ...   ...   ...   ...    ...    ...    ...    ...   \n",
              "1495            NaN   NaN   NaN   NaN   NaN    NaN    NaN   13.0   82.0   \n",
              "1496            9.0  45.0  46.0  49.0  40.0   35.0   42.0   41.0   29.0   \n",
              "1497            NaN   NaN   NaN   NaN   NaN    NaN    NaN    NaN    NaN   \n",
              "1498            NaN   NaN   NaN   NaN   NaN    NaN   20.0   62.0   44.0   \n",
              "1499            NaN   NaN   NaN   NaN   NaN    NaN    NaN    NaN   11.0   \n",
              "\n",
              "messages_month     10     11     12  \n",
              "user_id                              \n",
              "1000             73.0   58.0   70.0  \n",
              "1002             10.0   16.0   12.0  \n",
              "1003             83.0   94.0   75.0  \n",
              "1004            165.0  158.0  162.0  \n",
              "1005             44.0   51.0   54.0  \n",
              "...               ...    ...    ...  \n",
              "1495             82.0   79.0   84.0  \n",
              "1496             35.0   46.0   51.0  \n",
              "1497             20.0   14.0   17.0  \n",
              "1498             42.0    NaN    NaN  \n",
              "1499             48.0   59.0   66.0  \n",
              "\n",
              "[426 rows x 12 columns]"
            ]
          },
          "metadata": {}
        }
      ]
    },
    {
      "cell_type": "markdown",
      "source": "#### Объем израсходованного интернет-трафика по месяцам",
      "metadata": {}
    },
    {
      "cell_type": "markdown",
      "source": "И точно так же посчитаем объем израсходованного интернет-трафика по месяцам для каждого пользователя",
      "metadata": {}
    },
    {
      "cell_type": "code",
      "source": "data_traffic_month_mb = data_internet.pivot_table(index = 'user_id', \n                                                  columns = 'internet_month', \n                                                  values = 'mb_used', \n                                                  aggfunc = 'sum')\ndisplay(data_traffic_month_mb)",
      "metadata": {},
      "execution_count": 36,
      "outputs": [
        {
          "output_type": "display_data",
          "data": {
            "text/html": [
              "<div>\n",
              "<style scoped>\n",
              "    .dataframe tbody tr th:only-of-type {\n",
              "        vertical-align: middle;\n",
              "    }\n",
              "\n",
              "    .dataframe tbody tr th {\n",
              "        vertical-align: top;\n",
              "    }\n",
              "\n",
              "    .dataframe thead th {\n",
              "        text-align: right;\n",
              "    }\n",
              "</style>\n",
              "<table border=\"1\" class=\"dataframe\">\n",
              "  <thead>\n",
              "    <tr style=\"text-align: right;\">\n",
              "      <th>internet_month</th>\n",
              "      <th>1</th>\n",
              "      <th>2</th>\n",
              "      <th>3</th>\n",
              "      <th>4</th>\n",
              "      <th>5</th>\n",
              "      <th>6</th>\n",
              "      <th>7</th>\n",
              "      <th>8</th>\n",
              "      <th>9</th>\n",
              "      <th>10</th>\n",
              "      <th>11</th>\n",
              "      <th>12</th>\n",
              "    </tr>\n",
              "    <tr>\n",
              "      <th>user_id</th>\n",
              "      <th></th>\n",
              "      <th></th>\n",
              "      <th></th>\n",
              "      <th></th>\n",
              "      <th></th>\n",
              "      <th></th>\n",
              "      <th></th>\n",
              "      <th></th>\n",
              "      <th></th>\n",
              "      <th></th>\n",
              "      <th></th>\n",
              "      <th></th>\n",
              "    </tr>\n",
              "  </thead>\n",
              "  <tbody>\n",
              "    <tr>\n",
              "      <th>1000</th>\n",
              "      <td>NaN</td>\n",
              "      <td>NaN</td>\n",
              "      <td>NaN</td>\n",
              "      <td>NaN</td>\n",
              "      <td>2253.49</td>\n",
              "      <td>23233.77</td>\n",
              "      <td>14003.64</td>\n",
              "      <td>14055.93</td>\n",
              "      <td>14568.91</td>\n",
              "      <td>14702.49</td>\n",
              "      <td>14756.47</td>\n",
              "      <td>9817.61</td>\n",
              "    </tr>\n",
              "    <tr>\n",
              "      <th>1001</th>\n",
              "      <td>NaN</td>\n",
              "      <td>NaN</td>\n",
              "      <td>NaN</td>\n",
              "      <td>NaN</td>\n",
              "      <td>NaN</td>\n",
              "      <td>NaN</td>\n",
              "      <td>NaN</td>\n",
              "      <td>NaN</td>\n",
              "      <td>NaN</td>\n",
              "      <td>NaN</td>\n",
              "      <td>18429.34</td>\n",
              "      <td>14036.66</td>\n",
              "    </tr>\n",
              "    <tr>\n",
              "      <th>1002</th>\n",
              "      <td>NaN</td>\n",
              "      <td>NaN</td>\n",
              "      <td>NaN</td>\n",
              "      <td>NaN</td>\n",
              "      <td>NaN</td>\n",
              "      <td>10856.82</td>\n",
              "      <td>17580.10</td>\n",
              "      <td>20319.26</td>\n",
              "      <td>16691.08</td>\n",
              "      <td>13888.25</td>\n",
              "      <td>18587.28</td>\n",
              "      <td>18113.73</td>\n",
              "    </tr>\n",
              "    <tr>\n",
              "      <th>1003</th>\n",
              "      <td>NaN</td>\n",
              "      <td>NaN</td>\n",
              "      <td>NaN</td>\n",
              "      <td>NaN</td>\n",
              "      <td>NaN</td>\n",
              "      <td>NaN</td>\n",
              "      <td>NaN</td>\n",
              "      <td>8565.21</td>\n",
              "      <td>12468.87</td>\n",
              "      <td>14768.14</td>\n",
              "      <td>11356.89</td>\n",
              "      <td>10121.53</td>\n",
              "    </tr>\n",
              "    <tr>\n",
              "      <th>1004</th>\n",
              "      <td>NaN</td>\n",
              "      <td>NaN</td>\n",
              "      <td>NaN</td>\n",
              "      <td>NaN</td>\n",
              "      <td>13403.98</td>\n",
              "      <td>17600.02</td>\n",
              "      <td>22229.58</td>\n",
              "      <td>28584.37</td>\n",
              "      <td>15109.03</td>\n",
              "      <td>18475.44</td>\n",
              "      <td>15616.02</td>\n",
              "      <td>18021.04</td>\n",
              "    </tr>\n",
              "    <tr>\n",
              "      <th>...</th>\n",
              "      <td>...</td>\n",
              "      <td>...</td>\n",
              "      <td>...</td>\n",
              "      <td>...</td>\n",
              "      <td>...</td>\n",
              "      <td>...</td>\n",
              "      <td>...</td>\n",
              "      <td>...</td>\n",
              "      <td>...</td>\n",
              "      <td>...</td>\n",
              "      <td>...</td>\n",
              "      <td>...</td>\n",
              "    </tr>\n",
              "    <tr>\n",
              "      <th>1495</th>\n",
              "      <td>NaN</td>\n",
              "      <td>NaN</td>\n",
              "      <td>NaN</td>\n",
              "      <td>NaN</td>\n",
              "      <td>NaN</td>\n",
              "      <td>NaN</td>\n",
              "      <td>NaN</td>\n",
              "      <td>2614.07</td>\n",
              "      <td>33067.62</td>\n",
              "      <td>29363.00</td>\n",
              "      <td>38939.11</td>\n",
              "      <td>23426.76</td>\n",
              "    </tr>\n",
              "    <tr>\n",
              "      <th>1496</th>\n",
              "      <td>3762.73</td>\n",
              "      <td>28489.67</td>\n",
              "      <td>24959.0</td>\n",
              "      <td>21074.67</td>\n",
              "      <td>23709.75</td>\n",
              "      <td>20134.31</td>\n",
              "      <td>24364.76</td>\n",
              "      <td>23530.03</td>\n",
              "      <td>26934.65</td>\n",
              "      <td>28183.17</td>\n",
              "      <td>25063.40</td>\n",
              "      <td>20736.15</td>\n",
              "    </tr>\n",
              "    <tr>\n",
              "      <th>1497</th>\n",
              "      <td>NaN</td>\n",
              "      <td>NaN</td>\n",
              "      <td>NaN</td>\n",
              "      <td>NaN</td>\n",
              "      <td>NaN</td>\n",
              "      <td>NaN</td>\n",
              "      <td>NaN</td>\n",
              "      <td>NaN</td>\n",
              "      <td>NaN</td>\n",
              "      <td>11500.29</td>\n",
              "      <td>14156.08</td>\n",
              "      <td>19918.60</td>\n",
              "    </tr>\n",
              "    <tr>\n",
              "      <th>1498</th>\n",
              "      <td>NaN</td>\n",
              "      <td>NaN</td>\n",
              "      <td>NaN</td>\n",
              "      <td>NaN</td>\n",
              "      <td>NaN</td>\n",
              "      <td>NaN</td>\n",
              "      <td>7476.24</td>\n",
              "      <td>24235.21</td>\n",
              "      <td>22134.41</td>\n",
              "      <td>20579.36</td>\n",
              "      <td>NaN</td>\n",
              "      <td>NaN</td>\n",
              "    </tr>\n",
              "    <tr>\n",
              "      <th>1499</th>\n",
              "      <td>NaN</td>\n",
              "      <td>NaN</td>\n",
              "      <td>NaN</td>\n",
              "      <td>NaN</td>\n",
              "      <td>NaN</td>\n",
              "      <td>NaN</td>\n",
              "      <td>NaN</td>\n",
              "      <td>NaN</td>\n",
              "      <td>1845.75</td>\n",
              "      <td>17788.51</td>\n",
              "      <td>17963.31</td>\n",
              "      <td>13055.58</td>\n",
              "    </tr>\n",
              "  </tbody>\n",
              "</table>\n",
              "<p>497 rows × 12 columns</p>\n",
              "</div>"
            ],
            "text/plain": [
              "internet_month       1         2        3         4         5         6   \\\n",
              "user_id                                                                    \n",
              "1000                NaN       NaN      NaN       NaN   2253.49  23233.77   \n",
              "1001                NaN       NaN      NaN       NaN       NaN       NaN   \n",
              "1002                NaN       NaN      NaN       NaN       NaN  10856.82   \n",
              "1003                NaN       NaN      NaN       NaN       NaN       NaN   \n",
              "1004                NaN       NaN      NaN       NaN  13403.98  17600.02   \n",
              "...                 ...       ...      ...       ...       ...       ...   \n",
              "1495                NaN       NaN      NaN       NaN       NaN       NaN   \n",
              "1496            3762.73  28489.67  24959.0  21074.67  23709.75  20134.31   \n",
              "1497                NaN       NaN      NaN       NaN       NaN       NaN   \n",
              "1498                NaN       NaN      NaN       NaN       NaN       NaN   \n",
              "1499                NaN       NaN      NaN       NaN       NaN       NaN   \n",
              "\n",
              "internet_month        7         8         9         10        11        12  \n",
              "user_id                                                                     \n",
              "1000            14003.64  14055.93  14568.91  14702.49  14756.47   9817.61  \n",
              "1001                 NaN       NaN       NaN       NaN  18429.34  14036.66  \n",
              "1002            17580.10  20319.26  16691.08  13888.25  18587.28  18113.73  \n",
              "1003                 NaN   8565.21  12468.87  14768.14  11356.89  10121.53  \n",
              "1004            22229.58  28584.37  15109.03  18475.44  15616.02  18021.04  \n",
              "...                  ...       ...       ...       ...       ...       ...  \n",
              "1495                 NaN   2614.07  33067.62  29363.00  38939.11  23426.76  \n",
              "1496            24364.76  23530.03  26934.65  28183.17  25063.40  20736.15  \n",
              "1497                 NaN       NaN       NaN  11500.29  14156.08  19918.60  \n",
              "1498             7476.24  24235.21  22134.41  20579.36       NaN       NaN  \n",
              "1499                 NaN       NaN   1845.75  17788.51  17963.31  13055.58  \n",
              "\n",
              "[497 rows x 12 columns]"
            ]
          },
          "metadata": {}
        }
      ]
    },
    {
      "cell_type": "markdown",
      "source": "Теперь переведем мегабайты в гигабайты",
      "metadata": {}
    },
    {
      "cell_type": "code",
      "source": "data_traffic_month_gb = np.ceil(data_traffic_month_mb / 1024)\ndata_traffic_month_gb",
      "metadata": {},
      "execution_count": 37,
      "outputs": [
        {
          "execution_count": 37,
          "output_type": "execute_result",
          "data": {
            "text/html": [
              "<div>\n",
              "<style scoped>\n",
              "    .dataframe tbody tr th:only-of-type {\n",
              "        vertical-align: middle;\n",
              "    }\n",
              "\n",
              "    .dataframe tbody tr th {\n",
              "        vertical-align: top;\n",
              "    }\n",
              "\n",
              "    .dataframe thead th {\n",
              "        text-align: right;\n",
              "    }\n",
              "</style>\n",
              "<table border=\"1\" class=\"dataframe\">\n",
              "  <thead>\n",
              "    <tr style=\"text-align: right;\">\n",
              "      <th>internet_month</th>\n",
              "      <th>1</th>\n",
              "      <th>2</th>\n",
              "      <th>3</th>\n",
              "      <th>4</th>\n",
              "      <th>5</th>\n",
              "      <th>6</th>\n",
              "      <th>7</th>\n",
              "      <th>8</th>\n",
              "      <th>9</th>\n",
              "      <th>10</th>\n",
              "      <th>11</th>\n",
              "      <th>12</th>\n",
              "    </tr>\n",
              "    <tr>\n",
              "      <th>user_id</th>\n",
              "      <th></th>\n",
              "      <th></th>\n",
              "      <th></th>\n",
              "      <th></th>\n",
              "      <th></th>\n",
              "      <th></th>\n",
              "      <th></th>\n",
              "      <th></th>\n",
              "      <th></th>\n",
              "      <th></th>\n",
              "      <th></th>\n",
              "      <th></th>\n",
              "    </tr>\n",
              "  </thead>\n",
              "  <tbody>\n",
              "    <tr>\n",
              "      <th>1000</th>\n",
              "      <td>NaN</td>\n",
              "      <td>NaN</td>\n",
              "      <td>NaN</td>\n",
              "      <td>NaN</td>\n",
              "      <td>3.0</td>\n",
              "      <td>23.0</td>\n",
              "      <td>14.0</td>\n",
              "      <td>14.0</td>\n",
              "      <td>15.0</td>\n",
              "      <td>15.0</td>\n",
              "      <td>15.0</td>\n",
              "      <td>10.0</td>\n",
              "    </tr>\n",
              "    <tr>\n",
              "      <th>1001</th>\n",
              "      <td>NaN</td>\n",
              "      <td>NaN</td>\n",
              "      <td>NaN</td>\n",
              "      <td>NaN</td>\n",
              "      <td>NaN</td>\n",
              "      <td>NaN</td>\n",
              "      <td>NaN</td>\n",
              "      <td>NaN</td>\n",
              "      <td>NaN</td>\n",
              "      <td>NaN</td>\n",
              "      <td>18.0</td>\n",
              "      <td>14.0</td>\n",
              "    </tr>\n",
              "    <tr>\n",
              "      <th>1002</th>\n",
              "      <td>NaN</td>\n",
              "      <td>NaN</td>\n",
              "      <td>NaN</td>\n",
              "      <td>NaN</td>\n",
              "      <td>NaN</td>\n",
              "      <td>11.0</td>\n",
              "      <td>18.0</td>\n",
              "      <td>20.0</td>\n",
              "      <td>17.0</td>\n",
              "      <td>14.0</td>\n",
              "      <td>19.0</td>\n",
              "      <td>18.0</td>\n",
              "    </tr>\n",
              "    <tr>\n",
              "      <th>1003</th>\n",
              "      <td>NaN</td>\n",
              "      <td>NaN</td>\n",
              "      <td>NaN</td>\n",
              "      <td>NaN</td>\n",
              "      <td>NaN</td>\n",
              "      <td>NaN</td>\n",
              "      <td>NaN</td>\n",
              "      <td>9.0</td>\n",
              "      <td>13.0</td>\n",
              "      <td>15.0</td>\n",
              "      <td>12.0</td>\n",
              "      <td>10.0</td>\n",
              "    </tr>\n",
              "    <tr>\n",
              "      <th>1004</th>\n",
              "      <td>NaN</td>\n",
              "      <td>NaN</td>\n",
              "      <td>NaN</td>\n",
              "      <td>NaN</td>\n",
              "      <td>14.0</td>\n",
              "      <td>18.0</td>\n",
              "      <td>22.0</td>\n",
              "      <td>28.0</td>\n",
              "      <td>15.0</td>\n",
              "      <td>19.0</td>\n",
              "      <td>16.0</td>\n",
              "      <td>18.0</td>\n",
              "    </tr>\n",
              "    <tr>\n",
              "      <th>...</th>\n",
              "      <td>...</td>\n",
              "      <td>...</td>\n",
              "      <td>...</td>\n",
              "      <td>...</td>\n",
              "      <td>...</td>\n",
              "      <td>...</td>\n",
              "      <td>...</td>\n",
              "      <td>...</td>\n",
              "      <td>...</td>\n",
              "      <td>...</td>\n",
              "      <td>...</td>\n",
              "      <td>...</td>\n",
              "    </tr>\n",
              "    <tr>\n",
              "      <th>1495</th>\n",
              "      <td>NaN</td>\n",
              "      <td>NaN</td>\n",
              "      <td>NaN</td>\n",
              "      <td>NaN</td>\n",
              "      <td>NaN</td>\n",
              "      <td>NaN</td>\n",
              "      <td>NaN</td>\n",
              "      <td>3.0</td>\n",
              "      <td>33.0</td>\n",
              "      <td>29.0</td>\n",
              "      <td>39.0</td>\n",
              "      <td>23.0</td>\n",
              "    </tr>\n",
              "    <tr>\n",
              "      <th>1496</th>\n",
              "      <td>4.0</td>\n",
              "      <td>28.0</td>\n",
              "      <td>25.0</td>\n",
              "      <td>21.0</td>\n",
              "      <td>24.0</td>\n",
              "      <td>20.0</td>\n",
              "      <td>24.0</td>\n",
              "      <td>23.0</td>\n",
              "      <td>27.0</td>\n",
              "      <td>28.0</td>\n",
              "      <td>25.0</td>\n",
              "      <td>21.0</td>\n",
              "    </tr>\n",
              "    <tr>\n",
              "      <th>1497</th>\n",
              "      <td>NaN</td>\n",
              "      <td>NaN</td>\n",
              "      <td>NaN</td>\n",
              "      <td>NaN</td>\n",
              "      <td>NaN</td>\n",
              "      <td>NaN</td>\n",
              "      <td>NaN</td>\n",
              "      <td>NaN</td>\n",
              "      <td>NaN</td>\n",
              "      <td>12.0</td>\n",
              "      <td>14.0</td>\n",
              "      <td>20.0</td>\n",
              "    </tr>\n",
              "    <tr>\n",
              "      <th>1498</th>\n",
              "      <td>NaN</td>\n",
              "      <td>NaN</td>\n",
              "      <td>NaN</td>\n",
              "      <td>NaN</td>\n",
              "      <td>NaN</td>\n",
              "      <td>NaN</td>\n",
              "      <td>8.0</td>\n",
              "      <td>24.0</td>\n",
              "      <td>22.0</td>\n",
              "      <td>21.0</td>\n",
              "      <td>NaN</td>\n",
              "      <td>NaN</td>\n",
              "    </tr>\n",
              "    <tr>\n",
              "      <th>1499</th>\n",
              "      <td>NaN</td>\n",
              "      <td>NaN</td>\n",
              "      <td>NaN</td>\n",
              "      <td>NaN</td>\n",
              "      <td>NaN</td>\n",
              "      <td>NaN</td>\n",
              "      <td>NaN</td>\n",
              "      <td>NaN</td>\n",
              "      <td>2.0</td>\n",
              "      <td>18.0</td>\n",
              "      <td>18.0</td>\n",
              "      <td>13.0</td>\n",
              "    </tr>\n",
              "  </tbody>\n",
              "</table>\n",
              "<p>497 rows × 12 columns</p>\n",
              "</div>"
            ],
            "text/plain": [
              "internet_month   1     2     3     4     5     6     7     8     9     10  \\\n",
              "user_id                                                                     \n",
              "1000            NaN   NaN   NaN   NaN   3.0  23.0  14.0  14.0  15.0  15.0   \n",
              "1001            NaN   NaN   NaN   NaN   NaN   NaN   NaN   NaN   NaN   NaN   \n",
              "1002            NaN   NaN   NaN   NaN   NaN  11.0  18.0  20.0  17.0  14.0   \n",
              "1003            NaN   NaN   NaN   NaN   NaN   NaN   NaN   9.0  13.0  15.0   \n",
              "1004            NaN   NaN   NaN   NaN  14.0  18.0  22.0  28.0  15.0  19.0   \n",
              "...             ...   ...   ...   ...   ...   ...   ...   ...   ...   ...   \n",
              "1495            NaN   NaN   NaN   NaN   NaN   NaN   NaN   3.0  33.0  29.0   \n",
              "1496            4.0  28.0  25.0  21.0  24.0  20.0  24.0  23.0  27.0  28.0   \n",
              "1497            NaN   NaN   NaN   NaN   NaN   NaN   NaN   NaN   NaN  12.0   \n",
              "1498            NaN   NaN   NaN   NaN   NaN   NaN   8.0  24.0  22.0  21.0   \n",
              "1499            NaN   NaN   NaN   NaN   NaN   NaN   NaN   NaN   2.0  18.0   \n",
              "\n",
              "internet_month    11    12  \n",
              "user_id                     \n",
              "1000            15.0  10.0  \n",
              "1001            18.0  14.0  \n",
              "1002            19.0  18.0  \n",
              "1003            12.0  10.0  \n",
              "1004            16.0  18.0  \n",
              "...              ...   ...  \n",
              "1495            39.0  23.0  \n",
              "1496            25.0  21.0  \n",
              "1497            14.0  20.0  \n",
              "1498             NaN   NaN  \n",
              "1499            18.0  13.0  \n",
              "\n",
              "[497 rows x 12 columns]"
            ]
          },
          "metadata": {}
        }
      ]
    },
    {
      "cell_type": "markdown",
      "source": "#### Выручка с каждого пользователя по месяцам",
      "metadata": {}
    },
    {
      "cell_type": "markdown",
      "source": "Для того, чтобы посчитать общую выручку с каждого клиента по месяцам, нам необходимо будет собрать все данные в одну таблицу, где будут содержаться данные о расходах по тарифу каждого клиента",
      "metadata": {}
    },
    {
      "cell_type": "markdown",
      "source": "Чтобы собрать общую таблицу, для начала соберем данные о количестве минут разговора для каждого пользователя по месяцам с помощью groupby() и переименуем колонки для удобства дальнейших объединений",
      "metadata": {}
    },
    {
      "cell_type": "code",
      "source": "grouped_calls_data = data_calls.groupby(['user_id', 'calls_month'], as_index=False)['duration'].agg('sum')\ngrouped_calls_data.columns = ['user_id', 'month', 'calls_duration']\ngrouped_calls_data.head()",
      "metadata": {},
      "execution_count": 38,
      "outputs": [
        {
          "execution_count": 38,
          "output_type": "execute_result",
          "data": {
            "text/html": [
              "<div>\n",
              "<style scoped>\n",
              "    .dataframe tbody tr th:only-of-type {\n",
              "        vertical-align: middle;\n",
              "    }\n",
              "\n",
              "    .dataframe tbody tr th {\n",
              "        vertical-align: top;\n",
              "    }\n",
              "\n",
              "    .dataframe thead th {\n",
              "        text-align: right;\n",
              "    }\n",
              "</style>\n",
              "<table border=\"1\" class=\"dataframe\">\n",
              "  <thead>\n",
              "    <tr style=\"text-align: right;\">\n",
              "      <th></th>\n",
              "      <th>user_id</th>\n",
              "      <th>month</th>\n",
              "      <th>calls_duration</th>\n",
              "    </tr>\n",
              "  </thead>\n",
              "  <tbody>\n",
              "    <tr>\n",
              "      <th>0</th>\n",
              "      <td>1000</td>\n",
              "      <td>5</td>\n",
              "      <td>159</td>\n",
              "    </tr>\n",
              "    <tr>\n",
              "      <th>1</th>\n",
              "      <td>1000</td>\n",
              "      <td>6</td>\n",
              "      <td>172</td>\n",
              "    </tr>\n",
              "    <tr>\n",
              "      <th>2</th>\n",
              "      <td>1000</td>\n",
              "      <td>7</td>\n",
              "      <td>340</td>\n",
              "    </tr>\n",
              "    <tr>\n",
              "      <th>3</th>\n",
              "      <td>1000</td>\n",
              "      <td>8</td>\n",
              "      <td>408</td>\n",
              "    </tr>\n",
              "    <tr>\n",
              "      <th>4</th>\n",
              "      <td>1000</td>\n",
              "      <td>9</td>\n",
              "      <td>466</td>\n",
              "    </tr>\n",
              "  </tbody>\n",
              "</table>\n",
              "</div>"
            ],
            "text/plain": [
              "   user_id  month  calls_duration\n",
              "0     1000      5             159\n",
              "1     1000      6             172\n",
              "2     1000      7             340\n",
              "3     1000      8             408\n",
              "4     1000      9             466"
            ]
          },
          "metadata": {}
        }
      ]
    },
    {
      "cell_type": "code",
      "source": "grouped_messages_data = data_messages.groupby(['user_id', 'messages_month'], as_index=False)['id'].agg('count')\ngrouped_messages_data.columns = ['user_id', 'month', 'message_count']\ngrouped_messages_data.head()",
      "metadata": {},
      "execution_count": 39,
      "outputs": [
        {
          "execution_count": 39,
          "output_type": "execute_result",
          "data": {
            "text/html": [
              "<div>\n",
              "<style scoped>\n",
              "    .dataframe tbody tr th:only-of-type {\n",
              "        vertical-align: middle;\n",
              "    }\n",
              "\n",
              "    .dataframe tbody tr th {\n",
              "        vertical-align: top;\n",
              "    }\n",
              "\n",
              "    .dataframe thead th {\n",
              "        text-align: right;\n",
              "    }\n",
              "</style>\n",
              "<table border=\"1\" class=\"dataframe\">\n",
              "  <thead>\n",
              "    <tr style=\"text-align: right;\">\n",
              "      <th></th>\n",
              "      <th>user_id</th>\n",
              "      <th>month</th>\n",
              "      <th>message_count</th>\n",
              "    </tr>\n",
              "  </thead>\n",
              "  <tbody>\n",
              "    <tr>\n",
              "      <th>0</th>\n",
              "      <td>1000</td>\n",
              "      <td>5</td>\n",
              "      <td>22</td>\n",
              "    </tr>\n",
              "    <tr>\n",
              "      <th>1</th>\n",
              "      <td>1000</td>\n",
              "      <td>6</td>\n",
              "      <td>60</td>\n",
              "    </tr>\n",
              "    <tr>\n",
              "      <th>2</th>\n",
              "      <td>1000</td>\n",
              "      <td>7</td>\n",
              "      <td>75</td>\n",
              "    </tr>\n",
              "    <tr>\n",
              "      <th>3</th>\n",
              "      <td>1000</td>\n",
              "      <td>8</td>\n",
              "      <td>81</td>\n",
              "    </tr>\n",
              "    <tr>\n",
              "      <th>4</th>\n",
              "      <td>1000</td>\n",
              "      <td>9</td>\n",
              "      <td>57</td>\n",
              "    </tr>\n",
              "  </tbody>\n",
              "</table>\n",
              "</div>"
            ],
            "text/plain": [
              "   user_id  month  message_count\n",
              "0     1000      5             22\n",
              "1     1000      6             60\n",
              "2     1000      7             75\n",
              "3     1000      8             81\n",
              "4     1000      9             57"
            ]
          },
          "metadata": {}
        }
      ]
    },
    {
      "cell_type": "code",
      "source": "grouped_internet_data = data_internet.groupby(['user_id', 'internet_month'], as_index=False)['mb_used'].agg('sum')\ngrouped_internet_data.columns = ['user_id', 'month', 'traffic']\ngrouped_internet_data['traffic'] = np.ceil(grouped_internet_data['traffic'] / 1024)\ngrouped_internet_data.head()",
      "metadata": {},
      "execution_count": 40,
      "outputs": [
        {
          "execution_count": 40,
          "output_type": "execute_result",
          "data": {
            "text/html": [
              "<div>\n",
              "<style scoped>\n",
              "    .dataframe tbody tr th:only-of-type {\n",
              "        vertical-align: middle;\n",
              "    }\n",
              "\n",
              "    .dataframe tbody tr th {\n",
              "        vertical-align: top;\n",
              "    }\n",
              "\n",
              "    .dataframe thead th {\n",
              "        text-align: right;\n",
              "    }\n",
              "</style>\n",
              "<table border=\"1\" class=\"dataframe\">\n",
              "  <thead>\n",
              "    <tr style=\"text-align: right;\">\n",
              "      <th></th>\n",
              "      <th>user_id</th>\n",
              "      <th>month</th>\n",
              "      <th>traffic</th>\n",
              "    </tr>\n",
              "  </thead>\n",
              "  <tbody>\n",
              "    <tr>\n",
              "      <th>0</th>\n",
              "      <td>1000</td>\n",
              "      <td>5</td>\n",
              "      <td>3.0</td>\n",
              "    </tr>\n",
              "    <tr>\n",
              "      <th>1</th>\n",
              "      <td>1000</td>\n",
              "      <td>6</td>\n",
              "      <td>23.0</td>\n",
              "    </tr>\n",
              "    <tr>\n",
              "      <th>2</th>\n",
              "      <td>1000</td>\n",
              "      <td>7</td>\n",
              "      <td>14.0</td>\n",
              "    </tr>\n",
              "    <tr>\n",
              "      <th>3</th>\n",
              "      <td>1000</td>\n",
              "      <td>8</td>\n",
              "      <td>14.0</td>\n",
              "    </tr>\n",
              "    <tr>\n",
              "      <th>4</th>\n",
              "      <td>1000</td>\n",
              "      <td>9</td>\n",
              "      <td>15.0</td>\n",
              "    </tr>\n",
              "  </tbody>\n",
              "</table>\n",
              "</div>"
            ],
            "text/plain": [
              "   user_id  month  traffic\n",
              "0     1000      5      3.0\n",
              "1     1000      6     23.0\n",
              "2     1000      7     14.0\n",
              "3     1000      8     14.0\n",
              "4     1000      9     15.0"
            ]
          },
          "metadata": {}
        }
      ]
    },
    {
      "cell_type": "markdown",
      "source": "После того, как мы создали таблицы с основными показателями по каждому пользователю (длительность звонков, кол-во сообщений и кол-во использованного трафика), объединим эти данные в одну таблицу",
      "metadata": {}
    },
    {
      "cell_type": "code",
      "source": "revenue = grouped_calls_data.merge(grouped_messages_data, on = ['user_id', 'month'], how='outer')\nrevenue = revenue.merge(grouped_internet_data, on = ['user_id', 'month'], how='outer')\nrevenue = revenue.merge(data_users[['user_id', 'tariff', 'city']], how='left', on='user_id')",
      "metadata": {},
      "execution_count": 41,
      "outputs": []
    },
    {
      "cell_type": "code",
      "source": "display(revenue.head())",
      "metadata": {},
      "execution_count": 42,
      "outputs": [
        {
          "output_type": "display_data",
          "data": {
            "text/html": [
              "<div>\n",
              "<style scoped>\n",
              "    .dataframe tbody tr th:only-of-type {\n",
              "        vertical-align: middle;\n",
              "    }\n",
              "\n",
              "    .dataframe tbody tr th {\n",
              "        vertical-align: top;\n",
              "    }\n",
              "\n",
              "    .dataframe thead th {\n",
              "        text-align: right;\n",
              "    }\n",
              "</style>\n",
              "<table border=\"1\" class=\"dataframe\">\n",
              "  <thead>\n",
              "    <tr style=\"text-align: right;\">\n",
              "      <th></th>\n",
              "      <th>user_id</th>\n",
              "      <th>month</th>\n",
              "      <th>calls_duration</th>\n",
              "      <th>message_count</th>\n",
              "      <th>traffic</th>\n",
              "      <th>tariff</th>\n",
              "      <th>city</th>\n",
              "    </tr>\n",
              "  </thead>\n",
              "  <tbody>\n",
              "    <tr>\n",
              "      <th>0</th>\n",
              "      <td>1000</td>\n",
              "      <td>5</td>\n",
              "      <td>159.0</td>\n",
              "      <td>22.0</td>\n",
              "      <td>3.0</td>\n",
              "      <td>2</td>\n",
              "      <td>Краснодар</td>\n",
              "    </tr>\n",
              "    <tr>\n",
              "      <th>1</th>\n",
              "      <td>1000</td>\n",
              "      <td>6</td>\n",
              "      <td>172.0</td>\n",
              "      <td>60.0</td>\n",
              "      <td>23.0</td>\n",
              "      <td>2</td>\n",
              "      <td>Краснодар</td>\n",
              "    </tr>\n",
              "    <tr>\n",
              "      <th>2</th>\n",
              "      <td>1000</td>\n",
              "      <td>7</td>\n",
              "      <td>340.0</td>\n",
              "      <td>75.0</td>\n",
              "      <td>14.0</td>\n",
              "      <td>2</td>\n",
              "      <td>Краснодар</td>\n",
              "    </tr>\n",
              "    <tr>\n",
              "      <th>3</th>\n",
              "      <td>1000</td>\n",
              "      <td>8</td>\n",
              "      <td>408.0</td>\n",
              "      <td>81.0</td>\n",
              "      <td>14.0</td>\n",
              "      <td>2</td>\n",
              "      <td>Краснодар</td>\n",
              "    </tr>\n",
              "    <tr>\n",
              "      <th>4</th>\n",
              "      <td>1000</td>\n",
              "      <td>9</td>\n",
              "      <td>466.0</td>\n",
              "      <td>57.0</td>\n",
              "      <td>15.0</td>\n",
              "      <td>2</td>\n",
              "      <td>Краснодар</td>\n",
              "    </tr>\n",
              "  </tbody>\n",
              "</table>\n",
              "</div>"
            ],
            "text/plain": [
              "   user_id  month  calls_duration  message_count  traffic tariff       city\n",
              "0     1000      5           159.0           22.0      3.0      2  Краснодар\n",
              "1     1000      6           172.0           60.0     23.0      2  Краснодар\n",
              "2     1000      7           340.0           75.0     14.0      2  Краснодар\n",
              "3     1000      8           408.0           81.0     14.0      2  Краснодар\n",
              "4     1000      9           466.0           57.0     15.0      2  Краснодар"
            ]
          },
          "metadata": {}
        }
      ]
    },
    {
      "cell_type": "markdown",
      "source": "Для дальнейших вычислений также добавим таблицу data_tariffs к revenue, чтобы видеть лимиты по тарифам",
      "metadata": {}
    },
    {
      "cell_type": "code",
      "source": "revenue = revenue.merge(data_tariffs, on = 'tariff', how='left')",
      "metadata": {},
      "execution_count": 43,
      "outputs": []
    },
    {
      "cell_type": "code",
      "source": "display(revenue)",
      "metadata": {},
      "execution_count": 44,
      "outputs": [
        {
          "output_type": "display_data",
          "data": {
            "text/html": [
              "<div>\n",
              "<style scoped>\n",
              "    .dataframe tbody tr th:only-of-type {\n",
              "        vertical-align: middle;\n",
              "    }\n",
              "\n",
              "    .dataframe tbody tr th {\n",
              "        vertical-align: top;\n",
              "    }\n",
              "\n",
              "    .dataframe thead th {\n",
              "        text-align: right;\n",
              "    }\n",
              "</style>\n",
              "<table border=\"1\" class=\"dataframe\">\n",
              "  <thead>\n",
              "    <tr style=\"text-align: right;\">\n",
              "      <th></th>\n",
              "      <th>user_id</th>\n",
              "      <th>month</th>\n",
              "      <th>calls_duration</th>\n",
              "      <th>message_count</th>\n",
              "      <th>traffic</th>\n",
              "      <th>tariff</th>\n",
              "      <th>city</th>\n",
              "      <th>messages_included</th>\n",
              "      <th>mb_per_month_included</th>\n",
              "      <th>minutes_included</th>\n",
              "      <th>rub_monthly_fee</th>\n",
              "      <th>rub_per_gb</th>\n",
              "      <th>rub_per_message</th>\n",
              "      <th>rub_per_minute</th>\n",
              "      <th>tariff_name</th>\n",
              "    </tr>\n",
              "  </thead>\n",
              "  <tbody>\n",
              "    <tr>\n",
              "      <th>0</th>\n",
              "      <td>1000</td>\n",
              "      <td>5</td>\n",
              "      <td>159.0</td>\n",
              "      <td>22.0</td>\n",
              "      <td>3.0</td>\n",
              "      <td>2</td>\n",
              "      <td>Краснодар</td>\n",
              "      <td>1000</td>\n",
              "      <td>30720</td>\n",
              "      <td>3000</td>\n",
              "      <td>1950</td>\n",
              "      <td>150</td>\n",
              "      <td>1</td>\n",
              "      <td>1</td>\n",
              "      <td>ultra</td>\n",
              "    </tr>\n",
              "    <tr>\n",
              "      <th>1</th>\n",
              "      <td>1000</td>\n",
              "      <td>6</td>\n",
              "      <td>172.0</td>\n",
              "      <td>60.0</td>\n",
              "      <td>23.0</td>\n",
              "      <td>2</td>\n",
              "      <td>Краснодар</td>\n",
              "      <td>1000</td>\n",
              "      <td>30720</td>\n",
              "      <td>3000</td>\n",
              "      <td>1950</td>\n",
              "      <td>150</td>\n",
              "      <td>1</td>\n",
              "      <td>1</td>\n",
              "      <td>ultra</td>\n",
              "    </tr>\n",
              "    <tr>\n",
              "      <th>2</th>\n",
              "      <td>1000</td>\n",
              "      <td>7</td>\n",
              "      <td>340.0</td>\n",
              "      <td>75.0</td>\n",
              "      <td>14.0</td>\n",
              "      <td>2</td>\n",
              "      <td>Краснодар</td>\n",
              "      <td>1000</td>\n",
              "      <td>30720</td>\n",
              "      <td>3000</td>\n",
              "      <td>1950</td>\n",
              "      <td>150</td>\n",
              "      <td>1</td>\n",
              "      <td>1</td>\n",
              "      <td>ultra</td>\n",
              "    </tr>\n",
              "    <tr>\n",
              "      <th>3</th>\n",
              "      <td>1000</td>\n",
              "      <td>8</td>\n",
              "      <td>408.0</td>\n",
              "      <td>81.0</td>\n",
              "      <td>14.0</td>\n",
              "      <td>2</td>\n",
              "      <td>Краснодар</td>\n",
              "      <td>1000</td>\n",
              "      <td>30720</td>\n",
              "      <td>3000</td>\n",
              "      <td>1950</td>\n",
              "      <td>150</td>\n",
              "      <td>1</td>\n",
              "      <td>1</td>\n",
              "      <td>ultra</td>\n",
              "    </tr>\n",
              "    <tr>\n",
              "      <th>4</th>\n",
              "      <td>1000</td>\n",
              "      <td>9</td>\n",
              "      <td>466.0</td>\n",
              "      <td>57.0</td>\n",
              "      <td>15.0</td>\n",
              "      <td>2</td>\n",
              "      <td>Краснодар</td>\n",
              "      <td>1000</td>\n",
              "      <td>30720</td>\n",
              "      <td>3000</td>\n",
              "      <td>1950</td>\n",
              "      <td>150</td>\n",
              "      <td>1</td>\n",
              "      <td>1</td>\n",
              "      <td>ultra</td>\n",
              "    </tr>\n",
              "    <tr>\n",
              "      <th>...</th>\n",
              "      <td>...</td>\n",
              "      <td>...</td>\n",
              "      <td>...</td>\n",
              "      <td>...</td>\n",
              "      <td>...</td>\n",
              "      <td>...</td>\n",
              "      <td>...</td>\n",
              "      <td>...</td>\n",
              "      <td>...</td>\n",
              "      <td>...</td>\n",
              "      <td>...</td>\n",
              "      <td>...</td>\n",
              "      <td>...</td>\n",
              "      <td>...</td>\n",
              "      <td>...</td>\n",
              "    </tr>\n",
              "    <tr>\n",
              "      <th>3209</th>\n",
              "      <td>1489</td>\n",
              "      <td>9</td>\n",
              "      <td>NaN</td>\n",
              "      <td>32.0</td>\n",
              "      <td>17.0</td>\n",
              "      <td>1</td>\n",
              "      <td>Санкт-Петербург</td>\n",
              "      <td>50</td>\n",
              "      <td>15360</td>\n",
              "      <td>500</td>\n",
              "      <td>550</td>\n",
              "      <td>200</td>\n",
              "      <td>3</td>\n",
              "      <td>3</td>\n",
              "      <td>smart</td>\n",
              "    </tr>\n",
              "    <tr>\n",
              "      <th>3210</th>\n",
              "      <td>1489</td>\n",
              "      <td>10</td>\n",
              "      <td>NaN</td>\n",
              "      <td>21.0</td>\n",
              "      <td>20.0</td>\n",
              "      <td>1</td>\n",
              "      <td>Санкт-Петербург</td>\n",
              "      <td>50</td>\n",
              "      <td>15360</td>\n",
              "      <td>500</td>\n",
              "      <td>550</td>\n",
              "      <td>200</td>\n",
              "      <td>3</td>\n",
              "      <td>3</td>\n",
              "      <td>smart</td>\n",
              "    </tr>\n",
              "    <tr>\n",
              "      <th>3211</th>\n",
              "      <td>1489</td>\n",
              "      <td>11</td>\n",
              "      <td>NaN</td>\n",
              "      <td>20.0</td>\n",
              "      <td>18.0</td>\n",
              "      <td>1</td>\n",
              "      <td>Санкт-Петербург</td>\n",
              "      <td>50</td>\n",
              "      <td>15360</td>\n",
              "      <td>500</td>\n",
              "      <td>550</td>\n",
              "      <td>200</td>\n",
              "      <td>3</td>\n",
              "      <td>3</td>\n",
              "      <td>smart</td>\n",
              "    </tr>\n",
              "    <tr>\n",
              "      <th>3212</th>\n",
              "      <td>1489</td>\n",
              "      <td>12</td>\n",
              "      <td>NaN</td>\n",
              "      <td>35.0</td>\n",
              "      <td>17.0</td>\n",
              "      <td>1</td>\n",
              "      <td>Санкт-Петербург</td>\n",
              "      <td>50</td>\n",
              "      <td>15360</td>\n",
              "      <td>500</td>\n",
              "      <td>550</td>\n",
              "      <td>200</td>\n",
              "      <td>3</td>\n",
              "      <td>3</td>\n",
              "      <td>smart</td>\n",
              "    </tr>\n",
              "    <tr>\n",
              "      <th>3213</th>\n",
              "      <td>1476</td>\n",
              "      <td>4</td>\n",
              "      <td>NaN</td>\n",
              "      <td>NaN</td>\n",
              "      <td>1.0</td>\n",
              "      <td>2</td>\n",
              "      <td>Москва</td>\n",
              "      <td>1000</td>\n",
              "      <td>30720</td>\n",
              "      <td>3000</td>\n",
              "      <td>1950</td>\n",
              "      <td>150</td>\n",
              "      <td>1</td>\n",
              "      <td>1</td>\n",
              "      <td>ultra</td>\n",
              "    </tr>\n",
              "  </tbody>\n",
              "</table>\n",
              "<p>3214 rows × 15 columns</p>\n",
              "</div>"
            ],
            "text/plain": [
              "      user_id  month  calls_duration  message_count  traffic tariff  \\\n",
              "0        1000      5           159.0           22.0      3.0      2   \n",
              "1        1000      6           172.0           60.0     23.0      2   \n",
              "2        1000      7           340.0           75.0     14.0      2   \n",
              "3        1000      8           408.0           81.0     14.0      2   \n",
              "4        1000      9           466.0           57.0     15.0      2   \n",
              "...       ...    ...             ...            ...      ...    ...   \n",
              "3209     1489      9             NaN           32.0     17.0      1   \n",
              "3210     1489     10             NaN           21.0     20.0      1   \n",
              "3211     1489     11             NaN           20.0     18.0      1   \n",
              "3212     1489     12             NaN           35.0     17.0      1   \n",
              "3213     1476      4             NaN            NaN      1.0      2   \n",
              "\n",
              "                 city  messages_included  mb_per_month_included  \\\n",
              "0           Краснодар               1000                  30720   \n",
              "1           Краснодар               1000                  30720   \n",
              "2           Краснодар               1000                  30720   \n",
              "3           Краснодар               1000                  30720   \n",
              "4           Краснодар               1000                  30720   \n",
              "...               ...                ...                    ...   \n",
              "3209  Санкт-Петербург                 50                  15360   \n",
              "3210  Санкт-Петербург                 50                  15360   \n",
              "3211  Санкт-Петербург                 50                  15360   \n",
              "3212  Санкт-Петербург                 50                  15360   \n",
              "3213           Москва               1000                  30720   \n",
              "\n",
              "      minutes_included  rub_monthly_fee  rub_per_gb  rub_per_message  \\\n",
              "0                 3000             1950         150                1   \n",
              "1                 3000             1950         150                1   \n",
              "2                 3000             1950         150                1   \n",
              "3                 3000             1950         150                1   \n",
              "4                 3000             1950         150                1   \n",
              "...                ...              ...         ...              ...   \n",
              "3209               500              550         200                3   \n",
              "3210               500              550         200                3   \n",
              "3211               500              550         200                3   \n",
              "3212               500              550         200                3   \n",
              "3213              3000             1950         150                1   \n",
              "\n",
              "      rub_per_minute tariff_name  \n",
              "0                  1       ultra  \n",
              "1                  1       ultra  \n",
              "2                  1       ultra  \n",
              "3                  1       ultra  \n",
              "4                  1       ultra  \n",
              "...              ...         ...  \n",
              "3209               3       smart  \n",
              "3210               3       smart  \n",
              "3211               3       smart  \n",
              "3212               3       smart  \n",
              "3213               1       ultra  \n",
              "\n",
              "[3214 rows x 15 columns]"
            ]
          },
          "metadata": {}
        }
      ]
    },
    {
      "cell_type": "code",
      "source": "# Комментарий ревьюера\nrevenue.user_id.unique().shape ",
      "metadata": {},
      "execution_count": 45,
      "outputs": [
        {
          "execution_count": 45,
          "output_type": "execute_result",
          "data": {
            "text/plain": [
              "(498,)"
            ]
          },
          "metadata": {}
        }
      ]
    },
    {
      "cell_type": "code",
      "source": "# Комментарий ревьюера\ntemp = data_users.copy()\ntemp[(temp.user_id ==  1128) | (temp.user_id ==  1371)]",
      "metadata": {},
      "execution_count": 46,
      "outputs": [
        {
          "execution_count": 46,
          "output_type": "execute_result",
          "data": {
            "text/html": [
              "<div>\n",
              "<style scoped>\n",
              "    .dataframe tbody tr th:only-of-type {\n",
              "        vertical-align: middle;\n",
              "    }\n",
              "\n",
              "    .dataframe tbody tr th {\n",
              "        vertical-align: top;\n",
              "    }\n",
              "\n",
              "    .dataframe thead th {\n",
              "        text-align: right;\n",
              "    }\n",
              "</style>\n",
              "<table border=\"1\" class=\"dataframe\">\n",
              "  <thead>\n",
              "    <tr style=\"text-align: right;\">\n",
              "      <th></th>\n",
              "      <th>user_id</th>\n",
              "      <th>age</th>\n",
              "      <th>churn_date</th>\n",
              "      <th>city</th>\n",
              "      <th>first_name</th>\n",
              "      <th>last_name</th>\n",
              "      <th>reg_date</th>\n",
              "      <th>tariff</th>\n",
              "    </tr>\n",
              "  </thead>\n",
              "  <tbody>\n",
              "    <tr>\n",
              "      <th>128</th>\n",
              "      <td>1128</td>\n",
              "      <td>51</td>\n",
              "      <td>2018-12-23</td>\n",
              "      <td>Волжский</td>\n",
              "      <td>Ксения</td>\n",
              "      <td>Агаева</td>\n",
              "      <td>2018-12-15</td>\n",
              "      <td>2</td>\n",
              "    </tr>\n",
              "    <tr>\n",
              "      <th>371</th>\n",
              "      <td>1371</td>\n",
              "      <td>50</td>\n",
              "      <td>2018-12-30</td>\n",
              "      <td>Омск</td>\n",
              "      <td>Ириней</td>\n",
              "      <td>Трофимов</td>\n",
              "      <td>2018-12-25</td>\n",
              "      <td>1</td>\n",
              "    </tr>\n",
              "  </tbody>\n",
              "</table>\n",
              "</div>"
            ],
            "text/plain": [
              "     user_id  age churn_date      city first_name last_name   reg_date tariff\n",
              "128     1128   51 2018-12-23  Волжский     Ксения    Агаева 2018-12-15      2\n",
              "371     1371   50 2018-12-30      Омск     Ириней  Трофимов 2018-12-25      1"
            ]
          },
          "metadata": {}
        }
      ]
    },
    {
      "cell_type": "code",
      "source": "revenue.info()",
      "metadata": {},
      "execution_count": 47,
      "outputs": [
        {
          "name": "stdout",
          "output_type": "stream",
          "text": "<class 'pandas.core.frame.DataFrame'>\n\nInt64Index: 3214 entries, 0 to 3213\n\nData columns (total 15 columns):\n\n #   Column                 Non-Null Count  Dtype  \n\n---  ------                 --------------  -----  \n\n 0   user_id                3214 non-null   int64  \n\n 1   month                  3214 non-null   int64  \n\n 2   calls_duration         3174 non-null   float64\n\n 3   message_count          2717 non-null   float64\n\n 4   traffic                3203 non-null   float64\n\n 5   tariff                 3214 non-null   object \n\n 6   city                   3214 non-null   object \n\n 7   messages_included      3214 non-null   int64  \n\n 8   mb_per_month_included  3214 non-null   int64  \n\n 9   minutes_included       3214 non-null   int64  \n\n 10  rub_monthly_fee        3214 non-null   int64  \n\n 11  rub_per_gb             3214 non-null   int64  \n\n 12  rub_per_message        3214 non-null   int64  \n\n 13  rub_per_minute         3214 non-null   int64  \n\n 14  tariff_name            3214 non-null   object \n\ndtypes: float64(3), int64(9), object(3)\n\nmemory usage: 401.8+ KB\n"
        }
      ]
    },
    {
      "cell_type": "markdown",
      "source": "Видим пропуски в колонках calls_duration, message_count и traffic. Для дальнейших расчетов заполним их числом 0 и приведем данные к целочисленному типу",
      "metadata": {}
    },
    {
      "cell_type": "code",
      "source": "revenue['calls_duration'] = revenue['calls_duration'].fillna(0)\nrevenue['calls_duration'] = revenue['calls_duration'].astype('int64')",
      "metadata": {},
      "execution_count": 48,
      "outputs": []
    },
    {
      "cell_type": "code",
      "source": "revenue['message_count'] = revenue['message_count'].fillna(0)\nrevenue['message_count'] = revenue['message_count'].astype('int64')",
      "metadata": {},
      "execution_count": 49,
      "outputs": []
    },
    {
      "cell_type": "code",
      "source": "revenue['traffic'] = revenue['traffic'].fillna(0)\nrevenue['traffic'] = revenue['traffic'].astype('int64')",
      "metadata": {},
      "execution_count": 50,
      "outputs": []
    },
    {
      "cell_type": "markdown",
      "source": "</font><font color='Blue'><b>Комментарий студента\n- Согласен. Исправил </b></font><br>",
      "metadata": {}
    },
    {
      "cell_type": "code",
      "source": "revenue['gb_per_month_included'] = revenue['mb_per_month_included'] / 1024\nrevenue['gb_per_month_included'] = (revenue['gb_per_month_included']).astype('int')\n#Решил добавить в таблицу колонку gb_per_month_included, чтобы было удобнее работать с трафиком, переведенным в гигабайты",
      "metadata": {},
      "execution_count": 51,
      "outputs": []
    },
    {
      "cell_type": "code",
      "source": "display(revenue)",
      "metadata": {},
      "execution_count": 52,
      "outputs": [
        {
          "output_type": "display_data",
          "data": {
            "text/html": [
              "<div>\n",
              "<style scoped>\n",
              "    .dataframe tbody tr th:only-of-type {\n",
              "        vertical-align: middle;\n",
              "    }\n",
              "\n",
              "    .dataframe tbody tr th {\n",
              "        vertical-align: top;\n",
              "    }\n",
              "\n",
              "    .dataframe thead th {\n",
              "        text-align: right;\n",
              "    }\n",
              "</style>\n",
              "<table border=\"1\" class=\"dataframe\">\n",
              "  <thead>\n",
              "    <tr style=\"text-align: right;\">\n",
              "      <th></th>\n",
              "      <th>user_id</th>\n",
              "      <th>month</th>\n",
              "      <th>calls_duration</th>\n",
              "      <th>message_count</th>\n",
              "      <th>traffic</th>\n",
              "      <th>tariff</th>\n",
              "      <th>city</th>\n",
              "      <th>messages_included</th>\n",
              "      <th>mb_per_month_included</th>\n",
              "      <th>minutes_included</th>\n",
              "      <th>rub_monthly_fee</th>\n",
              "      <th>rub_per_gb</th>\n",
              "      <th>rub_per_message</th>\n",
              "      <th>rub_per_minute</th>\n",
              "      <th>tariff_name</th>\n",
              "      <th>gb_per_month_included</th>\n",
              "    </tr>\n",
              "  </thead>\n",
              "  <tbody>\n",
              "    <tr>\n",
              "      <th>0</th>\n",
              "      <td>1000</td>\n",
              "      <td>5</td>\n",
              "      <td>159</td>\n",
              "      <td>22</td>\n",
              "      <td>3</td>\n",
              "      <td>2</td>\n",
              "      <td>Краснодар</td>\n",
              "      <td>1000</td>\n",
              "      <td>30720</td>\n",
              "      <td>3000</td>\n",
              "      <td>1950</td>\n",
              "      <td>150</td>\n",
              "      <td>1</td>\n",
              "      <td>1</td>\n",
              "      <td>ultra</td>\n",
              "      <td>30</td>\n",
              "    </tr>\n",
              "    <tr>\n",
              "      <th>1</th>\n",
              "      <td>1000</td>\n",
              "      <td>6</td>\n",
              "      <td>172</td>\n",
              "      <td>60</td>\n",
              "      <td>23</td>\n",
              "      <td>2</td>\n",
              "      <td>Краснодар</td>\n",
              "      <td>1000</td>\n",
              "      <td>30720</td>\n",
              "      <td>3000</td>\n",
              "      <td>1950</td>\n",
              "      <td>150</td>\n",
              "      <td>1</td>\n",
              "      <td>1</td>\n",
              "      <td>ultra</td>\n",
              "      <td>30</td>\n",
              "    </tr>\n",
              "    <tr>\n",
              "      <th>2</th>\n",
              "      <td>1000</td>\n",
              "      <td>7</td>\n",
              "      <td>340</td>\n",
              "      <td>75</td>\n",
              "      <td>14</td>\n",
              "      <td>2</td>\n",
              "      <td>Краснодар</td>\n",
              "      <td>1000</td>\n",
              "      <td>30720</td>\n",
              "      <td>3000</td>\n",
              "      <td>1950</td>\n",
              "      <td>150</td>\n",
              "      <td>1</td>\n",
              "      <td>1</td>\n",
              "      <td>ultra</td>\n",
              "      <td>30</td>\n",
              "    </tr>\n",
              "    <tr>\n",
              "      <th>3</th>\n",
              "      <td>1000</td>\n",
              "      <td>8</td>\n",
              "      <td>408</td>\n",
              "      <td>81</td>\n",
              "      <td>14</td>\n",
              "      <td>2</td>\n",
              "      <td>Краснодар</td>\n",
              "      <td>1000</td>\n",
              "      <td>30720</td>\n",
              "      <td>3000</td>\n",
              "      <td>1950</td>\n",
              "      <td>150</td>\n",
              "      <td>1</td>\n",
              "      <td>1</td>\n",
              "      <td>ultra</td>\n",
              "      <td>30</td>\n",
              "    </tr>\n",
              "    <tr>\n",
              "      <th>4</th>\n",
              "      <td>1000</td>\n",
              "      <td>9</td>\n",
              "      <td>466</td>\n",
              "      <td>57</td>\n",
              "      <td>15</td>\n",
              "      <td>2</td>\n",
              "      <td>Краснодар</td>\n",
              "      <td>1000</td>\n",
              "      <td>30720</td>\n",
              "      <td>3000</td>\n",
              "      <td>1950</td>\n",
              "      <td>150</td>\n",
              "      <td>1</td>\n",
              "      <td>1</td>\n",
              "      <td>ultra</td>\n",
              "      <td>30</td>\n",
              "    </tr>\n",
              "    <tr>\n",
              "      <th>...</th>\n",
              "      <td>...</td>\n",
              "      <td>...</td>\n",
              "      <td>...</td>\n",
              "      <td>...</td>\n",
              "      <td>...</td>\n",
              "      <td>...</td>\n",
              "      <td>...</td>\n",
              "      <td>...</td>\n",
              "      <td>...</td>\n",
              "      <td>...</td>\n",
              "      <td>...</td>\n",
              "      <td>...</td>\n",
              "      <td>...</td>\n",
              "      <td>...</td>\n",
              "      <td>...</td>\n",
              "      <td>...</td>\n",
              "    </tr>\n",
              "    <tr>\n",
              "      <th>3209</th>\n",
              "      <td>1489</td>\n",
              "      <td>9</td>\n",
              "      <td>0</td>\n",
              "      <td>32</td>\n",
              "      <td>17</td>\n",
              "      <td>1</td>\n",
              "      <td>Санкт-Петербург</td>\n",
              "      <td>50</td>\n",
              "      <td>15360</td>\n",
              "      <td>500</td>\n",
              "      <td>550</td>\n",
              "      <td>200</td>\n",
              "      <td>3</td>\n",
              "      <td>3</td>\n",
              "      <td>smart</td>\n",
              "      <td>15</td>\n",
              "    </tr>\n",
              "    <tr>\n",
              "      <th>3210</th>\n",
              "      <td>1489</td>\n",
              "      <td>10</td>\n",
              "      <td>0</td>\n",
              "      <td>21</td>\n",
              "      <td>20</td>\n",
              "      <td>1</td>\n",
              "      <td>Санкт-Петербург</td>\n",
              "      <td>50</td>\n",
              "      <td>15360</td>\n",
              "      <td>500</td>\n",
              "      <td>550</td>\n",
              "      <td>200</td>\n",
              "      <td>3</td>\n",
              "      <td>3</td>\n",
              "      <td>smart</td>\n",
              "      <td>15</td>\n",
              "    </tr>\n",
              "    <tr>\n",
              "      <th>3211</th>\n",
              "      <td>1489</td>\n",
              "      <td>11</td>\n",
              "      <td>0</td>\n",
              "      <td>20</td>\n",
              "      <td>18</td>\n",
              "      <td>1</td>\n",
              "      <td>Санкт-Петербург</td>\n",
              "      <td>50</td>\n",
              "      <td>15360</td>\n",
              "      <td>500</td>\n",
              "      <td>550</td>\n",
              "      <td>200</td>\n",
              "      <td>3</td>\n",
              "      <td>3</td>\n",
              "      <td>smart</td>\n",
              "      <td>15</td>\n",
              "    </tr>\n",
              "    <tr>\n",
              "      <th>3212</th>\n",
              "      <td>1489</td>\n",
              "      <td>12</td>\n",
              "      <td>0</td>\n",
              "      <td>35</td>\n",
              "      <td>17</td>\n",
              "      <td>1</td>\n",
              "      <td>Санкт-Петербург</td>\n",
              "      <td>50</td>\n",
              "      <td>15360</td>\n",
              "      <td>500</td>\n",
              "      <td>550</td>\n",
              "      <td>200</td>\n",
              "      <td>3</td>\n",
              "      <td>3</td>\n",
              "      <td>smart</td>\n",
              "      <td>15</td>\n",
              "    </tr>\n",
              "    <tr>\n",
              "      <th>3213</th>\n",
              "      <td>1476</td>\n",
              "      <td>4</td>\n",
              "      <td>0</td>\n",
              "      <td>0</td>\n",
              "      <td>1</td>\n",
              "      <td>2</td>\n",
              "      <td>Москва</td>\n",
              "      <td>1000</td>\n",
              "      <td>30720</td>\n",
              "      <td>3000</td>\n",
              "      <td>1950</td>\n",
              "      <td>150</td>\n",
              "      <td>1</td>\n",
              "      <td>1</td>\n",
              "      <td>ultra</td>\n",
              "      <td>30</td>\n",
              "    </tr>\n",
              "  </tbody>\n",
              "</table>\n",
              "<p>3214 rows × 16 columns</p>\n",
              "</div>"
            ],
            "text/plain": [
              "      user_id  month  calls_duration  message_count  traffic tariff  \\\n",
              "0        1000      5             159             22        3      2   \n",
              "1        1000      6             172             60       23      2   \n",
              "2        1000      7             340             75       14      2   \n",
              "3        1000      8             408             81       14      2   \n",
              "4        1000      9             466             57       15      2   \n",
              "...       ...    ...             ...            ...      ...    ...   \n",
              "3209     1489      9               0             32       17      1   \n",
              "3210     1489     10               0             21       20      1   \n",
              "3211     1489     11               0             20       18      1   \n",
              "3212     1489     12               0             35       17      1   \n",
              "3213     1476      4               0              0        1      2   \n",
              "\n",
              "                 city  messages_included  mb_per_month_included  \\\n",
              "0           Краснодар               1000                  30720   \n",
              "1           Краснодар               1000                  30720   \n",
              "2           Краснодар               1000                  30720   \n",
              "3           Краснодар               1000                  30720   \n",
              "4           Краснодар               1000                  30720   \n",
              "...               ...                ...                    ...   \n",
              "3209  Санкт-Петербург                 50                  15360   \n",
              "3210  Санкт-Петербург                 50                  15360   \n",
              "3211  Санкт-Петербург                 50                  15360   \n",
              "3212  Санкт-Петербург                 50                  15360   \n",
              "3213           Москва               1000                  30720   \n",
              "\n",
              "      minutes_included  rub_monthly_fee  rub_per_gb  rub_per_message  \\\n",
              "0                 3000             1950         150                1   \n",
              "1                 3000             1950         150                1   \n",
              "2                 3000             1950         150                1   \n",
              "3                 3000             1950         150                1   \n",
              "4                 3000             1950         150                1   \n",
              "...                ...              ...         ...              ...   \n",
              "3209               500              550         200                3   \n",
              "3210               500              550         200                3   \n",
              "3211               500              550         200                3   \n",
              "3212               500              550         200                3   \n",
              "3213              3000             1950         150                1   \n",
              "\n",
              "      rub_per_minute tariff_name  gb_per_month_included  \n",
              "0                  1       ultra                     30  \n",
              "1                  1       ultra                     30  \n",
              "2                  1       ultra                     30  \n",
              "3                  1       ultra                     30  \n",
              "4                  1       ultra                     30  \n",
              "...              ...         ...                    ...  \n",
              "3209               3       smart                     15  \n",
              "3210               3       smart                     15  \n",
              "3211               3       smart                     15  \n",
              "3212               3       smart                     15  \n",
              "3213               1       ultra                     30  \n",
              "\n",
              "[3214 rows x 16 columns]"
            ]
          },
          "metadata": {}
        }
      ]
    },
    {
      "cell_type": "markdown",
      "source": "Для того, чтобы рассчитать, сколько выручки было получено с каждого клиента, воспользуемся формулой из условий проекта: \n- вычтем бесплатный лимит из суммарного количества звонков, сообщений и интернет-трафика; \n- остаток умножим на значение из тарифного плана; \n- прибавим абонентскую плату, соответствующую тарифному плану.\nПрименим эту формулу в рамках функции revenue_total",
      "metadata": {}
    },
    {
      "cell_type": "code",
      "source": "def revenue_total(row):\n    personal_revenue = row['rub_monthly_fee']\n    if row['calls_duration'] > row['minutes_included']:\n        personal_revenue += (row['calls_duration'] - row['minutes_included']) * row['rub_per_minute']\n    if row['message_count'] > row['messages_included']:\n        personal_revenue += (row['message_count'] - row['messages_included']) * row['rub_per_message']\n    if row['traffic'] > row['gb_per_month_included']:\n        personal_revenue += (row['traffic'] - row['gb_per_month_included']) * row['rub_per_gb']\n    return personal_revenue\n\nrevenue['personal_revenue'] = revenue.apply(revenue_total, axis=1)\ndisplay(revenue.head(10))",
      "metadata": {},
      "execution_count": 53,
      "outputs": [
        {
          "output_type": "display_data",
          "data": {
            "text/html": [
              "<div>\n",
              "<style scoped>\n",
              "    .dataframe tbody tr th:only-of-type {\n",
              "        vertical-align: middle;\n",
              "    }\n",
              "\n",
              "    .dataframe tbody tr th {\n",
              "        vertical-align: top;\n",
              "    }\n",
              "\n",
              "    .dataframe thead th {\n",
              "        text-align: right;\n",
              "    }\n",
              "</style>\n",
              "<table border=\"1\" class=\"dataframe\">\n",
              "  <thead>\n",
              "    <tr style=\"text-align: right;\">\n",
              "      <th></th>\n",
              "      <th>user_id</th>\n",
              "      <th>month</th>\n",
              "      <th>calls_duration</th>\n",
              "      <th>message_count</th>\n",
              "      <th>traffic</th>\n",
              "      <th>tariff</th>\n",
              "      <th>city</th>\n",
              "      <th>messages_included</th>\n",
              "      <th>mb_per_month_included</th>\n",
              "      <th>minutes_included</th>\n",
              "      <th>rub_monthly_fee</th>\n",
              "      <th>rub_per_gb</th>\n",
              "      <th>rub_per_message</th>\n",
              "      <th>rub_per_minute</th>\n",
              "      <th>tariff_name</th>\n",
              "      <th>gb_per_month_included</th>\n",
              "      <th>personal_revenue</th>\n",
              "    </tr>\n",
              "  </thead>\n",
              "  <tbody>\n",
              "    <tr>\n",
              "      <th>0</th>\n",
              "      <td>1000</td>\n",
              "      <td>5</td>\n",
              "      <td>159</td>\n",
              "      <td>22</td>\n",
              "      <td>3</td>\n",
              "      <td>2</td>\n",
              "      <td>Краснодар</td>\n",
              "      <td>1000</td>\n",
              "      <td>30720</td>\n",
              "      <td>3000</td>\n",
              "      <td>1950</td>\n",
              "      <td>150</td>\n",
              "      <td>1</td>\n",
              "      <td>1</td>\n",
              "      <td>ultra</td>\n",
              "      <td>30</td>\n",
              "      <td>1950</td>\n",
              "    </tr>\n",
              "    <tr>\n",
              "      <th>1</th>\n",
              "      <td>1000</td>\n",
              "      <td>6</td>\n",
              "      <td>172</td>\n",
              "      <td>60</td>\n",
              "      <td>23</td>\n",
              "      <td>2</td>\n",
              "      <td>Краснодар</td>\n",
              "      <td>1000</td>\n",
              "      <td>30720</td>\n",
              "      <td>3000</td>\n",
              "      <td>1950</td>\n",
              "      <td>150</td>\n",
              "      <td>1</td>\n",
              "      <td>1</td>\n",
              "      <td>ultra</td>\n",
              "      <td>30</td>\n",
              "      <td>1950</td>\n",
              "    </tr>\n",
              "    <tr>\n",
              "      <th>2</th>\n",
              "      <td>1000</td>\n",
              "      <td>7</td>\n",
              "      <td>340</td>\n",
              "      <td>75</td>\n",
              "      <td>14</td>\n",
              "      <td>2</td>\n",
              "      <td>Краснодар</td>\n",
              "      <td>1000</td>\n",
              "      <td>30720</td>\n",
              "      <td>3000</td>\n",
              "      <td>1950</td>\n",
              "      <td>150</td>\n",
              "      <td>1</td>\n",
              "      <td>1</td>\n",
              "      <td>ultra</td>\n",
              "      <td>30</td>\n",
              "      <td>1950</td>\n",
              "    </tr>\n",
              "    <tr>\n",
              "      <th>3</th>\n",
              "      <td>1000</td>\n",
              "      <td>8</td>\n",
              "      <td>408</td>\n",
              "      <td>81</td>\n",
              "      <td>14</td>\n",
              "      <td>2</td>\n",
              "      <td>Краснодар</td>\n",
              "      <td>1000</td>\n",
              "      <td>30720</td>\n",
              "      <td>3000</td>\n",
              "      <td>1950</td>\n",
              "      <td>150</td>\n",
              "      <td>1</td>\n",
              "      <td>1</td>\n",
              "      <td>ultra</td>\n",
              "      <td>30</td>\n",
              "      <td>1950</td>\n",
              "    </tr>\n",
              "    <tr>\n",
              "      <th>4</th>\n",
              "      <td>1000</td>\n",
              "      <td>9</td>\n",
              "      <td>466</td>\n",
              "      <td>57</td>\n",
              "      <td>15</td>\n",
              "      <td>2</td>\n",
              "      <td>Краснодар</td>\n",
              "      <td>1000</td>\n",
              "      <td>30720</td>\n",
              "      <td>3000</td>\n",
              "      <td>1950</td>\n",
              "      <td>150</td>\n",
              "      <td>1</td>\n",
              "      <td>1</td>\n",
              "      <td>ultra</td>\n",
              "      <td>30</td>\n",
              "      <td>1950</td>\n",
              "    </tr>\n",
              "    <tr>\n",
              "      <th>5</th>\n",
              "      <td>1000</td>\n",
              "      <td>10</td>\n",
              "      <td>350</td>\n",
              "      <td>73</td>\n",
              "      <td>15</td>\n",
              "      <td>2</td>\n",
              "      <td>Краснодар</td>\n",
              "      <td>1000</td>\n",
              "      <td>30720</td>\n",
              "      <td>3000</td>\n",
              "      <td>1950</td>\n",
              "      <td>150</td>\n",
              "      <td>1</td>\n",
              "      <td>1</td>\n",
              "      <td>ultra</td>\n",
              "      <td>30</td>\n",
              "      <td>1950</td>\n",
              "    </tr>\n",
              "    <tr>\n",
              "      <th>6</th>\n",
              "      <td>1000</td>\n",
              "      <td>11</td>\n",
              "      <td>338</td>\n",
              "      <td>58</td>\n",
              "      <td>15</td>\n",
              "      <td>2</td>\n",
              "      <td>Краснодар</td>\n",
              "      <td>1000</td>\n",
              "      <td>30720</td>\n",
              "      <td>3000</td>\n",
              "      <td>1950</td>\n",
              "      <td>150</td>\n",
              "      <td>1</td>\n",
              "      <td>1</td>\n",
              "      <td>ultra</td>\n",
              "      <td>30</td>\n",
              "      <td>1950</td>\n",
              "    </tr>\n",
              "    <tr>\n",
              "      <th>7</th>\n",
              "      <td>1000</td>\n",
              "      <td>12</td>\n",
              "      <td>333</td>\n",
              "      <td>70</td>\n",
              "      <td>10</td>\n",
              "      <td>2</td>\n",
              "      <td>Краснодар</td>\n",
              "      <td>1000</td>\n",
              "      <td>30720</td>\n",
              "      <td>3000</td>\n",
              "      <td>1950</td>\n",
              "      <td>150</td>\n",
              "      <td>1</td>\n",
              "      <td>1</td>\n",
              "      <td>ultra</td>\n",
              "      <td>30</td>\n",
              "      <td>1950</td>\n",
              "    </tr>\n",
              "    <tr>\n",
              "      <th>8</th>\n",
              "      <td>1001</td>\n",
              "      <td>11</td>\n",
              "      <td>430</td>\n",
              "      <td>0</td>\n",
              "      <td>18</td>\n",
              "      <td>1</td>\n",
              "      <td>Москва</td>\n",
              "      <td>50</td>\n",
              "      <td>15360</td>\n",
              "      <td>500</td>\n",
              "      <td>550</td>\n",
              "      <td>200</td>\n",
              "      <td>3</td>\n",
              "      <td>3</td>\n",
              "      <td>smart</td>\n",
              "      <td>15</td>\n",
              "      <td>1150</td>\n",
              "    </tr>\n",
              "    <tr>\n",
              "      <th>9</th>\n",
              "      <td>1001</td>\n",
              "      <td>12</td>\n",
              "      <td>414</td>\n",
              "      <td>0</td>\n",
              "      <td>14</td>\n",
              "      <td>1</td>\n",
              "      <td>Москва</td>\n",
              "      <td>50</td>\n",
              "      <td>15360</td>\n",
              "      <td>500</td>\n",
              "      <td>550</td>\n",
              "      <td>200</td>\n",
              "      <td>3</td>\n",
              "      <td>3</td>\n",
              "      <td>smart</td>\n",
              "      <td>15</td>\n",
              "      <td>550</td>\n",
              "    </tr>\n",
              "  </tbody>\n",
              "</table>\n",
              "</div>"
            ],
            "text/plain": [
              "   user_id  month  calls_duration  message_count  traffic tariff       city  \\\n",
              "0     1000      5             159             22        3      2  Краснодар   \n",
              "1     1000      6             172             60       23      2  Краснодар   \n",
              "2     1000      7             340             75       14      2  Краснодар   \n",
              "3     1000      8             408             81       14      2  Краснодар   \n",
              "4     1000      9             466             57       15      2  Краснодар   \n",
              "5     1000     10             350             73       15      2  Краснодар   \n",
              "6     1000     11             338             58       15      2  Краснодар   \n",
              "7     1000     12             333             70       10      2  Краснодар   \n",
              "8     1001     11             430              0       18      1     Москва   \n",
              "9     1001     12             414              0       14      1     Москва   \n",
              "\n",
              "   messages_included  mb_per_month_included  minutes_included  \\\n",
              "0               1000                  30720              3000   \n",
              "1               1000                  30720              3000   \n",
              "2               1000                  30720              3000   \n",
              "3               1000                  30720              3000   \n",
              "4               1000                  30720              3000   \n",
              "5               1000                  30720              3000   \n",
              "6               1000                  30720              3000   \n",
              "7               1000                  30720              3000   \n",
              "8                 50                  15360               500   \n",
              "9                 50                  15360               500   \n",
              "\n",
              "   rub_monthly_fee  rub_per_gb  rub_per_message  rub_per_minute tariff_name  \\\n",
              "0             1950         150                1               1       ultra   \n",
              "1             1950         150                1               1       ultra   \n",
              "2             1950         150                1               1       ultra   \n",
              "3             1950         150                1               1       ultra   \n",
              "4             1950         150                1               1       ultra   \n",
              "5             1950         150                1               1       ultra   \n",
              "6             1950         150                1               1       ultra   \n",
              "7             1950         150                1               1       ultra   \n",
              "8              550         200                3               3       smart   \n",
              "9              550         200                3               3       smart   \n",
              "\n",
              "   gb_per_month_included  personal_revenue  \n",
              "0                     30              1950  \n",
              "1                     30              1950  \n",
              "2                     30              1950  \n",
              "3                     30              1950  \n",
              "4                     30              1950  \n",
              "5                     30              1950  \n",
              "6                     30              1950  \n",
              "7                     30              1950  \n",
              "8                     15              1150  \n",
              "9                     15               550  "
            ]
          },
          "metadata": {}
        }
      ]
    },
    {
      "cell_type": "code",
      "source": "revenue_pivot = (revenue.pivot_table(index = 'user_id', columns = 'month', values = 'personal_revenue', aggfunc = 'first'))\ndisplay('Помесячная выручка', revenue_pivot.head())",
      "metadata": {},
      "execution_count": 54,
      "outputs": [
        {
          "output_type": "display_data",
          "data": {
            "text/plain": [
              "'Помесячная выручка'"
            ]
          },
          "metadata": {}
        },
        {
          "output_type": "display_data",
          "data": {
            "text/html": [
              "<div>\n",
              "<style scoped>\n",
              "    .dataframe tbody tr th:only-of-type {\n",
              "        vertical-align: middle;\n",
              "    }\n",
              "\n",
              "    .dataframe tbody tr th {\n",
              "        vertical-align: top;\n",
              "    }\n",
              "\n",
              "    .dataframe thead th {\n",
              "        text-align: right;\n",
              "    }\n",
              "</style>\n",
              "<table border=\"1\" class=\"dataframe\">\n",
              "  <thead>\n",
              "    <tr style=\"text-align: right;\">\n",
              "      <th>month</th>\n",
              "      <th>1</th>\n",
              "      <th>2</th>\n",
              "      <th>3</th>\n",
              "      <th>4</th>\n",
              "      <th>5</th>\n",
              "      <th>6</th>\n",
              "      <th>7</th>\n",
              "      <th>8</th>\n",
              "      <th>9</th>\n",
              "      <th>10</th>\n",
              "      <th>11</th>\n",
              "      <th>12</th>\n",
              "    </tr>\n",
              "    <tr>\n",
              "      <th>user_id</th>\n",
              "      <th></th>\n",
              "      <th></th>\n",
              "      <th></th>\n",
              "      <th></th>\n",
              "      <th></th>\n",
              "      <th></th>\n",
              "      <th></th>\n",
              "      <th></th>\n",
              "      <th></th>\n",
              "      <th></th>\n",
              "      <th></th>\n",
              "      <th></th>\n",
              "    </tr>\n",
              "  </thead>\n",
              "  <tbody>\n",
              "    <tr>\n",
              "      <th>1000</th>\n",
              "      <td>NaN</td>\n",
              "      <td>NaN</td>\n",
              "      <td>NaN</td>\n",
              "      <td>NaN</td>\n",
              "      <td>1950.0</td>\n",
              "      <td>1950.0</td>\n",
              "      <td>1950.0</td>\n",
              "      <td>1950.0</td>\n",
              "      <td>1950.0</td>\n",
              "      <td>1950.0</td>\n",
              "      <td>1950.0</td>\n",
              "      <td>1950.0</td>\n",
              "    </tr>\n",
              "    <tr>\n",
              "      <th>1001</th>\n",
              "      <td>NaN</td>\n",
              "      <td>NaN</td>\n",
              "      <td>NaN</td>\n",
              "      <td>NaN</td>\n",
              "      <td>NaN</td>\n",
              "      <td>NaN</td>\n",
              "      <td>NaN</td>\n",
              "      <td>NaN</td>\n",
              "      <td>NaN</td>\n",
              "      <td>NaN</td>\n",
              "      <td>1150.0</td>\n",
              "      <td>550.0</td>\n",
              "    </tr>\n",
              "    <tr>\n",
              "      <th>1002</th>\n",
              "      <td>NaN</td>\n",
              "      <td>NaN</td>\n",
              "      <td>NaN</td>\n",
              "      <td>NaN</td>\n",
              "      <td>NaN</td>\n",
              "      <td>550.0</td>\n",
              "      <td>1150.0</td>\n",
              "      <td>1550.0</td>\n",
              "      <td>950.0</td>\n",
              "      <td>550.0</td>\n",
              "      <td>1350.0</td>\n",
              "      <td>1150.0</td>\n",
              "    </tr>\n",
              "    <tr>\n",
              "      <th>1003</th>\n",
              "      <td>NaN</td>\n",
              "      <td>NaN</td>\n",
              "      <td>NaN</td>\n",
              "      <td>NaN</td>\n",
              "      <td>NaN</td>\n",
              "      <td>NaN</td>\n",
              "      <td>NaN</td>\n",
              "      <td>1950.0</td>\n",
              "      <td>1950.0</td>\n",
              "      <td>1950.0</td>\n",
              "      <td>1950.0</td>\n",
              "      <td>1950.0</td>\n",
              "    </tr>\n",
              "    <tr>\n",
              "      <th>1004</th>\n",
              "      <td>NaN</td>\n",
              "      <td>NaN</td>\n",
              "      <td>NaN</td>\n",
              "      <td>NaN</td>\n",
              "      <td>1950.0</td>\n",
              "      <td>1950.0</td>\n",
              "      <td>1950.0</td>\n",
              "      <td>1950.0</td>\n",
              "      <td>1950.0</td>\n",
              "      <td>1950.0</td>\n",
              "      <td>1950.0</td>\n",
              "      <td>1950.0</td>\n",
              "    </tr>\n",
              "  </tbody>\n",
              "</table>\n",
              "</div>"
            ],
            "text/plain": [
              "month    1   2   3   4       5       6       7       8       9       10  \\\n",
              "user_id                                                                   \n",
              "1000    NaN NaN NaN NaN  1950.0  1950.0  1950.0  1950.0  1950.0  1950.0   \n",
              "1001    NaN NaN NaN NaN     NaN     NaN     NaN     NaN     NaN     NaN   \n",
              "1002    NaN NaN NaN NaN     NaN   550.0  1150.0  1550.0   950.0   550.0   \n",
              "1003    NaN NaN NaN NaN     NaN     NaN     NaN  1950.0  1950.0  1950.0   \n",
              "1004    NaN NaN NaN NaN  1950.0  1950.0  1950.0  1950.0  1950.0  1950.0   \n",
              "\n",
              "month        11      12  \n",
              "user_id                  \n",
              "1000     1950.0  1950.0  \n",
              "1001     1150.0   550.0  \n",
              "1002     1350.0  1150.0  \n",
              "1003     1950.0  1950.0  \n",
              "1004     1950.0  1950.0  "
            ]
          },
          "metadata": {}
        }
      ]
    },
    {
      "cell_type": "markdown",
      "source": "###### Вывод по шагу 2",
      "metadata": {}
    },
    {
      "cell_type": "markdown",
      "source": "Данные успешно проверены на наличие пропусков и дубликатов, а также приведены к необходимым для дальнейшего исследования типам данных. \nБыли построены гистограммы, которые помогли выявить линейный рост количества используемых пакетных опций - звонков, минут разговора, сообщений, интернет-трафика.\nСделаны расчеты вышеуказанных пакетных опций для каждого отдельного клиента по месяцам.",
      "metadata": {}
    },
    {
      "cell_type": "markdown",
      "source": "## Анализ данных",
      "metadata": {}
    },
    {
      "cell_type": "markdown",
      "source": "Руководствуясь заданием из проекта, нам необходимо проанализировать поведение клиентов оператора, исходя из выборки:\n- Сколько минут разговора, сколько сообщений и какой объём интернет-трафика требуется пользователям каждого тарифа в месяц?;\n- Посчитать среднее количество, дисперсию и стандартное отклонение; \n- Построить гистограммы;\n- Описать распределения.",
      "metadata": {}
    },
    {
      "cell_type": "markdown",
      "source": "### Анализ минут разговора",
      "metadata": {}
    },
    {
      "cell_type": "markdown",
      "source": "#### Расчет статистических значений для звонков",
      "metadata": {}
    },
    {
      "cell_type": "markdown",
      "source": "Рассчитаем статистические значения для минут разговора, для этого создадим функцию stats_analysis",
      "metadata": {}
    },
    {
      "cell_type": "code",
      "source": "def stats_analysis(column, tariff):\n    #создаем отдельный датафрейм, который содержит значения только по определенному тарифу, а также учитывает все значения\n    #в рамках интересующей нас колонки column - количество минут разговора, количество сообщений и объем интернет-трафика\n    avg_by_tariff = (revenue.loc[(revenue[column] >= 0) \n                    & (revenue['tariff_name'] == tariff)].groupby('user_id')[column].agg('mean')\n                    )\n    #затем выводим поочередно среднее, дисперсию и стандартное отклонение для конкретного тарифа\n    print('Тариф', tariff)\n    print('Среднее значение', round(avg_by_tariff.mean(), 0))\n    print('Дисперсия', round(np.var(avg_by_tariff), 0))\n    print('Стандартное отклонение', round(np.sqrt(np.var(avg_by_tariff)), 0))\n    return avg_by_tariff",
      "metadata": {},
      "execution_count": 55,
      "outputs": []
    },
    {
      "cell_type": "code",
      "source": "calls_duration_smart = stats_analysis('calls_duration', 'smart')",
      "metadata": {},
      "execution_count": 56,
      "outputs": [
        {
          "name": "stdout",
          "output_type": "stream",
          "text": "Тариф smart\n\nСреднее значение 420.0\n\nДисперсия 20974.0\n\nСтандартное отклонение 145.0\n"
        }
      ]
    },
    {
      "cell_type": "code",
      "source": "calls_duration_ultra = stats_analysis('calls_duration', 'ultra')",
      "metadata": {},
      "execution_count": 57,
      "outputs": [
        {
          "name": "stdout",
          "output_type": "stream",
          "text": "Тариф ultra\n\nСреднее значение 528.0\n\nДисперсия 78867.0\n\nСтандартное отклонение 281.0\n"
        }
      ]
    },
    {
      "cell_type": "markdown",
      "source": "По результатам вычислений видим вполне очевидную картину:\n- среднее по тарифу смарт в части минут разговора меньше, чем среднее по тарифу ультра;\n- судя по стандартному отклонению, значения в тарифе смарт больше сгруппированы вокруг своего среднего, чем в тарифе ультра",
      "metadata": {}
    },
    {
      "cell_type": "markdown",
      "source": "#### Построение графиков по звонкам",
      "metadata": {}
    },
    {
      "cell_type": "code",
      "source": "calls_duration_smart.hist(bins=20)\nplt.title('Время разговора в тарифе smart')\nplt.xlabel('Время в минутах')\nplt.ylabel('Кол-во случаев')",
      "metadata": {},
      "execution_count": 58,
      "outputs": [
        {
          "execution_count": 58,
          "output_type": "execute_result",
          "data": {
            "text/plain": [
              "Text(0, 0.5, 'Кол-во случаев')"
            ]
          },
          "metadata": {}
        },
        {
          "output_type": "display_data",
          "data": {
            "image/png": "[encoded data removed]",
            "text/plain": [
              "<Figure size 432x288 with 1 Axes>"
            ]
          },
          "metadata": {
            "needs_background": "light"
          }
        }
      ]
    },
    {
      "cell_type": "code",
      "source": "calls_duration_ultra.hist(bins=20)\nplt.title('Время разговора в тарифе ultra')\nplt.xlabel('Время в минутах')\nplt.ylabel('Кол-во случаев')",
      "metadata": {},
      "execution_count": 59,
      "outputs": [
        {
          "execution_count": 59,
          "output_type": "execute_result",
          "data": {
            "text/plain": [
              "Text(0, 0.5, 'Кол-во случаев')"
            ]
          },
          "metadata": {}
        },
        {
          "output_type": "display_data",
          "data": {
            "image/png": "[encoded data removed]",
            "text/plain": [
              "<Figure size 432x288 with 1 Axes>"
            ]
          },
          "metadata": {
            "needs_background": "light"
          }
        }
      ]
    },
    {
      "cell_type": "code",
      "source": "calls_duration_smart.plot(kind = 'hist', \n                          histtype = 'step', \n                          bins=20, \n                          alpha = 0.7, \n                          linewidth = 3, \n                          grid = True,\n                          legend = True,\n                          label = 'smart')\ncalls_duration_ultra.plot(kind='hist', \n                          histtype = 'step', \n                          bins=20, \n                          alpha = 0.7, \n                          linewidth = 3, \n                          grid = True,\n                          legend = True,\n                          label='ultra')\nplt.title('Время разговора в минутах по тарифам')\nplt.xlabel('Время в минутах')\nplt.ylabel('Кол-во случаев')",
      "metadata": {},
      "execution_count": 60,
      "outputs": [
        {
          "execution_count": 60,
          "output_type": "execute_result",
          "data": {
            "text/plain": [
              "Text(0, 0.5, 'Кол-во случаев')"
            ]
          },
          "metadata": {}
        },
        {
          "output_type": "display_data",
          "data": {
            "image/png": "[encoded data removed]",
            "text/plain": [
              "<Figure size 432x288 with 1 Axes>"
            ]
          },
          "metadata": {
            "needs_background": "light"
          }
        }
      ]
    },
    {
      "cell_type": "markdown",
      "source": "На гистограммах видим, что значения в тарифе ультра немного скошены вправо, в сторону увеличения количества минут разговора, а также они более широко  распределены по оси х.",
      "metadata": {}
    },
    {
      "cell_type": "markdown",
      "source": "#### Расчет доли превышений лимита для минут разговора",
      "metadata": {}
    },
    {
      "cell_type": "markdown",
      "source": "Посмотрим, насколько часто пользователи тарифов превышают лимит минут разговора в месяц. Для этого создадим функцию, которая посчитает значение превышения",
      "metadata": {}
    },
    {
      "cell_type": "code",
      "source": "def overlimited_percent(grouped_series, limit):\n    overlimited_counter = 0\n    for i in grouped_series:\n        if i > limit:\n            overlimited_counter += 1\n    return print('Доля превышений по лимиту тарифа', \n        round(overlimited_counter * 100 / grouped_series.count(), 2), \n        '%')",
      "metadata": {},
      "execution_count": 61,
      "outputs": []
    },
    {
      "cell_type": "code",
      "source": "overlimited_percent(calls_duration_smart, 500)",
      "metadata": {},
      "execution_count": 62,
      "outputs": [
        {
          "name": "stdout",
          "output_type": "stream",
          "text": "Доля превышений по лимиту тарифа 29.14 %\n"
        }
      ]
    },
    {
      "cell_type": "code",
      "source": "overlimited_percent(calls_duration_ultra, 3000)",
      "metadata": {},
      "execution_count": 63,
      "outputs": [
        {
          "name": "stdout",
          "output_type": "stream",
          "text": "Доля превышений по лимиту тарифа 0.0 %\n"
        }
      ]
    },
    {
      "cell_type": "markdown",
      "source": "Видим, что для тарифа smart у нас превышение лимита по минутам разговора встречается более, чем в 29% случаев. Значит, нужно посоветовать провайдеру предложить этим пользователям новый тариф или оптимизировать нынешний.\nПревышений по тарифу ultra не выявлено, однако можем видеть, что очень малое количество пользователей достигает даже 1200 минут, что уж говорить про 3000. Компании, предоставляющей услуги, это выгодно. Однако можно было бы скорректировать и этот тариф в сторону уменьшения стоимости и объема предоставляемых пакетов услуг.",
      "metadata": {}
    },
    {
      "cell_type": "markdown",
      "source": "### Анализ количества сообщений",
      "metadata": {}
    },
    {
      "cell_type": "markdown",
      "source": "#### Расчет статистических значений для сообщений",
      "metadata": {}
    },
    {
      "cell_type": "markdown",
      "source": "Таким же образом проанализируем количество сообщений по каждому из тарифов",
      "metadata": {}
    },
    {
      "cell_type": "code",
      "source": "message_count_smart = stats_analysis('message_count', 'smart')",
      "metadata": {},
      "execution_count": 64,
      "outputs": [
        {
          "name": "stdout",
          "output_type": "stream",
          "text": "Тариф smart\n\nСреднее значение 32.0\n\nДисперсия 701.0\n\nСтандартное отклонение 26.0\n"
        }
      ]
    },
    {
      "cell_type": "code",
      "source": "message_count_ultra = stats_analysis('message_count', 'ultra')",
      "metadata": {},
      "execution_count": 65,
      "outputs": [
        {
          "name": "stdout",
          "output_type": "stream",
          "text": "Тариф ultra\n\nСреднее значение 54.0\n\nДисперсия 2135.0\n\nСтандартное отклонение 46.0\n"
        }
      ]
    },
    {
      "cell_type": "markdown",
      "source": "Ситуация, похожая на то, что мы видели со звонками - среднее по тарифу smart меньше, чем среднее по тарифу ultra, что логично, а также дисперсия по значениям в тарифе smart распределена ближе к среднему, чем в тарифе ultra. ",
      "metadata": {}
    },
    {
      "cell_type": "markdown",
      "source": "#### Построение графиков по сообщениям",
      "metadata": {}
    },
    {
      "cell_type": "code",
      "source": "message_count_smart.hist(bins=20)\nplt.title('Кол-во отправленных сообщений в тарифе smart')\nplt.xlabel('Кол-во сообщений')\nplt.ylabel('Кол-во случаев')",
      "metadata": {},
      "execution_count": 66,
      "outputs": [
        {
          "execution_count": 66,
          "output_type": "execute_result",
          "data": {
            "text/plain": [
              "Text(0, 0.5, 'Кол-во случаев')"
            ]
          },
          "metadata": {}
        },
        {
          "output_type": "display_data",
          "data": {
            "image/png": "[encoded data removed]",
            "text/plain": [
              "<Figure size 432x288 with 1 Axes>"
            ]
          },
          "metadata": {
            "needs_background": "light"
          }
        }
      ]
    },
    {
      "cell_type": "code",
      "source": "message_count_ultra.hist(bins=20)\nplt.title('Кол-во отправленных сообщений в тарифе smart')\nplt.xlabel('Кол-во сообщений')\nplt.ylabel('Кол-во случаев')",
      "metadata": {},
      "execution_count": 67,
      "outputs": [
        {
          "execution_count": 67,
          "output_type": "execute_result",
          "data": {
            "text/plain": [
              "Text(0, 0.5, 'Кол-во случаев')"
            ]
          },
          "metadata": {}
        },
        {
          "output_type": "display_data",
          "data": {
            "image/png": "[encoded data removed]",
            "text/plain": [
              "<Figure size 432x288 with 1 Axes>"
            ]
          },
          "metadata": {
            "needs_background": "light"
          }
        }
      ]
    },
    {
      "cell_type": "markdown",
      "source": "По графикам видим скошенность вправо, соответственно, делаем вывод, что относительно большое количество сообщений отправляет меньшее количество клиентов",
      "metadata": {}
    },
    {
      "cell_type": "code",
      "source": "message_count_smart.plot(kind = 'hist', \n                          histtype = 'step', \n                          bins=20, \n                          alpha = 0.7, \n                          linewidth = 3, \n                          grid = True,\n                          legend = True,\n                          label = 'smart')\nmessage_count_ultra.plot(kind='hist', \n                          histtype = 'step', \n                          bins=20, \n                          alpha = 0.7, \n                          linewidth = 3, \n                          grid = True,\n                          legend = True,\n                          label='ultra')\nplt.title('Кол-во отправленных сообщений по тарифам')\nplt.xlabel('Кол-во сообщений')\nplt.ylabel('Кол-во случаев')",
      "metadata": {},
      "execution_count": 68,
      "outputs": [
        {
          "execution_count": 68,
          "output_type": "execute_result",
          "data": {
            "text/plain": [
              "Text(0, 0.5, 'Кол-во случаев')"
            ]
          },
          "metadata": {}
        },
        {
          "output_type": "display_data",
          "data": {
            "image/png": "[encoded data removed]",
            "text/plain": [
              "<Figure size 432x288 with 1 Axes>"
            ]
          },
          "metadata": {
            "needs_background": "light"
          }
        }
      ]
    },
    {
      "cell_type": "markdown",
      "source": "#### Расчет доли превышений лимита для сообщений",
      "metadata": {}
    },
    {
      "cell_type": "code",
      "source": "overlimited_percent(message_count_smart, 50)",
      "metadata": {},
      "execution_count": 69,
      "outputs": [
        {
          "name": "stdout",
          "output_type": "stream",
          "text": "Доля превышений по лимиту тарифа 22.86 %\n"
        }
      ]
    },
    {
      "cell_type": "code",
      "source": "overlimited_percent(message_count_ultra, 1000)",
      "metadata": {},
      "execution_count": 70,
      "outputs": [
        {
          "name": "stdout",
          "output_type": "stream",
          "text": "Доля превышений по лимиту тарифа 0.0 %\n"
        }
      ]
    },
    {
      "cell_type": "markdown",
      "source": "Видим похожую ситуацию, как была со звонками - превышение по лимиту тарифа smart достигается 26,5% процентами пользователей, по тарифу ultra превышения не выявлено. Соответственно, есть смысл скорректировать тариф smart. Если говорить о тарифе ultra, то телеком-компании, конечно, выгодно, когда клиенты приобретают большой пакет опций и не используют его по полной. Соответственно, можно дать рекомендацию скорректировать и этот тариф в сторону уменьшения пакета услуг.",
      "metadata": {}
    },
    {
      "cell_type": "markdown",
      "source": "### Анализ объема интернет-трафика",
      "metadata": {}
    },
    {
      "cell_type": "markdown",
      "source": "#### Расчет статистических значений для интернет-трафика",
      "metadata": {}
    },
    {
      "cell_type": "markdown",
      "source": "Похожим образом проанализируем объем интернет-трафика",
      "metadata": {}
    },
    {
      "cell_type": "code",
      "source": "internet_traffic_smart = stats_analysis('traffic', 'smart')",
      "metadata": {
        "scrolled": true
      },
      "execution_count": 71,
      "outputs": [
        {
          "name": "stdout",
          "output_type": "stream",
          "text": "Тариф smart\n\nСреднее значение 16.0\n\nДисперсия 12.0\n\nСтандартное отклонение 3.0\n"
        }
      ]
    },
    {
      "cell_type": "code",
      "source": "internet_traffic_ultra = stats_analysis('traffic', 'ultra')",
      "metadata": {},
      "execution_count": 72,
      "outputs": [
        {
          "name": "stdout",
          "output_type": "stream",
          "text": "Тариф ultra\n\nСреднее значение 20.0\n\nДисперсия 65.0\n\nСтандартное отклонение 8.0\n"
        }
      ]
    },
    {
      "cell_type": "markdown",
      "source": "Видим, что средние значения не так уж сильно отличаются, а стандартное отклонение отличается более чем в 2 раза, из чего можем сделать вывод, что значения в тарифе ultra распределены намного более широко, чем в тарифе smart",
      "metadata": {}
    },
    {
      "cell_type": "markdown",
      "source": "#### Построение графиков по звонкам",
      "metadata": {}
    },
    {
      "cell_type": "code",
      "source": "internet_traffic_smart.hist(bins=20)\nplt.title('Кол-во отправленных мегабайт в тарифе smart')\nplt.xlabel('Кол-во сообщений')\nplt.ylabel('Кол-во случаев')",
      "metadata": {},
      "execution_count": 73,
      "outputs": [
        {
          "execution_count": 73,
          "output_type": "execute_result",
          "data": {
            "text/plain": [
              "Text(0, 0.5, 'Кол-во случаев')"
            ]
          },
          "metadata": {}
        },
        {
          "output_type": "display_data",
          "data": {
            "image/png": "[encoded data removed]",
            "text/plain": [
              "<Figure size 432x288 with 1 Axes>"
            ]
          },
          "metadata": {
            "needs_background": "light"
          }
        }
      ]
    },
    {
      "cell_type": "code",
      "source": "internet_traffic_ultra.hist(bins=20)\nplt.title('Кол-во отправленных мегабайт в тарифе smart')\nplt.xlabel('Кол-во сообщений')\nplt.ylabel('Кол-во случаев')",
      "metadata": {},
      "execution_count": 74,
      "outputs": [
        {
          "execution_count": 74,
          "output_type": "execute_result",
          "data": {
            "text/plain": [
              "Text(0, 0.5, 'Кол-во случаев')"
            ]
          },
          "metadata": {}
        },
        {
          "output_type": "display_data",
          "data": {
            "image/png": "[encoded data removed]",
            "text/plain": [
              "<Figure size 432x288 with 1 Axes>"
            ]
          },
          "metadata": {
            "needs_background": "light"
          }
        }
      ]
    },
    {
      "cell_type": "markdown",
      "source": "На графиках видим, что у тарифа smart присутствует скошенность влево, а значения тарифа ultra распределены относительно равномерно",
      "metadata": {}
    },
    {
      "cell_type": "code",
      "source": "internet_traffic_smart.plot(kind = 'hist', \n                          histtype = 'step', \n                          bins=20, \n                          alpha = 0.7, \n                          linewidth = 3, \n                          grid = True,\n                          legend = True,\n                          label = 'smart')\ninternet_traffic_ultra.plot(kind='hist', \n                          histtype = 'step', \n                          bins=20, \n                          alpha = 0.7, \n                          linewidth = 3,\n                          grid = True,\n                          legend = True,\n                          label='ultra')\nplt.title('Объем трафика по тарифам')\nplt.xlabel('Объем в гб')\nplt.ylabel('Кол-во случаев')",
      "metadata": {},
      "execution_count": 75,
      "outputs": [
        {
          "execution_count": 75,
          "output_type": "execute_result",
          "data": {
            "text/plain": [
              "Text(0, 0.5, 'Кол-во случаев')"
            ]
          },
          "metadata": {}
        },
        {
          "output_type": "display_data",
          "data": {
            "image/png": "[encoded data removed]",
            "text/plain": [
              "<Figure size 432x288 with 1 Axes>"
            ]
          },
          "metadata": {
            "needs_background": "light"
          }
        }
      ]
    },
    {
      "cell_type": "markdown",
      "source": "#### Расчет доли превышений лимита для интернет-трафика",
      "metadata": {}
    },
    {
      "cell_type": "code",
      "source": "overlimited_percent(internet_traffic_smart, 15)",
      "metadata": {},
      "execution_count": 76,
      "outputs": [
        {
          "name": "stdout",
          "output_type": "stream",
          "text": "Доля превышений по лимиту тарифа 66.57 %\n"
        }
      ]
    },
    {
      "cell_type": "code",
      "source": "overlimited_percent(internet_traffic_ultra, 30)",
      "metadata": {},
      "execution_count": 77,
      "outputs": [
        {
          "name": "stdout",
          "output_type": "stream",
          "text": "Доля превышений по лимиту тарифа 12.84 %\n"
        }
      ]
    },
    {
      "cell_type": "markdown",
      "source": "При анализе объема интернет-трафика, используемого клиентами, видим, что по тарифу smart превышение лимита зафиксировано в 66,5% случаев, что означает, что объем трафика в пакете услуг по тарифу smart нужно увеличивать, на мой взгляд, до 22-25 тыс. мегабайт. \nЧто касается тарифа ultra, то мы видим, что есть превышение на 12,8%, это не так критично, но можно тоже подумать о том, чтобы увеличить лимит в пакете услуг",
      "metadata": {}
    },
    {
      "cell_type": "markdown",
      "source": "### Анализ выручки по тарифам",
      "metadata": {}
    },
    {
      "cell_type": "markdown",
      "source": "Построим графики, на которых будет видно различие в выручке между тарифами smart и ultra. А также посмотрим, какова доля переплат в каждом из тарифов",
      "metadata": {}
    },
    {
      "cell_type": "code",
      "source": "sns.lineplot(data = revenue.loc[revenue['tariff_name'] == 'smart'], \n            x = 'month', y = 'personal_revenue',\n            label = 'smart', \n            estimator='mean')\nsns.lineplot(data = revenue.loc[revenue['tariff_name'] == 'ultra'], \n            x = 'month', y = 'personal_revenue',\n            label = 'ultra', \n            estimator='mean')\nplt.xlabel('месяц')\nplt.ylabel('выручка')\nplt.title('Средняя выручка с клиентов по месяцам')\nplt.grid()\nplt.legend()",
      "metadata": {},
      "execution_count": 78,
      "outputs": [
        {
          "execution_count": 78,
          "output_type": "execute_result",
          "data": {
            "text/plain": [
              "<matplotlib.legend.Legend at 0x7f583cf826a0>"
            ]
          },
          "metadata": {}
        },
        {
          "output_type": "display_data",
          "data": {
            "image/png": "[encoded data removed]",
            "text/plain": [
              "<Figure size 432x288 with 1 Axes>"
            ]
          },
          "metadata": {
            "needs_background": "light"
          }
        }
      ]
    },
    {
      "cell_type": "code",
      "source": "sns.lineplot(x='month', \n             y=(revenue['personal_revenue'] - revenue['rub_monthly_fee']) / revenue['personal_revenue'], \n             data=revenue, \n             hue='tariff_name',\n             estimator='mean')\nplt.title('Доля переплат в выручке с пользователя по месяцам')\nplt.xlabel('месяц')\nplt.ylabel('доля переплат')\nplt.grid()\nplt.legend()",
      "metadata": {},
      "execution_count": 79,
      "outputs": [
        {
          "execution_count": 79,
          "output_type": "execute_result",
          "data": {
            "text/plain": [
              "<matplotlib.legend.Legend at 0x7f583d9dd4c0>"
            ]
          },
          "metadata": {}
        },
        {
          "output_type": "display_data",
          "data": {
            "image/png": "[encoded data removed]",
            "text/plain": [
              "<Figure size 432x288 with 1 Axes>"
            ]
          },
          "metadata": {
            "needs_background": "light"
          }
        }
      ]
    },
    {
      "cell_type": "markdown",
      "source": "Опираясь на распределение на графиках, мы можем отметить несколько моментов:\n- тариф smart хоть и дешевле, но имеет недостаточно объемный пакет услуг, чтобы удовлетворить всех пользователей, вследствие чего случаются переплаты по тарифу, и они достигают 50%;\n- тариф ultra дороже, но имеет сравнительно большой объем пакета услуг, вследствие чего переплат по данному тарифу практически не случается;\n- на графике, где отображена доля переплат, мы видим, что по тарифу smart доля переплат растет с каждым месяцем и с начальных 10% достигает 50% через год, что является показателем не совсем оптимального тарифа;\n- исходя из всех данных, которые мы получили в результате 2 и 3 шагов исследования, можем сделать вывод, что тариф ultra более оптимален для продвижения.",
      "metadata": {}
    },
    {
      "cell_type": "markdown",
      "source": "###### Вывод по шагу 3",
      "metadata": {}
    },
    {
      "cell_type": "markdown",
      "source": "Данные, полученные в результате выполнения 2 шага, успешно проанализированы, для них были рассчитаны среднее, дисперсия и стандартное отклонение.\nБыло определено, что большое количество пользователей тарифа smart(к двенадцатому месяцу показатель достиг 50%) совершают переплаты, что говорит нам о необходимости изменения или оптимизации тарифа smart, по тарифу ultra такого замечено не было, переплаты по этому тарифу совершаются редко (до 5% случаев). Возможно, есть смысл рассмотреть введение промежуточного между smart и ultra тарифа.\nПо итогу, можно сказать, что тариф ultra более оптимален для продвижения.",
      "metadata": {}
    },
    {
      "cell_type": "markdown",
      "source": "## Проверка гипотез",
      "metadata": {}
    },
    {
      "cell_type": "markdown",
      "source": "### Средняя выручка пользователей тарифов «Ультра» и «Смарт»",
      "metadata": {}
    },
    {
      "cell_type": "markdown",
      "source": "- Проверим гипотезу:\n \"Средняя выручка пользователей тарифов «Ультра» и «Смарт» различается\"\n- Для начала сформулируем нулевую гипотезу H0:\n\"Средняя выручка пользователей тарифа «Ультра» равна средней выручке пользователей тарифа «Смарт»\"\n- Сформулируем альтернативную гипотезу H1:\n\"Средняя выручка пользователей тарифа «Ультра» не равна средней выручке пользователей тарифа «Смарт»\"\n- Определим уровень значимости alpha = 0.05\n- Выборки по клиентам тарифов «Ультра» и «Смарт» не связаны друг с другом. Для расчёта статистики разности и p-value будем использовать функцию st.ttest_ind",
      "metadata": {}
    },
    {
      "cell_type": "markdown",
      "source": "<font color='DarkBlue'><b>Комментарий ревьюера</b></font><br>\n<font color='DarkGreen'>👌 Хорошо, правильно сформулированы гипотезы.</font>",
      "metadata": {}
    },
    {
      "cell_type": "code",
      "source": "revenue_smart = (revenue\n                .loc[revenue['tariff_name'] == 'smart']   # срез данных по тарифу smart\n                .groupby('user_id')['personal_revenue']   # сгруппируем данные по пользователям\n                .agg('mean')                              # посчитаем среднюю месячную выручку с каждого пользователя\n                )\nrevenue_ultra = (revenue\n                .loc[revenue['tariff_name'] == 'ultra']   # срез данных по тарифу smart\n                .groupby('user_id')['personal_revenue']   # сгруппируем данные по пользователям\n                .agg('mean')                              # посчитаем среднюю месячную выручку с каждого пользователя\n                )\nresults = st.ttest_ind(revenue_smart, revenue_ultra, equal_var=False) # считаем дисперсии выборок разными\nprint('p-value:', results.pvalue)",
      "metadata": {},
      "execution_count": 80,
      "outputs": [
        {
          "name": "stdout",
          "output_type": "stream",
          "text": "p-value: 2.084961899583595e-59\n"
        }
      ]
    },
    {
      "cell_type": "code",
      "source": "revenue_smart1 = revenue.loc[revenue['tariff_name'] == 'smart'].pivot_table(\n    values='personal_revenue', \n    index='user_id', \n    columns='month'\n)\nrevenue_ultra1 = revenue.loc[revenue['tariff_name'] == 'ultra'].pivot_table(\n    values='personal_revenue', \n    index='user_id', \n    columns='month'\n)\nresults1 = st.ttest_ind(revenue_smart1, revenue_ultra1, equal_var=False) # считаем дисперсии выборок разными\nprint('p-value:', results1.pvalue)",
      "metadata": {},
      "execution_count": 81,
      "outputs": [
        {
          "name": "stdout",
          "output_type": "stream",
          "text": "p-value: [nan nan nan nan nan nan nan nan nan nan nan nan]\n"
        }
      ]
    },
    {
      "cell_type": "code",
      "source": "revenue_smart2 = revenue[revenue['tariff_name'] == 'smart']['personal_revenue']\nrevenue_ultra2 = revenue[revenue['tariff_name'] == 'ultra']['personal_revenue']\nresults2 = st.ttest_ind(revenue_smart2, revenue_ultra2, equal_var=False) # считаем дисперсии выборок разными\nprint('p-value:', results2.pvalue)",
      "metadata": {},
      "execution_count": 82,
      "outputs": [
        {
          "name": "stdout",
          "output_type": "stream",
          "text": "p-value: 4.2606313931076085e-250\n"
        }
      ]
    },
    {
      "cell_type": "markdown",
      "source": "Видим, что значение p-value близится к нулю и оно явно меньше alpha = 0.05, что говорит нам о том, что нулевая гипотеза H0 крайне маловероятна. Мы ее отвергаем в пользу альтернативной гипотезы H1.\nСредняя выручка пользователей тарифа smart не равна средней выручке пользователей тарифа ultra.",
      "metadata": {}
    },
    {
      "cell_type": "markdown",
      "source": "Попробуем сравнить вручную",
      "metadata": {}
    },
    {
      "cell_type": "code",
      "source": "print('Средняя выручка пользователей по тарифу smart:', round(revenue_smart2.mean(), 2))\nprint('Средняя выручка пользователей по тарифу ultra:', round(revenue_ultra2.mean(), 2))",
      "metadata": {},
      "execution_count": 83,
      "outputs": [
        {
          "name": "stdout",
          "output_type": "stream",
          "text": "Средняя выручка пользователей по тарифу smart: 1289.97\n\nСредняя выручка пользователей по тарифу ultra: 2070.15\n"
        }
      ]
    },
    {
      "cell_type": "markdown",
      "source": "Видим, что разница, действительно, существенная.",
      "metadata": {}
    },
    {
      "cell_type": "markdown",
      "source": "### Средняя выручка пользователей из Москвы и других регионов",
      "metadata": {}
    },
    {
      "cell_type": "code",
      "source": "",
      "metadata": {},
      "execution_count": null,
      "outputs": []
    },
    {
      "cell_type": "markdown",
      "source": "- Проверим гипотезу:\n\"Средняя выручка пользователей из Москвы отличается от выручки пользователей из других регионов\"\n- Для начала сформулируем нулевую гипотезу H0:\n\"Средняя выручка пользователей из Москвы равна средней выручке пользователей из других регионов\"\n- Сформулируем альтернативную гипотезу H1:\n\"Средняя выручка пользователей из Москвы не равна средней выручке пользователей из других регионов\"\n- Определим уровень значимости alpha = 0.05\n- Выборки по клиентам из Москвы и других регионов не связаны друг с другом. Для расчёта статистики разности и p-value будем использовать функцию st.ttest_ind",
      "metadata": {}
    },
    {
      "cell_type": "code",
      "source": "revenue_moscow = (revenue\n                .query('city == \"Москва\"')                 # срез данных по региону Москва\n                .groupby('user_id')['personal_revenue']             # сгруппируем данные по пользователям\n                .agg('mean')                               # посчитаем среднюю месячную выручку с каждого пользователя\n                )\nrevenue_other = (revenue\n                .query('city != \"Москва\"')                 # срез данных по региону \"не Москва\"\n                .groupby('user_id')['personal_revenue']             # сгруппируем данные по пользователям\n                .agg('mean')                               # посчитаем среднюю месячную выручку с каждого пользователя\n                )\nresults = st.ttest_ind(revenue_moscow, revenue_other, equal_var=False) # считаем дисперсии выборок разными\nprint('p-value:', results.pvalue)",
      "metadata": {},
      "execution_count": 84,
      "outputs": [
        {
          "name": "stdout",
          "output_type": "stream",
          "text": "p-value: 0.3443090581027025\n"
        }
      ]
    },
    {
      "cell_type": "code",
      "source": "revenue_moscow1 = revenue[revenue['city'] == 'Москва']['personal_revenue']\nrevenue_other1 = revenue[revenue['city'] != 'Москва']['personal_revenue']\nresults_city_1 = st.ttest_ind(revenue_moscow1, revenue_other1, equal_var=False) # считаем дисперсии выборок разными\nprint('p-value:', results_city_1.pvalue)",
      "metadata": {},
      "execution_count": 85,
      "outputs": [
        {
          "name": "stdout",
          "output_type": "stream",
          "text": "p-value: 0.5257376663729298\n"
        }
      ]
    },
    {
      "cell_type": "markdown",
      "source": "Видим, что p-value > alpha = 0.05, что означает, что у нас не так много оснований отвергать нулевую гипотезу H0.\nИз этого делаем вывод, что средняя выручка по пользователям из Москвы равна средней выручке по пользователям из других регионов.",
      "metadata": {}
    },
    {
      "cell_type": "markdown",
      "source": "Проверим вручную",
      "metadata": {}
    },
    {
      "cell_type": "code",
      "source": "print('Средняя выручка пользователей по тарифу smart:', round(revenue_moscow1.mean(), 2))\nprint('Средняя выручка пользователей по тарифу ultra:', round(revenue_other1.mean(), 2))",
      "metadata": {},
      "execution_count": 86,
      "outputs": [
        {
          "name": "stdout",
          "output_type": "stream",
          "text": "Средняя выручка пользователей по тарифу smart: 1546.71\n\nСредняя выручка пользователей по тарифу ultra: 1524.94\n"
        }
      ]
    },
    {
      "cell_type": "markdown",
      "source": "Видим, что разницы практически нет.",
      "metadata": {}
    },
    {
      "cell_type": "markdown",
      "source": "###### Вывод по шагу 4",
      "metadata": {}
    },
    {
      "cell_type": "markdown",
      "source": "Таким образом, мы можем сказать, что:\n- средняя выручка пользователей тарифа smart не равна средней выручке пользователей тарифа ultra. Более того, выручка по тарифу ultra значительно выше;\n- средняя выручка по пользователям из Москвы равна средней выручке по пользователям из других регионов",
      "metadata": {}
    },
    {
      "cell_type": "markdown",
      "source": "## Общий вывод",
      "metadata": {}
    },
    {
      "cell_type": "markdown",
      "source": "1) Все таблицы благополучно открыты и проверены на предмет наличия в них данных, а также проверены методом describe, чтобы сразу получить информацию о содержимом.\n\n2) Данные успешно проверены на наличие пропусков и дубликатов, а также приведены к необходимым для дальнейшего исследования типам данных. \nБыли построены гистограммы, которые помогли выявить линейный рост количества используемых пакетных опций - звонков, минут разговора, сообщений, интернет-трафика.\nСделаны расчеты вышеуказанных пакетных опций для каждого отдельного клиента по месяцам.\n\n3) Данные, полученные в результате выполнения 2 шага, успешно проанализированы, для них были рассчитаны среднее, дисперсия и стандартное отклонение.\nБыло определено, что большое количество пользователей тарифа smart(к двенадцатому месяцу показатель достиг 50%) совершают переплаты, что говорит нам о необходимости изменения или оптимизации тарифа smart, по тарифу ultra такого замечено не было, переплаты по этому тарифу совершаются редко (до 5% случаев). Возможно, есть смысл рассмотреть введение промежуточного между smart и ultra тарифа.\nПо итогу, можно сказать, что тариф ultra более оптимален для продвижения.\n\n4) Средняя выручка пользователей тарифа smart не равна средней выручке пользователей тарифа ultra. Более того, выручка по тарифу ultra значительно выше. \nСредняя выручка по пользователям из Москвы равна средней выручке по пользователям из других регионов\n\nКак итог, можно сказать, что:\n- анализ данных по пользователям тарифа smart позволяет нам сделать вывод, что данный тариф нужно либо оставить так, как есть и добавить еще один, промежуточный между smart и ultra, либо расширить объем пакета опций;\n- анализ данных по пользователей тарифа smart показал нам, что этот тариф приносит в среднем больше выручки с клиента, для компании иметь такой тариф выгодно, т.к. многие пользователи не используют весь объем пакета опций, однако стоит задуматься о том, что не всем пользователям нужен такой большой объем пакета опций.",
      "metadata": {}
    }
  ]
}
