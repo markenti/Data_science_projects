{
 "cells": [
  {
   "cell_type": "markdown",
   "metadata": {},
   "source": [
    "# Проект по теме \"Введение в машинное обучение\""
   ]
  },
  {
   "cell_type": "markdown",
   "metadata": {},
   "source": [
    "# Поиск и выбор модели для рекомендации подходящего тарифа сотовой связи"
   ]
  },
  {
   "cell_type": "markdown",
   "metadata": {},
   "source": [
    "В вашем распоряжении данные о поведении клиентов, которые уже перешли на эти тарифы (из проекта курса «Статистический анализ данных»). Нужно построить модель для задачи классификации, которая выберет подходящий тариф. Предобработка данных не понадобится — вы её уже сделали.\n",
    "\n",
    "Постройте модель с максимально большим значением *accuracy*. Чтобы сдать проект успешно, нужно довести долю правильных ответов по крайней мере до 0.75. Проверьте *accuracy* на тестовой выборке самостоятельно."
   ]
  },
  {
   "cell_type": "markdown",
   "metadata": {},
   "source": [
    "**Цели и задачи:** \n",
    "- Построить модель для задачи классификации, которая выберет подходящий тариф\n",
    "- Постройте модель с максимально большим значением accuracy (не менее 0.75). \n",
    "- Проверьте accuracy на тестовой выборке самостоятельно."
   ]
  },
  {
   "cell_type": "markdown",
   "metadata": {},
   "source": [
    "Каждый объект в наборе данных — это информация о поведении одного пользователя за месяц.\n",
    "<br/>**Описание данных:**\n",
    "- сalls — количество звонков,\n",
    "- minutes — суммарная длительность звонков в минутах,\n",
    "- messages — количество sms-сообщений,\n",
    "- mb_used — израсходованный интернет-трафик в Мб,\n",
    "- is_ultra — каким тарифом пользовался в течение месяца («Ультра» — 1, «Смарт» — 0)."
   ]
  },
  {
   "cell_type": "markdown",
   "metadata": {},
   "source": [
    "## Откройте и изучите файл"
   ]
  },
  {
   "cell_type": "markdown",
   "metadata": {},
   "source": [
    "Подключаем библиотеки:\n",
    "\n",
    "- pandas - для работы с таблицами\n",
    "- seaborn и matplotlib - для визуализации данных\n",
    "- sklearn - инструменты машинного обучения (модели классификации, метрики для исследования качества моделей, разделение данных на тренировочные, валидационные, тестовые выборки)"
   ]
  },
  {
   "cell_type": "code",
   "execution_count": 90,
   "metadata": {},
   "outputs": [],
   "source": [
    "import pandas as pd\n",
    "import numpy as np\n",
    "import matplotlib.pyplot as plt\n",
    "import seaborn as sns\n",
    "from sklearn.model_selection import train_test_split\n",
    "from sklearn.tree import DecisionTreeClassifier\n",
    "from sklearn.linear_model import LogisticRegression\n",
    "from sklearn.ensemble import RandomForestClassifier\n",
    "from sklearn.metrics import accuracy_score"
   ]
  },
  {
   "cell_type": "markdown",
   "metadata": {},
   "source": [
    "Загрузим данные из файла users_behavior.csv, выведем первые 10 строк таблицы для первого взгляда на данные.\n",
    "Также с помощью метода info() изучим структуру таблицы: типы данных, количество строк, столбцов, пропущенных данных."
   ]
  },
  {
   "cell_type": "code",
   "execution_count": 91,
   "metadata": {
    "scrolled": false
   },
   "outputs": [
    {
     "data": {
      "text/html": [
       "<div>\n",
       "<style scoped>\n",
       "    .dataframe tbody tr th:only-of-type {\n",
       "        vertical-align: middle;\n",
       "    }\n",
       "\n",
       "    .dataframe tbody tr th {\n",
       "        vertical-align: top;\n",
       "    }\n",
       "\n",
       "    .dataframe thead th {\n",
       "        text-align: right;\n",
       "    }\n",
       "</style>\n",
       "<table border=\"1\" class=\"dataframe\">\n",
       "  <thead>\n",
       "    <tr style=\"text-align: right;\">\n",
       "      <th></th>\n",
       "      <th>calls</th>\n",
       "      <th>minutes</th>\n",
       "      <th>messages</th>\n",
       "      <th>mb_used</th>\n",
       "      <th>is_ultra</th>\n",
       "    </tr>\n",
       "  </thead>\n",
       "  <tbody>\n",
       "    <tr>\n",
       "      <th>0</th>\n",
       "      <td>40.0</td>\n",
       "      <td>311.90</td>\n",
       "      <td>83.0</td>\n",
       "      <td>19915.42</td>\n",
       "      <td>0</td>\n",
       "    </tr>\n",
       "    <tr>\n",
       "      <th>1</th>\n",
       "      <td>85.0</td>\n",
       "      <td>516.75</td>\n",
       "      <td>56.0</td>\n",
       "      <td>22696.96</td>\n",
       "      <td>0</td>\n",
       "    </tr>\n",
       "    <tr>\n",
       "      <th>2</th>\n",
       "      <td>77.0</td>\n",
       "      <td>467.66</td>\n",
       "      <td>86.0</td>\n",
       "      <td>21060.45</td>\n",
       "      <td>0</td>\n",
       "    </tr>\n",
       "    <tr>\n",
       "      <th>3</th>\n",
       "      <td>106.0</td>\n",
       "      <td>745.53</td>\n",
       "      <td>81.0</td>\n",
       "      <td>8437.39</td>\n",
       "      <td>1</td>\n",
       "    </tr>\n",
       "    <tr>\n",
       "      <th>4</th>\n",
       "      <td>66.0</td>\n",
       "      <td>418.74</td>\n",
       "      <td>1.0</td>\n",
       "      <td>14502.75</td>\n",
       "      <td>0</td>\n",
       "    </tr>\n",
       "    <tr>\n",
       "      <th>5</th>\n",
       "      <td>58.0</td>\n",
       "      <td>344.56</td>\n",
       "      <td>21.0</td>\n",
       "      <td>15823.37</td>\n",
       "      <td>0</td>\n",
       "    </tr>\n",
       "    <tr>\n",
       "      <th>6</th>\n",
       "      <td>57.0</td>\n",
       "      <td>431.64</td>\n",
       "      <td>20.0</td>\n",
       "      <td>3738.90</td>\n",
       "      <td>1</td>\n",
       "    </tr>\n",
       "    <tr>\n",
       "      <th>7</th>\n",
       "      <td>15.0</td>\n",
       "      <td>132.40</td>\n",
       "      <td>6.0</td>\n",
       "      <td>21911.60</td>\n",
       "      <td>0</td>\n",
       "    </tr>\n",
       "    <tr>\n",
       "      <th>8</th>\n",
       "      <td>7.0</td>\n",
       "      <td>43.39</td>\n",
       "      <td>3.0</td>\n",
       "      <td>2538.67</td>\n",
       "      <td>1</td>\n",
       "    </tr>\n",
       "    <tr>\n",
       "      <th>9</th>\n",
       "      <td>90.0</td>\n",
       "      <td>665.41</td>\n",
       "      <td>38.0</td>\n",
       "      <td>17358.61</td>\n",
       "      <td>0</td>\n",
       "    </tr>\n",
       "  </tbody>\n",
       "</table>\n",
       "</div>"
      ],
      "text/plain": [
       "   calls  minutes  messages   mb_used  is_ultra\n",
       "0   40.0   311.90      83.0  19915.42         0\n",
       "1   85.0   516.75      56.0  22696.96         0\n",
       "2   77.0   467.66      86.0  21060.45         0\n",
       "3  106.0   745.53      81.0   8437.39         1\n",
       "4   66.0   418.74       1.0  14502.75         0\n",
       "5   58.0   344.56      21.0  15823.37         0\n",
       "6   57.0   431.64      20.0   3738.90         1\n",
       "7   15.0   132.40       6.0  21911.60         0\n",
       "8    7.0    43.39       3.0   2538.67         1\n",
       "9   90.0   665.41      38.0  17358.61         0"
      ]
     },
     "metadata": {},
     "output_type": "display_data"
    },
    {
     "name": "stdout",
     "output_type": "stream",
     "text": [
      "<class 'pandas.core.frame.DataFrame'>\n",
      "RangeIndex: 3214 entries, 0 to 3213\n",
      "Data columns (total 5 columns):\n",
      " #   Column    Non-Null Count  Dtype  \n",
      "---  ------    --------------  -----  \n",
      " 0   calls     3214 non-null   float64\n",
      " 1   minutes   3214 non-null   float64\n",
      " 2   messages  3214 non-null   float64\n",
      " 3   mb_used   3214 non-null   float64\n",
      " 4   is_ultra  3214 non-null   int64  \n",
      "dtypes: float64(4), int64(1)\n",
      "memory usage: 125.7 KB\n"
     ]
    }
   ],
   "source": [
    "data = pd.read_csv('/datasets/users_behavior.csv')\n",
    "display(data.head(10))\n",
    "data.info()"
   ]
  },
  {
   "cell_type": "markdown",
   "metadata": {},
   "source": [
    "Видим, что в колонках calls и mesasges значения целочисленные (т.к. в данных по задаче нам сказано, что calls и messages это колонки с количеством звонков и сообщений), поэтому заменим их с float на int."
   ]
  },
  {
   "cell_type": "code",
   "execution_count": 92,
   "metadata": {},
   "outputs": [],
   "source": [
    "data['calls'] = data['calls'].astype('int64')\n",
    "data['messages'] = data['messages'].astype('int64')"
   ]
  },
  {
   "cell_type": "markdown",
   "metadata": {},
   "source": [
    "Посмотрим на наш датасет через метод describe"
   ]
  },
  {
   "cell_type": "code",
   "execution_count": 93,
   "metadata": {},
   "outputs": [
    {
     "data": {
      "text/html": [
       "<div>\n",
       "<style scoped>\n",
       "    .dataframe tbody tr th:only-of-type {\n",
       "        vertical-align: middle;\n",
       "    }\n",
       "\n",
       "    .dataframe tbody tr th {\n",
       "        vertical-align: top;\n",
       "    }\n",
       "\n",
       "    .dataframe thead th {\n",
       "        text-align: right;\n",
       "    }\n",
       "</style>\n",
       "<table border=\"1\" class=\"dataframe\">\n",
       "  <thead>\n",
       "    <tr style=\"text-align: right;\">\n",
       "      <th></th>\n",
       "      <th>calls</th>\n",
       "      <th>minutes</th>\n",
       "      <th>messages</th>\n",
       "      <th>mb_used</th>\n",
       "      <th>is_ultra</th>\n",
       "    </tr>\n",
       "  </thead>\n",
       "  <tbody>\n",
       "    <tr>\n",
       "      <th>count</th>\n",
       "      <td>3214.000000</td>\n",
       "      <td>3214.000000</td>\n",
       "      <td>3214.000000</td>\n",
       "      <td>3214.000000</td>\n",
       "      <td>3214.000000</td>\n",
       "    </tr>\n",
       "    <tr>\n",
       "      <th>mean</th>\n",
       "      <td>63.038892</td>\n",
       "      <td>438.208787</td>\n",
       "      <td>38.281269</td>\n",
       "      <td>17207.673836</td>\n",
       "      <td>0.306472</td>\n",
       "    </tr>\n",
       "    <tr>\n",
       "      <th>std</th>\n",
       "      <td>33.236368</td>\n",
       "      <td>234.569872</td>\n",
       "      <td>36.148326</td>\n",
       "      <td>7570.968246</td>\n",
       "      <td>0.461100</td>\n",
       "    </tr>\n",
       "    <tr>\n",
       "      <th>min</th>\n",
       "      <td>0.000000</td>\n",
       "      <td>0.000000</td>\n",
       "      <td>0.000000</td>\n",
       "      <td>0.000000</td>\n",
       "      <td>0.000000</td>\n",
       "    </tr>\n",
       "    <tr>\n",
       "      <th>25%</th>\n",
       "      <td>40.000000</td>\n",
       "      <td>274.575000</td>\n",
       "      <td>9.000000</td>\n",
       "      <td>12491.902500</td>\n",
       "      <td>0.000000</td>\n",
       "    </tr>\n",
       "    <tr>\n",
       "      <th>50%</th>\n",
       "      <td>62.000000</td>\n",
       "      <td>430.600000</td>\n",
       "      <td>30.000000</td>\n",
       "      <td>16943.235000</td>\n",
       "      <td>0.000000</td>\n",
       "    </tr>\n",
       "    <tr>\n",
       "      <th>75%</th>\n",
       "      <td>82.000000</td>\n",
       "      <td>571.927500</td>\n",
       "      <td>57.000000</td>\n",
       "      <td>21424.700000</td>\n",
       "      <td>1.000000</td>\n",
       "    </tr>\n",
       "    <tr>\n",
       "      <th>max</th>\n",
       "      <td>244.000000</td>\n",
       "      <td>1632.060000</td>\n",
       "      <td>224.000000</td>\n",
       "      <td>49745.730000</td>\n",
       "      <td>1.000000</td>\n",
       "    </tr>\n",
       "  </tbody>\n",
       "</table>\n",
       "</div>"
      ],
      "text/plain": [
       "             calls      minutes     messages       mb_used     is_ultra\n",
       "count  3214.000000  3214.000000  3214.000000   3214.000000  3214.000000\n",
       "mean     63.038892   438.208787    38.281269  17207.673836     0.306472\n",
       "std      33.236368   234.569872    36.148326   7570.968246     0.461100\n",
       "min       0.000000     0.000000     0.000000      0.000000     0.000000\n",
       "25%      40.000000   274.575000     9.000000  12491.902500     0.000000\n",
       "50%      62.000000   430.600000    30.000000  16943.235000     0.000000\n",
       "75%      82.000000   571.927500    57.000000  21424.700000     1.000000\n",
       "max     244.000000  1632.060000   224.000000  49745.730000     1.000000"
      ]
     },
     "execution_count": 93,
     "metadata": {},
     "output_type": "execute_result"
    }
   ],
   "source": [
    "data.describe()"
   ]
  },
  {
   "cell_type": "markdown",
   "metadata": {},
   "source": [
    "Видим вполне адекватные значения, в т.ч. медианы и среднего, которые в данном случае друг от друга не сильно отличаются, что означает, что данные немного скошены."
   ]
  },
  {
   "cell_type": "markdown",
   "metadata": {},
   "source": [
    "Посмотрим, как распределены данные на гистограмме и \"ящике с усами\""
   ]
  },
  {
   "cell_type": "code",
   "execution_count": 94,
   "metadata": {},
   "outputs": [
    {
     "data": {
      "image/png": "[encoded data removed]",
      "text/plain": [
       "<Figure size 1008x432 with 2 Axes>"
      ]
     },
     "metadata": {},
     "output_type": "display_data"
    }
   ],
   "source": [
    "sns.set_theme()\n",
    "f, axes = plt.subplots(1, 2, figsize=(14, 6))\n",
    "axes[0].set_title('Распределение количества звонков')\n",
    "axes[0].set_xlabel('Кол-во звонков')\n",
    "axes[0].set_ylabel('Кол-во случаев')\n",
    "sns.histplot(data['calls'], bins=30, kde=True, ax=axes[0])\n",
    "axes[1].set_title('Распределение количества звонков')\n",
    "sns.boxplot(data=data['calls'], ax=axes[1])\n",
    "axes[1].set_ylabel('Кол-во звонков')\n",
    "plt.show()"
   ]
  },
  {
   "cell_type": "code",
   "execution_count": 95,
   "metadata": {},
   "outputs": [
    {
     "data": {
      "image/png": "[encoded data removed]",
      "text/plain": [
       "<Figure size 1008x432 with 2 Axes>"
      ]
     },
     "metadata": {},
     "output_type": "display_data"
    }
   ],
   "source": [
    "sns.set_theme()\n",
    "f, axes = plt.subplots(1, 2, figsize=(14, 6))\n",
    "axes[0].set_title('Распределение количества минут разговора')\n",
    "axes[0].set_xlabel('Кол-во минут')\n",
    "axes[0].set_ylabel('Кол-во случаев')\n",
    "sns.histplot(data['minutes'], bins=30, kde=True, ax=axes[0])\n",
    "axes[1].set_title('Распределение количества минут разговора')\n",
    "sns.boxplot(data=data['minutes'], ax=axes[1])\n",
    "axes[1].set_ylabel('Кол-во минут')\n",
    "plt.show()"
   ]
  },
  {
   "cell_type": "code",
   "execution_count": 96,
   "metadata": {},
   "outputs": [
    {
     "data": {
      "image/png": "[encoded data removed]",
      "text/plain": [
       "<Figure size 1008x432 with 2 Axes>"
      ]
     },
     "metadata": {},
     "output_type": "display_data"
    }
   ],
   "source": [
    "sns.set_theme()\n",
    "f, axes = plt.subplots(1, 2, figsize=(14, 6))\n",
    "axes[0].set_title('Распределение количества сообщений')\n",
    "axes[0].set_xlabel('Кол-во сообщений')\n",
    "axes[0].set_ylabel('Кол-во случаев')\n",
    "sns.histplot(data['messages'], bins=30, kde=True, ax=axes[0])\n",
    "axes[1].set_title('Распределение количества сообщений')\n",
    "sns.boxplot(data=data['messages'], ax=axes[1])\n",
    "axes[1].set_ylabel('Кол-во сообщений')\n",
    "plt.show()"
   ]
  },
  {
   "cell_type": "code",
   "execution_count": 97,
   "metadata": {},
   "outputs": [
    {
     "data": {
      "image/png": "[encoded data removed]",
      "text/plain": [
       "<Figure size 1008x432 with 2 Axes>"
      ]
     },
     "metadata": {},
     "output_type": "display_data"
    }
   ],
   "source": [
    "sns.set_theme()\n",
    "f, axes = plt.subplots(1, 2, figsize=(14, 6))\n",
    "axes[0].set_title('Распределение объема интернет-трафика')\n",
    "axes[0].set_xlabel('Кол-во мегабайт')\n",
    "axes[0].set_ylabel('Кол-во случаев')\n",
    "sns.histplot(data['mb_used'], bins=30, kde=True, ax=axes[0])\n",
    "axes[1].set_title('Распределение объема интернет-трафика')\n",
    "sns.boxplot(data=data['mb_used'], ax=axes[1])\n",
    "axes[1].set_ylabel('Кол-во мегабайт', fontsize=15)\n",
    "plt.show()"
   ]
  },
  {
   "cell_type": "markdown",
   "metadata": {},
   "source": [
    "Здесь мы видим, что данные распределены более-менее нормально, в колонке messages есть скос влево, т.к. много нулевых значений."
   ]
  },
  {
   "cell_type": "markdown",
   "metadata": {},
   "source": [
    "## Разбейте данные на выборки"
   ]
  },
  {
   "cell_type": "markdown",
   "metadata": {},
   "source": [
    "Для начала выделим в исходных данных:\n",
    "- признаки: calls, minutes, messages, mb_used\n",
    "- целевой признак: is_ultra"
   ]
  },
  {
   "cell_type": "code",
   "execution_count": 98,
   "metadata": {},
   "outputs": [],
   "source": [
    "features = data.drop('is_ultra', axis=1)\n",
    "target = data['is_ultra']"
   ]
  },
  {
   "cell_type": "markdown",
   "metadata": {},
   "source": [
    "Разделим данные на обучающую, валидационную и тестовую выборки в пропорции 60% на обучающию и по 20% данных на валидационную и тестовую выборки."
   ]
  },
  {
   "cell_type": "code",
   "execution_count": 99,
   "metadata": {},
   "outputs": [],
   "source": [
    "X, X_test, y, y_test = train_test_split(features, target, test_size=0.2, random_state=123)\n",
    "X_train, X_valid, y_train, y_valid = train_test_split(X, y, test_size=0.2, random_state=123)"
   ]
  },
  {
   "cell_type": "markdown",
   "metadata": {},
   "source": [
    "## Исследуйте модели"
   ]
  },
  {
   "cell_type": "markdown",
   "metadata": {},
   "source": [
    "### Решающее дерево"
   ]
  },
  {
   "cell_type": "markdown",
   "metadata": {},
   "source": [
    "Первым выберем решающее дерево, проверим лучшую его глубину"
   ]
  },
  {
   "cell_type": "code",
   "execution_count": 100,
   "metadata": {
    "scrolled": false
   },
   "outputs": [
    {
     "name": "stdout",
     "output_type": "stream",
     "text": [
      "Accuracy лучшей модели: 0.7844660194174757\n",
      "Лучшая модель DecisionTreeClassifier(max_depth=5, random_state=12345)\n"
     ]
    }
   ],
   "source": [
    "best_model = None\n",
    "best_result = 0\n",
    "for depth in range(1, 10):\n",
    "    model_dt = DecisionTreeClassifier(random_state=12345, max_depth=depth) # обучите модель с заданной глубиной дерева\n",
    "    model_dt.fit(X_train, y_train) # обучите модель\n",
    "    predictions = model_dt.predict(X_valid) # получите предсказания модели\n",
    "    result = accuracy_score(y_valid, predictions) # посчитайте качество модели\n",
    "    if result > best_result:\n",
    "        best_model = model_dt\n",
    "        best_result = result\n",
    "        \n",
    "print('Accuracy лучшей модели:', best_result)\n",
    "print('Лучшая модель', best_model)"
   ]
  },
  {
   "cell_type": "markdown",
   "metadata": {},
   "source": [
    "### Случайный лес"
   ]
  },
  {
   "cell_type": "markdown",
   "metadata": {},
   "source": [
    "Случайный лес"
   ]
  },
  {
   "cell_type": "code",
   "execution_count": 101,
   "metadata": {
    "scrolled": false
   },
   "outputs": [
    {
     "name": "stdout",
     "output_type": "stream",
     "text": [
      "Accuracy наилучшей модели на валидационной выборке: 0.8097087378640777\n",
      "Лучшая модель RandomForestClassifier(max_depth=7, n_estimators=9, random_state=12345)\n"
     ]
    }
   ],
   "source": [
    "best_model = None\n",
    "best_result = 0\n",
    "for nest in range(1,10):\n",
    "    for max_depth in range(1,10):\n",
    "        model_rf = RandomForestClassifier(random_state=12345, n_estimators=nest, max_depth=max_depth)\n",
    "        model_rf.fit(X_train, y_train)\n",
    "        result = model_rf.score(X_valid, y_valid)\n",
    "        if result > best_result:\n",
    "            best_model = model_rf\n",
    "            best_result = result\n",
    "\n",
    "print(\"Accuracy наилучшей модели на валидационной выборке:\", best_result)\n",
    "print('Лучшая модель', best_model)"
   ]
  },
  {
   "cell_type": "markdown",
   "metadata": {},
   "source": [
    "### Логистическая регрессия"
   ]
  },
  {
   "cell_type": "markdown",
   "metadata": {},
   "source": [
    "Инициируем модель логистической регрессии LogisticRegression\n",
    "Критерием проверки качества модели будет точность accuracy."
   ]
  },
  {
   "cell_type": "code",
   "execution_count": 102,
   "metadata": {
    "scrolled": false
   },
   "outputs": [
    {
     "name": "stdout",
     "output_type": "stream",
     "text": [
      "LogisticRegression(max_iter=10000, random_state=12345)\n",
      "Accuracy модели на валидационной выборке: 0.6990291262135923\n"
     ]
    }
   ],
   "source": [
    "model_lr = LogisticRegression(random_state=12345, solver='lbfgs', max_iter=10000)\n",
    "model_lr.fit(X_train, y_train)\n",
    "predictions = model_lr.predict(X_valid)\n",
    "result = accuracy_score(y_valid, predictions)\n",
    "print(model_lr)\n",
    "print(\"Accuracy модели на валидационной выборке:\", result)"
   ]
  },
  {
   "cell_type": "markdown",
   "metadata": {},
   "source": [
    "## Проверьте модель на тестовой выборке"
   ]
  },
  {
   "cell_type": "markdown",
   "metadata": {},
   "source": [
    "По критерию accuracy наилучшей точности удалось достичь с моделью Случайного леса\n",
    "- Наилучшая точность: 0.81\n",
    "- Парамтеры модели: n_estimators = 10\n",
    "- max_depth = 9\n",
    "- min_samples_split = 6\n",
    "- min_samples_leaf = 2\n",
    "- criterion = gini\n",
    "Проведём обучение данной модели на всех доступных данных (обучающие + валидационные) и вычислим точность на тестовой выборке."
   ]
  },
  {
   "cell_type": "code",
   "execution_count": 103,
   "metadata": {},
   "outputs": [
    {
     "name": "stdout",
     "output_type": "stream",
     "text": [
      "Точность модели на тестовой выборке: 0.82\n"
     ]
    }
   ],
   "source": [
    "model_rf_clf = RandomForestClassifier(random_state=123,\n",
    "                                      n_estimators=10,\n",
    "                                      max_depth=9)\n",
    "model_rf_clf.fit(X, y)\n",
    "predictions = model_rf_clf.predict(X_test)\n",
    "accuracy = accuracy_score(y_test, predictions)\n",
    "print('Точность модели на тестовой выборке:', round(accuracy, 2))"
   ]
  },
  {
   "cell_type": "markdown",
   "metadata": {},
   "source": [
    "Вывод:"
   ]
  },
  {
   "cell_type": "markdown",
   "metadata": {},
   "source": [
    "Были проанализированы различные классификационные модели: Решающее дерево, Случайный лес, Логистическая регрессия.\n",
    "Каждая модель была обучена для различных сочетаний гиперпараметров (кроме логистической регрессии); выведены наилучшие варианты для каждой модели.\n",
    "Наилучшая точность (accuracy) была достигнута для модели Случайного леса:\n",
    "Accuracy на валидационной выборке: 0.82\n",
    "Accuracy на тестовой выборке: 0.82"
   ]
  },
  {
   "cell_type": "markdown",
   "metadata": {},
   "source": [
    "# Общий вывод"
   ]
  },
  {
   "cell_type": "markdown",
   "metadata": {},
   "source": [
    "1) Данные успешно загружены и проанализированы.\n",
    "- Пропусков не обнаружено, типы данных преобразованы в соответствии с хранимой информацией.\n",
    "- Сильного перекоса в распределениях признаков не наблюдается.\n",
    "\n",
    "<br>2) Были проанализированы различные классификационные модели: Решающее дерево, Случайный лес, Логистическая регрессия. Модели обучены на различных сочетаниях гиперпараметров (кроме логистической регрессии).\n",
    "- Наилучшая точность (accuracy) была достигнута для модели Случайного леса: Accuracy на тестовой выборке: 0.82"
   ]
  },
  {
   "cell_type": "markdown",
   "metadata": {},
   "source": [
    "# <font color='orange'>Общее впечатление</font>\n",
    "* Этот проект выполнен очень хорошо\n",
    "* Видно, что приложено много усилий\n",
    "* Молодец, что структурируешь ноутбук, приятно проверять такие работы\n",
    "* У тебя чистый и лаконичный код\n",
    "* Мне было интересно читать твои промежуточные выводы\n",
    "* Твой уровень подачи материала находится на высоком уровне\n",
    "* Критических замечаний нет\n",
    "* Молодец, отличная работа!\n",
    "* Удачи в дальнейшем обучении 👋\n",
    "\n",
    "# <font color='orange'>Рекомендации 🔥</font>\n",
    "* Анализ данных на python и pandas https://www.youtube.com/watch?v=dd3RcafdOQk&t=82s\n",
    "* Как обучается Дерево решений https://www.youtube.com/watch?v=j8L07nuns2Y\n",
    "* Случайный лес https://www.youtube.com/watch?v=EhJPSV-Jr_0\n",
    "* Линейная регрессия https://www.youtube.com/watch?v=QZJ94igWVxQ&t=49s\n",
    "* Логистическая регрессия https://www.youtube.com/watch?v=49ck7kCyxr4\n",
    "* Курс \"Введение в машинное обучение\" https://stepik.org/course/4852\n",
    "* В нашем деле нужно быть всегда в курсе всех новинок, новостей и тд, вот тут публикуют новости в области DS: https://www.infoq.com/data-analysis/news/\n",
    "* Всем аналитикам данных рекомендую книгу Даниела Канемана \"Думай медленно, решай быстро\""
   ]
  }
 ],
 "metadata": {
  "ExecuteTimeLog": [
   {
    "duration": 1610,
    "start_time": "2022-08-03T07:51:12.557Z"
   },
   {
    "duration": 339,
    "start_time": "2022-08-03T07:52:53.961Z"
   },
   {
    "duration": 59,
    "start_time": "2022-08-03T07:52:59.877Z"
   },
   {
    "duration": 6,
    "start_time": "2022-08-03T07:55:29.829Z"
   },
   {
    "duration": 33,
    "start_time": "2022-08-03T07:55:50.645Z"
   },
   {
    "duration": 49,
    "start_time": "2022-08-03T07:58:40.523Z"
   },
   {
    "duration": 283,
    "start_time": "2022-08-03T08:13:16.414Z"
   },
   {
    "duration": 794,
    "start_time": "2022-08-03T08:15:22.524Z"
   },
   {
    "duration": 589,
    "start_time": "2022-08-03T08:15:50.539Z"
   },
   {
    "duration": 432,
    "start_time": "2022-08-03T08:16:48.183Z"
   },
   {
    "duration": 802,
    "start_time": "2022-08-03T08:16:52.876Z"
   },
   {
    "duration": 790,
    "start_time": "2022-08-03T08:19:23.778Z"
   },
   {
    "duration": 624,
    "start_time": "2022-08-03T08:19:31.354Z"
   },
   {
    "duration": 653,
    "start_time": "2022-08-03T08:19:41.434Z"
   },
   {
    "duration": 367,
    "start_time": "2022-08-03T08:19:45.014Z"
   },
   {
    "duration": 413,
    "start_time": "2022-08-03T08:19:48.422Z"
   },
   {
    "duration": 597,
    "start_time": "2022-08-03T08:19:55.290Z"
   },
   {
    "duration": 717,
    "start_time": "2022-08-03T08:20:01.529Z"
   },
   {
    "duration": 578,
    "start_time": "2022-08-03T08:20:04.011Z"
   },
   {
    "duration": 732,
    "start_time": "2022-08-03T08:20:09.825Z"
   },
   {
    "duration": 460,
    "start_time": "2022-08-03T08:20:13.111Z"
   },
   {
    "duration": 843,
    "start_time": "2022-08-03T08:20:31.711Z"
   },
   {
    "duration": 131,
    "start_time": "2022-08-03T08:26:04.288Z"
   },
   {
    "duration": 255,
    "start_time": "2022-08-03T08:26:41.880Z"
   },
   {
    "duration": 169,
    "start_time": "2022-08-03T08:27:10.116Z"
   },
   {
    "duration": 158,
    "start_time": "2022-08-03T08:27:17.927Z"
   },
   {
    "duration": 218,
    "start_time": "2022-08-03T08:27:22.673Z"
   },
   {
    "duration": 200,
    "start_time": "2022-08-03T08:37:00.020Z"
   },
   {
    "duration": 250,
    "start_time": "2022-08-03T08:37:27.556Z"
   },
   {
    "duration": 311,
    "start_time": "2022-08-03T08:37:36.612Z"
   },
   {
    "duration": 519,
    "start_time": "2022-08-03T08:37:43.518Z"
   },
   {
    "duration": 490,
    "start_time": "2022-08-03T08:40:12.783Z"
   },
   {
    "duration": 206,
    "start_time": "2022-08-03T08:40:35.199Z"
   },
   {
    "duration": 488,
    "start_time": "2022-08-03T08:40:39.567Z"
   },
   {
    "duration": 235,
    "start_time": "2022-08-03T08:40:49.213Z"
   },
   {
    "duration": 402,
    "start_time": "2022-08-03T08:41:27.836Z"
   },
   {
    "duration": 211,
    "start_time": "2022-08-03T08:41:34.154Z"
   },
   {
    "duration": 192,
    "start_time": "2022-08-03T08:41:44.734Z"
   },
   {
    "duration": 596,
    "start_time": "2022-08-03T08:41:48.651Z"
   },
   {
    "duration": 620,
    "start_time": "2022-08-03T08:41:58.347Z"
   },
   {
    "duration": 730,
    "start_time": "2022-08-03T08:42:06.018Z"
   },
   {
    "duration": 536,
    "start_time": "2022-08-03T08:42:11.867Z"
   },
   {
    "duration": 201,
    "start_time": "2022-08-03T08:51:09.024Z"
   },
   {
    "duration": 188,
    "start_time": "2022-08-03T08:51:23.768Z"
   },
   {
    "duration": 202,
    "start_time": "2022-08-03T08:51:29.668Z"
   },
   {
    "duration": 227,
    "start_time": "2022-08-03T08:55:43.724Z"
   },
   {
    "duration": 106,
    "start_time": "2022-08-03T08:56:12.139Z"
   },
   {
    "duration": 59,
    "start_time": "2022-08-03T08:59:20.924Z"
   },
   {
    "duration": 292,
    "start_time": "2022-08-03T08:59:30.170Z"
   },
   {
    "duration": 105,
    "start_time": "2022-08-03T09:00:48.961Z"
   },
   {
    "duration": 343,
    "start_time": "2022-08-03T09:00:57.377Z"
   },
   {
    "duration": 379,
    "start_time": "2022-08-03T09:01:36.357Z"
   },
   {
    "duration": 272,
    "start_time": "2022-08-03T09:01:51.764Z"
   },
   {
    "duration": 311,
    "start_time": "2022-08-03T09:01:58.523Z"
   },
   {
    "duration": 474,
    "start_time": "2022-08-03T09:02:07.928Z"
   },
   {
    "duration": 330,
    "start_time": "2022-08-03T09:02:11.680Z"
   },
   {
    "duration": 372,
    "start_time": "2022-08-03T09:02:18.232Z"
   },
   {
    "duration": 326,
    "start_time": "2022-08-03T09:02:24.924Z"
   },
   {
    "duration": 319,
    "start_time": "2022-08-03T09:02:28.757Z"
   },
   {
    "duration": 337,
    "start_time": "2022-08-03T09:02:46.623Z"
   },
   {
    "duration": 435,
    "start_time": "2022-08-03T09:02:54.776Z"
   },
   {
    "duration": 454,
    "start_time": "2022-08-03T09:04:26.124Z"
   },
   {
    "duration": 321,
    "start_time": "2022-08-03T09:04:32.684Z"
   },
   {
    "duration": 340,
    "start_time": "2022-08-03T09:05:10.860Z"
   },
   {
    "duration": 347,
    "start_time": "2022-08-03T09:05:19.125Z"
   },
   {
    "duration": 333,
    "start_time": "2022-08-03T09:05:40.639Z"
   },
   {
    "duration": 786,
    "start_time": "2022-08-03T09:06:34.832Z"
   },
   {
    "duration": 273,
    "start_time": "2022-08-03T09:06:50.443Z"
   },
   {
    "duration": 322,
    "start_time": "2022-08-03T09:06:56.779Z"
   },
   {
    "duration": 357,
    "start_time": "2022-08-03T09:07:06.656Z"
   },
   {
    "duration": 327,
    "start_time": "2022-08-03T09:07:59.030Z"
   },
   {
    "duration": 404,
    "start_time": "2022-08-03T09:08:22.919Z"
   },
   {
    "duration": 446,
    "start_time": "2022-08-03T09:08:57.071Z"
   },
   {
    "duration": 354,
    "start_time": "2022-08-03T12:55:29.235Z"
   },
   {
    "duration": 315,
    "start_time": "2022-08-03T12:55:30.951Z"
   },
   {
    "duration": 342,
    "start_time": "2022-08-03T12:55:32.647Z"
   },
   {
    "duration": 275,
    "start_time": "2022-08-03T12:55:44.286Z"
   },
   {
    "duration": 309,
    "start_time": "2022-08-03T12:55:48.491Z"
   },
   {
    "duration": 447,
    "start_time": "2022-08-03T12:56:00.071Z"
   },
   {
    "duration": 316,
    "start_time": "2022-08-03T12:56:06.959Z"
   },
   {
    "duration": 304,
    "start_time": "2022-08-03T12:56:15.239Z"
   },
   {
    "duration": 348,
    "start_time": "2022-08-03T12:58:27.223Z"
   },
   {
    "duration": 355,
    "start_time": "2022-08-03T12:58:37.354Z"
   },
   {
    "duration": 303,
    "start_time": "2022-08-03T12:59:03.530Z"
   },
   {
    "duration": 433,
    "start_time": "2022-08-03T12:59:28.827Z"
   },
   {
    "duration": 350,
    "start_time": "2022-08-03T13:27:15.236Z"
   },
   {
    "duration": 309,
    "start_time": "2022-08-03T13:27:38.179Z"
   },
   {
    "duration": 314,
    "start_time": "2022-08-03T13:27:58.151Z"
   },
   {
    "duration": 4,
    "start_time": "2022-08-03T14:12:47.616Z"
   },
   {
    "duration": 8,
    "start_time": "2022-08-03T14:13:30.032Z"
   },
   {
    "duration": 37,
    "start_time": "2022-08-03T14:44:01.539Z"
   },
   {
    "duration": 44,
    "start_time": "2022-08-03T14:49:29.055Z"
   },
   {
    "duration": 40,
    "start_time": "2022-08-03T14:50:28.636Z"
   },
   {
    "duration": 48,
    "start_time": "2022-08-03T14:53:29.382Z"
   },
   {
    "duration": 17,
    "start_time": "2022-08-03T14:53:43.131Z"
   },
   {
    "duration": 21,
    "start_time": "2022-08-03T14:53:49.438Z"
   },
   {
    "duration": 423,
    "start_time": "2022-08-03T14:54:01.343Z"
   },
   {
    "duration": 82,
    "start_time": "2022-08-03T14:54:34.539Z"
   },
   {
    "duration": 780,
    "start_time": "2022-08-03T14:54:39.975Z"
   },
   {
    "duration": 21,
    "start_time": "2022-08-03T15:02:36.094Z"
   },
   {
    "duration": 482,
    "start_time": "2022-08-03T15:02:52.639Z"
   },
   {
    "duration": 477,
    "start_time": "2022-08-03T15:04:28.051Z"
   },
   {
    "duration": 44,
    "start_time": "2022-08-03T15:05:50.850Z"
   },
   {
    "duration": 39,
    "start_time": "2022-08-03T15:07:29.147Z"
   },
   {
    "duration": 24,
    "start_time": "2022-08-03T15:10:42.797Z"
   },
   {
    "duration": 249,
    "start_time": "2022-08-03T15:11:05.257Z"
   },
   {
    "duration": 255,
    "start_time": "2022-08-03T15:11:17.149Z"
   },
   {
    "duration": 99,
    "start_time": "2022-08-03T15:12:33.346Z"
   },
   {
    "duration": 429,
    "start_time": "2022-08-03T15:12:42.545Z"
   },
   {
    "duration": 64,
    "start_time": "2022-08-03T15:26:47.243Z"
   },
   {
    "duration": 37382,
    "start_time": "2022-08-03T15:26:59.795Z"
   },
   {
    "duration": 34240,
    "start_time": "2022-08-03T15:28:05.503Z"
   },
   {
    "duration": 56,
    "start_time": "2022-08-15T08:14:45.575Z"
   },
   {
    "duration": 2139,
    "start_time": "2022-08-15T08:14:50.147Z"
   },
   {
    "duration": 94,
    "start_time": "2022-08-15T08:14:52.288Z"
   },
   {
    "duration": 6,
    "start_time": "2022-08-15T08:14:52.384Z"
   },
   {
    "duration": 38,
    "start_time": "2022-08-15T08:14:52.392Z"
   },
   {
    "duration": 393,
    "start_time": "2022-08-15T08:14:52.433Z"
   },
   {
    "duration": 384,
    "start_time": "2022-08-15T08:14:52.827Z"
   },
   {
    "duration": 430,
    "start_time": "2022-08-15T08:14:53.213Z"
   },
   {
    "duration": 411,
    "start_time": "2022-08-15T08:14:53.645Z"
   },
   {
    "duration": 5,
    "start_time": "2022-08-15T08:14:54.059Z"
   },
   {
    "duration": 23,
    "start_time": "2022-08-15T08:14:54.068Z"
   },
   {
    "duration": 70,
    "start_time": "2022-08-15T08:14:54.093Z"
   },
   {
    "duration": 105,
    "start_time": "2022-08-15T08:14:54.164Z"
   },
   {
    "duration": 0,
    "start_time": "2022-08-15T08:14:54.271Z"
   },
   {
    "duration": 322,
    "start_time": "2022-08-15T08:15:42.528Z"
   },
   {
    "duration": 349,
    "start_time": "2022-08-15T08:16:15.587Z"
   },
   {
    "duration": 40,
    "start_time": "2022-08-15T08:20:07.811Z"
   },
   {
    "duration": 335,
    "start_time": "2022-08-15T08:21:10.763Z"
   },
   {
    "duration": 329,
    "start_time": "2022-08-15T08:21:32.636Z"
   },
   {
    "duration": 38150,
    "start_time": "2022-08-15T08:22:06.291Z"
   },
   {
    "duration": 1609,
    "start_time": "2022-08-15T11:25:27.216Z"
   },
   {
    "duration": 134,
    "start_time": "2022-08-15T11:30:06.420Z"
   },
   {
    "duration": 131,
    "start_time": "2022-08-15T11:30:46.118Z"
   },
   {
    "duration": 147,
    "start_time": "2022-08-15T11:30:51.052Z"
   },
   {
    "duration": 2457,
    "start_time": "2022-08-15T11:31:05.320Z"
   },
   {
    "duration": 180,
    "start_time": "2022-08-15T11:31:30.356Z"
   },
   {
    "duration": 162,
    "start_time": "2022-08-15T11:31:46.040Z"
   },
   {
    "duration": 39250,
    "start_time": "2022-08-15T11:32:13.608Z"
   },
   {
    "duration": 110,
    "start_time": "2022-08-15T11:33:51.392Z"
   },
   {
    "duration": 15,
    "start_time": "2022-08-15T11:53:24.473Z"
   },
   {
    "duration": 18,
    "start_time": "2022-08-15T11:53:44.593Z"
   },
   {
    "duration": 134,
    "start_time": "2022-08-15T11:53:49.253Z"
   },
   {
    "duration": 104,
    "start_time": "2022-08-15T11:54:02.553Z"
   },
   {
    "duration": 11,
    "start_time": "2022-08-15T11:55:19.609Z"
   },
   {
    "duration": 12,
    "start_time": "2022-08-15T11:55:43.464Z"
   },
   {
    "duration": 29,
    "start_time": "2022-08-15T11:56:04.008Z"
   },
   {
    "duration": 99,
    "start_time": "2022-08-15T11:56:22.241Z"
   },
   {
    "duration": 19,
    "start_time": "2022-08-15T11:58:16.985Z"
   },
   {
    "duration": 54,
    "start_time": "2022-08-15T11:59:16.816Z"
   },
   {
    "duration": 48,
    "start_time": "2022-08-15T11:59:38.292Z"
   },
   {
    "duration": 63,
    "start_time": "2022-08-15T11:59:43.656Z"
   },
   {
    "duration": 47,
    "start_time": "2022-08-15T11:59:49.128Z"
   },
   {
    "duration": 20,
    "start_time": "2022-08-15T12:00:56.205Z"
   },
   {
    "duration": 158,
    "start_time": "2022-08-15T12:01:12.832Z"
   },
   {
    "duration": 157,
    "start_time": "2022-08-15T12:01:45.840Z"
   },
   {
    "duration": 6,
    "start_time": "2022-08-15T12:03:51.187Z"
   },
   {
    "duration": 378,
    "start_time": "2022-08-15T12:04:03.747Z"
   },
   {
    "duration": 634,
    "start_time": "2022-08-15T12:04:25.031Z"
   },
   {
    "duration": 172,
    "start_time": "2022-08-15T12:04:37.409Z"
   },
   {
    "duration": 182,
    "start_time": "2022-08-15T12:04:44.128Z"
   },
   {
    "duration": 736,
    "start_time": "2022-08-15T12:05:26.291Z"
   },
   {
    "duration": 1512,
    "start_time": "2022-08-15T12:05:50.731Z"
   },
   {
    "duration": 676,
    "start_time": "2022-08-15T12:05:55.467Z"
   },
   {
    "duration": 653,
    "start_time": "2022-08-15T12:06:32.408Z"
   },
   {
    "duration": 671,
    "start_time": "2022-08-15T12:06:52.052Z"
   },
   {
    "duration": 651,
    "start_time": "2022-08-15T12:07:00.731Z"
   },
   {
    "duration": 486,
    "start_time": "2022-08-15T12:07:30.282Z"
   },
   {
    "duration": 117,
    "start_time": "2022-08-15T12:07:41.817Z"
   },
   {
    "duration": 477,
    "start_time": "2022-08-15T12:07:47.563Z"
   },
   {
    "duration": 787,
    "start_time": "2022-08-15T12:07:50.871Z"
   },
   {
    "duration": 47,
    "start_time": "2022-08-15T12:08:05.008Z"
   },
   {
    "duration": 46,
    "start_time": "2022-08-15T12:08:27.439Z"
   },
   {
    "duration": 23439,
    "start_time": "2022-08-15T12:09:43.027Z"
   },
   {
    "duration": 6119,
    "start_time": "2022-08-15T12:10:29.683Z"
   },
   {
    "duration": 51963,
    "start_time": "2022-08-15T12:10:42.086Z"
   },
   {
    "duration": 5865,
    "start_time": "2022-08-15T12:11:58.839Z"
   },
   {
    "duration": 1232,
    "start_time": "2022-08-15T12:17:09.604Z"
   },
   {
    "duration": 71,
    "start_time": "2022-08-15T12:17:19.642Z"
   },
   {
    "duration": 1222,
    "start_time": "2022-08-15T12:17:27.162Z"
   },
   {
    "duration": 0,
    "start_time": "2022-08-15T12:20:30.180Z"
   },
   {
    "duration": 1404,
    "start_time": "2022-08-15T12:20:35.658Z"
   },
   {
    "duration": 14154,
    "start_time": "2022-08-15T12:20:58.465Z"
   },
   {
    "duration": 1472,
    "start_time": "2022-08-15T12:26:11.637Z"
   },
   {
    "duration": 48,
    "start_time": "2022-08-15T12:28:55.061Z"
   },
   {
    "duration": 53,
    "start_time": "2022-08-15T12:29:00.688Z"
   },
   {
    "duration": 54,
    "start_time": "2022-08-15T12:29:07.399Z"
   },
   {
    "duration": 56,
    "start_time": "2022-08-15T12:31:36.964Z"
   },
   {
    "duration": 58,
    "start_time": "2022-08-15T12:32:08.488Z"
   },
   {
    "duration": 51,
    "start_time": "2022-08-15T12:32:15.184Z"
   },
   {
    "duration": 54,
    "start_time": "2022-08-15T12:32:18.272Z"
   },
   {
    "duration": 51,
    "start_time": "2022-08-15T12:32:30.924Z"
   },
   {
    "duration": 54,
    "start_time": "2022-08-15T12:32:34.352Z"
   },
   {
    "duration": 53,
    "start_time": "2022-08-15T12:32:39.172Z"
   },
   {
    "duration": 48,
    "start_time": "2022-08-15T12:39:32.487Z"
   },
   {
    "duration": 5,
    "start_time": "2022-08-15T12:39:36.923Z"
   },
   {
    "duration": 27,
    "start_time": "2022-08-15T12:39:39.280Z"
   },
   {
    "duration": 390,
    "start_time": "2022-08-15T12:39:40.819Z"
   },
   {
    "duration": 498,
    "start_time": "2022-08-15T12:39:45.547Z"
   },
   {
    "duration": 8,
    "start_time": "2022-08-15T12:40:42.247Z"
   },
   {
    "duration": 7,
    "start_time": "2022-08-15T12:40:54.735Z"
   },
   {
    "duration": 5,
    "start_time": "2022-08-15T12:40:59.554Z"
   },
   {
    "duration": 66,
    "start_time": "2022-08-15T12:40:59.561Z"
   },
   {
    "duration": 5,
    "start_time": "2022-08-15T12:40:59.629Z"
   },
   {
    "duration": 43,
    "start_time": "2022-08-15T12:40:59.636Z"
   },
   {
    "duration": 380,
    "start_time": "2022-08-15T12:40:59.682Z"
   },
   {
    "duration": 396,
    "start_time": "2022-08-15T12:41:00.064Z"
   },
   {
    "duration": 368,
    "start_time": "2022-08-15T12:41:00.462Z"
   },
   {
    "duration": 364,
    "start_time": "2022-08-15T12:41:00.832Z"
   },
   {
    "duration": 5,
    "start_time": "2022-08-15T12:41:01.204Z"
   },
   {
    "duration": 53,
    "start_time": "2022-08-15T12:41:01.211Z"
   },
   {
    "duration": 111,
    "start_time": "2022-08-15T12:41:01.266Z"
   },
   {
    "duration": 1554,
    "start_time": "2022-08-15T12:41:01.379Z"
   },
   {
    "duration": 21,
    "start_time": "2022-08-15T12:41:02.935Z"
   },
   {
    "duration": 68,
    "start_time": "2022-08-15T12:41:02.958Z"
   },
   {
    "duration": 213,
    "start_time": "2022-08-15T12:41:03.027Z"
   }
  ],
  "kernelspec": {
   "display_name": "Python 3 (ipykernel)",
   "language": "python",
   "name": "python3"
  },
  "language_info": {
   "codemirror_mode": {
    "name": "ipython",
    "version": 3
   },
   "file_extension": ".py",
   "mimetype": "text/x-python",
   "name": "python",
   "nbconvert_exporter": "python",
   "pygments_lexer": "ipython3",
   "version": "3.9.5"
  },
  "toc": {
   "base_numbering": 1,
   "nav_menu": {},
   "number_sections": true,
   "sideBar": true,
   "skip_h1_title": true,
   "title_cell": "Table of Contents",
   "title_sidebar": "Contents",
   "toc_cell": false,
   "toc_position": {},
   "toc_section_display": true,
   "toc_window_display": false
  }
 },
 "nbformat": 4,
 "nbformat_minor": 2
}
