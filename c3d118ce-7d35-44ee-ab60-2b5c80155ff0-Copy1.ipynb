{
 "cells": [
  {
   "cell_type": "markdown",
   "metadata": {
    "toc": true
   },
   "source": [
    "<h1>Содержание<span class=\"tocSkip\"></span></h1>\n",
    "<div class=\"toc\"><ul class=\"toc-item\"><li><span><a href=\"#Подготовка-данных\" data-toc-modified-id=\"Подготовка-данных-1\"><span class=\"toc-item-num\">1&nbsp;&nbsp;</span>Подготовка данных</a></span><ul class=\"toc-item\"><li><span><a href=\"#Подключение-необходимых-библиотек-и-загрузка-данных\" data-toc-modified-id=\"Подключение-необходимых-библиотек-и-загрузка-данных-1.1\"><span class=\"toc-item-num\">1.1&nbsp;&nbsp;</span>Подключение необходимых библиотек и загрузка данных</a></span></li><li><span><a href=\"#Подготовка-признаков\" data-toc-modified-id=\"Подготовка-признаков-1.2\"><span class=\"toc-item-num\">1.2&nbsp;&nbsp;</span>Подготовка признаков</a></span></li></ul></li><li><span><a href=\"#Исследование-задачи\" data-toc-modified-id=\"Исследование-задачи-2\"><span class=\"toc-item-num\">2&nbsp;&nbsp;</span>Исследование задачи</a></span><ul class=\"toc-item\"><li><span><a href=\"#Решающее-дерево\" data-toc-modified-id=\"Решающее-дерево-2.1\"><span class=\"toc-item-num\">2.1&nbsp;&nbsp;</span>Решающее дерево</a></span></li><li><span><a href=\"#Случайный-лес\" data-toc-modified-id=\"Случайный-лес-2.2\"><span class=\"toc-item-num\">2.2&nbsp;&nbsp;</span>Случайный лес</a></span></li><li><span><a href=\"#Логистическая-регрессия\" data-toc-modified-id=\"Логистическая-регрессия-2.3\"><span class=\"toc-item-num\">2.3&nbsp;&nbsp;</span>Логистическая регрессия</a></span></li></ul></li><li><span><a href=\"#Борьба-с-дисбалансом\" data-toc-modified-id=\"Борьба-с-дисбалансом-3\"><span class=\"toc-item-num\">3&nbsp;&nbsp;</span>Борьба с дисбалансом</a></span><ul class=\"toc-item\"><li><span><a href=\"#Взвешивание-классов\" data-toc-modified-id=\"Взвешивание-классов-3.1\"><span class=\"toc-item-num\">3.1&nbsp;&nbsp;</span>Взвешивание классов</a></span></li><li><span><a href=\"#Upsampling-и-downsampling\" data-toc-modified-id=\"Upsampling-и-downsampling-3.2\"><span class=\"toc-item-num\">3.2&nbsp;&nbsp;</span>Upsampling и downsampling</a></span></li></ul></li><li><span><a href=\"#Тестирование-модели\" data-toc-modified-id=\"Тестирование-модели-4\"><span class=\"toc-item-num\">4&nbsp;&nbsp;</span>Тестирование модели</a></span></li><li><span><a href=\"#Итоговый-вывод\" data-toc-modified-id=\"Итоговый-вывод-5\"><span class=\"toc-item-num\">5&nbsp;&nbsp;</span>Итоговый вывод</a></span></li><li><span><a href=\"#Чек-лист-готовности-проекта\" data-toc-modified-id=\"Чек-лист-готовности-проекта-6\"><span class=\"toc-item-num\">6&nbsp;&nbsp;</span>Чек-лист готовности проекта</a></span></li></ul></div>"
   ]
  },
  {
   "cell_type": "markdown",
   "metadata": {},
   "source": [
    "# Отток клиентов"
   ]
  },
  {
   "cell_type": "markdown",
   "metadata": {},
   "source": [
    "Увеличилось ежемесячное количество клиентов, ушедших из банка. Сохранить существующих клиентов дешевле, чем привлекать новых.\n",
    "\n",
    "Источник данных: [https://www.kaggle.com/barelydedicated/bank-customer-churn-modeling](https://www.kaggle.com/barelydedicated/bank-customer-churn-modeling)"
   ]
  },
  {
   "cell_type": "markdown",
   "metadata": {},
   "source": [
    "**Цели и задачи:**\n",
    "- Проанализировать исторические данные о поведении клиентов банка, расторжении договоров. Спрогнозировать уход клиента из банка.\n",
    "- Построить модель классификации, метрика качества f1 (минимальное значение 0.59)\n",
    "- Измерить AUC-ROC, сравнить её значение с f1-мерой."
   ]
  },
  {
   "cell_type": "markdown",
   "metadata": {},
   "source": [
    "**Описание данных:**\n",
    "\n",
    "Данные находятся в файле /datasets/Churn.csv.\n",
    "\n",
    "Признаки:\n",
    "- RowNumber — индекс строки в данных\n",
    "- CustomerId — уникальный идентификатор клиента\n",
    "- Surname — фамилия\n",
    "- CreditScore — кредитный рейтинг\n",
    "- Geography — страна проживания\n",
    "- Gender — пол\n",
    "- Age — возраст\n",
    "- Tenure — сколько лет человек является клиентом банка\n",
    "- Balance — баланс на счёте\n",
    "- NumOfProducts — количество продуктов банка, используемых клиентом\n",
    "- HasCrCard — наличие кредитной карты\n",
    "- IsActiveMember — активность клиента\n",
    "- EstimatedSalary — предполагаемая зарплата\n",
    "\n",
    "Целевой признак\n",
    "- Exited — факт ухода клиента"
   ]
  },
  {
   "cell_type": "markdown",
   "metadata": {},
   "source": [
    "## Подготовка данных"
   ]
  },
  {
   "cell_type": "markdown",
   "metadata": {},
   "source": [
    "### Подключение необходимых библиотек и загрузка данных"
   ]
  },
  {
   "cell_type": "code",
   "execution_count": 30,
   "metadata": {},
   "outputs": [],
   "source": [
    "import pandas as pd\n",
    "import numpy as np\n",
    "import matplotlib.pyplot as plt\n",
    "from matplotlib.pyplot import figure\n",
    "import seaborn as sns\n",
    "\n",
    "from sklearn.preprocessing import StandardScaler\n",
    "from sklearn.model_selection import train_test_split\n",
    "from sklearn.tree import DecisionTreeClassifier\n",
    "from sklearn.linear_model import LogisticRegression\n",
    "from sklearn.ensemble import RandomForestClassifier, RandomForestRegressor\n",
    "from sklearn.linear_model import LinearRegression\n",
    "from sklearn.neighbors import KNeighborsClassifier\n",
    "from sklearn.svm import SVC\n",
    "from sklearn.metrics import accuracy_score, f1_score, roc_auc_score, r2_score\n",
    "from sklearn.utils import shuffle"
   ]
  },
  {
   "cell_type": "code",
   "execution_count": 31,
   "metadata": {},
   "outputs": [
    {
     "data": {
      "text/html": [
       "<div>\n",
       "<style scoped>\n",
       "    .dataframe tbody tr th:only-of-type {\n",
       "        vertical-align: middle;\n",
       "    }\n",
       "\n",
       "    .dataframe tbody tr th {\n",
       "        vertical-align: top;\n",
       "    }\n",
       "\n",
       "    .dataframe thead th {\n",
       "        text-align: right;\n",
       "    }\n",
       "</style>\n",
       "<table border=\"1\" class=\"dataframe\">\n",
       "  <thead>\n",
       "    <tr style=\"text-align: right;\">\n",
       "      <th></th>\n",
       "      <th>RowNumber</th>\n",
       "      <th>CustomerId</th>\n",
       "      <th>Surname</th>\n",
       "      <th>CreditScore</th>\n",
       "      <th>Geography</th>\n",
       "      <th>Gender</th>\n",
       "      <th>Age</th>\n",
       "      <th>Tenure</th>\n",
       "      <th>Balance</th>\n",
       "      <th>NumOfProducts</th>\n",
       "      <th>HasCrCard</th>\n",
       "      <th>IsActiveMember</th>\n",
       "      <th>EstimatedSalary</th>\n",
       "      <th>Exited</th>\n",
       "    </tr>\n",
       "  </thead>\n",
       "  <tbody>\n",
       "    <tr>\n",
       "      <th>0</th>\n",
       "      <td>1</td>\n",
       "      <td>15634602</td>\n",
       "      <td>Hargrave</td>\n",
       "      <td>619</td>\n",
       "      <td>France</td>\n",
       "      <td>Female</td>\n",
       "      <td>42</td>\n",
       "      <td>2.0</td>\n",
       "      <td>0.00</td>\n",
       "      <td>1</td>\n",
       "      <td>1</td>\n",
       "      <td>1</td>\n",
       "      <td>101348.88</td>\n",
       "      <td>1</td>\n",
       "    </tr>\n",
       "    <tr>\n",
       "      <th>1</th>\n",
       "      <td>2</td>\n",
       "      <td>15647311</td>\n",
       "      <td>Hill</td>\n",
       "      <td>608</td>\n",
       "      <td>Spain</td>\n",
       "      <td>Female</td>\n",
       "      <td>41</td>\n",
       "      <td>1.0</td>\n",
       "      <td>83807.86</td>\n",
       "      <td>1</td>\n",
       "      <td>0</td>\n",
       "      <td>1</td>\n",
       "      <td>112542.58</td>\n",
       "      <td>0</td>\n",
       "    </tr>\n",
       "    <tr>\n",
       "      <th>2</th>\n",
       "      <td>3</td>\n",
       "      <td>15619304</td>\n",
       "      <td>Onio</td>\n",
       "      <td>502</td>\n",
       "      <td>France</td>\n",
       "      <td>Female</td>\n",
       "      <td>42</td>\n",
       "      <td>8.0</td>\n",
       "      <td>159660.80</td>\n",
       "      <td>3</td>\n",
       "      <td>1</td>\n",
       "      <td>0</td>\n",
       "      <td>113931.57</td>\n",
       "      <td>1</td>\n",
       "    </tr>\n",
       "    <tr>\n",
       "      <th>3</th>\n",
       "      <td>4</td>\n",
       "      <td>15701354</td>\n",
       "      <td>Boni</td>\n",
       "      <td>699</td>\n",
       "      <td>France</td>\n",
       "      <td>Female</td>\n",
       "      <td>39</td>\n",
       "      <td>1.0</td>\n",
       "      <td>0.00</td>\n",
       "      <td>2</td>\n",
       "      <td>0</td>\n",
       "      <td>0</td>\n",
       "      <td>93826.63</td>\n",
       "      <td>0</td>\n",
       "    </tr>\n",
       "    <tr>\n",
       "      <th>4</th>\n",
       "      <td>5</td>\n",
       "      <td>15737888</td>\n",
       "      <td>Mitchell</td>\n",
       "      <td>850</td>\n",
       "      <td>Spain</td>\n",
       "      <td>Female</td>\n",
       "      <td>43</td>\n",
       "      <td>2.0</td>\n",
       "      <td>125510.82</td>\n",
       "      <td>1</td>\n",
       "      <td>1</td>\n",
       "      <td>1</td>\n",
       "      <td>79084.10</td>\n",
       "      <td>0</td>\n",
       "    </tr>\n",
       "    <tr>\n",
       "      <th>5</th>\n",
       "      <td>6</td>\n",
       "      <td>15574012</td>\n",
       "      <td>Chu</td>\n",
       "      <td>645</td>\n",
       "      <td>Spain</td>\n",
       "      <td>Male</td>\n",
       "      <td>44</td>\n",
       "      <td>8.0</td>\n",
       "      <td>113755.78</td>\n",
       "      <td>2</td>\n",
       "      <td>1</td>\n",
       "      <td>0</td>\n",
       "      <td>149756.71</td>\n",
       "      <td>1</td>\n",
       "    </tr>\n",
       "    <tr>\n",
       "      <th>6</th>\n",
       "      <td>7</td>\n",
       "      <td>15592531</td>\n",
       "      <td>Bartlett</td>\n",
       "      <td>822</td>\n",
       "      <td>France</td>\n",
       "      <td>Male</td>\n",
       "      <td>50</td>\n",
       "      <td>7.0</td>\n",
       "      <td>0.00</td>\n",
       "      <td>2</td>\n",
       "      <td>1</td>\n",
       "      <td>1</td>\n",
       "      <td>10062.80</td>\n",
       "      <td>0</td>\n",
       "    </tr>\n",
       "    <tr>\n",
       "      <th>7</th>\n",
       "      <td>8</td>\n",
       "      <td>15656148</td>\n",
       "      <td>Obinna</td>\n",
       "      <td>376</td>\n",
       "      <td>Germany</td>\n",
       "      <td>Female</td>\n",
       "      <td>29</td>\n",
       "      <td>4.0</td>\n",
       "      <td>115046.74</td>\n",
       "      <td>4</td>\n",
       "      <td>1</td>\n",
       "      <td>0</td>\n",
       "      <td>119346.88</td>\n",
       "      <td>1</td>\n",
       "    </tr>\n",
       "    <tr>\n",
       "      <th>8</th>\n",
       "      <td>9</td>\n",
       "      <td>15792365</td>\n",
       "      <td>He</td>\n",
       "      <td>501</td>\n",
       "      <td>France</td>\n",
       "      <td>Male</td>\n",
       "      <td>44</td>\n",
       "      <td>4.0</td>\n",
       "      <td>142051.07</td>\n",
       "      <td>2</td>\n",
       "      <td>0</td>\n",
       "      <td>1</td>\n",
       "      <td>74940.50</td>\n",
       "      <td>0</td>\n",
       "    </tr>\n",
       "    <tr>\n",
       "      <th>9</th>\n",
       "      <td>10</td>\n",
       "      <td>15592389</td>\n",
       "      <td>H?</td>\n",
       "      <td>684</td>\n",
       "      <td>France</td>\n",
       "      <td>Male</td>\n",
       "      <td>27</td>\n",
       "      <td>2.0</td>\n",
       "      <td>134603.88</td>\n",
       "      <td>1</td>\n",
       "      <td>1</td>\n",
       "      <td>1</td>\n",
       "      <td>71725.73</td>\n",
       "      <td>0</td>\n",
       "    </tr>\n",
       "  </tbody>\n",
       "</table>\n",
       "</div>"
      ],
      "text/plain": [
       "   RowNumber  CustomerId   Surname  CreditScore Geography  Gender  Age  \\\n",
       "0          1    15634602  Hargrave          619    France  Female   42   \n",
       "1          2    15647311      Hill          608     Spain  Female   41   \n",
       "2          3    15619304      Onio          502    France  Female   42   \n",
       "3          4    15701354      Boni          699    France  Female   39   \n",
       "4          5    15737888  Mitchell          850     Spain  Female   43   \n",
       "5          6    15574012       Chu          645     Spain    Male   44   \n",
       "6          7    15592531  Bartlett          822    France    Male   50   \n",
       "7          8    15656148    Obinna          376   Germany  Female   29   \n",
       "8          9    15792365        He          501    France    Male   44   \n",
       "9         10    15592389        H?          684    France    Male   27   \n",
       "\n",
       "   Tenure    Balance  NumOfProducts  HasCrCard  IsActiveMember  \\\n",
       "0     2.0       0.00              1          1               1   \n",
       "1     1.0   83807.86              1          0               1   \n",
       "2     8.0  159660.80              3          1               0   \n",
       "3     1.0       0.00              2          0               0   \n",
       "4     2.0  125510.82              1          1               1   \n",
       "5     8.0  113755.78              2          1               0   \n",
       "6     7.0       0.00              2          1               1   \n",
       "7     4.0  115046.74              4          1               0   \n",
       "8     4.0  142051.07              2          0               1   \n",
       "9     2.0  134603.88              1          1               1   \n",
       "\n",
       "   EstimatedSalary  Exited  \n",
       "0        101348.88       1  \n",
       "1        112542.58       0  \n",
       "2        113931.57       1  \n",
       "3         93826.63       0  \n",
       "4         79084.10       0  \n",
       "5        149756.71       1  \n",
       "6         10062.80       0  \n",
       "7        119346.88       1  \n",
       "8         74940.50       0  \n",
       "9         71725.73       0  "
      ]
     },
     "metadata": {},
     "output_type": "display_data"
    },
    {
     "name": "stdout",
     "output_type": "stream",
     "text": [
      "<class 'pandas.core.frame.DataFrame'>\n",
      "RangeIndex: 10000 entries, 0 to 9999\n",
      "Data columns (total 14 columns):\n",
      " #   Column           Non-Null Count  Dtype  \n",
      "---  ------           --------------  -----  \n",
      " 0   RowNumber        10000 non-null  int64  \n",
      " 1   CustomerId       10000 non-null  int64  \n",
      " 2   Surname          10000 non-null  object \n",
      " 3   CreditScore      10000 non-null  int64  \n",
      " 4   Geography        10000 non-null  object \n",
      " 5   Gender           10000 non-null  object \n",
      " 6   Age              10000 non-null  int64  \n",
      " 7   Tenure           9091 non-null   float64\n",
      " 8   Balance          10000 non-null  float64\n",
      " 9   NumOfProducts    10000 non-null  int64  \n",
      " 10  HasCrCard        10000 non-null  int64  \n",
      " 11  IsActiveMember   10000 non-null  int64  \n",
      " 12  EstimatedSalary  10000 non-null  float64\n",
      " 13  Exited           10000 non-null  int64  \n",
      "dtypes: float64(3), int64(8), object(3)\n",
      "memory usage: 1.1+ MB\n"
     ]
    }
   ],
   "source": [
    "data = pd.read_csv('/datasets/Churn.csv')\n",
    "display(data.head(10))\n",
    "data.info()"
   ]
  },
  {
   "cell_type": "markdown",
   "metadata": {},
   "source": [
    "Видим, что в колонке Tenure отсутствует около 10% данных. Далее решим, что с этим делать"
   ]
  },
  {
   "cell_type": "markdown",
   "metadata": {},
   "source": [
    "Посмотрим, есть ли дубликаты в данных"
   ]
  },
  {
   "cell_type": "code",
   "execution_count": 32,
   "metadata": {},
   "outputs": [
    {
     "data": {
      "text/plain": [
       "0"
      ]
     },
     "execution_count": 32,
     "metadata": {},
     "output_type": "execute_result"
    }
   ],
   "source": [
    "data.duplicated().sum()"
   ]
  },
  {
   "cell_type": "markdown",
   "metadata": {},
   "source": [
    "### Подготовка признаков"
   ]
  },
  {
   "cell_type": "markdown",
   "metadata": {},
   "source": [
    "1) Удалим признаки RowNumber, CustomerId и Surname, т.к. не несут в себе информации, необходимой для решения задач, поставленных в проекте."
   ]
  },
  {
   "cell_type": "code",
   "execution_count": 33,
   "metadata": {},
   "outputs": [],
   "source": [
    "data = data.drop(['RowNumber', 'CustomerId', 'Surname'], axis=1)"
   ]
  },
  {
   "cell_type": "markdown",
   "metadata": {},
   "source": [
    "2) Посмотрим на распределения числовых признаков"
   ]
  },
  {
   "cell_type": "code",
   "execution_count": 34,
   "metadata": {},
   "outputs": [],
   "source": [
    "numerics = ['CreditScore', 'Age', 'Balance', 'EstimatedSalary']"
   ]
  },
  {
   "cell_type": "code",
   "execution_count": 35,
   "metadata": {},
   "outputs": [
    {
     "data": {
      "image/png": "[encoded data removed]",
      "text/plain": [
       "<Figure size 1008x432 with 2 Axes>"
      ]
     },
     "metadata": {},
     "output_type": "display_data"
    }
   ],
   "source": [
    "sns.set_theme()\n",
    "f, axes = plt.subplots(1, 2, figsize=(14, 6))\n",
    "axes[0].set_xlabel('Величина рейтинга')\n",
    "axes[0].set_ylabel('Количество случаев')\n",
    "sns.histplot(data['CreditScore'], bins=30, kde=True, ax=axes[0])\n",
    "axes[1].set_ylabel('Величина рейтинга')\n",
    "sns.boxplot(data=data['CreditScore'], ax=axes[1])\n",
    "plt.show()"
   ]
  },
  {
   "cell_type": "code",
   "execution_count": 36,
   "metadata": {},
   "outputs": [
    {
     "data": {
      "image/png": "[encoded data removed]",
      "text/plain": [
       "<Figure size 1008x432 with 2 Axes>"
      ]
     },
     "metadata": {},
     "output_type": "display_data"
    }
   ],
   "source": [
    "sns.set_theme()\n",
    "f, axes = plt.subplots(1, 2, figsize=(14, 6))\n",
    "axes[0].set_xlabel('Возраст')\n",
    "axes[0].set_ylabel('Количество случаев')\n",
    "sns.histplot(data['Age'], bins=30, kde=True, ax=axes[0])\n",
    "axes[1].set_ylabel('Возраст')\n",
    "sns.boxplot(data=data['Age'], ax=axes[1])\n",
    "plt.show()"
   ]
  },
  {
   "cell_type": "code",
   "execution_count": 37,
   "metadata": {},
   "outputs": [
    {
     "data": {
      "image/png": "[encoded data removed]",
      "text/plain": [
       "<Figure size 1008x432 with 2 Axes>"
      ]
     },
     "metadata": {},
     "output_type": "display_data"
    }
   ],
   "source": [
    "sns.set_theme()\n",
    "f, axes = plt.subplots(1, 2, figsize=(14, 6))\n",
    "axes[0].set_xlabel('Баланс на счете')\n",
    "axes[0].set_ylabel('Количество случаев')\n",
    "sns.histplot(data['Balance'], bins=30, kde=True, ax=axes[0])\n",
    "axes[1].set_ylabel('Баланс на счете')\n",
    "sns.boxplot(data=data['Balance'], ax=axes[1])\n",
    "plt.show()"
   ]
  },
  {
   "cell_type": "code",
   "execution_count": 38,
   "metadata": {},
   "outputs": [
    {
     "data": {
      "image/png": "[encoded data removed]",
      "text/plain": [
       "<Figure size 1008x432 with 2 Axes>"
      ]
     },
     "metadata": {},
     "output_type": "display_data"
    }
   ],
   "source": [
    "sns.set_theme()\n",
    "f, axes = plt.subplots(1, 2, figsize=(14, 6))\n",
    "axes[0].set_xlabel('Предполагаемая ЗП')\n",
    "axes[0].set_ylabel('Количество случаев')\n",
    "sns.histplot(data['EstimatedSalary'], bins=30, kde=True, ax=axes[0])\n",
    "axes[1].set_ylabel('Предполагаемая ЗП')\n",
    "sns.boxplot(data=data['EstimatedSalary'], ax=axes[1])\n",
    "plt.show()"
   ]
  },
  {
   "cell_type": "markdown",
   "metadata": {},
   "source": [
    "3) Т.к. масштаб данных разных, нам необходимо применить масштабирование с помощью StandardScaler библиотеки sklearn к числовым признакам CreditScore, Age, Balance, EstimatedSalary."
   ]
  },
  {
   "cell_type": "code",
   "execution_count": 39,
   "metadata": {},
   "outputs": [],
   "source": [
    "scaler = StandardScaler()\n",
    "data[numerics] = scaler.fit_transform(data[numerics])"
   ]
  },
  {
   "cell_type": "code",
   "execution_count": 40,
   "metadata": {},
   "outputs": [
    {
     "data": {
      "text/html": [
       "<div>\n",
       "<style scoped>\n",
       "    .dataframe tbody tr th:only-of-type {\n",
       "        vertical-align: middle;\n",
       "    }\n",
       "\n",
       "    .dataframe tbody tr th {\n",
       "        vertical-align: top;\n",
       "    }\n",
       "\n",
       "    .dataframe thead th {\n",
       "        text-align: right;\n",
       "    }\n",
       "</style>\n",
       "<table border=\"1\" class=\"dataframe\">\n",
       "  <thead>\n",
       "    <tr style=\"text-align: right;\">\n",
       "      <th></th>\n",
       "      <th>CreditScore</th>\n",
       "      <th>Geography</th>\n",
       "      <th>Gender</th>\n",
       "      <th>Age</th>\n",
       "      <th>Tenure</th>\n",
       "      <th>Balance</th>\n",
       "      <th>NumOfProducts</th>\n",
       "      <th>HasCrCard</th>\n",
       "      <th>IsActiveMember</th>\n",
       "      <th>EstimatedSalary</th>\n",
       "      <th>Exited</th>\n",
       "    </tr>\n",
       "  </thead>\n",
       "  <tbody>\n",
       "    <tr>\n",
       "      <th>0</th>\n",
       "      <td>-0.326221</td>\n",
       "      <td>France</td>\n",
       "      <td>Female</td>\n",
       "      <td>0.293517</td>\n",
       "      <td>2.0</td>\n",
       "      <td>-1.225848</td>\n",
       "      <td>1</td>\n",
       "      <td>1</td>\n",
       "      <td>1</td>\n",
       "      <td>0.021886</td>\n",
       "      <td>1</td>\n",
       "    </tr>\n",
       "    <tr>\n",
       "      <th>1</th>\n",
       "      <td>-0.440036</td>\n",
       "      <td>Spain</td>\n",
       "      <td>Female</td>\n",
       "      <td>0.198164</td>\n",
       "      <td>1.0</td>\n",
       "      <td>0.117350</td>\n",
       "      <td>1</td>\n",
       "      <td>0</td>\n",
       "      <td>1</td>\n",
       "      <td>0.216534</td>\n",
       "      <td>0</td>\n",
       "    </tr>\n",
       "    <tr>\n",
       "      <th>2</th>\n",
       "      <td>-1.536794</td>\n",
       "      <td>France</td>\n",
       "      <td>Female</td>\n",
       "      <td>0.293517</td>\n",
       "      <td>8.0</td>\n",
       "      <td>1.333053</td>\n",
       "      <td>3</td>\n",
       "      <td>1</td>\n",
       "      <td>0</td>\n",
       "      <td>0.240687</td>\n",
       "      <td>1</td>\n",
       "    </tr>\n",
       "    <tr>\n",
       "      <th>3</th>\n",
       "      <td>0.501521</td>\n",
       "      <td>France</td>\n",
       "      <td>Female</td>\n",
       "      <td>0.007457</td>\n",
       "      <td>1.0</td>\n",
       "      <td>-1.225848</td>\n",
       "      <td>2</td>\n",
       "      <td>0</td>\n",
       "      <td>0</td>\n",
       "      <td>-0.108918</td>\n",
       "      <td>0</td>\n",
       "    </tr>\n",
       "    <tr>\n",
       "      <th>4</th>\n",
       "      <td>2.063884</td>\n",
       "      <td>Spain</td>\n",
       "      <td>Female</td>\n",
       "      <td>0.388871</td>\n",
       "      <td>2.0</td>\n",
       "      <td>0.785728</td>\n",
       "      <td>1</td>\n",
       "      <td>1</td>\n",
       "      <td>1</td>\n",
       "      <td>-0.365276</td>\n",
       "      <td>0</td>\n",
       "    </tr>\n",
       "  </tbody>\n",
       "</table>\n",
       "</div>"
      ],
      "text/plain": [
       "   CreditScore Geography  Gender       Age  Tenure   Balance  NumOfProducts  \\\n",
       "0    -0.326221    France  Female  0.293517     2.0 -1.225848              1   \n",
       "1    -0.440036     Spain  Female  0.198164     1.0  0.117350              1   \n",
       "2    -1.536794    France  Female  0.293517     8.0  1.333053              3   \n",
       "3     0.501521    France  Female  0.007457     1.0 -1.225848              2   \n",
       "4     2.063884     Spain  Female  0.388871     2.0  0.785728              1   \n",
       "\n",
       "   HasCrCard  IsActiveMember  EstimatedSalary  Exited  \n",
       "0          1               1         0.021886       1  \n",
       "1          0               1         0.216534       0  \n",
       "2          1               0         0.240687       1  \n",
       "3          0               0        -0.108918       0  \n",
       "4          1               1        -0.365276       0  "
      ]
     },
     "execution_count": 40,
     "metadata": {},
     "output_type": "execute_result"
    }
   ],
   "source": [
    "#убедимся, что все сработало\n",
    "data.head(5)"
   ]
  },
  {
   "cell_type": "markdown",
   "metadata": {},
   "source": [
    "4) Посмотрим на распределения категориальных признаков."
   ]
  },
  {
   "cell_type": "code",
   "execution_count": 41,
   "metadata": {},
   "outputs": [],
   "source": [
    "categoricals = ['Geography', 'Gender', 'Tenure', 'NumOfProducts', 'HasCrCard', 'IsActiveMember', 'Exited']"
   ]
  },
  {
   "cell_type": "code",
   "execution_count": 42,
   "metadata": {
    "scrolled": true
   },
   "outputs": [
    {
     "name": "stderr",
     "output_type": "stream",
     "text": [
      "/opt/conda/lib/python3.9/site-packages/seaborn/_decorators.py:36: FutureWarning: Pass the following variable as a keyword arg: x. From version 0.12, the only valid positional argument will be `data`, and passing other arguments without an explicit keyword will result in an error or misinterpretation.\n",
      "  warnings.warn(\n"
     ]
    },
    {
     "data": {
      "image/png": "[encoded data removed]",
      "text/plain": [
       "<Figure size 360x360 with 1 Axes>"
      ]
     },
     "metadata": {},
     "output_type": "display_data"
    }
   ],
   "source": [
    "figure(figsize=(5,5))\n",
    "sns.countplot(data['Geography'])\n",
    "plt.xlabel('Geography')\n",
    "plt.ylabel('Количество случаев')\n",
    "plt.show()"
   ]
  },
  {
   "cell_type": "code",
   "execution_count": 43,
   "metadata": {},
   "outputs": [
    {
     "name": "stderr",
     "output_type": "stream",
     "text": [
      "/opt/conda/lib/python3.9/site-packages/seaborn/_decorators.py:36: FutureWarning: Pass the following variable as a keyword arg: x. From version 0.12, the only valid positional argument will be `data`, and passing other arguments without an explicit keyword will result in an error or misinterpretation.\n",
      "  warnings.warn(\n"
     ]
    },
    {
     "data": {
      "image/png": "[encoded data removed]",
      "text/plain": [
       "<Figure size 360x360 with 1 Axes>"
      ]
     },
     "metadata": {},
     "output_type": "display_data"
    }
   ],
   "source": [
    "figure(figsize=(5,5))\n",
    "sns.countplot(data['Gender'])\n",
    "plt.xlabel('Gender')\n",
    "plt.ylabel('Количество случаев')\n",
    "plt.show()"
   ]
  },
  {
   "cell_type": "code",
   "execution_count": 44,
   "metadata": {},
   "outputs": [
    {
     "name": "stderr",
     "output_type": "stream",
     "text": [
      "/opt/conda/lib/python3.9/site-packages/seaborn/_decorators.py:36: FutureWarning: Pass the following variable as a keyword arg: x. From version 0.12, the only valid positional argument will be `data`, and passing other arguments without an explicit keyword will result in an error or misinterpretation.\n",
      "  warnings.warn(\n"
     ]
    },
    {
     "data": {
      "image/png": "[encoded data removed]",
      "text/plain": [
       "<Figure size 360x360 with 1 Axes>"
      ]
     },
     "metadata": {},
     "output_type": "display_data"
    }
   ],
   "source": [
    "figure(figsize=(5,5))\n",
    "sns.countplot(data['Tenure'])\n",
    "plt.xlabel('Tenure')\n",
    "plt.ylabel('Количество случаев')\n",
    "plt.show()"
   ]
  },
  {
   "cell_type": "code",
   "execution_count": 45,
   "metadata": {},
   "outputs": [
    {
     "name": "stderr",
     "output_type": "stream",
     "text": [
      "/opt/conda/lib/python3.9/site-packages/seaborn/_decorators.py:36: FutureWarning: Pass the following variable as a keyword arg: x. From version 0.12, the only valid positional argument will be `data`, and passing other arguments without an explicit keyword will result in an error or misinterpretation.\n",
      "  warnings.warn(\n"
     ]
    },
    {
     "data": {
      "image/png": "[encoded data removed]",
      "text/plain": [
       "<Figure size 360x360 with 1 Axes>"
      ]
     },
     "metadata": {},
     "output_type": "display_data"
    }
   ],
   "source": [
    "figure(figsize=(5,5))\n",
    "sns.countplot(data['NumOfProducts'])\n",
    "plt.xlabel('NumOfProducts')\n",
    "plt.ylabel('Количество случаев')\n",
    "plt.show()"
   ]
  },
  {
   "cell_type": "code",
   "execution_count": 46,
   "metadata": {},
   "outputs": [
    {
     "name": "stderr",
     "output_type": "stream",
     "text": [
      "/opt/conda/lib/python3.9/site-packages/seaborn/_decorators.py:36: FutureWarning: Pass the following variable as a keyword arg: x. From version 0.12, the only valid positional argument will be `data`, and passing other arguments without an explicit keyword will result in an error or misinterpretation.\n",
      "  warnings.warn(\n"
     ]
    },
    {
     "data": {
      "image/png": "[encoded data removed]",
      "text/plain": [
       "<Figure size 360x360 with 1 Axes>"
      ]
     },
     "metadata": {},
     "output_type": "display_data"
    }
   ],
   "source": [
    "figure(figsize=(5,5))\n",
    "sns.countplot(data['HasCrCard'])\n",
    "plt.xlabel('HasCrCard')\n",
    "plt.ylabel('Количество случаев')\n",
    "plt.show()"
   ]
  },
  {
   "cell_type": "code",
   "execution_count": 47,
   "metadata": {},
   "outputs": [
    {
     "name": "stderr",
     "output_type": "stream",
     "text": [
      "/opt/conda/lib/python3.9/site-packages/seaborn/_decorators.py:36: FutureWarning: Pass the following variable as a keyword arg: x. From version 0.12, the only valid positional argument will be `data`, and passing other arguments without an explicit keyword will result in an error or misinterpretation.\n",
      "  warnings.warn(\n"
     ]
    },
    {
     "data": {
      "image/png": "[encoded data removed]",
      "text/plain": [
       "<Figure size 360x360 with 1 Axes>"
      ]
     },
     "metadata": {},
     "output_type": "display_data"
    }
   ],
   "source": [
    "figure(figsize=(5,5))\n",
    "sns.countplot(data['IsActiveMember'])\n",
    "plt.xlabel('IsActiveMember')\n",
    "plt.ylabel('Количество случаев')\n",
    "plt.show()"
   ]
  },
  {
   "cell_type": "code",
   "execution_count": 48,
   "metadata": {},
   "outputs": [
    {
     "name": "stderr",
     "output_type": "stream",
     "text": [
      "/opt/conda/lib/python3.9/site-packages/seaborn/_decorators.py:36: FutureWarning: Pass the following variable as a keyword arg: x. From version 0.12, the only valid positional argument will be `data`, and passing other arguments without an explicit keyword will result in an error or misinterpretation.\n",
      "  warnings.warn(\n"
     ]
    },
    {
     "data": {
      "image/png": "[encoded data removed]",
      "text/plain": [
       "<Figure size 360x360 with 1 Axes>"
      ]
     },
     "metadata": {},
     "output_type": "display_data"
    }
   ],
   "source": [
    "figure(figsize=(5,5))\n",
    "sns.countplot(data['Exited'])\n",
    "plt.xlabel('Exited')\n",
    "plt.ylabel('Количество случаев')\n",
    "plt.show()"
   ]
  },
  {
   "cell_type": "markdown",
   "metadata": {},
   "source": [
    "- Целевой признак Exited распределён примерно 4:1.\n",
    "- Количество категорий в признаках Geography, Gender небольшое. Преобразуем их методом One-Hot Encoding."
   ]
  },
  {
   "cell_type": "code",
   "execution_count": 49,
   "metadata": {},
   "outputs": [],
   "source": [
    "# для преобразования воспользуемся методом pd.get_dummies\n",
    "data = pd.get_dummies(data, drop_first=True)"
   ]
  },
  {
   "cell_type": "markdown",
   "metadata": {},
   "source": [
    "5) Устраним пропуски в колонке Tenure"
   ]
  },
  {
   "cell_type": "code",
   "execution_count": 50,
   "metadata": {},
   "outputs": [],
   "source": [
    "data.loc[data['Tenure'].isna(), 'Tenure'] = -1\n",
    "data['Tenure'] = data['Tenure'].astype('int64')"
   ]
  },
  {
   "cell_type": "code",
   "execution_count": 51,
   "metadata": {},
   "outputs": [
    {
     "name": "stdout",
     "output_type": "stream",
     "text": [
      "<class 'pandas.core.frame.DataFrame'>\n",
      "RangeIndex: 10000 entries, 0 to 9999\n",
      "Data columns (total 12 columns):\n",
      " #   Column             Non-Null Count  Dtype  \n",
      "---  ------             --------------  -----  \n",
      " 0   CreditScore        10000 non-null  float64\n",
      " 1   Age                10000 non-null  float64\n",
      " 2   Tenure             10000 non-null  int64  \n",
      " 3   Balance            10000 non-null  float64\n",
      " 4   NumOfProducts      10000 non-null  int64  \n",
      " 5   HasCrCard          10000 non-null  int64  \n",
      " 6   IsActiveMember     10000 non-null  int64  \n",
      " 7   EstimatedSalary    10000 non-null  float64\n",
      " 8   Exited             10000 non-null  int64  \n",
      " 9   Geography_Germany  10000 non-null  uint8  \n",
      " 10  Geography_Spain    10000 non-null  uint8  \n",
      " 11  Gender_Male        10000 non-null  uint8  \n",
      "dtypes: float64(4), int64(5), uint8(3)\n",
      "memory usage: 732.5 KB\n"
     ]
    }
   ],
   "source": [
    "data.info()"
   ]
  },
  {
   "cell_type": "markdown",
   "metadata": {},
   "source": [
    "**Выводы**"
   ]
  },
  {
   "cell_type": "markdown",
   "metadata": {},
   "source": [
    "- Данные успешно загружены и проверены на соответствие описанию. Дубликатов нет. Типы данных преобразованы в соответствии с хранимой информацией\n",
    "- Признаки RowNumber, CustomerId и Surname удалены, так как целевой признак от них никак не зависит\n",
    "- Были рассмотрены распределения признаков\n",
    "- Числовые признаки приведены к стандартному виду методом StandardScaler (среднее = 0, стандартное отклонение = 1)\n",
    "- Целевой признак распределён в сооотношении 4:1\n",
    "- В признаке Tenure обнаружено около 10% пропусков. Они были заполнены значением -1"
   ]
  },
  {
   "cell_type": "markdown",
   "metadata": {},
   "source": [
    "## Исследование задачи"
   ]
  },
  {
   "cell_type": "markdown",
   "metadata": {},
   "source": [
    "Для начала разделим данные на признаки и целевой признак:"
   ]
  },
  {
   "cell_type": "code",
   "execution_count": 52,
   "metadata": {},
   "outputs": [],
   "source": [
    "features = data.drop('Exited', axis=1)\n",
    "target = data['Exited']"
   ]
  },
  {
   "cell_type": "markdown",
   "metadata": {},
   "source": [
    "Разделим данные на обучающую, валидационную и тестовую выборки в пропорции 3:1:1 соответственно (60% на обучающию и по 20% данных на валидационную и тестовую выборки)."
   ]
  },
  {
   "cell_type": "code",
   "execution_count": 53,
   "metadata": {},
   "outputs": [],
   "source": [
    "X, X_test, y, y_test = train_test_split(features, target, test_size=0.2, random_state=123)\n",
    "X_train, X_valid, y_train, y_valid = train_test_split(X, y, test_size=0.25, random_state=123)"
   ]
  },
  {
   "cell_type": "code",
   "execution_count": 54,
   "metadata": {},
   "outputs": [
    {
     "name": "stdout",
     "output_type": "stream",
     "text": [
      "Размеры наборов данных:\n",
      "X_train:  (6000, 11)\n",
      "X_valid:  (2000, 11)\n",
      "X_test:   (2000, 11)\n"
     ]
    }
   ],
   "source": [
    "print('Размеры наборов данных:')\n",
    "print('X_train: ', X_train.shape)\n",
    "print('X_valid: ', X_valid.shape)\n",
    "print('X_test:  ', X_test.shape)"
   ]
  },
  {
   "cell_type": "markdown",
   "metadata": {},
   "source": [
    "### Решающее дерево"
   ]
  },
  {
   "cell_type": "markdown",
   "metadata": {},
   "source": [
    "Инициируем модель решающего дерева DecisionTreeClassifier\n",
    "<br>Гиперпараметр max_depth - максимальная глубина древа\n",
    "<br>Критерием проверки качества модели будет f1 и roc_auc"
   ]
  },
  {
   "cell_type": "code",
   "execution_count": 55,
   "metadata": {},
   "outputs": [
    {
     "name": "stdout",
     "output_type": "stream",
     "text": [
      "DecisionTreeClassifier(max_depth=5, random_state=12345)\n",
      "0.5677233429394812\n",
      "DecisionTreeClassifier(max_depth=5, random_state=12345)\n",
      "0.7101567209162146\n"
     ]
    }
   ],
   "source": [
    "best_model_dt_f1 = None\n",
    "best_f1_dt = 0\n",
    "best_model_dt_roc_auc = None\n",
    "best_roc_auc_dt = 0\n",
    "for max_depth in range(2,20):\n",
    "    model_dt = DecisionTreeClassifier(random_state=12345,\n",
    "                                          max_depth=max_depth)\n",
    "    model_dt.fit(X_train, y_train)\n",
    "    predictions = model_dt.predict(X_valid)\n",
    "    f1 = f1_score(y_valid, predictions)\n",
    "    if f1 > best_f1_dt:\n",
    "        best_model_dt_f1 = model_dt\n",
    "        best_f1_dt = f1\n",
    "        roc_auc = roc_auc_score(y_valid, predictions)\n",
    "    if roc_auc > best_roc_auc_dt:\n",
    "        best_model_dt_roc_auc = model_dt\n",
    "        best_roc_auc_dt = roc_auc\n",
    "        \n",
    "print(best_model_dt_f1)\n",
    "print(best_f1_dt)\n",
    "print(best_model_dt_roc_auc)\n",
    "print(best_roc_auc_dt)"
   ]
  },
  {
   "cell_type": "markdown",
   "metadata": {},
   "source": [
    "Наилучшая метрика f1 для решающего дерева 0.57 (недостаточно по техническому заданию).\n",
    "<br>Наилучший результат по метрикам f1 и roc_auc достигается при одинаковой настройке гиперпараметров."
   ]
  },
  {
   "cell_type": "markdown",
   "metadata": {},
   "source": [
    "### Случайный лес"
   ]
  },
  {
   "cell_type": "markdown",
   "metadata": {},
   "source": [
    "Инициируем модель случайного леса RandomForestClassifier\n",
    "<br>Выделим гиперпараметры для настройки модели:\n",
    "<br>Гиперпараметр n_estimators - количество деревьев\n",
    "<br>Гиперпараметр max_depth - максимальная глубина древа\n",
    "<br>Критерием проверки качества модели будет f1 и roc_auc."
   ]
  },
  {
   "cell_type": "code",
   "execution_count": 56,
   "metadata": {},
   "outputs": [
    {
     "name": "stdout",
     "output_type": "stream",
     "text": [
      "RandomForestClassifier(max_depth=18, n_estimators=31, random_state=12345)\n",
      "0.5795795795795795\n",
      "RandomForestClassifier(max_depth=18, n_estimators=31, random_state=12345)\n",
      "0.7129897528631706\n"
     ]
    }
   ],
   "source": [
    "best_model_rf_f1 = None\n",
    "best_f1_rf = 0\n",
    "best_model_rf_roc_auc = None\n",
    "best_roc_auc_rf = 0\n",
    "for n_estimators in range(10,35):\n",
    "    for max_depth in range(5,25,1):\n",
    "        model_rf = RandomForestClassifier(random_state=12345,\n",
    "                                              n_estimators=n_estimators,\n",
    "                                              max_depth=max_depth)\n",
    "        model_rf.fit(X_train, y_train)\n",
    "        predictions = model_rf.predict(X_valid)\n",
    "        f1 = f1_score(y_valid, predictions)\n",
    "        if f1 > best_f1_rf:\n",
    "            best_model_rf_f1 = model_rf\n",
    "            best_f1_rf = f1\n",
    "            roc_auc = roc_auc_score(y_valid, predictions)\n",
    "        if roc_auc > best_roc_auc_rf:\n",
    "            best_model_rf_roc_auc = model_rf\n",
    "            best_roc_auc_rf = roc_auc\n",
    "        \n",
    "print(best_model_rf_f1)\n",
    "print(best_f1_rf)\n",
    "print(best_model_rf_roc_auc)\n",
    "print(best_roc_auc_rf)"
   ]
  },
  {
   "cell_type": "markdown",
   "metadata": {},
   "source": [
    "Наилучшая метрика f1 для случайного леса 0.586 (не достаточно по техническому заданию).\n",
    "<br>Наилучший результат по метрикам f1 и roc_auc достигается при одинаковой настройке гиперпараметров."
   ]
  },
  {
   "cell_type": "markdown",
   "metadata": {},
   "source": [
    "### Логистическая регрессия"
   ]
  },
  {
   "cell_type": "code",
   "execution_count": 57,
   "metadata": {},
   "outputs": [
    {
     "name": "stdout",
     "output_type": "stream",
     "text": [
      "LogisticRegression(max_iter=1000, random_state=123)\n",
      "0.27106227106227104\n",
      "LogisticRegression(max_iter=1000, random_state=123)\n",
      "0.5716395418927065\n"
     ]
    }
   ],
   "source": [
    "best_model_f1 = None\n",
    "best_f1 = 0\n",
    "best_model_roc_auc = None\n",
    "best_roc_auc = 0\n",
    "\n",
    "model_lr_clf = LogisticRegression(random_state=123,\n",
    "                                  max_iter=1000)\n",
    "model_lr_clf.fit(X_train, y_train)\n",
    "predictions = model_lr_clf.predict(X_valid)\n",
    "f1 = f1_score(y_valid, predictions)\n",
    "if f1 > best_f1:\n",
    "    best_model_f1 = model_lr_clf\n",
    "    best_f1 = f1\n",
    "    roc_auc = roc_auc_score(y_valid, predictions)\n",
    "if roc_auc > best_roc_auc:\n",
    "    best_model_roc_auc = model_lr_clf\n",
    "    best_roc_auc = roc_auc\n",
    "print(best_model_f1)\n",
    "print(best_f1)\n",
    "print(best_model_roc_auc)\n",
    "print(best_roc_auc)"
   ]
  },
  {
   "cell_type": "markdown",
   "metadata": {},
   "source": [
    "Наилучшая метрика f1 для логистической регрессии 0.27 (хуже, чем на остальных моделях).\n",
    "<br>Наилучший результат по метрикам f1 и roc_auc достигается при одинаковой настройке гиперпараметров.\n",
    "<br>Попробуем улучшить результат, разобравшись с дисбалансом классов."
   ]
  },
  {
   "cell_type": "markdown",
   "metadata": {},
   "source": [
    "**Выводы**\n",
    "- Исходные данные разделены на обучающую, валидационную и тестовую выборки в соотношении 3:1:1 соответственно\n",
    "- Обучены модели \"Решающее Дерево\", \"Случайный лес\", \"Логистическая Регрессия\" без учёта дисбаланса классов. Максимальное значение метрики f1 = 0.586 получено при обучении модели случайного леса. Качество модели не удовлетворяет условию технического задания.\n",
    "- Качество моделей также оценено по метрике roc_auc. Максимальное значение метрики roc_auc = 0.73 достигнуто при обучении модели случайного леса.\n",
    "- Метрики f1 и roc_auc достигли максимальных значений при одинаковых настройках гиперпараметров (но такой результат получается не всегда)."
   ]
  },
  {
   "cell_type": "markdown",
   "metadata": {},
   "source": [
    "## Борьба с дисбалансом"
   ]
  },
  {
   "cell_type": "markdown",
   "metadata": {},
   "source": [
    "Соотношение значений целевого признака 4:1 (для классов 0 и 1 соответственно)\n",
    "<br>Для борьбы с дисбалансом классов попробуем:\n",
    "- взвешивание классов (class_weight='balanced')\n",
    "- увеличение выборки положительного класса (копирование объектов)\n",
    "- уменьшение выборки отрицательного класса (sampling)\n",
    "- перемешивание объектов методом shuffle"
   ]
  },
  {
   "cell_type": "markdown",
   "metadata": {},
   "source": [
    "### Взвешивание классов"
   ]
  },
  {
   "cell_type": "code",
   "execution_count": 58,
   "metadata": {},
   "outputs": [
    {
     "name": "stdout",
     "output_type": "stream",
     "text": [
      "DecisionTreeClassifier(class_weight='balanced', max_depth=10,\n",
      "                       random_state=12345)\n",
      "0.5562372188139059\n",
      "DecisionTreeClassifier(class_weight='balanced', max_depth=6, random_state=12345)\n",
      "0.7490958408679927\n"
     ]
    }
   ],
   "source": [
    "best_model_f1 = None\n",
    "best_f1 = 0\n",
    "best_model_roc_auc = None\n",
    "best_roc_auc = 0\n",
    "for max_depth in range(2,20):\n",
    "    model_dt_clf = DecisionTreeClassifier(random_state=12345,\n",
    "                                         max_depth=max_depth,\n",
    "                                         class_weight='balanced')\n",
    "    model_dt_clf.fit(X_train, y_train)\n",
    "    predictions = model_dt_clf.predict(X_valid)\n",
    "    f1 = f1_score(y_valid, predictions)\n",
    "    if f1 > best_f1:\n",
    "        best_model_f1 = model_dt_clf\n",
    "        best_f1 = f1\n",
    "        roc_auc = roc_auc_score(y_valid, predictions)\n",
    "    if roc_auc > best_roc_auc:\n",
    "        best_model_roc_auc = model_dt_clf\n",
    "        best_roc_auc = roc_auc\n",
    "        \n",
    "print(best_model_f1)\n",
    "print(best_f1)\n",
    "print(best_model_roc_auc)\n",
    "print(best_roc_auc)"
   ]
  },
  {
   "cell_type": "markdown",
   "metadata": {},
   "source": [
    "Взвешивание классов почти не дало прироста в метрике f1 на решающем дереве.\n",
    "<br>Отметим, что в данном случае наилучшие значения метрик f1 и roc_auc достигаются при различных настройках гиперпараметров.\n",
    "<br>Применим upsampling и downsampling. Проверим результаты на модели случайного леса (она дала наилучший результат при начальном исследовании)"
   ]
  },
  {
   "cell_type": "markdown",
   "metadata": {},
   "source": [
    "### Upsampling и downsampling"
   ]
  },
  {
   "cell_type": "markdown",
   "metadata": {},
   "source": [
    "Для того, чтобы увеличить результат f1 и auc-roc, прибегнем к upsampling и downsampling. Нам придется применять этот метод не один раз, поэтому напишем функцию:"
   ]
  },
  {
   "cell_type": "code",
   "execution_count": 59,
   "metadata": {},
   "outputs": [],
   "source": [
    "def upsample(features, target, repeat):\n",
    "    features_zeros = features[target == 0]\n",
    "    features_ones = features[target == 1]\n",
    "    target_zeros = target[target == 0]\n",
    "    target_ones = target[target == 1]\n",
    "    \n",
    "    features_upsampled = pd.concat([features_zeros] + [features_ones] * repeat)\n",
    "    target_upsampled = pd.concat([target_zeros] + [target_ones] * repeat)\n",
    "    \n",
    "    features_upsampled, target_upsampled = shuffle(features_upsampled, target_upsampled, random_state=12345)\n",
    "    return features_upsampled, target_upsampled"
   ]
  },
  {
   "cell_type": "code",
   "execution_count": 60,
   "metadata": {},
   "outputs": [],
   "source": [
    "def downsample(features, target, fraction):\n",
    "    features_zeros = features[target == 0]\n",
    "    features_ones = features[target == 1]\n",
    "    target_zeros = target[target == 0]\n",
    "    target_ones = target[target == 1]\n",
    "    \n",
    "    features_downsampled = pd.concat([features_zeros.sample(frac=fraction, random_state=12345)] + [features_ones])\n",
    "    target_downsampled = pd.concat([target_zeros.sample(frac=fraction, random_state=12345)] + [target_ones])\n",
    "    \n",
    "    features_downsampled, target_downsampled = shuffle(features_downsampled, target_downsampled, random_state=12345)\n",
    "    return features_downsampled, target_downsampled"
   ]
  },
  {
   "cell_type": "markdown",
   "metadata": {},
   "source": [
    "Сначала для обучающей выборки увеличим количество объектов класса 1 в 2 раза, уменьшим количество объектов класса 0 в 1.5 раза"
   ]
  },
  {
   "cell_type": "code",
   "execution_count": 61,
   "metadata": {},
   "outputs": [],
   "source": [
    "X_train_upsampled, y_train_upsampled = upsample(X_train, y_train, 2)\n",
    "X_train_downsampled, y_train_downsampled = downsample(X_train_upsampled, y_train_upsampled, 0.75)"
   ]
  },
  {
   "cell_type": "markdown",
   "metadata": {},
   "source": [
    "Обучим модели решающего дерева и случайного леса на сбалансированных обучающих выборках:"
   ]
  },
  {
   "cell_type": "code",
   "execution_count": 62,
   "metadata": {},
   "outputs": [
    {
     "name": "stdout",
     "output_type": "stream",
     "text": [
      "DecisionTreeClassifier(max_depth=6, random_state=12345)\n",
      "0.5685884691848907\n",
      "DecisionTreeClassifier(max_depth=6, random_state=12345)\n",
      "0.7455394816154309\n"
     ]
    }
   ],
   "source": [
    "best_model_dt_f1 = None\n",
    "best_f1_dt = 0\n",
    "best_model_dt_roc_auc = None\n",
    "best_roc_auc_dt = 0\n",
    "for max_depth in range(2,20):\n",
    "    model_dt = DecisionTreeClassifier(random_state=12345,\n",
    "                                          max_depth=max_depth)\n",
    "    model_dt.fit(X_train_downsampled, y_train_downsampled)\n",
    "    predictions = model_dt.predict(X_valid)\n",
    "    f1 = f1_score(y_valid, predictions)\n",
    "    if f1 > best_f1_dt:\n",
    "        best_model_dt_f1 = model_dt\n",
    "        best_f1_dt = f1\n",
    "        roc_auc = roc_auc_score(y_valid, predictions)\n",
    "    if roc_auc > best_roc_auc_dt:\n",
    "        best_model_dt_roc_auc = model_dt\n",
    "        best_roc_auc_dt = roc_auc\n",
    "        \n",
    "print(best_model_dt_f1)\n",
    "print(best_f1_dt)\n",
    "print(best_model_dt_roc_auc)\n",
    "print(best_roc_auc_dt)"
   ]
  },
  {
   "cell_type": "code",
   "execution_count": 63,
   "metadata": {},
   "outputs": [
    {
     "name": "stdout",
     "output_type": "stream",
     "text": [
      "RandomForestClassifier(max_depth=8, n_estimators=13, random_state=12345)\n",
      "0.6115107913669064\n",
      "RandomForestClassifier(max_depth=8, n_estimators=13, random_state=12345)\n",
      "0.753254972875226\n"
     ]
    }
   ],
   "source": [
    "\n",
    "\n",
    "best_model_rf_f1 = None\n",
    "best_f1_rf = 0\n",
    "best_model_rf_roc_auc = None\n",
    "best_roc_auc_rf = 0\n",
    "for n_estimators in range(10,35):\n",
    "    for max_depth in range(5,25,1):\n",
    "        model_rf = RandomForestClassifier(random_state=12345,\n",
    "                                              n_estimators=n_estimators,\n",
    "                                              max_depth=max_depth)\n",
    "        model_rf.fit(X_train_downsampled, y_train_downsampled)\n",
    "        predictions = model_rf.predict(X_valid)\n",
    "        f1 = f1_score(y_valid, predictions)\n",
    "        if f1 > best_f1_rf:\n",
    "            best_model_rf_f1 = model_rf\n",
    "            best_f1_rf = f1\n",
    "            roc_auc = roc_auc_score(y_valid, predictions)\n",
    "        if roc_auc > best_roc_auc_rf:\n",
    "            best_model_rf_roc_auc = model_rf\n",
    "            best_roc_auc_rf = roc_auc\n",
    "        \n",
    "print(best_model_rf_f1)\n",
    "print(best_f1_rf)\n",
    "print(best_model_rf_roc_auc)\n",
    "print(best_roc_auc_rf)"
   ]
  },
  {
   "cell_type": "markdown",
   "metadata": {},
   "source": [
    "- Метрика f1 для модели \"Случайный лес\" достигла значения 0.61 на сбалансированной выборке, что удовлетворяет условию технического задания (>0.59).\n",
    "- Для модели \"Решающее дерево\" метрика f1 стала даже немного хуже.\n",
    "- Наилучшие значения метрик f1 и roc_auc достигли на случайном лесе при одинаковых значениях гиперпараметров. Для решающего дерева оптимальные значения гиперпараметров также одинаковые."
   ]
  },
  {
   "cell_type": "markdown",
   "metadata": {},
   "source": [
    "**Выводы**\n",
    "- Взвешивание классов с помощью параметра class_weight не дало значительного увеличения метрики f1.\n",
    "- Upsampling положительного класса и downsampling отрицательного класса дали необходимый прирост точности моделей.\n",
    "- Необходимое качество на валидационной выборке получила модель:\n",
    "- Случайный лес:\n",
    "    - f1 = 0.61\n",
    "    - roc_auc = 0.753\n",
    "    - repeat = 2 - повторение объектов класса 1\n",
    "    - fraction = 0.75 - коэффициент сэмплирования объектов класса 0"
   ]
  },
  {
   "cell_type": "markdown",
   "metadata": {},
   "source": [
    "## Тестирование модели"
   ]
  },
  {
   "cell_type": "markdown",
   "metadata": {},
   "source": [
    "Проведём обучение полученных моделей на всех доступных данных (обучающие + валидационные), предварительно сбалансировав классы с найденными ранее коэффициентами.\n",
    "Вычислим метрики f1 и roc_auc на тестовой выборке."
   ]
  },
  {
   "cell_type": "code",
   "execution_count": 64,
   "metadata": {},
   "outputs": [
    {
     "name": "stdout",
     "output_type": "stream",
     "text": [
      "f1: 0.63\n",
      "roc_auc: 0.78\n"
     ]
    }
   ],
   "source": [
    "X_upsampled, y_upsampled = upsample(X, y, 2)\n",
    "X_downsampled, y_downsampled = downsample(X_upsampled, y_upsampled, 0.75)\n",
    "model_dtc_good = DecisionTreeClassifier(random_state=123,\n",
    "                                         max_depth=8,\n",
    "                                         min_samples_split=2,\n",
    "                                         min_samples_leaf=4)\n",
    "model_dtc_good.fit(X_downsampled, y_downsampled)\n",
    "predictions = model_dtc_good.predict(X_test)\n",
    "f1 = f1_score(y_test, predictions)\n",
    "roc_auc = roc_auc_score(y_test, predictions)\n",
    "print('f1:', round(f1, 2))\n",
    "print('roc_auc:', round(roc_auc, 2))"
   ]
  },
  {
   "cell_type": "code",
   "execution_count": 72,
   "metadata": {},
   "outputs": [
    {
     "name": "stdout",
     "output_type": "stream",
     "text": [
      "f1: 0.64\n",
      "roc_auc: 0.77\n"
     ]
    }
   ],
   "source": [
    "X_upsampled, y_upsampled = upsample(X, y, 2)\n",
    "X_downsampled, y_downsampled = downsample(X_upsampled, y_upsampled, 0.75)\n",
    "model_rf_good = RandomForestClassifier(random_state=12345,\n",
    "                                         n_estimators=33,\n",
    "                                         max_depth=12,\n",
    "                                         min_samples_split=3,\n",
    "                                         min_samples_leaf=1)\n",
    "model_rf_good.fit(X_downsampled, y_downsampled)\n",
    "predictions = model_rf_good.predict(X_test)\n",
    "f1 = f1_score(y_test, predictions)\n",
    "roc_auc = roc_auc_score(y_test, predictions)\n",
    "print('f1:', round(f1, 2))\n",
    "print('roc_auc:', round(roc_auc, 2))\n",
    "\n",
    "#probabilities_valid = model.predict_proba(features_valid)\n",
    "#probabilities_one_valid = probabilities_valid[:, 1]\n",
    "\n",
    "#fpr, tpr, thresholds = roc_curve(target_valid, probabilities_one_valid)\n",
    "\n",
    "#plt.figure()\n",
    "#plt.plot([0, 1], [0, 1], linestyle='--')\n",
    "#plt.plot(fpr, tpr)\n",
    "#plt.xlim([0.0, 1.0])\n",
    "#plt.ylim([0.0, 1.0])\n",
    "#plt.xlabel('False Positive Rate')\n",
    "#plt.ylabel('True Positive Rate')\n",
    "#plt.title('ROC-кривая')\n",
    "#plt.show()\n"
   ]
  },
  {
   "cell_type": "markdown",
   "metadata": {},
   "source": [
    "**Выводы:** \n",
    "- Удовлетворяющее техническому заданию значение метрики f1 (на тестовой выборке) удалось получить на двух моделях:\n",
    "- Решающее дерево f1 = 0.63 roc_auc = 0.78\n",
    "- Случайный лес f1 = 0.64 roc_auc = 0.77\n",
    "- При этом метрика f1 выше у модели Случайный лес, а roc_auc выше у Решающего дерева."
   ]
  },
  {
   "cell_type": "markdown",
   "metadata": {},
   "source": [
    "## Итоговый вывод\n",
    "\n",
    "- Произведена предобработка данных.\n",
    "- Числовые признаки приведены к стандартному виду (среднее = 0, стандартное отклонение = 1). Категориальные признаки преобразованы методом One-Hot Encoder.\n",
    "- Целевой признак распределён в сооотношении 4:1\n",
    "- Проведён анализ моделей без учёта дисбаланса классов.\n",
    "- Исходные данные разделены на обучающую, валидационную и тестовую выборки в соотношении 3:1:1 соответственно\n",
    "- Обучены модели \"Решающее Дерево\", \"Случайный лес\", \"Логистическая Регрессия\" без учёта дисбаланса классов. Максимальное значение метрики f1 = 0.586 получено при обучении модели случайного леса.\n",
    "- Качество моделей также оценено по метрике roc_auc. Максимальное значение метрики roc_auc = 0.73 достигнуто при обучении модели случайного леса.\n",
    "- Метрики f1 и roc_auc достигли максимальных значений при одинаковых настройках гиперпараметров.\n",
    "- Проведён анализ дисбаланса классов\n",
    "- Взвешивание классов с помощью параметра class_weight не дало значительного увеличения метрики f1.\n",
    "- Upsampling положительного класса и downsampling отрицательного класса дали необходимый прирост точности моделей.\n",
    "- Необходимое значение f1 на валидационной выборке получила модель:\n",
    "- Случайный лес:\n",
    "    - f1 = 0.61\n",
    "    - roc_auc = 0.753\n",
    "    - repeat = 2 - повторение объектов класса 1\n",
    "    - fraction = 0.75 - коэффициент сэмплирования объектов класса 0\n",
    "- Проведено тестирование полученных моделей на тестовой выборке:\n",
    "- Значение метрик на тестовой выборке:\n",
    "- Решающее дерево f1 = 0.63 roc_auc = 0.78\n",
    "- Случайный лес f1 = 0.64 roc_auc = 0.77\n",
    "- При этом метрика f1 выше у модели Случайный лес, а roc_auc выше у Решающего дерева."
   ]
  },
  {
   "cell_type": "markdown",
   "metadata": {},
   "source": [
    "## Чек-лист готовности проекта"
   ]
  },
  {
   "cell_type": "markdown",
   "metadata": {},
   "source": [
    "Поставьте 'x' в выполненных пунктах. Далее нажмите Shift+Enter."
   ]
  },
  {
   "cell_type": "markdown",
   "metadata": {},
   "source": [
    "- [x]  Jupyter Notebook открыт\n",
    "- [x]  Весь код выполняется без ошибок\n",
    "- [x]  Ячейки с кодом расположены в порядке исполнения\n",
    "- [x]  Выполнен шаг 1: данные подготовлены\n",
    "- [x]  Выполнен шаг 2: задача исследована\n",
    "    - [x]  Исследован баланс классов\n",
    "    - [x]  Изучены модели без учёта дисбаланса\n",
    "    - [x]  Написаны выводы по результатам исследования\n",
    "- [x]  Выполнен шаг 3: учтён дисбаланс\n",
    "    - [x]  Применено несколько способов борьбы с дисбалансом\n",
    "    - [x]  Написаны выводы по результатам исследования\n",
    "- [x]  Выполнен шаг 4: проведено тестирование\n",
    "- [x]  Удалось достичь *F1*-меры не менее 0.59\n",
    "- [x]  Исследована метрика *AUC-ROC*"
   ]
  },
  {
   "cell_type": "code",
   "execution_count": null,
   "metadata": {},
   "outputs": [],
   "source": []
  }
 ],
 "metadata": {
  "ExecuteTimeLog": [
   {
    "duration": 1667,
    "start_time": "2022-08-27T07:21:17.752Z"
   },
   {
    "duration": 181,
    "start_time": "2022-08-27T07:21:33.664Z"
   },
   {
    "duration": 4,
    "start_time": "2022-08-27T07:21:35.864Z"
   },
   {
    "duration": 68,
    "start_time": "2022-08-27T07:21:36.660Z"
   },
   {
    "duration": 188,
    "start_time": "2022-08-27T07:21:57.608Z"
   },
   {
    "duration": 72,
    "start_time": "2022-08-27T07:24:04.839Z"
   },
   {
    "duration": 3,
    "start_time": "2022-08-27T07:40:43.181Z"
   },
   {
    "duration": 5,
    "start_time": "2022-08-27T07:41:53.485Z"
   },
   {
    "duration": 81,
    "start_time": "2022-08-27T07:42:26.922Z"
   },
   {
    "duration": 3,
    "start_time": "2022-08-27T07:44:14.470Z"
   },
   {
    "duration": 63,
    "start_time": "2022-08-27T07:44:39.066Z"
   },
   {
    "duration": 5,
    "start_time": "2022-08-27T07:44:46.962Z"
   },
   {
    "duration": 3,
    "start_time": "2022-08-27T07:44:47.990Z"
   },
   {
    "duration": 79,
    "start_time": "2022-08-27T07:45:19.426Z"
   },
   {
    "duration": 299,
    "start_time": "2022-08-27T07:45:32.882Z"
   },
   {
    "duration": 280,
    "start_time": "2022-08-27T07:45:39.022Z"
   },
   {
    "duration": 363,
    "start_time": "2022-08-27T07:47:12.554Z"
   },
   {
    "duration": 435,
    "start_time": "2022-08-27T07:47:20.322Z"
   },
   {
    "duration": 352,
    "start_time": "2022-08-27T07:47:46.438Z"
   },
   {
    "duration": 357,
    "start_time": "2022-08-27T07:47:54.934Z"
   },
   {
    "duration": 348,
    "start_time": "2022-08-27T07:48:07.674Z"
   },
   {
    "duration": 355,
    "start_time": "2022-08-27T07:48:26.243Z"
   },
   {
    "duration": 527,
    "start_time": "2022-08-27T07:48:41.878Z"
   },
   {
    "duration": 336,
    "start_time": "2022-08-27T07:50:40.902Z"
   },
   {
    "duration": 406,
    "start_time": "2022-08-27T07:50:46.785Z"
   },
   {
    "duration": 348,
    "start_time": "2022-08-27T07:50:58.731Z"
   },
   {
    "duration": 365,
    "start_time": "2022-08-27T07:51:19.005Z"
   },
   {
    "duration": 356,
    "start_time": "2022-08-27T07:51:55.141Z"
   },
   {
    "duration": 477,
    "start_time": "2022-08-27T07:52:41.066Z"
   },
   {
    "duration": 397,
    "start_time": "2022-08-27T07:53:03.747Z"
   },
   {
    "duration": 381,
    "start_time": "2022-08-27T07:53:11.270Z"
   },
   {
    "duration": 394,
    "start_time": "2022-08-27T07:53:17.782Z"
   },
   {
    "duration": 350,
    "start_time": "2022-08-27T07:53:30.858Z"
   },
   {
    "duration": 506,
    "start_time": "2022-08-27T07:53:33.106Z"
   },
   {
    "duration": 369,
    "start_time": "2022-08-27T07:53:39.798Z"
   },
   {
    "duration": 336,
    "start_time": "2022-08-27T07:54:02.633Z"
   },
   {
    "duration": 352,
    "start_time": "2022-08-27T07:54:41.093Z"
   },
   {
    "duration": 370,
    "start_time": "2022-08-27T07:55:25.030Z"
   },
   {
    "duration": 385,
    "start_time": "2022-08-27T07:55:27.286Z"
   },
   {
    "duration": 2,
    "start_time": "2022-08-27T07:57:12.362Z"
   },
   {
    "duration": 16,
    "start_time": "2022-08-27T07:57:22.989Z"
   },
   {
    "duration": 17,
    "start_time": "2022-08-27T07:57:40.294Z"
   },
   {
    "duration": 21,
    "start_time": "2022-08-27T07:57:46.573Z"
   },
   {
    "duration": 23,
    "start_time": "2022-08-27T07:58:37.282Z"
   },
   {
    "duration": 14,
    "start_time": "2022-08-27T07:58:44.533Z"
   },
   {
    "duration": 360,
    "start_time": "2022-08-27T08:01:22.737Z"
   },
   {
    "duration": 3,
    "start_time": "2022-08-27T08:01:44.913Z"
   },
   {
    "duration": 281,
    "start_time": "2022-08-27T08:02:54.657Z"
   },
   {
    "duration": 256,
    "start_time": "2022-08-27T08:03:18.849Z"
   },
   {
    "duration": 15,
    "start_time": "2022-08-27T08:03:34.009Z"
   },
   {
    "duration": 15,
    "start_time": "2022-08-27T08:03:37.201Z"
   },
   {
    "duration": 14,
    "start_time": "2022-08-27T08:03:40.209Z"
   },
   {
    "duration": 15,
    "start_time": "2022-08-27T08:03:45.277Z"
   },
   {
    "duration": 33,
    "start_time": "2022-08-27T08:03:51.117Z"
   },
   {
    "duration": 27,
    "start_time": "2022-08-27T08:03:54.429Z"
   },
   {
    "duration": 323,
    "start_time": "2022-08-27T08:04:20.360Z"
   },
   {
    "duration": 285,
    "start_time": "2022-08-27T08:04:42.221Z"
   },
   {
    "duration": 320,
    "start_time": "2022-08-27T08:04:49.948Z"
   },
   {
    "duration": 258,
    "start_time": "2022-08-27T08:04:56.222Z"
   },
   {
    "duration": 254,
    "start_time": "2022-08-27T08:05:13.740Z"
   },
   {
    "duration": 272,
    "start_time": "2022-08-27T08:05:32.340Z"
   },
   {
    "duration": 115,
    "start_time": "2022-08-27T08:05:41.245Z"
   },
   {
    "duration": 10,
    "start_time": "2022-08-27T08:05:46.936Z"
   },
   {
    "duration": 155,
    "start_time": "2022-08-27T08:05:57.696Z"
   },
   {
    "duration": 222,
    "start_time": "2022-08-27T08:06:02.785Z"
   },
   {
    "duration": 127,
    "start_time": "2022-08-27T08:06:11.624Z"
   },
   {
    "duration": 153,
    "start_time": "2022-08-27T08:06:35.416Z"
   },
   {
    "duration": 131,
    "start_time": "2022-08-27T08:07:13.573Z"
   },
   {
    "duration": 5,
    "start_time": "2022-08-27T08:07:38.444Z"
   },
   {
    "duration": 191,
    "start_time": "2022-08-27T08:07:42.080Z"
   },
   {
    "duration": 137,
    "start_time": "2022-08-27T08:08:00.488Z"
   },
   {
    "duration": 137,
    "start_time": "2022-08-27T08:08:07.580Z"
   },
   {
    "duration": 152,
    "start_time": "2022-08-27T08:08:10.376Z"
   },
   {
    "duration": 272,
    "start_time": "2022-08-27T08:08:52.736Z"
   },
   {
    "duration": 283,
    "start_time": "2022-08-27T08:09:37.330Z"
   },
   {
    "duration": 255,
    "start_time": "2022-08-27T08:09:50.428Z"
   },
   {
    "duration": 387,
    "start_time": "2022-08-27T08:10:08.492Z"
   },
   {
    "duration": 653,
    "start_time": "2022-08-27T08:10:38.216Z"
   },
   {
    "duration": 532,
    "start_time": "2022-08-27T08:10:45.028Z"
   },
   {
    "duration": 665,
    "start_time": "2022-08-27T08:11:19.827Z"
   },
   {
    "duration": 777,
    "start_time": "2022-08-27T08:11:26.064Z"
   },
   {
    "duration": 526,
    "start_time": "2022-08-27T08:11:34.280Z"
   },
   {
    "duration": 538,
    "start_time": "2022-08-27T08:11:52.728Z"
   },
   {
    "duration": 560,
    "start_time": "2022-08-27T08:11:58.592Z"
   },
   {
    "duration": 612,
    "start_time": "2022-08-27T08:12:07.868Z"
   },
   {
    "duration": 991,
    "start_time": "2022-08-27T08:12:30.080Z"
   },
   {
    "duration": 1066,
    "start_time": "2022-08-27T08:12:40.552Z"
   },
   {
    "duration": 487,
    "start_time": "2022-08-27T08:13:16.764Z"
   },
   {
    "duration": 493,
    "start_time": "2022-08-27T08:13:27.660Z"
   },
   {
    "duration": 548,
    "start_time": "2022-08-27T08:13:53.152Z"
   },
   {
    "duration": 661,
    "start_time": "2022-08-27T08:14:06.208Z"
   },
   {
    "duration": 771,
    "start_time": "2022-08-27T08:14:09.859Z"
   },
   {
    "duration": 824,
    "start_time": "2022-08-27T08:14:14.208Z"
   },
   {
    "duration": 860,
    "start_time": "2022-08-27T08:14:24.239Z"
   },
   {
    "duration": 758,
    "start_time": "2022-08-27T08:14:48.176Z"
   },
   {
    "duration": 3,
    "start_time": "2022-08-27T08:17:27.748Z"
   },
   {
    "duration": 24,
    "start_time": "2022-08-27T08:17:41.924Z"
   },
   {
    "duration": 4,
    "start_time": "2022-08-27T08:18:00.504Z"
   },
   {
    "duration": 4,
    "start_time": "2022-08-27T08:19:30.816Z"
   },
   {
    "duration": 13,
    "start_time": "2022-08-27T08:19:33.016Z"
   },
   {
    "duration": 3,
    "start_time": "2022-08-27T08:19:39.980Z"
   },
   {
    "duration": 13,
    "start_time": "2022-08-27T08:19:41.160Z"
   },
   {
    "duration": 4,
    "start_time": "2022-08-27T08:19:50.216Z"
   },
   {
    "duration": 168,
    "start_time": "2022-08-27T08:19:51.253Z"
   },
   {
    "duration": 4,
    "start_time": "2022-08-27T08:19:55.016Z"
   },
   {
    "duration": 188,
    "start_time": "2022-08-27T08:19:55.952Z"
   },
   {
    "duration": 4,
    "start_time": "2022-08-27T08:20:21.456Z"
   },
   {
    "duration": 311,
    "start_time": "2022-08-27T08:20:23.148Z"
   },
   {
    "duration": 9,
    "start_time": "2022-08-27T08:21:40.742Z"
   },
   {
    "duration": 3,
    "start_time": "2022-08-27T08:21:51.481Z"
   },
   {
    "duration": 10,
    "start_time": "2022-08-27T08:21:53.561Z"
   },
   {
    "duration": 3959,
    "start_time": "2022-08-27T08:22:05.349Z"
   },
   {
    "duration": 118,
    "start_time": "2022-08-27T08:22:41.309Z"
   },
   {
    "duration": 112,
    "start_time": "2022-08-27T08:23:34.612Z"
   },
   {
    "duration": 127,
    "start_time": "2022-08-27T08:23:37.117Z"
   },
   {
    "duration": 229,
    "start_time": "2022-08-27T08:23:38.769Z"
   },
   {
    "duration": 175,
    "start_time": "2022-08-27T08:23:40.705Z"
   },
   {
    "duration": 127,
    "start_time": "2022-08-27T08:25:37.637Z"
   },
   {
    "duration": 105,
    "start_time": "2022-08-27T08:27:12.589Z"
   },
   {
    "duration": 256,
    "start_time": "2022-08-27T08:27:27.529Z"
   },
   {
    "duration": 242,
    "start_time": "2022-08-27T08:27:40.857Z"
   },
   {
    "duration": 132,
    "start_time": "2022-08-27T08:33:24.441Z"
   },
   {
    "duration": 377,
    "start_time": "2022-08-27T08:34:22.457Z"
   },
   {
    "duration": 19,
    "start_time": "2022-08-27T08:34:32.797Z"
   },
   {
    "duration": 18,
    "start_time": "2022-08-27T08:34:39.193Z"
   },
   {
    "duration": 18,
    "start_time": "2022-08-27T08:34:41.029Z"
   },
   {
    "duration": 18,
    "start_time": "2022-08-27T08:34:43.829Z"
   },
   {
    "duration": 163,
    "start_time": "2022-08-27T09:04:14.657Z"
   },
   {
    "duration": 127,
    "start_time": "2022-08-27T09:04:34.876Z"
   },
   {
    "duration": 127,
    "start_time": "2022-08-27T09:04:42.264Z"
   },
   {
    "duration": 116,
    "start_time": "2022-08-27T09:05:03.276Z"
   },
   {
    "duration": 220,
    "start_time": "2022-08-27T09:05:05.140Z"
   },
   {
    "duration": 184,
    "start_time": "2022-08-27T09:05:11.044Z"
   },
   {
    "duration": 129,
    "start_time": "2022-08-27T09:05:20.260Z"
   },
   {
    "duration": 119,
    "start_time": "2022-08-27T09:05:30.268Z"
   },
   {
    "duration": 112,
    "start_time": "2022-08-27T09:05:38.152Z"
   },
   {
    "duration": 133,
    "start_time": "2022-08-27T09:05:43.916Z"
   },
   {
    "duration": 121,
    "start_time": "2022-08-27T09:05:51.448Z"
   },
   {
    "duration": 121,
    "start_time": "2022-08-27T09:06:09.480Z"
   },
   {
    "duration": 14,
    "start_time": "2022-08-27T09:08:28.812Z"
   },
   {
    "duration": 13,
    "start_time": "2022-08-27T09:08:56.444Z"
   },
   {
    "duration": 11,
    "start_time": "2022-08-27T09:08:57.680Z"
   },
   {
    "duration": 12,
    "start_time": "2022-08-27T09:08:58.256Z"
   },
   {
    "duration": 11,
    "start_time": "2022-08-27T09:09:41.907Z"
   },
   {
    "duration": 16,
    "start_time": "2022-08-27T09:09:42.840Z"
   },
   {
    "duration": 9,
    "start_time": "2022-08-27T09:09:54.032Z"
   },
   {
    "duration": 12,
    "start_time": "2022-08-27T09:09:54.912Z"
   },
   {
    "duration": 8,
    "start_time": "2022-08-27T09:10:02.724Z"
   },
   {
    "duration": 12,
    "start_time": "2022-08-27T09:10:05.236Z"
   },
   {
    "duration": 9,
    "start_time": "2022-08-27T09:11:09.392Z"
   },
   {
    "duration": 4,
    "start_time": "2022-08-27T09:45:31.001Z"
   },
   {
    "duration": 12,
    "start_time": "2022-08-27T09:45:44.329Z"
   },
   {
    "duration": 9,
    "start_time": "2022-08-27T09:45:56.077Z"
   },
   {
    "duration": 9,
    "start_time": "2022-08-27T09:46:13.333Z"
   },
   {
    "duration": 25,
    "start_time": "2022-08-27T09:46:17.485Z"
   },
   {
    "duration": 5,
    "start_time": "2022-08-27T09:46:36.156Z"
   },
   {
    "duration": 13,
    "start_time": "2022-08-27T09:46:41.496Z"
   },
   {
    "duration": 5,
    "start_time": "2022-08-27T09:46:46.937Z"
   },
   {
    "duration": 5,
    "start_time": "2022-08-27T09:47:01.313Z"
   },
   {
    "duration": 13,
    "start_time": "2022-08-27T09:47:03.296Z"
   },
   {
    "duration": 18,
    "start_time": "2022-08-27T09:47:18.597Z"
   },
   {
    "duration": 6,
    "start_time": "2022-08-27T09:47:31.845Z"
   },
   {
    "duration": 12,
    "start_time": "2022-08-27T09:47:36.781Z"
   },
   {
    "duration": 14,
    "start_time": "2022-08-27T09:47:50.697Z"
   },
   {
    "duration": 9,
    "start_time": "2022-08-27T09:51:54.753Z"
   },
   {
    "duration": 10,
    "start_time": "2022-08-27T09:51:58.888Z"
   },
   {
    "duration": 12,
    "start_time": "2022-08-27T09:57:35.172Z"
   },
   {
    "duration": 12,
    "start_time": "2022-08-27T09:57:49.967Z"
   },
   {
    "duration": 9,
    "start_time": "2022-08-27T09:58:49.099Z"
   },
   {
    "duration": 5,
    "start_time": "2022-08-27T10:02:01.175Z"
   },
   {
    "duration": 7,
    "start_time": "2022-08-27T10:02:56.511Z"
   },
   {
    "duration": 4,
    "start_time": "2022-08-27T10:02:57.067Z"
   },
   {
    "duration": 79,
    "start_time": "2022-08-28T09:20:52.779Z"
   },
   {
    "duration": 46,
    "start_time": "2022-08-28T09:21:08.019Z"
   },
   {
    "duration": 1400,
    "start_time": "2022-08-28T09:21:17.411Z"
   },
   {
    "duration": 215,
    "start_time": "2022-08-28T09:21:18.813Z"
   },
   {
    "duration": 0,
    "start_time": "2022-08-28T09:21:19.029Z"
   },
   {
    "duration": 0,
    "start_time": "2022-08-28T09:21:19.030Z"
   },
   {
    "duration": 0,
    "start_time": "2022-08-28T09:21:19.031Z"
   },
   {
    "duration": 0,
    "start_time": "2022-08-28T09:21:19.032Z"
   },
   {
    "duration": 0,
    "start_time": "2022-08-28T09:21:19.033Z"
   },
   {
    "duration": 0,
    "start_time": "2022-08-28T09:21:19.034Z"
   },
   {
    "duration": 0,
    "start_time": "2022-08-28T09:21:19.035Z"
   },
   {
    "duration": 0,
    "start_time": "2022-08-28T09:21:19.036Z"
   },
   {
    "duration": 0,
    "start_time": "2022-08-28T09:21:19.037Z"
   },
   {
    "duration": 0,
    "start_time": "2022-08-28T09:21:19.038Z"
   },
   {
    "duration": 0,
    "start_time": "2022-08-28T09:21:19.039Z"
   },
   {
    "duration": 0,
    "start_time": "2022-08-28T09:21:19.040Z"
   },
   {
    "duration": 0,
    "start_time": "2022-08-28T09:21:19.041Z"
   },
   {
    "duration": 0,
    "start_time": "2022-08-28T09:21:19.042Z"
   },
   {
    "duration": 0,
    "start_time": "2022-08-28T09:21:19.042Z"
   },
   {
    "duration": 0,
    "start_time": "2022-08-28T09:21:19.044Z"
   },
   {
    "duration": 0,
    "start_time": "2022-08-28T09:21:19.044Z"
   },
   {
    "duration": 0,
    "start_time": "2022-08-28T09:21:19.045Z"
   },
   {
    "duration": 0,
    "start_time": "2022-08-28T09:21:19.046Z"
   },
   {
    "duration": 0,
    "start_time": "2022-08-28T09:21:19.047Z"
   },
   {
    "duration": 0,
    "start_time": "2022-08-28T09:21:19.048Z"
   },
   {
    "duration": 0,
    "start_time": "2022-08-28T09:21:19.049Z"
   },
   {
    "duration": 0,
    "start_time": "2022-08-28T09:21:19.051Z"
   },
   {
    "duration": 0,
    "start_time": "2022-08-28T09:21:19.052Z"
   },
   {
    "duration": 10,
    "start_time": "2022-08-28T09:21:23.655Z"
   },
   {
    "duration": 10,
    "start_time": "2022-08-28T09:21:35.923Z"
   },
   {
    "duration": 10,
    "start_time": "2022-08-28T09:22:30.911Z"
   },
   {
    "duration": 59,
    "start_time": "2022-08-28T09:22:46.590Z"
   },
   {
    "duration": 4,
    "start_time": "2022-08-28T09:22:50.203Z"
   },
   {
    "duration": 65,
    "start_time": "2022-08-28T09:22:50.208Z"
   },
   {
    "duration": 11,
    "start_time": "2022-08-28T09:22:50.274Z"
   },
   {
    "duration": 4,
    "start_time": "2022-08-28T09:22:50.286Z"
   },
   {
    "duration": 5,
    "start_time": "2022-08-28T09:22:50.292Z"
   },
   {
    "duration": 319,
    "start_time": "2022-08-28T09:22:50.299Z"
   },
   {
    "duration": 415,
    "start_time": "2022-08-28T09:22:50.619Z"
   },
   {
    "duration": 330,
    "start_time": "2022-08-28T09:22:51.036Z"
   },
   {
    "duration": 358,
    "start_time": "2022-08-28T09:22:51.369Z"
   },
   {
    "duration": 14,
    "start_time": "2022-08-28T09:22:51.728Z"
   },
   {
    "duration": 11,
    "start_time": "2022-08-28T09:22:51.744Z"
   },
   {
    "duration": 7,
    "start_time": "2022-08-28T09:22:51.756Z"
   },
   {
    "duration": 124,
    "start_time": "2022-08-28T09:22:51.765Z"
   },
   {
    "duration": 118,
    "start_time": "2022-08-28T09:22:51.890Z"
   },
   {
    "duration": 188,
    "start_time": "2022-08-28T09:22:52.010Z"
   },
   {
    "duration": 118,
    "start_time": "2022-08-28T09:22:52.206Z"
   },
   {
    "duration": 112,
    "start_time": "2022-08-28T09:22:52.326Z"
   },
   {
    "duration": 103,
    "start_time": "2022-08-28T09:22:52.439Z"
   },
   {
    "duration": 112,
    "start_time": "2022-08-28T09:22:52.544Z"
   },
   {
    "duration": 10,
    "start_time": "2022-08-28T09:22:52.657Z"
   },
   {
    "duration": 37,
    "start_time": "2022-08-28T09:22:52.669Z"
   },
   {
    "duration": 10,
    "start_time": "2022-08-28T09:22:52.707Z"
   },
   {
    "duration": 6,
    "start_time": "2022-08-28T09:22:52.718Z"
   },
   {
    "duration": 8,
    "start_time": "2022-08-28T09:22:52.726Z"
   },
   {
    "duration": 4,
    "start_time": "2022-08-28T09:22:52.736Z"
   },
   {
    "duration": 464,
    "start_time": "2022-08-28T09:22:52.742Z"
   },
   {
    "duration": 125,
    "start_time": "2022-08-28T09:23:01.403Z"
   },
   {
    "duration": 125,
    "start_time": "2022-08-28T09:23:54.619Z"
   },
   {
    "duration": 125,
    "start_time": "2022-08-28T09:24:16.762Z"
   },
   {
    "duration": 399,
    "start_time": "2022-08-28T09:24:26.013Z"
   },
   {
    "duration": 370,
    "start_time": "2022-08-28T09:28:19.449Z"
   },
   {
    "duration": 8093,
    "start_time": "2022-08-28T09:28:48.485Z"
   },
   {
    "duration": 20846,
    "start_time": "2022-08-28T09:34:08.153Z"
   },
   {
    "duration": 22853,
    "start_time": "2022-08-28T09:35:23.655Z"
   },
   {
    "duration": 38966,
    "start_time": "2022-08-28T09:36:29.653Z"
   },
   {
    "duration": 38846,
    "start_time": "2022-08-28T09:37:55.460Z"
   },
   {
    "duration": 62307,
    "start_time": "2022-08-28T09:39:09.992Z"
   },
   {
    "duration": 76,
    "start_time": "2022-08-28T09:41:20.451Z"
   },
   {
    "duration": 62647,
    "start_time": "2022-08-28T09:43:36.056Z"
   },
   {
    "duration": 300,
    "start_time": "2022-08-28T09:44:38.706Z"
   },
   {
    "duration": 92,
    "start_time": "2022-08-28T09:46:18.498Z"
   },
   {
    "duration": 410,
    "start_time": "2022-08-28T09:57:34.737Z"
   },
   {
    "duration": 12,
    "start_time": "2022-08-28T09:58:15.492Z"
   },
   {
    "duration": 401,
    "start_time": "2022-08-28T09:58:46.281Z"
   },
   {
    "duration": 3,
    "start_time": "2022-08-28T10:05:42.192Z"
   },
   {
    "duration": 4,
    "start_time": "2022-08-28T10:05:42.767Z"
   },
   {
    "duration": 16,
    "start_time": "2022-08-28T10:06:15.755Z"
   },
   {
    "duration": 76,
    "start_time": "2022-08-28T10:06:30.195Z"
   },
   {
    "duration": 16,
    "start_time": "2022-08-28T10:07:17.115Z"
   },
   {
    "duration": 19,
    "start_time": "2022-08-28T10:07:28.699Z"
   },
   {
    "duration": 15,
    "start_time": "2022-08-28T10:08:58.739Z"
   },
   {
    "duration": 64190,
    "start_time": "2022-08-28T10:09:00.136Z"
   },
   {
    "duration": 426,
    "start_time": "2022-08-28T10:11:03.895Z"
   },
   {
    "duration": 62669,
    "start_time": "2022-08-28T10:11:19.615Z"
   },
   {
    "duration": 67621,
    "start_time": "2022-08-28T10:14:41.885Z"
   },
   {
    "duration": 65795,
    "start_time": "2022-08-28T10:16:19.234Z"
   },
   {
    "duration": 65278,
    "start_time": "2022-08-28T10:17:59.962Z"
   },
   {
    "duration": 393,
    "start_time": "2022-08-28T10:21:15.224Z"
   },
   {
    "duration": 403,
    "start_time": "2022-08-28T10:22:03.562Z"
   },
   {
    "duration": 372,
    "start_time": "2022-08-28T10:22:20.319Z"
   },
   {
    "duration": 66192,
    "start_time": "2022-08-28T10:22:35.390Z"
   },
   {
    "duration": 358,
    "start_time": "2022-08-28T10:29:33.973Z"
   },
   {
    "duration": 24,
    "start_time": "2022-08-28T10:29:44.153Z"
   },
   {
    "duration": 233,
    "start_time": "2022-08-28T10:30:00.061Z"
   },
   {
    "duration": 245,
    "start_time": "2022-08-28T10:30:13.485Z"
   },
   {
    "duration": 245,
    "start_time": "2022-08-28T10:30:45.409Z"
   },
   {
    "duration": 247,
    "start_time": "2022-08-28T10:31:04.968Z"
   },
   {
    "duration": 241,
    "start_time": "2022-08-28T10:31:25.061Z"
   },
   {
    "duration": 23,
    "start_time": "2022-08-28T10:32:18.052Z"
   },
   {
    "duration": 40,
    "start_time": "2022-08-28T10:32:25.429Z"
   },
   {
    "duration": 52,
    "start_time": "2022-08-28T10:32:36.084Z"
   },
   {
    "duration": 88,
    "start_time": "2022-08-28T10:34:32.500Z"
   },
   {
    "duration": 95,
    "start_time": "2022-08-28T10:34:37.569Z"
   },
   {
    "duration": 25,
    "start_time": "2022-08-28T10:43:34.447Z"
   },
   {
    "duration": 266,
    "start_time": "2022-08-28T10:45:43.263Z"
   },
   {
    "duration": 58,
    "start_time": "2022-08-28T10:45:44.091Z"
   },
   {
    "duration": 283,
    "start_time": "2022-08-28T10:51:30.803Z"
   },
   {
    "duration": 46,
    "start_time": "2022-08-28T10:51:31.691Z"
   },
   {
    "duration": 4,
    "start_time": "2022-08-28T10:51:38.935Z"
   },
   {
    "duration": 70,
    "start_time": "2022-08-28T10:51:38.941Z"
   },
   {
    "duration": 10,
    "start_time": "2022-08-28T10:51:39.012Z"
   },
   {
    "duration": 10,
    "start_time": "2022-08-28T10:51:39.024Z"
   },
   {
    "duration": 18,
    "start_time": "2022-08-28T10:51:39.035Z"
   },
   {
    "duration": 293,
    "start_time": "2022-08-28T10:51:39.055Z"
   },
   {
    "duration": 331,
    "start_time": "2022-08-28T10:51:39.350Z"
   },
   {
    "duration": 313,
    "start_time": "2022-08-28T10:51:39.682Z"
   },
   {
    "duration": 350,
    "start_time": "2022-08-28T10:51:39.997Z"
   },
   {
    "duration": 13,
    "start_time": "2022-08-28T10:51:40.349Z"
   },
   {
    "duration": 12,
    "start_time": "2022-08-28T10:51:40.364Z"
   },
   {
    "duration": 5,
    "start_time": "2022-08-28T10:51:40.379Z"
   },
   {
    "duration": 139,
    "start_time": "2022-08-28T10:51:40.385Z"
   },
   {
    "duration": 283,
    "start_time": "2022-08-28T10:51:40.525Z"
   },
   {
    "duration": 306,
    "start_time": "2022-08-28T10:51:40.810Z"
   },
   {
    "duration": 227,
    "start_time": "2022-08-28T10:51:41.118Z"
   },
   {
    "duration": 205,
    "start_time": "2022-08-28T10:51:41.346Z"
   },
   {
    "duration": 192,
    "start_time": "2022-08-28T10:51:41.553Z"
   },
   {
    "duration": 205,
    "start_time": "2022-08-28T10:51:41.746Z"
   },
   {
    "duration": 14,
    "start_time": "2022-08-28T10:51:42.005Z"
   },
   {
    "duration": 5,
    "start_time": "2022-08-28T10:51:42.021Z"
   },
   {
    "duration": 13,
    "start_time": "2022-08-28T10:51:42.028Z"
   },
   {
    "duration": 6,
    "start_time": "2022-08-28T10:51:42.043Z"
   },
   {
    "duration": 7,
    "start_time": "2022-08-28T10:51:42.108Z"
   },
   {
    "duration": 8,
    "start_time": "2022-08-28T10:51:42.116Z"
   },
   {
    "duration": 491,
    "start_time": "2022-08-28T10:51:42.125Z"
   },
   {
    "duration": 66955,
    "start_time": "2022-08-28T10:51:42.618Z"
   },
   {
    "duration": 531,
    "start_time": "2022-08-28T10:52:49.575Z"
   },
   {
    "duration": 508,
    "start_time": "2022-08-28T10:52:50.108Z"
   },
   {
    "duration": 3,
    "start_time": "2022-08-28T10:52:50.619Z"
   },
   {
    "duration": 24,
    "start_time": "2022-08-28T10:52:50.625Z"
   },
   {
    "duration": 33,
    "start_time": "2022-08-28T10:52:50.651Z"
   },
   {
    "duration": 392,
    "start_time": "2022-08-28T10:52:50.686Z"
   },
   {
    "duration": 64264,
    "start_time": "2022-08-28T10:52:51.080Z"
   },
   {
    "duration": 41,
    "start_time": "2022-08-28T10:53:55.346Z"
   },
   {
    "duration": 260,
    "start_time": "2022-08-28T10:53:55.388Z"
   },
   {
    "duration": 57,
    "start_time": "2022-08-29T07:03:56.758Z"
   },
   {
    "duration": 2316,
    "start_time": "2022-08-29T07:04:00.718Z"
   },
   {
    "duration": 205,
    "start_time": "2022-08-29T07:04:03.036Z"
   },
   {
    "duration": 59,
    "start_time": "2022-08-29T07:04:03.243Z"
   },
   {
    "duration": 5,
    "start_time": "2022-08-29T07:04:03.304Z"
   },
   {
    "duration": 5,
    "start_time": "2022-08-29T07:04:03.311Z"
   },
   {
    "duration": 583,
    "start_time": "2022-08-29T07:04:03.318Z"
   },
   {
    "duration": 396,
    "start_time": "2022-08-29T07:04:03.903Z"
   },
   {
    "duration": 477,
    "start_time": "2022-08-29T07:04:04.300Z"
   },
   {
    "duration": 422,
    "start_time": "2022-08-29T07:04:04.779Z"
   },
   {
    "duration": 17,
    "start_time": "2022-08-29T07:04:05.203Z"
   },
   {
    "duration": 15,
    "start_time": "2022-08-29T07:04:05.223Z"
   },
   {
    "duration": 5,
    "start_time": "2022-08-29T07:04:05.240Z"
   },
   {
    "duration": 170,
    "start_time": "2022-08-29T07:04:05.247Z"
   },
   {
    "duration": 135,
    "start_time": "2022-08-29T07:04:05.421Z"
   },
   {
    "duration": 209,
    "start_time": "2022-08-29T07:04:05.558Z"
   },
   {
    "duration": 138,
    "start_time": "2022-08-29T07:04:05.769Z"
   },
   {
    "duration": 136,
    "start_time": "2022-08-29T07:04:05.909Z"
   },
   {
    "duration": 129,
    "start_time": "2022-08-29T07:04:06.047Z"
   },
   {
    "duration": 146,
    "start_time": "2022-08-29T07:04:06.178Z"
   },
   {
    "duration": 12,
    "start_time": "2022-08-29T07:04:06.327Z"
   },
   {
    "duration": 6,
    "start_time": "2022-08-29T07:04:06.341Z"
   },
   {
    "duration": 15,
    "start_time": "2022-08-29T07:04:06.349Z"
   },
   {
    "duration": 29,
    "start_time": "2022-08-29T07:04:06.366Z"
   },
   {
    "duration": 11,
    "start_time": "2022-08-29T07:04:06.397Z"
   },
   {
    "duration": 5,
    "start_time": "2022-08-29T07:04:06.411Z"
   },
   {
    "duration": 481,
    "start_time": "2022-08-29T07:04:06.418Z"
   },
   {
    "duration": 134,
    "start_time": "2022-08-29T07:04:06.902Z"
   },
   {
    "duration": 0,
    "start_time": "2022-08-29T07:04:07.038Z"
   },
   {
    "duration": 0,
    "start_time": "2022-08-29T07:04:07.039Z"
   },
   {
    "duration": 0,
    "start_time": "2022-08-29T07:04:07.040Z"
   },
   {
    "duration": 0,
    "start_time": "2022-08-29T07:04:07.041Z"
   },
   {
    "duration": 0,
    "start_time": "2022-08-29T07:04:07.042Z"
   },
   {
    "duration": 0,
    "start_time": "2022-08-29T07:04:07.043Z"
   },
   {
    "duration": 0,
    "start_time": "2022-08-29T07:04:07.044Z"
   },
   {
    "duration": 0,
    "start_time": "2022-08-29T07:04:07.046Z"
   },
   {
    "duration": 0,
    "start_time": "2022-08-29T07:04:07.046Z"
   },
   {
    "duration": 0,
    "start_time": "2022-08-29T07:04:42.463Z"
   },
   {
    "duration": 0,
    "start_time": "2022-08-29T07:04:42.464Z"
   },
   {
    "duration": 0,
    "start_time": "2022-08-29T07:04:42.466Z"
   },
   {
    "duration": 0,
    "start_time": "2022-08-29T07:04:42.468Z"
   },
   {
    "duration": 0,
    "start_time": "2022-08-29T07:04:42.469Z"
   },
   {
    "duration": 0,
    "start_time": "2022-08-29T07:04:42.470Z"
   },
   {
    "duration": 0,
    "start_time": "2022-08-29T07:04:42.471Z"
   },
   {
    "duration": 0,
    "start_time": "2022-08-29T07:04:42.472Z"
   },
   {
    "duration": 0,
    "start_time": "2022-08-29T07:04:42.492Z"
   },
   {
    "duration": 0,
    "start_time": "2022-08-29T07:04:42.493Z"
   },
   {
    "duration": 0,
    "start_time": "2022-08-29T07:04:42.494Z"
   },
   {
    "duration": 0,
    "start_time": "2022-08-29T07:04:42.496Z"
   },
   {
    "duration": 0,
    "start_time": "2022-08-29T07:04:42.497Z"
   },
   {
    "duration": 0,
    "start_time": "2022-08-29T07:04:42.498Z"
   },
   {
    "duration": 0,
    "start_time": "2022-08-29T07:04:42.499Z"
   },
   {
    "duration": 0,
    "start_time": "2022-08-29T07:04:42.500Z"
   },
   {
    "duration": 0,
    "start_time": "2022-08-29T07:04:42.501Z"
   },
   {
    "duration": 0,
    "start_time": "2022-08-29T07:04:42.503Z"
   },
   {
    "duration": 0,
    "start_time": "2022-08-29T07:04:42.503Z"
   },
   {
    "duration": 0,
    "start_time": "2022-08-29T07:04:42.505Z"
   },
   {
    "duration": 0,
    "start_time": "2022-08-29T07:04:42.506Z"
   },
   {
    "duration": 0,
    "start_time": "2022-08-29T07:04:42.507Z"
   },
   {
    "duration": 0,
    "start_time": "2022-08-29T07:04:42.508Z"
   },
   {
    "duration": 0,
    "start_time": "2022-08-29T07:04:42.509Z"
   },
   {
    "duration": 0,
    "start_time": "2022-08-29T07:04:42.510Z"
   },
   {
    "duration": 0,
    "start_time": "2022-08-29T07:04:42.511Z"
   },
   {
    "duration": 0,
    "start_time": "2022-08-29T07:04:42.512Z"
   },
   {
    "duration": 0,
    "start_time": "2022-08-29T07:04:42.514Z"
   },
   {
    "duration": 0,
    "start_time": "2022-08-29T07:04:42.515Z"
   },
   {
    "duration": 0,
    "start_time": "2022-08-29T07:04:42.516Z"
   },
   {
    "duration": 0,
    "start_time": "2022-08-29T07:04:42.517Z"
   },
   {
    "duration": 0,
    "start_time": "2022-08-29T07:04:42.518Z"
   },
   {
    "duration": 0,
    "start_time": "2022-08-29T07:04:42.519Z"
   },
   {
    "duration": 0,
    "start_time": "2022-08-29T07:04:42.520Z"
   },
   {
    "duration": 0,
    "start_time": "2022-08-29T07:04:42.521Z"
   },
   {
    "duration": 0,
    "start_time": "2022-08-29T07:04:42.522Z"
   },
   {
    "duration": 4,
    "start_time": "2022-08-29T07:04:44.698Z"
   },
   {
    "duration": 78,
    "start_time": "2022-08-29T07:04:44.704Z"
   },
   {
    "duration": 14,
    "start_time": "2022-08-29T07:04:44.784Z"
   },
   {
    "duration": 4,
    "start_time": "2022-08-29T07:04:44.801Z"
   },
   {
    "duration": 7,
    "start_time": "2022-08-29T07:04:44.807Z"
   },
   {
    "duration": 497,
    "start_time": "2022-08-29T07:04:44.816Z"
   },
   {
    "duration": 390,
    "start_time": "2022-08-29T07:04:45.315Z"
   },
   {
    "duration": 359,
    "start_time": "2022-08-29T07:04:45.707Z"
   },
   {
    "duration": 389,
    "start_time": "2022-08-29T07:04:46.069Z"
   },
   {
    "duration": 16,
    "start_time": "2022-08-29T07:04:46.460Z"
   },
   {
    "duration": 25,
    "start_time": "2022-08-29T07:04:46.478Z"
   },
   {
    "duration": 8,
    "start_time": "2022-08-29T07:04:46.505Z"
   },
   {
    "duration": 141,
    "start_time": "2022-08-29T07:04:46.515Z"
   },
   {
    "duration": 124,
    "start_time": "2022-08-29T07:04:46.658Z"
   },
   {
    "duration": 249,
    "start_time": "2022-08-29T07:04:46.784Z"
   },
   {
    "duration": 131,
    "start_time": "2022-08-29T07:04:47.035Z"
   },
   {
    "duration": 225,
    "start_time": "2022-08-29T07:04:47.168Z"
   },
   {
    "duration": 121,
    "start_time": "2022-08-29T07:04:47.395Z"
   },
   {
    "duration": 320,
    "start_time": "2022-08-29T07:04:47.518Z"
   },
   {
    "duration": 12,
    "start_time": "2022-08-29T07:04:47.892Z"
   },
   {
    "duration": 6,
    "start_time": "2022-08-29T07:04:47.906Z"
   },
   {
    "duration": 12,
    "start_time": "2022-08-29T07:04:47.914Z"
   },
   {
    "duration": 5,
    "start_time": "2022-08-29T07:04:47.928Z"
   },
   {
    "duration": 11,
    "start_time": "2022-08-29T07:04:47.994Z"
   },
   {
    "duration": 12,
    "start_time": "2022-08-29T07:04:48.007Z"
   },
   {
    "duration": 911,
    "start_time": "2022-08-29T07:04:48.021Z"
   },
   {
    "duration": 81673,
    "start_time": "2022-08-29T07:04:48.934Z"
   },
   {
    "duration": 391,
    "start_time": "2022-08-29T07:06:10.610Z"
   },
   {
    "duration": 576,
    "start_time": "2022-08-29T07:06:11.004Z"
   },
   {
    "duration": 11,
    "start_time": "2022-08-29T07:06:11.582Z"
   },
   {
    "duration": 6,
    "start_time": "2022-08-29T07:06:11.595Z"
   },
   {
    "duration": 23,
    "start_time": "2022-08-29T07:06:11.603Z"
   },
   {
    "duration": 535,
    "start_time": "2022-08-29T07:06:11.628Z"
   },
   {
    "duration": 81975,
    "start_time": "2022-08-29T07:06:12.166Z"
   },
   {
    "duration": 64,
    "start_time": "2022-08-29T07:07:34.143Z"
   },
   {
    "duration": 352,
    "start_time": "2022-08-29T07:07:34.209Z"
   },
   {
    "duration": 359,
    "start_time": "2022-08-29T07:08:17.871Z"
   },
   {
    "duration": 410,
    "start_time": "2022-08-29T07:09:53.341Z"
   },
   {
    "duration": 382,
    "start_time": "2022-08-29T07:18:00.112Z"
   },
   {
    "duration": 311,
    "start_time": "2022-08-29T07:18:04.628Z"
   },
   {
    "duration": 114,
    "start_time": "2022-08-29T07:22:11.859Z"
   },
   {
    "duration": 322,
    "start_time": "2022-08-29T07:22:32.715Z"
   },
   {
    "duration": 356,
    "start_time": "2022-08-29T07:22:56.163Z"
   }
  ],
  "kernelspec": {
   "display_name": "Python 3 (ipykernel)",
   "language": "python",
   "name": "python3"
  },
  "language_info": {
   "codemirror_mode": {
    "name": "ipython",
    "version": 3
   },
   "file_extension": ".py",
   "mimetype": "text/x-python",
   "name": "python",
   "nbconvert_exporter": "python",
   "pygments_lexer": "ipython3",
   "version": "3.9.5"
  },
  "toc": {
   "base_numbering": 1,
   "nav_menu": {},
   "number_sections": true,
   "sideBar": true,
   "skip_h1_title": true,
   "title_cell": "Содержание",
   "title_sidebar": "Contents",
   "toc_cell": true,
   "toc_position": {
    "height": "calc(100% - 180px)",
    "left": "10px",
    "top": "150px",
    "width": "239px"
   },
   "toc_section_display": true,
   "toc_window_display": true
  }
 },
 "nbformat": 4,
 "nbformat_minor": 2
}
